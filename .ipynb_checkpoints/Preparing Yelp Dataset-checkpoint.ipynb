{
 "cells": [
  {
   "cell_type": "markdown",
   "metadata": {},
   "source": [
    "The purpose of this notebook is to prepare the Yelp Dataset for classification task and demostration of text analytics"
   ]
  },
  {
   "cell_type": "code",
   "execution_count": 34,
   "metadata": {
    "collapsed": true
   },
   "outputs": [],
   "source": [
    "# import libraries\n",
    "import ast\n",
    "import os\n",
    "\n",
    "import glob\n",
    "import numpy as np\n",
    "import pandas as pd"
   ]
  },
  {
   "cell_type": "code",
   "execution_count": 2,
   "metadata": {
    "collapsed": false
   },
   "outputs": [
    {
     "name": "stdout",
     "output_type": "stream",
     "text": [
      "['data\\\\Yelp\\\\yelp_academic_dataset_business.csv', 'data\\\\Yelp\\\\yelp_academic_dataset_review.csv']\n"
     ]
    }
   ],
   "source": [
    "yelp_dir = 'data\\Yelp' # data is stored in this directory\n",
    "filenames = glob.glob(os.path.join(yelp_dir, 'yelp_academic_dataset*.csv'))\n",
    "print filenames"
   ]
  },
  {
   "cell_type": "code",
   "execution_count": 3,
   "metadata": {
    "collapsed": false
   },
   "outputs": [
    {
     "name": "stderr",
     "output_type": "stream",
     "text": [
      "C:\\Anaconda2\\Lib\\site-packages\\IPython\\core\\interactiveshell.py:2723: DtypeWarning: Columns (1,4,7,17,26,29,49,60,62,79,86,94) have mixed types. Specify dtype option on import or set low_memory=False.\n",
      "  interactivity=interactivity, compiler=compiler, result=result)\n"
     ]
    },
    {
     "name": "stdout",
     "output_type": "stream",
     "text": [
      "  attributes.Ambience.divey attributes.Dietary Restrictions.vegan  \\\n",
      "0                     False                                   NaN   \n",
      "1                       NaN                                   NaN   \n",
      "2                       NaN                                   NaN   \n",
      "3                      True                                   NaN   \n",
      "4                       NaN                                   NaN   \n",
      "\n",
      "  attributes.Happy Hour hours.Thursday.open attributes.Order at Counter  \\\n",
      "0                   NaN               11:00                         NaN   \n",
      "1                  True                 NaN                         NaN   \n",
      "2                   NaN                 NaN                         NaN   \n",
      "3                 False               10:00                         NaN   \n",
      "4                   NaN               11:00                         NaN   \n",
      "\n",
      "  attributes.Hair Types Specialized In.africanamerican  \\\n",
      "0                                                NaN     \n",
      "1                                                NaN     \n",
      "2                                                NaN     \n",
      "3                                                NaN     \n",
      "4                                                NaN     \n",
      "\n",
      "  attributes.Hair Types Specialized In.kids attributes.BYOB hours.Friday.open  \\\n",
      "0                                       NaN             NaN             11:00   \n",
      "1                                       NaN             NaN               NaN   \n",
      "2                                       NaN             NaN               NaN   \n",
      "3                                       NaN             NaN             10:00   \n",
      "4                                       NaN             NaN             11:00   \n",
      "\n",
      "  attributes.Good For.latenight             ...              \\\n",
      "0                         False             ...               \n",
      "1                           NaN             ...               \n",
      "2                           NaN             ...               \n",
      "3                         False             ...               \n",
      "4                           NaN             ...               \n",
      "\n",
      "  attributes.Noise Level attributes.Smoking attributes.Attire  \\\n",
      "0                average                NaN            casual   \n",
      "1                    NaN                NaN               NaN   \n",
      "2                    NaN                NaN               NaN   \n",
      "3                average                 no            casual   \n",
      "4                    NaN                NaN               NaN   \n",
      "\n",
      "  attributes.Hair Types Specialized In.curly attributes.Good For Groups  \\\n",
      "0                                        NaN                       True   \n",
      "1                                        NaN                       True   \n",
      "2                                        NaN                        NaN   \n",
      "3                                        NaN                       True   \n",
      "4                                        NaN                       True   \n",
      "\n",
      "  neighborhoods attributes.Open 24 Hours attributes.Ambience.romantic  \\\n",
      "0            []                      NaN                        False   \n",
      "1            []                      NaN                          NaN   \n",
      "2            []                      NaN                          NaN   \n",
      "3            []                      NaN                        False   \n",
      "4            []                      NaN                          NaN   \n",
      "\n",
      "  attributes.Music.jukebox attributes.Ambience.upscale  \n",
      "0                      NaN                       False  \n",
      "1                      NaN                         NaN  \n",
      "2                      NaN                         NaN  \n",
      "3                      NaN                       False  \n",
      "4                      NaN                         NaN  \n",
      "\n",
      "[5 rows x 98 columns]\n",
      "                  user_id               review_id  \\\n",
      "0  PUFPaY9KxDAcGqfsorJp3Q  Ya85v4eqdd6k9Od8HbQjyA   \n",
      "1  Iu6AxdBYGR4A0wspR9BYHA  KPvLNJ21_4wbYNctrOwWdQ   \n",
      "2  auESFwWvW42h6alXgFxAXQ  fFSoGV46Yxuwbr3fHNuZig   \n",
      "3  qiczib2fO_1VBG8IoCGvVg  pVMIt0a_QsKtuDfWVfSk2A   \n",
      "4  qEE5EvV-f-s7yHC0Z4ydJQ  AEyiQ_Y44isJmNbMTyoMKQ   \n",
      "\n",
      "                                                text  votes.cool  \\\n",
      "0  Mr Hoagie is an institution. Walking in, it do...           0   \n",
      "1  Excellent food. Superb customer service. I mis...           0   \n",
      "2  Yes this place is a little out dated and not o...           0   \n",
      "3  PROS: Italian hoagie was delicious.  Friendly ...           0   \n",
      "4  First the only reason this place could possibl...           0   \n",
      "\n",
      "              business_id  votes.funny  stars        date    type  \\\n",
      "0  5UmKMjUEUNdYWqANhGckJw            0      4  2012-08-01  review   \n",
      "1  5UmKMjUEUNdYWqANhGckJw            0      5  2014-02-13  review   \n",
      "2  5UmKMjUEUNdYWqANhGckJw            1      5  2015-10-31  review   \n",
      "3  5UmKMjUEUNdYWqANhGckJw            0      3  2015-12-26  review   \n",
      "4  5UmKMjUEUNdYWqANhGckJw            0      2  2016-04-08  review   \n",
      "\n",
      "   votes.useful  \n",
      "0             0  \n",
      "1             0  \n",
      "2             1  \n",
      "3             0  \n",
      "4             1  \n"
     ]
    }
   ],
   "source": [
    "# convert only the business dataset and the review dataset to DataFrame\n",
    "business = pd.read_csv(filenames[0])\n",
    "reviews = pd.read_csv(filenames[1])\n",
    "\n",
    "# Preview the DF\n",
    "print business.head()\n",
    "print reviews.head()"
   ]
  },
  {
   "cell_type": "markdown",
   "metadata": {},
   "source": [
    "Merge the review data and the business data by 'business_id' by left out join."
   ]
  },
  {
   "cell_type": "code",
   "execution_count": 4,
   "metadata": {
    "collapsed": false
   },
   "outputs": [
    {
     "data": {
      "text/plain": [
       "array(['user_id', 'review_id', 'text', 'votes.cool', 'business_id',\n",
       "       'votes.funny', 'stars_x', 'date', 'type_x', 'votes.useful',\n",
       "       'attributes.Ambience.divey',\n",
       "       'attributes.Dietary Restrictions.vegan', 'attributes.Happy Hour',\n",
       "       'hours.Thursday.open', 'attributes.Order at Counter',\n",
       "       'attributes.Hair Types Specialized In.africanamerican',\n",
       "       'attributes.Hair Types Specialized In.kids', 'attributes.BYOB',\n",
       "       'hours.Friday.open', 'attributes.Good For.latenight',\n",
       "       'attributes.Outdoor Seating', 'attributes.Alcohol',\n",
       "       'attributes.Ambience.classy', 'attributes.By Appointment Only',\n",
       "       'attributes.Parking.lot', 'attributes.Ambience.touristy',\n",
       "       'attributes.Corkage', 'hours.Tuesday.open',\n",
       "       'attributes.Good For.brunch', 'categories',\n",
       "       'attributes.Waiter Service', 'hours.Monday.open', 'name',\n",
       "       'attributes.Parking.street', 'attributes.Ambience.hipster',\n",
       "       'attributes.BYOB/Corkage',\n",
       "       'attributes.Hair Types Specialized In.straightperms',\n",
       "       'attributes.Music.live',\n",
       "       'attributes.Dietary Restrictions.dairy-free',\n",
       "       'attributes.Music.background_music', 'attributes.Price Range',\n",
       "       'attributes.Good For.breakfast', 'attributes.Parking.garage',\n",
       "       'attributes.Music.karaoke', 'attributes.Good For Dancing',\n",
       "       'review_count', 'attributes.Hair Types Specialized In.asian',\n",
       "       'state', 'attributes.Accepts Credit Cards', 'hours.Friday.close',\n",
       "       'attributes.Good For.lunch', 'attributes.Parking.valet',\n",
       "       'attributes.Take-out', 'full_address', 'hours.Thursday.close',\n",
       "       'attributes.Hair Types Specialized In.coloring',\n",
       "       'attributes.Good For.dessert', 'attributes.Music.video',\n",
       "       'attributes.Dietary Restrictions.halal',\n",
       "       'attributes.Takes Reservations', 'hours.Saturday.open',\n",
       "       'attributes.Ages Allowed', 'attributes.Ambience.trendy',\n",
       "       'attributes.Delivery', 'hours.Wednesday.close', 'attributes.Wi-Fi',\n",
       "       'open', 'city', 'attributes.Wheelchair Accessible',\n",
       "       'attributes.Dietary Restrictions.gluten-free', 'stars_y',\n",
       "       'attributes.Dietary Restrictions.kosher', 'type_y',\n",
       "       'attributes.Caters', 'attributes.Ambience.intimate', 'latitude',\n",
       "       'attributes.Good For.dinner', 'attributes.Coat Check', 'longitude',\n",
       "       'hours.Monday.close',\n",
       "       'attributes.Hair Types Specialized In.extensions',\n",
       "       'hours.Tuesday.close', 'hours.Saturday.close',\n",
       "       'attributes.Good for Kids', 'attributes.Parking.validated',\n",
       "       'hours.Sunday.open', 'attributes.Accepts Insurance',\n",
       "       'attributes.Music.dj', 'attributes.Dietary Restrictions.soy-free',\n",
       "       'attributes.Has TV', 'hours.Sunday.close',\n",
       "       'attributes.Ambience.casual',\n",
       "       'attributes.Hair Types Specialized In.perms',\n",
       "       'attributes.Dogs Allowed', 'attributes.Drive-Thru',\n",
       "       'attributes.Dietary Restrictions.vegetarian',\n",
       "       'hours.Wednesday.open', 'attributes.Noise Level',\n",
       "       'attributes.Smoking', 'attributes.Attire',\n",
       "       'attributes.Hair Types Specialized In.curly',\n",
       "       'attributes.Good For Groups', 'neighborhoods',\n",
       "       'attributes.Open 24 Hours', 'attributes.Ambience.romantic',\n",
       "       'attributes.Music.jukebox', 'attributes.Ambience.upscale'], dtype=object)"
      ]
     },
     "execution_count": 4,
     "metadata": {},
     "output_type": "execute_result"
    }
   ],
   "source": [
    "reviews_merge = pd.merge(reviews, business, how='left', on=['business_id'])\n",
    "\n",
    "# look at all the column names in the merged df.\n",
    "reviews_merge.columns.values"
   ]
  },
  {
   "cell_type": "code",
   "execution_count": 5,
   "metadata": {
    "collapsed": false
   },
   "outputs": [
    {
     "name": "stdout",
     "output_type": "stream",
     "text": [
      "                     categories  \\\n",
      "0  ['Fast Food', 'Restaurants']   \n",
      "1  ['Fast Food', 'Restaurants']   \n",
      "2  ['Fast Food', 'Restaurants']   \n",
      "3  ['Fast Food', 'Restaurants']   \n",
      "4  ['Fast Food', 'Restaurants']   \n",
      "\n",
      "                                                text  stars_x  \n",
      "0  Mr Hoagie is an institution. Walking in, it do...        4  \n",
      "1  Excellent food. Superb customer service. I mis...        5  \n",
      "2  Yes this place is a little out dated and not o...        5  \n",
      "3  PROS: Italian hoagie was delicious.  Friendly ...        3  \n",
      "4  First the only reason this place could possibl...        2  \n"
     ]
    }
   ],
   "source": [
    "# keep these columns\n",
    "colnames = ['categories', 'text', 'stars_x']\n",
    "\n",
    "output_df = reviews_merge[colnames]\n",
    "print output_df.head()"
   ]
  },
  {
   "cell_type": "code",
   "execution_count": 6,
   "metadata": {
    "collapsed": false
   },
   "outputs": [
    {
     "name": "stdout",
     "output_type": "stream",
     "text": [
      "(2685066, 3)\n",
      "                     categories  \\\n",
      "0  ['Fast Food', 'Restaurants']   \n",
      "1  ['Fast Food', 'Restaurants']   \n",
      "2  ['Fast Food', 'Restaurants']   \n",
      "3  ['Fast Food', 'Restaurants']   \n",
      "4  ['Fast Food', 'Restaurants']   \n",
      "\n",
      "                                                text  stars  \n",
      "0  Mr Hoagie is an institution. Walking in, it do...      4  \n",
      "1  Excellent food. Superb customer service. I mis...      5  \n",
      "2  Yes this place is a little out dated and not o...      5  \n",
      "3  PROS: Italian hoagie was delicious.  Friendly ...      3  \n",
      "4  First the only reason this place could possibl...      2  \n"
     ]
    }
   ],
   "source": [
    "# Change the column name for 'stars_x' to 'star'.\n",
    "output_df = output_df.rename(columns=({ 'stars_x' : 'stars'}))\n",
    "\n",
    "# See how many reviews are there\n",
    "print output_df.shape"
   ]
  },
  {
   "cell_type": "markdown",
   "metadata": {},
   "source": [
    "The categories of the business is actually a string that has a _list_ structure."
   ]
  },
  {
   "cell_type": "code",
   "execution_count": 7,
   "metadata": {
    "collapsed": false
   },
   "outputs": [
    {
     "name": "stdout",
     "output_type": "stream",
     "text": [
      "11001 unique categories\n"
     ]
    }
   ],
   "source": [
    "# Number of categories in the dataset.\n",
    "print len(output_df.categories.unique()), 'unique categories'"
   ]
  },
  {
   "cell_type": "markdown",
   "metadata": {},
   "source": [
    "Because some reviews can be labeled with multiple categories, this makes review categorization hard. Hence, in the next code chunks, I am finding the number of categories a review belongs to, followed by filtering the output to contain only reviews with 1 business category"
   ]
  },
  {
   "cell_type": "code",
   "execution_count": 8,
   "metadata": {
    "collapsed": false
   },
   "outputs": [
    {
     "data": {
      "text/html": [
       "<div>\n",
       "<table border=\"1\" class=\"dataframe\">\n",
       "  <thead>\n",
       "    <tr style=\"text-align: right;\">\n",
       "      <th></th>\n",
       "      <th>categories</th>\n",
       "      <th>text</th>\n",
       "      <th>stars</th>\n",
       "      <th>num_cat</th>\n",
       "    </tr>\n",
       "  </thead>\n",
       "  <tbody>\n",
       "    <tr>\n",
       "      <th>0</th>\n",
       "      <td>['Fast Food', 'Restaurants']</td>\n",
       "      <td>Mr Hoagie is an institution. Walking in, it do...</td>\n",
       "      <td>4</td>\n",
       "      <td>2</td>\n",
       "    </tr>\n",
       "    <tr>\n",
       "      <th>1</th>\n",
       "      <td>['Fast Food', 'Restaurants']</td>\n",
       "      <td>Excellent food. Superb customer service. I mis...</td>\n",
       "      <td>5</td>\n",
       "      <td>2</td>\n",
       "    </tr>\n",
       "    <tr>\n",
       "      <th>2</th>\n",
       "      <td>['Fast Food', 'Restaurants']</td>\n",
       "      <td>Yes this place is a little out dated and not o...</td>\n",
       "      <td>5</td>\n",
       "      <td>2</td>\n",
       "    </tr>\n",
       "    <tr>\n",
       "      <th>3</th>\n",
       "      <td>['Fast Food', 'Restaurants']</td>\n",
       "      <td>PROS: Italian hoagie was delicious.  Friendly ...</td>\n",
       "      <td>3</td>\n",
       "      <td>2</td>\n",
       "    </tr>\n",
       "    <tr>\n",
       "      <th>4</th>\n",
       "      <td>['Fast Food', 'Restaurants']</td>\n",
       "      <td>First the only reason this place could possibl...</td>\n",
       "      <td>2</td>\n",
       "      <td>2</td>\n",
       "    </tr>\n",
       "  </tbody>\n",
       "</table>\n",
       "</div>"
      ],
      "text/plain": [
       "                     categories  \\\n",
       "0  ['Fast Food', 'Restaurants']   \n",
       "1  ['Fast Food', 'Restaurants']   \n",
       "2  ['Fast Food', 'Restaurants']   \n",
       "3  ['Fast Food', 'Restaurants']   \n",
       "4  ['Fast Food', 'Restaurants']   \n",
       "\n",
       "                                                text  stars  num_cat  \n",
       "0  Mr Hoagie is an institution. Walking in, it do...      4        2  \n",
       "1  Excellent food. Superb customer service. I mis...      5        2  \n",
       "2  Yes this place is a little out dated and not o...      5        2  \n",
       "3  PROS: Italian hoagie was delicious.  Friendly ...      3        2  \n",
       "4  First the only reason this place could possibl...      2        2  "
      ]
     },
     "execution_count": 8,
     "metadata": {},
     "output_type": "execute_result"
    }
   ],
   "source": [
    "# convert the categories from string to a list and find the number of categories associated with that review.\n",
    "def len_in_pseudo_list(string):\n",
    "    myList = ast.literal_eval(string)\n",
    "    return len(myList)\n",
    "\n",
    "# the number of categories associated with each review is recorded in the 'num_cat' column.\n",
    "output_df['num_cat'] = output_df.categories.apply(len_in_pseudo_list)\n",
    "output_df.head()"
   ]
  },
  {
   "cell_type": "code",
   "execution_count": 22,
   "metadata": {
    "collapsed": false
   },
   "outputs": [
    {
     "name": "stdout",
     "output_type": "stream",
     "text": [
      "(7704, 4)\n",
      "21\n"
     ]
    }
   ],
   "source": [
    "# Only want reviews on businesses associated with a category.\n",
    "only_1_cat = output_df[output_df.num_cat==1]\n",
    "\n",
    "# what is the size of the resulting DF?\n",
    "print only_1_cat.shape\n",
    "\n",
    "# how many categories are there now?\n",
    "print len(only_1_cat.categories.unique())"
   ]
  },
  {
   "cell_type": "markdown",
   "metadata": {},
   "source": [
    "Number of unique categories has reduced to 21.\n",
    "\n",
    "How many reviews are there in each categories?"
   ]
  },
  {
   "cell_type": "code",
   "execution_count": 23,
   "metadata": {
    "collapsed": false
   },
   "outputs": [
    {
     "name": "stdout",
     "output_type": "stream",
     "text": [
      "categories\n",
      "['Restaurants']                     1919\n",
      "['Local Flavor']                    1398\n",
      "['Arts & Entertainment']             670\n",
      "['Public Services & Government']     666\n",
      "['Nightlife']                        526\n",
      "['Shopping']                         510\n",
      "['Food']                             336\n",
      "['Active Life']                      299\n",
      "['Local Services']                   271\n",
      "['Professional Services']            213\n",
      "['Health & Medical']                 139\n",
      "['Beauty & Spas']                    137\n",
      "['Hotels & Travel']                  136\n",
      "['Event Planning & Services']         99\n",
      "['Automotive']                        91\n",
      "['Religious Organizations']           78\n",
      "['Home Services']                     76\n",
      "['Pets']                              65\n",
      "['Financial Services']                43\n",
      "['Education']                         17\n",
      "['Mass Media']                        15\n",
      "dtype: int64\n"
     ]
    }
   ],
   "source": [
    "# number of reviews in each category\n",
    "cat_grp = only_1_cat.groupby(['categories'])\n",
    "num_reviews_per_cat = cat_grp.size()\n",
    "print num_reviews_per_cat.sort_values(ascending=False) # arrange from largest number of reviews to least."
   ]
  },
  {
   "cell_type": "code",
   "execution_count": 24,
   "metadata": {
    "collapsed": false
   },
   "outputs": [
    {
     "name": "stdout",
     "output_type": "stream",
     "text": [
      "   categories                                               text  stars  \\\n",
      "7   Nightlife  All the food is great here. But the best thing...      5   \n",
      "8   Nightlife  We checked this place out this past Monday for...      3   \n",
      "9   Nightlife  Wing sauce is like water. Pretty much a lot of...      1   \n",
      "10  Nightlife  Cold cheap beer. Good bar food. Good service. ...      4   \n",
      "11  Nightlife  Possibly the most overhyped establishment in A...      2   \n",
      "\n",
      "    num_cat  \n",
      "7         1  \n",
      "8         1  \n",
      "9         1  \n",
      "10        1  \n",
      "11        1  \n",
      "['Restaurants', 'Local Flavor', 'Arts & Entertainment', 'Public Services & Government']\n"
     ]
    }
   ],
   "source": [
    "# Extract the categories of the business with 1 category.\n",
    "def cat_string(string):\n",
    "    return ast.literal_eval(string)[0]\n",
    "only_1_cat.categories = np.array(only_1_cat.categories.apply(cat_string))\n",
    "print only_1_cat.head()\n",
    "\n",
    "# what are the categories where the number of reviews is > 600 counts?\n",
    "categories_by_ct = num_reviews_per_cat.sort_values(ascending=False)\n",
    "wanted_cat = categories_by_ct[categories_by_ct.values > 600].index # the categories are still list in string format\n",
    "wanted_cat = map(cat_string, wanted_cat) # convert those strings to list, followed by \n",
    "                                         # extracting the category contained in the string.\n",
    "print wanted_cat"
   ]
  },
  {
   "cell_type": "code",
   "execution_count": 29,
   "metadata": {
    "collapsed": false
   },
   "outputs": [],
   "source": [
    "# filter the data to those categories with > 600 reviews.\n",
    "filtered_df = only_1_cat[only_1_cat.categories.apply(lambda x: x in wanted_cat)]\n",
    "# remove the 'num_cat' column.\n",
    "filtered_df = filtered_df.drop('num_cat', axis=1)\n",
    "# output filename\n",
    "output_filename = os.path.join(yelp_dir, 'review_with_single_cat.csv')\n",
    "# output the df as csv\n",
    "filtered_df.to_csv(output_filename, index=False)"
   ]
  }
 ],
 "metadata": {
  "kernelspec": {
   "display_name": "Python [Root]",
   "language": "python",
   "name": "Python [Root]"
  },
  "language_info": {
   "codemirror_mode": {
    "name": "ipython",
    "version": 2
   },
   "file_extension": ".py",
   "mimetype": "text/x-python",
   "name": "python",
   "nbconvert_exporter": "python",
   "pygments_lexer": "ipython2",
   "version": "2.7.13"
  }
 },
 "nbformat": 4,
 "nbformat_minor": 0
}
