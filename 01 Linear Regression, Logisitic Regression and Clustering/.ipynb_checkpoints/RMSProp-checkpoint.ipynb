{
 "cells": [
  {
   "cell_type": "markdown",
   "metadata": {},
   "source": [
    "Source:\n",
    "\n",
    "* http://climin.readthedocs.io/en/latest/rmsprop.html\n",
    "\n",
    "RmsProp \"is an optimizer that utilizes the magnitude of recent gradients to normalize the graidents.\n",
    "\n",
    "* keep a moving average over the root mean squared"
   ]
  },
  {
   "cell_type": "markdown",
   "metadata": {},
   "source": [
    "moving average ms, $r_t = (1-\\gamma) f'(\\theta_t)^2 + \\gamma r_{t-1}$"
   ]
  },
  {
   "cell_type": "markdown",
   "metadata": {},
   "source": [
    "velocity, $v_{t+1} = \\frac{\\alpha}{\\sqrt{r_t}} f'(\\theta_t)$ --> dividing the learning rate by the root of the weighted mean square.\n",
    "\n",
    "then update the parameter by the velocity\n",
    "\n",
    "$\\theta_{t+1} = \\theta_t - v_{t+1}$\n",
    "\n",
    "Putting it all together:\n",
    "\n",
    "$\\theta_{t+1} = \\theta_{t} - \\frac{\\alpha}{\\sqrt{weighted mean square}}*f'(\\theta_t)$\n",
    "\n",
    "while the norrmal gradient descent update rule is:\n",
    "\n",
    "$\\theta_{t+1} = \\theta_{t+1} - \\alpha f'(\\theta_{t})$"
   ]
  },
  {
   "cell_type": "markdown",
   "metadata": {},
   "source": [
    "Sometimes, a momentum term is added.\n",
    "\n",
    "$\\theta_{t+\\frac{1}{2}} = \\theta_t - \\beta v_t$\n",
    "\n",
    "$r_t = (1-\\gamma)f'(\\theta_{t+\\frac{1}{2}})^2 + \\gamma r_{t-1}$ --> the $\\theta$ t + half step is introduced.\n",
    "\n",
    "velocity, $v_{t+1} = \\beta v_t + \\frac{\\alpha}{\\sqrt{r_t}}f'(\\theta_{t+\\frac{1}{2}})$ --? velocity + acceleration * time, t\n",
    "\n",
    "updated parameter $\\theta_{t+1} = \\theta_t - v_{t+1}$"
   ]
  },
  {
   "cell_type": "markdown",
   "metadata": {},
   "source": [
    "Recall from physics:\n",
    "\n",
    "$v = u + \\alpha t$"
   ]
  }
 ],
 "metadata": {
  "kernelspec": {
   "display_name": "Python 3",
   "language": "python",
   "name": "python3"
  },
  "language_info": {
   "codemirror_mode": {
    "name": "ipython",
    "version": 3
   },
   "file_extension": ".py",
   "mimetype": "text/x-python",
   "name": "python",
   "nbconvert_exporter": "python",
   "pygments_lexer": "ipython3",
   "version": "3.6.1"
  },
  "latex_envs": {
   "LaTeX_envs_menu_present": true,
   "bibliofile": "biblio.bib",
   "cite_by": "apalike",
   "current_citInitial": 1,
   "eqLabelWithNumbers": true,
   "eqNumInitial": 1,
   "hotkeys": {
    "equation": "Ctrl-E",
    "itemize": "Ctrl-I"
   },
   "labels_anchors": false,
   "latex_user_defs": false,
   "report_style_numbering": false,
   "user_envs_cfg": false
  }
 },
 "nbformat": 4,
 "nbformat_minor": 2
}
