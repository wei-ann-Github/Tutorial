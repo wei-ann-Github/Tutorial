{
 "cells": [
  {
   "cell_type": "markdown",
   "metadata": {
    "toc": true
   },
   "source": [
    "<h1>Table of Contents<span class=\"tocSkip\"></span></h1>\n",
    "<div class=\"toc\"><ul class=\"toc-item\"><li><span><a href=\"#ParselTongue-101\" data-toc-modified-id=\"ParselTongue-101-1\"><span class=\"toc-item-num\">1&nbsp;&nbsp;</span>ParselTongue 101</a></span><ul class=\"toc-item\"><li><span><a href=\"#Terminology\" data-toc-modified-id=\"Terminology-1.1\"><span class=\"toc-item-num\">1.1&nbsp;&nbsp;</span>Terminology</a></span></li><li><span><a href=\"#Python-Libraries-for-Text-Analytics\" data-toc-modified-id=\"Python-Libraries-for-Text-Analytics-1.2\"><span class=\"toc-item-num\">1.2&nbsp;&nbsp;</span>Python Libraries for Text Analytics</a></span></li><li><span><a href=\"#Text-Analysis-Process\" data-toc-modified-id=\"Text-Analysis-Process-1.3\"><span class=\"toc-item-num\">1.3&nbsp;&nbsp;</span>Text Analysis Process</a></span></li><li><span><a href=\"#Tokenization\" data-toc-modified-id=\"Tokenization-1.4\"><span class=\"toc-item-num\">1.4&nbsp;&nbsp;</span>Tokenization</a></span><ul class=\"toc-item\"><li><span><a href=\"#nltk.sent_tokenize\" data-toc-modified-id=\"nltk.sent_tokenize-1.4.1\"><span class=\"toc-item-num\">1.4.1&nbsp;&nbsp;</span><em>nltk.sent_tokenize</em></a></span></li><li><span><a href=\"#nltk.word_tokenize\" data-toc-modified-id=\"nltk.word_tokenize-1.4.2\"><span class=\"toc-item-num\">1.4.2&nbsp;&nbsp;</span><em>nltk.word_tokenize</em></a></span></li><li><span><a href=\"#TweetTokenizer()\" data-toc-modified-id=\"TweetTokenizer()-1.4.3\"><span class=\"toc-item-num\">1.4.3&nbsp;&nbsp;</span><em>TweetTokenizer()</em></a></span></li></ul></li><li><span><a href=\"#Preprocessing\" data-toc-modified-id=\"Preprocessing-1.5\"><span class=\"toc-item-num\">1.5&nbsp;&nbsp;</span>Preprocessing</a></span><ul class=\"toc-item\"><li><span><a href=\"#Lowercasing\" data-toc-modified-id=\"Lowercasing-1.5.1\"><span class=\"toc-item-num\">1.5.1&nbsp;&nbsp;</span>Lowercasing</a></span></li><li><span><a href=\"#Remove-stop-words\" data-toc-modified-id=\"Remove-stop-words-1.5.2\"><span class=\"toc-item-num\">1.5.2&nbsp;&nbsp;</span>Remove stop words</a></span></li><li><span><a href=\"#Remove-punctuations\" data-toc-modified-id=\"Remove-punctuations-1.5.3\"><span class=\"toc-item-num\">1.5.3&nbsp;&nbsp;</span>Remove punctuations</a></span></li><li><span><a href=\"#Remove-tokens-matching-a-certain-pattern\" data-toc-modified-id=\"Remove-tokens-matching-a-certain-pattern-1.5.4\"><span class=\"toc-item-num\">1.5.4&nbsp;&nbsp;</span>Remove tokens matching a certain pattern</a></span></li><li><span><a href=\"#Stemming/Lemmatizing\" data-toc-modified-id=\"Stemming/Lemmatizing-1.5.5\"><span class=\"toc-item-num\">1.5.5&nbsp;&nbsp;</span>Stemming/Lemmatizing</a></span></li></ul></li><li><span><a href=\"#Structuring-text\" data-toc-modified-id=\"Structuring-text-1.6\"><span class=\"toc-item-num\">1.6&nbsp;&nbsp;</span>Structuring text</a></span><ul class=\"toc-item\"><li><span><a href=\"#Sparse-matrix-representation\\n\" data-toc-modified-id=\"Sparse-matrix-representation\\n-1.6.1\"><span class=\"toc-item-num\">1.6.1&nbsp;&nbsp;</span>Sparse matrix representation\\n</a></span></li><li><span><a href=\"#Term-Weighting\" data-toc-modified-id=\"Term-Weighting-1.6.2\"><span class=\"toc-item-num\">1.6.2&nbsp;&nbsp;</span>Term Weighting</a></span></li><li><span><a href=\"#tf\" data-toc-modified-id=\"tf-1.6.3\"><span class=\"toc-item-num\">1.6.3&nbsp;&nbsp;</span>tf</a></span></li><li><span><a href=\"#idf\" data-toc-modified-id=\"idf-1.6.4\"><span class=\"toc-item-num\">1.6.4&nbsp;&nbsp;</span>idf</a></span></li><li><span><a href=\"#$$\\log_2\\frac{D}{df_w}$$\" data-toc-modified-id=\"$$\\log_2\\frac{D}{df_w}$$-1.6.5\"><span class=\"toc-item-num\">1.6.5&nbsp;&nbsp;</span><div class=\"MathJax_Display MathJax_Processing\"></div><script id=\"MathJax-Element-17\" type=\"math/tex; mode=display\">\\log_2\\frac{D}{df_w}</script></a></span></li><li><span><a href=\"#Effect-of-a-log-transformation-tf\" data-toc-modified-id=\"Effect-of-a-log-transformation-tf-1.6.6\"><span class=\"toc-item-num\">1.6.6&nbsp;&nbsp;</span>Effect of a log transformation tf</a></span></li><li><span><a href=\"#Effect-of-idf\" data-toc-modified-id=\"Effect-of-idf-1.6.7\"><span class=\"toc-item-num\">1.6.7&nbsp;&nbsp;</span>Effect of idf</a></span></li></ul></li><li><span><a href=\"#Enhancing-texts\" data-toc-modified-id=\"Enhancing-texts-1.7\"><span class=\"toc-item-num\">1.7&nbsp;&nbsp;</span>Enhancing texts</a></span><ul class=\"toc-item\"><li><span><a href=\"#Ngram\" data-toc-modified-id=\"Ngram-1.7.1\"><span class=\"toc-item-num\">1.7.1&nbsp;&nbsp;</span>Ngram</a></span></li><li><span><a href=\"#Part-of-speech-(POS)-tagging\" data-toc-modified-id=\"Part-of-speech-(POS)-tagging-1.7.2\"><span class=\"toc-item-num\">1.7.2&nbsp;&nbsp;</span>Part of speech (POS) tagging</a></span></li><li><span><a href=\"#Entity-Recognition\" data-toc-modified-id=\"Entity-Recognition-1.7.3\"><span class=\"toc-item-num\">1.7.3&nbsp;&nbsp;</span>Entity Recognition</a></span></li></ul></li><li><span><a href=\"#Performing-analysis\" data-toc-modified-id=\"Performing-analysis-1.8\"><span class=\"toc-item-num\">1.8&nbsp;&nbsp;</span>Performing analysis</a></span><ul class=\"toc-item\"><li><span><a href=\"#Dataset-for-Demonstration\" data-toc-modified-id=\"Dataset-for-Demonstration-1.8.1\"><span class=\"toc-item-num\">1.8.1&nbsp;&nbsp;</span>Dataset for Demonstration</a></span></li><li><span><a href=\"#Sentiment-analysis\" data-toc-modified-id=\"Sentiment-analysis-1.8.2\"><span class=\"toc-item-num\">1.8.2&nbsp;&nbsp;</span>Sentiment analysis</a></span></li><li><span><a href=\"#Document-similarity\" data-toc-modified-id=\"Document-similarity-1.8.3\"><span class=\"toc-item-num\">1.8.3&nbsp;&nbsp;</span>Document similarity</a></span></li><li><span><a href=\"#Topic-modelling\" data-toc-modified-id=\"Topic-modelling-1.8.4\"><span class=\"toc-item-num\">1.8.4&nbsp;&nbsp;</span>Topic modelling</a></span></li><li><span><a href=\"#Topic-Classification\" data-toc-modified-id=\"Topic-Classification-1.8.5\"><span class=\"toc-item-num\">1.8.5&nbsp;&nbsp;</span>Topic Classification</a></span></li></ul></li></ul></li><li><span><a href=\"#Q&amp;A\" data-toc-modified-id=\"Q&amp;A-2\"><span class=\"toc-item-num\">2&nbsp;&nbsp;</span>Q&amp;A</a></span></li><li><span><a href=\"#Additional\" data-toc-modified-id=\"Additional-3\"><span class=\"toc-item-num\">3&nbsp;&nbsp;</span>Additional</a></span><ul class=\"toc-item\"><li><span><a href=\"#Why-is-it-important-to-become-tfidf:-A-contrived-example\" data-toc-modified-id=\"Why-is-it-important-to-become-tfidf:-A-contrived-example-3.1\"><span class=\"toc-item-num\">3.1&nbsp;&nbsp;</span>Why is it important to become tfidf: A contrived example</a></span></li><li><span><a href=\"#Other-Applications-of-Similarity-Between-Documents\" data-toc-modified-id=\"Other-Applications-of-Similarity-Between-Documents-3.2\"><span class=\"toc-item-num\">3.2&nbsp;&nbsp;</span>Other Applications of Similarity Between Documents</a></span></li></ul></li></ul></div>"
   ]
  },
  {
   "cell_type": "markdown",
   "metadata": {
    "deletable": true,
    "editable": true,
    "nbpresent": {
     "id": "4295723e-59b8-44d8-a870-00aa9b45a350"
    },
    "slideshow": {
     "slide_type": "slide"
    }
   },
   "source": [
    "\n",
    "\n",
    "\n",
    "# ParselTongue 101\n",
    "<img src='img/parseltongue.jpg' align='left'/><br>\n",
    "\n",
    "\"YEAH, HE'S A PARSER-TONGUE.\""
   ]
  },
  {
   "cell_type": "markdown",
   "metadata": {
    "deletable": true,
    "editable": true,
    "slideshow": {
     "slide_type": "slide"
    }
   },
   "source": [
    "## Terminology\n",
    "\n",
    "* **Document** - It is a piece of text to be analyzed. It can be as short as a sentence e.g. tweets, or it can be as long as an encyclopedia. These is no constrain on the length of text.\n",
    "* **Corpus** - It is a collection of Documents. To make analysis meaningful, a corpus usually consists of document that are similar in length, and comparable to one another.\n",
    "* **Lexicon** - A collection of words. Think of this has a dictionary minus the definition of words.\n",
    "* **Taxonomy** - A branch of science that encompasses the description, identification, nomenclature, and classification of organisms. In the context of text, it is the classification of words e.g. words that convery positive sentiment, words that convey negative sentiments.\n",
    "* **Ontologies** - A set of concepts and categories in a subject area or domain that shows their properties and the relations between them."
   ]
  },
  {
   "cell_type": "markdown",
   "metadata": {
    "deletable": true,
    "editable": true,
    "slideshow": {
     "slide_type": "slide"
    }
   },
   "source": [
    "## Python Libraries for Text Analytics\n",
    "\n",
    "In python, some of the libraries commonly used for text analytics are:\n",
    "\n",
    "* **nltk** (natural language toolkit) - A general purpose text analytics library.\n",
    "* **pattern** - A general purpose text analytics library.\n",
    "* **gensim** - mainly used for topic modelling. Topic modelling is the unsupervised categorization of text into \"topics\"\n",
    "* **pyLDAvis** - A LDA visualization library. LDA is a method for performing topic modelling\n",
    "* **wordcloud** - A word visualization library."
   ]
  },
  {
   "cell_type": "code",
   "execution_count": 3,
   "metadata": {
    "collapsed": false,
    "deletable": true,
    "editable": true,
    "nbpresent": {
     "id": "bd28d06b-8713-42fb-a081-357322d41970"
    },
    "slideshow": {
     "slide_type": "subslide"
    }
   },
   "outputs": [],
   "source": [
    "# load some python libraries for this demonstration\n",
    "import warnings\n",
    "warnings.filterwarnings(action='ignore', category=UserWarning, module='gensim')\n",
    "from IPython.display import display, HTML\n",
    "import sys\n",
    "\n",
    "# for text analysis\n",
    "import gensim\n",
    "from gensim import corpora, models, similarities\n",
    "import nltk\n",
    "from nltk import ngrams\n",
    "from nltk.corpus import stopwords\n",
    "from nltk.sentiment import vader\n",
    "from nltk.stem.porter import PorterStemmer\n",
    "from nltk.tokenize import TweetTokenizer\n",
    "from pattern.en import lemma, mood\n",
    "\n",
    "# for visualizing text analysis result\n",
    "import pyLDAvis\n",
    "import pyLDAvis.gensim\n",
    "from wordcloud import WordCloud\n",
    "\n",
    "from matplotlib.cbook import flatten\n",
    "import matplotlib.pyplot as plt\n",
    "import os\n",
    "import pickle\n",
    "import re\n",
    "import string\n",
    "import time\n",
    "import glob\n",
    "\n",
    "import numpy as np\n",
    "import pandas as pd\n",
    "from scipy.sparse import csc_matrix, csr_matrix\n",
    "# import warnings\n",
    "warnings.filterwarnings('ignore')\n",
    "\n",
    "# set options\n",
    "% matplotlib inline\n",
    "pyLDAvis.enable_notebook()\n",
    "pd.set_option('display.max_colwidth', -1)"
   ]
  },
  {
   "cell_type": "markdown",
   "metadata": {
    "deletable": true,
    "editable": true,
    "slideshow": {
     "slide_type": "slide"
    }
   },
   "source": [
    "## Text Analysis Process\n",
    "\n",
    "Text is an unstructured data. It is not organized in a pre-defined manner, like what we are familiar with in a spreadsheet. The first 3 steps of the text analysis process will involve structuring the texts.\n",
    "\n",
    "The text analysis process can be broken down into the following:\n",
    "\n",
    "1. Tokenization - This is the decomposition of documents into individual words. Documents can also be decomposed into sentences, followed by decomposing each sentence into words.\n",
    "* Preprocessing - This is a series of optional steps to 'clean' the tokens.\n",
    "    * Lowercase characters\n",
    "    * Remove stop words\n",
    "    * Remove punctuations\n",
    "    * Stemming/lemmatizing\n",
    "    \n",
    "    (cont...)"
   ]
  },
  {
   "cell_type": "markdown",
   "metadata": {
    "deletable": true,
    "editable": true,
    "slideshow": {
     "slide_type": "subslide"
    }
   },
   "source": [
    "<p>3. Structuring text</p> \n",
    "\n",
    "* Sparse matrix representation\n",
    "* Term weighting\n",
    "\n",
    "<p>4. Enhancing texts</p>\n",
    "\n",
    "* Ngram\n",
    "* Part of speech (POS) tagging\n",
    "* Entity recognition\n",
    "\n",
    "<p>5. Performing analysis</p>\n",
    "\n",
    "* Sentiment analysis\n",
    "* Document similarity\n",
    "* Topic modelling\n",
    "* Topic classification (For exploration)\n",
    "* Document summarization (For exploration)"
   ]
  },
  {
   "cell_type": "code",
   "execution_count": 2,
   "metadata": {
    "collapsed": false,
    "deletable": true,
    "editable": true,
    "slideshow": {
     "slide_type": "skip"
    }
   },
   "outputs": [
    {
     "data": {
      "text/html": [
       "<div>\n",
       "<table border=\"1\" class=\"dataframe\">\n",
       "  <thead>\n",
       "    <tr style=\"text-align: right;\">\n",
       "      <th></th>\n",
       "      <th>,</th>\n",
       "      <th>.</th>\n",
       "      <th>Text</th>\n",
       "      <th>When</th>\n",
       "      <th>analysis</th>\n",
       "      <th>as</th>\n",
       "      <th>be</th>\n",
       "      <th>can</th>\n",
       "      <th>data</th>\n",
       "      <th>for</th>\n",
       "      <th>is</th>\n",
       "      <th>needs</th>\n",
       "      <th>structured</th>\n",
       "      <th>text</th>\n",
       "      <th>thus</th>\n",
       "      <th>to</th>\n",
       "      <th>treated</th>\n",
       "      <th>unstructured</th>\n",
       "    </tr>\n",
       "  </thead>\n",
       "  <tbody>\n",
       "    <tr>\n",
       "      <th>Text is unstructured, thus needs to be structured for analysis.</th>\n",
       "      <td>1</td>\n",
       "      <td>1</td>\n",
       "      <td>1</td>\n",
       "      <td>0</td>\n",
       "      <td>1</td>\n",
       "      <td>0</td>\n",
       "      <td>1</td>\n",
       "      <td>0</td>\n",
       "      <td>0</td>\n",
       "      <td>1</td>\n",
       "      <td>1</td>\n",
       "      <td>1</td>\n",
       "      <td>1</td>\n",
       "      <td>0</td>\n",
       "      <td>1</td>\n",
       "      <td>1</td>\n",
       "      <td>0</td>\n",
       "      <td>1</td>\n",
       "    </tr>\n",
       "    <tr>\n",
       "      <th>When structured, text can be treated as structured data for analysis.</th>\n",
       "      <td>1</td>\n",
       "      <td>1</td>\n",
       "      <td>0</td>\n",
       "      <td>1</td>\n",
       "      <td>1</td>\n",
       "      <td>1</td>\n",
       "      <td>1</td>\n",
       "      <td>1</td>\n",
       "      <td>1</td>\n",
       "      <td>1</td>\n",
       "      <td>0</td>\n",
       "      <td>0</td>\n",
       "      <td>2</td>\n",
       "      <td>1</td>\n",
       "      <td>0</td>\n",
       "      <td>0</td>\n",
       "      <td>1</td>\n",
       "      <td>0</td>\n",
       "    </tr>\n",
       "  </tbody>\n",
       "</table>\n",
       "</div>"
      ],
      "text/plain": [
       "                                                                       ,  .  \\\n",
       "Text is unstructured, thus needs to be structured for analysis.        1  1   \n",
       "When structured, text can be treated as structured data for analysis.  1  1   \n",
       "\n",
       "                                                                       Text  \\\n",
       "Text is unstructured, thus needs to be structured for analysis.        1      \n",
       "When structured, text can be treated as structured data for analysis.  0      \n",
       "\n",
       "                                                                       When  \\\n",
       "Text is unstructured, thus needs to be structured for analysis.        0      \n",
       "When structured, text can be treated as structured data for analysis.  1      \n",
       "\n",
       "                                                                       analysis  \\\n",
       "Text is unstructured, thus needs to be structured for analysis.        1          \n",
       "When structured, text can be treated as structured data for analysis.  1          \n",
       "\n",
       "                                                                       as  be  \\\n",
       "Text is unstructured, thus needs to be structured for analysis.        0   1    \n",
       "When structured, text can be treated as structured data for analysis.  1   1    \n",
       "\n",
       "                                                                       can  \\\n",
       "Text is unstructured, thus needs to be structured for analysis.        0     \n",
       "When structured, text can be treated as structured data for analysis.  1     \n",
       "\n",
       "                                                                       data  \\\n",
       "Text is unstructured, thus needs to be structured for analysis.        0      \n",
       "When structured, text can be treated as structured data for analysis.  1      \n",
       "\n",
       "                                                                       for  \\\n",
       "Text is unstructured, thus needs to be structured for analysis.        1     \n",
       "When structured, text can be treated as structured data for analysis.  1     \n",
       "\n",
       "                                                                       is  \\\n",
       "Text is unstructured, thus needs to be structured for analysis.        1    \n",
       "When structured, text can be treated as structured data for analysis.  0    \n",
       "\n",
       "                                                                       needs  \\\n",
       "Text is unstructured, thus needs to be structured for analysis.        1       \n",
       "When structured, text can be treated as structured data for analysis.  0       \n",
       "\n",
       "                                                                       structured  \\\n",
       "Text is unstructured, thus needs to be structured for analysis.        1            \n",
       "When structured, text can be treated as structured data for analysis.  2            \n",
       "\n",
       "                                                                       text  \\\n",
       "Text is unstructured, thus needs to be structured for analysis.        0      \n",
       "When structured, text can be treated as structured data for analysis.  1      \n",
       "\n",
       "                                                                       thus  \\\n",
       "Text is unstructured, thus needs to be structured for analysis.        1      \n",
       "When structured, text can be treated as structured data for analysis.  0      \n",
       "\n",
       "                                                                       to  \\\n",
       "Text is unstructured, thus needs to be structured for analysis.        1    \n",
       "When structured, text can be treated as structured data for analysis.  0    \n",
       "\n",
       "                                                                       treated  \\\n",
       "Text is unstructured, thus needs to be structured for analysis.        0         \n",
       "When structured, text can be treated as structured data for analysis.  1         \n",
       "\n",
       "                                                                       unstructured  \n",
       "Text is unstructured, thus needs to be structured for analysis.        1             \n",
       "When structured, text can be treated as structured data for analysis.  0             "
      ]
     },
     "metadata": {},
     "output_type": "display_data"
    }
   ],
   "source": [
    "doc1 = 'Text is unstructured, thus needs to be structured for analysis.'\n",
    "doc2 = 'When structured, text can be treated as structured data for analysis.'\n",
    "corpus1_1 = [doc1, doc2] \n",
    "token_list = []\n",
    "import collections\n",
    "for doc in corpus1_1:\n",
    "    temp_dict = collections.defaultdict(int)\n",
    "    tokens = nltk.word_tokenize(doc)\n",
    "    for t in tokens:\n",
    "        temp_dict[t] += 1\n",
    "    token_list.append(temp_dict)\n",
    "    \n",
    "corpus1_1_df = pd.DataFrame(token_list, index=[doc1, doc2])\n",
    "corpus1_1_df = corpus1_1_df.fillna(0).astype(int)\n",
    "display(corpus1_1_df)"
   ]
  },
  {
   "cell_type": "markdown",
   "metadata": {
    "deletable": true,
    "editable": true,
    "slideshow": {
     "slide_type": "slide"
    },
    "variables": {
     "corpus1_1_df": {}
    }
   },
   "source": [
    "## Tokenization\n",
    "\n",
    "Texts are unstructured data. In order to perform analysis on them, it has to be converted into a structured data similar like the one shown here: \n",
    "\n",
    "{{corpus1_1_df}}"
   ]
  },
  {
   "cell_type": "markdown",
   "metadata": {
    "deletable": true,
    "editable": true,
    "slideshow": {
     "slide_type": "subslide"
    }
   },
   "source": [
    "**Tokenization** is rule based: split the sentence/document by a certain delimiter/separator e.g. by the punctations between sentences or the space between words. Some other rules can be used in conjunction. \n",
    "\n",
    "Introducing 3 tokenizers:\n",
    "\n",
    "1. nltk.sent_tokenize()\n",
    "1. nltk.word_tokenize()\n",
    "* TweetTokenizer()"
   ]
  },
  {
   "cell_type": "markdown",
   "metadata": {
    "deletable": true,
    "editable": true,
    "nbpresent": {
     "id": "6e5ce96c-9c60-410e-9e93-493751c209b4"
    },
    "slideshow": {
     "slide_type": "subslide"
    }
   },
   "source": [
    "### *nltk.sent_tokenize*"
   ]
  },
  {
   "cell_type": "code",
   "execution_count": 11,
   "metadata": {
    "collapsed": false,
    "deletable": true,
    "editable": true
   },
   "outputs": [
    {
     "name": "stdout",
     "output_type": "stream",
     "text": [
      "['This is the result of using nltk.sent_tokenize.', \"It's exciting to hear about text analytics today!!!\", ':D:)']\n"
     ]
    }
   ],
   "source": [
    "doc3 = \"This is the result of using nltk.sent_tokenize. It's exciting to hear about text analytics today!!! :D:)\"\n",
    "print(nltk.sent_tokenize(doc3))"
   ]
  },
  {
   "cell_type": "markdown",
   "metadata": {
    "deletable": true,
    "editable": true,
    "nbpresent": {
     "id": "6e5ce96c-9c60-410e-9e93-493751c209b4"
    },
    "slideshow": {
     "slide_type": "subslide"
    }
   },
   "source": [
    "### *nltk.word_tokenize*"
   ]
  },
  {
   "cell_type": "code",
   "execution_count": 12,
   "metadata": {
    "collapsed": false
   },
   "outputs": [
    {
     "data": {
      "text/plain": [
       "['This', 'is', 'the', 'result', 'of', 'using', 'nltk.word_tokenize', '.']"
      ]
     },
     "metadata": {},
     "output_type": "display_data"
    }
   ],
   "source": [
    "doc3 = 'This is the result of using nltk.word_tokenize.'\n",
    "display(nltk.word_tokenize(doc3))"
   ]
  },
  {
   "cell_type": "markdown",
   "metadata": {
    "slideshow": {
     "slide_type": "-"
    }
   },
   "source": [
    "Notice that the period at the end of the sentence is tokenized, but the period in the middle of *nltk.word_tokenize* is not.\n",
    "\n",
    "Can *nltk.word_tokenize* handle emoticons?"
   ]
  },
  {
   "cell_type": "code",
   "execution_count": 13,
   "metadata": {
    "collapsed": false,
    "deletable": true,
    "editable": true,
    "slideshow": {
     "slide_type": "subslide"
    }
   },
   "outputs": [
    {
     "name": "stdout",
     "output_type": "stream",
     "text": [
      "['It', \"'s\", 'exciting', 'to', 'hear', 'about', 'text', 'analytics', 'today', '!', '!', '!', ':', 'D', ':', ')']\n"
     ]
    }
   ],
   "source": [
    "doc4 = \"It's exciting to hear about text analytics today!!! :D:)\"\n",
    "doc4_tokens = nltk.word_tokenize(doc4)\n",
    "print(doc4_tokens)"
   ]
  },
  {
   "cell_type": "markdown",
   "metadata": {},
   "source": [
    "### _TweetTokenizer()_\n",
    "\n",
    "In reviews and informal texts, people may include emoticons to express their sentiments. We saw that *nltk.word_tokeniz()* was unable to handle it. Tokenizing on reviews/informal texts may need to consider emoticons if we are going to perform sentiment analysis."
   ]
  },
  {
   "cell_type": "code",
   "execution_count": 15,
   "metadata": {
    "collapsed": false,
    "deletable": true,
    "editable": true,
    "nbpresent": {
     "id": "99f64c24-3e76-4749-b8b0-9750f0fcf242"
    }
   },
   "outputs": [
    {
     "name": "stdout",
     "output_type": "stream",
     "text": [
      "It's exciting to hear about text analytics today!!! :D:)\n",
      "[\"It's\", 'exciting', 'to', 'hear', 'about', 'text', 'analytics', 'today', '!', '!', '!', ':D', ':)']\n"
     ]
    }
   ],
   "source": [
    "tknz = TweetTokenizer() # From the nltk library. Able to preserve emoticon.\n",
    "\n",
    "print(doc4)\n",
    "print(tknz.tokenize(doc4))"
   ]
  },
  {
   "cell_type": "markdown",
   "metadata": {},
   "source": [
    "See the difference in how _TweetTokenizer_ and *word_tokenize* tokenizes the emoticon and \"It's\",\n",
    "Take note of this and the implications. I'll highlight later.\n",
    "\n",
    "Sidenote: A _u_ might occur at the start of the word e.g. [u'text', u'analytics']. That simply means that text is being represented as a unicode. You can ignore the presence of the _u_."
   ]
  },
  {
   "cell_type": "markdown",
   "metadata": {
    "deletable": true,
    "editable": true,
    "slideshow": {
     "slide_type": "slide"
    }
   },
   "source": [
    "## Preprocessing\n",
    "\n",
    "Here are some of the common _(but optional)_ steps performed in pre-processing.\n",
    "\n",
    "* Lowercasing\n",
    "* Remove stop words\n",
    "* Remove punctuations\n",
    "* Remove tokens matching a certain pattern\n",
    "* Stemming/Lemmatizing\n",
    "\n",
    "The purpose of preprocessing is to reduce the number of tokens. I will highlight how each of the pre-processing steps achieve that goal."
   ]
  },
  {
   "cell_type": "markdown",
   "metadata": {
    "deletable": true,
    "editable": true,
    "slideshow": {
     "slide_type": "subslide"
    }
   },
   "source": [
    "### Lowercasing\n",
    "\n",
    "The first letter of a word at the beginning of a sentence is capitalized, but this word is essentially the same word if it happens in the middle of the sentence. By lowercasing, those words will be considered the same.\n",
    "\n",
    "When do we not want to lowercase?\n",
    "\n",
    "* _AIDS_ and _aids_"
   ]
  },
  {
   "cell_type": "markdown",
   "metadata": {
    "deletable": true,
    "editable": true,
    "slideshow": {
     "slide_type": "subslide"
    }
   },
   "source": [
    "### Remove stop words\n",
    "\n",
    "**Stop words** are common words like 'in', 'the', 'that', 'a' etc. that appear in abundance and does not help in differentiating 1 document from another. "
   ]
  },
  {
   "cell_type": "code",
   "execution_count": 19,
   "metadata": {
    "collapsed": false,
    "deletable": true,
    "editable": true,
    "slideshow": {
     "slide_type": "subslide"
    }
   },
   "outputs": [
    {
     "name": "stdout",
     "output_type": "stream",
     "text": [
      "i, me, my, myself, we, our, ours, ourselves, you, your, yours, yourself, yourselves, he, him, his, himself, she, her, hers, herself, it, its, itself, they, them, their, theirs, themselves, what, which, who, whom, this, that, these, those, am, is, are, was, were, be, been, being, have, has, had, having, do, does, did, doing, a, an, the, and, but, if, or, because, as, until, while, of, at, by, for, with, about, against, between, into, through, during, before, after, above, below, to, from, up, down, in, out, on, off, over, under, again, further, then, once, here, there, when, where, why, how, all, any, both, each, few, more, most, other, some, such, no, nor, not, only, own, same, so, than, too, very, s, t, can, will, just, don, should, now, d, ll, m, o, re, ve, y, ain, aren, couldn, didn, doesn, hadn, hasn, haven, isn, ma, mightn, mustn, needn, shan, shouldn, wasn, weren, won, wouldn \n",
      "\n",
      "['It', \"'s\", 'exciting', 'to', 'hear', 'about', 'text', 'analytics', 'today', '!', '!', '!', ':', 'D', ':', ')']\n",
      "['It', \"'s\", 'exciting', 'hear', 'text', 'analytics', 'today', '!', '!', '!', ':', 'D', ':', ')']\n"
     ]
    }
   ],
   "source": [
    "stop_words = stopwords.words('english') # From the nltk library\n",
    "# show the stop words\n",
    "print(', '.join(stop_words), '\\n')\n",
    "\n",
    "doc4_stopwords_rm = [w for w in doc4_tokens if w not in stop_words]\n",
    "print(doc4_tokens)\n",
    "print(doc4_stopwords_rm)"
   ]
  },
  {
   "cell_type": "markdown",
   "metadata": {
    "deletable": true,
    "editable": true,
    "slideshow": {
     "slide_type": "subslide"
    }
   },
   "source": [
    "Notice that the stopwords are in lowercase, hence the stopwords in the document must be in lowercase before it can be removed.\n",
    "\n",
    "In addition, one can always customize the stopwords to suit analysis needs.\n",
    "\n",
    "Recall previously, *nltk.word_tokenize()* tokeenizes \"it's\" into \"it\" and \"'s\", but \"'s\" is not in the stopword list. We can add \"'s\", as well as some other common \" ' \" words, into the stopword list before filtering those words:"
   ]
  },
  {
   "cell_type": "code",
   "execution_count": 20,
   "metadata": {
    "collapsed": false,
    "deletable": true,
    "editable": true,
    "slideshow": {
     "slide_type": "subslide"
    }
   },
   "outputs": [
    {
     "name": "stdout",
     "output_type": "stream",
     "text": [
      "['i', 'me', 'my', 'myself', 'we', 'our', 'ours', 'ourselves', 'you', 'your', 'yours', 'yourself', 'yourselves', 'he', 'him', 'his', 'himself', 'she', 'her', 'hers', 'herself', 'it', 'its', 'itself', 'they', 'them', 'their', 'theirs', 'themselves', 'what', 'which', 'who', 'whom', 'this', 'that', 'these', 'those', 'am', 'is', 'are', 'was', 'were', 'be', 'been', 'being', 'have', 'has', 'had', 'having', 'do', 'does', 'did', 'doing', 'a', 'an', 'the', 'and', 'but', 'if', 'or', 'because', 'as', 'until', 'while', 'of', 'at', 'by', 'for', 'with', 'about', 'against', 'between', 'into', 'through', 'during', 'before', 'after', 'above', 'below', 'to', 'from', 'up', 'down', 'in', 'out', 'on', 'off', 'over', 'under', 'again', 'further', 'then', 'once', 'here', 'there', 'when', 'where', 'why', 'how', 'all', 'any', 'both', 'each', 'few', 'more', 'most', 'other', 'some', 'such', 'no', 'nor', 'not', 'only', 'own', 'same', 'so', 'than', 'too', 'very', 's', 't', 'can', 'will', 'just', 'don', 'should', 'now', 'd', 'll', 'm', 'o', 're', 've', 'y', 'ain', 'aren', 'couldn', 'didn', 'doesn', 'hadn', 'hasn', 'haven', 'isn', 'ma', 'mightn', 'mustn', 'needn', 'shan', 'shouldn', 'wasn', 'weren', 'won', 'wouldn', \"n't\", \"'s\", \"'re\", \"'m\"]\n"
     ]
    }
   ],
   "source": [
    "additional_sw = [\"n't\", \"'s\", \"'re\", \"'m\"]\n",
    "stop_words += additional_sw\n",
    "print(stop_words)"
   ]
  },
  {
   "cell_type": "markdown",
   "metadata": {
    "deletable": true,
    "editable": true,
    "slideshow": {
     "slide_type": "subslide"
    }
   },
   "source": [
    "### Remove punctuations"
   ]
  },
  {
   "cell_type": "code",
   "execution_count": 21,
   "metadata": {
    "collapsed": false,
    "deletable": true,
    "editable": true,
    "slideshow": {
     "slide_type": "-"
    }
   },
   "outputs": [
    {
     "name": "stdout",
     "output_type": "stream",
     "text": [
      "Punctuations !\"#$%&'()*+,-./:;<=>?@[\\]^_`{|}~ \n",
      "\n",
      "['It', \"'s\", 'exciting', 'hear', 'text', 'analytics', 'today', '!', '!', '!', ':', 'D', ':', ')']\n",
      "['It', \"'s\", 'exciting', 'hear', 'text', 'analytics', 'today', 'D']\n"
     ]
    }
   ],
   "source": [
    "print('Punctuations', string.punctuation, '\\n') # List of punctuations in the string library\n",
    "\n",
    "doc4_punc_rm = [w for w in doc4_stopwords_rm if w not in string.punctuation]\n",
    "print(doc4_stopwords_rm)\n",
    "print(doc4_punc_rm)"
   ]
  },
  {
   "cell_type": "code",
   "execution_count": 22,
   "metadata": {
    "collapsed": false,
    "deletable": true,
    "editable": true,
    "slideshow": {
     "slide_type": "subslide"
    }
   },
   "outputs": [
    {
     "name": "stdout",
     "output_type": "stream",
     "text": [
      "It's exciting to hear about text analytics today!!! :D:)\n",
      "['exciting', 'hear', 'text', 'analytics', 'today', ':d', ':)']\n"
     ]
    }
   ],
   "source": [
    "# A better tokenization that considers emoticons, apostrophes and lowercase.\n",
    "# Uses regex to search for patterns in words as well.\n",
    "doc4_better_tokens4 = list(flatten([nltk.word_tokenize(w) if re.search( \"|\".join(additional_sw)+'$', w) else w \n",
    "                 for w in tknz.tokenize(doc4)]))\n",
    "doc4_better_clean = [w.lower() for w in doc4_better_tokens4 if w.lower() not in list(string.punctuation) + stop_words]\n",
    "print(doc4)\n",
    "print(doc4_better_clean)"
   ]
  },
  {
   "cell_type": "markdown",
   "metadata": {
    "deletable": true,
    "editable": true,
    "slideshow": {
     "slide_type": "subslide"
    }
   },
   "source": [
    "### Remove tokens matching a certain pattern\n",
    "\n",
    "Regular expression (Regex for shor) is utilized here. Uses the re library in python.\n",
    "\n",
    "Some symbols:\n",
    "\n",
    "* ^ - represents the start of the string.\n",
    "* $ - represents the end of the string.\n",
    "* | - or operator.  E.g. contains \"string1|string2\"\n",
    "* [] - one of the characters contained within these square brackets\n",
    "* \\. - represents string of characters with any length\n",
    "* \\+ - represents any number of the same characters\n",
    "* and more"
   ]
  },
  {
   "cell_type": "code",
   "execution_count": 23,
   "metadata": {
    "collapsed": false,
    "deletable": true,
    "editable": true,
    "slideshow": {
     "slide_type": "subslide"
    }
   },
   "outputs": [
    {
     "name": "stdout",
     "output_type": "stream",
     "text": [
      "^[a-z]+$ [<_sre.SRE_Match object; span=(0, 6), match='string'>, None]\n",
      "^[a-z0-9]+$ [<_sre.SRE_Match object; span=(0, 18), match='number5lettersonly'>, None]\n",
      "anywhere [<_sre.SRE_Match object; span=(1, 9), match='anywhere'>, <_sre.SRE_Match object; span=(0, 8), match='anywhere'>]\n",
      "theend$ [None, None, <_sre.SRE_Match object; span=(3, 9), match='theend'>]\n"
     ]
    }
   ],
   "source": [
    "# E.g. you want characters containing only letters from start to finish.\n",
    "print('^[a-z]+$', [re.search('^[a-z]+$', w) for w in ['string', 'str1ng']]) # the '+' sign is important to indicate repetition.\n",
    "print('^[a-z0-9]+$', [re.search('^[a-z0-9]+$', w) for w in ['number5lettersonly', \"number'5lettersonly\"]])\n",
    "print('anywhere', [re.search('anywhere', w) for w in ['HanywhereH', 'anywheresdfsfsd']])\n",
    "print('theend$', [re.search('theend$', w) for w in ['SCFtheendSCF', 'theendSCF', 'SCFtheend']])"
   ]
  },
  {
   "cell_type": "markdown",
   "metadata": {
    "deletable": true,
    "editable": true,
    "slideshow": {
     "slide_type": "subslide"
    }
   },
   "source": [
    "### Stemming/Lemmatizing\n",
    "\n",
    "It's the conversion of tokens into its root word.\n",
    "\n",
    "* Stemming - rule based removal of characters in the word.\n",
    "* Lemmatizing - lexicon based conversion of words into its root."
   ]
  },
  {
   "cell_type": "code",
   "execution_count": 26,
   "metadata": {
    "collapsed": false,
    "deletable": true,
    "editable": true,
    "slideshow": {
     "slide_type": "subslide"
    }
   },
   "outputs": [
    {
     "name": "stdout",
     "output_type": "stream",
     "text": [
      "Stemming\n",
      "computes --> comput \t\n",
      "computed --> comput \t\n",
      "computing --> comput \t\n",
      "computer --> comput \t\n",
      "\n",
      "\n",
      "Lemmatizing\n",
      "computes --> compute \t\n",
      "computed --> compute \t\n",
      "computing --> compute \t\n",
      "computer --> computer \t\n",
      "\n",
      "\n"
     ]
    }
   ],
   "source": [
    "# Stemming using the Porterstemmer in nltk\n",
    "Porter = PorterStemmer()\n",
    "words = ['computes', 'computed', 'computing', 'computer']\n",
    "\n",
    "print('Stemming')\n",
    "for w in words:\n",
    "    print(w, \"-->\", Porter.stem(w), \"\\t\")\n",
    "print(\"\\n\")\n",
    "\n",
    "# Lemmatizing using pattern.en\n",
    "print('Lemmatizing')\n",
    "for w in words:\n",
    "    print(w, '-->', lemma(w), '\\t',)\n",
    "print('\\n')"
   ]
  },
  {
   "cell_type": "markdown",
   "metadata": {
    "deletable": true,
    "editable": true,
    "slideshow": {
     "slide_type": "slide"
    }
   },
   "source": [
    "## Structuring text\n",
    "* Sparse matrix representation\n",
    "* Term weighting"
   ]
  },
  {
   "cell_type": "code",
   "execution_count": 28,
   "metadata": {
    "collapsed": false,
    "deletable": true,
    "editable": true,
    "slideshow": {
     "slide_type": "skip"
    }
   },
   "outputs": [
    {
     "data": {
      "text/html": [
       "<div>\n",
       "<table border=\"1\" class=\"dataframe\">\n",
       "  <thead>\n",
       "    <tr style=\"text-align: right;\">\n",
       "      <th></th>\n",
       "      <th>add</th>\n",
       "      <th>analysi</th>\n",
       "      <th>data</th>\n",
       "      <th>document</th>\n",
       "      <th>need</th>\n",
       "      <th>new</th>\n",
       "      <th>structure</th>\n",
       "      <th>text</th>\n",
       "      <th>thu</th>\n",
       "      <th>treat</th>\n",
       "      <th>unstructure</th>\n",
       "    </tr>\n",
       "  </thead>\n",
       "  <tbody>\n",
       "    <tr>\n",
       "      <th>Text is unstructured, thus needs to be structured for analysis.</th>\n",
       "      <td>0</td>\n",
       "      <td>1</td>\n",
       "      <td>0</td>\n",
       "      <td>0</td>\n",
       "      <td>1</td>\n",
       "      <td>0</td>\n",
       "      <td>1</td>\n",
       "      <td>1</td>\n",
       "      <td>1</td>\n",
       "      <td>0</td>\n",
       "      <td>1</td>\n",
       "    </tr>\n",
       "    <tr>\n",
       "      <th>When structured, text can be treated as structured data for analysis.</th>\n",
       "      <td>0</td>\n",
       "      <td>1</td>\n",
       "      <td>1</td>\n",
       "      <td>0</td>\n",
       "      <td>0</td>\n",
       "      <td>0</td>\n",
       "      <td>2</td>\n",
       "      <td>1</td>\n",
       "      <td>0</td>\n",
       "      <td>1</td>\n",
       "      <td>0</td>\n",
       "    </tr>\n",
       "    <tr>\n",
       "      <th>This is a new document added.</th>\n",
       "      <td>1</td>\n",
       "      <td>0</td>\n",
       "      <td>0</td>\n",
       "      <td>1</td>\n",
       "      <td>0</td>\n",
       "      <td>1</td>\n",
       "      <td>0</td>\n",
       "      <td>0</td>\n",
       "      <td>0</td>\n",
       "      <td>0</td>\n",
       "      <td>0</td>\n",
       "    </tr>\n",
       "  </tbody>\n",
       "</table>\n",
       "</div>"
      ],
      "text/plain": [
       "                                                                       add  \\\n",
       "Text is unstructured, thus needs to be structured for analysis.        0     \n",
       "When structured, text can be treated as structured data for analysis.  0     \n",
       "This is a new document added.                                          1     \n",
       "\n",
       "                                                                       analysi  \\\n",
       "Text is unstructured, thus needs to be structured for analysis.        1         \n",
       "When structured, text can be treated as structured data for analysis.  1         \n",
       "This is a new document added.                                          0         \n",
       "\n",
       "                                                                       data  \\\n",
       "Text is unstructured, thus needs to be structured for analysis.        0      \n",
       "When structured, text can be treated as structured data for analysis.  1      \n",
       "This is a new document added.                                          0      \n",
       "\n",
       "                                                                       document  \\\n",
       "Text is unstructured, thus needs to be structured for analysis.        0          \n",
       "When structured, text can be treated as structured data for analysis.  0          \n",
       "This is a new document added.                                          1          \n",
       "\n",
       "                                                                       need  \\\n",
       "Text is unstructured, thus needs to be structured for analysis.        1      \n",
       "When structured, text can be treated as structured data for analysis.  0      \n",
       "This is a new document added.                                          0      \n",
       "\n",
       "                                                                       new  \\\n",
       "Text is unstructured, thus needs to be structured for analysis.        0     \n",
       "When structured, text can be treated as structured data for analysis.  0     \n",
       "This is a new document added.                                          1     \n",
       "\n",
       "                                                                       structure  \\\n",
       "Text is unstructured, thus needs to be structured for analysis.        1           \n",
       "When structured, text can be treated as structured data for analysis.  2           \n",
       "This is a new document added.                                          0           \n",
       "\n",
       "                                                                       text  \\\n",
       "Text is unstructured, thus needs to be structured for analysis.        1      \n",
       "When structured, text can be treated as structured data for analysis.  1      \n",
       "This is a new document added.                                          0      \n",
       "\n",
       "                                                                       thu  \\\n",
       "Text is unstructured, thus needs to be structured for analysis.        1     \n",
       "When structured, text can be treated as structured data for analysis.  0     \n",
       "This is a new document added.                                          0     \n",
       "\n",
       "                                                                       treat  \\\n",
       "Text is unstructured, thus needs to be structured for analysis.        0       \n",
       "When structured, text can be treated as structured data for analysis.  1       \n",
       "This is a new document added.                                          0       \n",
       "\n",
       "                                                                       unstructure  \n",
       "Text is unstructured, thus needs to be structured for analysis.        1            \n",
       "When structured, text can be treated as structured data for analysis.  0            \n",
       "This is a new document added.                                          0            "
      ]
     },
     "metadata": {},
     "output_type": "display_data"
    }
   ],
   "source": [
    "doc5 = 'This is a new document added.'\n",
    "corpus1_2 = [doc1, doc2, doc5]\n",
    "token_dict_list = []\n",
    "token_list = []\n",
    "temp_dict = collections.defaultdict(int)\n",
    "for doc in corpus1_2:\n",
    "    temp_dict = collections.defaultdict(int)\n",
    "    tokens = nltk.word_tokenize(doc)\n",
    "    tokens_clean = [lemma(w) for w in tokens if w.lower() not in list(string.punctuation) + stop_words]\n",
    "    token_list.append(tokens_clean)\n",
    "    for t in tokens_clean:\n",
    "        temp_dict[t] += 1\n",
    "    token_dict_list.append(temp_dict)\n",
    "    \n",
    "corpus1_2_df = pd.DataFrame(token_dict_list, index=[doc1, doc2, doc5])\n",
    "corpus1_2_df = corpus1_2_df.fillna(0).astype(int, inplace=True)\n",
    "corpus1_2_df = corpus1_2_df.fillna(0).astype(int)\n",
    "display(corpus1_2_df)"
   ]
  },
  {
   "cell_type": "markdown",
   "metadata": {},
   "source": [
    "### Sparse matrix representation\\n\n",
    "\n",
    "Previously we saw a structured representation of text:\n",
    "{{corpus1_1_df}}\n",
    "\n",
    "This structure is a dense matrix structure. Pertaining to text, it is also called a Document-Term Matrix (DTM)."
   ]
  },
  {
   "cell_type": "markdown",
   "metadata": {},
   "source": [
    "I added another document to the corpus, and after preprocessing is performed, the structured representation becomes:\n",
    "{{corpus1_2_df}}\n",
    "\n",
    "Notice that there are many zeros in the DTM."
   ]
  },
  {
   "cell_type": "code",
   "execution_count": 18,
   "metadata": {
    "collapsed": false,
    "deletable": true,
    "editable": true,
    "slideshow": {
     "slide_type": "skip"
    }
   },
   "outputs": [],
   "source": [
    "dictionary = corpora.Dictionary(token_list)\n",
    "token_2_id = dictionary.token2id\n",
    "\n",
    "sparse_dict = {'Sparse Representation':[]}\n",
    "for d in token_list:\n",
    "    sparse_dict['Sparse Representation'].append(dictionary.doc2bow(d))\n",
    "\n",
    "sparse_df = pd.DataFrame(sparse_dict, columns=['Sparse Representation'])\n",
    "sparse_df.index = corpus1_2\n",
    "\n",
    "indices = pd.DataFrame(dictionary.items(), columns=['index', 'token'], index=None).sort_values('index').reset_index(drop=True)"
   ]
  },
  {
   "cell_type": "markdown",
   "metadata": {
    "deletable": true,
    "editable": true,
    "slideshow": {
     "slide_type": "subslide"
    },
    "variables": {
     "display(sparse_df)": {},
     "indices": {}
    }
   },
   "source": [
    "The zeros in a DTM is a waste of memory because we are storing information about no information. A sparse matrix representation is preferred as it is more compact when there are many zeros. The code to do this is on the next few slides.\n",
    "\n",
    "{{display(sparse_df)}}\n",
    "\n",
    "{{indices}}"
   ]
  },
  {
   "cell_type": "code",
   "execution_count": 19,
   "metadata": {
    "collapsed": false,
    "deletable": true,
    "editable": true,
    "slideshow": {
     "slide_type": "subslide"
    }
   },
   "outputs": [
    {
     "data": {
      "text/plain": [
       "['Text is unstructured, thus needs to be structured for analysis.',\n",
       " 'When structured, text can be treated as structured data for analysis.',\n",
       " 'This is a new document added.']"
      ]
     },
     "metadata": {},
     "output_type": "display_data"
    }
   ],
   "source": [
    "display(corpus1_2)"
   ]
  },
  {
   "cell_type": "code",
   "execution_count": 20,
   "metadata": {
    "collapsed": false,
    "deletable": true,
    "editable": true
   },
   "outputs": [
    {
     "data": {
      "text/plain": [
       "[['text', 'unstructure', 'thu', u'need', u'structure', 'analysi'],\n",
       " [u'structure', 'text', u'treat', u'structure', 'data', 'analysi'],\n",
       " ['new', u'document', u'add']]"
      ]
     },
     "metadata": {},
     "output_type": "display_data"
    }
   ],
   "source": [
    "display(token_list) # This is the list of tokens for each document in corpus1_2"
   ]
  },
  {
   "cell_type": "code",
   "execution_count": 21,
   "metadata": {
    "collapsed": false,
    "deletable": true,
    "editable": true,
    "slideshow": {
     "slide_type": "-"
    }
   },
   "outputs": [
    {
     "name": "stdout",
     "output_type": "stream",
     "text": [
      "Dictionary(11 unique tokens: [u'analysi', u'unstructure', u'text', u'thu', u'add']...)\n"
     ]
    }
   ],
   "source": [
    "dictionary = corpora.Dictionary(token_list) # Register each token in the corpus into the dictionary.\n",
    "print dictionary"
   ]
  },
  {
   "cell_type": "markdown",
   "metadata": {
    "deletable": true,
    "editable": true
   },
   "source": [
    "**Note**: The above _dictionary_ does not refer to the dict data structure in python. "
   ]
  },
  {
   "cell_type": "code",
   "execution_count": 22,
   "metadata": {
    "collapsed": false,
    "deletable": true,
    "editable": true,
    "slideshow": {
     "slide_type": "-"
    }
   },
   "outputs": [
    {
     "name": "stdout",
     "output_type": "stream",
     "text": [
      "{u'analysi': 0, u'unstructure': 1, u'text': 2, u'thu': 3, u'add': 9, u'treat': 7, u'need': 4, u'new': 8, u'document': 10, u'data': 6, u'structure': 5}\n"
     ]
    }
   ],
   "source": [
    "token_2_id = dictionary.token2id # Reprsent the index representation of each token in a python dict format.\n",
    "print token_2_id"
   ]
  },
  {
   "cell_type": "markdown",
   "metadata": {
    "deletable": true,
    "editable": true,
    "slideshow": {
     "slide_type": "subslide"
    }
   },
   "source": [
    "In order to retrieve the sparse representation of each document in the corpus, we have to input the tokens of each document into _dictionary.doc2bow()_:"
   ]
  },
  {
   "cell_type": "code",
   "execution_count": 23,
   "metadata": {
    "collapsed": false,
    "deletable": true,
    "editable": true
   },
   "outputs": [
    {
     "name": "stdout",
     "output_type": "stream",
     "text": [
      "['text', 'unstructure', 'thu', u'need', u'structure', 'analysi']\n",
      "[(0, 1), (1, 1), (2, 1), (3, 1), (4, 1), (5, 1)] \n",
      "\n",
      "[u'structure', 'text', u'treat', u'structure', 'data', 'analysi']\n",
      "[(0, 1), (2, 1), (5, 2), (6, 1), (7, 1)] \n",
      "\n",
      "['new', u'document', u'add']\n",
      "[(8, 1), (9, 1), (10, 1)] \n",
      "\n"
     ]
    }
   ],
   "source": [
    "for d in token_list:\n",
    "    print d\n",
    "    print dictionary.doc2bow(d), '\\n'"
   ]
  },
  {
   "cell_type": "markdown",
   "metadata": {
    "deletable": true,
    "editable": true,
    "slideshow": {
     "slide_type": "subslide"
    }
   },
   "source": [
    "### Term Weighting\n",
    "\n",
    "In the view of the corpus, each term may have different importance in differentiating a document from another. For example, in a corpus with documents talking mainly about cats, a rare word like \"fish\" appearing in some documents becomes valuable in differentiating those documents from the rest of the documents. On the other hand, the word \"cat\" may be very common in the corpus. In text analytics, rare differentiating words in a corpus is assigned a higher weight to increase its differentiating power. On the other hand, common words (but they are not stopwords) are assigned a lower weight to suppress its importance. This weight is called the term weighting.\n",
    "\n",
    "Term weighting is important in analysis such as finding document similarity and topic modelling. More will be elaborated when covering that topic."
   ]
  },
  {
   "cell_type": "markdown",
   "metadata": {
    "deletable": true,
    "editable": true,
    "slideshow": {
     "slide_type": "subslide"
    }
   },
   "source": [
    "One such popular term weighting is called the **tf-idf**, short for term frequency - inverse document frequency. **Tf-idf** itself consists of the multiplication of 2 weights: the **tf** part and the **idf** part. The value of each term for a document in the sparse matrix, instead of being simply the word frequency count, is now the value of **tf-idf**."
   ]
  },
  {
   "cell_type": "markdown",
   "metadata": {
    "deletable": true,
    "editable": true,
    "slideshow": {
     "slide_type": "subslide"
    }
   },
   "source": [
    "### tf\n",
    "\n",
    "The tf part of tf-idf is simply a transformation of the term frequency in a document. Types of common transformations are:\n",
    "\n",
    "* No transformation - simply the term frequency in a document.\n",
    "* Binary transformation - takes a 1 or 0 value, 1 indicating a term is present in a document, 0 indicating a term is absent.\n",
    "* log transformation - the value is the logarithm of the term frequency in the document.\n",
    "\n",
    "\n",
    "### idf\n",
    "It is given by the formula:\n",
    "### $$\\log_2\\frac{D}{df_w}$$\n",
    "where $D$ is the number of documents in the entire corpus.\n",
    "\n",
    "$df_w$ is the number of documents in the entire corpus that contains the word $w$."
   ]
  },
  {
   "cell_type": "markdown",
   "metadata": {
    "deletable": true,
    "editable": true,
    "slideshow": {
     "slide_type": "subslide"
    }
   },
   "source": [
    "### Effect of a log transformation tf\n",
    "\n",
    "The effect is the dampening of words with large frequency."
   ]
  },
  {
   "cell_type": "code",
   "execution_count": 24,
   "metadata": {
    "collapsed": false,
    "deletable": true,
    "editable": true
   },
   "outputs": [
    {
     "data": {
      "text/plain": [
       "[]"
      ]
     },
     "execution_count": 24,
     "metadata": {},
     "output_type": "execute_result"
    },
    {
     "data": {
      "image/png": "[encoded data removed]",
      "text/plain": [
       "<matplotlib.figure.Figure at 0x11189cf8>"
      ]
     },
     "metadata": {},
     "output_type": "display_data"
    }
   ],
   "source": [
    "plt.plot(range(11), np.log(range(11)), label='log tranformation')\n",
    "plt.plot(range(11), range(11), linestyle='--', label='term frequency')\n",
    "plt.ylabel(\"log(term frequency)\")\n",
    "plt.ylim(ymax=11, ymin=0)\n",
    "plt.xlabel(\"term frequency\")\n",
    "plt.xlim(xmax=11, xmin=0)\n",
    "plt.title('Effect of a log transformation tf')\n",
    "plt.legend(loc='top left')\n",
    "plt.plot()"
   ]
  },
  {
   "cell_type": "markdown",
   "metadata": {
    "deletable": true,
    "editable": true,
    "slideshow": {
     "slide_type": "subslide"
    }
   },
   "source": [
    "### Effect of idf\n",
    "\n",
    "The effect of idf is a low value for a common word that appears in many documents of the corpus, but a high value for a rare word that appears in only a few document. "
   ]
  },
  {
   "cell_type": "code",
   "execution_count": 25,
   "metadata": {
    "collapsed": true,
    "deletable": true,
    "editable": true
   },
   "outputs": [],
   "source": [
    "# Sentences the Cat article extracted from wikipedia https://en.wikipedia.org/wiki/Cat\n",
    "cat1 = 'The domestic cat is a small, typically furry, carnivorous mammal.'\n",
    "cat2 = 'Since cats were venerated in ancient Egypt, they were commonly believed to have been domesticated there.'\n",
    "cat3 = 'As of a 2007 study, cats are the second most popular pet in the US by number of pets owned, behind freshwater fish'\n",
    "cat4 = 'In a 2010 study they were ranked the third most popular pet in the UK, after fish and dogs, with around 8 million being owned'"
   ]
  },
  {
   "cell_type": "markdown",
   "metadata": {
    "deletable": true,
    "editable": true
   },
   "source": [
    "_cat_ appears in all 4 documents, $df_w$ is 4, giving $idf = \\log_2 \\frac{4}{4}=0$. \n",
    "\n",
    "On the other hand _fish_ appears in only 2 documents, $df_w$ is 2, giving $idf = \\log_2 \\frac{4}{2}=1$. \n",
    "\n",
    "When multiplied with a tf with no transformation, the value for _cat_ in each document becomes 0, while the value for _fish_ remains as its frequency count in each document. Idf effectively create a corpus specific stopword."
   ]
  },
  {
   "cell_type": "markdown",
   "metadata": {
    "deletable": true,
    "editable": true,
    "slideshow": {
     "slide_type": "slide"
    }
   },
   "source": [
    "\n",
    "## Enhancing texts\n",
    "\n",
    "It's the addition of more information into text:\n",
    "\n",
    "* Ngram\n",
    "* Part of speech (POS) tagging\n",
    "* Entity Recognition"
   ]
  },
  {
   "cell_type": "markdown",
   "metadata": {
    "deletable": true,
    "editable": true,
    "slideshow": {
     "slide_type": "subslide"
    }
   },
   "source": [
    "### Ngram\n",
    "\n",
    "During tokenization, words are treated as stand alone. However, the same sequence of words that appear in different documents in the corpus might be an indication of common topics. Ngram is an attempt to group words in sequence, for example \"global trends\", \"National Supercomputing Centre\", \"high performance computing\".\n",
    "\n",
    "* Bigram - grouping 2 words together.\n",
    "* Trigram - grouping 3 words together.\n",
    "* Quadgram - grouping 4 words together.\n",
    "\n",
    "Each of the ngrams discovered can be used like a single word token in a DTM."
   ]
  },
  {
   "cell_type": "code",
   "execution_count": 26,
   "metadata": {
    "collapsed": false,
    "deletable": true,
    "editable": true,
    "slideshow": {
     "slide_type": "subslide"
    }
   },
   "outputs": [
    {
     "name": "stdout",
     "output_type": "stream",
     "text": [
      "bi-gram\n",
      "[('supercomputing', 'frontiers'), ('frontiers', '2017'), ('explore', 'global'), ('global', 'trends'), ('high', 'performance'), ('performance', 'computing')] \n",
      "\n",
      "tri-gram\n",
      "[('supercomputing', 'frontiers', '2017'), ('explore', 'global', 'trends'), ('high', 'performance', 'computing')] \n",
      "\n",
      "quad-gram\n",
      "[] \n",
      "\n"
     ]
    }
   ],
   "source": [
    "# performing ngrams.\n",
    "SCF = 'Supercomputing Frontiers 2017 will explore global trends and innovations in high performance computing.'\n",
    "SCF_tokens = [w.lower() for w in nltk.word_tokenize(SCF)]\n",
    "grams = ['bi', 'tri', 'quad']\n",
    "n_gram_list = []\n",
    "for i, gram in enumerate(grams, 2):\n",
    "    print gram + '-gram'\n",
    "    n_grams = ngrams(SCF_tokens, i) # creating the ngrams. \"i\" indicates the n value.\n",
    "    n_grams_clean = [words for words in n_grams \n",
    "                     if len((set(words) & set(string.punctuation)) # none of the words are punctuations\n",
    "                            | (set([w for w in words]) & set(stop_words)))==0] # none of the words are stopwords\n",
    "    print n_grams_clean, '\\n'\n",
    "    n_gram_list.append(n_grams_clean)\n",
    "    "
   ]
  },
  {
   "cell_type": "markdown",
   "metadata": {
    "deletable": true,
    "editable": true,
    "slideshow": {
     "slide_type": "subslide"
    }
   },
   "source": [
    "### Part of speech (POS) tagging\n",
    "\n",
    "POS is the addition of part of speech information of each word."
   ]
  },
  {
   "cell_type": "code",
   "execution_count": 27,
   "metadata": {
    "collapsed": false,
    "deletable": true,
    "editable": true
   },
   "outputs": [
    {
     "name": "stdout",
     "output_type": "stream",
     "text": [
      "Supercomputing Frontiers 2017 will explore global trends and innovations in high performance computing. \n",
      "\n",
      "[('Supercomputing', 'VBG'), ('Frontiers', 'NNS'), ('2017', 'CD'), ('will', 'MD'), ('explore', 'VB'), ('global', 'JJ'), ('trends', 'NNS'), ('and', 'CC'), ('innovations', 'NNS'), ('in', 'IN'), ('high', 'JJ'), ('performance', 'NN'), ('computing', 'NN'), ('.', '.')]\n"
     ]
    }
   ],
   "source": [
    "print SCF, '\\n'\n",
    "print nltk.pos_tag(nltk.word_tokenize(SCF))"
   ]
  },
  {
   "cell_type": "markdown",
   "metadata": {
    "deletable": true,
    "editable": true
   },
   "source": [
    "<img src='img\\POS Tagset.PNG' height='630' width='630' align='left'/>"
   ]
  },
  {
   "cell_type": "markdown",
   "metadata": {
    "deletable": true,
    "editable": true,
    "slideshow": {
     "slide_type": "subslide"
    }
   },
   "source": [
    "POS tagging work by looking up into a word lexicon like the famous [wordnet](http://wordnet.princeton.edu/). The part of speech tagging in the lexicon is often tagged by a linguist. In other POS algorithms, the POS returned may also be result of running a machine learning model, previously trained on the POS of known sentences."
   ]
  },
  {
   "cell_type": "markdown",
   "metadata": {
    "deletable": true,
    "editable": true,
    "slideshow": {
     "slide_type": "subslide"
    }
   },
   "source": [
    "As the rules of English or any other languages can be very complicated, it is not a surprise that the POS tagging is not 100% accurate. In fact, humans are not 100% accruate as well. Take for an example the words \"bank\" and \"depend\" in the 2 documents below."
   ]
  },
  {
   "cell_type": "code",
   "execution_count": 28,
   "metadata": {
    "collapsed": false,
    "deletable": true,
    "editable": true,
    "slideshow": {
     "slide_type": "-"
    }
   },
   "outputs": [
    {
     "name": "stdout",
     "output_type": "stream",
     "text": [
      "Can I bank on you to go to the bank by the river bank?\n",
      "[('Can', 'MD'), ('I', 'PRP'), ('bank', 'NN'), ('on', 'IN'), ('you', 'PRP'), ('to', 'TO'), ('go', 'VB'), ('to', 'TO'), ('the', 'DT'), ('bank', 'NN'), ('by', 'IN'), ('the', 'DT'), ('river', 'NN'), ('bank', 'NN'), ('?', '.')] \n",
      "\n",
      "Can I depend on you to go to the bank by the river bank?\n",
      "[('Can', 'MD'), ('I', 'PRP'), ('depend', 'VB'), ('on', 'IN'), ('you', 'PRP'), ('to', 'TO'), ('go', 'VB'), ('to', 'TO'), ('the', 'DT'), ('bank', 'NN'), ('by', 'IN'), ('the', 'DT'), ('river', 'NN'), ('bank', 'NN'), ('?', '.')]\n"
     ]
    }
   ],
   "source": [
    "print \"Can I bank on you to go to the bank by the river bank?\"\n",
    "print nltk.pos_tag(nltk.word_tokenize(\"Can I bank on you to go to the bank by the river bank?\")),'\\n'\n",
    "\n",
    "print \"Can I depend on you to go to the bank by the river bank?\"\n",
    "print nltk.pos_tag(nltk.word_tokenize(\"Can I depend on you to go to the bank by the river bank?\"))"
   ]
  },
  {
   "cell_type": "markdown",
   "metadata": {
    "deletable": true,
    "editable": true
   },
   "source": [
    "\"depend\" and the first \"bank\" should obviously be the same POS, but \"bank\" was intepreted as a noun in the 2nd document instead of a verb."
   ]
  },
  {
   "cell_type": "markdown",
   "metadata": {
    "deletable": true,
    "editable": true,
    "nbpresent": {
     "id": "d7ed6a2b-6736-4a9c-9241-8db9e1f1c399"
    },
    "slideshow": {
     "slide_type": "-"
    }
   },
   "source": [
    "<img src='img\\POS Tagset.PNG' height='630' width='630' align='left'/>"
   ]
  },
  {
   "cell_type": "markdown",
   "metadata": {
    "deletable": true,
    "editable": true,
    "slideshow": {
     "slide_type": "subslide"
    }
   },
   "source": [
    "### Entity Recognition\n",
    "\n",
    "In the nltk library, the entities the can be recognized are:\n",
    "\n",
    "* People\n",
    "* Organizations\n",
    "* Geopolitical entity (GPE)\n",
    "\n",
    "Prior to recognizing entities, POS tagging has to be performed on the text first."
   ]
  },
  {
   "cell_type": "code",
   "execution_count": 29,
   "metadata": {
    "collapsed": false,
    "deletable": true,
    "editable": true
   },
   "outputs": [
    {
     "name": "stdout",
     "output_type": "stream",
     "text": [
      "Supercomputing Frontiers 2017 is Singapore's annual international conference that provides a platform for thought leaders from both academia and industry to interact and discuss visionary ideas, important global trends and substantial innovations in supercomputing.\n",
      "(S\n",
      "  Supercomputing/VBG\n",
      "  Frontiers/NNS\n",
      "  2017/CD\n",
      "  is/VBZ\n",
      "  (GPE Singapore/NNP)\n",
      "  's/POS\n",
      "  annual/JJ\n",
      "  international/JJ\n",
      "  conference/NN\n",
      "  that/WDT\n",
      "  provides/VBZ\n",
      "  a/DT\n",
      "  platform/NN\n",
      "  for/IN\n",
      "  thought/JJ\n",
      "  leaders/NNS\n",
      "  from/IN\n",
      "  both/DT\n",
      "  academia/NN\n",
      "  and/CC\n",
      "  industry/NN\n",
      "  to/TO\n",
      "  interact/VB\n",
      "  and/CC\n",
      "  discuss/VB\n",
      "  visionary/JJ\n",
      "  ideas/NNS\n",
      "  ,/,\n",
      "  important/JJ\n",
      "  global/JJ\n",
      "  trends/NNS\n",
      "  and/CC\n",
      "  substantial/JJ\n",
      "  innovations/NNS\n",
      "  in/IN\n",
      "  supercomputing/NN\n",
      "  ./.)\n"
     ]
    }
   ],
   "source": [
    "SCF2 = \"Supercomputing Frontiers 2017 is Singapore's annual international conference that provides a platform for thought leaders from both academia and industry to interact and discuss visionary ideas, important global trends and substantial innovations in supercomputing.\"\n",
    "print SCF2\n",
    "\n",
    "SCF2_tokens = nltk.word_tokenize(SCF2)\n",
    "SCF2_pos = nltk.pos_tag(SCF2_tokens)\n",
    "SCF2_entity = nltk.ne_chunk(SCF2_pos)\n",
    "\n",
    "print SCF2_entity"
   ]
  },
  {
   "cell_type": "markdown",
   "metadata": {
    "deletable": true,
    "editable": true,
    "slideshow": {
     "slide_type": "subslide"
    }
   },
   "source": [
    "But entity recognition only works on capitalized words."
   ]
  },
  {
   "cell_type": "code",
   "execution_count": 30,
   "metadata": {
    "collapsed": false,
    "deletable": true,
    "editable": true
   },
   "outputs": [
    {
     "name": "stdout",
     "output_type": "stream",
     "text": [
      "(S\n",
      "  supercomputing/VBG\n",
      "  frontiers/NNS\n",
      "  2017/CD\n",
      "  is/VBZ\n",
      "  singapore/RBR\n",
      "  's/POS\n",
      "  annual/JJ\n",
      "  international/JJ\n",
      "  conference/NN\n",
      "  that/WDT\n",
      "  provides/VBZ\n",
      "  a/DT\n",
      "  platform/NN\n",
      "  for/IN\n",
      "  thought/JJ\n",
      "  leaders/NNS\n",
      "  from/IN\n",
      "  both/DT\n",
      "  academia/NN\n",
      "  and/CC\n",
      "  industry/NN\n",
      "  to/TO\n",
      "  interact/VB\n",
      "  and/CC\n",
      "  discuss/VB\n",
      "  visionary/JJ\n",
      "  ideas/NNS\n",
      "  ,/,\n",
      "  important/JJ\n",
      "  global/JJ\n",
      "  trends/NNS\n",
      "  and/CC\n",
      "  substantial/JJ\n",
      "  innovations/NNS\n",
      "  in/IN\n",
      "  supercomputing/NN\n",
      "  ./.)\n"
     ]
    }
   ],
   "source": [
    "SCF2_2_tokens = [w.lower() for w in nltk.word_tokenize(SCF2)] # lowercase all the tokens.\n",
    "SCF2_2_pos = nltk.pos_tag(SCF2_2_tokens) #POS taggin remains the same\n",
    "SCF2_2_entity = nltk.ne_chunk(SCF2_2_pos)\n",
    "print SCF2_2_entity"
   ]
  },
  {
   "cell_type": "code",
   "execution_count": 31,
   "metadata": {
    "collapsed": false,
    "deletable": true,
    "editable": true,
    "slideshow": {
     "slide_type": "skip"
    }
   },
   "outputs": [
    {
     "name": "stdout",
     "output_type": "stream",
     "text": [
      "(S\n",
      "  (GPE Supercomputing_Frontiers_2017/NNP)\n",
      "  will/MD\n",
      "  explore/VB\n",
      "  global_trends/NNS\n",
      "  and/CC\n",
      "  innovations/NNS\n",
      "  in/IN\n",
      "  high_performance_computing/NN\n",
      "  ./.)\n"
     ]
    }
   ],
   "source": [
    "SCF3 = 'Supercomputing_Frontiers_2017 will explore global_trends and innovations in high_performance_computing.'\n",
    "\n",
    "SCF3_tokens = nltk.word_tokenize(SCF3)\n",
    "SCF3_pos = nltk.pos_tag(SCF3_tokens)\n",
    "SCF3_entity = nltk.ne_chunk(SCF3_pos)\n",
    "\n",
    "print SCF3_entity"
   ]
  },
  {
   "cell_type": "markdown",
   "metadata": {
    "deletable": true,
    "editable": true,
    "slideshow": {
     "slide_type": "slide"
    }
   },
   "source": [
    "## Performing analysis\n",
    "\n",
    "Here is a non-exhaustive list of analysis that can be performed on text:\n",
    "\n",
    "* Sentiment analysis\n",
    "* Document similarity\n",
    "* Topic modelling\n",
    "* Topic classification (not covered)\n",
    "* Document summarization (not covered)"
   ]
  },
  {
   "cell_type": "code",
   "execution_count": 32,
   "metadata": {
    "collapsed": false,
    "deletable": true,
    "editable": true,
    "nbpresent": {
     "id": "319ee13b-323e-4586-808d-c3f2b7d11ada"
    },
    "scrolled": true,
    "slideshow": {
     "slide_type": "skip"
    }
   },
   "outputs": [
    {
     "data": {
      "text/html": [
       "<div>\n",
       "<table border=\"1\" class=\"dataframe\">\n",
       "  <thead>\n",
       "    <tr style=\"text-align: right;\">\n",
       "      <th></th>\n",
       "      <th>categories</th>\n",
       "      <th>text</th>\n",
       "      <th>stars</th>\n",
       "    </tr>\n",
       "  </thead>\n",
       "  <tbody>\n",
       "    <tr>\n",
       "      <th>0</th>\n",
       "      <td>Public Services &amp; Government</td>\n",
       "      <td>Festivals. Fun. Beer. Lots of beer. Charlotte Center City Partners (or Find Your Center) puts on a lot of these types of festivals Uptown and in South End. When you check out their website or their weekly newsletter you'll be able to see lots of events coming up like Beer, Blues and BBQ, Taste of Charlotte, Speedstreet and the like. \\r\\n\\r\\nMany of these events and festivals usually have beer available, hence why I'm a fan. And, yeah, I also really like supporting the local organization that's responsible for Uptown's development. If only there was a PBR festival...!</td>\n",
       "      <td>4</td>\n",
       "    </tr>\n",
       "    <tr>\n",
       "      <th>1</th>\n",
       "      <td>Public Services &amp; Government</td>\n",
       "      <td>For fun in Center City, Charlotte Center City Partners has it covered!\\r\\n\\r\\nYes, these are the folks largely responsible for the big ole event Uptown. Whether it's Beer, Blues &amp; BBQ, Taste of Charlotte, Speedstreet or pumpkin carving for Halloween - I give these guys credit. Considering only 10-12K people live in Uptown, they have a large feat of bringing the masses into Center City. \\r\\n\\r\\nAs a whole, these events are well organized, nicely promoted and generally a really good time. Stephen puts it well - every event won't be for everybody, but I appreciate that they try to bring Charlotte together (as we're a large group of transplants). In addition to the events, they also send out a really great calendar of what's going on in Uptown &amp; South End every week. If you don't get it already, definitely check it out.</td>\n",
       "      <td>4</td>\n",
       "    </tr>\n",
       "    <tr>\n",
       "      <th>2</th>\n",
       "      <td>Public Services &amp; Government</td>\n",
       "      <td>Way to ruin driving to downtown, do you know how hard it is to navigate those barricades after a long night at Seamus Mccaffrey's or  \\r\\nGeorge &amp; Dragon!? Go home, YOU SUCK.</td>\n",
       "      <td>1</td>\n",
       "    </tr>\n",
       "    <tr>\n",
       "      <th>3</th>\n",
       "      <td>Public Services &amp; Government</td>\n",
       "      <td>I have taken a ride on the light rail a few times now and I have some stories!! The first time I rode the light rail I took it from Mill Ave to Phoenix to see the D-Backs and Cubs play. My friends had caught a tram in Mesa so I sat there and watched a few trams come and go before I got onto the one with my friends on it. That was easy enough...there was enough room for me and the ride was smooth and fun (though I can't say it was relaxing)...Any ways. After the game was quite an experience! The tram ride home was a little more crowed now that the game had let out. There were two die hard fans in our car from the two teams who started talking trash to each other...well one of them had a little too much to drink and one thing lead to another and they were soon yelling threats at each other. Right before the drunker one took a swing (in a very crowded car) an older man stood up and shut them both up before someone got hurt...the tension in the air was thick the whole way back to Tempe where the Cub fan got off and punched the window. The friends of the other guy had to hold him back...I mean come on!! \\r\\n\\r\\nOkay, then I had the pleasure of using the light rail to go to the Circus. Again I was headed to Phoenix but this time I got on at the Washington stop. It was again a fun ride, but I couldn't say that it was a relaxing ride...there was this bum who was asking people for money and I think it would be better with some music playing in the background...any ways the ride home wasn't as eventful as the baseball game crowd, but again, there was another bum asking for money...can people just ride in peace?\\r\\n\\r\\nI like the light rail - I really do...it's always an interesting experience, but I just don't feel safe on it. I used to take the metro bus from Gilbert to Mesa every day for a while and I felt safer on that then I do on the light rail and the bums who ride the bus don't ask me for money either.</td>\n",
       "      <td>2</td>\n",
       "    </tr>\n",
       "    <tr>\n",
       "      <th>4</th>\n",
       "      <td>Public Services &amp; Government</td>\n",
       "      <td>I want to like the Light Rail, I really do, I even voted for it. Having moved to Phoenix from a city with a great public transportation system(Chicago) and having visited other large cities with great Public transportation systems, I wanted this for Phoenix too. I wanted to live is a city where owning a car was optional.  The Phoenix light rail is a huge disappointment. It is so darn slow...insanely slow, maddeningly slow, not only does it stop at every station but being at grade(street level), it also stops at the majority of stop lights too. Let's be honest, if you own a car you will not be riding the Light rail regularly, it just takes too much time and time is money, it takes like 3 times as long as just driving, heck I could probably ride a bicycle faster...seriously. Phoenix having been developed after Americans became dependent on automobiles has an well maintained &amp; fast  freeway/ surface road system compared to other major metropolitan areas(kudos to ADOT). \\r\\n     The majority of people who ride the light rail appear to be poor people who don't own cars, which brings me to my next points, there are tons of panhandlers constantly harassing anyone that appears to have money and without exception every time I have ridden the Light Rail I have seen a knock down drag out MMA style fight on the train with people recording it and yelling \"World Star\". There is little to no security or police presence, if you are elderly, a woman or have children, forget it I would not recommend it, I'm a large male and I kept my back against the wall &amp; head on a swivel expecting a kerfuffle.   \\r\\nOne star...I don't know what the public transportation solution is for Phoenix but this isn't it.</td>\n",
       "      <td>1</td>\n",
       "    </tr>\n",
       "    <tr>\n",
       "      <th>5</th>\n",
       "      <td>Public Services &amp; Government</td>\n",
       "      <td>#NWExtension is finally open!  After 3 long years of our neighborhood being on the trail of the #NWExtension and have adapted to the turmoil, closures and dust.  Now it's all paid off because we have a beautiful new rail a couple blocks away.  Beautifully landscaped and station art by local schoolchildren and artists.  They did a very good job and it's fun to have the rail so close and easy.  Now trips downtown or to the East Valley are easier, greener (even though we have a hybrid) and no parking hell to deal with.  That is a beautiful thing now that parking downtown is so expensive.  This is awesome and today marked the grand opening.  The trains are running on 19th Ave and it's really kind of nice to hear it a couple of blocks away when outside.  Calming.</td>\n",
       "      <td>5</td>\n",
       "    </tr>\n",
       "    <tr>\n",
       "      <th>6</th>\n",
       "      <td>Public Services &amp; Government</td>\n",
       "      <td>Had the most positive experience in a government building when I visited to get my social security card. I literally walked in, checked in with the security guard, she gave me my ticket, checked my bag for weapons, and I sat down for literally 4minutes and was called up to a window. \\r\\n\\r\\nIt was about noon when I visited on a Friday to get my Social Security Card, and the representative was super pleasant and helpful. I strongly suggest if you don't want to deal with parking issues with the downtown location, come here!</td>\n",
       "      <td>5</td>\n",
       "    </tr>\n",
       "    <tr>\n",
       "      <th>7</th>\n",
       "      <td>Public Services &amp; Government</td>\n",
       "      <td>If you're coming for a new or replacement social security card you need to go to Suite B NOT the main office. When you pull into the parking lot turn left and follow the road around. Suite B is located in the back left side of the building. The security guard will search your belonings so leave your guns and drugs at home. The staff was very friendly and I was in and out in about 45 minutes. If your changing your name like I was you will have to wait 48 hours before you to go to the MVD to get an updated licence to allow their system to process the change. I was told I'll receive my new card in the mail in 2 weeks.</td>\n",
       "      <td>4</td>\n",
       "    </tr>\n",
       "    <tr>\n",
       "      <th>8</th>\n",
       "      <td>Public Services &amp; Government</td>\n",
       "      <td>2.. the number of hours I spent here getting my new social security card with my new last name. 7. the number of minutes it took, once my name was called to get a new SS card ordered for me in said last name. I pray that I never have to come back to this place again after that crazy experience. Plus it was FREEZING! What the crap?</td>\n",
       "      <td>1</td>\n",
       "    </tr>\n",
       "    <tr>\n",
       "      <th>9</th>\n",
       "      <td>Public Services &amp; Government</td>\n",
       "      <td>As other reviews have said if you are looking to change your name Suite B is around the corner from the main entrance so park / walk in on that side. Both entrances have a security guard that will ask why you are there and will ensure that you get checked in. If you have a bag or purse, they will ask to check it for any weapons and then request that you put your cell phone on silent or vibrate.\\r\\n\\r\\nI didn't have an appointment, but since we recently got married, I needed to request a new SS card in order to get my name updated. I received a ticket from the security guard that checked me in and I was about 4 numbers off from the most recently called one. I waited about five minutes in a chair before my number was called (side note: if you go at lunch time, they will have less windows open - so if you can, try going during the earlier morning, or a bit after lunch to ensure you get seen).  \\r\\n\\r\\nBe sure to check their website before going so you can print and fill out the application form and have it ready to go.  It's also a great resource for being able to know what to bring with you so you don't have to make a return trip.  \\r\\n\\r\\nI had my passport, birth certificate, driver's license and marriage license. It took about five minutes for the clerk behind the counter to type in all my information and I was ready to go!  She was fast, efficient and friendly.  The security guard was helpful and funny. \\r\\n\\r\\nOverall: A\\r\\nCheck the website, come prepared, and all in all it should be a quick visit!!</td>\n",
       "      <td>4</td>\n",
       "    </tr>\n",
       "    <tr>\n",
       "      <th>10</th>\n",
       "      <td>Public Services &amp; Government</td>\n",
       "      <td>Almost 5 years into marriage and I decided it was time to finally legally change my name...\\r\\n\\r\\nPart of the reason that it took me so long was the dreaded process of going to the Social Security Administration office amongst a handful of others.  But I bit the bullet and took step number one which landed me here.\\r\\n\\r\\nI walked into the wrong entrance and was quickly told I needed to enter on the other side of the building.  No big deal... As I walked, I crossed my fingers that the line wouldn't be as long as the first side.  And when I entered over there, it didn't look too bad.  I think I waited approximately one hour and then met with my \"agent\" for about five minutes to take care of my own paperwork.\\r\\n\\r\\nStep one of the name change taken care of... hooray!\\r\\nOnly about 6 other steps to go (before hitting up credit card, bank, airlines, etc...) Wish me luck!\\r\\n\\r\\nA few things to note if you are heading to this office:\\r\\nThere are no drinks allowed, no computers allowed, and your phone must be kept on silent.  You may also want to call ahead to check their hours as they close early on certain days of the week.  Good luck!</td>\n",
       "      <td>3</td>\n",
       "    </tr>\n",
       "    <tr>\n",
       "      <th>11</th>\n",
       "      <td>Public Services &amp; Government</td>\n",
       "      <td>Wow, wow, wow! I came here for the sole purpose of changing my last name due to marriage. I came at 1:20 on Friday and left at 1:45. Quick right?! Everything was wonderful and extremely easy. I came in the suite B doors as mentioned in the other reviews. Only took 15 minutes of waiting about 5 for the actually go through the paperwork. \\r\\n\\r\\nWell right when I was stepping inside my car, I realized that the guy messed up my address so here I am waiting at the end of the line again. Real dumb. Good job. Once again, the government did it!  So for that sole purpose, 3 stars only. Incompetent fools.\\r\\n\\r\\nI recommend coming later around closing time cause no one is really there especially on Friday. Also I brought in my passport and other IDs. They don't really need much. They will just ask you a few questions.</td>\n",
       "      <td>3</td>\n",
       "    </tr>\n",
       "    <tr>\n",
       "      <th>12</th>\n",
       "      <td>Public Services &amp; Government</td>\n",
       "      <td>Pretty clean facility. Fast and prompt service. Very friendly staff. I just got married and needed to change my last name on my social security card. I was in and out of the office in less than 5 minutes, granted it was a Wednesday at 11:30am. I was dreading coming here and was so relived as to how fast it went. Definitely come to this office.</td>\n",
       "      <td>5</td>\n",
       "    </tr>\n",
       "    <tr>\n",
       "      <th>13</th>\n",
       "      <td>Public Services &amp; Government</td>\n",
       "      <td>People who works there need to be more happier and have smile on their face.  Overall services were quick, however there aren't enough parking spots, you may need to park somewhere else and walk over.</td>\n",
       "      <td>3</td>\n",
       "    </tr>\n",
       "    <tr>\n",
       "      <th>14</th>\n",
       "      <td>Public Services &amp; Government</td>\n",
       "      <td>It's an office of the Federal Government.  That means you can expect to wait longer that you should and have less than friendly service.  Thankfully, this visit wasn't to bad, other than the fact I had to ditch my coffee as they don't allow you to bring any liquids into the building.  It would be better if they at least had a coffee machine inside, but they don't so I suffered, I'm just glad I didn't have to wait to long.</td>\n",
       "      <td>3</td>\n",
       "    </tr>\n",
       "    <tr>\n",
       "      <th>15</th>\n",
       "      <td>Public Services &amp; Government</td>\n",
       "      <td>If you're looking for name changes/corrections make sure to read the signs that say Suite B! It literally is right around the corner.\\r\\n\\r\\nI was extremely impressed! It took me only about 5 minutes to get done what I needed &amp; there was almost no wait time.\\r\\n\\r\\nI was skeptical since I always hear people complain about what a long process it is getting your name changed, but it was quick &amp; easy in my opinion.\\r\\n\\r\\nMake sure to visit ssa.gov prior to your visit to make sure you have the appropriate documentation to do whatever it is you need to do.\\r\\n\\r\\nTheres also plenty of parking, but like I said, just know what side of the building you need to beat the heat!</td>\n",
       "      <td>4</td>\n",
       "    </tr>\n",
       "    <tr>\n",
       "      <th>16</th>\n",
       "      <td>Public Services &amp; Government</td>\n",
       "      <td>I thought it would be a long wait. I went two years ago and waited a few minutes outside then a couple hours inside before being helped. Today I had to go again to update my status from resident to citizen. I got there at 8:30am (Friday) and waited outside in a long line. At 8:55 they started letting people in. I finally got inside just after 9am. I just sat down when a lady directed me to an open window. I was in and out in less than 10 minutes. For the wait outside, bring a folding chair and something cold to drink, the rest is easy and quick!! From the security guard outside, to the guard inside checking bags, the lady directing people and the lady helping me - they were all very friendly and helpful.</td>\n",
       "      <td>5</td>\n",
       "    </tr>\n",
       "    <tr>\n",
       "      <th>17</th>\n",
       "      <td>Public Services &amp; Government</td>\n",
       "      <td>In and out in 10 minutes flat (On a Monday at 10AM). Took me longer to drive there. Needed a new card. The security guard was friendly (and adorable!) and the agent who assisted me (Gloria) was just the sweetest!</td>\n",
       "      <td>5</td>\n",
       "    </tr>\n",
       "    <tr>\n",
       "      <th>18</th>\n",
       "      <td>Public Services &amp; Government</td>\n",
       "      <td>I didn't even make it into the door into sweet b. The Security guard was highly disrespectful. I decided to go to the south Phoenix location instead. I would rather wait longer than deal with that so early in the morning.</td>\n",
       "      <td>1</td>\n",
       "    </tr>\n",
       "    <tr>\n",
       "      <th>19</th>\n",
       "      <td>Public Services &amp; Government</td>\n",
       "      <td>What a terrible experience.  This is the government at its finest.  I needed replacement social security cards for my kids and I researched everything I needed online, including their hours of operation.  The first time I went they were closed (different hours).  The second time I was told I needed different paperwork, so I went home and collected everything I was told.  The third time I was again told I needed different paperwork and to bring the kids with me.  The fourth time everything was finally processed - it only took an hour.  This was an hour once I got to a window, this does not include the wait time when you first arrive.</td>\n",
       "      <td>1</td>\n",
       "    </tr>\n",
       "    <tr>\n",
       "      <th>20</th>\n",
       "      <td>Public Services &amp; Government</td>\n",
       "      <td>If you're going to have to do anything social security related, come here. Quick. Easy and Friendly. Best of all, you're not shoulder to shoulder with a bunch of people. I got in at about 9:20am and was out by 9:40am. Only if every government service was this easy.</td>\n",
       "      <td>4</td>\n",
       "    </tr>\n",
       "    <tr>\n",
       "      <th>21</th>\n",
       "      <td>Public Services &amp; Government</td>\n",
       "      <td>Wonderful easy experience! Showed up a little before they opened, waited in a short line and got seen within 30 minutes. The security guard was super nice and so was the lady that checked me in. Granted I was here for a name change, but either way I didn't mind the experience!</td>\n",
       "      <td>5</td>\n",
       "    </tr>\n",
       "    <tr>\n",
       "      <th>22</th>\n",
       "      <td>Public Services &amp; Government</td>\n",
       "      <td>3.5 stars\\r\\n\\r\\nFinally got to visit this city of Phoenix, when all the other times we both would only be in the city because of the airport. Our friend took us to Phoenix to grab brunch before our trip back and pretty much drove us around Downtown Phoenix. It pretty much reminds me of Downtown Los Angeles. A few ghetto places and a few nice places. I thought there wouldn't be homeless people, but I guess I was wrong. There's always going to be at least 1% of them here and there. \\r\\n\\r\\nThere's a few one way streets, so be careful when you're driving. ALSO be careful with drivers, some may look like tourist and will not look at traffic while busy looking at something else. \\r\\n\\r\\nDrove passed Downtown Civic Space Park - http://www.yelp.com/biz/downtown-civic-space-park-phoenix\\r\\n\\r\\nLooked pretty cool. Try coming here at night time, the lit up loop will most likely amaze you like it would with me even when it wasn't even lit in colors :D I just can't wait to check it out the next time I visit!</td>\n",
       "      <td>3</td>\n",
       "    </tr>\n",
       "    <tr>\n",
       "      <th>23</th>\n",
       "      <td>Public Services &amp; Government</td>\n",
       "      <td>Phoenix is a one of a kind city, that is beautiful, fashionable, BIG, and luxurious. :-)</td>\n",
       "      <td>5</td>\n",
       "    </tr>\n",
       "    <tr>\n",
       "      <th>24</th>\n",
       "      <td>Public Services &amp; Government</td>\n",
       "      <td>I adore this city and would move here in a heartbeat. It is a foodie's dream, hiking is fabulous, Spring Training is fun even for the non-baseball inspired and the views are breathtaking.</td>\n",
       "      <td>5</td>\n",
       "    </tr>\n",
       "    <tr>\n",
       "      <th>25</th>\n",
       "      <td>Public Services &amp; Government</td>\n",
       "      <td>Metro Fire keeps us compliant and more. Our exit lights always work, our extinguishers are up to date and Kent Rassmussen represents well!</td>\n",
       "      <td>5</td>\n",
       "    </tr>\n",
       "    <tr>\n",
       "      <th>26</th>\n",
       "      <td>Public Services &amp; Government</td>\n",
       "      <td>Super honest knowledgable guys &amp; great pricing! I would use Metro for any and all of my security &amp; fire service needs. No other company can compare!!</td>\n",
       "      <td>5</td>\n",
       "    </tr>\n",
       "    <tr>\n",
       "      <th>27</th>\n",
       "      <td>Public Services &amp; Government</td>\n",
       "      <td>Metro fire is run by great guys.  Kent Rasmussen is superb and he is very friendly, very knowledgable about what he does.  You can't go wrong with these guys.</td>\n",
       "      <td>5</td>\n",
       "    </tr>\n",
       "    <tr>\n",
       "      <th>28</th>\n",
       "      <td>Public Services &amp; Government</td>\n",
       "      <td>This is a review for the Clark County Government Center on Grand Central Parkway.  I was there today to see a small art exhibit that's a playful poke at the art at City Center.\\r\\n\\r\\nI've been to the Government Center before when I had to go to an office for some business.  Parking is great and the building is interesting, inside and out.</td>\n",
       "      <td>4</td>\n",
       "    </tr>\n",
       "    <tr>\n",
       "      <th>29</th>\n",
       "      <td>Public Services &amp; Government</td>\n",
       "      <td>This place is huge and can be extremely hard to find anything. Simply ask any security for directions and they will happily take you to your destination. Parking is located right in front of the main entrance off of grand central, make sure you park in visitors parking which is the smaller lot. The huge lots surrounding are all for govt employees and I believe you will get ticketed or towed. If you are here as a new hire and need badging done, take the freight elevator down to the basement and follow the yellow footsteps to your destination!</td>\n",
       "      <td>5</td>\n",
       "    </tr>\n",
       "    <tr>\n",
       "      <th>...</th>\n",
       "      <td>...</td>\n",
       "      <td>...</td>\n",
       "      <td>...</td>\n",
       "    </tr>\n",
       "    <tr>\n",
       "      <th>636</th>\n",
       "      <td>Public Services &amp; Government</td>\n",
       "      <td>Biggest waste of money ever!  The TSA Pre-check line is officially the first time traveler, stroller. Wheelchair, family, and employee lane!  So frustrating to pay for a service and it is overtaken by I experienced travelers. Thanks for nothing TSA !!</td>\n",
       "      <td>1</td>\n",
       "    </tr>\n",
       "    <tr>\n",
       "      <th>637</th>\n",
       "      <td>Public Services &amp; Government</td>\n",
       "      <td>So, I have PreCheck, and I have an artificial hip.  I actually, stupidly, thought that PreCheck would actually get through TSA faster. Nope.  So in Phoenix, the PreCheck line has the metal detector, which means I have to wait to be wanded. So I normally tell them about my hip in the PreCheck line, so they send me over to another line with the body scanners, and my carry-on stays in the first line, but of course in those other lines you have to take off your shoes, coat, etc.  So I have to constantly tell them I'm PreCheck even if everyone else in line isn't, and of course they look at me like I'm an idiot. Why are you in this line if your PreCheck?\\r\\n\\r\\nI guess nobody at TSA ever realized that MAYBE someone with PreCheck may actually have an artificial joint. I guess nobody ever figured that out.\\r\\n\\r\\nMaybe TSA needs to all get together at a meeting, and figure out an organized way to handle EVERY type of passenger they might have. Then make sure EVERY TSA person knows this procedure.</td>\n",
       "      <td>2</td>\n",
       "    </tr>\n",
       "    <tr>\n",
       "      <th>638</th>\n",
       "      <td>Public Services &amp; Government</td>\n",
       "      <td>I really appreciate TSA for stealing my personal items out of my checked bags and then leaving a note inside telling me that my bag was searched. Probably the dumbest criminals ever. I hope you enjoy my Bose speaker. At least you stole the charger too, so that proves you're not totally retarded. \\r\\n\\r\\n\"Protecting you and your fellow passengers\" -TSA</td>\n",
       "      <td>1</td>\n",
       "    </tr>\n",
       "    <tr>\n",
       "      <th>639</th>\n",
       "      <td>Public Services &amp; Government</td>\n",
       "      <td>I'm so frustrated with TSA Checkpoint at Sky Harbor. Terminal 4-A checkpoint is a huge checkpoint which, on Sunday, is pretty much at max capacity all day. Business travelers like me travel out on Sunday and back on Thursday or Friday and depend on TSA Precheck to get me through security quickly.\\r\\n\\r\\nYou offer PreCheck services and take payments at your airport. Then you have PreCheck locations at your security screening areas, but you decide to CLOSE them around 5pm for who knows what reason! Why would you deny that service, THAT WE PAY FOR, on a busy commuter travel day!? The past 2 weeks when I've approached T4-A I've seen no less than 200 people queued up in the regular line and at least HALF of those people when asked have TSA Pre on their boarding pass. Are you trying to save some money by not staffing that location? Well I'd didn't get a discount when I paid into this service.\\r\\n\\r\\nDo everyone a favor. Staff this checkpoint just like you do T4-B and help out the people to weekly keep this airport's lights on and everyone employed. We don't have a choice of another airport to fly American out of. You've got us by the b*lls. Please do the right thing and allow us to use the services we paid for.</td>\n",
       "      <td>1</td>\n",
       "    </tr>\n",
       "    <tr>\n",
       "      <th>640</th>\n",
       "      <td>Public Services &amp; Government</td>\n",
       "      <td>They are mean, rude, and DO NOT COMMUNICATE WELL.They all need to be retrained or get another job. Everyone is not wired to work with the public. It's clear Phoenix hired a bunch of TSA employees with no customer skills. That was my experience before noon on Monday,10/26/15. I can only imagine how bad it gets throughout the day.</td>\n",
       "      <td>1</td>\n",
       "    </tr>\n",
       "    <tr>\n",
       "      <th>641</th>\n",
       "      <td>Public Services &amp; Government</td>\n",
       "      <td>They are severely understaffed. Got to the airport 2 hrs early and waited an hour to get through. People were nice but it was ridiculous to wait that long. This system needs to be corrected.</td>\n",
       "      <td>1</td>\n",
       "    </tr>\n",
       "    <tr>\n",
       "      <th>642</th>\n",
       "      <td>Public Services &amp; Government</td>\n",
       "      <td>User be ware, they change the rules and do what they want. They couldn't follow their own rule book let along be capable of reading it. And for us PreCheck paying fools, they close the D gates early as well then won't recognize your PreCheck status unless you have a printed boarding pass so they say.As far as I'm concerned they are just another waste of tax payer/ the flying publics money. The funny thing is when I fly out of McCarron their PreCheck line is always open and I can get from car to gate in less than 15 minutes, Phoenix employees need to go and learn from a real busy airport how it works and how to treat PreChecked Americans!</td>\n",
       "      <td>1</td>\n",
       "    </tr>\n",
       "    <tr>\n",
       "      <th>643</th>\n",
       "      <td>Public Services &amp; Government</td>\n",
       "      <td>They are the rudest  undertrained idiots I have ever had a experience with ever. If this state is based on tourism they have a sad future. I will never come back.</td>\n",
       "      <td>1</td>\n",
       "    </tr>\n",
       "    <tr>\n",
       "      <th>644</th>\n",
       "      <td>Public Services &amp; Government</td>\n",
       "      <td>Dear Phoenix Sky Harbor TSA,\\r\\n\\r\\nWhat a day. \\r\\n\\r\\nUnlike a lot of folks I encountered today, I'm a reasonable, calm lady. \\r\\n\\r\\nI'm not prone to lashing out or threatening harm upon a poor Southwest Customer Service Agent because God forbid the weather couldn't get me to my destination on time. \\r\\n\\r\\nNot being able to leave for Denver (I was scheduled to leave on SWA#1295, but cancelled at my client's request after several delays and him being unable to get on the road) because of the blizzard wasn't your fault. \\r\\n\\r\\nBut I wanted to personally thank you for chipping a large part of the front of my night guard used for TMJ today (11/17). \\r\\n\\r\\nI rely on it to keep severe TMJ headaches and jaw pain at bay. \\r\\n\\r\\nOne time my TMJ got so bad, it damn near completely locked my jaw and had to be prescribed heavy duty muscle relaxants just so 1) It could open and 2) So my dentist could see the damage.\\r\\n\\r\\nThis was a $300 dental appliance I've had for two years and had to pay 100% out of pocket because my insurance doesn't cover it.\\r\\n\\r\\nIn the future: When inspecting dental appliances in a passenger's bag, please handle with care. Night guards, retainers, etc. are NOT cheap to replace and aren't always covered by insurance. \\r\\n\\r\\nSeriously, break our make-up compacts all day. Just not the night guards!\\r\\n\\r\\nLet's hope my dentist can help me with this. \\r\\n\\r\\nSigned, \\r\\n\\r\\nNighttime Jaw Clencher Lady who's about to be in a LOT of pain. :'(</td>\n",
       "      <td>1</td>\n",
       "    </tr>\n",
       "    <tr>\n",
       "      <th>645</th>\n",
       "      <td>Public Services &amp; Government</td>\n",
       "      <td>The TSA employees in this section are lazy and unfriendly. On the day before thanksgiving, one of the busiest traveling days of the year, the employees did not perform their duties properly or effectively. The line for TSA pre-check was closed even though it took over 30 mins to effectively move through the regular lines. The employees behaved lazily while also being unfriendly and choosing to hold conversations rather than conduct their paid duties. They held up many passengers because of their own arrogance rather than any creditable intelligence. I missed my my flight because of the mismanagement of this organization. No matter what time frame, I suggest not to rely on anything the TSA propaganda states</td>\n",
       "      <td>1</td>\n",
       "    </tr>\n",
       "    <tr>\n",
       "      <th>646</th>\n",
       "      <td>Public Services &amp; Government</td>\n",
       "      <td>I was at Phoenix Sky harbor airport. Took 45 min to check in, another 45 min to wait in line for X-ray. After X-ray, this a hole took my kids 1 foot long plastic hockey sticks that I bought for them. He said they were dangerous. We were at a game in Phoenix New Years Eve, so much fun, until TSA...</td>\n",
       "      <td>1</td>\n",
       "    </tr>\n",
       "    <tr>\n",
       "      <th>647</th>\n",
       "      <td>Public Services &amp; Government</td>\n",
       "      <td>One of the worst run TSA checkpoints I've ever seen, and I've flown out of a ton of airports, and ones much smaller than PHX.\\r\\n\\r\\nI was flying out of B, but the B gates security were closed. Nevermind that I had just walked down there from a restaurant in the middle.\\r\\n\\r\\nI arrived to the A gates to a total nightmare scenario. TSA Precheck was closed, as they like to do here. I was lucky enough to be in first class for my flight, so I used that lane. There were a bunch of people in that line, so I asked if I was in the right place. The girl in front of me said a TSA agent just came through and ambiguously said this lane or the next one was for Precheck. What followed was a free-for-all with people using the disabled/employee lane and the first class lane. \\r\\n\\r\\nI called for a TSA agent to come over and explain which line was which, but they just looked me in the eye and listened to my explanation of how everyone was confused and nobody knew which line was with. Nobody from TSA was willing to come over and take control of the situation. They were just letting everyone in in whatever order they fought their way to the front.\\r\\n\\r\\nI ended up getting yelled at and threatened by another passenger who mistook me as the enemy. I was just trying to get TSA to, you know, do their job. I'm the good guy here, sticking up for the 90% of the line that was getting cut by more aggressive passengers. \\r\\n\\r\\nAnyway, 15 minutes later I made it through security. Chatted with a supervisor who more or less admitted it was a terribly run checkpoint. Apparently this is normal in PHX, as an airport employee ensured me I was right, and the lounge agents shared their experiences with this TSA checkpoint.\\r\\n\\r\\nIt's really too bad this review will make absolutely no difference, just as me talking to a supervisor or filing a formal TSA complaint will. TSA will continue to do their absolute minimum to complete their job tasks without any pride for their work.</td>\n",
       "      <td>1</td>\n",
       "    </tr>\n",
       "    <tr>\n",
       "      <th>648</th>\n",
       "      <td>Public Services &amp; Government</td>\n",
       "      <td>Wow! So the folks who run TSA think the best think to do is shut down TSAPre because they do not have enough staff. Tell me what the hell about that makes sense. Hey let's shut down the line that moves people through the fastest. I would honestly rather take my chances with the old system. TSA is incompetent and has no idea what they are doing.</td>\n",
       "      <td>1</td>\n",
       "    </tr>\n",
       "    <tr>\n",
       "      <th>649</th>\n",
       "      <td>Public Services &amp; Government</td>\n",
       "      <td>Rude TSA agent at the checkpoint where they check ID and boarding passes. No one was at the checkpoint and the TSA agent was sitting alone at his stand. He made my wife go back to the sign that said \"Wait for next available agent\" and told here to wait until he told her to walk up to him. He then went on to lecture her about following directions. It was completely unnecessary, rude and condescending. I've been a supporter of the TSA until this point. Now I understand why people complain about their demeanor and Congress is critical of their performance.</td>\n",
       "      <td>1</td>\n",
       "    </tr>\n",
       "    <tr>\n",
       "      <th>650</th>\n",
       "      <td>Public Services &amp; Government</td>\n",
       "      <td>I've been to a lot of airports and never write reviews but I felt I needed to this time. The security line was long and because they didn't have their TSA pre check line open there wasn't even an expedited line for TSA. The lady at the scanner was the rudest I've ever experienced and made snide remarks to me when I didn't even say anything to her. Not sure how these people are evaluated on a regular basis but apparently they aren't measured on customer service. Understand it's not meant to be a \"friendly\" job but they can at least be civil.</td>\n",
       "      <td>1</td>\n",
       "    </tr>\n",
       "    <tr>\n",
       "      <th>651</th>\n",
       "      <td>Public Services &amp; Government</td>\n",
       "      <td>Terribly badly organized - closing security stations at will with no rhyme or reason making people endlessly wander around Phoenix airport. Your chances to miss your plane because of immensely long lines at TSA: immensely high! Best option: try not to go through Phoenix airport.</td>\n",
       "      <td>1</td>\n",
       "    </tr>\n",
       "    <tr>\n",
       "      <th>652</th>\n",
       "      <td>Public Services &amp; Government</td>\n",
       "      <td>Friendly TSA agents! Always helpful when in a hurry. I travel a lot for work, and I feel like this are the most helpful. They normal don't have long lines</td>\n",
       "      <td>4</td>\n",
       "    </tr>\n",
       "    <tr>\n",
       "      <th>653</th>\n",
       "      <td>Public Services &amp; Government</td>\n",
       "      <td>What a joke. The line is out the door. 5 guys standing around, and we are forced to pay for this... if I ran my business like this, my doors would be closed in a week.</td>\n",
       "      <td>1</td>\n",
       "    </tr>\n",
       "    <tr>\n",
       "      <th>654</th>\n",
       "      <td>Public Services &amp; Government</td>\n",
       "      <td>Worst security checkpoint yet. Almost missed my plane because of a full un warranted body search.</td>\n",
       "      <td>1</td>\n",
       "    </tr>\n",
       "    <tr>\n",
       "      <th>655</th>\n",
       "      <td>Public Services &amp; Government</td>\n",
       "      <td>they could not pass my coke bottle its so small 10 oz that the smallest.... sighs... they should increase oz on pop drinks like 10 oz or something...</td>\n",
       "      <td>3</td>\n",
       "    </tr>\n",
       "    <tr>\n",
       "      <th>656</th>\n",
       "      <td>Public Services &amp; Government</td>\n",
       "      <td>TSA PRE-Check lane closed  frequently. Disappointing for a major airport. Be prepared to keep shoes on take laptop out.</td>\n",
       "      <td>3</td>\n",
       "    </tr>\n",
       "    <tr>\n",
       "      <th>657</th>\n",
       "      <td>Public Services &amp; Government</td>\n",
       "      <td>Once again flying out of terminal 3 and precheck is closed. Glad I paid money for a service I can't use. Why do you have precheck if you can't use precheck? You go through the line everyone else except you get to keep your shoes on. I feel safer already.</td>\n",
       "      <td>1</td>\n",
       "    </tr>\n",
       "    <tr>\n",
       "      <th>658</th>\n",
       "      <td>Public Services &amp; Government</td>\n",
       "      <td>I will mirror what the other reviewer stated.  Needing to do my notary oath (the final hoop before I could start stamping!), I visited their office on a June Tuesday around 11:00 am and was in and out in no time.  Everyone that I encountered in the building, from the security guard in the foyer, to the office workers at the Register of Deeds was friendly, helpful and polite.  Miss Valerie (what her coworker called her) was the one that took care of me and I was $10 lighter, sworn, certificated and out the door in no time.  \\r\\n\\r\\nI parked in the parking deck off of Davidson between 3rd and 4th, which proved to be not terribly expensive ($1 for 30-45 minutes, I think) and not too far of a hike, only crossing one substantial intersection.</td>\n",
       "      <td>5</td>\n",
       "    </tr>\n",
       "    <tr>\n",
       "      <th>659</th>\n",
       "      <td>Public Services &amp; Government</td>\n",
       "      <td>All of the prior reviews were accurate.  Very pleasant employees.   Clean, neat and professional atmosphere.    When I went (Friday at 9:15) it was not busy.   The employee took a total of about 15 minutes.  Parking is not easy but everything else was.</td>\n",
       "      <td>5</td>\n",
       "    </tr>\n",
       "    <tr>\n",
       "      <th>660</th>\n",
       "      <td>Public Services &amp; Government</td>\n",
       "      <td>I came here after the unsatisfactory service received from the security guard at the Tatum office. The guard here was respectable as expected and for it being the busiest office in all of Phoenix, it was surprisingly a quick in and out. About 45 minutes. I got there around 10am. Of course I was just requesting a replacement card. \\r\\n\\r\\nThe only downfall is there is not nearly enough parking for how busy this office is. So be prepared for that.</td>\n",
       "      <td>4</td>\n",
       "    </tr>\n",
       "    <tr>\n",
       "      <th>661</th>\n",
       "      <td>Public Services &amp; Government</td>\n",
       "      <td>Comfortable brand new building, safe and clean.  Smells brand new and fast service.   Staff speak multiple languages and the elevators were super fast!</td>\n",
       "      <td>5</td>\n",
       "    </tr>\n",
       "    <tr>\n",
       "      <th>662</th>\n",
       "      <td>Public Services &amp; Government</td>\n",
       "      <td>It was an ok experience. Arrived just before it opened and had to wait in line around the building but after arriving inside and getting my numberI had atleast an hour wait. I was getting my replacement card..</td>\n",
       "      <td>3</td>\n",
       "    </tr>\n",
       "    <tr>\n",
       "      <th>663</th>\n",
       "      <td>Public Services &amp; Government</td>\n",
       "      <td>Truly wasn't an awful experience. I've been dreading the idea of getting a new social card since I moved and lost my old one. Woke up early and went to the Mesa location just to find out they don't issue applications for social security card renewals so I drove down to Phoenix where they told me to go. The parking lot was filled and kinda hard to find a parking spot. The security guard was actually pretty pleasant, very nice and friendly man. The waiting room was just about full which obviously ruins your mood a little but I was maybe there an hour before my number got called. The lady who did the application was really nice and patient and I was out of the in no time. Pretty pleased with my experience here. I see a lot of bad reviews on Google and other locations of the social security offices so I thought I'd share mine not great, but not so bad experience.</td>\n",
       "      <td>4</td>\n",
       "    </tr>\n",
       "    <tr>\n",
       "      <th>664</th>\n",
       "      <td>Public Services &amp; Government</td>\n",
       "      <td>eh,   it is what it is..BUSY! long waits</td>\n",
       "      <td>3</td>\n",
       "    </tr>\n",
       "    <tr>\n",
       "      <th>665</th>\n",
       "      <td>Public Services &amp; Government</td>\n",
       "      <td>This place is gross. I was there so long was forced to use restroom, yuck. Security grills you up front. I did give 2 stars because at least after 2 hours the lady that helped me was pleasant enough. Glad I don't need to come often lol</td>\n",
       "      <td>2</td>\n",
       "    </tr>\n",
       "  </tbody>\n",
       "</table>\n",
       "<p>666 rows × 3 columns</p>\n",
       "</div>"
      ],
      "text/plain": [
       "                       categories  \\\n",
       "0    Public Services & Government   \n",
       "1    Public Services & Government   \n",
       "2    Public Services & Government   \n",
       "3    Public Services & Government   \n",
       "4    Public Services & Government   \n",
       "5    Public Services & Government   \n",
       "6    Public Services & Government   \n",
       "7    Public Services & Government   \n",
       "8    Public Services & Government   \n",
       "9    Public Services & Government   \n",
       "10   Public Services & Government   \n",
       "11   Public Services & Government   \n",
       "12   Public Services & Government   \n",
       "13   Public Services & Government   \n",
       "14   Public Services & Government   \n",
       "15   Public Services & Government   \n",
       "16   Public Services & Government   \n",
       "17   Public Services & Government   \n",
       "18   Public Services & Government   \n",
       "19   Public Services & Government   \n",
       "20   Public Services & Government   \n",
       "21   Public Services & Government   \n",
       "22   Public Services & Government   \n",
       "23   Public Services & Government   \n",
       "24   Public Services & Government   \n",
       "25   Public Services & Government   \n",
       "26   Public Services & Government   \n",
       "27   Public Services & Government   \n",
       "28   Public Services & Government   \n",
       "29   Public Services & Government   \n",
       "..                            ...   \n",
       "636  Public Services & Government   \n",
       "637  Public Services & Government   \n",
       "638  Public Services & Government   \n",
       "639  Public Services & Government   \n",
       "640  Public Services & Government   \n",
       "641  Public Services & Government   \n",
       "642  Public Services & Government   \n",
       "643  Public Services & Government   \n",
       "644  Public Services & Government   \n",
       "645  Public Services & Government   \n",
       "646  Public Services & Government   \n",
       "647  Public Services & Government   \n",
       "648  Public Services & Government   \n",
       "649  Public Services & Government   \n",
       "650  Public Services & Government   \n",
       "651  Public Services & Government   \n",
       "652  Public Services & Government   \n",
       "653  Public Services & Government   \n",
       "654  Public Services & Government   \n",
       "655  Public Services & Government   \n",
       "656  Public Services & Government   \n",
       "657  Public Services & Government   \n",
       "658  Public Services & Government   \n",
       "659  Public Services & Government   \n",
       "660  Public Services & Government   \n",
       "661  Public Services & Government   \n",
       "662  Public Services & Government   \n",
       "663  Public Services & Government   \n",
       "664  Public Services & Government   \n",
       "665  Public Services & Government   \n",
       "\n",
       "                                                                                                                                                                                                                                                                                                                                                                                                                                                                                                                                                                                                                                                                                                                                                                                                                                                                                                                                                                                                                                                                                                                                                                                                                                                                                                                                                                                                                                                                                                                                                                                                                                                                                                                                                                                                                                                                                                                                                                                                                                                        text  \\\n",
       "0    Festivals. Fun. Beer. Lots of beer. Charlotte Center City Partners (or Find Your Center) puts on a lot of these types of festivals Uptown and in South End. When you check out their website or their weekly newsletter you'll be able to see lots of events coming up like Beer, Blues and BBQ, Taste of Charlotte, Speedstreet and the like. \\r\\n\\r\\nMany of these events and festivals usually have beer available, hence why I'm a fan. And, yeah, I also really like supporting the local organization that's responsible for Uptown's development. If only there was a PBR festival...!                                                                                                                                                                                                                                                                                                                                                                                                                                                                                                                                                                                                                                                                                                                                                                                                                                                                                                                                                                                                                                                                                                                                                                                                                                                                                                                                                                                                                                                             \n",
       "1    For fun in Center City, Charlotte Center City Partners has it covered!\\r\\n\\r\\nYes, these are the folks largely responsible for the big ole event Uptown. Whether it's Beer, Blues & BBQ, Taste of Charlotte, Speedstreet or pumpkin carving for Halloween - I give these guys credit. Considering only 10-12K people live in Uptown, they have a large feat of bringing the masses into Center City. \\r\\n\\r\\nAs a whole, these events are well organized, nicely promoted and generally a really good time. Stephen puts it well - every event won't be for everybody, but I appreciate that they try to bring Charlotte together (as we're a large group of transplants). In addition to the events, they also send out a really great calendar of what's going on in Uptown & South End every week. If you don't get it already, definitely check it out.                                                                                                                                                                                                                                                                                                                                                                                                                                                                                                                                                                                                                                                                                                                                                                                                                                                                                                                                                                                                                                                                                                                                                                                               \n",
       "2    Way to ruin driving to downtown, do you know how hard it is to navigate those barricades after a long night at Seamus Mccaffrey's or  \\r\\nGeorge & Dragon!? Go home, YOU SUCK.                                                                                                                                                                                                                                                                                                                                                                                                                                                                                                                                                                                                                                                                                                                                                                                                                                                                                                                                                                                                                                                                                                                                                                                                                                                                                                                                                                                                                                                                                                                                                                                                                                                                                                                                                                                                                                                                            \n",
       "3    I have taken a ride on the light rail a few times now and I have some stories!! The first time I rode the light rail I took it from Mill Ave to Phoenix to see the D-Backs and Cubs play. My friends had caught a tram in Mesa so I sat there and watched a few trams come and go before I got onto the one with my friends on it. That was easy enough...there was enough room for me and the ride was smooth and fun (though I can't say it was relaxing)...Any ways. After the game was quite an experience! The tram ride home was a little more crowed now that the game had let out. There were two die hard fans in our car from the two teams who started talking trash to each other...well one of them had a little too much to drink and one thing lead to another and they were soon yelling threats at each other. Right before the drunker one took a swing (in a very crowded car) an older man stood up and shut them both up before someone got hurt...the tension in the air was thick the whole way back to Tempe where the Cub fan got off and punched the window. The friends of the other guy had to hold him back...I mean come on!! \\r\\n\\r\\nOkay, then I had the pleasure of using the light rail to go to the Circus. Again I was headed to Phoenix but this time I got on at the Washington stop. It was again a fun ride, but I couldn't say that it was a relaxing ride...there was this bum who was asking people for money and I think it would be better with some music playing in the background...any ways the ride home wasn't as eventful as the baseball game crowd, but again, there was another bum asking for money...can people just ride in peace?\\r\\n\\r\\nI like the light rail - I really do...it's always an interesting experience, but I just don't feel safe on it. I used to take the metro bus from Gilbert to Mesa every day for a while and I felt safer on that then I do on the light rail and the bums who ride the bus don't ask me for money either.                                              \n",
       "4    I want to like the Light Rail, I really do, I even voted for it. Having moved to Phoenix from a city with a great public transportation system(Chicago) and having visited other large cities with great Public transportation systems, I wanted this for Phoenix too. I wanted to live is a city where owning a car was optional.  The Phoenix light rail is a huge disappointment. It is so darn slow...insanely slow, maddeningly slow, not only does it stop at every station but being at grade(street level), it also stops at the majority of stop lights too. Let's be honest, if you own a car you will not be riding the Light rail regularly, it just takes too much time and time is money, it takes like 3 times as long as just driving, heck I could probably ride a bicycle faster...seriously. Phoenix having been developed after Americans became dependent on automobiles has an well maintained & fast  freeway/ surface road system compared to other major metropolitan areas(kudos to ADOT). \\r\\n     The majority of people who ride the light rail appear to be poor people who don't own cars, which brings me to my next points, there are tons of panhandlers constantly harassing anyone that appears to have money and without exception every time I have ridden the Light Rail I have seen a knock down drag out MMA style fight on the train with people recording it and yelling \"World Star\". There is little to no security or police presence, if you are elderly, a woman or have children, forget it I would not recommend it, I'm a large male and I kept my back against the wall & head on a swivel expecting a kerfuffle.   \\r\\nOne star...I don't know what the public transportation solution is for Phoenix but this isn't it.                                                                                                                                                                                                                                                                             \n",
       "5    #NWExtension is finally open!  After 3 long years of our neighborhood being on the trail of the #NWExtension and have adapted to the turmoil, closures and dust.  Now it's all paid off because we have a beautiful new rail a couple blocks away.  Beautifully landscaped and station art by local schoolchildren and artists.  They did a very good job and it's fun to have the rail so close and easy.  Now trips downtown or to the East Valley are easier, greener (even though we have a hybrid) and no parking hell to deal with.  That is a beautiful thing now that parking downtown is so expensive.  This is awesome and today marked the grand opening.  The trains are running on 19th Ave and it's really kind of nice to hear it a couple of blocks away when outside.  Calming.                                                                                                                                                                                                                                                                                                                                                                                                                                                                                                                                                                                                                                                                                                                                                                                                                                                                                                                                                                                                                                                                                                                                                                                                                                                          \n",
       "6    Had the most positive experience in a government building when I visited to get my social security card. I literally walked in, checked in with the security guard, she gave me my ticket, checked my bag for weapons, and I sat down for literally 4minutes and was called up to a window. \\r\\n\\r\\nIt was about noon when I visited on a Friday to get my Social Security Card, and the representative was super pleasant and helpful. I strongly suggest if you don't want to deal with parking issues with the downtown location, come here!                                                                                                                                                                                                                                                                                                                                                                                                                                                                                                                                                                                                                                                                                                                                                                                                                                                                                                                                                                                                                                                                                                                                                                                                                                                                                                                                                                                                                                                                                                           \n",
       "7    If you're coming for a new or replacement social security card you need to go to Suite B NOT the main office. When you pull into the parking lot turn left and follow the road around. Suite B is located in the back left side of the building. The security guard will search your belonings so leave your guns and drugs at home. The staff was very friendly and I was in and out in about 45 minutes. If your changing your name like I was you will have to wait 48 hours before you to go to the MVD to get an updated licence to allow their system to process the change. I was told I'll receive my new card in the mail in 2 weeks.                                                                                                                                                                                                                                                                                                                                                                                                                                                                                                                                                                                                                                                                                                                                                                                                                                                                                                                                                                                                                                                                                                                                                                                                                                                                                                                                                                                                            \n",
       "8    2.. the number of hours I spent here getting my new social security card with my new last name. 7. the number of minutes it took, once my name was called to get a new SS card ordered for me in said last name. I pray that I never have to come back to this place again after that crazy experience. Plus it was FREEZING! What the crap?                                                                                                                                                                                                                                                                                                                                                                                                                                                                                                                                                                                                                                                                                                                                                                                                                                                                                                                                                                                                                                                                                                                                                                                                                                                                                                                                                                                                                                                                                                                                                                                                                                                                                                              \n",
       "9    As other reviews have said if you are looking to change your name Suite B is around the corner from the main entrance so park / walk in on that side. Both entrances have a security guard that will ask why you are there and will ensure that you get checked in. If you have a bag or purse, they will ask to check it for any weapons and then request that you put your cell phone on silent or vibrate.\\r\\n\\r\\nI didn't have an appointment, but since we recently got married, I needed to request a new SS card in order to get my name updated. I received a ticket from the security guard that checked me in and I was about 4 numbers off from the most recently called one. I waited about five minutes in a chair before my number was called (side note: if you go at lunch time, they will have less windows open - so if you can, try going during the earlier morning, or a bit after lunch to ensure you get seen).  \\r\\n\\r\\nBe sure to check their website before going so you can print and fill out the application form and have it ready to go.  It's also a great resource for being able to know what to bring with you so you don't have to make a return trip.  \\r\\n\\r\\nI had my passport, birth certificate, driver's license and marriage license. It took about five minutes for the clerk behind the counter to type in all my information and I was ready to go!  She was fast, efficient and friendly.  The security guard was helpful and funny. \\r\\n\\r\\nOverall: A\\r\\nCheck the website, come prepared, and all in all it should be a quick visit!!                                                                                                                                                                                                                                                                                                                                                                                                                                                                   \n",
       "10   Almost 5 years into marriage and I decided it was time to finally legally change my name...\\r\\n\\r\\nPart of the reason that it took me so long was the dreaded process of going to the Social Security Administration office amongst a handful of others.  But I bit the bullet and took step number one which landed me here.\\r\\n\\r\\nI walked into the wrong entrance and was quickly told I needed to enter on the other side of the building.  No big deal... As I walked, I crossed my fingers that the line wouldn't be as long as the first side.  And when I entered over there, it didn't look too bad.  I think I waited approximately one hour and then met with my \"agent\" for about five minutes to take care of my own paperwork.\\r\\n\\r\\nStep one of the name change taken care of... hooray!\\r\\nOnly about 6 other steps to go (before hitting up credit card, bank, airlines, etc...) Wish me luck!\\r\\n\\r\\nA few things to note if you are heading to this office:\\r\\nThere are no drinks allowed, no computers allowed, and your phone must be kept on silent.  You may also want to call ahead to check their hours as they close early on certain days of the week.  Good luck!                                                                                                                                                                                                                                                                                                                                                                                                                                                                                                                                                                                                                                                                                                                                                                                                                                                          \n",
       "11   Wow, wow, wow! I came here for the sole purpose of changing my last name due to marriage. I came at 1:20 on Friday and left at 1:45. Quick right?! Everything was wonderful and extremely easy. I came in the suite B doors as mentioned in the other reviews. Only took 15 minutes of waiting about 5 for the actually go through the paperwork. \\r\\n\\r\\nWell right when I was stepping inside my car, I realized that the guy messed up my address so here I am waiting at the end of the line again. Real dumb. Good job. Once again, the government did it!  So for that sole purpose, 3 stars only. Incompetent fools.\\r\\n\\r\\nI recommend coming later around closing time cause no one is really there especially on Friday. Also I brought in my passport and other IDs. They don't really need much. They will just ask you a few questions.                                                                                                                                                                                                                                                                                                                                                                                                                                                                                                                                                                                                                                                                                                                                                                                                                                                                                                                                                                                                                                                                                                                                                                                                      \n",
       "12   Pretty clean facility. Fast and prompt service. Very friendly staff. I just got married and needed to change my last name on my social security card. I was in and out of the office in less than 5 minutes, granted it was a Wednesday at 11:30am. I was dreading coming here and was so relived as to how fast it went. Definitely come to this office.                                                                                                                                                                                                                                                                                                                                                                                                                                                                                                                                                                                                                                                                                                                                                                                                                                                                                                                                                                                                                                                                                                                                                                                                                                                                                                                                                                                                                                                                                                                                                                                                                                                                                                 \n",
       "13   People who works there need to be more happier and have smile on their face.  Overall services were quick, however there aren't enough parking spots, you may need to park somewhere else and walk over.                                                                                                                                                                                                                                                                                                                                                                                                                                                                                                                                                                                                                                                                                                                                                                                                                                                                                                                                                                                                                                                                                                                                                                                                                                                                                                                                                                                                                                                                                                                                                                                                                                                                                                                                                                                                                                                  \n",
       "14   It's an office of the Federal Government.  That means you can expect to wait longer that you should and have less than friendly service.  Thankfully, this visit wasn't to bad, other than the fact I had to ditch my coffee as they don't allow you to bring any liquids into the building.  It would be better if they at least had a coffee machine inside, but they don't so I suffered, I'm just glad I didn't have to wait to long.                                                                                                                                                                                                                                                                                                                                                                                                                                                                                                                                                                                                                                                                                                                                                                                                                                                                                                                                                                                                                                                                                                                                                                                                                                                                                                                                                                                                                                                                                                                                                                                                                 \n",
       "15   If you're looking for name changes/corrections make sure to read the signs that say Suite B! It literally is right around the corner.\\r\\n\\r\\nI was extremely impressed! It took me only about 5 minutes to get done what I needed & there was almost no wait time.\\r\\n\\r\\nI was skeptical since I always hear people complain about what a long process it is getting your name changed, but it was quick & easy in my opinion.\\r\\n\\r\\nMake sure to visit ssa.gov prior to your visit to make sure you have the appropriate documentation to do whatever it is you need to do.\\r\\n\\r\\nTheres also plenty of parking, but like I said, just know what side of the building you need to beat the heat!                                                                                                                                                                                                                                                                                                                                                                                                                                                                                                                                                                                                                                                                                                                                                                                                                                                                                                                                                                                                                                                                                                                                                                                                                                                                                                                                                      \n",
       "16   I thought it would be a long wait. I went two years ago and waited a few minutes outside then a couple hours inside before being helped. Today I had to go again to update my status from resident to citizen. I got there at 8:30am (Friday) and waited outside in a long line. At 8:55 they started letting people in. I finally got inside just after 9am. I just sat down when a lady directed me to an open window. I was in and out in less than 10 minutes. For the wait outside, bring a folding chair and something cold to drink, the rest is easy and quick!! From the security guard outside, to the guard inside checking bags, the lady directing people and the lady helping me - they were all very friendly and helpful.                                                                                                                                                                                                                                                                                                                                                                                                                                                                                                                                                                                                                                                                                                                                                                                                                                                                                                                                                                                                                                                                                                                                                                                                                                                                                                                 \n",
       "17   In and out in 10 minutes flat (On a Monday at 10AM). Took me longer to drive there. Needed a new card. The security guard was friendly (and adorable!) and the agent who assisted me (Gloria) was just the sweetest!                                                                                                                                                                                                                                                                                                                                                                                                                                                                                                                                                                                                                                                                                                                                                                                                                                                                                                                                                                                                                                                                                                                                                                                                                                                                                                                                                                                                                                                                                                                                                                                                                                                                                                                                                                                                                                      \n",
       "18   I didn't even make it into the door into sweet b. The Security guard was highly disrespectful. I decided to go to the south Phoenix location instead. I would rather wait longer than deal with that so early in the morning.                                                                                                                                                                                                                                                                                                                                                                                                                                                                                                                                                                                                                                                                                                                                                                                                                                                                                                                                                                                                                                                                                                                                                                                                                                                                                                                                                                                                                                                                                                                                                                                                                                                                                                                                                                                                                             \n",
       "19   What a terrible experience.  This is the government at its finest.  I needed replacement social security cards for my kids and I researched everything I needed online, including their hours of operation.  The first time I went they were closed (different hours).  The second time I was told I needed different paperwork, so I went home and collected everything I was told.  The third time I was again told I needed different paperwork and to bring the kids with me.  The fourth time everything was finally processed - it only took an hour.  This was an hour once I got to a window, this does not include the wait time when you first arrive.                                                                                                                                                                                                                                                                                                                                                                                                                                                                                                                                                                                                                                                                                                                                                                                                                                                                                                                                                                                                                                                                                                                                                                                                                                                                                                                                                                                          \n",
       "20   If you're going to have to do anything social security related, come here. Quick. Easy and Friendly. Best of all, you're not shoulder to shoulder with a bunch of people. I got in at about 9:20am and was out by 9:40am. Only if every government service was this easy.                                                                                                                                                                                                                                                                                                                                                                                                                                                                                                                                                                                                                                                                                                                                                                                                                                                                                                                                                                                                                                                                                                                                                                                                                                                                                                                                                                                                                                                                                                                                                                                                                                                                                                                                                                                 \n",
       "21   Wonderful easy experience! Showed up a little before they opened, waited in a short line and got seen within 30 minutes. The security guard was super nice and so was the lady that checked me in. Granted I was here for a name change, but either way I didn't mind the experience!                                                                                                                                                                                                                                                                                                                                                                                                                                                                                                                                                                                                                                                                                                                                                                                                                                                                                                                                                                                                                                                                                                                                                                                                                                                                                                                                                                                                                                                                                                                                                                                                                                                                                                                                                                     \n",
       "22   3.5 stars\\r\\n\\r\\nFinally got to visit this city of Phoenix, when all the other times we both would only be in the city because of the airport. Our friend took us to Phoenix to grab brunch before our trip back and pretty much drove us around Downtown Phoenix. It pretty much reminds me of Downtown Los Angeles. A few ghetto places and a few nice places. I thought there wouldn't be homeless people, but I guess I was wrong. There's always going to be at least 1% of them here and there. \\r\\n\\r\\nThere's a few one way streets, so be careful when you're driving. ALSO be careful with drivers, some may look like tourist and will not look at traffic while busy looking at something else. \\r\\n\\r\\nDrove passed Downtown Civic Space Park - http://www.yelp.com/biz/downtown-civic-space-park-phoenix\\r\\n\\r\\nLooked pretty cool. Try coming here at night time, the lit up loop will most likely amaze you like it would with me even when it wasn't even lit in colors :D I just can't wait to check it out the next time I visit!                                                                                                                                                                                                                                                                                                                                                                                                                                                                                                                                                                                                                                                                                                                                                                                                                                                                                                                                                                                                      \n",
       "23   Phoenix is a one of a kind city, that is beautiful, fashionable, BIG, and luxurious. :-)                                                                                                                                                                                                                                                                                                                                                                                                                                                                                                                                                                                                                                                                                                                                                                                                                                                                                                                                                                                                                                                                                                                                                                                                                                                                                                                                                                                                                                                                                                                                                                                                                                                                                                                                                                                                                                                                                                                                                                  \n",
       "24   I adore this city and would move here in a heartbeat. It is a foodie's dream, hiking is fabulous, Spring Training is fun even for the non-baseball inspired and the views are breathtaking.                                                                                                                                                                                                                                                                                                                                                                                                                                                                                                                                                                                                                                                                                                                                                                                                                                                                                                                                                                                                                                                                                                                                                                                                                                                                                                                                                                                                                                                                                                                                                                                                                                                                                                                                                                                                                                                               \n",
       "25   Metro Fire keeps us compliant and more. Our exit lights always work, our extinguishers are up to date and Kent Rassmussen represents well!                                                                                                                                                                                                                                                                                                                                                                                                                                                                                                                                                                                                                                                                                                                                                                                                                                                                                                                                                                                                                                                                                                                                                                                                                                                                                                                                                                                                                                                                                                                                                                                                                                                                                                                                                                                                                                                                                                                \n",
       "26   Super honest knowledgable guys & great pricing! I would use Metro for any and all of my security & fire service needs. No other company can compare!!                                                                                                                                                                                                                                                                                                                                                                                                                                                                                                                                                                                                                                                                                                                                                                                                                                                                                                                                                                                                                                                                                                                                                                                                                                                                                                                                                                                                                                                                                                                                                                                                                                                                                                                                                                                                                                                                                                     \n",
       "27   Metro fire is run by great guys.  Kent Rasmussen is superb and he is very friendly, very knowledgable about what he does.  You can't go wrong with these guys.                                                                                                                                                                                                                                                                                                                                                                                                                                                                                                                                                                                                                                                                                                                                                                                                                                                                                                                                                                                                                                                                                                                                                                                                                                                                                                                                                                                                                                                                                                                                                                                                                                                                                                                                                                                                                                                                                            \n",
       "28   This is a review for the Clark County Government Center on Grand Central Parkway.  I was there today to see a small art exhibit that's a playful poke at the art at City Center.\\r\\n\\r\\nI've been to the Government Center before when I had to go to an office for some business.  Parking is great and the building is interesting, inside and out.                                                                                                                                                                                                                                                                                                                                                                                                                                                                                                                                                                                                                                                                                                                                                                                                                                                                                                                                                                                                                                                                                                                                                                                                                                                                                                                                                                                                                                                                                                                                                                                                                                                                                                     \n",
       "29   This place is huge and can be extremely hard to find anything. Simply ask any security for directions and they will happily take you to your destination. Parking is located right in front of the main entrance off of grand central, make sure you park in visitors parking which is the smaller lot. The huge lots surrounding are all for govt employees and I believe you will get ticketed or towed. If you are here as a new hire and need badging done, take the freight elevator down to the basement and follow the yellow footsteps to your destination!                                                                                                                                                                                                                                                                                                                                                                                                                                                                                                                                                                                                                                                                                                                                                                                                                                                                                                                                                                                                                                                                                                                                                                                                                                                                                                                                                                                                                                                                                       \n",
       "..                                                                                                                                                                                                                                                                                                                                                                                                                                                                                                                                                                   ...                                                                                                                                                                                                                                                                                                                                                                                                                                                                                                                                                                                                                                                                                                                                                                                                                                                                                                                                                                                                                                                                                                                                                                                                                                                                                                                                                                                                                                                                                       \n",
       "636  Biggest waste of money ever!  The TSA Pre-check line is officially the first time traveler, stroller. Wheelchair, family, and employee lane!  So frustrating to pay for a service and it is overtaken by I experienced travelers. Thanks for nothing TSA !!                                                                                                                                                                                                                                                                                                                                                                                                                                                                                                                                                                                                                                                                                                                                                                                                                                                                                                                                                                                                                                                                                                                                                                                                                                                                                                                                                                                                                                                                                                                                                                                                                                                                                                                                                                                               \n",
       "637  So, I have PreCheck, and I have an artificial hip.  I actually, stupidly, thought that PreCheck would actually get through TSA faster. Nope.  So in Phoenix, the PreCheck line has the metal detector, which means I have to wait to be wanded. So I normally tell them about my hip in the PreCheck line, so they send me over to another line with the body scanners, and my carry-on stays in the first line, but of course in those other lines you have to take off your shoes, coat, etc.  So I have to constantly tell them I'm PreCheck even if everyone else in line isn't, and of course they look at me like I'm an idiot. Why are you in this line if your PreCheck?\\r\\n\\r\\nI guess nobody at TSA ever realized that MAYBE someone with PreCheck may actually have an artificial joint. I guess nobody ever figured that out.\\r\\n\\r\\nMaybe TSA needs to all get together at a meeting, and figure out an organized way to handle EVERY type of passenger they might have. Then make sure EVERY TSA person knows this procedure.                                                                                                                                                                                                                                                                                                                                                                                                                                                                                                                                                                                                                                                                                                                                                                                                                                                                                                                                                                                                               \n",
       "638  I really appreciate TSA for stealing my personal items out of my checked bags and then leaving a note inside telling me that my bag was searched. Probably the dumbest criminals ever. I hope you enjoy my Bose speaker. At least you stole the charger too, so that proves you're not totally retarded. \\r\\n\\r\\n\"Protecting you and your fellow passengers\" -TSA                                                                                                                                                                                                                                                                                                                                                                                                                                                                                                                                                                                                                                                                                                                                                                                                                                                                                                                                                                                                                                                                                                                                                                                                                                                                                                                                                                                                                                                                                                                                                                                                                                                                                         \n",
       "639  I'm so frustrated with TSA Checkpoint at Sky Harbor. Terminal 4-A checkpoint is a huge checkpoint which, on Sunday, is pretty much at max capacity all day. Business travelers like me travel out on Sunday and back on Thursday or Friday and depend on TSA Precheck to get me through security quickly.\\r\\n\\r\\nYou offer PreCheck services and take payments at your airport. Then you have PreCheck locations at your security screening areas, but you decide to CLOSE them around 5pm for who knows what reason! Why would you deny that service, THAT WE PAY FOR, on a busy commuter travel day!? The past 2 weeks when I've approached T4-A I've seen no less than 200 people queued up in the regular line and at least HALF of those people when asked have TSA Pre on their boarding pass. Are you trying to save some money by not staffing that location? Well I'd didn't get a discount when I paid into this service.\\r\\n\\r\\nDo everyone a favor. Staff this checkpoint just like you do T4-B and help out the people to weekly keep this airport's lights on and everyone employed. We don't have a choice of another airport to fly American out of. You've got us by the b*lls. Please do the right thing and allow us to use the services we paid for.                                                                                                                                                                                                                                                                                                                                                                                                                                                                                                                                                                                                                                                                                                                                                                                  \n",
       "640  They are mean, rude, and DO NOT COMMUNICATE WELL.They all need to be retrained or get another job. Everyone is not wired to work with the public. It's clear Phoenix hired a bunch of TSA employees with no customer skills. That was my experience before noon on Monday,10/26/15. I can only imagine how bad it gets throughout the day.                                                                                                                                                                                                                                                                                                                                                                                                                                                                                                                                                                                                                                                                                                                                                                                                                                                                                                                                                                                                                                                                                                                                                                                                                                                                                                                                                                                                                                                                                                                                                                                                                                                                                                                \n",
       "641  They are severely understaffed. Got to the airport 2 hrs early and waited an hour to get through. People were nice but it was ridiculous to wait that long. This system needs to be corrected.                                                                                                                                                                                                                                                                                                                                                                                                                                                                                                                                                                                                                                                                                                                                                                                                                                                                                                                                                                                                                                                                                                                                                                                                                                                                                                                                                                                                                                                                                                                                                                                                                                                                                                                                                                                                                                                            \n",
       "642  User be ware, they change the rules and do what they want. They couldn't follow their own rule book let along be capable of reading it. And for us PreCheck paying fools, they close the D gates early as well then won't recognize your PreCheck status unless you have a printed boarding pass so they say.As far as I'm concerned they are just another waste of tax payer/ the flying publics money. The funny thing is when I fly out of McCarron their PreCheck line is always open and I can get from car to gate in less than 15 minutes, Phoenix employees need to go and learn from a real busy airport how it works and how to treat PreChecked Americans!                                                                                                                                                                                                                                                                                                                                                                                                                                                                                                                                                                                                                                                                                                                                                                                                                                                                                                                                                                                                                                                                                                                                                                                                                                                                                                                                                                                     \n",
       "643  They are the rudest  undertrained idiots I have ever had a experience with ever. If this state is based on tourism they have a sad future. I will never come back.                                                                                                                                                                                                                                                                                                                                                                                                                                                                                                                                                                                                                                                                                                                                                                                                                                                                                                                                                                                                                                                                                                                                                                                                                                                                                                                                                                                                                                                                                                                                                                                                                                                                                                                                                                                                                                                                                        \n",
       "644  Dear Phoenix Sky Harbor TSA,\\r\\n\\r\\nWhat a day. \\r\\n\\r\\nUnlike a lot of folks I encountered today, I'm a reasonable, calm lady. \\r\\n\\r\\nI'm not prone to lashing out or threatening harm upon a poor Southwest Customer Service Agent because God forbid the weather couldn't get me to my destination on time. \\r\\n\\r\\nNot being able to leave for Denver (I was scheduled to leave on SWA#1295, but cancelled at my client's request after several delays and him being unable to get on the road) because of the blizzard wasn't your fault. \\r\\n\\r\\nBut I wanted to personally thank you for chipping a large part of the front of my night guard used for TMJ today (11/17). \\r\\n\\r\\nI rely on it to keep severe TMJ headaches and jaw pain at bay. \\r\\n\\r\\nOne time my TMJ got so bad, it damn near completely locked my jaw and had to be prescribed heavy duty muscle relaxants just so 1) It could open and 2) So my dentist could see the damage.\\r\\n\\r\\nThis was a $300 dental appliance I've had for two years and had to pay 100% out of pocket because my insurance doesn't cover it.\\r\\n\\r\\nIn the future: When inspecting dental appliances in a passenger's bag, please handle with care. Night guards, retainers, etc. are NOT cheap to replace and aren't always covered by insurance. \\r\\n\\r\\nSeriously, break our make-up compacts all day. Just not the night guards!\\r\\n\\r\\nLet's hope my dentist can help me with this. \\r\\n\\r\\nSigned, \\r\\n\\r\\nNighttime Jaw Clencher Lady who's about to be in a LOT of pain. :'(                                                                                                                                                                                                                                                                                                                                                                                                                                                                                                               \n",
       "645  The TSA employees in this section are lazy and unfriendly. On the day before thanksgiving, one of the busiest traveling days of the year, the employees did not perform their duties properly or effectively. The line for TSA pre-check was closed even though it took over 30 mins to effectively move through the regular lines. The employees behaved lazily while also being unfriendly and choosing to hold conversations rather than conduct their paid duties. They held up many passengers because of their own arrogance rather than any creditable intelligence. I missed my my flight because of the mismanagement of this organization. No matter what time frame, I suggest not to rely on anything the TSA propaganda states                                                                                                                                                                                                                                                                                                                                                                                                                                                                                                                                                                                                                                                                                                                                                                                                                                                                                                                                                                                                                                                                                                                                                                                                                                                                                                               \n",
       "646  I was at Phoenix Sky harbor airport. Took 45 min to check in, another 45 min to wait in line for X-ray. After X-ray, this a hole took my kids 1 foot long plastic hockey sticks that I bought for them. He said they were dangerous. We were at a game in Phoenix New Years Eve, so much fun, until TSA...                                                                                                                                                                                                                                                                                                                                                                                                                                                                                                                                                                                                                                                                                                                                                                                                                                                                                                                                                                                                                                                                                                                                                                                                                                                                                                                                                                                                                                                                                                                                                                                                                                                                                                                                                \n",
       "647  One of the worst run TSA checkpoints I've ever seen, and I've flown out of a ton of airports, and ones much smaller than PHX.\\r\\n\\r\\nI was flying out of B, but the B gates security were closed. Nevermind that I had just walked down there from a restaurant in the middle.\\r\\n\\r\\nI arrived to the A gates to a total nightmare scenario. TSA Precheck was closed, as they like to do here. I was lucky enough to be in first class for my flight, so I used that lane. There were a bunch of people in that line, so I asked if I was in the right place. The girl in front of me said a TSA agent just came through and ambiguously said this lane or the next one was for Precheck. What followed was a free-for-all with people using the disabled/employee lane and the first class lane. \\r\\n\\r\\nI called for a TSA agent to come over and explain which line was which, but they just looked me in the eye and listened to my explanation of how everyone was confused and nobody knew which line was with. Nobody from TSA was willing to come over and take control of the situation. They were just letting everyone in in whatever order they fought their way to the front.\\r\\n\\r\\nI ended up getting yelled at and threatened by another passenger who mistook me as the enemy. I was just trying to get TSA to, you know, do their job. I'm the good guy here, sticking up for the 90% of the line that was getting cut by more aggressive passengers. \\r\\n\\r\\nAnyway, 15 minutes later I made it through security. Chatted with a supervisor who more or less admitted it was a terribly run checkpoint. Apparently this is normal in PHX, as an airport employee ensured me I was right, and the lounge agents shared their experiences with this TSA checkpoint.\\r\\n\\r\\nIt's really too bad this review will make absolutely no difference, just as me talking to a supervisor or filing a formal TSA complaint will. TSA will continue to do their absolute minimum to complete their job tasks without any pride for their work.   \n",
       "648  Wow! So the folks who run TSA think the best think to do is shut down TSAPre because they do not have enough staff. Tell me what the hell about that makes sense. Hey let's shut down the line that moves people through the fastest. I would honestly rather take my chances with the old system. TSA is incompetent and has no idea what they are doing.                                                                                                                                                                                                                                                                                                                                                                                                                                                                                                                                                                                                                                                                                                                                                                                                                                                                                                                                                                                                                                                                                                                                                                                                                                                                                                                                                                                                                                                                                                                                                                                                                                                                                                \n",
       "649  Rude TSA agent at the checkpoint where they check ID and boarding passes. No one was at the checkpoint and the TSA agent was sitting alone at his stand. He made my wife go back to the sign that said \"Wait for next available agent\" and told here to wait until he told her to walk up to him. He then went on to lecture her about following directions. It was completely unnecessary, rude and condescending. I've been a supporter of the TSA until this point. Now I understand why people complain about their demeanor and Congress is critical of their performance.                                                                                                                                                                                                                                                                                                                                                                                                                                                                                                                                                                                                                                                                                                                                                                                                                                                                                                                                                                                                                                                                                                                                                                                                                                                                                                                                                                                                                                                                           \n",
       "650  I've been to a lot of airports and never write reviews but I felt I needed to this time. The security line was long and because they didn't have their TSA pre check line open there wasn't even an expedited line for TSA. The lady at the scanner was the rudest I've ever experienced and made snide remarks to me when I didn't even say anything to her. Not sure how these people are evaluated on a regular basis but apparently they aren't measured on customer service. Understand it's not meant to be a \"friendly\" job but they can at least be civil.                                                                                                                                                                                                                                                                                                                                                                                                                                                                                                                                                                                                                                                                                                                                                                                                                                                                                                                                                                                                                                                                                                                                                                                                                                                                                                                                                                                                                                                                                        \n",
       "651  Terribly badly organized - closing security stations at will with no rhyme or reason making people endlessly wander around Phoenix airport. Your chances to miss your plane because of immensely long lines at TSA: immensely high! Best option: try not to go through Phoenix airport.                                                                                                                                                                                                                                                                                                                                                                                                                                                                                                                                                                                                                                                                                                                                                                                                                                                                                                                                                                                                                                                                                                                                                                                                                                                                                                                                                                                                                                                                                                                                                                                                                                                                                                                                                                   \n",
       "652  Friendly TSA agents! Always helpful when in a hurry. I travel a lot for work, and I feel like this are the most helpful. They normal don't have long lines                                                                                                                                                                                                                                                                                                                                                                                                                                                                                                                                                                                                                                                                                                                                                                                                                                                                                                                                                                                                                                                                                                                                                                                                                                                                                                                                                                                                                                                                                                                                                                                                                                                                                                                                                                                                                                                                                                \n",
       "653  What a joke. The line is out the door. 5 guys standing around, and we are forced to pay for this... if I ran my business like this, my doors would be closed in a week.                                                                                                                                                                                                                                                                                                                                                                                                                                                                                                                                                                                                                                                                                                                                                                                                                                                                                                                                                                                                                                                                                                                                                                                                                                                                                                                                                                                                                                                                                                                                                                                                                                                                                                                                                                                                                                                                                   \n",
       "654  Worst security checkpoint yet. Almost missed my plane because of a full un warranted body search.                                                                                                                                                                                                                                                                                                                                                                                                                                                                                                                                                                                                                                                                                                                                                                                                                                                                                                                                                                                                                                                                                                                                                                                                                                                                                                                                                                                                                                                                                                                                                                                                                                                                                                                                                                                                                                                                                                                                                         \n",
       "655  they could not pass my coke bottle its so small 10 oz that the smallest.... sighs... they should increase oz on pop drinks like 10 oz or something...                                                                                                                                                                                                                                                                                                                                                                                                                                                                                                                                                                                                                                                                                                                                                                                                                                                                                                                                                                                                                                                                                                                                                                                                                                                                                                                                                                                                                                                                                                                                                                                                                                                                                                                                                                                                                                                                                                     \n",
       "656  TSA PRE-Check lane closed  frequently. Disappointing for a major airport. Be prepared to keep shoes on take laptop out.                                                                                                                                                                                                                                                                                                                                                                                                                                                                                                                                                                                                                                                                                                                                                                                                                                                                                                                                                                                                                                                                                                                                                                                                                                                                                                                                                                                                                                                                                                                                                                                                                                                                                                                                                                                                                                                                                                                                   \n",
       "657  Once again flying out of terminal 3 and precheck is closed. Glad I paid money for a service I can't use. Why do you have precheck if you can't use precheck? You go through the line everyone else except you get to keep your shoes on. I feel safer already.                                                                                                                                                                                                                                                                                                                                                                                                                                                                                                                                                                                                                                                                                                                                                                                                                                                                                                                                                                                                                                                                                                                                                                                                                                                                                                                                                                                                                                                                                                                                                                                                                                                                                                                                                                                            \n",
       "658  I will mirror what the other reviewer stated.  Needing to do my notary oath (the final hoop before I could start stamping!), I visited their office on a June Tuesday around 11:00 am and was in and out in no time.  Everyone that I encountered in the building, from the security guard in the foyer, to the office workers at the Register of Deeds was friendly, helpful and polite.  Miss Valerie (what her coworker called her) was the one that took care of me and I was $10 lighter, sworn, certificated and out the door in no time.  \\r\\n\\r\\nI parked in the parking deck off of Davidson between 3rd and 4th, which proved to be not terribly expensive ($1 for 30-45 minutes, I think) and not too far of a hike, only crossing one substantial intersection.                                                                                                                                                                                                                                                                                                                                                                                                                                                                                                                                                                                                                                                                                                                                                                                                                                                                                                                                                                                                                                                                                                                                                                                                                                                                               \n",
       "659  All of the prior reviews were accurate.  Very pleasant employees.   Clean, neat and professional atmosphere.    When I went (Friday at 9:15) it was not busy.   The employee took a total of about 15 minutes.  Parking is not easy but everything else was.                                                                                                                                                                                                                                                                                                                                                                                                                                                                                                                                                                                                                                                                                                                                                                                                                                                                                                                                                                                                                                                                                                                                                                                                                                                                                                                                                                                                                                                                                                                                                                                                                                                                                                                                                                                              \n",
       "660  I came here after the unsatisfactory service received from the security guard at the Tatum office. The guard here was respectable as expected and for it being the busiest office in all of Phoenix, it was surprisingly a quick in and out. About 45 minutes. I got there around 10am. Of course I was just requesting a replacement card. \\r\\n\\r\\nThe only downfall is there is not nearly enough parking for how busy this office is. So be prepared for that.                                                                                                                                                                                                                                                                                                                                                                                                                                                                                                                                                                                                                                                                                                                                                                                                                                                                                                                                                                                                                                                                                                                                                                                                                                                                                                                                                                                                                                                                                                                                                                                         \n",
       "661  Comfortable brand new building, safe and clean.  Smells brand new and fast service.   Staff speak multiple languages and the elevators were super fast!                                                                                                                                                                                                                                                                                                                                                                                                                                                                                                                                                                                                                                                                                                                                                                                                                                                                                                                                                                                                                                                                                                                                                                                                                                                                                                                                                                                                                                                                                                                                                                                                                                                                                                                                                                                                                                                                                                   \n",
       "662  It was an ok experience. Arrived just before it opened and had to wait in line around the building but after arriving inside and getting my numberI had atleast an hour wait. I was getting my replacement card..                                                                                                                                                                                                                                                                                                                                                                                                                                                                                                                                                                                                                                                                                                                                                                                                                                                                                                                                                                                                                                                                                                                                                                                                                                                                                                                                                                                                                                                                                                                                                                                                                                                                                                                                                                                                                                         \n",
       "663  Truly wasn't an awful experience. I've been dreading the idea of getting a new social card since I moved and lost my old one. Woke up early and went to the Mesa location just to find out they don't issue applications for social security card renewals so I drove down to Phoenix where they told me to go. The parking lot was filled and kinda hard to find a parking spot. The security guard was actually pretty pleasant, very nice and friendly man. The waiting room was just about full which obviously ruins your mood a little but I was maybe there an hour before my number got called. The lady who did the application was really nice and patient and I was out of the in no time. Pretty pleased with my experience here. I see a lot of bad reviews on Google and other locations of the social security offices so I thought I'd share mine not great, but not so bad experience.                                                                                                                                                                                                                                                                                                                                                                                                                                                                                                                                                                                                                                                                                                                                                                                                                                                                                                                                                                                                                                                                                                                                                   \n",
       "664  eh,   it is what it is..BUSY! long waits                                                                                                                                                                                                                                                                                                                                                                                                                                                                                                                                                                                                                                                                                                                                                                                                                                                                                                                                                                                                                                                                                                                                                                                                                                                                                                                                                                                                                                                                                                                                                                                                                                                                                                                                                                                                                                                                                                                                                                                                                  \n",
       "665  This place is gross. I was there so long was forced to use restroom, yuck. Security grills you up front. I did give 2 stars because at least after 2 hours the lady that helped me was pleasant enough. Glad I don't need to come often lol                                                                                                                                                                                                                                                                                                                                                                                                                                                                                                                                                                                                                                                                                                                                                                                                                                                                                                                                                                                                                                                                                                                                                                                                                                                                                                                                                                                                                                                                                                                                                                                                                                                                                                                                                                                                               \n",
       "\n",
       "     stars  \n",
       "0    4      \n",
       "1    4      \n",
       "2    1      \n",
       "3    2      \n",
       "4    1      \n",
       "5    5      \n",
       "6    5      \n",
       "7    4      \n",
       "8    1      \n",
       "9    4      \n",
       "10   3      \n",
       "11   3      \n",
       "12   5      \n",
       "13   3      \n",
       "14   3      \n",
       "15   4      \n",
       "16   5      \n",
       "17   5      \n",
       "18   1      \n",
       "19   1      \n",
       "20   4      \n",
       "21   5      \n",
       "22   3      \n",
       "23   5      \n",
       "24   5      \n",
       "25   5      \n",
       "26   5      \n",
       "27   5      \n",
       "28   4      \n",
       "29   5      \n",
       "..  ..      \n",
       "636  1      \n",
       "637  2      \n",
       "638  1      \n",
       "639  1      \n",
       "640  1      \n",
       "641  1      \n",
       "642  1      \n",
       "643  1      \n",
       "644  1      \n",
       "645  1      \n",
       "646  1      \n",
       "647  1      \n",
       "648  1      \n",
       "649  1      \n",
       "650  1      \n",
       "651  1      \n",
       "652  4      \n",
       "653  1      \n",
       "654  1      \n",
       "655  3      \n",
       "656  3      \n",
       "657  1      \n",
       "658  5      \n",
       "659  5      \n",
       "660  4      \n",
       "661  5      \n",
       "662  3      \n",
       "663  4      \n",
       "664  3      \n",
       "665  2      \n",
       "\n",
       "[666 rows x 3 columns]"
      ]
     },
     "metadata": {},
     "output_type": "display_data"
    }
   ],
   "source": [
    "# Setting up the yelp dataset for the demonstration\n",
    "myDir = 'data/yelp'\n",
    "f = os.path.join(myDir,'reviews_with_single_category.csv')\n",
    "data = pd.read_csv(f, encoding=\"utf-8\")\n",
    "\n",
    "# show the business categories I have filtered to, and the number of reviews per business.\n",
    "cat_grp = data.groupby('categories')\n",
    "cat = \"Public Services & Government\"\n",
    "data = cat_grp.get_group(cat).reset_index(drop=True)\n",
    "num_reviews = data.shape[0]\n",
    "display(data)"
   ]
  },
  {
   "cell_type": "markdown",
   "metadata": {
    "deletable": true,
    "editable": true,
    "nbpresent": {
     "id": "8a432101-98d3-4234-9983-01d183f94622"
    },
    "slideshow": {
     "slide_type": "subslide"
    },
    "variables": {
     "num_reviews": {}
    }
   },
   "source": [
    "### Dataset for Demonstration\n",
    "\n",
    "<img src='img\\Yelp_Logo.svg.png' height='128' width='128' align='right'/>To demonstrate the analysis, I have used the text reviews from the Round 8 of the Yelp Challenge. src: https://www.yelp.com/dataset_challenge. \n",
    "\n",
    "We will be analyzing the reviews in the **Public Services & government** category, consisting of {{num_reviews}} reviews. Each review has a star rating numbered from 1 to 5."
   ]
  },
  {
   "cell_type": "markdown",
   "metadata": {
    "deletable": true,
    "editable": true,
    "slideshow": {
     "slide_type": "subslide"
    },
    "variables": {
     "display(data.head())": {}
    }
   },
   "source": [
    "A preview of the data:\n",
    "\n",
    "{{display(data.head())}}"
   ]
  },
  {
   "cell_type": "markdown",
   "metadata": {
    "deletable": true,
    "editable": true,
    "slideshow": {
     "slide_type": "subslide"
    }
   },
   "source": [
    "### Sentiment analysis\n",
    "\n",
    "nltk provides a sentiment analysis package called _vader.SentimentIntensityAnalyzer()_. _Vader_, an abbreviation for **Valence Aware Dictionary and sEntiment Reasoner**, is a lexicon (relies on Wordnet) and rule-based sentiment analysis tool that is specifically attuned to sentiments expressed in social media. For each document provided as input to Vader, the algorithm calculates the overall sentiment score to between -1 and 1 and calls this score the compound score. A score of -1 is negative, and a score of 1 is positive."
   ]
  },
  {
   "cell_type": "markdown",
   "metadata": {
    "deletable": true,
    "editable": true,
    "slideshow": {
     "slide_type": "subslide"
    }
   },
   "source": [
    "**Vader Rule Overview** \n",
    "\n",
    "1. Punctuation, namely the exclamation point (!), increases the magnitude of the intensity without modifying the semantic orientation. For example, “The food here is good!!!” is more intense than “The food here is good.” \n",
    "2. Capitalization, specifically using ALL-CAPS to emphasize a sentiment-relevant word in the presence of other non-capitalized words, increases the magnitude of the sentiment intensity without affecting the semantic orientation. For example, “The food here is GREAT!” conveys more intensity than “The food here is great!” \n",
    "3. Degree modifiers (also called intensifiers, booster words, or degree adverbs) impact sentiment intensity by either increasing or decreasing the intensity. For example, “The service here is extremely good” is more intense than “The service here is good”, whereas “The service here is marginally good” reduces the intensity. "
   ]
  },
  {
   "cell_type": "markdown",
   "metadata": {
    "deletable": true,
    "editable": true,
    "slideshow": {
     "slide_type": "subslide"
    }
   },
   "source": [
    "<p>4. The contrastive conjunction “but” signals a shift in sentiment polarity, with the sentiment of the text following the conjunction being dominant. “The food here is great, but the service is horrible” has mixed sentiment, with the latter half dictating the overall rating. </p>\n",
    "<p>5. By examining the tri-gram preceding a sentiment-laden lexical feature, we catch nearly 90% of cases where negation flips the polarity of the text. A negated sentence would be “The food here isn’t really all that great”.</p>\n",
    "\n",
    "Hutto, C.J., Gilbert, E. June 2014. _VADER: A Parsimonious Rule-based Model for Sentiment Analysis of Social Media Text._ Eighth International Conference on Weblogs and Social Media (ICWSM-14)."
   ]
  },
  {
   "cell_type": "code",
   "execution_count": 33,
   "metadata": {
    "collapsed": false,
    "deletable": true,
    "editable": true,
    "slideshow": {
     "slide_type": "subslide"
    }
   },
   "outputs": [
    {
     "name": "stdout",
     "output_type": "stream",
     "text": [
      "{'neg': 0.0, 'neu': 0.742, 'pos': 0.258, 'compound': 0.9766} \n",
      "\n",
      "The star rating given by the reviewer is 4\n"
     ]
    }
   ],
   "source": [
    "# Assigning a variable to the sentiment analyzer.\n",
    "midi_chlorian = vader.SentimentIntensityAnalyzer()\n",
    "\n",
    "# Take the first review as an example.\n",
    "review1 = data['text'][0]\n",
    "\n",
    "# Analyze the polarity of this review.\n",
    "polarity1 = midi_chlorian.polarity_scores(review1)\n",
    "\n",
    "# the result.\n",
    "print polarity1, '\\n'\n",
    "print \"The star rating given by the reviewer is\", data['stars'][0]"
   ]
  },
  {
   "cell_type": "code",
   "execution_count": 34,
   "metadata": {
    "collapsed": true,
    "deletable": true,
    "editable": true,
    "slideshow": {
     "slide_type": "skip"
    }
   },
   "outputs": [],
   "source": [
    "if polarity1['compound'] > 0.25:\n",
    "    polarity_returned = 'positive'\n",
    "elif polarity1['compound'] < 0.25:\n",
    "    polarity_returned = 'negative'\n",
    "else:\n",
    "    polarity_returned = 'neutral'\n",
    "\n",
    "if (polarity_returned == 'positive' and data['stars'][0] > 3) or (polarity_returned == 'negative' and data['stars'][0] < 3) or (polarity_returned == 'neutral' and data['stars'][0] == 3):\n",
    "    align = 'aligned'\n",
    "else:\n",
    "    align = 'not aligned'"
   ]
  },
  {
   "cell_type": "markdown",
   "metadata": {
    "deletable": true,
    "editable": true,
    "variables": {
     "align": {},
     "data['stars'][0]": {},
     "polarity1['compound']": {},
     "polarity_returned": {}
    }
   },
   "source": [
    "The compound score returned is {{polarity1['compound']}}, indicating it is {{polarity_returned}}. The result is {{align}} with the rating of {{data['stars'][0]}} stars given."
   ]
  },
  {
   "cell_type": "markdown",
   "metadata": {
    "deletable": true,
    "editable": true,
    "slideshow": {
     "slide_type": "subslide"
    }
   },
   "source": [
    "How does Vader's compound score relate to the star rating?"
   ]
  },
  {
   "cell_type": "code",
   "execution_count": 35,
   "metadata": {
    "collapsed": false,
    "deletable": true,
    "editable": true,
    "slideshow": {
     "slide_type": "-"
    }
   },
   "outputs": [
    {
     "data": {
      "image/png": "[encoded data removed]",
      "text/plain": [
       "<matplotlib.figure.Figure at 0x1261a240>"
      ]
     },
     "metadata": {},
     "output_type": "display_data"
    }
   ],
   "source": [
    "# apply Vader to the whole dataset\n",
    "data['valence'] = data['text'].apply(midi_chlorian.polarity_scores).apply(lambda x: x['compound'])\n",
    "# the first apply, applies Vader to each of the text. \n",
    "# The second apply extracts the overall polarity score given by the 'compound' key in the dict returned by Vader\n",
    "\n",
    "# plot the compound score against the star rating.\n",
    "plt.scatter(data['stars'], data['valence'], alpha=0.1)\n",
    "# fitting a best fit line thru the points\n",
    "plt.plot(np.arange(1,6), np.poly1d(np.polyfit(data['stars'], data['valence'], 1))(np.arange(1,6)), linestyle='--')\n",
    "plt.xlabel('star rating given')\n",
    "plt.ylabel('Compound score')\n",
    "plt.title('Plot of Valence score against star rating given')\n",
    "plt.show()"
   ]
  },
  {
   "cell_type": "markdown",
   "metadata": {
    "deletable": true,
    "editable": true,
    "slideshow": {
     "slide_type": "subslide"
    }
   },
   "source": [
    "From the best fit line in the previous plot, we see that the valence score returned by Vader is generally in line with the ratings given by the reviews. The sentiment analyzer is not perfect, as we saw that there are negative valence score givens to reviews awarded 5 stars, and positive valence score given to the reviews awarded 1 star. A closer examination will be required to understand what are the reviews that Vader got wrong.\n",
    "\n",
    "How good is Vader in identifying 1 star ratings?"
   ]
  },
  {
   "cell_type": "code",
   "execution_count": 36,
   "metadata": {
    "collapsed": false,
    "deletable": true,
    "editable": true,
    "slideshow": {
     "slide_type": "subslide"
    }
   },
   "outputs": [
    {
     "name": "stdout",
     "output_type": "stream",
     "text": [
      "Accuracy of Vader is: 69.37 %\n",
      "Accuracy on 1 star reviews is: 67.73 %\n"
     ]
    }
   ],
   "source": [
    "# Take a look at the accuracy of sentiment analysis.\n",
    "def correctness(polarity, stars):\n",
    "    if (polarity > 0 and stars > 3) or (polarity <= 0 and stars <= 3):\n",
    "        return True\n",
    "    else:\n",
    "        return False\n",
    "\n",
    "# Here, I am assuming that a 3 star review should have a negative valence.\n",
    "data['correct_flag'] = ((data['stars']-3.1)*data['valence']) > 0 \n",
    "\n",
    "accuracy = sum(data.correct_flag)*1./data.shape[0]\n",
    "print \"Accuracy of Vader is: %.2f %%\" %(accuracy*100.)\n",
    "\n",
    "acc_1_star = sum(data[data.stars==1].correct_flag)*1./data[data.stars==1].shape[0]\n",
    "print \"Accuracy on 1 star reviews is: %.2f %%\" %(acc_1_star*100.)"
   ]
  },
  {
   "cell_type": "markdown",
   "metadata": {
    "deletable": true,
    "editable": true,
    "slideshow": {
     "slide_type": "subslide"
    }
   },
   "source": [
    "With sentiment analysis, a business can retrieve texts from other data sources which does not contain any star rating information, and grade the sentiment of that text. They can filter the results to texts with negative sentiments. These texts will likely be talking about the negative aspect of the business. This will help the business focus their efforts on these negative aspects."
   ]
  },
  {
   "cell_type": "markdown",
   "metadata": {
    "deletable": true,
    "editable": true,
    "slideshow": {
     "slide_type": "subslide"
    }
   },
   "source": [
    "### Document similarity\n",
    "\n",
    "Previously, we saw that a business can sieve out text with negative sentiments. While reading through newly collected reviews with negative sentiments, the business realized some topics in the reviews were constantly being mentioned. Management wants to know whether they have received similar feedback in the past. You can find similar reviews by measuring the document similarity for the new reviews with the reviews stored in the database."
   ]
  },
  {
   "cell_type": "markdown",
   "metadata": {
    "deletable": true,
    "editable": true,
    "slideshow": {
     "slide_type": "subslide"
    }
   },
   "source": [
    "Documents can be measured for similarity by comparing the words that appear in the documents. 2 documents with many common words will have high similarity. A similarity score commonly used in text analytics is the **cosine** similarity.\n",
    "\n",
    "** $\\cos similarity = \\frac{v.w}{\\|v\\|\\|w\\|}$**\n",
    "\n",
    "** $v.w = v_1 * w_1 + v_2 * w_2 + ... + v_N * w_N$**\n",
    "\n",
    "** $\\|v\\| = \\sqrt{v_1^2 + v_2^2 + ... + v_N^2}$**\n",
    "\n",
    "** $\\|w\\| = \\sqrt{w_1^2 + w_2^2 + ... + w_N^2}$**"
   ]
  },
  {
   "cell_type": "markdown",
   "metadata": {
    "deletable": true,
    "editable": true,
    "nbpresent": {
     "id": "d34d02fd-3ccc-436c-9303-06436cac1db2"
    },
    "slideshow": {
     "slide_type": "subslide"
    }
   },
   "source": [
    "Document v = (1, 1, 1, $\\cdots$, 0) --> $\\begin{pmatrix}v_1\\\\v_2\\\\v_3\\\\\\vdots\\\\v_n\\end{pmatrix}$ --> $\\begin{pmatrix}1\\\\1\\\\1\\\\\\vdots\\\\0\\end{pmatrix}$\n",
    "\n",
    "\n",
    "Document w = (0, 0, 1, $\\cdots$, 0) --> $\\begin{pmatrix}w_1\\\\w_2\\\\w_3\\\\\\vdots\\\\w_n\\end{pmatrix}$ --> $\\begin{pmatrix}0\\\\0\\\\1\\\\\\vdots\\\\0\\end{pmatrix}$\n",
    "\n",
    "Invert each document in the matrix, and you'll get the vector of a document.\n",
    "\n",
    "Unlike sentiment analysis, we have to transform the text data into a strutured format before calculating the cosine similarity between document. "
   ]
  },
  {
   "cell_type": "code",
   "execution_count": 37,
   "metadata": {
    "collapsed": false,
    "deletable": true,
    "editable": true,
    "nbpresent": {
     "id": "916aecbb-1729-4141-aff4-86e35617db61"
    },
    "slideshow": {
     "slide_type": "subslide"
    }
   },
   "outputs": [],
   "source": [
    "# Performing the preprocessing steps and the structuring steps:\n",
    "yelp_corpus_tokenize = data.text.apply(nltk.word_tokenize) # tokenize the reviews. Assume there are no emoticons.\n",
    "yelp_corpus_stopwords = [[w for w in doc if w.lower() not in list(string.punctuation)+stop_words]\n",
    "                        for doc in yelp_corpus_tokenize]# remove stop words and punctuations\n",
    "yelp_corpus_regex = [[w for w in doc if re.search('^[a-zA-Z0-9]+$', w)] for doc in yelp_corpus_stopwords]\n",
    "yelp_corpus_lemma = [[lemma(w) for w in doc] for doc in yelp_corpus_regex] # lowercase and lemmatize"
   ]
  },
  {
   "cell_type": "code",
   "execution_count": 38,
   "metadata": {
    "collapsed": false,
    "deletable": true,
    "editable": true,
    "slideshow": {
     "slide_type": "subslide"
    }
   },
   "outputs": [
    {
     "data": {
      "image/png": "[encoded data removed]",
      "text/plain": [
       "<matplotlib.figure.Figure at 0x1984e198>"
      ]
     },
     "metadata": {},
     "output_type": "display_data"
    }
   ],
   "source": [
    "# After preprocessing, inspect the tokens using a wordcloud\n",
    "wc = WordCloud(background_color='black', stopwords=None, width = 1200, height = 1200)\n",
    "\n",
    "wc.generate(\" \".join([w for doc in yelp_corpus_lemma for w in doc]))\n",
    "fig = plt.figure()\n",
    "fig.set_figwidth(12); fig.set_figheight(12); plt.axis('off')\n",
    "plt.imshow(wc); plt.show()"
   ]
  },
  {
   "cell_type": "code",
   "execution_count": 39,
   "metadata": {
    "collapsed": false,
    "deletable": true,
    "editable": true,
    "slideshow": {
     "slide_type": "subslide"
    }
   },
   "outputs": [],
   "source": [
    "# Creating a dictionary\n",
    "yelp_dictionary = corpora.Dictionary(yelp_corpus_lemma)\n",
    "token_2_id = yelp_dictionary.token2id\n",
    "\n",
    "# Expressing in a sparse matrix\n",
    "sparse_mat = [yelp_dictionary.doc2bow(doc) for doc in yelp_corpus_lemma]\n",
    "\n",
    "# Tf-idf weighting\n",
    "tfidf = models.TfidfModel(sparse_mat) # learn the tfidf weighting\n",
    "tfidf_sparse = [tfidf[doc] for doc in sparse_mat] # apply the tfidf weighting\n",
    "\n",
    "# Create a similarity matrix for all the reviews except the last review.\n",
    "tfidf_index = similarities.SparseMatrixSimilarity(tfidf_sparse[:-1], len(yelp_dictionary.keys()))"
   ]
  },
  {
   "cell_type": "markdown",
   "metadata": {
    "deletable": true,
    "editable": true,
    "slideshow": {
     "slide_type": "subslide"
    }
   },
   "source": [
    "In the above code, we let all the reviews, excluding the last review, be those already present in the company's database, and let the last review be the new review the company received. The *tfidf_index* is created, such that when a new review is received, that new review can be transformed into a sparse vector and passed into tfidf_index to find similar reviews in the database.\n",
    "\n",
    "In the above text structing process, we applied the tf-idf transformation. This to reduce the influence of common words on the similarity."
   ]
  },
  {
   "cell_type": "code",
   "execution_count": 40,
   "metadata": {
    "collapsed": false,
    "deletable": true,
    "editable": true
   },
   "outputs": [
    {
     "data": {
      "text/html": [
       "<div>\n",
       "<table border=\"1\" class=\"dataframe\">\n",
       "  <thead>\n",
       "    <tr style=\"text-align: right;\">\n",
       "      <th></th>\n",
       "      <th>Document index</th>\n",
       "      <th>Cosine Similarity</th>\n",
       "    </tr>\n",
       "  </thead>\n",
       "  <tbody>\n",
       "    <tr>\n",
       "      <th>0</th>\n",
       "      <td>149</td>\n",
       "      <td>0.144934</td>\n",
       "    </tr>\n",
       "    <tr>\n",
       "      <th>1</th>\n",
       "      <td>555</td>\n",
       "      <td>0.113416</td>\n",
       "    </tr>\n",
       "    <tr>\n",
       "      <th>2</th>\n",
       "      <td>397</td>\n",
       "      <td>0.105878</td>\n",
       "    </tr>\n",
       "    <tr>\n",
       "      <th>3</th>\n",
       "      <td>170</td>\n",
       "      <td>0.096139</td>\n",
       "    </tr>\n",
       "    <tr>\n",
       "      <th>4</th>\n",
       "      <td>472</td>\n",
       "      <td>0.093123</td>\n",
       "    </tr>\n",
       "    <tr>\n",
       "      <th>5</th>\n",
       "      <td>98</td>\n",
       "      <td>0.093010</td>\n",
       "    </tr>\n",
       "    <tr>\n",
       "      <th>6</th>\n",
       "      <td>479</td>\n",
       "      <td>0.091975</td>\n",
       "    </tr>\n",
       "    <tr>\n",
       "      <th>7</th>\n",
       "      <td>657</td>\n",
       "      <td>0.091330</td>\n",
       "    </tr>\n",
       "    <tr>\n",
       "      <th>8</th>\n",
       "      <td>16</td>\n",
       "      <td>0.090466</td>\n",
       "    </tr>\n",
       "    <tr>\n",
       "      <th>9</th>\n",
       "      <td>282</td>\n",
       "      <td>0.090093</td>\n",
       "    </tr>\n",
       "  </tbody>\n",
       "</table>\n",
       "</div>"
      ],
      "text/plain": [
       "   Document index  Cosine Similarity\n",
       "0  149             0.144934         \n",
       "1  555             0.113416         \n",
       "2  397             0.105878         \n",
       "3  170             0.096139         \n",
       "4  472             0.093123         \n",
       "5  98              0.093010         \n",
       "6  479             0.091975         \n",
       "7  657             0.091330         \n",
       "8  16              0.090466         \n",
       "9  282             0.090093         "
      ]
     },
     "execution_count": 40,
     "metadata": {},
     "output_type": "execute_result"
    }
   ],
   "source": [
    "sim_to_last_review = tfidf_index[tfidf_sparse[-1]] # find reviews similar to the last review\n",
    "# sort the similarity score from largest to smallest\n",
    "sim_to_last_review = sorted(enumerate(sim_to_last_review), key=lambda item: -item[-1])\n",
    "\n",
    "# The result looks like this (showing the 10 highest similarity):\n",
    "pd.DataFrame.from_records(sim_to_last_review[:10], columns=['Document index', 'Cosine Similarity'])"
   ]
  },
  {
   "cell_type": "code",
   "execution_count": 41,
   "metadata": {
    "collapsed": false,
    "deletable": true,
    "editable": true,
    "slideshow": {
     "slide_type": "subslide"
    }
   },
   "outputs": [
    {
     "data": {
      "image/png": "[encoded data removed]",
      "text/plain": [
       "<matplotlib.figure.Figure at 0x1d25fef0>"
      ]
     },
     "metadata": {},
     "output_type": "display_data"
    }
   ],
   "source": [
    "plt.hist(x=map(lambda sim: sim[1], sim_to_last_review), bins=20)\n",
    "plt.xlabel('Similarity Score')\n",
    "plt.ylabel('Frequency')\n",
    "plt.title('Cosine Similarity Distribution of new reviews with DB')\n",
    "plt.show()"
   ]
  },
  {
   "cell_type": "markdown",
   "metadata": {
    "deletable": true,
    "editable": true,
    "slideshow": {
     "slide_type": "subslide"
    }
   },
   "source": [
    "Examining the \"new\" review with the most similar review  in the DB."
   ]
  },
  {
   "cell_type": "code",
   "execution_count": 42,
   "metadata": {
    "collapsed": false,
    "deletable": true,
    "editable": true
   },
   "outputs": [
    {
     "name": "stdout",
     "output_type": "stream",
     "text": [
      "The \"new\" review:\n",
      "This place is gross. I was there so long was forced to use restroom, yuck. Security grills you up front. I did give 2 stars because at least after 2 hours the lady that helped me was pleasant enough. Glad I don't need to come often lol \n",
      "\n",
      "The most similar review:\n",
      "Never ride this horrible thing there r psycho homeless people everywhere and the bus drivers are seriously extremely retarded I dont know how they still have a job and they steal your money if you make 1 little mistake I payed $5 to get 2 24 hour passes they are $2 each with a student id and the dumbass gives me 2 2 hour passes that isn't even worth $5 so I asked if I could have my dollar back and the retard couldn't understand me so I just got off this bus deserves 0 out of 5 it is just a waste of money to sit next to gross homeless freaks\n"
     ]
    }
   ],
   "source": [
    "index_most_similar = sim_to_last_review[0][0]\n",
    "print 'The \"new\" review:\\n', data.text.iloc[-1], \"\\n\"\n",
    "print \"The most similar review:\\n\", data.text.iloc[index_most_similar]"
   ]
  },
  {
   "cell_type": "markdown",
   "metadata": {
    "deletable": true,
    "editable": true,
    "slideshow": {
     "slide_type": "subslide"
    }
   },
   "source": [
    "### Topic modelling\n",
    "\n",
    "Topic modelling is the text analytics equivalent of clustering. Each cluster, is a cluster of words, and can be thought of as a topic. A difference is, a document may belong to different clusters instead of just 1. That is to say, a document can be categorized into more than 1 topic.\n",
    "\n",
    "Topic Modelling Algorithms:\n",
    "\n",
    "1. **Latent Dirichlet allocation (LDA)**\n",
    "* Latent Semantic Analysis (LSA)"
   ]
  },
  {
   "cell_type": "markdown",
   "metadata": {
    "deletable": true,
    "editable": true,
    "nbpresent": {
     "id": "91ecf0cf-6173-44b6-ad40-51ceee105207"
    },
    "slideshow": {
     "slide_type": "subslide"
    }
   },
   "source": [
    "**Latent Dirichlet allocation (LDA)**\n",
    "\n",
    "Wikipedia Definition: a generative statistical model that allows sets of observations to be explained by unobserved groups that explain why some parts of the data are similar.\n",
    "\n",
    "We initialize the topic model by assuming there are X number of topics in the corpus, where each topic is characterized by the words it contains. The processing steps are the same as in the document simlarity demonstration. With the same reasoning as "
   ]
  },
  {
   "cell_type": "code",
   "execution_count": 43,
   "metadata": {
    "collapsed": false,
    "deletable": true,
    "editable": true,
    "nbpresent": {
     "id": "a2bf7a16-842a-4677-b63b-ea95f0357912"
    },
    "slideshow": {
     "slide_type": "subslide"
    }
   },
   "outputs": [
    {
     "data": {
      "text/html": [
       "<div>\n",
       "<table border=\"1\" class=\"dataframe\">\n",
       "  <thead>\n",
       "    <tr style=\"text-align: right;\">\n",
       "      <th></th>\n",
       "      <th>topic index</th>\n",
       "      <th>words</th>\n",
       "    </tr>\n",
       "  </thead>\n",
       "  <tbody>\n",
       "    <tr>\n",
       "      <th>0</th>\n",
       "      <td>0</td>\n",
       "      <td>0.002*\"tsa\" + 0.002*\"love\" + 0.002*\"need\" + 0.002*\"park\" + 0.002*\"vote\" + 0.002*\"time\" + 0.002*\"line\" + 0.001*\"place\" + 0.001*\"think\" + 0.001*\"office\"</td>\n",
       "    </tr>\n",
       "    <tr>\n",
       "      <th>1</th>\n",
       "      <td>1</td>\n",
       "      <td>0.002*\"tsa\" + 0.002*\"customer\" + 0.002*\"mill\" + 0.002*\"service\" + 0.002*\"never\" + 0.002*\"even\" + 0.002*\"day\" + 0.002*\"get\" + 0.002*\"take\" + 0.001*\"time\"</td>\n",
       "    </tr>\n",
       "    <tr>\n",
       "      <th>2</th>\n",
       "      <td>2</td>\n",
       "      <td>0.002*\"park\" + 0.002*\"tsa\" + 0.002*\"wait\" + 0.002*\"water\" + 0.002*\"move\" + 0.002*\"line\" + 0.001*\"one\" + 0.001*\"people\" + 0.001*\"time\" + 0.001*\"company\"</td>\n",
       "    </tr>\n",
       "    <tr>\n",
       "      <th>3</th>\n",
       "      <td>3</td>\n",
       "      <td>0.002*\"city\" + 0.002*\"get\" + 0.002*\"need\" + 0.002*\"go\" + 0.001*\"service\" + 0.001*\"vote\" + 0.001*\"minute\" + 0.001*\"line\" + 0.001*\"take\" + 0.001*\"work\"</td>\n",
       "    </tr>\n",
       "    <tr>\n",
       "      <th>4</th>\n",
       "      <td>4</td>\n",
       "      <td>0.002*\"wait\" + 0.002*\"bill\" + 0.002*\"get\" + 0.002*\"inside\" + 0.002*\"bus\" + 0.002*\"go\" + 0.001*\"around\" + 0.001*\"walk\" + 0.001*\"tsa\" + 0.001*\"line\"</td>\n",
       "    </tr>\n",
       "    <tr>\n",
       "      <th>5</th>\n",
       "      <td>5</td>\n",
       "      <td>0.002*\"line\" + 0.002*\"security\" + 0.002*\"check\" + 0.002*\"tsa\" + 0.002*\"wait\" + 0.002*\"help\" + 0.002*\"people\" + 0.002*\"card\" + 0.002*\"service\" + 0.002*\"social\"</td>\n",
       "    </tr>\n",
       "    <tr>\n",
       "      <th>6</th>\n",
       "      <td>6</td>\n",
       "      <td>0.002*\"ride\" + 0.002*\"bus\" + 0.002*\"office\" + 0.002*\"come\" + 0.002*\"tsa\" + 0.002*\"better\" + 0.002*\"security\" + 0.001*\"stop\" + 0.001*\"name\" + 0.001*\"get\"</td>\n",
       "    </tr>\n",
       "    <tr>\n",
       "      <th>7</th>\n",
       "      <td>7</td>\n",
       "      <td>0.002*\"go\" + 0.002*\"park\" + 0.002*\"train\" + 0.002*\"ap\" + 0.002*\"get\" + 0.002*\"need\" + 0.002*\"time\" + 0.001*\"long\" + 0.001*\"people\" + 0.001*\"job\"</td>\n",
       "    </tr>\n",
       "    <tr>\n",
       "      <th>8</th>\n",
       "      <td>8</td>\n",
       "      <td>0.002*\"come\" + 0.002*\"experience\" + 0.002*\"office\" + 0.002*\"guy\" + 0.002*\"go\" + 0.001*\"helpful\" + 0.001*\"hour\" + 0.001*\"people\" + 0.001*\"get\" + 0.001*\"wait\"</td>\n",
       "    </tr>\n",
       "    <tr>\n",
       "      <th>9</th>\n",
       "      <td>9</td>\n",
       "      <td>0.002*\"precheck\" + 0.002*\"people\" + 0.002*\"take\" + 0.002*\"line\" + 0.002*\"time\" + 0.002*\"day\" + 0.002*\"one\" + 0.002*\"minute\" + 0.002*\"get\" + 0.002*\"go\"</td>\n",
       "    </tr>\n",
       "  </tbody>\n",
       "</table>\n",
       "</div>"
      ],
      "text/plain": [
       "   topic index  \\\n",
       "0  0             \n",
       "1  1             \n",
       "2  2             \n",
       "3  3             \n",
       "4  4             \n",
       "5  5             \n",
       "6  6             \n",
       "7  7             \n",
       "8  8             \n",
       "9  9             \n",
       "\n",
       "                                                                                                                                                            words  \n",
       "0  0.002*\"tsa\" + 0.002*\"love\" + 0.002*\"need\" + 0.002*\"park\" + 0.002*\"vote\" + 0.002*\"time\" + 0.002*\"line\" + 0.001*\"place\" + 0.001*\"think\" + 0.001*\"office\"          \n",
       "1  0.002*\"tsa\" + 0.002*\"customer\" + 0.002*\"mill\" + 0.002*\"service\" + 0.002*\"never\" + 0.002*\"even\" + 0.002*\"day\" + 0.002*\"get\" + 0.002*\"take\" + 0.001*\"time\"        \n",
       "2  0.002*\"park\" + 0.002*\"tsa\" + 0.002*\"wait\" + 0.002*\"water\" + 0.002*\"move\" + 0.002*\"line\" + 0.001*\"one\" + 0.001*\"people\" + 0.001*\"time\" + 0.001*\"company\"         \n",
       "3  0.002*\"city\" + 0.002*\"get\" + 0.002*\"need\" + 0.002*\"go\" + 0.001*\"service\" + 0.001*\"vote\" + 0.001*\"minute\" + 0.001*\"line\" + 0.001*\"take\" + 0.001*\"work\"           \n",
       "4  0.002*\"wait\" + 0.002*\"bill\" + 0.002*\"get\" + 0.002*\"inside\" + 0.002*\"bus\" + 0.002*\"go\" + 0.001*\"around\" + 0.001*\"walk\" + 0.001*\"tsa\" + 0.001*\"line\"              \n",
       "5  0.002*\"line\" + 0.002*\"security\" + 0.002*\"check\" + 0.002*\"tsa\" + 0.002*\"wait\" + 0.002*\"help\" + 0.002*\"people\" + 0.002*\"card\" + 0.002*\"service\" + 0.002*\"social\"  \n",
       "6  0.002*\"ride\" + 0.002*\"bus\" + 0.002*\"office\" + 0.002*\"come\" + 0.002*\"tsa\" + 0.002*\"better\" + 0.002*\"security\" + 0.001*\"stop\" + 0.001*\"name\" + 0.001*\"get\"        \n",
       "7  0.002*\"go\" + 0.002*\"park\" + 0.002*\"train\" + 0.002*\"ap\" + 0.002*\"get\" + 0.002*\"need\" + 0.002*\"time\" + 0.001*\"long\" + 0.001*\"people\" + 0.001*\"job\"                \n",
       "8  0.002*\"come\" + 0.002*\"experience\" + 0.002*\"office\" + 0.002*\"guy\" + 0.002*\"go\" + 0.001*\"helpful\" + 0.001*\"hour\" + 0.001*\"people\" + 0.001*\"get\" + 0.001*\"wait\"    \n",
       "9  0.002*\"precheck\" + 0.002*\"people\" + 0.002*\"take\" + 0.002*\"line\" + 0.002*\"time\" + 0.002*\"day\" + 0.002*\"one\" + 0.002*\"minute\" + 0.002*\"get\" + 0.002*\"go\"          "
      ]
     },
     "execution_count": 43,
     "metadata": {},
     "output_type": "execute_result"
    }
   ],
   "source": [
    "# Let the number of topics be 20\n",
    "num_topics = 10\n",
    "PSG_lda = gensim.models.ldamodel.LdaModel(corpus = tfidf_sparse, id2word = yelp_dictionary, num_topics=num_topics)\n",
    "# Inspect all 10 topics, and show 10 words per topic\n",
    "pd.DataFrame.from_records(PSG_lda.show_topics(num_topics, 10), columns=['topic index', 'words'])"
   ]
  },
  {
   "cell_type": "markdown",
   "metadata": {
    "deletable": true,
    "editable": true
   },
   "source": [
    "Using a visualization, it is perhaps easier to see what the topic is about."
   ]
  },
  {
   "cell_type": "code",
   "execution_count": 44,
   "metadata": {
    "collapsed": false,
    "deletable": true,
    "editable": true,
    "nbpresent": {
     "id": "e5aaed26-69fe-4ef1-9f17-27b00954ed07"
    },
    "slideshow": {
     "slide_type": "subslide"
    }
   },
   "outputs": [
    {
     "data": {
      "text/html": [
       "\n",
       "<link rel=\"stylesheet\" type=\"text/css\" href=\"https://cdn.rawgit.com/bmabey/pyLDAvis/files/ldavis.v1.0.0.css\">\n",
       "\n",
       "\n",
       "<div id=\"ldavis_el73162749470722503934633\"></div>\n",
       "<script type=\"text/javascript\">\n",
       "\n",
       "var ldavis_el73162749470722503934633_data = {\"plot.opts\": {\"xlab\": \"PC1\", \"ylab\": \"PC2\"}, \"topic.order\": [3, 8, 2, 7, 10, 5, 4, 9, 1, 6], \"token.table\": {\"Topic\": [3, 3, 5, 2, 1, 6, 1, 1, 3, 1, 4, 2, 1, 2, 4, 6, 2, 1, 2, 3, 4, 5, 6, 1, 1, 3, 1, 1, 2, 4, 1, 1, 3, 7, 3, 1, 4, 8, 1, 2, 3, 1, 3, 1, 2, 3, 4, 5, 4, 1, 1, 2, 3, 5, 5, 8, 1, 4, 3, 1, 2, 3, 4, 5, 6, 7, 1, 2, 3, 4, 5, 6, 7, 2, 2, 1, 1, 3, 6, 2, 1, 1, 1, 2, 3, 5, 1, 4, 5, 10, 1, 2, 2, 9, 1, 2, 4, 1, 3, 1, 5, 1, 2, 4, 1, 2, 4, 7, 9, 2, 3, 4, 1, 4, 5, 2, 1, 2, 4, 8, 1, 3, 5, 2, 1, 2, 5, 9, 3, 1, 2, 3, 5, 2, 1, 1, 1, 1, 5, 3, 2, 1, 5, 1, 1, 4, 5, 1, 1, 2, 4, 5, 1, 3, 4, 10, 2, 3, 2, 1, 3, 4, 7, 2, 4, 1, 2, 3, 4, 5, 1, 1, 2, 4, 1, 1, 2, 3, 5, 1, 2, 3, 1, 3, 4, 9, 4, 1, 2, 2, 7, 9, 1, 2, 3, 5, 6, 1, 1, 1, 3, 4, 5, 1, 4, 2, 3, 5, 1, 3, 4], \"Freq\": [0.39744830171160384, 0.2749447469714636, 0.2749447469714636, 0.3402041125578188, 0.3288743231529732, 0.3288743231529732, 0.37864674010842436, 0.28545914687923973, 0.42319599119482876, 0.6748349857254038, 0.3841443457185424, 0.5480065196347019, 0.2675129283931294, 0.2675129283931294, 0.2675129283931294, 0.2675129283931294, 0.6053144584106455, 0.20953385614671788, 0.20953385614671788, 0.20953385614671788, 0.20953385614671788, 0.20953385614671788, 0.20953385614671788, 0.24506399881503163, 0.2913904424017688, 0.2913904424017688, 0.3808841199607599, 0.25265699619556686, 0.25265699619556686, 0.25265699619556686, 0.4354017588268511, 0.2676254870558321, 0.2676254870558321, 0.31108690679094225, 0.3269148910447243, 0.22256122427747038, 0.22256122427747038, 0.22256122427747038, 0.29116400698099676, 0.29116400698099676, 0.29116400698099676, 0.28309304939078, 0.28309304939078, 0.2322137504796861, 0.2322137504796861, 0.2322137504796861, 0.2322137504796861, 0.2322137504796861, 0.4661932410870426, 0.5255415403825453, 1.0277064345164075, 0.2734778573988136, 0.2734778573988136, 0.3344095403227953, 0.3778523734630975, 0.3010716607735437, 0.422441170711315, 0.5416768349063124, 0.27973209732162013, 0.17203213465065523, 0.17203213465065523, 0.17203213465065523, 0.17203213465065523, 0.17203213465065523, 0.17203213465065523, 0.17203213465065523, 0.1696787758428691, 0.1696787758428691, 0.1696787758428691, 0.1696787758428691, 0.1696787758428691, 0.1696787758428691, 0.1696787758428691, 0.2750216708411632, 0.523687092384248, 0.30680493592933133, 0.25312916442994293, 0.25312916442994293, 0.5284229503204735, 0.3736333435673666, 0.7027565348798755, 0.2739740451410484, 0.45027669736059084, 0.22699004880652898, 0.22699004880652898, 0.22699004880652898, 0.1885811798312408, 0.1885811798312408, 0.1885811798312408, 0.1885811798312408, 0.2807653436363046, 0.2807653436363046, 0.31565418700734377, 0.3735963161626344, 0.25784748590243467, 0.25784748590243467, 0.25784748590243467, 0.33791864623709955, 0.33791864623709955, 0.23313301906313916, 0.23313301906313916, 0.31202456847273435, 0.3464426560488353, 0.3464426560488353, 0.2192188453691378, 0.2192188453691378, 0.2192188453691378, 0.2192188453691378, 0.2192188453691378, 0.25481367076459377, 0.25481367076459377, 0.25481367076459377, 0.2814154293662391, 0.2814154293662391, 0.2814154293662391, 0.4375293931082589, 0.28695897421699224, 0.22365608951661445, 0.22365608951661445, 0.22365608951661445, 0.22714116753192862, 0.22714116753192862, 0.22714116753192862, 0.30865386554759694, 0.19913608985454945, 0.19913608985454945, 0.19913608985454945, 0.19913608985454945, 0.2994895393711567, 0.1905063189441152, 0.1905063189441152, 0.1905063189441152, 0.1905063189441152, 0.4538720352354525, 0.6334313896815832, 0.2554479153486304, 0.581961444501161, 0.6762344036578897, 0.4108166861978179, 0.3649032924607767, 0.35965997963899377, 0.3570076793339556, 0.3570076793339556, 0.6119231399448118, 0.3068772073955894, 0.32817289963119417, 0.32817289963119417, 0.5837303890088438, 0.23208176098231872, 0.23208176098231872, 0.23208176098231872, 0.23208176098231872, 0.21314248474146372, 0.21314248474146372, 0.21314248474146372, 0.21314248474146372, 0.283138275149133, 0.283138275149133, 0.43951154901683576, 0.20783635442078677, 0.20783635442078677, 0.20783635442078677, 0.20783635442078677, 0.3958969508351489, 0.350683706024813, 0.1924193940369496, 0.1924193940369496, 0.1924193940369496, 0.1924193940369496, 0.1924193940369496, 0.28092182174522223, 0.3593612282571835, 0.3593612282571835, 0.3593612282571835, 0.3108398183456817, 0.1917480895171091, 0.1917480895171091, 0.1917480895171091, 0.1917480895171091, 0.26637885148388607, 0.26637885148388607, 0.4290450971728963, 0.17914408882169072, 0.17914408882169072, 0.17914408882169072, 0.17914408882169072, 0.5846523373339706, 0.26990115212129906, 0.26990115212129906, 0.3719048646244582, 0.4849634213104815, 0.4849634213104815, 0.18692838362354616, 0.18692838362354616, 0.18692838362354616, 0.18692838362354616, 0.18692838362354616, 0.3172089879179936, 0.37782768468818206, 0.24577541520781837, 0.24577541520781837, 0.24577541520781837, 0.24577541520781837, 0.30896357724838547, 0.30896357724838547, 0.27262338430568517, 0.27262338430568517, 0.27262338430568517, 0.2424315356772906, 0.2424315356772906, 0.2424315356772906], \"Term\": [\"agent\", \"airport\", \"airport\", \"ap\", \"around\", \"around\", \"ask\", \"back\", \"base\", \"beach\", \"better\", \"big\", \"bill\", \"bill\", \"bill\", \"bill\", \"book\", \"bus\", \"bus\", \"bus\", \"bus\", \"bus\", \"bus\", \"call\", \"can\", \"can\", \"car\", \"card\", \"card\", \"card\", \"charlotte\", \"check\", \"check\", \"city\", \"close\", \"come\", \"come\", \"come\", \"company\", \"company\", \"company\", \"customer\", \"customer\", \"day\", \"day\", \"day\", \"day\", \"day\", \"different\", \"dollar\", \"eh\", \"even\", \"even\", \"ever\", \"everyone\", \"experience\", \"fill\", \"food\", \"friendly\", \"get\", \"get\", \"get\", \"get\", \"get\", \"get\", \"get\", \"go\", \"go\", \"go\", \"go\", \"go\", \"go\", \"go\", \"great\", \"happen\", \"help\", \"hour\", \"hour\", \"inside\", \"job\", \"johnson\", \"know\", \"license\", \"like\", \"like\", \"like\", \"line\", \"line\", \"line\", \"line\", \"long\", \"long\", \"lot\", \"love\", \"make\", \"make\", \"make\", \"mill\", \"mill\", \"minute\", \"minute\", \"move\", \"name\", \"name\", \"need\", \"need\", \"need\", \"need\", \"need\", \"never\", \"never\", \"never\", \"nice\", \"nice\", \"nice\", \"night\", \"number\", \"office\", \"office\", \"office\", \"one\", \"one\", \"one\", \"open\", \"park\", \"park\", \"park\", \"park\", \"pay\", \"people\", \"people\", \"people\", \"people\", \"phone\", \"pick\", \"place\", \"plan\", \"please\", \"precheck\", \"pretty\", \"process\", \"rail\", \"rail\", \"rather\", \"really\", \"ride\", \"ride\", \"s\", \"say\", \"say\", \"say\", \"say\", \"security\", \"security\", \"security\", \"security\", \"see\", \"see\", \"seem\", \"service\", \"service\", \"service\", \"service\", \"show\", \"stop\", \"take\", \"take\", \"take\", \"take\", \"take\", \"tell\", \"terminal\", \"terminal\", \"terminal\", \"think\", \"time\", \"time\", \"time\", \"time\", \"train\", \"train\", \"treat\", \"tsa\", \"tsa\", \"tsa\", \"tsa\", \"turn\", \"u\", \"u\", \"vega\", \"vote\", \"vote\", \"wait\", \"wait\", \"wait\", \"wait\", \"wait\", \"walk\", \"want\", \"water\", \"water\", \"water\", \"water\", \"way\", \"way\", \"work\", \"work\", \"work\", \"would\", \"would\", \"would\"]}, \"mdsDat\": {\"y\": [-0.01180188412747986, 0.012039317424849325, -0.025346880997041646, -0.017985224796938242, -0.0021393121456380376, 0.005246971215110289, 0.021896183095524064, 0.005359385540123907, 0.007008786963818018, 0.00572265782767216], \"cluster\": [1, 1, 1, 1, 1, 1, 1, 1, 1, 1], \"Freq\": [14.699327335714502, 12.367890910616751, 11.600243306134502, 11.02399286326589, 10.363232624749996, 9.232390885289336, 8.929796598540534, 7.910821492198869, 7.569645144420287, 6.3026588390693306], \"topics\": [1, 2, 3, 4, 5, 6, 7, 8, 9, 10], \"x\": [-0.005354419951351189, -0.037676519825861975, -0.002768211966030563, 0.0002648495930519779, 0.011517152230766808, -0.006275887549333474, 0.009188655696192061, 0.015187788545602524, 0.006915669709938936, 0.009000923517024863]}, \"R\": 30, \"lambda.step\": 0.01, \"tinfo\": {\"Category\": [\"Default\", \"Default\", \"Default\", \"Default\", \"Default\", \"Default\", \"Default\", \"Default\", \"Default\", \"Default\", \"Default\", \"Default\", \"Default\", \"Default\", \"Default\", \"Default\", \"Default\", \"Default\", \"Default\", \"Default\", \"Default\", \"Default\", \"Default\", \"Default\", \"Default\", \"Default\", \"Default\", \"Default\", \"Default\", \"Default\", \"Topic1\", \"Topic1\", \"Topic1\", \"Topic1\", \"Topic1\", \"Topic1\", \"Topic1\", \"Topic1\", \"Topic1\", \"Topic1\", \"Topic1\", \"Topic1\", \"Topic1\", \"Topic1\", \"Topic1\", \"Topic1\", \"Topic1\", \"Topic1\", \"Topic1\", \"Topic1\", \"Topic1\", \"Topic1\", \"Topic1\", \"Topic1\", \"Topic1\", \"Topic1\", \"Topic1\", \"Topic1\", \"Topic1\", \"Topic1\", \"Topic1\", \"Topic1\", \"Topic1\", \"Topic1\", \"Topic1\", \"Topic1\", \"Topic1\", \"Topic1\", \"Topic1\", \"Topic1\", \"Topic1\", \"Topic1\", \"Topic1\", \"Topic1\", \"Topic1\", \"Topic1\", \"Topic1\", \"Topic1\", \"Topic1\", \"Topic1\", \"Topic1\", \"Topic1\", \"Topic1\", \"Topic1\", \"Topic1\", \"Topic1\", \"Topic1\", \"Topic1\", \"Topic1\", \"Topic1\", \"Topic1\", \"Topic1\", \"Topic1\", \"Topic1\", \"Topic1\", \"Topic1\", \"Topic1\", \"Topic1\", \"Topic1\", \"Topic1\", \"Topic1\", \"Topic1\", \"Topic1\", \"Topic2\", \"Topic2\", \"Topic2\", \"Topic2\", \"Topic2\", \"Topic2\", \"Topic2\", \"Topic2\", \"Topic2\", \"Topic2\", \"Topic2\", \"Topic2\", \"Topic2\", \"Topic2\", \"Topic2\", \"Topic2\", \"Topic2\", \"Topic2\", \"Topic2\", \"Topic2\", \"Topic2\", \"Topic2\", \"Topic2\", \"Topic2\", \"Topic2\", \"Topic2\", \"Topic2\", \"Topic2\", \"Topic2\", \"Topic2\", \"Topic2\", \"Topic2\", \"Topic2\", \"Topic2\", \"Topic2\", \"Topic2\", \"Topic2\", \"Topic2\", \"Topic2\", \"Topic2\", \"Topic2\", \"Topic2\", \"Topic2\", \"Topic2\", \"Topic2\", \"Topic2\", \"Topic2\", \"Topic2\", \"Topic2\", \"Topic2\", \"Topic2\", \"Topic2\", \"Topic2\", \"Topic2\", \"Topic2\", \"Topic2\", \"Topic2\", \"Topic2\", \"Topic2\", \"Topic2\", \"Topic2\", \"Topic2\", \"Topic2\", \"Topic2\", \"Topic2\", \"Topic2\", \"Topic2\", \"Topic2\", \"Topic2\", \"Topic2\", \"Topic2\", \"Topic3\", \"Topic3\", \"Topic3\", \"Topic3\", \"Topic3\", \"Topic3\", \"Topic3\", \"Topic3\", \"Topic3\", \"Topic3\", \"Topic3\", \"Topic3\", \"Topic3\", \"Topic3\", \"Topic3\", \"Topic3\", \"Topic3\", \"Topic3\", \"Topic3\", \"Topic3\", \"Topic3\", \"Topic3\", \"Topic3\", \"Topic3\", \"Topic3\", \"Topic3\", \"Topic3\", \"Topic3\", \"Topic3\", \"Topic3\", \"Topic3\", \"Topic3\", \"Topic3\", \"Topic3\", \"Topic3\", \"Topic3\", \"Topic3\", \"Topic3\", \"Topic3\", \"Topic3\", \"Topic3\", \"Topic3\", \"Topic3\", \"Topic3\", \"Topic3\", \"Topic3\", \"Topic3\", \"Topic3\", \"Topic3\", \"Topic3\", \"Topic3\", \"Topic3\", \"Topic3\", \"Topic3\", \"Topic3\", \"Topic3\", \"Topic3\", \"Topic3\", \"Topic3\", \"Topic3\", \"Topic3\", \"Topic3\", \"Topic3\", \"Topic3\", \"Topic3\", \"Topic3\", \"Topic3\", \"Topic3\", \"Topic3\", \"Topic3\", \"Topic3\", \"Topic3\", \"Topic3\", \"Topic3\", \"Topic3\", \"Topic3\", \"Topic4\", \"Topic4\", \"Topic4\", \"Topic4\", \"Topic4\", \"Topic4\", \"Topic4\", \"Topic4\", \"Topic4\", \"Topic4\", \"Topic4\", \"Topic4\", \"Topic4\", \"Topic4\", \"Topic4\", \"Topic4\", \"Topic4\", \"Topic4\", \"Topic4\", \"Topic4\", \"Topic4\", \"Topic4\", \"Topic4\", \"Topic4\", \"Topic4\", \"Topic4\", \"Topic4\", \"Topic4\", \"Topic4\", \"Topic4\", \"Topic4\", \"Topic4\", \"Topic4\", \"Topic4\", \"Topic4\", \"Topic4\", \"Topic4\", \"Topic4\", \"Topic4\", \"Topic4\", \"Topic4\", \"Topic4\", \"Topic4\", \"Topic4\", \"Topic4\", \"Topic4\", \"Topic4\", \"Topic4\", \"Topic4\", \"Topic4\", \"Topic4\", \"Topic4\", \"Topic4\", \"Topic4\", \"Topic4\", \"Topic4\", \"Topic4\", \"Topic4\", \"Topic4\", \"Topic4\", \"Topic4\", \"Topic4\", \"Topic4\", \"Topic4\", \"Topic4\", \"Topic4\", \"Topic4\", \"Topic4\", \"Topic4\", \"Topic4\", \"Topic4\", \"Topic4\", \"Topic4\", \"Topic4\", \"Topic5\", \"Topic5\", \"Topic5\", \"Topic5\", \"Topic5\", \"Topic5\", \"Topic5\", \"Topic5\", \"Topic5\", \"Topic5\", \"Topic5\", \"Topic5\", \"Topic5\", \"Topic5\", \"Topic5\", \"Topic5\", \"Topic5\", \"Topic5\", \"Topic5\", \"Topic5\", \"Topic5\", \"Topic5\", \"Topic5\", \"Topic5\", \"Topic5\", \"Topic5\", \"Topic5\", \"Topic5\", \"Topic5\", \"Topic5\", \"Topic5\", \"Topic5\", \"Topic5\", \"Topic5\", \"Topic5\", \"Topic5\", \"Topic5\", \"Topic5\", \"Topic5\", \"Topic5\", \"Topic5\", \"Topic5\", \"Topic5\", \"Topic5\", \"Topic5\", \"Topic5\", \"Topic5\", \"Topic5\", \"Topic5\", \"Topic5\", \"Topic5\", \"Topic5\", \"Topic5\", \"Topic5\", \"Topic5\", \"Topic5\", \"Topic5\", \"Topic5\", \"Topic5\", \"Topic5\", \"Topic5\", \"Topic5\", \"Topic5\", \"Topic5\", \"Topic5\", \"Topic5\", \"Topic5\", \"Topic5\", \"Topic5\", \"Topic5\", \"Topic5\", \"Topic6\", \"Topic6\", \"Topic6\", \"Topic6\", \"Topic6\", \"Topic6\", \"Topic6\", \"Topic6\", \"Topic6\", \"Topic6\", \"Topic6\", \"Topic6\", \"Topic6\", \"Topic6\", \"Topic6\", \"Topic6\", \"Topic6\", \"Topic6\", \"Topic6\", \"Topic6\", \"Topic6\", \"Topic6\", \"Topic6\", \"Topic6\", \"Topic6\", \"Topic6\", \"Topic6\", \"Topic6\", \"Topic6\", \"Topic6\", \"Topic6\", \"Topic6\", \"Topic6\", \"Topic6\", \"Topic6\", \"Topic6\", \"Topic6\", \"Topic6\", \"Topic6\", \"Topic6\", \"Topic6\", \"Topic6\", \"Topic6\", \"Topic6\", \"Topic6\", \"Topic6\", \"Topic6\", \"Topic6\", \"Topic6\", \"Topic6\", \"Topic6\", \"Topic6\", \"Topic6\", \"Topic6\", \"Topic6\", \"Topic6\", \"Topic6\", \"Topic6\", \"Topic6\", \"Topic6\", \"Topic6\", \"Topic6\", \"Topic6\", \"Topic6\", \"Topic6\", \"Topic7\", \"Topic7\", \"Topic7\", \"Topic7\", \"Topic7\", \"Topic7\", \"Topic7\", \"Topic7\", \"Topic7\", \"Topic7\", \"Topic7\", \"Topic7\", \"Topic7\", \"Topic7\", \"Topic7\", \"Topic7\", \"Topic7\", \"Topic7\", \"Topic7\", \"Topic7\", \"Topic7\", \"Topic7\", \"Topic7\", \"Topic7\", \"Topic7\", \"Topic7\", \"Topic7\", \"Topic7\", \"Topic7\", \"Topic7\", \"Topic7\", \"Topic7\", \"Topic7\", \"Topic7\", \"Topic7\", \"Topic7\", \"Topic7\", \"Topic7\", \"Topic7\", \"Topic7\", \"Topic7\", \"Topic7\", \"Topic7\", \"Topic7\", \"Topic7\", \"Topic7\", \"Topic7\", \"Topic7\", \"Topic7\", \"Topic7\", \"Topic7\", \"Topic7\", \"Topic7\", \"Topic7\", \"Topic7\", \"Topic7\", \"Topic7\", \"Topic7\", \"Topic7\", \"Topic7\", \"Topic7\", \"Topic7\", \"Topic7\", \"Topic7\", \"Topic7\", \"Topic7\", \"Topic7\", \"Topic8\", \"Topic8\", \"Topic8\", \"Topic8\", \"Topic8\", \"Topic8\", \"Topic8\", \"Topic8\", \"Topic8\", \"Topic8\", \"Topic8\", \"Topic8\", \"Topic8\", \"Topic8\", \"Topic8\", \"Topic8\", \"Topic8\", \"Topic8\", \"Topic8\", \"Topic8\", \"Topic8\", \"Topic8\", \"Topic8\", \"Topic8\", \"Topic8\", \"Topic8\", \"Topic8\", \"Topic8\", \"Topic8\", \"Topic8\", \"Topic8\", \"Topic8\", \"Topic8\", \"Topic8\", \"Topic8\", \"Topic8\", \"Topic8\", \"Topic8\", \"Topic8\", \"Topic8\", \"Topic8\", \"Topic8\", \"Topic8\", \"Topic8\", \"Topic8\", \"Topic8\", \"Topic8\", \"Topic8\", \"Topic8\", \"Topic8\", \"Topic8\", \"Topic8\", \"Topic8\", \"Topic8\", \"Topic8\", \"Topic8\", \"Topic8\", \"Topic8\", \"Topic8\", \"Topic8\", \"Topic8\", \"Topic8\", \"Topic8\", \"Topic8\", \"Topic8\", \"Topic8\", \"Topic9\", \"Topic9\", \"Topic9\", \"Topic9\", \"Topic9\", \"Topic9\", \"Topic9\", \"Topic9\", \"Topic9\", \"Topic9\", \"Topic9\", \"Topic9\", \"Topic9\", \"Topic9\", \"Topic9\", \"Topic9\", \"Topic9\", \"Topic9\", \"Topic9\", \"Topic9\", \"Topic9\", \"Topic9\", \"Topic9\", \"Topic9\", \"Topic9\", \"Topic9\", \"Topic9\", \"Topic9\", \"Topic9\", \"Topic9\", \"Topic9\", \"Topic9\", \"Topic9\", \"Topic9\", \"Topic9\", \"Topic9\", \"Topic9\", \"Topic9\", \"Topic9\", \"Topic9\", \"Topic9\", \"Topic9\", \"Topic9\", \"Topic9\", \"Topic9\", \"Topic9\", \"Topic9\", \"Topic9\", \"Topic9\", \"Topic9\", \"Topic9\", \"Topic9\", \"Topic9\", \"Topic9\", \"Topic9\", \"Topic9\", \"Topic9\", \"Topic9\", \"Topic9\", \"Topic9\", \"Topic9\", \"Topic9\", \"Topic9\", \"Topic9\", \"Topic9\", \"Topic9\", \"Topic9\", \"Topic9\", \"Topic9\", \"Topic9\", \"Topic9\", \"Topic10\", \"Topic10\", \"Topic10\", \"Topic10\", \"Topic10\", \"Topic10\", \"Topic10\", \"Topic10\", \"Topic10\", \"Topic10\", \"Topic10\", \"Topic10\", \"Topic10\", \"Topic10\", \"Topic10\", \"Topic10\", \"Topic10\", \"Topic10\", \"Topic10\", \"Topic10\", \"Topic10\", \"Topic10\", \"Topic10\", \"Topic10\", \"Topic10\", \"Topic10\", \"Topic10\", \"Topic10\", \"Topic10\", \"Topic10\", \"Topic10\", \"Topic10\", \"Topic10\", \"Topic10\", \"Topic10\", \"Topic10\", \"Topic10\", \"Topic10\", \"Topic10\", \"Topic10\", \"Topic10\", \"Topic10\", \"Topic10\", \"Topic10\", \"Topic10\", \"Topic10\", \"Topic10\", \"Topic10\", \"Topic10\", \"Topic10\", \"Topic10\", \"Topic10\", \"Topic10\", \"Topic10\", \"Topic10\", \"Topic10\", \"Topic10\", \"Topic10\", \"Topic10\", \"Topic10\", \"Topic10\", \"Topic10\", \"Topic10\", \"Topic10\", \"Topic10\"], \"Term\": [\"vote\", \"precheck\", \"helpful\", \"pre\", \"love\", \"joke\", \"ride\", \"name\", \"park\", \"hospital\", \"check\", \"fingerprint\", \"pat\", \"management\", \"ir\", \"line\", \"daughter\", \"consider\", \"super\", \"guy\", \"s\", \"mill\", \"chad\", \"social\", \"terminal\", \"obtain\", \"fly\", \"ever\", \"de\", \"district\", \"walkway\", \"eh\", \"chase\", \"efficiant\", \"duplicate\", \"pregnant\", \"sooooo\", \"equalizer\", \"verifiable\", \"265\", \"connect\", \"1hr\", \"ignorant\", \"quarter\", \"frisk\", \"ive\", \"voucher\", \"link\", \"dang\", \"pcm\", \"delta\", \"flood\", \"sprinkler\", \"indiscriminately\", \"instructional\", \"notification\", \"secretary\", \"fyi\", \"depot\", \"compassion\", \"johnson\", \"s\", \"please\", \"pick\", \"yelper\", \"beach\", \"apparently\", \"destination\", \"rather\", \"plan\", \"move\", \"fill\", \"park\", \"dollar\", \"car\", \"company\", \"water\", \"want\", \"number\", \"u\", \"ask\", \"charlotte\", \"tsa\", \"train\", \"wait\", \"one\", \"know\", \"way\", \"minute\", \"call\", \"line\", \"walk\", \"say\", \"people\", \"time\", \"service\", \"take\", \"bus\", \"tell\", \"get\", \"go\", \"would\", \"come\", \"holocaust\", \"cc\", \"voicemail\", \"poll\", \"sixty\", \"st\", \"mother\", \"ballot\", \"warrior\", \"commission\", \"february\", \"bitch\", \"happier\", \"pro\", \"retire\", \"allison\", \"teeth\", \"uninterest\", \"handicap\", \"donate\", \"sample\", \"resolve\", \"response\", \"handy\", \"1st\", \"videotape\", \"plain\", \"memo\", \"original\", \"modern\", \"access\", \"economy\", \"pocket\", \"book\", \"ap\", \"penny\", \"buffalo\", \"happen\", \"train\", \"park\", \"shuttle\", \"phone\", \"job\", \"go\", \"big\", \"night\", \"process\", \"name\", \"seem\", \"vega\", \"long\", \"husband\", \"lot\", \"need\", \"get\", \"show\", \"time\", \"never\", \"people\", \"like\", \"make\", \"work\", \"u\", \"card\", \"wait\", \"even\", \"say\", \"bill\", \"open\", \"office\", \"take\", \"ruff\", \"automatic\", \"radar\", \"relation\", \"except\", \"shout\", \"waitres\", \"lethargic\", \"dispute\", \"cancel\", \"nit\", \"comparison\", \"boulevard\", \"wardrobe\", \"perfect\", \"inch\", \"average\", \"f\", \"generator\", \"entertain\", \"commissary\", \"convenience\", \"fair\", \"poorly\", \"ditch\", \"diego\", \"ck\", \"weird\", \"jason\", \"monkey\", \"express\", \"project\", \"confuse\", \"standard\", \"mill\", \"trash\", \"offer\", \"customer\", \"second\", \"everywhere\", \"agent\", \"base\", \"shoe\", \"service\", \"even\", \"appointment\", \"payment\", \"tsa\", \"never\", \"pretty\", \"away\", \"company\", \"treat\", \"day\", \"water\", \"professional\", \"b\", \"miss\", \"can\", \"check\", \"hour\", \"take\", \"time\", \"like\", \"bus\", \"airport\", \"see\", \"get\", \"pay\", \"close\", \"would\", \"wait\", \"go\", \"work\", \"friendly\", \"security\", \"tatum\", \"fifth\", \"oz\", \"gon\", \"aloud\", \"bulk\", \"apt\", \"fuk\", \"60\", \"sermon\", \"vital\", \"cry\", \"recognition\", \"wafer\", \"cheddar\", \"captain\", \"yummy\", \"cracker\", \"smudge\", \"technician\", \"george\", \"dragon\", \"mccaffrey\", \"seamu\", \"ruiz\", \"peni\", \"grant\", \"mon\", \"forty\", \"patience\", \"luke\", \"liquid\", \"traffic\", \"ride\", \"na\", \"turn\", \"food\", \"different\", \"better\", \"tourist\", \"stop\", \"expect\", \"name\", \"smoke\", \"officer\", \"office\", \"inform\", \"terminal\", \"bus\", \"come\", \"electricity\", \"best\", \"way\", \"security\", \"actually\", \"town\", \"tsa\", \"bill\", \"make\", \"water\", \"enough\", \"get\", \"say\", \"line\", \"card\", \"nice\", \"never\", \"would\", \"go\", \"service\", \"take\", \"need\", \"back\", \"day\", \"landfill\", \"elsewhere\", \"gayborhood\", \"lawyer\", \"10a\", \"tram\", \"melrose\", \"ahhhhh\", \"uneducate\", \"38min\", \"5pm\", \"indee\", \"welcome\", \"transaction\", \"assist\", \"pleasure\", \"flip\", \"flier\", \"appt\", \"peasy\", \"agency\", \"precheck\", \"enlarge\", \"shortest\", \"lena\", \"bearable\", \"cclvld\", \"jiff\", \"memorable\", \"prescription\", \"rip\", \"unbelievable\", \"friday\", \"answer\", \"weekend\", \"excuse\", \"mom\", \"everyone\", \"ever\", \"bin\", \"quickly\", \"wo\", \"people\", \"tax\", \"ride\", \"day\", \"take\", \"one\", \"line\", \"minute\", \"time\", \"rail\", \"clean\", \"say\", \"work\", \"money\", \"park\", \"get\", \"go\", \"nice\", \"airport\", \"bus\", \"like\", \"water\", \"wait\", \"drive\", \"come\", \"need\", \"tsa\", \"security\", \"open\", \"hospital\", \"imagine\", \"woot\", \"homestead\", \"incredibly\", \"bumpy\", \"evict\", \"whoa\", \"numberi\", \"atleast\", \"isnt\", \"superb\", \"rasmussen\", \"consistently\", \"urgent\", \"ft\", \"sq\", \"immunization\", \"adorable\", \"gloria\", \"sweetest\", \"8th\", \"9th\", \"retrain\", \"wire\", \"punctual\", \"downright\", \"spaciou\", \"civilian\", \"monday\", \"inside\", \"account\", \"weekly\", \"rtc\", \"3rd\", \"stamp\", \"law\", \"outside\", \"driver\", \"seem\", \"bill\", \"around\", \"love\", \"care\", \"walk\", \"wait\", \"better\", \"bus\", \"get\", \"u\", \"ca\", \"train\", \"hour\", \"go\", \"park\", \"line\", \"tsa\", \"really\", \"agent\", \"friendly\", \"need\", \"day\", \"tell\", \"card\", \"people\", \"gum\", \"freakin\", \"ihop\", \"departure\", \"luxuriou\", \"fashionable\", \"backpack\", \"management\", \"throught\", \"welfare\", \"ewww\", \"advertisement\", \"hoa\", \"fingerprint\", \"warrant\", \"consider\", \"soul\", \"bark\", \"flamingo\", \"paradise\", \"commissioner\", \"orderly\", \"meeting\", \"foe\", \"champagne\", \"loooot\", \"secret\", \"offend\", \"finance\", \"specialist\", \"bx\", \"title\", \"jump\", \"jury\", \"vote\", \"valley\", \"city\", \"de\", \"multiple\", \"prompt\", \"need\", \"certificate\", \"get\", \"ever\", \"process\", \"service\", \"work\", \"minute\", \"go\", \"online\", \"great\", \"home\", \"call\", \"line\", \"best\", \"place\", \"rude\", \"good\", \"take\", \"time\", \"helpful\", \"worst\", \"one\", \"wait\", \"people\", \"bill\", \"day\", \"poop\", \"shoulder\", \"immensely\", \"maiden\", \"cheapest\", \"shall\", \"relate\", \"tourism\", \"undertrain\", \"printout\", \"snow\", \"larger\", \"evr\", \"sllllooowwweesstt\", \"testimony\", \"cruise\", \"validation\", \"8people\", \"watery\", \"undercook\", \"sole\", \"fabulou\", \"decorate\", \"pic\", \"understaf\", \"hurry\", \"5min\", \"foodie\", \"breathtake\", \"heartbeat\", \"screw\", \"court\", \"prior\", \"busy\", \"guy\", \"experience\", \"helpful\", \"efficient\", \"fast\", \"come\", \"office\", \"record\", \"ever\", \"hour\", \"see\", \"government\", \"open\", \"go\", \"minute\", \"number\", \"pretty\", \"people\", \"every\", \"wait\", \"long\", \"security\", \"line\", \"get\", \"take\", \"time\", \"place\", \"park\", \"like\", \"service\", \"nice\", \"tell\", \"yuck\", \"mofo\", \"ivan\", \"belittle\", \"kerrie\", \"arrogant\", \"transition\", \"seamles\", \"patient\", \"smoother\", \"unnecessary\", \"certainly\", \"immigration\", \"va\", \"queue\", \"nwextension\", \"pool\", \"atlanta\", \"directly\", \"torpedo\", \"toypedo\", \"rubber\", \"demeanor\", \"tsapre\", \"wich\", \"servise\", \"huntersville\", \"toy\", \"flyer\", \"roughly\", \"corner\", \"vote\", \"road\", \"condescend\", \"love\", \"hear\", \"honestly\", \"purse\", \"meter\", \"gas\", \"joke\", \"clerk\", \"need\", \"district\", \"tsa\", \"read\", \"think\", \"park\", \"see\", \"license\", \"place\", \"visit\", \"time\", \"line\", \"office\", \"check\", \"2\", \"around\", \"get\", \"take\", \"make\", \"easy\", \"like\", \"work\", \"close\", \"would\", \"go\", \"people\", \"helpful\", \"security\", \"friendly\", \"chad\", \"pat\", \"1250\", \"brand\", \"parole\", \"jose\", \"horribly\", \"invasive\", \"julio\", \"theft\", \"identity\", \"meanwhile\", \"citizenship\", \"linen\", \"merge\", \"prime\", \"checker\", \"plaza\", \"clueles\", \"pre\", \"daughter\", \"cd\", \"checkin\", \"jetson\", \"obtain\", \"stupidity\", \"stressful\", \"dr\", \"smooth\", \"ir\", \"longest\", \"noon\", \"joke\", \"yell\", \"sense\", \"check\", \"social\", \"security\", \"sometime\", \"line\", \"help\", \"la\", \"must\", \"tsa\", \"card\", \"wait\", \"fly\", \"super\", \"water\", \"helpful\", \"service\", \"staff\", \"long\", \"people\", \"call\", \"close\", \"get\", \"vega\", \"make\", \"hour\", \"go\", \"say\", \"office\", \"number\", \"another\"], \"loglift\": [30.0, 29.0, 28.0, 27.0, 26.0, 25.0, 24.0, 23.0, 22.0, 21.0, 20.0, 19.0, 18.0, 17.0, 16.0, 15.0, 14.0, 13.0, 12.0, 11.0, 10.0, 9.0, 8.0, 7.0, 6.0, 5.0, 4.0, 3.0, 2.0, 1.0, 1.3714, 1.3486, 1.3218, 1.2917, 1.2355, 1.1928, 1.1701, 1.1541, 1.1321, 1.1321, 1.1283, 1.1236, 1.1128, 1.107, 1.1065, 1.1037, 1.1022, 1.0863, 1.079, 1.0789, 1.0776, 1.0733, 1.0712, 1.0712, 1.0622, 1.056, 1.0495, 1.0455, 1.0427, 1.0396, 0.9775, 0.9602, 0.9502, 0.9113, 0.9949, 0.8925, 0.9588, 0.9749, 0.8218, 0.8004, 0.6179, 0.6867, 0.4307, 0.735, 0.6112, 0.5018, 0.4327, 0.5908, 0.475, 0.415, 0.5571, 0.6105, 0.183, 0.3734, 0.2032, 0.282, 0.3689, 0.4298, 0.267, 0.2714, 0.1039, 0.421, 0.2221, 0.0908, 0.088, 0.1359, 0.063, 0.119, 0.2726, -0.1473, -0.1901, 0.1155, 0.0301, 1.3734, 1.3073, 1.3009, 1.2827, 1.279, 1.2664, 1.2648, 1.2634, 1.2614, 1.2433, 1.2375, 1.2334, 1.2307, 1.2297, 1.223, 1.2108, 1.2028, 1.1975, 1.1945, 1.1913, 1.1822, 1.1812, 1.1774, 1.1762, 1.1714, 1.1714, 1.169, 1.1678, 1.1564, 1.1564, 1.1527, 1.1219, 1.1373, 1.0246, 0.9178, 1.1269, 1.0907, 0.9221, 0.7284, 0.6046, 0.9856, 0.826, 0.7348, 0.4633, 0.8396, 0.7508, 0.6343, 0.5963, 0.7011, 0.6144, 0.4797, 0.9495, 0.4944, 0.2844, 0.0848, 0.554, 0.1254, 0.2894, 0.0786, 0.1686, 0.2501, 0.2754, 0.2608, 0.2137, -0.0059, 0.2661, 0.1331, 0.2365, 0.3522, 0.0782, -0.0815, 1.4708, 1.4342, 1.4214, 1.4084, 1.3152, 1.2877, 1.2757, 1.2698, 1.2491, 1.2326, 1.2292, 1.2291, 1.2061, 1.1973, 1.1672, 1.1611, 1.1575, 1.1561, 1.1521, 1.1436, 1.1262, 1.1252, 1.112, 1.1108, 1.1095, 1.1061, 1.1045, 1.1021, 1.1006, 1.0987, 1.0755, 1.0939, 1.0849, 1.0742, 0.9366, 1.0475, 0.9655, 0.7628, 0.9172, 1.031, 0.7277, 0.7462, 0.8923, 0.4483, 0.521, 0.9077, 0.7978, 0.3271, 0.4688, 0.5946, 0.6795, 0.4648, 0.6421, 0.3368, 0.3561, 0.7329, 0.7842, 0.823, 0.4017, 0.3481, 0.2971, 0.1256, 0.1159, 0.2148, 0.1631, 0.3293, 0.3452, 0.0205, 0.3693, 0.4222, 0.2149, -0.0156, -0.1078, 0.2254, 0.2163, -0.0476, 1.5047, 1.4277, 1.3999, 1.367, 1.3298, 1.2991, 1.2969, 1.2969, 1.2665, 1.224, 1.2227, 1.2164, 1.2111, 1.2077, 1.2077, 1.2077, 1.2077, 1.2076, 1.1922, 1.1922, 1.1799, 1.1799, 1.1799, 1.1799, 1.1764, 1.1764, 1.1688, 1.1564, 1.1431, 1.1363, 1.1112, 1.1131, 1.0556, 0.9648, 1.1359, 0.9925, 0.96, 0.9102, 0.8587, 1.1138, 0.7175, 0.8184, 0.682, 1.1306, 0.833, 0.5045, 0.9457, 0.646, 0.4406, 0.447, 0.9885, 0.6676, 0.4909, 0.2584, 0.5873, 0.6549, 0.1035, 0.3045, 0.2646, 0.223, 0.6072, -0.0243, 0.1619, 0.0185, 0.2142, 0.2801, 0.1975, 0.1555, -0.1849, -0.0245, -0.0988, 0.016, 0.2505, 0.0543, 1.5369, 1.5005, 1.4781, 1.4661, 1.4589, 1.457, 1.4512, 1.402, 1.4006, 1.3737, 1.3657, 1.3221, 1.3181, 1.307, 1.2955, 1.2911, 1.273, 1.2536, 1.2498, 1.2493, 1.2244, 1.2232, 1.2193, 1.2193, 1.2173, 1.2172, 1.2126, 1.2072, 1.2072, 1.2056, 1.2025, 1.1868, 1.0679, 1.0215, 1.0459, 1.136, 1.087, 0.8171, 0.6568, 1.0142, 0.8459, 0.9424, 0.3746, 0.8569, 0.5724, 0.4214, 0.3252, 0.3785, 0.2687, 0.359, 0.258, 0.5731, 0.656, 0.2827, 0.3744, 0.5857, 0.1643, 0.0547, 0.0243, 0.3604, 0.3422, 0.1107, 0.1624, 0.2204, 0.0044, 0.544, 0.0535, 0.0359, -0.1601, -0.0053, 0.3283, 1.7136, 1.5966, 1.559, 1.5241, 1.5142, 1.4892, 1.4695, 1.4567, 1.4016, 1.4016, 1.3805, 1.3541, 1.3541, 1.35, 1.3477, 1.3358, 1.3358, 1.3353, 1.2965, 1.2965, 1.2965, 1.2836, 1.2836, 1.2674, 1.2674, 1.2592, 1.2547, 1.2413, 1.2413, 1.2354, 1.1646, 1.1614, 1.1991, 0.9802, 1.1545, 1.1839, 1.0926, 0.8744, 0.8129, 0.8012, 0.5735, 0.6219, 0.6618, 0.6924, 0.5358, 0.2171, 0.5594, 0.2244, 0.1119, 0.3603, 0.5451, 0.3109, 0.2469, -0.002, 0.0523, 0.0057, -0.037, 0.3318, 0.5003, 0.2191, 0.0166, 0.0541, 0.2033, 0.1079, -0.1522, 1.6043, 1.604, 1.5843, 1.502, 1.5013, 1.5013, 1.4965, 1.4896, 1.4854, 1.4503, 1.4442, 1.4357, 1.3845, 1.3827, 1.3512, 1.3458, 1.3444, 1.3381, 1.3379, 1.335, 1.3317, 1.3317, 1.3317, 1.3217, 1.3217, 1.3217, 1.32, 1.2902, 1.2895, 1.2761, 1.2625, 1.2556, 1.2534, 1.158, 1.0002, 1.0911, 0.7357, 1.0741, 1.0624, 1.1385, 0.3271, 0.8986, 0.1047, 0.4596, 0.5006, 0.1783, 0.337, 0.2419, 0.0443, 0.5847, 0.2983, 0.5556, 0.2029, 0.0138, 0.6159, 0.2116, 0.4293, 0.3248, -0.0104, -0.0188, 0.3949, 0.5474, 0.0384, -0.1399, -0.1436, 0.1301, -0.0258, 1.6066, 1.5807, 1.5778, 1.5739, 1.5262, 1.5199, 1.5039, 1.4915, 1.4614, 1.4575, 1.4549, 1.4314, 1.4207, 1.4207, 1.4116, 1.4074, 1.4019, 1.4019, 1.3979, 1.3979, 1.3928, 1.3861, 1.3808, 1.3807, 1.3691, 1.3456, 1.3429, 1.3119, 1.3119, 1.3119, 1.2438, 1.1871, 1.1152, 1.0323, 0.8295, 0.6904, 0.7042, 0.827, 0.7381, 0.4012, 0.385, 0.9968, 0.5326, 0.363, 0.4079, 0.656, 0.4023, 0.0334, 0.2106, 0.3411, 0.4925, 0.0544, 0.5138, 0.0217, 0.2969, 0.1057, 0.005, -0.0606, 0.0132, 0.0091, 0.2177, -0.015, 0.0794, -0.0314, 0.2254, 0.2087, 1.5815, 1.5785, 1.5769, 1.5655, 1.5087, 1.4775, 1.4661, 1.4661, 1.4601, 1.4464, 1.4312, 1.4305, 1.4014, 1.4014, 1.3711, 1.3653, 1.3637, 1.3599, 1.3518, 1.3504, 1.3504, 1.3504, 1.3447, 1.3028, 1.2998, 1.2998, 1.2991, 1.2789, 1.2724, 1.2724, 1.2542, 1.1681, 1.2113, 1.2195, 1.0405, 1.119, 1.2177, 1.1896, 1.0447, 1.1183, 1.036, 1.0085, 0.4787, 0.95, 0.3146, 0.9783, 0.5336, 0.3086, 0.4347, 0.6799, 0.3483, 0.5694, 0.1256, 0.1052, 0.2032, 0.2952, 0.4157, 0.3963, -0.0904, -0.0115, 0.1955, 0.356, 0.0768, 0.2106, 0.3388, 0.1018, -0.2106, -0.1179, 0.3709, -0.0697, 0.1768, 1.8142, 1.7169, 1.627, 1.5859, 1.5557, 1.5417, 1.5223, 1.5139, 1.4992, 1.4991, 1.4991, 1.4804, 1.4711, 1.4694, 1.4694, 1.4694, 1.4657, 1.4477, 1.4456, 1.4167, 1.4162, 1.4113, 1.4113, 1.3969, 1.3657, 1.3553, 1.3522, 1.3492, 1.345, 1.3392, 1.3334, 1.2753, 1.2201, 1.1349, 1.1795, 0.7273, 0.7846, 0.5732, 1.0976, 0.4629, 0.6468, 0.7276, 0.9419, 0.2701, 0.4348, 0.2687, 0.8669, 0.8324, 0.3967, 0.5822, 0.2385, 0.5366, 0.4082, 0.1569, 0.2512, 0.402, -0.0996, 0.4869, 0.196, 0.1473, -0.2052, 0.067, 0.0274, 0.2052, 0.5079], \"Freq\": [2.0, 2.0, 2.0, 1.0, 2.0, 1.0, 3.0, 2.0, 5.0, 0.0, 3.0, 1.0, 0.0, 1.0, 1.0, 5.0, 1.0, 1.0, 1.0, 2.0, 1.0, 2.0, 0.0, 2.0, 2.0, 0.0, 1.0, 2.0, 1.0, 1.0, 0.4904135808512562, 0.5509755394522158, 0.4375094461219094, 0.40961374023271113, 0.37037002984303835, 0.3348027940365871, 0.4003235863725169, 0.3342728729629734, 0.2985586179484568, 0.2985543624335338, 0.46529542111708116, 0.34515512088858674, 0.28822620775045366, 0.28522124866339976, 0.28493325552033294, 0.3494099964623196, 0.2827526203646459, 0.2958361977954522, 0.2713199603271226, 0.27131264821545037, 0.2706550813900164, 0.268613006245754, 0.2676333205973149, 0.26763229499941155, 0.26348719018430833, 0.2989762205687854, 0.2577221755867759, 0.39309322679203984, 0.2547254896970967, 0.2593888602888302, 0.5559194809351632, 0.6578224322775317, 0.562141679826628, 0.5772397661821305, 0.37241765893973644, 0.5317638978660071, 0.4109988254219076, 0.3641411696583706, 0.5463663933535822, 0.5623770384429373, 0.8738639442476436, 0.6914180067202934, 1.1355625173453894, 0.5832829393288154, 0.7111338064264792, 0.8338830187554233, 0.9218432638758629, 0.7024010635318667, 0.8236932111558907, 0.8247748977955806, 0.6776214924358913, 0.6216280472818397, 0.9852681608221507, 0.801577653873994, 0.9635073652989434, 0.8579374039635239, 0.775923885820629, 0.7312407578555297, 0.8235073491596934, 0.7868723018459396, 0.8647842018078377, 0.7060001904368431, 0.790882158845454, 0.8449487139903602, 0.8371392940581318, 0.8101960109834531, 0.8135803550243196, 0.790152824694459, 0.6872220610884904, 0.7374002478964399, 0.7162945805173606, 0.6805565718458044, 0.6806767738241447, 0.3463766828982929, 0.39821509864835714, 0.30199514835590063, 0.3567169937278954, 0.2902340235647434, 0.3741532423727125, 0.4813542378177805, 0.38615173762146, 0.2812399748155477, 0.27243438684178584, 0.2697758957078277, 0.37859410948854205, 0.2665232156567899, 0.36622836025332184, 0.2629736808295987, 0.25750184429879247, 0.2540424013564515, 0.25175012979365285, 0.25521627475044395, 0.24914726560285788, 0.31801876508989224, 0.31587530808681447, 0.24339929904526625, 0.24289292060759038, 0.24097141173319006, 0.24097037287439152, 0.24001329186496462, 0.28926468584855003, 0.34192338471789313, 0.2582938494542694, 0.4061042141018205, 0.38909625127642467, 0.3299506571058863, 0.5692630308439643, 0.9101856318888101, 0.3141319359841356, 0.36512955572693995, 0.5938925527312324, 0.96188263367736, 1.136869635061646, 0.44373901094149343, 0.622450264226455, 0.6901749169457203, 1.1584993002430095, 0.5225881753319976, 0.5989054264680381, 0.648421394605253, 0.6481067053631654, 0.5672766640120364, 0.6147679356072805, 0.7116852855583629, 0.41146495594783117, 0.6423658365772742, 0.7497545247080698, 0.7825295429461976, 0.5436411354447032, 0.73121767026815, 0.6482931770690216, 0.7023016124519249, 0.6449376106335805, 0.6159793663025621, 0.5975187039698195, 0.5947624390838563, 0.6061319661209388, 0.6577289162376353, 0.590130762092324, 0.6087799806522644, 0.5856809561623508, 0.5698545139346413, 0.5979722517884969, 0.5924766165123903, 0.3717813214575154, 0.34565919614176255, 0.33720050315839617, 0.3289398868983841, 0.4134522224160744, 0.29152229451698575, 0.25899655252835474, 0.26449203567279705, 0.27301960603250347, 0.2569244690451214, 0.23947686857839676, 0.2394742193058232, 0.23055051809054306, 0.22730164872834213, 0.2981854940348037, 0.21443952617622045, 0.28644020401122094, 0.36995401280934237, 0.21140563043261254, 0.2555141057651732, 0.278396989333779, 0.2362607043657159, 0.2876827538884648, 0.293953426502381, 0.19781307546550173, 0.20784023262179538, 0.19629434651734354, 0.24451529473385883, 0.1951056190163507, 0.22519848237180082, 0.4842213529836572, 0.2592315984074371, 0.2816582887985714, 0.28608360248546666, 0.8758612605935557, 0.3109167597002701, 0.42070445899413256, 0.8786188759102073, 0.4166594050419821, 0.30381452126599395, 0.6042557829124087, 0.5780624627479917, 0.4072587356360964, 0.8738981829842781, 0.7141693800482551, 0.37906525108305905, 0.4489126567685102, 0.8981384415280217, 0.7274823281481352, 0.5761498682932998, 0.4937093456709644, 0.6341462962092307, 0.5138375594635627, 0.6995871493584311, 0.6739111039499326, 0.4521216993832744, 0.4285167082133253, 0.4094908907439757, 0.5949176881593792, 0.613923050105205, 0.6167968975262478, 0.6835291553688589, 0.6792857026969243, 0.6335271226663023, 0.6516979275742193, 0.586440672337624, 0.5786258721846191, 0.6882855714686372, 0.560361359336922, 0.5412159861966905, 0.5932337325133448, 0.6109770775196626, 0.6137862708772202, 0.5330751037289162, 0.5148156742621739, 0.5189692423763225, 0.36122339431398814, 0.3437256431443539, 0.42678416110012607, 0.27931685328180705, 0.2786116971933588, 0.2485434235017297, 0.2476434319061027, 0.24764242746581466, 0.37847888034891786, 0.21979421439623417, 0.21932733390385253, 0.26279728288829063, 0.21532269095369436, 0.21414178338202436, 0.21414121817566892, 0.21414037084293963, 0.21414027937223115, 0.2141349493868861, 0.20897231725595622, 0.20896861711347572, 0.20499860731145547, 0.2049974651846781, 0.20499640847974016, 0.2049959076564818, 0.2038665478372183, 0.20386550157234953, 0.3161087464819416, 0.19765701430269292, 0.24403977347516284, 0.25999333915011247, 0.37167736450543765, 0.3564969278120184, 0.4954941788548827, 0.8815344974534172, 0.2570185490395858, 0.5086963874355593, 0.5315114550558342, 0.5875605804996483, 0.6773130812299109, 0.2698074775561684, 0.6442072923992221, 0.47993367961951483, 0.6293337506780382, 0.25089487048222386, 0.4551896064935571, 0.8163097896482594, 0.3546398039572718, 0.5852898770492445, 0.8173724191507644, 0.7745304207621502, 0.32546461862649734, 0.47501918316482306, 0.5829445087364707, 0.6697140409742394, 0.46780916208491824, 0.4334969809653007, 0.6824420302114862, 0.5587877431377399, 0.557032851858048, 0.5606115736712504, 0.44094761764311213, 0.6254352951987768, 0.5584960129119956, 0.5955054610525531, 0.5405597699042153, 0.5183609295797006, 0.5270968564470145, 0.5312282946650849, 0.5400439853777446, 0.5175942079035665, 0.5190144099056526, 0.5109808446131829, 0.4961261396152668, 0.5012021763263218, 0.34231659154868116, 0.3194706470124014, 0.30649048331994694, 0.33965577104096906, 0.2959883542701234, 0.4652496110902002, 0.29190448743582864, 0.26770278143517756, 0.3534226448384866, 0.2550434323611325, 0.3936676706246328, 0.2945987608278034, 0.35589378302592817, 0.25161073540152185, 0.3667441781657437, 0.31548282397074723, 0.2494020925238563, 0.20975007752375688, 0.20849029535106856, 0.22112931641099037, 0.38642528525093933, 0.8571889209493236, 0.1988399095875109, 0.19883726180958772, 0.19821224279865737, 0.19820535597209835, 0.19679913874965516, 0.1951890273836246, 0.19518818942689137, 0.19469041741916113, 0.23226975816935425, 0.23226345572277293, 0.4302040428481983, 0.4439637148187937, 0.3587658433111951, 0.2641471491701626, 0.30912240753587444, 0.6209445730312534, 0.5976409891973888, 0.31148769886409794, 0.4081251695916906, 0.34711758578913465, 0.7912003578359035, 0.38714870483479047, 0.5597459091089202, 0.6801472143070018, 0.745552841892486, 0.6661837180009407, 0.7189291107324718, 0.6364777505162346, 0.6995701483999023, 0.514869723915031, 0.4723332577320311, 0.5923903090421014, 0.5527658450908913, 0.4826973462129526, 0.6133253987425826, 0.6362829062015947, 0.6257733561701306, 0.5280243922775822, 0.5307136110631189, 0.5524658064472074, 0.5370610046227804, 0.5256234691041021, 0.556836482990762, 0.46237996579048013, 0.49121902004297663, 0.49002640732861424, 0.4929068088816438, 0.48363973253434106, 0.4662102325329943, 0.48394076779587053, 0.3387935009557819, 0.29016981599429836, 0.2728494954430106, 0.2682207316373986, 0.2570163070213068, 0.24862565437787826, 0.2433978768082964, 0.2225345628116733, 0.22253321388458513, 0.2151837763109494, 0.2064628820515947, 0.20646068050099844, 0.25720561575633283, 0.20441503431092478, 0.2006952949752199, 0.200691634316593, 0.20053400079772973, 0.1890047449945319, 0.18900439824450924, 0.18900300235018153, 0.18539144279598632, 0.18539033585204442, 0.1809425500886262, 0.18094248003836752, 0.23637190733098032, 0.17757174846279675, 0.17410501320881597, 0.1741042777599248, 0.31422582130971266, 0.5598854522663648, 0.416557976240093, 0.22586964835208836, 0.43855687676675953, 0.25635715749163324, 0.23236073397181686, 0.279186362972137, 0.4398374557023883, 0.48322235237825834, 0.46804499204904704, 0.612372818576573, 0.5228671733549445, 0.4789885654562657, 0.4210939329749367, 0.4973495204903435, 0.6136244038297294, 0.42050695452863435, 0.5514638356827232, 0.6001867372764879, 0.4904222953620958, 0.41763094235045517, 0.47299510841424325, 0.46687817207110305, 0.5430291717958697, 0.488499257340478, 0.4923518777625359, 0.49662570485054613, 0.41921178144882226, 0.38308658181026667, 0.4108830637077217, 0.42821984239938143, 0.41969963291511087, 0.40272890696680075, 0.40705249388805537, 0.4162201274745981, 0.2970614302600085, 0.2968707811752333, 0.2866516433883148, 0.24883029037583482, 0.24853256906525614, 0.24852686794278586, 0.2913231733399001, 0.4433885617962114, 0.24208373044683454, 0.2596531186002164, 0.22631793159433117, 0.223259134543706, 0.20593271128047888, 0.3885873535865609, 0.22131252313648248, 0.4243032053779827, 0.19362122363298426, 0.2171054135374553, 0.2343603761379796, 0.210571366212355, 0.18994263499371716, 0.18994018374515295, 0.1899376366776169, 0.1871117950253067, 0.1871107742753963, 0.18711074773332415, 0.21114050831277562, 0.17849993073486747, 0.22222566742575178, 0.17484408233846677, 0.2928050709178003, 0.3405581814715583, 0.2646446549361812, 0.3749720885419321, 0.5006267555958278, 0.308920056464201, 0.5990654633951507, 0.3129530713448641, 0.30616630009725276, 0.2543248317024713, 0.5649811324271253, 0.3192066472383142, 0.5763540567503778, 0.42283248820585273, 0.4096140565889663, 0.513528867319513, 0.45882075456888494, 0.48787681292985363, 0.550091394762704, 0.3794926221273015, 0.4375513766350912, 0.3812012718782625, 0.4463372792963845, 0.4801246296372927, 0.36540336004154067, 0.43195802722555404, 0.3944501466288515, 0.40939297514078243, 0.4592567826300645, 0.4570444193488987, 0.3822569942106338, 0.3683080732503013, 0.4085145464071296, 0.41533157963143474, 0.4060576192487414, 0.3801808787050807, 0.3747493187234731, 0.2440873838288491, 0.2935345891949525, 0.23283682205023631, 0.2313720659102656, 0.21443974609511512, 0.23043958542776619, 0.2927073675177313, 0.20313992240489326, 0.19401702997845854, 0.1928607435935149, 0.21675549397128, 0.2085757251700834, 0.18250065995069736, 0.18250007847417468, 0.18006391340054015, 0.17894502421734498, 0.1774936199338151, 0.17748916674356788, 0.17645101173584274, 0.17644883645544426, 0.17512108159735426, 0.20643424871369, 0.17207142025412578, 0.17206784387380208, 0.19927777297728588, 0.22279076242086585, 0.16289764008317856, 0.15586833002583717, 0.15586771480729694, 0.15586739034489577, 0.2459891488582792, 0.32454116933148736, 0.3166008357177724, 0.3888882890426001, 0.4871496940158504, 0.5240722092579174, 0.46136843538981565, 0.3706172947821004, 0.41427422927294866, 0.5308807407681532, 0.5197972394328331, 0.2682365966066609, 0.40295213646867767, 0.4492722692658014, 0.4201166627150339, 0.33220746696316755, 0.3832183623041122, 0.48204333711010566, 0.4188877279234054, 0.387751201776178, 0.3547439041081447, 0.4384885371736831, 0.3421261699796409, 0.4324973747305697, 0.37915006726040246, 0.4125350880875973, 0.4215862011560893, 0.4327909086356976, 0.4165832878576232, 0.4163334216642387, 0.38500503149840154, 0.3913522242528776, 0.3773143227057287, 0.36886695875471376, 0.3521717479699316, 0.3469653633560029, 0.21880989141970442, 0.21777734872412102, 0.21721728169403728, 0.213358048460418, 0.19547119518189404, 0.18646195128037585, 0.1833430831307117, 0.18333931663357741, 0.2349324502241809, 0.17806513172389452, 0.19873029679911947, 0.26108824271984177, 0.16673661751597893, 0.1667347765030843, 0.21825645378873285, 0.15833557319721053, 0.21355003093408098, 0.18662716464884707, 0.17612817480094783, 0.1550341398729402, 0.1550339313226796, 0.15503375366222572, 0.15378758648785684, 0.14504037249882595, 0.14443795869344775, 0.14443493601652602, 0.144309894650232, 0.14951120446420513, 0.13909720915726287, 0.13909697305705598, 0.18667246412101537, 0.5019502090357297, 0.27436417381452705, 0.23470628480984843, 0.5735036960588723, 0.36899600198756355, 0.20623121628636992, 0.22783054692715976, 0.35314675870819223, 0.26092509477536646, 0.30104475636743144, 0.27851191875632836, 0.5573115603505231, 0.2838300597259335, 0.5787936473451851, 0.2669852321734182, 0.415219205126583, 0.5175468116568758, 0.41292008454849566, 0.3317876339667023, 0.4198106864864822, 0.3415958645610064, 0.4476184341238148, 0.445913524840872, 0.4147193467058844, 0.3799722229106177, 0.3475247397361212, 0.3420926453106688, 0.40198409674664476, 0.38890008888662847, 0.35694485290287886, 0.3318572154954417, 0.3601081406187941, 0.3427419262837322, 0.3249189278968794, 0.34568328087914924, 0.3613922495206747, 0.35314468847152225, 0.3163278813587484, 0.3312372340897732, 0.32292658558447424, 0.26125387525629457, 0.2975216540142191, 0.1791710485987219, 0.2108269628675169, 0.20049620051162728, 0.15841653583091944, 0.17639661728368253, 0.19358429357702844, 0.1492223645110847, 0.14922086893289904, 0.1492201037676872, 0.14538320502567045, 0.16332614806297055, 0.14320265993865156, 0.14320104356318628, 0.14319915652308124, 0.14246352220006536, 0.13900112208505738, 0.13860727831848724, 0.37384987897064387, 0.2745613902658348, 0.1322926878329714, 0.13229141632432478, 0.1297559826045774, 0.23000995225652185, 0.13118882335791207, 0.12226287886901648, 0.19014567083447267, 0.1581512573741055, 0.25795906010035957, 0.16059511781973618, 0.21677148389091672, 0.301315799746523, 0.2596499116465318, 0.2147726624230384, 0.4873568909133399, 0.3816857115667335, 0.5245318253597075, 0.2314838039835326, 0.5309735897178999, 0.39225567263443073, 0.2992229948852941, 0.24205251882966852, 0.46092518723548564, 0.38530521414454566, 0.44110294801030403, 0.25855529853486725, 0.2657136430586637, 0.3812839839862268, 0.32535691727436516, 0.38492041243291375, 0.3140592666189759, 0.3376386987215002, 0.38703563414344494, 0.33062641082363314, 0.2881870488428734, 0.33161811091645205, 0.2757833253369071, 0.2973697446212011, 0.28849161830226705, 0.30253535973428386, 0.29040371974867624, 0.289632565984029, 0.2696746774021419, 0.2678105768550478], \"Total\": [2.0, 2.0, 2.0, 1.0, 2.0, 1.0, 3.0, 2.0, 5.0, 0.0, 3.0, 1.0, 0.0, 1.0, 1.0, 5.0, 1.0, 1.0, 1.0, 2.0, 1.0, 2.0, 0.0, 2.0, 2.0, 0.0, 1.0, 2.0, 1.0, 1.0, 0.846564215049701, 0.9730405166437972, 0.7936639269464019, 0.7657797411696914, 0.7324109884807839, 0.6909477696091724, 0.8451325000284384, 0.7171189201438299, 0.6547067879033364, 0.654705612620043, 1.0243227330791413, 0.7633804717105818, 0.6443675887028341, 0.6413650031978065, 0.6410806727062084, 0.7882948092014717, 0.6388951935607138, 0.6791750872593634, 0.6274685118496888, 0.6274665853745205, 0.6267983988685307, 0.624755350838424, 0.623780859357591, 0.6237804479657827, 0.6196330332716118, 0.7075007773213882, 0.6138652694332952, 0.9400662293401173, 0.6108682436507754, 0.623940188830982, 1.4229679133057556, 1.7131196504913324, 1.4787771734043642, 1.578702944454151, 0.9367687523961752, 1.481843741288939, 1.0718269595364882, 0.9345404718166518, 1.6341921635618946, 1.7183268916674856, 3.2048758368441845, 2.36719351552828, 5.021691450959029, 1.9027991569840381, 2.625470445192159, 3.4344904453292076, 4.0687552054563225, 2.646709175970764, 3.4848187017974963, 3.705060138278253, 2.6409840468021804, 2.296729353354946, 5.582098781921518, 3.7540517741157564, 5.349642363643894, 4.402548471797534, 3.6499807837095517, 3.236627465625402, 4.289396688716887, 4.080566728835498, 5.302756091010189, 3.152495793273439, 4.308826319514981, 5.249169715432635, 5.215175820100012, 4.811477774361813, 5.196981338627299, 4.7724984324241575, 3.559709223681935, 5.812867474037306, 5.893489006109103, 4.124875904474475, 4.493145664733068, 0.709262660913013, 0.8711258685323029, 0.6648820287088035, 0.7997644398746777, 0.6531188881250348, 0.8526244035781758, 1.0986890250376025, 0.8826482904167532, 0.6441281351655085, 0.6353145961916569, 0.6327821352006543, 0.8916961874834847, 0.6294092442955228, 0.865765462188804, 0.6258563324624179, 0.6203856667998228, 0.6169218314007066, 0.6146375535697439, 0.6249277650995169, 0.6120288119047552, 0.7883672907151024, 0.7838581120281898, 0.6062813178304309, 0.6057819889956626, 0.6038618643790431, 0.6038614312800489, 0.6028966323012294, 0.7274973189724586, 0.8697786797442594, 0.6570646938164101, 1.0368360416944373, 1.024527222197426, 0.8555151394751861, 1.6520338909889376, 2.939411850378636, 0.8229966159239437, 0.9919106079383734, 1.9095372304235905, 3.7540517741157564, 5.021691450959029, 1.339012255648751, 2.203264185424502, 2.67642066003057, 5.893489006109103, 1.8247958083903717, 2.285560732036505, 2.780403872023079, 2.8864805835544622, 2.275253067267396, 2.688859692679146, 3.561693145772903, 1.287312050536156, 3.1680238728363035, 4.561651614924447, 5.812867474037306, 2.525909830551837, 5.215175820100012, 3.9244362243179514, 5.249169715432635, 4.405479470390055, 3.8782615874656376, 3.668063921027138, 3.705060138278253, 3.9579351257147026, 5.349642363643894, 3.6566031689421092, 4.308826319514981, 3.738137091192948, 3.239875185835934, 4.471150336936005, 5.196981338627299, 0.7362814140107719, 0.710112455018773, 0.7016498244345623, 0.693398993132137, 0.9567204416419648, 0.6933535186969111, 0.6234482149328837, 0.6404355639660301, 0.6749243430341527, 0.6456854428677409, 0.6039234341094483, 0.6039233259767074, 0.5949981317982608, 0.5917530443101456, 0.8000781112940967, 0.5788866265686011, 0.7760343974963091, 1.0036427199024538, 0.5758499003402129, 0.7019083195760436, 0.7782066691782453, 0.6610519394424694, 0.8156828340708288, 0.8344850451463599, 0.562258761475891, 0.5927655929723235, 0.5607376499756782, 0.7001916785582635, 0.5595506932278692, 0.6470425328210292, 1.4240092087433975, 0.7483969230761743, 0.8205591646085737, 0.8423733773341611, 2.959292158439677, 0.9402902930362332, 1.381054397664767, 3.5324074616173493, 1.4354048050381332, 0.9340659921161839, 2.5160505044140793, 2.3629713437895616, 1.4383427542363358, 4.811477774361813, 3.6566031689421092, 1.318326818268002, 1.7426714923061455, 5.582098781921518, 3.9244362243179514, 2.740452116110982, 2.1571860389733195, 3.4344904453292076, 2.330757318028554, 4.306377197449724, 4.0687552054563225, 1.8727353151202002, 1.6862610107349374, 1.550003639342056, 3.4318215510349552, 3.7365648952238235, 3.950552289192122, 5.196981338627299, 5.215175820100012, 4.405479470390055, 4.7724984324241575, 3.6370944017482523, 3.5318432291546795, 5.812867474037306, 3.3390147852900545, 3.058900121693119, 4.124875904474475, 5.349642363643894, 5.893489006109103, 3.668063921027138, 3.5748489700495707, 4.691697205336486, 0.7276922407435821, 0.7479068582180806, 0.9547625665880977, 0.6457788644114144, 0.6685410820547995, 0.6149989394423814, 0.6141052919708656, 0.6141053513303409, 0.9675767364707364, 0.58624655961451, 0.5857792928156895, 0.7063381046214751, 0.5817829324740482, 0.5805999311303426, 0.5805999660282007, 0.5805999698949158, 0.5805997598423305, 0.580599587924785, 0.5754287274096848, 0.5754283609007362, 0.5714540305040012, 0.5714538844780128, 0.571454021560856, 0.5714539249145152, 0.5703178784070386, 0.5703177665576068, 0.8910498016792636, 0.5641098429786371, 0.7057979762322949, 0.7570999770454289, 1.1098056139110835, 1.0624692983598132, 1.564126992727974, 3.0471742216490623, 0.7487224722210134, 1.7104182026536063, 1.8461191905556724, 2.1450332434426924, 2.6031881274459447, 0.8035596175435887, 2.8515724649301037, 1.9204396879362169, 2.8864805835544622, 0.734734300899362, 1.7951172092693037, 4.471150336936005, 1.2494820217038154, 2.78271533311972, 4.7724984324241575, 4.493145664733068, 1.0986821243533504, 2.2101976659558016, 3.236627465625402, 4.691697205336486, 2.358775988738927, 2.0427782762112514, 5.582098781921518, 3.738137091192948, 3.8782615874656376, 4.0687552054563225, 2.179537691206273, 5.812867474037306, 4.308826319514981, 5.302756091010189, 3.9579351257147026, 3.5534654309895073, 3.9244362243179514, 4.124875904474475, 5.893489006109103, 4.811477774361813, 5.196981338627299, 4.561651614924447, 3.5031282442073532, 4.306377197449724, 0.7103492370069144, 0.687484747350531, 0.6745262637717316, 0.7565519395325196, 0.6640138323262593, 1.0457307893262036, 0.6599162623729427, 0.6357269021970295, 0.8405046425152842, 0.6230630636736123, 0.9694688687963965, 0.7578375131558102, 0.9191387656705744, 0.6570770413077945, 0.9687843629831442, 0.8370319825062404, 0.6738402575709699, 0.5777695643043486, 0.5765033840791438, 0.6117634804691005, 1.0960040313818311, 2.434175712907816, 0.5668521294933001, 0.5668521711541925, 0.5662234201963995, 0.5662232021521235, 0.5648089792281646, 0.56319982774144, 0.5631999500015903, 0.5627025385254988, 0.6733626244660859, 0.6840347162891512, 1.426849317125854, 1.542484144110936, 1.2164642189048664, 0.8184511835079158, 1.0059111137104324, 2.64653624068783, 2.990345308434474, 1.090146869526218, 1.6901594755870435, 1.3053199817203285, 5.249169715432635, 1.5857741725451384, 3.0471742216490623, 4.306377197449724, 5.196981338627299, 4.402548471797534, 5.302756091010189, 4.289396688716887, 5.215175820100012, 2.801060195303447, 2.3652075004851763, 4.308826319514981, 3.668063921027138, 2.593094187211224, 5.021691450959029, 5.812867474037306, 5.893489006109103, 3.5534654309895073, 3.6370944017482523, 4.7724984324241575, 4.405479470390055, 4.0687552054563225, 5.349642363643894, 2.5897284474570115, 4.493145664733068, 4.561651614924447, 5.582098781921518, 4.691697205336486, 3.239875185835934, 0.9446496789574389, 0.7434243401374944, 0.6610799754090734, 0.6437410429718441, 0.6391287509534419, 0.6279238575708458, 0.6195230511832859, 0.6142989172357547, 0.5934344913677057, 0.5934345642377312, 0.5860784201500533, 0.5773582998339476, 0.5773583516956344, 0.7221932673875459, 0.575306924845823, 0.57158758244489, 0.5715877048752506, 0.5714255875957731, 0.5598994166050084, 0.559899423520114, 0.5598996727121289, 0.5562810496716947, 0.5562811389631919, 0.5518357224739258, 0.5518356710258526, 0.7268354929901629, 0.5484645930068259, 0.5449986276574698, 0.5449986249925897, 0.9894996233230047, 1.8924234827301283, 1.4124010227495065, 0.7375405009777772, 1.7825077075786795, 0.8752256631536867, 0.7703111600124284, 1.0141028836290944, 1.9871856475994032, 2.3215429994195134, 2.275253067267396, 3.738137091192948, 3.040675205083913, 2.676685922043939, 2.2822868177960043, 3.152495793273439, 5.349642363643894, 2.6031881274459447, 4.7724984324241575, 5.812867474037306, 3.705060138278253, 2.622730013926565, 3.7540517741157564, 3.950552289192122, 5.893489006109103, 5.021691450959029, 5.302756091010189, 5.582098781921518, 3.25863236467386, 2.5160505044140793, 3.5748489700495707, 4.561651614924447, 4.306377197449724, 3.559709223681935, 3.9579351257147026, 5.249169715432635, 0.6687359370349785, 0.66854129586194, 0.6583235620550965, 0.6204944071827967, 0.62021193477072, 0.6202124632582677, 0.7305017461266363, 1.1194419044053119, 0.61376510981015, 0.6818447953367084, 0.5979838316331879, 0.5949305406194098, 0.5775952165256505, 1.0917675053894083, 0.6417201876333053, 1.236953476763975, 0.5652846254594505, 0.6378428520436193, 0.6886437189699215, 0.6205610412374998, 0.5616072737837559, 0.5616073056809661, 0.56160738786719, 0.5587757046186006, 0.5587756697334236, 0.5587756710639064, 0.631611486805121, 0.550162113565609, 0.6853790738225695, 0.5465043596694993, 0.927768062668418, 1.0865998707133342, 0.8461843846870258, 1.3190487521921266, 2.0620111869422493, 1.161825673929239, 3.214535803887187, 1.197166453772131, 1.1850229954325742, 0.9122172243827464, 4.561651614924447, 1.4553519817802347, 5.812867474037306, 2.990345308434474, 2.780403872023079, 4.811477774361813, 3.668063921027138, 4.289396688716887, 5.893489006109103, 2.368222281632914, 3.636077102366027, 2.449282632583019, 4.080566728835498, 5.302756091010189, 2.2101976659558016, 3.914692349848379, 2.8754732308672786, 3.313298993490339, 5.196981338627299, 5.215175820100012, 2.8839687259669478, 2.3858770850775253, 4.402548471797534, 5.349642363643894, 5.249169715432635, 3.738137091192948, 4.306377197449724, 0.6188302706721621, 0.7637240543202537, 0.6075738343528494, 0.6061077593792239, 0.589175241819949, 0.6371752970319592, 0.8223747702995672, 0.577874291369643, 0.5687527827608703, 0.5676008716539834, 0.6395934726649857, 0.6300475837009875, 0.5572346960745491, 0.5572346916141534, 0.5547994612336538, 0.5536752058895761, 0.5522263961214386, 0.552227380841677, 0.5511830452017302, 0.5511835432537319, 0.5498486423279865, 0.6524752116739562, 0.5468037580645206, 0.5468042688409258, 0.6406583923266448, 0.7332884603369436, 0.5376257043660612, 0.5306000245471819, 0.5306001971654607, 0.5306001454844593, 0.8964067610245677, 1.2516930505041781, 1.3121183363136082, 1.7509358457732824, 2.6865698674333034, 3.3214683754382563, 2.8839687259669478, 2.0490959217911064, 2.5032404654580325, 4.493145664733068, 4.471150336936005, 1.2513625251761291, 2.990345308434474, 3.950552289192122, 3.5318432291546795, 2.1792523731457005, 3.239875185835934, 5.893489006109103, 4.289396688716887, 3.4848187017974963, 2.740452116110982, 5.249169715432635, 2.587268834903597, 5.349642363643894, 3.561693145772903, 4.691697205336486, 5.302756091010189, 5.812867474037306, 5.196981338627299, 5.215175820100012, 3.914692349848379, 5.021691450959029, 4.405479470390055, 4.811477774361813, 3.5534654309895073, 3.559709223681935, 0.5945115255510653, 0.5934811366512421, 0.5929256977306243, 0.5890622401715737, 0.5711741915584807, 0.5621616227863353, 0.5590472164741975, 0.5590478735188523, 0.7207298540000535, 0.5537607675398231, 0.6275389139445776, 0.8250208614051219, 0.542435016816517, 0.5424354370497846, 0.731871983172416, 0.5340290213160948, 0.7213787819088079, 0.6328270118507355, 0.602105403612356, 0.5307310862735647, 0.5307310048634686, 0.5307312035618553, 0.5294822083495005, 0.5207363725169846, 0.5201322096605062, 0.5201328990011559, 0.52000430157686, 0.5497740190955751, 0.5147909111850845, 0.5147909599147559, 0.7035710651773983, 2.0620111869422493, 1.0793692612618622, 0.915826594038531, 2.676685922043939, 1.5920563288497043, 0.8062123903085042, 0.9160082271642265, 1.641253603741774, 1.1265895177013092, 1.411314186103541, 1.3420504401552964, 4.561651614924447, 1.4500529472383303, 5.582098781921518, 1.326058459001083, 3.2170910577740415, 5.021691450959029, 3.5318432291546795, 2.2208566551672546, 3.914692349848379, 2.5536321676548877, 5.215175820100012, 5.302756091010189, 4.471150336936005, 3.7365648952238235, 3.029449560711545, 3.040675205083913, 5.812867474037306, 5.196981338627299, 3.8782615874656376, 3.070776105965059, 4.405479470390055, 3.668063921027138, 3.058900121693119, 4.124875904474475, 5.893489006109103, 5.249169715432635, 2.8839687259669478, 4.691697205336486, 3.5748489700495707, 0.6755276708483889, 0.8478977871736495, 0.5586857518627328, 0.6849426917588244, 0.6713187745893947, 0.5379203958399388, 0.6107092279492113, 0.6758860750326643, 0.528729588438654, 0.5287299121663671, 0.528730589512962, 0.5248847985032041, 0.5951717407695245, 0.5227065784580818, 0.5227072706743311, 0.5227079601845215, 0.5219684113373901, 0.5185026470506785, 0.5181131187117499, 1.438435713579298, 1.0569781318728695, 0.5117931111762609, 0.5117936745210396, 0.5092593427812698, 0.9313160859688303, 0.536738709439448, 0.5017647529704137, 0.7827150278066654, 0.6537992930702832, 1.0725922503478154, 0.6715940120906008, 0.9607857441297322, 1.411314186103541, 1.3243543048364923, 1.0476234037147034, 3.7365648952238235, 2.7634777996630944, 4.691697205336486, 1.2255490901913224, 5.302756091010189, 3.259399973377017, 2.2934377549955856, 1.4973762841709553, 5.582098781921518, 3.9579351257147026, 5.349642363643894, 1.7240421144144906, 1.83390158113229, 4.0687552054563225, 2.8839687259669478, 4.811477774361813, 2.9137156344605684, 3.561693145772903, 5.249169715432635, 4.080566728835498, 3.058900121693119, 5.812867474037306, 2.688859692679146, 3.8782615874656376, 3.950552289192122, 5.893489006109103, 4.308826319514981, 4.471150336936005, 3.4848187017974963, 2.5569767789712934], \"logprob\": [30.0, 29.0, 28.0, 27.0, 26.0, 25.0, 24.0, 23.0, 22.0, 21.0, 20.0, 19.0, 18.0, 17.0, 16.0, 15.0, 14.0, 13.0, 12.0, 11.0, 10.0, 9.0, 8.0, 7.0, 6.0, 5.0, 4.0, 3.0, 2.0, 1.0, -7.0661, -6.9496, -7.1802, -7.2461, -7.3468, -7.4478, -7.269, -7.4494, -7.5623, -7.5624, -7.1186, -7.4173, -7.5976, -7.608, -7.6091, -7.4051, -7.6167, -7.5715, -7.658, -7.658, -7.6605, -7.668, -7.6717, -7.6717, -7.6873, -7.5609, -7.7094, -7.2873, -7.7211, -7.703, -6.9407, -6.7724, -6.9296, -6.9031, -7.3413, -6.9851, -7.2427, -7.3638, -6.958, -6.9291, -6.4884, -6.7226, -6.2264, -6.8926, -6.6945, -6.5352, -6.4349, -6.7068, -6.5475, -6.5462, -6.7427, -6.829, -6.3684, -6.5747, -6.3907, -6.5068, -6.6073, -6.6666, -6.5477, -6.5932, -6.4988, -6.7017, -6.5882, -6.522, -6.5313, -6.564, -6.5599, -6.5891, -6.7287, -6.6582, -6.6872, -6.7384, -6.7382, -7.2411, -7.1016, -7.3782, -7.2117, -7.4179, -7.1639, -6.912, -7.1324, -7.4494, -7.4812, -7.491, -7.1522, -7.5032, -7.1854, -7.5166, -7.5376, -7.5511, -7.5602, -7.5465, -7.5706, -7.3265, -7.3333, -7.5939, -7.596, -7.6039, -7.6039, -7.6079, -7.4213, -7.254, -7.5345, -7.082, -7.1248, -7.2897, -6.7443, -6.275, -7.3388, -7.1884, -6.7019, -6.2197, -6.0526, -6.9934, -6.655, -6.5517, -6.0337, -6.8298, -6.6935, -6.6141, -6.6146, -6.7478, -6.6674, -6.521, -7.0689, -6.6235, -6.4689, -6.4261, -6.7903, -6.4939, -6.6143, -6.5343, -6.6195, -6.6654, -6.6958, -6.7005, -6.6815, -6.5998, -6.7083, -6.6772, -6.7158, -6.7432, -6.6951, -6.7043, -7.1062, -7.1791, -7.2039, -7.2287, -7.0, -7.3494, -7.4677, -7.4467, -7.415, -7.4758, -7.5461, -7.5461, -7.5841, -7.5983, -7.3268, -7.6565, -7.367, -7.1112, -7.6708, -7.4813, -7.3955, -7.5596, -7.3627, -7.3411, -7.7372, -7.6878, -7.7449, -7.5253, -7.751, -7.6076, -6.842, -7.4668, -7.3838, -7.3683, -6.2493, -7.285, -6.9826, -6.2462, -6.9923, -7.3081, -6.6205, -6.6649, -7.0151, -6.2516, -6.4534, -7.0868, -6.9177, -6.2242, -6.4349, -6.6682, -6.8226, -6.5723, -6.7826, -6.474, -6.5114, -6.9106, -6.9642, -7.0096, -6.6361, -6.6047, -6.6, -6.4973, -6.5035, -6.5732, -6.545, -6.6505, -6.6639, -6.4903, -6.696, -6.7307, -6.6389, -6.6095, -6.6049, -6.7459, -6.7807, -6.7727, -7.0841, -7.1337, -6.9173, -7.3412, -7.3438, -7.458, -7.4616, -7.4616, -7.0374, -7.5809, -7.583, -7.4022, -7.6014, -7.6069, -7.6069, -7.607, -7.607, -7.607, -7.6314, -7.6314, -7.6506, -7.6506, -7.6506, -7.6506, -7.6561, -7.6561, -7.2175, -7.6871, -7.4763, -7.4129, -7.0556, -7.0973, -6.768, -6.1919, -7.4244, -6.7417, -6.6979, -6.5976, -6.4555, -7.3759, -6.5056, -6.7999, -6.5289, -7.4486, -6.8529, -6.2688, -7.1025, -6.6015, -6.2675, -6.3213, -7.1883, -6.8102, -6.6055, -6.4667, -6.8255, -6.9017, -6.4479, -6.6478, -6.651, -6.6446, -6.8847, -6.5351, -6.6483, -6.5842, -6.681, -6.7229, -6.7062, -6.6984, -6.6819, -6.7244, -6.7217, -6.7373, -6.7668, -6.7566, -7.076, -7.1451, -7.1866, -7.0838, -7.2215, -6.7692, -7.2353, -7.3219, -7.0441, -7.3703, -6.9363, -7.2262, -7.0371, -7.3839, -7.0071, -7.1577, -7.3927, -7.5659, -7.5719, -7.513, -6.9548, -6.1581, -7.6193, -7.6193, -7.6224, -7.6225, -7.6296, -7.6378, -7.6378, -7.6404, -7.4639, -7.4639, -6.8475, -6.816, -7.0291, -7.3353, -7.178, -6.4805, -6.5188, -7.1704, -6.9002, -7.0621, -6.2382, -6.953, -6.5843, -6.3895, -6.2976, -6.4102, -6.334, -6.4558, -6.3613, -6.6679, -6.7541, -6.5276, -6.5968, -6.7324, -6.4929, -6.4561, -6.4728, -6.6426, -6.6376, -6.5974, -6.6257, -6.6472, -6.5895, -6.7754, -6.7149, -6.7173, -6.7115, -6.7304, -6.7671, -6.6143, -6.9708, -7.1258, -7.1873, -7.2044, -7.2471, -7.2803, -7.3015, -7.3911, -7.3912, -7.4247, -7.4661, -7.4661, -7.2464, -7.4761, -7.4944, -7.4945, -7.4952, -7.5545, -7.5545, -7.5545, -7.5738, -7.5738, -7.598, -7.5981, -7.3308, -7.6169, -7.6366, -7.6366, -7.0461, -6.4685, -6.7642, -7.3763, -6.7127, -7.2497, -7.3479, -7.1643, -6.7098, -6.6158, -6.6477, -6.3789, -6.5369, -6.6246, -6.7534, -6.5869, -6.3768, -6.7548, -6.4837, -6.399, -6.601, -6.7616, -6.6371, -6.6502, -6.4991, -6.6049, -6.597, -6.5884, -6.7579, -6.848, -6.7779, -6.7366, -6.7567, -6.798, -6.7873, -6.765, -7.069, -7.0696, -7.1046, -7.2461, -7.2473, -7.2474, -7.0885, -6.6685, -7.2736, -7.2036, -7.341, -7.3546, -7.4354, -6.8004, -7.3633, -6.7125, -7.497, -7.3825, -7.306, -7.4131, -7.5162, -7.5162, -7.5162, -7.5312, -7.5312, -7.5312, -7.4104, -7.5783, -7.3592, -7.599, -7.0834, -6.9323, -7.1845, -6.8361, -6.547, -7.0298, -6.3675, -7.0169, -7.0388, -7.2243, -6.4261, -6.9971, -6.4062, -6.7159, -6.7477, -6.5216, -6.6342, -6.5728, -6.4528, -6.8241, -6.6817, -6.8196, -6.6618, -6.5889, -6.8619, -6.6946, -6.7854, -6.7482, -6.6333, -6.6381, -6.8168, -6.854, -6.7504, -6.7338, -6.7564, -6.8223, -6.8366, -7.1442, -6.9597, -7.1914, -7.1977, -7.2737, -7.2018, -6.9626, -7.3278, -7.3738, -7.3798, -7.263, -7.3014, -7.435, -7.435, -7.4484, -7.4547, -7.4628, -7.4628, -7.4687, -7.4687, -7.4763, -7.3118, -7.4938, -7.4939, -7.347, -7.2355, -7.5486, -7.5927, -7.5927, -7.5927, -7.1365, -6.8593, -6.8841, -6.6785, -6.4532, -6.3801, -6.5075, -6.7266, -6.6152, -6.3672, -6.3883, -7.0499, -6.6429, -6.5341, -6.6012, -6.836, -6.6931, -6.4637, -6.6041, -6.6814, -6.7703, -6.5584, -6.8066, -6.5722, -6.7038, -6.6194, -6.5977, -6.5715, -6.6097, -6.6103, -6.6885, -6.6721, -6.7087, -6.7313, -6.7776, -6.7925, -7.2095, -7.2142, -7.2168, -7.2347, -7.3222, -7.3694, -7.3863, -7.3863, -7.1384, -7.4155, -7.3057, -7.0328, -7.4812, -7.4813, -7.212, -7.5329, -7.2338, -7.3685, -7.4264, -7.554, -7.554, -7.554, -7.5621, -7.6206, -7.6248, -7.6248, -7.6257, -7.5903, -7.6625, -7.6625, -7.3683, -6.3792, -6.9832, -7.1393, -6.2459, -6.6869, -7.2687, -7.1691, -6.7308, -7.0334, -6.8904, -6.9682, -6.2745, -6.9493, -6.2367, -7.0105, -6.5689, -6.3486, -6.5744, -6.7932, -6.5579, -6.764, -6.4937, -6.4975, -6.5701, -6.6576, -6.7468, -6.7626, -6.6012, -6.6343, -6.7201, -6.793, -6.7113, -6.7607, -6.8141, -6.7521, -6.7077, -6.7308, -6.8409, -6.7948, -6.8202, -6.849, -6.719, -7.2261, -7.0634, -7.1137, -7.3493, -7.2417, -7.1488, -7.409, -7.4091, -7.4091, -7.4351, -7.3187, -7.4502, -7.4502, -7.4502, -7.4554, -7.48, -7.4828, -6.4906, -6.7993, -7.5295, -7.5295, -7.5488, -6.9764, -7.5378, -7.6083, -7.1667, -7.3509, -6.8617, -7.3356, -7.0356, -6.7063, -6.8551, -7.0449, -6.2255, -6.4699, -6.152, -6.97, -6.1398, -6.4426, -6.7133, -6.9253, -6.2812, -6.4604, -6.3252, -6.8594, -6.8321, -6.4709, -6.6296, -6.4614, -6.6649, -6.5925, -6.456, -6.6135, -6.7509, -6.6105, -6.7949, -6.7195, -6.7498, -6.7023, -6.7432, -6.7459, -6.8173, -6.8242]}};\n",
       "\n",
       "function LDAvis_load_lib(url, callback){\n",
       "  var s = document.createElement('script');\n",
       "  s.src = url;\n",
       "  s.async = true;\n",
       "  s.onreadystatechange = s.onload = callback;\n",
       "  s.onerror = function(){console.warn(\"failed to load library \" + url);};\n",
       "  document.getElementsByTagName(\"head\")[0].appendChild(s);\n",
       "}\n",
       "\n",
       "if(typeof(LDAvis) !== \"undefined\"){\n",
       "   // already loaded: just create the visualization\n",
       "   !function(LDAvis){\n",
       "       new LDAvis(\"#\" + \"ldavis_el73162749470722503934633\", ldavis_el73162749470722503934633_data);\n",
       "   }(LDAvis);\n",
       "}else if(typeof define === \"function\" && define.amd){\n",
       "   // require.js is available: use it to load d3/LDAvis\n",
       "   require.config({paths: {d3: \"https://cdnjs.cloudflare.com/ajax/libs/d3/3.5.5/d3.min\"}});\n",
       "   require([\"d3\"], function(d3){\n",
       "      window.d3 = d3;\n",
       "      LDAvis_load_lib(\"https://cdn.rawgit.com/bmabey/pyLDAvis/files/ldavis.v1.0.0.js\", function(){\n",
       "        new LDAvis(\"#\" + \"ldavis_el73162749470722503934633\", ldavis_el73162749470722503934633_data);\n",
       "      });\n",
       "    });\n",
       "}else{\n",
       "    // require.js not available: dynamically load d3 & LDAvis\n",
       "    LDAvis_load_lib(\"https://cdnjs.cloudflare.com/ajax/libs/d3/3.5.5/d3.min.js\", function(){\n",
       "         LDAvis_load_lib(\"https://cdn.rawgit.com/bmabey/pyLDAvis/files/ldavis.v1.0.0.js\", function(){\n",
       "                 new LDAvis(\"#\" + \"ldavis_el73162749470722503934633\", ldavis_el73162749470722503934633_data);\n",
       "            })\n",
       "         });\n",
       "}\n",
       "</script>"
      ],
      "text/plain": [
       "PreparedData(topic_coordinates=            Freq  cluster  topics         x         y\n",
       "topic                                                \n",
       "2      14.699327  1        1      -0.005354 -0.011802\n",
       "7      12.367891  1        2      -0.037677  0.012039\n",
       "1      11.600243  1        3      -0.002768 -0.025347\n",
       "6      11.023993  1        4       0.000265 -0.017985\n",
       "9      10.363233  1        5       0.011517 -0.002139\n",
       "4      9.232391   1        6      -0.006276  0.005247\n",
       "3      8.929797   1        7       0.009189  0.021896\n",
       "8      7.910821   1        8       0.015188  0.005359\n",
       "0      7.569645   1        9       0.006916  0.007009\n",
       "5      6.302659   1        10      0.009001  0.005723, topic_info=     Category      Freq         Term     Total  loglift  logprob\n",
       "term                                                            \n",
       "456   Default  2.000000  vote         2.000000  30.0000  30.0000\n",
       "1035  Default  2.000000  precheck     2.000000  29.0000  29.0000\n",
       "3755  Default  2.000000  helpful      2.000000  28.0000  28.0000\n",
       "4627  Default  1.000000  pre          1.000000  27.0000  27.0000\n",
       "369   Default  2.000000  love         2.000000  26.0000  26.0000\n",
       "3963  Default  1.000000  joke         1.000000  25.0000  25.0000\n",
       "2382  Default  3.000000  ride         3.000000  24.0000  24.0000\n",
       "4569  Default  2.000000  name         2.000000  23.0000  23.0000\n",
       "3549  Default  5.000000  park         5.000000  22.0000  22.0000\n",
       "4156  Default  0.000000  hospital     0.000000  21.0000  21.0000\n",
       "5005  Default  3.000000  check        3.000000  20.0000  20.0000\n",
       "5281  Default  1.000000  fingerprint  1.000000  19.0000  19.0000\n",
       "3296  Default  0.000000  pat          0.000000  18.0000  18.0000\n",
       "2435  Default  1.000000  management   1.000000  17.0000  17.0000\n",
       "2897  Default  1.000000  ir           1.000000  16.0000  16.0000\n",
       "965   Default  5.000000  line         5.000000  15.0000  15.0000\n",
       "1370  Default  1.000000  daughter     1.000000  14.0000  14.0000\n",
       "652   Default  1.000000  consider     1.000000  13.0000  13.0000\n",
       "2968  Default  1.000000  super        1.000000  12.0000  12.0000\n",
       "1681  Default  2.000000  guy          2.000000  11.0000  11.0000\n",
       "534   Default  1.000000  s            1.000000  10.0000  10.0000\n",
       "3019  Default  2.000000  mill         2.000000  9.0000   9.0000 \n",
       "972   Default  0.000000  chad         0.000000  8.0000   8.0000 \n",
       "4374  Default  2.000000  social       2.000000  7.0000   7.0000 \n",
       "1709  Default  2.000000  terminal     2.000000  6.0000   6.0000 \n",
       "5422  Default  0.000000  obtain       0.000000  5.0000   5.0000 \n",
       "3084  Default  1.000000  fly          1.000000  4.0000   4.0000 \n",
       "2683  Default  2.000000  ever         2.000000  3.0000   3.0000 \n",
       "1501  Default  1.000000  de           1.000000  2.0000   2.0000 \n",
       "4600  Default  1.000000  district     1.000000  1.0000   1.0000 \n",
       "...       ...       ...  ..                ...     ...      ... \n",
       "5005  Topic10  0.487357  check        3.736565  0.7273  -6.2255 \n",
       "4374  Topic10  0.381686  social       2.763478  0.7846  -6.4699 \n",
       "1593  Topic10  0.524532  security     4.691697  0.5732  -6.1520 \n",
       "4451  Topic10  0.231484  sometime     1.225549  1.0976  -6.9700 \n",
       "965   Topic10  0.530974  line         5.302756  0.4629  -6.1398 \n",
       "2076  Topic10  0.392256  help         3.259400  0.6468  -6.4426 \n",
       "3855  Topic10  0.299223  la           2.293438  0.7276  -6.7133 \n",
       "4169  Topic10  0.242053  must         1.497376  0.9419  -6.9253 \n",
       "1502  Topic10  0.460925  tsa          5.582099  0.2701  -6.2812 \n",
       "1799  Topic10  0.385305  card         3.957935  0.4348  -6.4604 \n",
       "3056  Topic10  0.441103  wait         5.349642  0.2687  -6.3252 \n",
       "3084  Topic10  0.258555  fly          1.724042  0.8669  -6.8594 \n",
       "2968  Topic10  0.265714  super        1.833902  0.8324  -6.8321 \n",
       "4502  Topic10  0.381284  water        4.068755  0.3967  -6.4709 \n",
       "3755  Topic10  0.325357  helpful      2.883969  0.5822  -6.6296 \n",
       "123   Topic10  0.384920  service      4.811478  0.2385  -6.4614 \n",
       "3939  Topic10  0.314059  staff        2.913716  0.5366  -6.6649 \n",
       "3170  Topic10  0.337639  long         3.561693  0.4082  -6.5925 \n",
       "271   Topic10  0.387036  people       5.249170  0.1569  -6.4560 \n",
       "2711  Topic10  0.330626  call         4.080567  0.2512  -6.6135 \n",
       "2193  Topic10  0.288187  close        3.058900  0.4020  -6.7509 \n",
       "3234  Topic10  0.331618  get          5.812867 -0.0996  -6.6105 \n",
       "382   Topic10  0.275783  vega         2.688860  0.4869  -6.7949 \n",
       "2909  Topic10  0.297370  make         3.878262  0.1960  -6.7195 \n",
       "520   Topic10  0.288492  hour         3.950552  0.1473  -6.7498 \n",
       "2334  Topic10  0.302535  go           5.893489 -0.2052  -6.7023 \n",
       "477   Topic10  0.290404  say          4.308826  0.0670  -6.7432 \n",
       "1425  Topic10  0.289633  office       4.471150  0.0274  -6.7459 \n",
       "4939  Topic10  0.269675  number       3.484819  0.2052  -6.8173 \n",
       "1467  Topic10  0.267811  another      2.556977  0.5079  -6.8242 \n",
       "\n",
       "[729 rows x 6 columns], token_table=      Topic      Freq     Term\n",
       "term                          \n",
       "3095  3      0.397448  agent  \n",
       "3434  3      0.274945  airport\n",
       "3434  5      0.274945  airport\n",
       "636   2      0.340204  ap     \n",
       "575   1      0.328874  around \n",
       "575   6      0.328874  around \n",
       "2047  1      0.378647  ask    \n",
       "3707  1      0.285459  back   \n",
       "2044  3      0.423196  base   \n",
       "1407  1      0.674835  beach  \n",
       "2753  4      0.384144  better \n",
       "3697  2      0.548007  big    \n",
       "3648  1      0.267513  bill   \n",
       "3648  2      0.267513  bill   \n",
       "3648  4      0.267513  bill   \n",
       "3648  6      0.267513  bill   \n",
       "5429  2      0.605314  book   \n",
       "4071  1      0.209534  bus    \n",
       "4071  2      0.209534  bus    \n",
       "4071  3      0.209534  bus    \n",
       "4071  4      0.209534  bus    \n",
       "4071  5      0.209534  bus    \n",
       "4071  6      0.209534  bus    \n",
       "2711  1      0.245064  call   \n",
       "1726  1      0.291390  can    \n",
       "1726  3      0.291390  can    \n",
       "1722  1      0.380884  car    \n",
       "1799  1      0.252657  card   \n",
       "1799  2      0.252657  card   \n",
       "1799  4      0.252657  card   \n",
       "...  ..           ...   ...   \n",
       "2544  3      0.429045  treat  \n",
       "1502  1      0.179144  tsa    \n",
       "1502  3      0.179144  tsa    \n",
       "1502  4      0.179144  tsa    \n",
       "1502  9      0.179144  tsa    \n",
       "4585  4      0.584652  turn   \n",
       "3396  1      0.269901  u      \n",
       "3396  2      0.269901  u      \n",
       "382   2      0.371905  vega   \n",
       "456   7      0.484963  vote   \n",
       "456   9      0.484963  vote   \n",
       "3056  1      0.186928  wait   \n",
       "3056  2      0.186928  wait   \n",
       "3056  3      0.186928  wait   \n",
       "3056  5      0.186928  wait   \n",
       "3056  6      0.186928  wait   \n",
       "5381  1      0.317209  walk   \n",
       "63    1      0.377828  want   \n",
       "4502  1      0.245775  water  \n",
       "4502  3      0.245775  water  \n",
       "4502  4      0.245775  water  \n",
       "4502  5      0.245775  water  \n",
       "1621  1      0.308964  way    \n",
       "1621  4      0.308964  way    \n",
       "1391  2      0.272623  work   \n",
       "1391  3      0.272623  work   \n",
       "1391  5      0.272623  work   \n",
       "4155  1      0.242432  would  \n",
       "4155  3      0.242432  would  \n",
       "4155  4      0.242432  would  \n",
       "\n",
       "[211 rows x 3 columns], R=30, lambda_step=0.01, plot_opts={'xlab': 'PC1', 'ylab': 'PC2'}, topic_order=[3, 8, 2, 7, 10, 5, 4, 9, 1, 6])"
      ]
     },
     "execution_count": 44,
     "metadata": {},
     "output_type": "execute_result"
    }
   ],
   "source": [
    "# Credit http://nbviewer.jupyter.org/github/bmabey/pyLDAvis/blob/master/notebooks/pyLDAvis_overview.ipynb\n",
    "pyLDAvis.gensim.prepare(PSG_lda, tfidf_sparse, yelp_dictionary)"
   ]
  },
  {
   "cell_type": "code",
   "execution_count": 45,
   "metadata": {
    "collapsed": false,
    "deletable": true,
    "editable": true,
    "slideshow": {
     "slide_type": "subslide"
    }
   },
   "outputs": [
    {
     "data": {
      "text/html": [
       "\n",
       "<link rel=\"stylesheet\" type=\"text/css\" href=\"https://cdn.rawgit.com/bmabey/pyLDAvis/files/ldavis.v1.0.0.css\">\n",
       "\n",
       "\n",
       "<div id=\"ldavis_el73163083029768827978614\"></div>\n",
       "<script type=\"text/javascript\">\n",
       "\n",
       "var ldavis_el73163083029768827978614_data = {\"plot.opts\": {\"xlab\": \"PC1\", \"ylab\": \"PC2\"}, \"topic.order\": [7, 2, 3, 4, 8, 9, 6, 5, 10, 1], \"token.table\": {\"Topic\": [2, 1, 1, 2, 4, 3, 6, 3, 6, 1, 5, 5, 2, 4, 6, 1, 1, 2, 4, 1, 2, 1, 1, 2, 3, 4, 3, 1, 2, 5, 7, 2, 5, 2, 1, 2, 3, 4, 7, 3, 1, 1, 2, 3, 1, 2, 1, 4, 1, 3, 4, 1, 2, 1, 2, 1, 4, 5, 7, 1, 1, 5, 1, 1, 1, 6, 4, 1, 2, 2, 1, 3, 4, 2, 5, 1, 6, 1, 2, 3, 4, 5, 6, 2, 1, 1, 2, 3, 4, 5, 6, 8, 1, 2, 3, 4, 1, 1, 5, 5, 3, 1, 3, 5, 1, 1, 1, 4, 4, 3, 1, 3, 5, 1, 3, 4, 5, 6, 1, 5, 1, 3, 4, 1, 2, 3, 1, 4, 6, 1, 3, 5, 2, 3, 1, 2, 3, 4, 5, 6, 1, 2, 3, 4, 1, 5, 1, 1, 3, 5, 1, 2, 4, 1, 3, 5, 1, 1, 2, 3, 6, 1, 2, 1, 2, 3, 4, 5, 1, 2, 3, 4, 5, 6, 2, 3, 2, 5, 1, 5, 3, 2, 1, 1, 4, 1, 2, 3, 3, 2, 3, 1, 2, 3, 5, 1, 1, 2, 4, 5, 2, 1, 1, 4, 3, 5, 1, 2, 3, 4, 5, 1, 2, 3, 5, 1, 2, 3, 4, 7, 1, 1, 2, 3, 4, 3, 3, 4, 5, 6, 8, 1, 1, 2, 4, 2, 5, 1, 2, 3, 4, 5, 6, 1, 2, 1, 1, 2, 5, 7, 3, 4, 1, 3, 2, 2, 1, 5], \"Freq\": [0.3201905840167816, 0.44396945783613234, 0.36996822226081527, 0.678252736492572, 0.4314562584344628, 0.38277854336330946, 0.38277854336330946, 0.2718774787979438, 0.2718774787979438, 0.3417156415598172, 0.3417156415598172, 0.3741099370358082, 0.3463895763901748, 0.6643483195474101, 0.3251241002199403, 0.5376377420392322, 0.28508798239231664, 0.28508798239231664, 0.4324944176588143, 0.2656255940384214, 0.2656255940384214, 0.3796567596512706, 0.2061744823495085, 0.2061744823495085, 0.2061744823495085, 0.2061744823495085, 0.3710508315933963, 0.24008674706865918, 0.24008674706865918, 0.24008674706865918, 0.24008674706865918, 0.29639006668717455, 0.29639006668717455, 0.3851811154311567, 0.24406360131878213, 0.24406360131878213, 0.24406360131878213, 0.24406360131878213, 0.24406360131878213, 0.5373821949076549, 0.6476772370814443, 0.25066988709934146, 0.25066988709934146, 0.25066988709934146, 0.29991867043261233, 0.29991867043261233, 0.4332698498180208, 0.31697097330034085, 0.21150789380674606, 0.21150789380674606, 0.21150789380674606, 0.2889470271737279, 0.2889470271737279, 0.2835831735281343, 0.2835831735281343, 0.22684207994093547, 0.22684207994093547, 0.22684207994093547, 0.8321681836055667, 0.40617317995049906, 0.44846039177714686, 0.5279516734579285, 0.38531052841514707, 0.5576287468705308, 0.6932634637824152, 0.28211900659823264, 0.6615300776373864, 0.46804156205653547, 0.5262244483476474, 0.29083006102197617, 0.536773010253216, 0.5348767866743207, 0.563183923552764, 0.2783874663239127, 0.2783874663239127, 0.5006586752872406, 0.6057434252521948, 0.16811548376422653, 0.16811548376422653, 0.16811548376422653, 0.16811548376422653, 0.16811548376422653, 0.16811548376422653, 0.31384511424905803, 0.7744931281468489, 0.16939246436191938, 0.16939246436191938, 0.16939246436191938, 0.16939246436191938, 0.16939246436191938, 0.16939246436191938, 0.16939246436191938, 0.304852067023972, 0.2733099287269242, 0.2733099287269242, 0.2733099287269242, 0.36549945832454345, 0.2926494050830167, 0.2926494050830167, 0.3306221358956535, 0.39143504468766277, 0.24779865312333893, 0.24779865312333893, 0.24779865312333893, 0.8407206139192658, 0.594726013341898, 0.2717682243236891, 0.2717682243236891, 0.4423393602060188, 0.3667353501765922, 0.2277987449877158, 0.2277987449877158, 0.2277987449877158, 0.1817294258308951, 0.1817294258308951, 0.1817294258308951, 0.1817294258308951, 0.1817294258308951, 0.2822663879636812, 0.2822663879636812, 0.31664214166201265, 0.3493000950046607, 0.3493000950046607, 0.2514554775976418, 0.2514554775976418, 0.6113113895231569, 0.3400820531164343, 0.3400820531164343, 0.3400820531164343, 0.22652516992077237, 0.22652516992077237, 0.22652516992077237, 0.38227579644843473, 0.3178724299427411, 0.21175752280235244, 0.21175752280235244, 0.21175752280235244, 0.21175752280235244, 0.21175752280235244, 0.21175752280235244, 0.2477736981937086, 0.2477736981937086, 0.2477736981937086, 0.49146196717954443, 0.2875293507338215, 0.2875293507338215, 0.28088965903737345, 0.2212783605163326, 0.2212783605163326, 0.2212783605163326, 0.22964668810548666, 0.22964668810548666, 0.22964668810548666, 0.40886102487810394, 0.30241651111661394, 0.30241651111661394, 0.41706620695552715, 0.3793267829123872, 0.1896633914561936, 0.1896633914561936, 0.1896633914561936, 0.2945373430023574, 0.2945373430023574, 0.1891767896580541, 0.1891767896580541, 0.1891767896580541, 0.1891767896580541, 0.1891767896580541, 0.2397956197667373, 0.2397956197667373, 0.2397956197667373, 0.2397956197667373, 0.2397956197667373, 0.2397956197667373, 0.521380379098696, 0.6253558708091898, 0.413320323505043, 0.7582265865709895, 0.34361803415546105, 0.34361803415546105, 0.36590655291159346, 0.9298081910368966, 0.883665115377855, 0.3273568302426901, 0.3273568302426901, 0.34685524912732946, 0.33954843363384973, 0.33954843363384973, 0.571362625292776, 0.23717978658813027, 0.23717978658813027, 0.2105013784086952, 0.2105013784086952, 0.2105013784086952, 0.2105013784086952, 0.2750705842735699, 0.2013800086172686, 0.2013800086172686, 0.2013800086172686, 0.2013800086172686, 0.490076886999047, 0.34505411614195064, 0.3644652986541825, 0.4836607854766988, 0.5245790874861839, 0.3591524963646282, 0.1870446211732421, 0.1870446211732421, 0.1870446211732421, 0.1870446211732421, 0.1870446211732421, 0.27643197833037114, 0.35428792534868864, 0.35428792534868864, 0.307576191712422, 0.19046348899214968, 0.19046348899214968, 0.19046348899214968, 0.19046348899214968, 0.19046348899214968, 0.5735104429684432, 0.26575411525951825, 0.26575411525951825, 0.26575411525951825, 0.26575411525951825, 0.43617305993277394, 0.3546733574871955, 0.17733667874359774, 0.17733667874359774, 0.17733667874359774, 0.17733667874359774, 0.5793019516890986, 0.2695960974579764, 0.2695960974579764, 0.2695960974579764, 0.3772666935299877, 0.3772666935299877, 0.18793297522982358, 0.18793297522982358, 0.18793297522982358, 0.18793297522982358, 0.18793297522982358, 0.18793297522982358, 0.32149012320393355, 0.32149012320393355, 0.37223773848656905, 0.23972889272516737, 0.23972889272516737, 0.23972889272516737, 0.23972889272516737, 0.31244294310658977, 0.31244294310658977, 0.3369367286790377, 0.565551805921839, 0.27163698639162576, 0.389723432476316, 0.24034904367582333, 0.24034904367582333], \"Term\": [\"2\", \"4\", \"5\", \"account\", \"actually\", \"agent\", \"agent\", \"airport\", \"airport\", \"also\", \"also\", \"alway\", \"ap\", \"appreciate\", \"around\", \"awesome\", \"back\", \"back\", \"base\", \"bill\", \"bill\", \"build\", \"bus\", \"bus\", \"bus\", \"bus\", \"ca\", \"call\", \"call\", \"call\", \"call\", \"can\", \"can\", \"car\", \"card\", \"card\", \"card\", \"card\", \"card\", \"center\", \"certificate\", \"check\", \"check\", \"check\", \"city\", \"city\", \"clean\", \"close\", \"come\", \"come\", \"come\", \"company\", \"company\", \"customer\", \"customer\", \"day\", \"day\", \"day\", \"de\", \"deal\", \"different\", \"dmv\", \"drive\", \"due\", \"east\", \"even\", \"event\", \"everythe\", \"expect\", \"experience\", \"fee\", \"fly\", \"friend\", \"friendly\", \"friendly\", \"front\", \"fun\", \"get\", \"get\", \"get\", \"get\", \"get\", \"get\", \"give\", \"glad\", \"go\", \"go\", \"go\", \"go\", \"go\", \"go\", \"go\", \"good\", \"great\", \"great\", \"great\", \"guy\", \"help\", \"help\", \"helpful\", \"home\", \"hour\", \"hour\", \"hour\", \"ir\", \"joke\", \"know\", \"know\", \"license\", \"light\", \"like\", \"like\", \"like\", \"line\", \"line\", \"line\", \"line\", \"line\", \"long\", \"long\", \"lot\", \"love\", \"love\", \"make\", \"make\", \"meter\", \"mill\", \"mill\", \"mill\", \"minute\", \"minute\", \"minute\", \"money\", \"much\", \"need\", \"need\", \"need\", \"need\", \"need\", \"need\", \"never\", \"never\", \"never\", \"next\", \"nice\", \"nice\", \"number\", \"office\", \"office\", \"office\", \"one\", \"one\", \"one\", \"online\", \"open\", \"open\", \"paperwork\", \"park\", \"park\", \"park\", \"park\", \"pay\", \"pay\", \"people\", \"people\", \"people\", \"people\", \"people\", \"place\", \"place\", \"place\", \"place\", \"place\", \"place\", \"power\", \"pre\", \"precheck\", \"prior\", \"process\", \"process\", \"rail\", \"raise\", \"rep\", \"ride\", \"ride\", \"right\", \"rude\", \"rude\", \"s\", \"say\", \"say\", \"security\", \"security\", \"security\", \"security\", \"see\", \"service\", \"service\", \"service\", \"service\", \"sky\", \"staff\", \"star\", \"state\", \"station\", \"stop\", \"take\", \"take\", \"take\", \"take\", \"take\", \"tell\", \"terminal\", \"terminal\", \"think\", \"time\", \"time\", \"time\", \"time\", \"time\", \"traffic\", \"train\", \"train\", \"train\", \"train\", \"treat\", \"tsa\", \"tsa\", \"tsa\", \"tsa\", \"tsa\", \"turn\", \"u\", \"u\", \"u\", \"visit\", \"visit\", \"wait\", \"wait\", \"wait\", \"wait\", \"wait\", \"wait\", \"walk\", \"walk\", \"want\", \"water\", \"water\", \"water\", \"water\", \"way\", \"way\", \"well\", \"within\", \"work\", \"worst\", \"would\", \"would\"]}, \"mdsDat\": {\"y\": [-0.02113136112889529, -0.010553338936900657, 0.0233349324303004, 0.004760652237216575, -0.013599037958780848, 0.02444493533599573, -0.01011401748578714, -0.0038152354939185776, 0.002393610081385114, 0.0042788609193846385], \"cluster\": [1, 1, 1, 1, 1, 1, 1, 1, 1, 1], \"Freq\": [15.310289302439289, 12.195058508783946, 11.995918290110119, 11.105933573395543, 10.994247830436306, 9.1995273546759, 8.768484342065081, 7.909818035771801, 6.520858874803361, 5.9998638875186465], \"topics\": [1, 2, 3, 4, 5, 6, 7, 8, 9, 10], \"x\": [-0.025662886701384995, -0.00996951580960943, -0.024737252239849572, -0.005801323471915722, 0.01274920124100526, 0.005622009720010509, 0.008744265579622074, 0.007958709608424562, 0.011113028975194807, 0.019983763098502475]}, \"R\": 30, \"lambda.step\": 0.01, \"tinfo\": {\"Category\": [\"Default\", \"Default\", \"Default\", \"Default\", \"Default\", \"Default\", \"Default\", \"Default\", \"Default\", \"Default\", \"Default\", \"Default\", \"Default\", \"Default\", \"Default\", \"Default\", \"Default\", \"Default\", \"Default\", \"Default\", \"Default\", \"Default\", \"Default\", \"Default\", \"Default\", \"Default\", \"Default\", \"Default\", \"Default\", \"Default\", \"Topic1\", \"Topic1\", \"Topic1\", \"Topic1\", \"Topic1\", \"Topic1\", \"Topic1\", \"Topic1\", \"Topic1\", \"Topic1\", \"Topic1\", \"Topic1\", \"Topic1\", \"Topic1\", \"Topic1\", \"Topic1\", \"Topic1\", \"Topic1\", \"Topic1\", \"Topic1\", \"Topic1\", \"Topic1\", \"Topic1\", \"Topic1\", \"Topic1\", \"Topic1\", \"Topic1\", \"Topic1\", \"Topic1\", \"Topic1\", \"Topic1\", \"Topic1\", \"Topic1\", \"Topic1\", \"Topic1\", \"Topic1\", \"Topic1\", \"Topic1\", \"Topic1\", \"Topic1\", \"Topic1\", \"Topic1\", \"Topic1\", \"Topic1\", \"Topic1\", \"Topic1\", \"Topic1\", \"Topic1\", \"Topic1\", \"Topic1\", \"Topic1\", \"Topic1\", \"Topic1\", \"Topic1\", \"Topic1\", \"Topic1\", \"Topic1\", \"Topic1\", \"Topic1\", \"Topic1\", \"Topic1\", \"Topic1\", \"Topic1\", \"Topic1\", \"Topic1\", \"Topic1\", \"Topic1\", \"Topic1\", \"Topic1\", \"Topic1\", \"Topic1\", \"Topic2\", \"Topic2\", \"Topic2\", \"Topic2\", \"Topic2\", \"Topic2\", \"Topic2\", \"Topic2\", \"Topic2\", \"Topic2\", \"Topic2\", \"Topic2\", \"Topic2\", \"Topic2\", \"Topic2\", \"Topic2\", \"Topic2\", \"Topic2\", \"Topic2\", \"Topic2\", \"Topic2\", \"Topic2\", \"Topic2\", \"Topic2\", \"Topic2\", \"Topic2\", \"Topic2\", \"Topic2\", \"Topic2\", \"Topic2\", \"Topic2\", \"Topic2\", \"Topic2\", \"Topic2\", \"Topic2\", \"Topic2\", \"Topic2\", \"Topic2\", \"Topic2\", \"Topic2\", \"Topic2\", \"Topic2\", \"Topic2\", \"Topic2\", \"Topic2\", \"Topic2\", \"Topic2\", \"Topic2\", \"Topic2\", \"Topic2\", \"Topic2\", \"Topic2\", \"Topic2\", \"Topic2\", \"Topic2\", \"Topic2\", \"Topic2\", \"Topic2\", \"Topic2\", \"Topic2\", \"Topic2\", \"Topic2\", \"Topic2\", \"Topic2\", \"Topic2\", \"Topic2\", \"Topic2\", \"Topic2\", \"Topic2\", \"Topic2\", \"Topic2\", \"Topic2\", \"Topic2\", \"Topic2\", \"Topic2\", \"Topic2\", \"Topic3\", \"Topic3\", \"Topic3\", \"Topic3\", \"Topic3\", \"Topic3\", \"Topic3\", \"Topic3\", \"Topic3\", \"Topic3\", \"Topic3\", \"Topic3\", \"Topic3\", \"Topic3\", \"Topic3\", \"Topic3\", \"Topic3\", \"Topic3\", \"Topic3\", \"Topic3\", \"Topic3\", \"Topic3\", \"Topic3\", \"Topic3\", \"Topic3\", \"Topic3\", \"Topic3\", \"Topic3\", \"Topic3\", \"Topic3\", \"Topic3\", \"Topic3\", \"Topic3\", \"Topic3\", \"Topic3\", \"Topic3\", \"Topic3\", \"Topic3\", \"Topic3\", \"Topic3\", \"Topic3\", \"Topic3\", \"Topic3\", \"Topic3\", \"Topic3\", \"Topic3\", \"Topic3\", \"Topic3\", \"Topic3\", \"Topic3\", \"Topic3\", \"Topic3\", \"Topic3\", \"Topic3\", \"Topic3\", \"Topic3\", \"Topic3\", \"Topic3\", \"Topic3\", \"Topic3\", \"Topic3\", \"Topic3\", \"Topic3\", \"Topic3\", \"Topic3\", \"Topic3\", \"Topic3\", \"Topic3\", \"Topic3\", \"Topic3\", \"Topic3\", \"Topic3\", \"Topic3\", \"Topic4\", \"Topic4\", \"Topic4\", \"Topic4\", \"Topic4\", \"Topic4\", \"Topic4\", \"Topic4\", \"Topic4\", \"Topic4\", \"Topic4\", \"Topic4\", \"Topic4\", \"Topic4\", \"Topic4\", \"Topic4\", \"Topic4\", \"Topic4\", \"Topic4\", \"Topic4\", \"Topic4\", \"Topic4\", \"Topic4\", \"Topic4\", \"Topic4\", \"Topic4\", \"Topic4\", \"Topic4\", \"Topic4\", \"Topic4\", \"Topic4\", \"Topic4\", \"Topic4\", \"Topic4\", \"Topic4\", \"Topic4\", \"Topic4\", \"Topic4\", \"Topic4\", \"Topic4\", \"Topic4\", \"Topic4\", \"Topic4\", \"Topic4\", \"Topic4\", \"Topic4\", \"Topic4\", \"Topic4\", \"Topic4\", \"Topic4\", \"Topic4\", \"Topic4\", \"Topic4\", \"Topic4\", \"Topic4\", \"Topic4\", \"Topic4\", \"Topic4\", \"Topic4\", \"Topic4\", \"Topic4\", \"Topic4\", \"Topic4\", \"Topic4\", \"Topic4\", \"Topic5\", \"Topic5\", \"Topic5\", \"Topic5\", \"Topic5\", \"Topic5\", \"Topic5\", \"Topic5\", \"Topic5\", \"Topic5\", \"Topic5\", \"Topic5\", \"Topic5\", \"Topic5\", \"Topic5\", \"Topic5\", \"Topic5\", \"Topic5\", \"Topic5\", \"Topic5\", \"Topic5\", \"Topic5\", \"Topic5\", \"Topic5\", \"Topic5\", \"Topic5\", \"Topic5\", \"Topic5\", \"Topic5\", \"Topic5\", \"Topic5\", \"Topic5\", \"Topic5\", \"Topic5\", \"Topic5\", \"Topic5\", \"Topic5\", \"Topic5\", \"Topic5\", \"Topic5\", \"Topic5\", \"Topic5\", \"Topic5\", \"Topic5\", \"Topic5\", \"Topic5\", \"Topic5\", \"Topic5\", \"Topic5\", \"Topic5\", \"Topic5\", \"Topic5\", \"Topic5\", \"Topic5\", \"Topic5\", \"Topic5\", \"Topic5\", \"Topic5\", \"Topic5\", \"Topic5\", \"Topic5\", \"Topic5\", \"Topic5\", \"Topic5\", \"Topic5\", \"Topic5\", \"Topic5\", \"Topic5\", \"Topic5\", \"Topic6\", \"Topic6\", \"Topic6\", \"Topic6\", \"Topic6\", \"Topic6\", \"Topic6\", \"Topic6\", \"Topic6\", \"Topic6\", \"Topic6\", \"Topic6\", \"Topic6\", \"Topic6\", \"Topic6\", \"Topic6\", \"Topic6\", \"Topic6\", \"Topic6\", \"Topic6\", \"Topic6\", \"Topic6\", \"Topic6\", \"Topic6\", \"Topic6\", \"Topic6\", \"Topic6\", \"Topic6\", \"Topic6\", \"Topic6\", \"Topic6\", \"Topic6\", \"Topic6\", \"Topic6\", \"Topic6\", \"Topic6\", \"Topic6\", \"Topic6\", \"Topic6\", \"Topic6\", \"Topic6\", \"Topic6\", \"Topic6\", \"Topic6\", \"Topic6\", \"Topic6\", \"Topic6\", \"Topic6\", \"Topic6\", \"Topic6\", \"Topic6\", \"Topic6\", \"Topic6\", \"Topic6\", \"Topic6\", \"Topic6\", \"Topic6\", \"Topic6\", \"Topic6\", \"Topic6\", \"Topic6\", \"Topic6\", \"Topic6\", \"Topic6\", \"Topic6\", \"Topic6\", \"Topic6\", \"Topic6\", \"Topic6\", \"Topic6\", \"Topic7\", \"Topic7\", \"Topic7\", \"Topic7\", \"Topic7\", \"Topic7\", \"Topic7\", \"Topic7\", \"Topic7\", \"Topic7\", \"Topic7\", \"Topic7\", \"Topic7\", \"Topic7\", \"Topic7\", \"Topic7\", \"Topic7\", \"Topic7\", \"Topic7\", \"Topic7\", \"Topic7\", \"Topic7\", \"Topic7\", \"Topic7\", \"Topic7\", \"Topic7\", \"Topic7\", \"Topic7\", \"Topic7\", \"Topic7\", \"Topic7\", \"Topic7\", \"Topic7\", \"Topic7\", \"Topic7\", \"Topic7\", \"Topic7\", \"Topic7\", \"Topic7\", \"Topic7\", \"Topic7\", \"Topic7\", \"Topic7\", \"Topic7\", \"Topic7\", \"Topic7\", \"Topic7\", \"Topic7\", \"Topic7\", \"Topic7\", \"Topic7\", \"Topic7\", \"Topic7\", \"Topic7\", \"Topic7\", \"Topic7\", \"Topic7\", \"Topic7\", \"Topic7\", \"Topic7\", \"Topic7\", \"Topic7\", \"Topic7\", \"Topic7\", \"Topic7\", \"Topic7\", \"Topic7\", \"Topic7\", \"Topic7\", \"Topic7\", \"Topic7\", \"Topic8\", \"Topic8\", \"Topic8\", \"Topic8\", \"Topic8\", \"Topic8\", \"Topic8\", \"Topic8\", \"Topic8\", \"Topic8\", \"Topic8\", \"Topic8\", \"Topic8\", \"Topic8\", \"Topic8\", \"Topic8\", \"Topic8\", \"Topic8\", \"Topic8\", \"Topic8\", \"Topic8\", \"Topic8\", \"Topic8\", \"Topic8\", \"Topic8\", \"Topic8\", \"Topic8\", \"Topic8\", \"Topic8\", \"Topic8\", \"Topic8\", \"Topic8\", \"Topic8\", \"Topic8\", \"Topic8\", \"Topic8\", \"Topic8\", \"Topic8\", \"Topic8\", \"Topic8\", \"Topic8\", \"Topic8\", \"Topic8\", \"Topic8\", \"Topic8\", \"Topic8\", \"Topic8\", \"Topic8\", \"Topic8\", \"Topic8\", \"Topic8\", \"Topic8\", \"Topic8\", \"Topic8\", \"Topic8\", \"Topic8\", \"Topic8\", \"Topic8\", \"Topic8\", \"Topic8\", \"Topic8\", \"Topic8\", \"Topic8\", \"Topic8\", \"Topic8\", \"Topic8\", \"Topic8\", \"Topic8\", \"Topic8\", \"Topic8\", \"Topic8\", \"Topic8\", \"Topic8\", \"Topic9\", \"Topic9\", \"Topic9\", \"Topic9\", \"Topic9\", \"Topic9\", \"Topic9\", \"Topic9\", \"Topic9\", \"Topic9\", \"Topic9\", \"Topic9\", \"Topic9\", \"Topic9\", \"Topic9\", \"Topic9\", \"Topic9\", \"Topic9\", \"Topic9\", \"Topic9\", \"Topic9\", \"Topic9\", \"Topic9\", \"Topic9\", \"Topic9\", \"Topic9\", \"Topic9\", \"Topic9\", \"Topic9\", \"Topic9\", \"Topic9\", \"Topic9\", \"Topic9\", \"Topic9\", \"Topic9\", \"Topic9\", \"Topic9\", \"Topic9\", \"Topic9\", \"Topic9\", \"Topic9\", \"Topic9\", \"Topic9\", \"Topic9\", \"Topic9\", \"Topic9\", \"Topic9\", \"Topic9\", \"Topic9\", \"Topic9\", \"Topic9\", \"Topic9\", \"Topic9\", \"Topic9\", \"Topic9\", \"Topic9\", \"Topic9\", \"Topic9\", \"Topic9\", \"Topic9\", \"Topic9\", \"Topic9\", \"Topic9\", \"Topic9\", \"Topic9\", \"Topic9\", \"Topic9\", \"Topic9\", \"Topic9\", \"Topic9\", \"Topic9\", \"Topic9\", \"Topic9\", \"Topic10\", \"Topic10\", \"Topic10\", \"Topic10\", \"Topic10\", \"Topic10\", \"Topic10\", \"Topic10\", \"Topic10\", \"Topic10\", \"Topic10\", \"Topic10\", \"Topic10\", \"Topic10\", \"Topic10\", \"Topic10\", \"Topic10\", \"Topic10\", \"Topic10\", \"Topic10\", \"Topic10\", \"Topic10\", \"Topic10\", \"Topic10\", \"Topic10\", \"Topic10\", \"Topic10\", \"Topic10\", \"Topic10\", \"Topic10\", \"Topic10\", \"Topic10\", \"Topic10\", \"Topic10\", \"Topic10\", \"Topic10\", \"Topic10\", \"Topic10\", \"Topic10\", \"Topic10\", \"Topic10\", \"Topic10\", \"Topic10\", \"Topic10\", \"Topic10\", \"Topic10\", \"Topic10\", \"Topic10\", \"Topic10\", \"Topic10\", \"Topic10\", \"Topic10\", \"Topic10\", \"Topic10\", \"Topic10\", \"Topic10\", \"Topic10\", \"Topic10\", \"Topic10\", \"Topic10\", \"Topic10\", \"Topic10\", \"Topic10\", \"Topic10\", \"Topic10\", \"Topic10\", \"Topic10\", \"Topic10\"], \"Term\": [\"tsa\", \"pre\", \"library\", \"de\", \"helpful\", \"airport\", \"fly\", \"ir\", \"vote\", \"passport\", \"eh\", \"fun\", \"ap\", \"appreciate\", \"checkpoint\", \"sprinter\", \"terminal\", \"entrance\", \"ye\", \"liquid\", \"counter\", \"title\", \"rtc\", \"jury\", \"sometime\", \"daughter\", \"location\", \"s\", \"agent\", \"dmv\", \"holy\", \"gum\", \"10a\", \"gross\", \"east\", \"centre\", \"departure\", \"vista\", \"yuck\", \"rep\", \"pregnant\", \"warrior\", \"smoothly\", \"taste\", \"dispute\", \"arrogant\", \"quarter\", \"peak\", \"metropoli\", \"refund\", \"parole\", \"ir\", \"result\", \"school\", \"cuz\", \"soul\", \"vital\", \"8people\", \"validation\", \"allege\", \"inn\", \"awesome\", \"turn\", \"due\", \"everythe\", \"different\", \"joke\", \"park\", \"paperwork\", \"day\", \"glad\", \"come\", \"front\", \"fee\", \"traffic\", \"certificate\", \"number\", \"water\", \"online\", \"4\", \"get\", \"process\", \"bus\", \"want\", \"tell\", \"star\", \"take\", \"place\", \"time\", \"call\", \"minute\", \"bill\", \"go\", \"line\", \"service\", \"check\", \"wait\", \"would\", \"city\", \"know\", \"need\", \"landfill\", \"residence\", \"holocaust\", \"raise\", \"report\", \"tow\", \"account\", \"unbelievable\", \"waitres\", \"therefore\", \"moron\", \"hoa\", \"uninterest\", \"comparison\", \"nit\", \"voucher\", \"ft\", \"sq\", \"1st\", \"videotape\", \"clinic\", \"ledger\", \"inaccurate\", \"walkway\", \"sprinkler\", \"indiscriminately\", \"800\", \"discriminate\", \"150\", \"85\", \"rip\", \"policy\", \"hospital\", \"usage\", \"dump\", \"kiosk\", \"terminal\", \"ap\", \"concern\", \"company\", \"pool\", \"penny\", \"service\", \"power\", \"bill\", \"expect\", \"customer\", \"bus\", \"pay\", \"worst\", \"offer\", \"happy\", \"money\", \"precheck\", \"work\", \"horrible\", \"rude\", \"sky\", \"never\", \"need\", \"one\", \"friendly\", \"take\", \"city\", \"can\", \"train\", \"back\", \"walk\", \"give\", \"time\", \"go\", \"people\", \"park\", \"get\", \"u\", \"make\", \"pre\", \"flamingo\", \"efficiant\", \"quicknes\", \"gayborhood\", \"relation\", \"rainbow\", \"fly\", \"38min\", \"outstand\", \"advertisement\", \"apt\", \"fuk\", \"snow\", \"tonight\", \"welcome\", \"chaplin\", \"smoother\", \"carrier\", \"boulevard\", \"chase\", \"minor\", \"lena\", \"bearable\", \"prime\", \"linen\", \"merge\", \"forty\", \"plaza\", \"atlanta\", \"female\", \"grocery\", \"tsa\", \"jail\", \"example\", \"lynx\", \"family\", \"s\", \"meter\", \"within\", \"airport\", \"much\", \"agent\", \"check\", \"light\", \"terminal\", \"often\", \"center\", \"never\", \"station\", \"line\", \"time\", \"rail\", \"treat\", \"say\", \"train\", \"rude\", \"go\", \"minute\", \"home\", \"park\", \"people\", \"office\", \"take\", \"ca\", \"way\", \"great\", \"like\", \"come\", \"get\", \"wait\", \"open\", \"security\", \"homestead\", \"melrose\", \"horribly\", \"ball\", \"appreciate\", \"happier\", \"undertrain\", \"allison\", \"frisk\", \"donate\", \"easily\", \"arrogance\", \"jose\", \"screw\", \"cruise\", \"punctual\", \"sermon\", \"dang\", \"pcm\", \"army\", \"floor\", \"warn\", \"queue\", \"technician\", \"smudge\", \"commission\", \"tourism\", \"attend\", \"effectively\", \"event\", \"somewhere\", \"wednesday\", \"state\", \"friend\", \"license\", \"base\", \"actually\", \"id\", \"love\", \"ride\", \"next\", \"jury\", \"fingerprint\", \"mill\", \"close\", \"fun\", \"great\", \"know\", \"card\", \"need\", \"go\", \"take\", \"day\", \"people\", \"way\", \"train\", \"get\", \"place\", \"bus\", \"tsa\", \"one\", \"come\", \"line\", \"service\", \"time\", \"chad\", \"ihop\", \"shoulder\", \"brother\", \"edinburgh\", \"aloud\", \"fresh\", \"certainly\", \"1250\", \"prior\", \"larger\", \"obtain\", \"rasmussen\", \"superb\", \"undercook\", \"watery\", \"flier\", \"flood\", \"episode\", \"appt\", \"attach\", \"beer\", \"instructional\", \"immigration\", \"va\", \"illegal\", \"8am\", \"bias\", \"coordinator\", \"clerk\", \"24\", \"stupid\", \"dmv\", \"volunteer\", \"helpful\", \"visit\", \"automate\", \"hour\", \"friendly\", \"update\", \"funny\", \"wrong\", \"10\", \"like\", \"stop\", \"open\", \"office\", \"alway\", \"take\", \"line\", \"people\", \"wait\", \"long\", \"also\", \"think\", \"help\", \"get\", \"bag\", \"call\", \"security\", \"nice\", \"go\", \"tsa\", \"would\", \"need\", \"service\", \"minute\", \"can\", \"place\", \"woot\", \"incredibly\", \"immensely\", \"bumpy\", \"accommodation\", \"voicemail\", \"ahhhhh\", \"library\", \"younger\", \"equalizer\", \"atleast\", \"numberi\", \"brand\", \"transaction\", \"printout\", \"1hr\", \"seamles\", \"transition\", \"uneducate\", \"testimony\", \"understaf\", \"wafer\", \"cheddar\", \"cracker\", \"yummy\", \"captain\", \"loooot\", \"champagne\", \"foe\", \"gloria\", \"flip\", \"fun\", \"original\", \"large\", \"passport\", \"age\", \"bar\", \"airport\", \"jury\", \"jet\", \"tsa\", \"agent\", \"sky\", \"restaurant\", \"mill\", \"even\", \"around\", \"park\", \"traveler\", \"wait\", \"lot\", \"line\", \"place\", \"clean\", \"go\", \"get\", \"need\", \"great\", \"2\", \"extremely\", \"new\", \"better\", \"easy\", \"service\", \"little\", \"security\", \"hour\", \"make\", \"take\", \"minute\", \"sprinter\", \"ruff\", \"de\", \"backpack\", \"throught\", \"en\", \"cough\", \"kerrie\", \"favorite\", \"evr\", \"sllllooowwweesstt\", \"wardrobe\", \"le\", \"justify\", \"sont\", \"8th\", \"9th\", \"shortest\", \"enlarge\", \"peni\", \"ruiz\", \"mon\", \"et\", \"cheapest\", \"soo\", \"fed\", \"tent\", \"que\", \"everytime\", \"helples\", \"poll\", \"60\", \"half\", \"dollar\", \"million\", \"court\", \"vote\", \"touch\", \"door\", \"water\", \"deposit\", \"daughter\", \"relate\", \"transportation\", \"call\", \"card\", \"time\", \"alway\", \"checkpoint\", \"precheck\", \"hand\", \"window\", \"easy\", \"care\", \"say\", \"right\", \"close\", \"get\", \"people\", \"experience\", \"go\", \"line\", \"bill\", \"try\", \"one\", \"security\", \"like\", \"customer\", \"service\", \"would\", \"come\", \"memo\", \"liquid\", \"whoa\", \"lousy\", \"welfare\", \"isnt\", \"tammy\", \"consistently\", \"approx\", \"rassmussen\", \"extinguisher\", \"jesu\", \"seamu\", \"dragon\", \"george\", \"mccaffrey\", \"clueles\", \"represent\", \"civilian\", \"spaciou\", \"foodie\", \"heartbeat\", \"adore\", \"breathtake\", \"inspire\", \"poorly\", \"ditch\", \"jason\", \"warrant\", \"cigar\", \"ir\", \"tatum\", \"bin\", \"respect\", \"automatic\", \"location\", \"metro\", \"cancel\", \"5pm\", \"magazine\", \"search\", \"super\", \"tsa\", \"deal\", \"go\", \"mom\", \"allow\", \"office\", \"bring\", \"u\", \"please\", \"wait\", \"card\", \"good\", \"security\", \"min\", \"line\", \"somethe\", \"way\", \"get\", \"like\", \"people\", \"time\", \"car\", \"well\", \"new\", \"build\", \"day\", \"would\", \"long\", \"need\", \"come\", \"love\", \"maiden\", \"fashionable\", \"luxuriou\", \"ivan\", \"verifiable\", \"265\", \"disable\", \"death\", \"bx\", \"response\", \"immunization\", \"pic\", \"decorate\", \"duke\", \"hallway\", \"experiment\", \"stanford\", \"sixty\", \"asshole\", \"coupon\", \"hi\", \"109\", \"dedicate\", \"underpas\", \"session\", \"dilemma\", \"additionally\", \"convention\", \"hbrid\", \"9\", \"trust\", \"casino\", \"black\", \"nelli\", \"sunday\", \"entrance\", \"rtc\", \"ok\", \"smart\", \"medical\", \"supervisor\", \"counter\", \"route\", \"ap\", \"bus\", \"driver\", \"passport\", \"stuff\", \"security\", \"worker\", \"one\", \"close\", \"give\", \"say\", \"help\", \"time\", \"get\", \"name\", \"number\", \"people\", \"see\", \"base\", \"bill\", \"guy\", \"go\", \"line\", \"drive\", \"office\", \"take\", \"guard\", \"les\", \"nice\", \"5\", \"eh\", \"lawyer\", \"poop\", \"evict\", \"mofo\", \"february\", \"bulk\", \"handy\", \"orderly\", \"commissioner\", \"meeting\", \"recognition\", \"julio\", \"theft\", \"identity\", \"oz\", \"10th\", \"orthodontic\", \"prescription\", \"picky\", \"weird\", \"unreasonable\", \"minimum\", \"27\", \"unprofessional\", \"bunk\", \"silverflume\", \"aircraft\", \"thrive\", \"draft\", \"sometime\", \"compassionate\", \"ye\", \"entrance\", \"title\", \"log\", \"agency\", \"staff\", \"leak\", \"library\", \"appointment\", \"dad\", \"helpful\", \"like\", \"friendly\", \"wait\", \"nice\", \"hate\", \"office\", \"rail\", \"file\", \"work\", \"good\", \"30\", \"care\", \"long\", \"door\", \"location\", \"guard\", \"security\", \"job\", \"time\", \"water\", \"go\", \"get\", \"people\", \"ride\", \"even\"], \"loglift\": [30.0, 29.0, 28.0, 27.0, 26.0, 25.0, 24.0, 23.0, 22.0, 21.0, 20.0, 19.0, 18.0, 17.0, 16.0, 15.0, 14.0, 13.0, 12.0, 11.0, 10.0, 9.0, 8.0, 7.0, 6.0, 5.0, 4.0, 3.0, 2.0, 1.0, 1.3088, 1.2775, 1.2338, 1.2308, 1.2145, 1.2011, 1.1938, 1.1864, 1.1851, 1.1759, 1.1724, 1.1515, 1.1241, 1.1164, 1.1072, 1.102, 1.0882, 1.088, 1.0825, 1.0818, 1.0762, 1.0717, 1.064, 1.0633, 1.0627, 1.0618, 1.0603, 1.0597, 1.0597, 1.053, 1.0519, 1.0065, 0.9732, 0.9589, 0.9234, 0.9126, 0.9418, 0.7653, 0.8653, 0.6885, 0.9513, 0.6303, 0.8398, 0.8535, 0.8503, 0.8848, 0.5971, 0.5262, 0.7018, 0.7316, 0.3186, 0.5986, 0.3629, 0.6227, 0.4607, 0.5838, 0.2069, 0.3264, 0.1871, 0.3207, 0.2654, 0.3571, -0.0075, 0.0367, 0.1028, 0.2583, -0.0069, 0.2069, 0.3953, 0.3042, 0.049, 1.438, 1.3868, 1.3864, 1.3839, 1.3079, 1.2633, 1.2534, 1.2476, 1.2466, 1.2399, 1.2307, 1.2134, 1.2104, 1.2007, 1.2007, 1.2, 1.1862, 1.1862, 1.1843, 1.1843, 1.1781, 1.1693, 1.1693, 1.1676, 1.167, 1.167, 1.1561, 1.1554, 1.1546, 1.1384, 1.1361, 1.131, 1.1152, 1.0974, 1.1085, 1.0913, 0.9313, 0.9124, 1.0562, 0.8156, 1.1241, 1.0959, 0.5982, 0.8689, 0.6696, 0.8612, 0.6446, 0.4856, 0.5807, 0.6674, 0.8914, 0.8029, 0.6276, 0.6586, 0.4326, 0.8513, 0.5147, 0.7046, 0.3176, 0.2194, 0.2506, 0.342, 0.0991, 0.3731, 0.3635, 0.2908, 0.3279, 0.4117, 0.3888, 0.0004, -0.1041, -0.034, -0.0794, -0.2112, 0.24, 0.1706, 1.5678, 1.4433, 1.4229, 1.4021, 1.4019, 1.3964, 1.3896, 1.3142, 1.3035, 1.2892, 1.2797, 1.2663, 1.2663, 1.2556, 1.2351, 1.2234, 1.2179, 1.2127, 1.2065, 1.1977, 1.1941, 1.1772, 1.1551, 1.155, 1.1515, 1.1515, 1.1515, 1.144, 1.1329, 1.131, 1.1223, 1.1181, 0.8596, 1.0514, 1.0668, 1.0442, 0.9945, 0.9482, 0.9515, 0.9285, 0.7411, 0.7503, 0.7943, 0.5908, 0.7119, 0.6918, 0.8889, 0.8195, 0.4939, 0.7862, 0.2804, 0.2941, 0.6011, 0.6658, 0.3298, 0.3714, 0.5171, 0.0826, 0.2553, 0.5949, 0.1322, 0.1256, 0.2037, 0.0826, 0.5499, 0.4256, 0.3276, 0.1836, 0.0944, -0.1436, -0.0518, 0.3442, -0.0139, 1.4165, 1.4146, 1.4025, 1.3995, 1.3166, 1.2974, 1.2806, 1.2768, 1.2573, 1.2569, 1.2521, 1.2513, 1.2457, 1.2362, 1.2313, 1.2311, 1.2282, 1.2271, 1.2271, 1.2218, 1.2148, 1.2064, 1.2021, 1.1966, 1.1966, 1.18, 1.1763, 1.1723, 1.1649, 1.137, 1.1244, 1.0937, 1.0065, 1.0043, 0.9455, 0.855, 0.8108, 0.8888, 0.7332, 0.6701, 0.8105, 0.9803, 0.9928, 0.5993, 0.5637, 0.8372, 0.4053, 0.3913, 0.3012, 0.2179, 0.0747, 0.131, 0.2416, 0.1255, 0.4229, 0.3174, 0.0041, 0.2262, 0.1087, -0.0405, 0.1193, 0.0177, -0.1265, -0.0653, -0.1189, 1.4657, 1.455, 1.4083, 1.387, 1.3709, 1.3339, 1.3291, 1.3237, 1.3201, 1.2808, 1.2718, 1.2678, 1.2561, 1.2561, 1.2226, 1.2226, 1.2218, 1.221, 1.2183, 1.218, 1.2128, 1.2105, 1.2089, 1.2044, 1.2044, 1.2013, 1.1965, 1.1869, 1.1869, 1.1735, 1.1722, 1.1387, 1.0007, 1.1081, 0.8716, 0.8552, 1.0871, 0.6339, 0.6221, 1.0354, 0.9115, 0.8396, 0.7687, 0.4737, 0.6425, 0.5571, 0.4, 0.6358, 0.3147, 0.2945, 0.305, 0.2886, 0.4804, 0.5638, 0.5104, 0.457, 0.1327, 0.654, 0.294, 0.2069, 0.4077, 0.0579, 0.0718, 0.2769, 0.1582, 0.1095, 0.1553, 0.3631, 0.1341, 1.5555, 1.5104, 1.4879, 1.4853, 1.4741, 1.4704, 1.4672, 1.4503, 1.4025, 1.399, 1.3973, 1.3973, 1.3841, 1.3766, 1.372, 1.3715, 1.3574, 1.3574, 1.3549, 1.3277, 1.3115, 1.3033, 1.3033, 1.3032, 1.3032, 1.3032, 1.2982, 1.2981, 1.2981, 1.2917, 1.2838, 1.1991, 1.2564, 1.1984, 1.1744, 1.2413, 1.082, 0.8511, 1.1072, 1.1627, 0.5302, 0.7696, 0.8498, 0.9665, 0.6368, 0.5433, 0.5993, 0.2814, 1.0377, 0.2081, 0.4982, 0.1489, 0.2885, 0.638, 0.0644, 0.0434, 0.1654, 0.3269, 0.4272, 0.782, 0.4541, 0.5127, 0.368, -0.0057, 0.5325, -0.0328, 0.1035, 0.0988, -0.1946, -0.0114, 1.8059, 1.6358, 1.5684, 1.5121, 1.4866, 1.4664, 1.4559, 1.4224, 1.3816, 1.36, 1.36, 1.3361, 1.3181, 1.3172, 1.306, 1.3016, 1.3016, 1.3009, 1.3009, 1.2932, 1.2932, 1.272, 1.2692, 1.2675, 1.2669, 1.2665, 1.2656, 1.2552, 1.2537, 1.2401, 1.2316, 1.1968, 1.1209, 1.0137, 1.1396, 1.0406, 0.8004, 1.128, 0.6503, 0.5021, 0.9702, 1.0055, 1.1221, 0.7953, 0.3894, 0.389, 0.2539, 0.5694, 0.7568, 0.5922, 0.8247, 0.5889, 0.4396, 0.6041, 0.2394, 0.4381, 0.3518, -0.0909, -0.0169, 0.2565, -0.1398, -0.1076, 0.1646, 0.3649, 0.04, -0.0302, 0.0103, 0.1967, -0.1336, 0.0245, -0.1137, 1.6845, 1.5502, 1.5432, 1.4891, 1.4847, 1.4638, 1.4523, 1.4259, 1.4071, 1.3879, 1.3879, 1.3715, 1.3586, 1.3586, 1.3586, 1.3585, 1.3338, 1.3326, 1.3195, 1.3195, 1.3142, 1.3142, 1.3142, 1.3142, 1.3142, 1.3044, 1.302, 1.2922, 1.2894, 1.2852, 1.2844, 1.2841, 1.1912, 1.2501, 1.2637, 0.8887, 1.0872, 1.2665, 1.1154, 1.2337, 1.0131, 0.8243, 0.3746, 0.6882, 0.2803, 1.0807, 0.858, 0.3056, 0.6492, 0.3686, 0.8628, 0.165, 0.3033, 0.4143, 0.1876, 0.7149, 0.044, 0.6089, 0.3586, -0.0421, 0.1409, 0.0111, 0.0155, 0.4676, 0.3731, 0.3874, 0.4416, 0.0566, 0.0858, 0.1936, -0.0626, -0.0911, 0.3233, 1.6768, 1.6691, 1.669, 1.6536, 1.5643, 1.5643, 1.5503, 1.5362, 1.5182, 1.5151, 1.5098, 1.4743, 1.4743, 1.3951, 1.392, 1.3769, 1.3769, 1.3723, 1.3693, 1.3657, 1.3607, 1.3607, 1.3427, 1.3313, 1.3312, 1.3312, 1.3131, 1.3131, 1.3131, 1.3096, 1.3073, 1.2913, 1.2743, 1.2582, 1.2355, 1.1944, 1.071, 1.1791, 1.2268, 1.2183, 1.0201, 0.8883, 0.9735, 0.5101, 0.2343, 0.6504, 0.8859, 0.9581, 0.1069, 0.8012, 0.0953, 0.3079, 0.2948, 0.0737, 0.2071, -0.1022, -0.2004, 0.3302, 0.1674, -0.1664, 0.1148, 0.4678, 0.078, 0.3324, -0.3127, -0.2591, 0.3502, -0.1416, -0.299, 0.3703, 0.4188, 0.0617, 0.278, 1.8809, 1.7645, 1.7563, 1.7002, 1.6991, 1.6293, 1.6266, 1.5548, 1.5261, 1.526, 1.526, 1.5248, 1.5168, 1.5168, 1.5168, 1.4872, 1.485, 1.4777, 1.4777, 1.4777, 1.4455, 1.4262, 1.4215, 1.3955, 1.3947, 1.386, 1.375, 1.3734, 1.3698, 1.3698, 1.3401, 1.3502, 1.2708, 1.2548, 1.2544, 1.3421, 1.1857, 0.8109, 1.1657, 1.1042, 1.034, 1.2461, 0.5574, 0.3522, 0.4553, 0.2119, 0.4385, 0.8324, 0.2574, 0.5507, 0.9489, 0.3528, 0.3864, 0.6739, 0.5876, 0.2814, 0.415, 0.4582, 0.4518, -0.0726, 0.4209, -0.1776, 0.0129, -0.2887, -0.301, -0.2104, 0.268, 0.1213], \"Freq\": [5.0, 1.0, 1.0, 1.0, 3.0, 3.0, 1.0, 1.0, 2.0, 1.0, 0.0, 1.0, 2.0, 1.0, 1.0, 0.0, 2.0, 0.0, 1.0, 0.0, 1.0, 0.0, 1.0, 1.0, 1.0, 1.0, 2.0, 1.0, 2.0, 1.0, 0.4795384604445798, 0.430265525440455, 0.39148507414252365, 0.460362470526331, 0.7439244878581363, 0.41313298494512407, 0.36040135404663354, 0.3551169392481504, 0.35415598259531195, 0.5615523020251866, 0.345328240912755, 0.3315161614609116, 0.47283894396059906, 0.4877120522612999, 0.3328660217421148, 0.30179413159668, 0.2941911626867392, 0.37180241432340877, 0.2911751357709147, 0.3701244457959941, 0.3649658060518151, 0.5318176667709751, 0.3359455921831196, 0.4742024213897873, 0.280893643220871, 0.28043972535949224, 0.2797201442858256, 0.27942240800291596, 0.2794188209068931, 0.27608908363394064, 0.30209924435405333, 0.779132877850582, 0.6994074180544121, 0.7162756211715926, 0.8236461528715365, 0.8503685613132633, 0.6601827336156982, 1.7352302175761114, 0.872092337135726, 1.3435604414148385, 0.511798218487927, 1.3595081078099904, 0.7081984856741905, 0.669657137403568, 0.6247992013867798, 0.5726277051860658, 0.9903007888200142, 1.080891998705863, 0.7554262603111704, 0.7167726405887308, 1.2524254249467304, 0.8107301302805832, 1.0674994732178082, 0.7666312252292443, 0.877925981707654, 0.7531326286257172, 1.0066826676671758, 0.8849099996859564, 0.9692539355523504, 0.8788204967796718, 0.88127699364036, 0.8237725651051437, 0.8970615011485581, 0.874001707253456, 0.8425974343263934, 0.7908216025762147, 0.8090960775047414, 0.7834561033020616, 0.7580076771983155, 0.7636928845133478, 0.7592882665577021, 0.38208774864148876, 0.3638313483257982, 0.34456566884474943, 0.5233732653416622, 0.4928434213329055, 0.27440466810416553, 0.6296860561772608, 0.299131608210818, 0.2664872498094518, 0.26340562467863654, 0.33582640441904815, 0.25171549613280975, 0.2504362317772246, 0.2463972540842412, 0.24639553032824094, 0.2461193708246664, 0.24049789415095582, 0.240493564535259, 0.23971525717024428, 0.23971262147052327, 0.32968090471654726, 0.2338324408880355, 0.23383055601374333, 0.30693192563517535, 0.23296162493851869, 0.23296122629330196, 0.24890654958374853, 0.22857658859079621, 0.3120017889606688, 0.22234614047613876, 0.2592463496961867, 0.3087644432532027, 0.36123295859307075, 0.4299043462884922, 0.38530567133442223, 0.3630511055307438, 0.8735290913429826, 0.8767802221925353, 0.40592770410641266, 0.9540935478680049, 0.29170009584296397, 0.3124902174309393, 1.1014219716076057, 0.5576661523156599, 0.8968261658339547, 0.5483053490464895, 0.81933520771631, 0.9613058496047839, 0.7399779310049772, 0.6099157397182425, 0.4340251753664145, 0.4881524692622952, 0.5975718814688377, 0.5700549836774202, 0.6919257140383284, 0.43875412946307807, 0.6009399890503369, 0.5034329167093211, 0.6761723848018871, 0.7171672066449912, 0.6823060043564996, 0.6166999255182405, 0.7199202045149292, 0.5904647807247885, 0.591799681821219, 0.6137500525831107, 0.5937450166166828, 0.5725390755954132, 0.5731951898422675, 0.6405335546119209, 0.6487486228980154, 0.6231017244230938, 0.5938854811619474, 0.5872855012342665, 0.5750590058478402, 0.5751900083054561, 0.920029226967862, 0.37323574084793704, 0.35824184255177816, 0.3438684738553206, 0.34373749746707866, 0.3400495837145224, 0.4454011916703267, 0.8347294824502548, 0.2860327921655696, 0.31131214502130133, 0.2741948301919806, 0.26781340841391393, 0.2678094168360595, 0.28934222607675236, 0.25384103656099233, 0.3792098830305643, 0.24654487280238144, 0.24437843830441683, 0.24188743188417783, 0.23834493099168524, 0.29238628994688065, 0.2544552461819523, 0.222295387868367, 0.22228978705058702, 0.22102966594683415, 0.22102706369066605, 0.22102557544508653, 0.26390959845047485, 0.21454441504100547, 0.2561309937568691, 0.3547232841788185, 0.3254325220988662, 1.5978664062049384, 0.40940553309716476, 0.36217691655360895, 0.3927507889504048, 0.46438707901937665, 0.5419191132898115, 0.5081800378573587, 0.5367837152253935, 0.9258320525521279, 0.7991492974348359, 0.6934702640564103, 0.8639642183123568, 0.6665767436061919, 0.6762946659462398, 0.46711304420717464, 0.5065816848150229, 0.7933318962888556, 0.5019636832383351, 0.8737625603584311, 0.8451986497584626, 0.598023994267128, 0.5352361182483553, 0.7033651365647601, 0.6544432352150408, 0.5925227888021687, 0.7691475543171101, 0.6835582241825197, 0.5555621060913523, 0.7218976551599247, 0.7189654973118399, 0.6646246209343271, 0.6965645283502083, 0.5603117278534264, 0.5876365272941924, 0.609049531237056, 0.6327370437852482, 0.6232897307498582, 0.6181253855097405, 0.6060928958836332, 0.5596695126155512, 0.5620307791825802, 0.3077971904458786, 0.30672356266930195, 0.3000005709936716, 0.33953138698537166, 0.6236683079828123, 0.24959113392111268, 0.24264646114345495, 0.24114109934268707, 0.23348710106127288, 0.2333168207044439, 0.26626184045265794, 0.2312057615617583, 0.22909076140458492, 0.3762250328322345, 0.22380085208190875, 0.2975677790353079, 0.22270013811490186, 0.22232503024105424, 0.22232478701693248, 0.3171247199121264, 0.40588744216604405, 0.307037822189401, 0.2806481364994316, 0.2117350596529752, 0.21173494404487408, 0.22014168337739398, 0.2214908504328245, 0.26552909427781485, 0.2014931723885711, 0.5233564391844723, 0.3467339830472866, 0.4358232450080681, 0.6282787867713334, 0.5383389092294071, 0.6462759430388209, 0.6038162465711867, 0.5791148861891453, 0.4837144683075688, 0.6618553577993668, 0.663072931974819, 0.5082299251272682, 0.37466254404727617, 0.35832237535711786, 0.5946300053572467, 0.615699047789305, 0.42352495018777325, 0.6094228855066902, 0.6043532469672646, 0.6149873866947018, 0.65218260143246, 0.7064934787407142, 0.6768898267917218, 0.6233636938521961, 0.6655331260510161, 0.5425749773010228, 0.5739990217943429, 0.6633317982730157, 0.5807165110214023, 0.6005183414962665, 0.6013919559348196, 0.5448708398621213, 0.5344408489760302, 0.5385193037535987, 0.5166383229659711, 0.5177355709085122, 0.3724383981624319, 0.3251504462786116, 0.3619009951113245, 0.41943469949098294, 0.3102053552317629, 0.27828588204419524, 0.2593400385024945, 0.3582330947669987, 0.25541770295071414, 0.5219191571731646, 0.2571551477335851, 0.40105458454253995, 0.22959249000258292, 0.2295910583093608, 0.21753773240156646, 0.21753709426280696, 0.21726656992313237, 0.2169785120904277, 0.22636472540647393, 0.21595329649086475, 0.2141792409506635, 0.27683667233303316, 0.21283476662693984, 0.21134634058613674, 0.21134597258226198, 0.22698088055009097, 0.285107217204425, 0.20562004393210676, 0.20561556676992407, 0.47283359402353287, 0.3492580229729242, 0.42408377761327853, 0.5664787345106832, 0.3129247492378325, 0.7950208065632872, 0.6853574881733389, 0.32057912279880946, 0.8363055394380993, 0.7357076938952776, 0.3168884534410332, 0.3976689747494838, 0.43712910527400095, 0.48337269858127135, 0.7750768854741636, 0.5819961348812805, 0.634590653896245, 0.7412178986047658, 0.5550202459447595, 0.8052178390003562, 0.8121510708838325, 0.7884574950734361, 0.7807185783839551, 0.6297051557806234, 0.5653972374501152, 0.5954653009234965, 0.5932955971341893, 0.7467366654848548, 0.4996903472864215, 0.6144153332624174, 0.6423685938689141, 0.574856894091224, 0.6877039670220029, 0.6660835742296817, 0.6033529297319441, 0.6081723883737326, 0.6091103899222624, 0.5668962507636236, 0.533322022146783, 0.5243010449188988, 0.2858950247625294, 0.26426854278101797, 0.2543328764145953, 0.25323185604889614, 0.24850997270047145, 0.24700365481445727, 0.24567170843599107, 0.4442411994235357, 0.24215142835617512, 0.23923140818346394, 0.21924959400441735, 0.2192493251193785, 0.26627451032107285, 0.23090444903447532, 0.21066710071913988, 0.24701606639187243, 0.20590453983882498, 0.2059000270750995, 0.28700996154799163, 0.19668676277894806, 0.21767703555478152, 0.18950312812719694, 0.18950211181770707, 0.18949982119303518, 0.18949809053632824, 0.18949547816344087, 0.18804537545980393, 0.18804383135725228, 0.18804365785750346, 0.18621657428218233, 0.2235968699285808, 0.5037541853818344, 0.2754725189333304, 0.3920770526212406, 0.41585549671554645, 0.2611376067192745, 0.40087556568238175, 0.7925414247811066, 0.35233359374363393, 0.27637095477955087, 0.8814763660502568, 0.5188409658911461, 0.4391007166861571, 0.34591275911229724, 0.5113598386273865, 0.5614378731792946, 0.5152328040177461, 0.6426948800634285, 0.31103036918536814, 0.6027426662459291, 0.47812788425651465, 0.5874820336184085, 0.511938837411502, 0.40189101285934553, 0.5791911716207795, 0.571460588386063, 0.512581426905088, 0.4667337443280901, 0.4404415113573274, 0.360764573496032, 0.4118175671051391, 0.39826329382388337, 0.40727479119090226, 0.4542187395213109, 0.3812306787013928, 0.42292040036524264, 0.41174747435009973, 0.40384158974116136, 0.40486045687503724, 0.40151617615520113, 0.4248427176800558, 0.30404404021345827, 0.5056632539765447, 0.2830072588909023, 0.23518628853194562, 0.22758672989161657, 0.2237994961495526, 0.21220462460769104, 0.3340171315358152, 0.19270184923959294, 0.1927008420306685, 0.1858797182505086, 0.27745007053395476, 0.207133135016705, 0.17772620247890614, 0.17656717297880753, 0.17656632982788864, 0.17639377323570932, 0.1763929227570946, 0.17439219101571002, 0.17439190630251428, 0.16908165543180087, 0.16839125878926242, 0.1892370026225794, 0.16783074371005313, 0.16772531395035126, 0.20235886774895356, 0.16500204150965161, 0.20592792785944372, 0.16145949531377493, 0.21858547827984395, 0.2721097465122152, 0.3991530717001515, 0.4297058740096047, 0.25214456232531024, 0.300222602041375, 0.4024714333316894, 0.23001986320746465, 0.48887071101613017, 0.6042855271687119, 0.2863957428058057, 0.27050607344129685, 0.2275309440036625, 0.34612577490881125, 0.5391107514056555, 0.5300817899444118, 0.5934363980291558, 0.4142060512628284, 0.33883532527190385, 0.38356836721309284, 0.310504200042909, 0.3757708020064509, 0.41702881488517485, 0.3648465917259489, 0.4696947536109967, 0.3917884109258998, 0.39327560772113346, 0.47624975079943255, 0.4557608779153184, 0.3896568573190402, 0.4501134610827227, 0.4332730178146365, 0.38916907340452694, 0.365900398375572, 0.3974246632139632, 0.4041470616534024, 0.3888936784224693, 0.3764267560500803, 0.3809836685257056, 0.3738670317875318, 0.37000927475356976, 0.27744547506961514, 0.3711663179303021, 0.2193906898542669, 0.2016028487559639, 0.23873438155490934, 0.19396437582528275, 0.21153292519963007, 0.2319742568592122, 0.1781573223333385, 0.17319143752954586, 0.17319132741461601, 0.1690976375298632, 0.1659683977137745, 0.16596788100423507, 0.16596591160971427, 0.16596403262079354, 0.16016073917564297, 0.19793301725890125, 0.1569353618524019, 0.15693408788930127, 0.15576501452255237, 0.155763311213596, 0.15576170380413137, 0.15576086473553025, 0.15576045076222925, 0.2275017055425302, 0.15309685354046373, 0.15100175206468933, 0.17953803298067936, 0.14952047467409904, 0.3398679360266787, 0.19897928915825655, 0.2857559363613756, 0.18950962214954306, 0.1816120884783313, 0.48714002985023547, 0.2451591964612257, 0.1713995263980268, 0.22514919481691656, 0.1821440124573872, 0.26103104498506335, 0.3395619199540946, 0.6487234894022119, 0.3875530336787532, 0.6180320549847668, 0.22485076662592554, 0.27972618651046854, 0.4852180635353671, 0.34096142108351957, 0.4241832204259135, 0.26989219797407915, 0.4963838843367466, 0.4389323891756387, 0.3926555245487701, 0.45331939760556356, 0.2946158282688932, 0.4548168662021419, 0.3115717798685427, 0.36234153761093224, 0.45111087832197155, 0.39976043190226945, 0.42277236102289684, 0.42178170719831404, 0.32778942179516923, 0.3409122109418456, 0.33125292798848943, 0.3240186728172433, 0.36901283028366877, 0.35858567760733673, 0.340100415968343, 0.3508554049724668, 0.34141676664499626, 0.31286888619264636, 0.20229880562855998, 0.19993441721865882, 0.1999263751401218, 0.19526647296949767, 0.1710341928072804, 0.1710341271411382, 0.17667351261541914, 0.18316797752170433, 0.25845946417999743, 0.15935113071281135, 0.15815075419927527, 0.15044991675248143, 0.15044805764994582, 0.1349114805382455, 0.14622972300672388, 0.13162954893281784, 0.131629366700732, 0.1512237677519652, 0.1512302613699622, 0.129659084750645, 0.12879088243146716, 0.12878875577443516, 0.12572705016288943, 0.1238222301267946, 0.12382175515367622, 0.12382033313089, 0.12087863590974454, 0.12087784459949981, 0.12087639899458773, 0.17490985127055983, 0.16998704803868214, 0.17712979500635787, 0.2298012704453706, 0.18167222707054975, 0.19946551487043576, 0.21365760734096542, 0.3291857502599809, 0.2174978819405916, 0.16175111529801456, 0.16334784648476114, 0.2218167682786721, 0.258886725259395, 0.206699713447615, 0.3135133491556637, 0.3997856224775006, 0.27358409994267324, 0.22089885497172534, 0.20536662386931934, 0.34473034957100224, 0.21835000463764478, 0.3123457628266631, 0.27991287554281624, 0.2789967345920254, 0.2959637368338801, 0.2740974530005068, 0.3090960844459289, 0.3174461738060902, 0.26086723747112905, 0.27444518121872935, 0.2918672322477912, 0.26590747883158666, 0.24070419724637168, 0.2653966786999449, 0.2487540009708287, 0.2815744804813606, 0.276931537851127, 0.24021413887312665, 0.25577137359757707, 0.2585232958216077, 0.2366377884456642, 0.23424183113430894, 0.2412237229225672, 0.23273238068946583, 0.2987724282902244, 0.23617775598188312, 0.20201314685760194, 0.1856012522213307, 0.18531030445622282, 0.16729019639012757, 0.16664712303341342, 0.15052373434476343, 0.14463276434267944, 0.1446319905812134, 0.14463088883496686, 0.14437789343392537, 0.14280241084795445, 0.14280172887448334, 0.14280114538694638, 0.23129431483403662, 0.13671598893489492, 0.13537651272854334, 0.13537565873750643, 0.13537537575628622, 0.15672765249994272, 0.1263067118217432, 0.13811042108877938, 0.12127026331674765, 0.12114207383148537, 0.11976083883995745, 0.11805143671048625, 0.13336861597427707, 0.11723907518896394, 0.11723899181365001, 0.2680446108053861, 0.17250637019982779, 0.2683590306810616, 0.20883143460813064, 0.20269678832061266, 0.13994785397035653, 0.20727906174214264, 0.3912206488450565, 0.19231477986492684, 0.2049660925177404, 0.20580786245064883, 0.16810493213415323, 0.3168794806095407, 0.37459632583015245, 0.3397888425642665, 0.3946153873835971, 0.32352217552561546, 0.23472581227254163, 0.35074772781122465, 0.28440475138294874, 0.21445157175117177, 0.3143114273744335, 0.2896542446629877, 0.24040645412614017, 0.24556877885059897, 0.2816516684134914, 0.2643875522095345, 0.24024795886759615, 0.23623288454298147, 0.2650680621736926, 0.23678342014527942, 0.2637551810874895, 0.2535208641193969, 0.2653840398475934, 0.2641199096681634, 0.25699193409967225, 0.23960541908305433, 0.24009873090421982], \"Total\": [5.0, 1.0, 1.0, 1.0, 3.0, 3.0, 1.0, 1.0, 2.0, 1.0, 0.0, 1.0, 2.0, 1.0, 1.0, 0.0, 2.0, 0.0, 1.0, 0.0, 1.0, 0.0, 1.0, 1.0, 1.0, 1.0, 2.0, 1.0, 2.0, 1.0, 0.8461333945612317, 0.7833140477995685, 0.7445364825830983, 0.8781788092059478, 1.4424530531928563, 0.8118521221595774, 0.7134445617096105, 0.7081583178439464, 0.7071982265636884, 1.131650421180653, 0.6983686439668501, 0.6845613134730959, 1.003586264004812, 1.0431472120532128, 0.7185138448974333, 0.6548384773474066, 0.6472281240120221, 0.8181587804123761, 0.6442156443458661, 0.8195273168823631, 0.8125912994617285, 1.1894557876227236, 0.7571663033543643, 1.0695762355451572, 0.633933965019824, 0.6334805434616357, 0.632762023423294, 0.6324622478637032, 0.6324610634011059, 0.629131381427702, 0.6891680339773228, 1.8599884677125746, 1.7262154858692464, 1.7933078335937696, 2.136562393318413, 2.229851327643957, 1.681446544402484, 5.272498779665496, 2.397700852581021, 4.4083531603147765, 1.291167040297346, 4.72795592638115, 1.9973687651098317, 1.8629848760992331, 1.7436474126331192, 1.5439789184288588, 3.56011682105729, 4.1713787129798785, 2.4458188458979078, 2.252407192318839, 5.948292076430327, 2.9102081398544293, 4.850260752951923, 2.6864551779885737, 3.61752647446915, 2.7437454366508436, 5.346317866439969, 4.170217958829925, 5.250350108000053, 4.165161185319502, 4.414520471829916, 3.764697463059057, 5.903450332143624, 5.5026861798954405, 4.965736206221657, 3.989310449578238, 5.3210459674631245, 4.160615680871086, 3.3342372402410554, 3.6796060410982845, 4.72238240590568, 0.7438277711791844, 0.7454574392921601, 0.7062885059841341, 1.075490633057155, 1.0927522140421446, 0.6361251431194103, 1.4743766537106358, 0.7044878694228119, 0.6282081529093919, 0.6251259691953152, 0.804374763102392, 0.613433854825536, 0.6121588023635587, 0.6081177583823857, 0.6081176409173729, 0.6078368400054879, 0.6022149428191208, 0.6022140698763659, 0.601439417654263, 0.601438880300615, 0.832252074365376, 0.5955495245721452, 0.5955492783739967, 0.7829946379723606, 0.5946817761990337, 0.5946818194924645, 0.6423636918429357, 0.5902934086944066, 0.8063933391098229, 0.5840634150320189, 0.6825624272238169, 0.817042628807851, 0.9711688901804773, 1.1764627086458035, 1.0428216136559003, 0.9996339846214861, 2.8225630298176387, 2.886922898839183, 1.1576457100148763, 3.460841974327548, 0.7772801690184312, 0.8564785498469558, 4.965736206221657, 1.9179854863903552, 3.764697463059057, 1.900329798700944, 3.5263023103900415, 4.850260752951923, 3.3951552282183664, 2.565922181394036, 1.4594402884968782, 1.793397156079103, 2.615912410072999, 2.419430991246185, 3.681383795645101, 1.5357434737032112, 2.945087949009197, 2.040496147703339, 4.035940889973736, 4.72238240590568, 4.354515226192405, 3.5921157414338043, 5.346317866439969, 3.3342372402410554, 3.373932234562543, 3.762876819512145, 3.5076890706107533, 3.1105154647804265, 3.1862850641875218, 5.250350108000053, 5.903450332143624, 5.286060736137593, 5.272498779665496, 5.948292076430327, 3.709252505614908, 3.976847152242661, 1.5990894891672371, 0.7347353955906654, 0.7197599051438438, 0.7053689297300219, 0.7052485070490424, 0.7015668346812799, 0.9251410746963776, 1.8695894548306256, 0.6475336186189241, 0.7149703892577595, 0.6356967489268021, 0.6293136748463954, 0.6293128730977838, 0.6872068131195592, 0.6153342521637452, 0.9301351865548935, 0.608035515093369, 0.605872505556665, 0.6033811806401922, 0.5998406542015845, 0.7384536339755013, 0.6535975108748584, 0.5837891205419914, 0.5837880758467862, 0.582525556335465, 0.5825252658027025, 0.5825250493077985, 0.700758836500626, 0.5760379955169256, 0.6890603312521062, 0.9625571398413536, 0.886868026021335, 5.638991364250428, 1.1926649107837912, 1.0389560589077713, 1.152320964041868, 1.4319821214172672, 1.750201983350911, 1.6358275293709692, 1.7681846110808868, 3.678127384516422, 3.1459161154055786, 2.612476632607023, 3.989310449578238, 2.726761953868028, 2.8225630298176387, 1.6007676811218317, 1.8608729680220284, 4.035940889973736, 1.9062902503263393, 5.5026861798954405, 5.250350108000053, 2.732938210706518, 2.2926679610935325, 4.216210893791424, 3.762876819512145, 2.945087949009197, 5.903450332143624, 4.414520471829916, 2.554702277099202, 5.272498779665496, 5.286060736137593, 4.519194726798375, 5.346317866439969, 2.695048534740428, 3.2005843692838676, 3.6588498802732605, 4.389839812567561, 4.72795592638115, 5.948292076430327, 5.3210459674631245, 3.3066977603428307, 4.750562716309001, 0.6722636426052331, 0.6711906461549296, 0.664474348565377, 0.7542925200674545, 1.5052344840448364, 0.6140630118209891, 0.6071224982079091, 0.6056124926835561, 0.5979532925875827, 0.5977864724474602, 0.6854794143004916, 0.5956718730672785, 0.5935592409474796, 0.9840264044574039, 0.5882675936769862, 0.7823198248309011, 0.587167511423244, 0.5867988072740946, 0.5867988584653083, 0.8415224569141914, 1.084619382289528, 0.8273894507661279, 0.7595421831028932, 0.5762067568605993, 0.5762067507050461, 0.6090665764165912, 0.6151188851866973, 0.7403605093716574, 0.5659584866485381, 1.511647064592192, 1.014143610284642, 1.3144624189742677, 2.0675647685896106, 1.7756188665536565, 2.260707705356023, 2.312168571823923, 2.317732053832052, 1.7906695883464006, 2.862867815671957, 3.0547705366606754, 2.034745446812312, 1.265682111723798, 1.1955131862392738, 2.9404668398000666, 3.1548630134421356, 1.6508639769117768, 3.6588498802732605, 3.6796060410982845, 4.097292650753999, 4.72238240590568, 5.903450332143624, 5.346317866439969, 4.4083531603147765, 5.286060736137593, 3.2005843692838676, 3.762876819512145, 5.948292076430327, 4.170217958829925, 4.850260752951923, 5.638991364250428, 4.354515226192405, 4.72795592638115, 5.5026861798954405, 4.965736206221657, 5.250350108000053, 0.7822342807164897, 0.6902573100887145, 0.8050537505234577, 0.9531106278186925, 0.7163393466986033, 0.6668377570342755, 0.624438930917159, 0.8672275786657296, 0.6205263657648208, 1.318866968939204, 0.6556992417530177, 1.0266438013049677, 0.5946932435527041, 0.5946932341033189, 0.5826395655354724, 0.5826394728222072, 0.5823670045569321, 0.5820721154968025, 0.6088647153056472, 0.5810552040307038, 0.5792760668040727, 0.7505119085466689, 0.5779349669249486, 0.5764470533597919, 0.5764465782017293, 0.6210044661902361, 0.7838375645570459, 0.5707178583691294, 0.5707175788634367, 1.330140858930055, 0.9838251011665832, 1.2352958098335562, 1.8941127574239771, 0.9398277496992207, 3.024600870389412, 2.6506448015414676, 0.9832002695020965, 4.035534444580946, 3.5921157414338043, 1.0234674733225375, 1.4537133643367277, 1.7172182778066778, 2.038407706461189, 4.389839812567561, 2.7843325888642965, 3.3066977603428307, 4.519194726798375, 2.673011061730457, 5.346317866439969, 5.5026861798954405, 5.286060736137593, 5.3210459674631245, 3.5427526713831354, 2.92640979334553, 3.251226938055665, 3.417058031320198, 5.948292076430327, 2.3632704388122314, 4.165161185319502, 4.750562716309001, 3.477905811868729, 5.903450332143624, 5.638991364250428, 4.160615680871086, 4.72238240590568, 4.965736206221657, 4.414520471829916, 3.373932234562543, 4.170217958829925, 0.6559677689002761, 0.6343403717561262, 0.6243968932836553, 0.6233005244014077, 0.6185773445952853, 0.617066507101714, 0.6157502754369408, 1.1323626344853213, 0.647471187751467, 0.6418870495938886, 0.5893205348517689, 0.5893206420042006, 0.7252104398389401, 0.6335725462971734, 0.5807336425864261, 0.6812592848341835, 0.5759701553877096, 0.5759706948663942, 0.8048595635457279, 0.5667512169751705, 0.6374909991666271, 0.5595667563307238, 0.5595668264242052, 0.5595668543560994, 0.559566780717157, 0.5595668963672672, 0.5581064926379672, 0.5581063383833685, 0.5581065215169021, 0.5562798083466437, 0.6732358889775975, 1.6508639769117768, 0.8524034315061418, 1.2857632262585301, 1.3968018123635946, 0.8203712179222729, 1.4769201026817325, 3.678127384516422, 1.265682111723798, 0.939197798899791, 5.638991364250428, 2.612476632607023, 2.040496147703339, 1.4304334893673334, 2.9404668398000666, 3.5446034354718465, 3.075748612063882, 5.272498779665496, 1.197730205982102, 5.3210459674631245, 3.158139326468462, 5.5026861798954405, 4.170217958829925, 2.308030435120315, 5.903450332143624, 5.948292076430327, 4.72238240590568, 3.6588498802732605, 3.1231399357689695, 1.7940294394720617, 2.8427203985614, 2.5926159063777705, 3.0642202773251297, 4.965736206221657, 2.433122676006029, 4.750562716309001, 4.035534444580946, 3.976847152242661, 5.346317866439969, 4.414520471829916, 0.7962088201981838, 0.6754251211093832, 1.2016801647802275, 0.7114777759056284, 0.6065427904478382, 0.598933111286858, 0.595148625131428, 0.5835560884409392, 0.9568488813123951, 0.5640502516987885, 0.5640505189333725, 0.5572285772671457, 0.8468395591253579, 0.6327913377297522, 0.5490731106372624, 0.5479102196795245, 0.5479101690960035, 0.5477421875578752, 0.5477423765737839, 0.5457377012423739, 0.5457377854865767, 0.5404273009397356, 0.5397368419443305, 0.6076008925558349, 0.5391761475195671, 0.5390690339280179, 0.6509869262198911, 0.5363457839483612, 0.6703910026385859, 0.5328052003960208, 0.7275101912885643, 0.9376737841318756, 1.4839486088015084, 1.7782075016795154, 0.9200672205355701, 1.2094571902513573, 2.0615283477289483, 0.8491127503219137, 2.909794107767804, 4.1713787129798785, 1.2379496957131828, 1.128656300624577, 0.8449158732096451, 1.7820770904501355, 4.165161185319502, 4.097292650753999, 5.250350108000053, 2.673011061730457, 1.812988279663422, 2.419430991246185, 1.5522475937024027, 2.378179747151161, 3.0642202773251297, 2.27424396385222, 4.216210893791424, 2.8830470420036893, 3.1548630134421356, 5.948292076430327, 5.286060736137593, 3.4384341030153567, 5.903450332143624, 5.5026861798954405, 3.764697463059057, 2.8971355914114327, 4.354515226192405, 4.750562716309001, 4.389839812567561, 3.5263023103900415, 4.965736206221657, 4.160615680871086, 4.72795592638115, 0.6507994093551548, 0.995737055518695, 0.5927463597140733, 0.5749514687788431, 0.6838211232898653, 0.5673078141527543, 0.6258757693914702, 0.704721258808083, 0.5515039744620363, 0.5465417862134263, 0.5465417949433985, 0.5424438628909838, 0.5393132822653087, 0.5393135328435351, 0.5393136377840694, 0.5393140978422722, 0.5335084894495645, 0.6601220681174518, 0.5302793501768277, 0.5302798115525571, 0.5291079321293019, 0.529108373196696, 0.5291085767603658, 0.529108585655468, 0.5291086138404689, 0.7803793345085153, 0.5264405815004634, 0.524344520122818, 0.6252090572521274, 0.5228612343214051, 1.1894557876227236, 0.6965999769787296, 1.0977255816279219, 0.68636588087438, 0.6488673494505, 2.532358016629675, 1.0450114847248742, 0.6106506309913121, 0.9330422499917278, 0.6706125247908162, 1.1982927202030658, 1.8825412433051216, 5.638991364250428, 2.462004015434676, 5.903450332143624, 0.9647094528667355, 1.4995052644380384, 4.519194726798375, 2.2521761135895786, 3.709252505614908, 1.4398410883889052, 5.3210459674631245, 4.097292650753999, 3.2802795459522507, 4.750562716309001, 1.8223063539195767, 5.5026861798954405, 2.1426758368600445, 3.2005843692838676, 5.948292076430327, 4.389839812567561, 5.286060736137593, 5.250350108000053, 2.5961812766460244, 2.9679162729468693, 2.8427203985614, 2.6339581071032123, 4.4083531603147765, 4.160615680871086, 3.5427526713831354, 4.72238240590568, 4.72795592638115, 2.862867815671957, 0.580060589382953, 0.5777031976666993, 0.5777060433315343, 0.5730351795629633, 0.548794716717185, 0.5487945909578509, 0.5748596715541384, 0.6044756367302438, 0.8684070366865453, 0.5371088099265943, 0.5359069202300393, 0.5282084903102385, 0.5282092679423983, 0.5126716129086426, 0.5574217790382853, 0.5093882122280864, 0.5093883141360658, 0.5879224131580009, 0.5897087689307118, 0.5074122178688865, 0.5065486970276551, 0.5065493982924582, 0.5034832574730477, 0.5015783555061245, 0.5015785235776672, 0.5015788917753475, 0.4986333059198443, 0.49863352583041964, 0.49863423666804196, 0.7240078227179403, 0.7052828138061905, 0.746729546915115, 0.985428652198392, 0.7917070000862698, 0.8892096587001774, 0.992445867781528, 1.7298126285602264, 1.0257860297777703, 0.7273393697599216, 0.7408192225058007, 1.226448963586028, 1.633162212687608, 1.1974610606515803, 2.886922898839183, 4.850260752951923, 2.1892899460255903, 1.3968018123635946, 1.2081324868063126, 4.750562716309001, 1.5027614307278157, 4.354515226192405, 3.1548630134421356, 3.1862850641875218, 4.216210893791424, 3.417058031320198, 5.250350108000053, 5.948292076430327, 2.8755502234237507, 3.56011682105729, 5.286060736137593, 3.635430530097888, 2.312168571823923, 3.764697463059057, 2.735982166934034, 5.903450332143624, 5.5026861798954405, 2.595309305751866, 4.519194726798375, 5.346317866439969, 2.5059840218855824, 2.3631435052973027, 3.477905811868729, 2.702934846374544, 0.7591256993788593, 0.6741633267287452, 0.5814333766619576, 0.5650141855220319, 0.5647243399263102, 0.546695954572393, 0.546059484108146, 0.5299379436725783, 0.5240446728335223, 0.5240448314715858, 0.5240454539932966, 0.5237874321807638, 0.5222139419509418, 0.5222143053947126, 0.5222144763675789, 0.8712062172925044, 0.5161254408792136, 0.5147851351473154, 0.5147855788273845, 0.5147857828478513, 0.6154857748423083, 0.5057120876028822, 0.5555572777304245, 0.5006729508010487, 0.5005509082904145, 0.49916417377598565, 0.4974553452604174, 0.5629018598799025, 0.49664595392097033, 0.4966458715416005, 1.1696436973326572, 0.745205485716379, 1.2550670399712394, 0.992445867781528, 0.9636479617852298, 0.6094774989690667, 1.0555330298605172, 2.8980961339658773, 0.9991435813604853, 1.1323626344853213, 1.2197104516245723, 0.8058294263555221, 3.024600870389412, 4.389839812567561, 3.5921157414338043, 5.3210459674631245, 3.477905811868729, 1.7017672469766385, 4.519194726798375, 2.732938210706518, 1.3838204724956515, 3.681383795645101, 3.2802795459522507, 2.0423405339289715, 2.27424396385222, 3.5427526713831354, 2.909794107767804, 2.532358016629675, 2.5059840218855824, 4.750562716309001, 2.5907408913463232, 5.250350108000053, 4.1713787129798785, 5.903450332143624, 5.948292076430327, 5.286060736137593, 3.0547705366606754, 3.5446034354718465], \"logprob\": [30.0, 29.0, 28.0, 27.0, 26.0, 25.0, 24.0, 23.0, 22.0, 21.0, 20.0, 19.0, 18.0, 17.0, 16.0, 15.0, 14.0, 13.0, 12.0, 11.0, 10.0, 9.0, 8.0, 7.0, 6.0, 5.0, 4.0, 3.0, 2.0, 1.0, -7.1292, -7.2376, -7.3321, -7.17, -6.6901, -7.2783, -7.4148, -7.4296, -7.4323, -6.9713, -7.4575, -7.4984, -7.1433, -7.1123, -7.4943, -7.5923, -7.6178, -7.3837, -7.6281, -7.3882, -7.4022, -7.0257, -7.4851, -7.1404, -7.6641, -7.6657, -7.6682, -7.6693, -7.6693, -7.6813, -7.5913, -6.6439, -6.7518, -6.728, -6.5883, -6.5564, -6.8095, -5.8431, -6.5311, -6.099, -7.0641, -6.0872, -6.7393, -6.7953, -6.8646, -6.9518, -6.404, -6.3165, -6.6748, -6.7273, -6.1692, -6.6041, -6.329, -6.66, -6.5245, -6.6778, -6.3876, -6.5166, -6.4255, -6.5235, -6.5207, -6.5881, -6.5029, -6.529, -6.5655, -6.629, -6.6061, -6.6383, -6.6713, -6.6639, -6.6697, -7.1289, -7.1779, -7.2323, -6.8142, -6.8744, -7.4599, -6.6293, -7.3737, -7.4892, -7.5008, -7.2579, -7.5462, -7.5513, -7.5676, -7.5676, -7.5687, -7.5918, -7.5918, -7.5951, -7.5951, -7.2764, -7.6199, -7.6199, -7.3479, -7.6237, -7.6237, -7.5575, -7.6427, -7.3315, -7.6703, -7.5168, -7.342, -7.185, -7.011, -7.1205, -7.18, -6.302, -6.2983, -7.0684, -6.2138, -7.3988, -7.33, -6.0702, -6.7508, -6.2757, -6.7677, -6.366, -6.2062, -6.4679, -6.6612, -7.0014, -6.8839, -6.6817, -6.7288, -6.5351, -6.9906, -6.676, -6.8531, -6.5581, -6.4992, -6.5491, -6.6502, -6.4954, -6.6936, -6.6914, -6.655, -6.6881, -6.7245, -6.7233, -6.6122, -6.5995, -6.6398, -6.6879, -6.699, -6.7201, -6.7198, -6.2337, -7.1359, -7.1769, -7.2178, -7.2182, -7.229, -6.9591, -6.331, -7.402, -7.3173, -7.4442, -7.4678, -7.4678, -7.3905, -7.5214, -7.12, -7.5505, -7.5594, -7.5696, -7.5844, -7.38, -7.519, -7.6541, -7.6541, -7.6598, -7.6598, -7.6598, -7.4825, -7.6896, -7.5124, -7.1867, -7.2729, -5.6817, -7.0434, -7.1659, -7.0849, -6.9174, -6.763, -6.8272, -6.7725, -6.2274, -6.3745, -6.5164, -6.2965, -6.5559, -6.5414, -6.9115, -6.8304, -6.3818, -6.8396, -6.2853, -6.3185, -6.6644, -6.7754, -6.5022, -6.5743, -6.6737, -6.4128, -6.5308, -6.7381, -6.4762, -6.4803, -6.5589, -6.5119, -6.7296, -6.682, -6.6462, -6.608, -6.6231, -6.6314, -6.651, -6.7307, -6.7265, -7.2515, -7.255, -7.2772, -7.1534, -6.5454, -7.4612, -7.4894, -7.4956, -7.5279, -7.5286, -7.3965, -7.5377, -7.5469, -7.0508, -7.5702, -7.2853, -7.5752, -7.5769, -7.5769, -7.2217, -6.9749, -7.254, -7.3439, -7.6257, -7.6257, -7.5867, -7.5806, -7.3993, -7.6752, -6.7207, -7.1324, -6.9038, -6.538, -6.6925, -6.5098, -6.5777, -6.6195, -6.7995, -6.4859, -6.4841, -6.7501, -7.055, -7.0996, -6.5931, -6.5582, -6.9324, -6.5685, -6.5768, -6.5594, -6.5007, -6.4207, -6.4635, -6.5459, -6.4804, -6.6847, -6.6284, -6.4837, -6.6167, -6.5832, -6.5817, -6.6804, -6.6998, -6.6922, -6.7336, -6.7315, -7.0508, -7.1866, -7.0795, -6.932, -7.2336, -7.3422, -7.4127, -7.0897, -7.428, -6.7134, -7.4212, -6.9768, -7.5346, -7.5346, -7.5885, -7.5885, -7.5898, -7.5911, -7.5487, -7.5958, -7.6041, -7.3475, -7.6104, -7.6174, -7.6174, -7.546, -7.318, -7.6449, -7.6449, -6.8121, -7.1151, -6.921, -6.6314, -7.2249, -6.2925, -6.4409, -7.2008, -6.2419, -6.3701, -7.2123, -6.9853, -6.8907, -6.7901, -6.3179, -6.6044, -6.5179, -6.3626, -6.6519, -6.2798, -6.2712, -6.3008, -6.3107, -6.5256, -6.6334, -6.5815, -6.5852, -6.3552, -6.7569, -6.5502, -6.5057, -6.6168, -6.4375, -6.4695, -6.5684, -6.5604, -6.5589, -6.6307, -6.6918, -6.7088, -7.137, -7.2157, -7.254, -7.2584, -7.2772, -7.2833, -7.2887, -6.6963, -7.3031, -7.3152, -7.4025, -7.4025, -7.2081, -7.3507, -7.4424, -7.2832, -7.4653, -7.4653, -7.1331, -7.5111, -7.4097, -7.5483, -7.5483, -7.5483, -7.5483, -7.5483, -7.556, -7.556, -7.556, -7.5658, -7.3828, -6.5706, -7.1742, -6.8212, -6.7623, -7.2276, -6.799, -6.1174, -6.9281, -7.1709, -6.0111, -6.5411, -6.7079, -6.9465, -6.5556, -6.4622, -6.548, -6.327, -7.0528, -6.3912, -6.6228, -6.4168, -6.5545, -6.7965, -6.431, -6.4445, -6.5532, -6.6469, -6.7049, -6.9044, -6.7721, -6.8056, -6.7832, -6.6741, -6.8493, -6.7455, -6.7723, -6.7916, -6.7891, -6.7974, -6.693, -7.0275, -6.5188, -7.0992, -7.2843, -7.3171, -7.3339, -7.3871, -6.9335, -7.4835, -7.4835, -7.5196, -7.119, -7.4113, -7.5644, -7.571, -7.571, -7.572, -7.572, -7.5834, -7.5834, -7.6143, -7.6184, -7.5017, -7.6217, -7.6223, -7.4346, -7.6387, -7.4171, -7.6604, -7.3575, -7.1385, -6.7553, -6.6816, -7.2147, -7.0402, -6.7471, -7.3065, -6.5526, -6.3406, -7.0873, -7.1444, -7.3174, -6.8979, -6.4548, -6.4716, -6.3587, -6.7183, -6.9192, -6.7952, -7.0065, -6.8157, -6.7115, -6.8452, -6.5926, -6.774, -6.7702, -6.5787, -6.6227, -6.7794, -6.6352, -6.6733, -6.7807, -6.8423, -6.7597, -6.7429, -6.7814, -6.814, -6.8019, -6.8208, -6.8311, -7.016, -6.725, -7.2508, -7.3353, -7.1663, -7.3739, -7.2872, -7.195, -7.4589, -7.4872, -7.4872, -7.5111, -7.5298, -7.5298, -7.5298, -7.5298, -7.5654, -7.3537, -7.5858, -7.5858, -7.5933, -7.5933, -7.5933, -7.5933, -7.5933, -7.2145, -7.6105, -7.6243, -7.4512, -7.6342, -6.8131, -7.3484, -6.9865, -7.3972, -7.4397, -6.4531, -7.1397, -7.4976, -7.2249, -7.4368, -7.077, -6.814, -6.1666, -6.6818, -6.2151, -7.2262, -7.0078, -6.457, -6.8098, -6.5915, -7.0436, -6.4343, -6.5573, -6.6687, -6.525, -6.9559, -6.5217, -6.9, -6.749, -6.5299, -6.6508, -6.5948, -6.5971, -6.8492, -6.81, -6.8387, -6.8608, -6.7308, -6.7594, -6.8124, -6.7812, -6.8085, -6.8958, -7.1388, -7.1505, -7.1506, -7.1742, -7.3067, -7.3067, -7.2742, -7.2381, -6.8938, -7.3774, -7.385, -7.4349, -7.4349, -7.5439, -7.4633, -7.5685, -7.5685, -7.4298, -7.4297, -7.5836, -7.5903, -7.5903, -7.6144, -7.6297, -7.6297, -7.6297, -7.6537, -7.6537, -7.6537, -7.2842, -7.3128, -7.2716, -7.0113, -7.2463, -7.1529, -7.0841, -6.6519, -7.0663, -7.3625, -7.3526, -7.0467, -6.8921, -7.1173, -6.7007, -6.4576, -6.8369, -7.0508, -7.1237, -6.6058, -7.0624, -6.7044, -6.814, -6.8173, -6.7583, -6.835, -6.7149, -6.6882, -6.8845, -6.8338, -6.7722, -6.8654, -6.9649, -6.8673, -6.9321, -6.8081, -6.8247, -6.967, -6.9042, -6.8935, -6.982, -6.9922, -6.9628, -6.9986, -6.6656, -6.9007, -7.0569, -7.1416, -7.1432, -7.2455, -7.2494, -7.3511, -7.3911, -7.3911, -7.3911, -7.3928, -7.4038, -7.4038, -7.4038, -6.9216, -7.4473, -7.4572, -7.4572, -7.4572, -7.3107, -7.5265, -7.4372, -7.5672, -7.5683, -7.5798, -7.5941, -7.4721, -7.601, -7.601, -6.7741, -7.2148, -6.7729, -7.0237, -7.0535, -7.424, -7.0312, -6.396, -7.1061, -7.0424, -7.0383, -7.2407, -6.6067, -6.4394, -6.5369, -6.3873, -6.586, -6.9068, -6.5052, -6.7148, -6.9972, -6.6149, -6.6966, -6.8829, -6.8617, -6.7246, -6.7878, -6.8836, -6.9004, -6.7853, -6.8981, -6.7902, -6.8298, -6.7841, -6.7888, -6.8162, -6.8863, -6.8842]}};\n",
       "\n",
       "function LDAvis_load_lib(url, callback){\n",
       "  var s = document.createElement('script');\n",
       "  s.src = url;\n",
       "  s.async = true;\n",
       "  s.onreadystatechange = s.onload = callback;\n",
       "  s.onerror = function(){console.warn(\"failed to load library \" + url);};\n",
       "  document.getElementsByTagName(\"head\")[0].appendChild(s);\n",
       "}\n",
       "\n",
       "if(typeof(LDAvis) !== \"undefined\"){\n",
       "   // already loaded: just create the visualization\n",
       "   !function(LDAvis){\n",
       "       new LDAvis(\"#\" + \"ldavis_el73163083029768827978614\", ldavis_el73163083029768827978614_data);\n",
       "   }(LDAvis);\n",
       "}else if(typeof define === \"function\" && define.amd){\n",
       "   // require.js is available: use it to load d3/LDAvis\n",
       "   require.config({paths: {d3: \"https://cdnjs.cloudflare.com/ajax/libs/d3/3.5.5/d3.min\"}});\n",
       "   require([\"d3\"], function(d3){\n",
       "      window.d3 = d3;\n",
       "      LDAvis_load_lib(\"https://cdn.rawgit.com/bmabey/pyLDAvis/files/ldavis.v1.0.0.js\", function(){\n",
       "        new LDAvis(\"#\" + \"ldavis_el73163083029768827978614\", ldavis_el73163083029768827978614_data);\n",
       "      });\n",
       "    });\n",
       "}else{\n",
       "    // require.js not available: dynamically load d3 & LDAvis\n",
       "    LDAvis_load_lib(\"https://cdnjs.cloudflare.com/ajax/libs/d3/3.5.5/d3.min.js\", function(){\n",
       "         LDAvis_load_lib(\"https://cdn.rawgit.com/bmabey/pyLDAvis/files/ldavis.v1.0.0.js\", function(){\n",
       "                 new LDAvis(\"#\" + \"ldavis_el73163083029768827978614\", ldavis_el73163083029768827978614_data);\n",
       "            })\n",
       "         });\n",
       "}\n",
       "</script>"
      ],
      "text/plain": [
       "PreparedData(topic_coordinates=            Freq  cluster  topics         x         y\n",
       "topic                                                \n",
       "6      15.310289  1        1      -0.025663 -0.021131\n",
       "1      12.195059  1        2      -0.009970 -0.010553\n",
       "2      11.995918  1        3      -0.024737  0.023335\n",
       "3      11.105934  1        4      -0.005801  0.004761\n",
       "7      10.994248  1        5       0.012749 -0.013599\n",
       "8      9.199527   1        6       0.005622  0.024445\n",
       "5      8.768484   1        7       0.008744 -0.010114\n",
       "4      7.909818   1        8       0.007959 -0.003815\n",
       "9      6.520859   1        9       0.011113  0.002394\n",
       "0      5.999864   1        10      0.019984  0.004279, topic_info=     Category      Freq         Term     Total  loglift  logprob\n",
       "term                                                            \n",
       "1502  Default  5.000000  tsa          5.000000  30.0000  30.0000\n",
       "4627  Default  1.000000  pre          1.000000  29.0000  29.0000\n",
       "2589  Default  1.000000  library      1.000000  28.0000  28.0000\n",
       "1501  Default  1.000000  de           1.000000  27.0000  27.0000\n",
       "3755  Default  3.000000  helpful      3.000000  26.0000  26.0000\n",
       "3434  Default  3.000000  airport      3.000000  25.0000  25.0000\n",
       "3084  Default  1.000000  fly          1.000000  24.0000  24.0000\n",
       "2897  Default  1.000000  ir           1.000000  23.0000  23.0000\n",
       "456   Default  2.000000  vote         2.000000  22.0000  22.0000\n",
       "41    Default  1.000000  passport     1.000000  21.0000  21.0000\n",
       "1783  Default  0.000000  eh           0.000000  20.0000  20.0000\n",
       "3653  Default  1.000000  fun          1.000000  19.0000  19.0000\n",
       "636   Default  2.000000  ap           2.000000  18.0000  18.0000\n",
       "1417  Default  1.000000  appreciate   1.000000  17.0000  17.0000\n",
       "788   Default  1.000000  checkpoint   1.000000  16.0000  16.0000\n",
       "2258  Default  0.000000  sprinter     0.000000  15.0000  15.0000\n",
       "1709  Default  2.000000  terminal     2.000000  14.0000  14.0000\n",
       "1715  Default  0.000000  entrance     0.000000  13.0000  13.0000\n",
       "2092  Default  1.000000  ye           1.000000  12.0000  12.0000\n",
       "4551  Default  0.000000  liquid       0.000000  11.0000  11.0000\n",
       "1078  Default  1.000000  counter      1.000000  10.0000  10.0000\n",
       "1863  Default  0.000000  title        0.000000  9.0000   9.0000 \n",
       "5026  Default  1.000000  rtc          1.000000  8.0000   8.0000 \n",
       "357   Default  1.000000  jury         1.000000  7.0000   7.0000 \n",
       "4451  Default  1.000000  sometime     1.000000  6.0000   6.0000 \n",
       "1370  Default  1.000000  daughter     1.000000  5.0000   5.0000 \n",
       "920   Default  2.000000  location     2.000000  4.0000   4.0000 \n",
       "534   Default  1.000000  s            1.000000  3.0000   3.0000 \n",
       "3095  Default  2.000000  agent        2.000000  2.0000   2.0000 \n",
       "2632  Default  1.000000  dmv          1.000000  1.0000   1.0000 \n",
       "...       ...       ...    ...             ...     ...      ... \n",
       "5456  Topic10  0.192315  leak         0.999144  1.1657  -7.1061 \n",
       "2589  Topic10  0.204966  library      1.132363  1.1042  -7.0424 \n",
       "666   Topic10  0.205808  appointment  1.219710  1.0340  -7.0383 \n",
       "3861  Topic10  0.168105  dad          0.805829  1.2461  -7.2407 \n",
       "3755  Topic10  0.316879  helpful      3.024601  0.5574  -6.6067 \n",
       "4029  Topic10  0.374596  like         4.389840  0.3522  -6.4394 \n",
       "2341  Topic10  0.339789  friendly     3.592116  0.4553  -6.5369 \n",
       "3056  Topic10  0.394615  wait         5.321046  0.2119  -6.3873 \n",
       "5172  Topic10  0.323522  nice         3.477906  0.4385  -6.5860 \n",
       "4113  Topic10  0.234726  hate         1.701767  0.8324  -6.9068 \n",
       "1425  Topic10  0.350748  office       4.519195  0.2574  -6.5052 \n",
       "4236  Topic10  0.284405  rail         2.732938  0.5507  -6.7148 \n",
       "3376  Topic10  0.214452  file         1.383820  0.9489  -6.9972 \n",
       "1391  Topic10  0.314311  work         3.681384  0.3528  -6.6149 \n",
       "3493  Topic10  0.289654  good         3.280280  0.3864  -6.6966 \n",
       "3796  Topic10  0.240406  30           2.042341  0.6739  -6.8829 \n",
       "1800  Topic10  0.245569  care         2.274244  0.5876  -6.8617 \n",
       "3170  Topic10  0.281652  long         3.542753  0.2814  -6.7246 \n",
       "713   Topic10  0.264388  door         2.909794  0.4150  -6.7878 \n",
       "920   Topic10  0.240248  location     2.532358  0.4582  -6.8836 \n",
       "4059  Topic10  0.236233  guard        2.505984  0.4518  -6.9004 \n",
       "1593  Topic10  0.265068  security     4.750563 -0.0726  -6.7853 \n",
       "5369  Topic10  0.236783  job          2.590741  0.4209  -6.8981 \n",
       "322   Topic10  0.263755  time         5.250350 -0.1776  -6.7902 \n",
       "4502  Topic10  0.253521  water        4.171379  0.0129  -6.8298 \n",
       "2334  Topic10  0.265384  go           5.903450 -0.2887  -6.7841 \n",
       "3234  Topic10  0.264120  get          5.948292 -0.3010  -6.7888 \n",
       "271   Topic10  0.256992  people       5.286061 -0.2104  -6.8162 \n",
       "2382  Topic10  0.239605  ride         3.054771  0.2680  -6.8863 \n",
       "2678  Topic10  0.240099  even         3.544603  0.1213  -6.8842 \n",
       "\n",
       "[739 rows x 6 columns], token_table=      Topic      Freq        Term\n",
       "term                             \n",
       "464   2      0.320191  2         \n",
       "3324  1      0.443969  4         \n",
       "4824  1      0.369968  5         \n",
       "3821  2      0.678253  account   \n",
       "2085  4      0.431456  actually  \n",
       "3095  3      0.382779  agent     \n",
       "3095  6      0.382779  agent     \n",
       "3434  3      0.271877  airport   \n",
       "3434  6      0.271877  airport   \n",
       "807   1      0.341716  also      \n",
       "807   5      0.341716  also      \n",
       "4540  5      0.374110  alway     \n",
       "636   2      0.346390  ap        \n",
       "1417  4      0.664348  appreciate\n",
       "575   6      0.325124  around    \n",
       "384   1      0.537638  awesome   \n",
       "3707  1      0.285088  back      \n",
       "3707  2      0.285088  back      \n",
       "2044  4      0.432494  base      \n",
       "3648  1      0.265626  bill      \n",
       "3648  2      0.265626  bill      \n",
       "3568  1      0.379657  build     \n",
       "4071  1      0.206174  bus       \n",
       "4071  2      0.206174  bus       \n",
       "4071  3      0.206174  bus       \n",
       "4071  4      0.206174  bus       \n",
       "1225  3      0.371051  ca        \n",
       "2711  1      0.240087  call      \n",
       "2711  2      0.240087  call      \n",
       "2711  5      0.240087  call      \n",
       "...  ..           ...   ...      \n",
       "1502  5      0.177337  tsa       \n",
       "1502  6      0.177337  tsa       \n",
       "1502  8      0.177337  tsa       \n",
       "4585  1      0.579302  turn      \n",
       "3396  1      0.269596  u         \n",
       "3396  2      0.269596  u         \n",
       "3396  4      0.269596  u         \n",
       "3074  2      0.377267  visit     \n",
       "3074  5      0.377267  visit     \n",
       "3056  1      0.187933  wait      \n",
       "3056  2      0.187933  wait      \n",
       "3056  3      0.187933  wait      \n",
       "3056  4      0.187933  wait      \n",
       "3056  5      0.187933  wait      \n",
       "3056  6      0.187933  wait      \n",
       "5381  1      0.321490  walk      \n",
       "5381  2      0.321490  walk      \n",
       "63    1      0.372238  want      \n",
       "4502  1      0.239729  water     \n",
       "4502  2      0.239729  water     \n",
       "4502  5      0.239729  water     \n",
       "4502  7      0.239729  water     \n",
       "1621  3      0.312443  way       \n",
       "1621  4      0.312443  way       \n",
       "2565  1      0.336937  well      \n",
       "2290  3      0.565552  within    \n",
       "1391  2      0.271637  work      \n",
       "4855  2      0.389723  worst     \n",
       "4155  1      0.240349  would     \n",
       "4155  5      0.240349  would     \n",
       "\n",
       "[258 rows x 3 columns], R=30, lambda_step=0.01, plot_opts={'xlab': 'PC1', 'ylab': 'PC2'}, topic_order=[7, 2, 3, 4, 8, 9, 6, 5, 10, 1])"
      ]
     },
     "execution_count": 45,
     "metadata": {},
     "output_type": "execute_result"
    }
   ],
   "source": [
    "# This is a pre-built LDA\n",
    "with open('Demo_PSG_lda.pk','rb') as f:\n",
    "    saved_lda = pickle.load(f)\n",
    "\n",
    "pyLDAvis.gensim.prepare(saved_lda, tfidf_sparse, yelp_dictionary)"
   ]
  },
  {
   "cell_type": "markdown",
   "metadata": {
    "deletable": true,
    "editable": true,
    "slideshow": {
     "slide_type": "subslide"
    }
   },
   "source": [
    "From *PSG_lda*, we can get the information regarding the probability of a document falling into one of the topics."
   ]
  },
  {
   "cell_type": "code",
   "execution_count": 46,
   "metadata": {
    "collapsed": false,
    "deletable": true,
    "editable": true
   },
   "outputs": [
    {
     "name": "stdout",
     "output_type": "stream",
     "text": [
      "[(0, 0.83640462475713973), (1, 0.018178223484244402), (2, 0.018178479547548296), (3, 0.018176332161495334), (4, 0.01817696192315572), (5, 0.018177569520805858), (6, 0.018176605614693368), (7, 0.018176749886351356), (8, 0.018176635838733773), (9, 0.018177817265832487)]\n"
     ]
    }
   ],
   "source": [
    "# See the probability of the last document in each topic.\n",
    "topic_probs =  PSG_lda.get_document_topics(tfidf_sparse[-1])\n",
    "print topic_probs"
   ]
  },
  {
   "cell_type": "code",
   "execution_count": 47,
   "metadata": {
    "collapsed": false,
    "deletable": true,
    "editable": true,
    "slideshow": {
     "slide_type": "skip"
    }
   },
   "outputs": [],
   "source": [
    "most_relevant = sorted(topic_probs, key=lambda x: x[1], reverse=True)"
   ]
  },
  {
   "cell_type": "markdown",
   "metadata": {
    "deletable": true,
    "editable": true,
    "variables": {
     "' + '.join(map(lambda x: x[0], PSG_lda.show_topic(6)))": {},
     "most_relevant[0][0]": {},
     "most_relevant[0][1]": {}
    }
   },
   "source": [
    "The most relevant topic is topic {{most_relevant[0][0]}} with a proability of {{most_relevant[0][1]}}.\n",
    "\n",
    "The topic is **{{' + '.join(map(lambda x: x[0], PSG_lda.show_topic(6)))}}**"
   ]
  },
  {
   "cell_type": "markdown",
   "metadata": {
    "deletable": true,
    "editable": true,
    "slideshow": {
     "slide_type": "subslide"
    }
   },
   "source": [
    "Inspect the most relevant document in a topic,"
   ]
  },
  {
   "cell_type": "code",
   "execution_count": 48,
   "metadata": {
    "collapsed": false,
    "deletable": true,
    "editable": true,
    "nbpresent": {
     "id": "dbb90639-cd69-485d-8e92-adb91574cfa1"
    },
    "slideshow": {
     "slide_type": "-"
    }
   },
   "outputs": [
    {
     "name": "stdout",
     "output_type": "stream",
     "text": [
      "Relevance score: 0.917832956234\n",
      "Can be improved, but that can be said with anything. The only reason this doesn't have a 5 star review is because sometimes the staff can be rude, and the rules about cell phone use and eating are not always properly enforced. Other than that, 99% of the time the buses and light rail are running within scheduled time. And when there's an issue, CATS does work hard to find a solution ASAP. The system is expanding past just buses and a single light rail line, which as a Urban Planning major is hugely appealing. One note, the system is cash only unless you buy a pass at the CTC or one of their retail partners (Harris Teeter, Walmart, etc.) or at the light rail stations. I hope they install card readers on the buses soon, but I can understand the costs and things that would prevent that from happening. The prices have gone up over the years, but if you want to use CATS for your commute, it's still a far better deal that paying to park Uptown, which at a minimum is at least 100 bucks a month, mostly more. Plus you save gas and wear and tear on your car, and there's less stress from driving. Charlotte's express buses are my favorite. Unlike local routes, they stop at a handful of stops in their pickup suburb and then a few stops uptown at some of the busier office towers. They have more room and more comfortable seats as well as luggage racks. Overall, not the BEST transit system in the US, but sure isn't the worst and they are taking the initiative to improve.\n"
     ]
    }
   ],
   "source": [
    "topic_num_to_inspect = 6 # define the topic number to inspect\n",
    "\n",
    "prob_list = []\n",
    "for doc in tfidf_sparse:\n",
    "    prob_dict = {}\n",
    "    probs = PSG_lda.get_document_topics(doc)\n",
    "    for p in probs:\n",
    "        prob_dict[p[0]] = p[1]\n",
    "    prob_list.append(prob_dict)\n",
    "# Represent the dictionary as a dataframe, with each topic number as the column header, probability value as values in the cell.\n",
    "# Each row represent a document.\n",
    "docTerm_prob_df = pd.DataFrame(prob_list) \n",
    "\n",
    "most_relevant_index = np.argmax(docTerm_prob_df[topic_num_to_inspect])\n",
    "print \"Relevance score:\", np.max(docTerm_prob_df[topic_num_to_inspect])\n",
    "print data.text.iloc[most_relevant_index] # inspect the most relevant review"
   ]
  },
  {
   "cell_type": "code",
   "execution_count": 49,
   "metadata": {
    "collapsed": false,
    "deletable": true,
    "editable": true,
    "slideshow": {
     "slide_type": "subslide"
    }
   },
   "outputs": [
    {
     "name": "stdout",
     "output_type": "stream",
     "text": [
      "Relevance score: 0.917832956234\n",
      "Can be improved, but that can be said with anything. The only reason this doesn't have a 5 star review is because sometimes the staff can be rude, and the rules about cell phone use and eating are not always properly enforced. Other than that, 99% of the time the buses and light rail are running within scheduled time. And when there's an issue, CATS does work hard to find a solution ASAP. The system is expanding past just buses and a single light rail line, which as a Urban Planning major is hugely appealing. One note, the system is cash only unless you buy a pass at the CTC or one of their retail partners (Harris Teeter, Walmart, etc.) or at the light rail stations. I hope they install card readers on the buses soon, but I can understand the costs and things that would prevent that from happening. The prices have gone up over the years, but if you want to use CATS for your commute, it's still a far better deal that paying to park Uptown, which at a minimum is at least 100 bucks a month, mostly more. Plus you save gas and wear and tear on your car, and there's less stress from driving. Charlotte's express buses are my favorite. Unlike local routes, they stop at a handful of stops in their pickup suburb and then a few stops uptown at some of the busier office towers. They have more room and more comfortable seats as well as luggage racks. Overall, not the BEST transit system in the US, but sure isn't the worst and they are taking the initiative to improve.\n"
     ]
    }
   ],
   "source": [
    "print \"Relevance score:\", np.max(docTerm_prob_df[topic_num_to_inspect])\n",
    "print data.text.iloc[most_relevant_index] # inspect the most relevant review"
   ]
  },
  {
   "cell_type": "markdown",
   "metadata": {
    "deletable": true,
    "editable": true,
    "slideshow": {
     "slide_type": "subslide"
    }
   },
   "source": [
    "### Topic Classification\n",
    "\n",
    "Topic classification is a supervise learning method. It requires that you have pre-labelled data to train a classification model on. Like training a model on structured data, each token in a dictionary is a variable. The model building steps will be exacly the same as that for structured data, just that the number of variables is going to be very large, and some more accurate algorithms will take a long while to be trained.\n",
    "\n",
    "In a new test data, it may contain tokens that have not be seen before. The way to deal with new tokens is either to omit that data or to provision of a wildcard token in the dictionary."
   ]
  },
  {
   "cell_type": "markdown",
   "metadata": {
    "deletable": true,
    "editable": true,
    "slideshow": {
     "slide_type": "slide"
    }
   },
   "source": [
    "# Q&A"
   ]
  },
  {
   "cell_type": "markdown",
   "metadata": {
    "deletable": true,
    "editable": true,
    "slideshow": {
     "slide_type": "slide"
    }
   },
   "source": [
    "# Additional"
   ]
  },
  {
   "cell_type": "markdown",
   "metadata": {
    "deletable": true,
    "editable": true,
    "nbpresent": {
     "id": "21bf834e-66e3-47f9-b756-c09fe70de8e9"
    },
    "slideshow": {
     "slide_type": "subslide"
    }
   },
   "source": [
    "## Why is it important to become tfidf: A contrived example\n",
    "\n",
    "Say we want to find the similarity between 3 documents.\n",
    "\n",
    "1. Restaurant Restaurant Restaurant Restaurant Restaurant Restaurant Restaurant avocado chicken delicious.\n",
    "* Food delicious.\n",
    "* Restaurant Restaurant Restaurant Restaurant Restaurant Restaurant Restaurant ambient tempature too cold."
   ]
  },
  {
   "cell_type": "code",
   "execution_count": 50,
   "metadata": {
    "collapsed": false,
    "deletable": true,
    "editable": true,
    "nbpresent": {
     "id": "ea442291-9768-4a4b-900c-9abfec461585"
    }
   },
   "outputs": [
    {
     "name": "stdout",
     "output_type": "stream",
     "text": [
      "doc1 similarity with doc2: 0.640513\n",
      "doc1 similarity with doc3: 0.933376\n"
     ]
    }
   ],
   "source": [
    "doc1 = \"Restaurant Restaurant Restaurant Restaurant Restaurant Restaurant Restaurant chicken pie delicious\"\n",
    "doc2 = \"Restaurant Food delicious\"\n",
    "doc3 = \"Restaurant Restaurant Restaurant Restaurant Restaurant Restaurant Restaurant ambient tempature too cold\"\n",
    "\n",
    "tokens = [d.split() for d in [doc1, doc2, doc3]]\n",
    "contrive_dict = corpora.Dictionary(tokens)\n",
    "sparse_vector = [contrive_dict.doc2bow(doc) for doc in tokens]\n",
    "index = similarities.SparseMatrixSimilarity(sparse_vector, len(contrive_dict.items()))\n",
    "\n",
    "for i, similarity in enumerate(index[sparse_vector[0]][1:], 1):\n",
    "    print 'doc1 similarity with doc%i: %f' %(i+1, similarity)"
   ]
  },
  {
   "cell_type": "markdown",
   "metadata": {
    "deletable": true,
    "editable": true,
    "nbpresent": {
     "id": "aacd3b2b-dac9-41c9-8be3-685c49f0c9c8"
    },
    "slideshow": {
     "slide_type": "subslide"
    }
   },
   "source": [
    "It would seem like doc1 is more similar to doc2 than to doc3. However the cosine similarity of doc3 is higher than doc2, so doc1 is most simlar to doc3. We can see that this is because of the excessive frequency of the term \"Restaurant\" causing this discrepency. \n",
    "\n",
    "If tf-idf is applied:"
   ]
  },
  {
   "cell_type": "code",
   "execution_count": 51,
   "metadata": {
    "collapsed": false,
    "deletable": true,
    "editable": true,
    "nbpresent": {
     "id": "19971c2f-90bf-4704-9070-e347b332dc56"
    }
   },
   "outputs": [
    {
     "name": "stdout",
     "output_type": "stream",
     "text": [
      "doc1 similarity with doc2: 0.087431\n",
      "doc1 similarity with doc3: 0.000000\n"
     ]
    }
   ],
   "source": [
    "tfidf_contrieved = models.TfidfModel(sparse_vector)\n",
    "tfidf_sparse = [tfidf_contrieved[doc] for doc in sparse_vector]\n",
    "tfidf_index = similarities.SparseMatrixSimilarity(tfidf_sparse, len(contrive_dict.items()))\n",
    "\n",
    "for i, similarity in enumerate(tfidf_index[tfidf_sparse[0]][1:], 1):\n",
    "    print 'doc1 similarity with doc%i: %f' %(i+1, similarity)"
   ]
  },
  {
   "cell_type": "markdown",
   "metadata": {
    "deletable": true,
    "editable": true,
    "nbpresent": {
     "id": "91ecf0cf-6173-44b6-ad40-51ceee105207"
    },
    "slideshow": {
     "slide_type": "subslide"
    }
   },
   "source": [
    "## Other Applications of Similarity Between Documents\n",
    "\n",
    "Calculating similarity between documents can help us to group documents. Why do we want to do that?\n",
    "\n",
    "Applications:\n",
    "1. Plagarism checker:\n",
    "    * An essay submitted can be compared for similarity with the other essays in the database.\n",
    "* An online retailer searching for its products that belong in the same category and groups them together. \n",
    "    * Helps visitor to its website find similar items."
   ]
  },
  {
   "cell_type": "code",
   "execution_count": null,
   "metadata": {
    "collapsed": true
   },
   "outputs": [],
   "source": []
  }
 ],
 "metadata": {
  "anaconda-cloud": {},
  "celltoolbar": "Slideshow",
  "kernelspec": {
   "display_name": "Python 3",
   "language": "python",
   "name": "python3"
  },
  "language_info": {
   "codemirror_mode": {
    "name": "ipython",
    "version": 3
   },
   "file_extension": ".py",
   "mimetype": "text/x-python",
   "name": "python",
   "nbconvert_exporter": "python",
   "pygments_lexer": "ipython3",
   "version": "3.6.0"
  },
  "latex_envs": {
   "LaTeX_envs_menu_present": true,
   "autocomplete": true,
   "bibliofile": "biblio.bib",
   "cite_by": "apalike",
   "current_citInitial": 1,
   "eqLabelWithNumbers": true,
   "eqNumInitial": 1,
   "hotkeys": {
    "equation": "Ctrl-E",
    "itemize": "Ctrl-I"
   },
   "labels_anchors": false,
   "latex_user_defs": false,
   "report_style_numbering": false,
   "user_envs_cfg": false
  },
  "nbpresent": {
   "slides": {
    "009901b2-59e6-4d27-a353-7650abb41597": {
     "id": "009901b2-59e6-4d27-a353-7650abb41597",
     "prev": "d487d505-639c-45c6-9724-648e27b3d83f",
     "regions": {
      "ac1d75cc-9eb9-4010-b6d5-355c150c3371": {
       "attrs": {
        "height": 0.8,
        "width": 0.8,
        "x": 0.1,
        "y": 0.1
       },
       "content": {
        "cell": "a2bf7a16-842a-4677-b63b-ea95f0357912",
        "part": "whole"
       },
       "id": "ac1d75cc-9eb9-4010-b6d5-355c150c3371"
      }
     }
    },
    "01bd486d-1aa7-4dc9-8775-eb5d719a46cf": {
     "id": "01bd486d-1aa7-4dc9-8775-eb5d719a46cf",
     "prev": "ebe98d12-f28b-412c-8726-25f781a981fd",
     "regions": {
      "1013716f-3abc-4a2a-b6b1-75d0a8a98787": {
       "attrs": {
        "height": 0.8,
        "width": 0.8,
        "x": 0.1,
        "y": 0.1
       },
       "content": {
        "cell": "1ed0cc8a-b9d9-4081-8ea5-9ea9867bd84a",
        "part": "whole"
       },
       "id": "1013716f-3abc-4a2a-b6b1-75d0a8a98787"
      }
     }
    },
    "0305c48d-1c28-4abb-b940-3d08ae8a4cb9": {
     "id": "0305c48d-1c28-4abb-b940-3d08ae8a4cb9",
     "prev": "312d5b9d-e81d-4d2c-a670-d2cef1c568b0",
     "regions": {
      "7755feaa-36fb-4159-bcbc-085f2255b426": {
       "attrs": {
        "height": 0.8,
        "width": 0.8,
        "x": 0.1,
        "y": 0.1
       },
       "content": {
        "cell": "677b5f8c-1bcf-4a7d-a21c-80855075c0ce",
        "part": "whole"
       },
       "id": "7755feaa-36fb-4159-bcbc-085f2255b426"
      }
     }
    },
    "0628aa39-2f38-446b-b098-274800eeb137": {
     "id": "0628aa39-2f38-446b-b098-274800eeb137",
     "prev": "32d9af36-4a09-474b-9547-54ddd6f6f972",
     "regions": {
      "946b3b58-eeb3-45e1-a771-1f7f723bce21": {
       "attrs": {
        "height": 0.8,
        "width": 0.8,
        "x": 0.1,
        "y": 0.1
       },
       "content": {
        "cell": "a6f3bc3e-2d7a-4d5e-a6d8-5565ce04ec8c",
        "part": "whole"
       },
       "id": "946b3b58-eeb3-45e1-a771-1f7f723bce21"
      }
     }
    },
    "08986239-a123-48fb-99b2-54f7eab04055": {
     "id": "08986239-a123-48fb-99b2-54f7eab04055",
     "prev": "9ebfa3f2-f213-4e85-bd12-35767f3326ea",
     "regions": {
      "8be86881-9da3-4d16-987b-b880ae52da33": {
       "attrs": {
        "height": 0.8,
        "width": 0.8,
        "x": 0.1,
        "y": 0.1
       },
       "content": {
        "cell": "319ee13b-323e-4586-808d-c3f2b7d11ada",
        "part": "whole"
       },
       "id": "8be86881-9da3-4d16-987b-b880ae52da33"
      }
     }
    },
    "08f099ae-8ac5-4df6-9943-9617c47e5e8d": {
     "id": "08f099ae-8ac5-4df6-9943-9617c47e5e8d",
     "prev": "8bdc198f-7f0a-4626-a33a-0b50127fff85",
     "regions": {
      "7d8e84cb-4f4f-4297-bffc-52aca547a37a": {
       "attrs": {
        "height": 0.8,
        "width": 0.8,
        "x": 0.1,
        "y": 0.1
       },
       "content": {
        "cell": "7feaebda-d59c-4527-aaf7-d2ed60773ab4",
        "part": "whole"
       },
       "id": "7d8e84cb-4f4f-4297-bffc-52aca547a37a"
      }
     }
    },
    "101dfa7f-ad62-49ba-beb5-21a60cf93385": {
     "id": "101dfa7f-ad62-49ba-beb5-21a60cf93385",
     "prev": "f8999ff0-7a57-4a43-8f73-0fd7df6af09d",
     "regions": {
      "b4733fd5-fd0f-43c2-a821-55f93891e3ab": {
       "attrs": {
        "height": 0.8,
        "width": 0.8,
        "x": 0.1,
        "y": 0.1
       },
       "content": {
        "cell": "bc9b5857-9153-4a50-9e4b-0d3d5bf33747",
        "part": "whole"
       },
       "id": "b4733fd5-fd0f-43c2-a821-55f93891e3ab"
      }
     }
    },
    "12eae22e-a660-4851-9690-dee20e49e037": {
     "id": "12eae22e-a660-4851-9690-dee20e49e037",
     "prev": "46386ba7-4fe8-4977-ac09-8262ce0078c3",
     "regions": {
      "e6528efc-bf2e-41ce-9b82-acdf0db00fdb": {
       "attrs": {
        "height": 0.8,
        "width": 0.8,
        "x": 0.1,
        "y": 0.1
       },
       "content": {
        "cell": "91ecf0cf-6173-44b6-ad40-51ceee105207",
        "part": "whole"
       },
       "id": "e6528efc-bf2e-41ce-9b82-acdf0db00fdb"
      }
     }
    },
    "1a2e00ac-3b9c-4568-8071-16b465272424": {
     "id": "1a2e00ac-3b9c-4568-8071-16b465272424",
     "prev": "245dcbc7-561c-4708-b730-c6a7a12d422e",
     "regions": {
      "d1e382a5-4ab6-493d-a5ff-20c78139df78": {
       "attrs": {
        "height": 0.8,
        "width": 0.8,
        "x": 0.1,
        "y": 0.1
       },
       "content": {
        "cell": "d34d02fd-3ccc-436c-9303-06436cac1db2",
        "part": "whole"
       },
       "id": "d1e382a5-4ab6-493d-a5ff-20c78139df78"
      }
     }
    },
    "1e039428-4dd2-4cb1-b2f9-cf81aa3c5c94": {
     "id": "1e039428-4dd2-4cb1-b2f9-cf81aa3c5c94",
     "prev": "d83e62b5-d8b1-4b4a-bded-c5158d8d80d7",
     "regions": {
      "e748e7f2-a57a-45ee-a92a-d8a0c76b9835": {
       "attrs": {
        "height": 0.8,
        "width": 0.8,
        "x": 0.1,
        "y": 0.1
       },
       "content": {
        "cell": "08856479-c898-4f10-bbc4-6d799ccf8e6c",
        "part": "whole"
       },
       "id": "e748e7f2-a57a-45ee-a92a-d8a0c76b9835"
      }
     }
    },
    "20c29523-2a37-4957-9f79-1117a87d9d30": {
     "id": "20c29523-2a37-4957-9f79-1117a87d9d30",
     "prev": "c097cb57-4f89-4936-bc3e-e9fba767c58f",
     "regions": {
      "682cdd75-0789-4949-ba59-1452b3571654": {
       "attrs": {
        "height": 0.8,
        "width": 0.8,
        "x": 0.1,
        "y": 0.1
       },
       "content": {
        "cell": "11526e0c-b284-40b7-b238-4e8d9d7c24a1",
        "part": "whole"
       },
       "id": "682cdd75-0789-4949-ba59-1452b3571654"
      }
     }
    },
    "245dcbc7-561c-4708-b730-c6a7a12d422e": {
     "id": "245dcbc7-561c-4708-b730-c6a7a12d422e",
     "prev": "12eae22e-a660-4851-9690-dee20e49e037",
     "regions": {
      "4324f193-fa6b-4366-9998-3f998d5f8c79": {
       "attrs": {
        "height": 0.8,
        "width": 0.8,
        "x": 0.1,
        "y": 0.1
       },
       "content": {
        "cell": "973c702e-013c-4538-9914-c0e1e1805106",
        "part": "whole"
       },
       "id": "4324f193-fa6b-4366-9998-3f998d5f8c79"
      }
     }
    },
    "2507f9a5-a44b-48bb-999b-03943c7678ef": {
     "id": "2507f9a5-a44b-48bb-999b-03943c7678ef",
     "prev": "009901b2-59e6-4d27-a353-7650abb41597",
     "regions": {
      "6b13006a-e89b-414a-b669-8a08148f0447": {
       "attrs": {
        "height": 0.8,
        "width": 0.8,
        "x": 0.1,
        "y": 0.1
       },
       "content": {
        "cell": "e5aaed26-69fe-4ef1-9f17-27b00954ed07",
        "part": "whole"
       },
       "id": "6b13006a-e89b-414a-b669-8a08148f0447"
      }
     }
    },
    "25153924-d5c8-4558-abc0-35b016f1981e": {
     "id": "25153924-d5c8-4558-abc0-35b016f1981e",
     "prev": "71b47bbf-d110-4b14-8dbd-70bad145130d",
     "regions": {
      "84384056-95f1-48c2-8cce-cc6e8792380b": {
       "attrs": {
        "height": 0.8,
        "width": 0.8,
        "x": 0.1,
        "y": 0.1
       },
       "content": {
        "cell": "25c14718-653f-4236-9257-298fff818e63",
        "part": "whole"
       },
       "id": "84384056-95f1-48c2-8cce-cc6e8792380b"
      }
     }
    },
    "28243abb-528f-4c63-be06-7f4fa1c83788": {
     "id": "28243abb-528f-4c63-be06-7f4fa1c83788",
     "prev": "cde5d2da-580d-4bef-a933-ca631959292a",
     "regions": {
      "77a34266-5753-408d-9b15-d2bc2fd62114": {
       "attrs": {
        "height": 0.8,
        "width": 0.8,
        "x": 0.1,
        "y": 0.1
       },
       "content": {
        "cell": "916aecbb-1729-4141-aff4-86e35617db61",
        "part": "whole"
       },
       "id": "77a34266-5753-408d-9b15-d2bc2fd62114"
      }
     }
    },
    "312d5b9d-e81d-4d2c-a670-d2cef1c568b0": {
     "id": "312d5b9d-e81d-4d2c-a670-d2cef1c568b0",
     "prev": "684a3853-78c9-404f-b08c-59523c0c4146",
     "regions": {
      "954eb30e-7cbe-4189-abcf-808a2885273a": {
       "attrs": {
        "height": 0.8,
        "width": 0.8,
        "x": 0.1,
        "y": 0.1
       },
       "content": {
        "cell": "4e71b055-e9f8-4f37-891d-922b353c9dfa",
        "part": "whole"
       },
       "id": "954eb30e-7cbe-4189-abcf-808a2885273a"
      }
     }
    },
    "32d9af36-4a09-474b-9547-54ddd6f6f972": {
     "id": "32d9af36-4a09-474b-9547-54ddd6f6f972",
     "prev": "2507f9a5-a44b-48bb-999b-03943c7678ef",
     "regions": {
      "eeb12aa5-ae3e-400b-8414-458f265095ee": {
       "attrs": {
        "height": 0.8,
        "width": 0.8,
        "x": 0.1,
        "y": 0.1
       },
       "content": {
        "cell": "56f7e6e3-bdd3-44d1-8d81-4ccd02917d40",
        "part": "whole"
       },
       "id": "eeb12aa5-ae3e-400b-8414-458f265095ee"
      }
     }
    },
    "447e6640-c221-4283-a45c-65f1d6372b30": {
     "id": "447e6640-c221-4283-a45c-65f1d6372b30",
     "prev": "e1abd0b9-6816-4ea1-aa29-8f0e4f5c61a9",
     "regions": {
      "8699c3e6-6a0d-473e-88dc-da2d1f4e000b": {
       "attrs": {
        "height": 0.8,
        "width": 0.8,
        "x": 0.1,
        "y": 0.1
       },
       "content": {
        "cell": "280e41bb-4797-4b01-a344-87fdfa69933c",
        "part": "whole"
       },
       "id": "8699c3e6-6a0d-473e-88dc-da2d1f4e000b"
      }
     }
    },
    "46386ba7-4fe8-4977-ac09-8262ce0078c3": {
     "id": "46386ba7-4fe8-4977-ac09-8262ce0078c3",
     "prev": "1e039428-4dd2-4cb1-b2f9-cf81aa3c5c94",
     "regions": {
      "2ba107c7-ad9d-4d86-842a-379b96efead7": {
       "attrs": {
        "height": 0.8,
        "width": 0.8,
        "x": 0.1,
        "y": 0.1
       },
       "content": {
        "cell": "9006c807-2138-48a5-a730-0388711434dd",
        "part": "whole"
       },
       "id": "2ba107c7-ad9d-4d86-842a-379b96efead7"
      }
     }
    },
    "4b62f011-476a-4eeb-8140-4d11305f1b72": {
     "id": "4b62f011-476a-4eeb-8140-4d11305f1b72",
     "prev": "880f52b5-6bab-4166-9e8c-4fd2947da928",
     "regions": {
      "71bee47e-d343-428d-96ed-f96fe9098472": {
       "attrs": {
        "height": 0.8,
        "width": 0.8,
        "x": 0.1,
        "y": 0.1
       },
       "content": {
        "cell": "e3ae1783-baeb-4e34-b276-d6bb0ac7190d",
        "part": "whole"
       },
       "id": "71bee47e-d343-428d-96ed-f96fe9098472"
      }
     }
    },
    "520721c2-86ca-4325-a628-2fd2bc65e13d": {
     "id": "520721c2-86ca-4325-a628-2fd2bc65e13d",
     "prev": "d6e423ae-459a-4731-aa13-75a26276bf57",
     "regions": {
      "19f17bc0-7909-4dba-b46a-5e8ee67312fe": {
       "attrs": {
        "height": 0.8,
        "width": 0.8,
        "x": 0.1,
        "y": 0.1
       },
       "content": {
        "cell": "aacd3b2b-dac9-41c9-8be3-685c49f0c9c8",
        "part": "whole"
       },
       "id": "19f17bc0-7909-4dba-b46a-5e8ee67312fe"
      }
     }
    },
    "56ed05bf-342a-4b85-bdb6-ca06a854e0c3": {
     "id": "56ed05bf-342a-4b85-bdb6-ca06a854e0c3",
     "prev": "61c75e6a-0a14-48a4-aac9-0c13f99df117",
     "regions": {
      "85708ae1-2e95-4a78-84ee-d38e0c0e5931": {
       "attrs": {
        "height": 0.8,
        "width": 0.8,
        "x": 0.1,
        "y": 0.1
       },
       "content": {
        "cell": "331dca0f-b912-45a9-b835-88d28830a50f",
        "part": "whole"
       },
       "id": "85708ae1-2e95-4a78-84ee-d38e0c0e5931"
      }
     }
    },
    "58126302-e9c3-41fa-8aed-79a5d0935848": {
     "id": "58126302-e9c3-41fa-8aed-79a5d0935848",
     "prev": "de305e68-35cc-44de-aeca-3798942e511e",
     "regions": {
      "7ed729d5-269e-4fd7-9071-93c7e564944f": {
       "attrs": {
        "height": 0.8,
        "width": 0.8,
        "x": 0.1,
        "y": 0.1
       },
       "content": {
        "cell": "df58b2cb-bb3a-4c89-ad8b-40eea0523b5b",
        "part": "whole"
       },
       "id": "7ed729d5-269e-4fd7-9071-93c7e564944f"
      }
     }
    },
    "591d44f0-7607-4905-a22a-a77ad25c7560": {
     "id": "591d44f0-7607-4905-a22a-a77ad25c7560",
     "prev": "681f722e-7ec9-438f-9399-88a37b87a2eb",
     "regions": {
      "7f4c2b5c-01e6-44c9-9a18-bd5958122c08": {
       "attrs": {
        "height": 0.8,
        "width": 0.8,
        "x": 0.1,
        "y": 0.1
       },
       "content": {
        "cell": "591c24dc-3cd8-4996-b8cc-8c0d237c5d8e",
        "part": "whole"
       },
       "id": "7f4c2b5c-01e6-44c9-9a18-bd5958122c08"
      }
     }
    },
    "5c2516a8-df73-4e24-9389-c0103d1551db": {
     "id": "5c2516a8-df73-4e24-9389-c0103d1551db",
     "prev": "0305c48d-1c28-4abb-b940-3d08ae8a4cb9",
     "regions": {
      "34854d31-72ea-498a-a48e-e97946a010b5": {
       "attrs": {
        "height": 0.8,
        "width": 0.8,
        "x": 0.1,
        "y": 0.1
       },
       "content": {
        "cell": "7124e344-702d-4320-a723-ba7c8a9c55ba",
        "part": "whole"
       },
       "id": "34854d31-72ea-498a-a48e-e97946a010b5"
      }
     }
    },
    "61c75e6a-0a14-48a4-aac9-0c13f99df117": {
     "id": "61c75e6a-0a14-48a4-aac9-0c13f99df117",
     "prev": "5c2516a8-df73-4e24-9389-c0103d1551db",
     "regions": {
      "51e5c3a5-0258-4947-8068-0017362cbdf6": {
       "attrs": {
        "height": 0.8,
        "width": 0.8,
        "x": 0.1,
        "y": 0.1
       },
       "content": {
        "cell": "2b60aab9-cafb-4601-87a3-7d3993337385",
        "part": "whole"
       },
       "id": "51e5c3a5-0258-4947-8068-0017362cbdf6"
      }
     }
    },
    "657d92fa-9d4d-4d63-9377-3b38b688804e": {
     "id": "657d92fa-9d4d-4d63-9377-3b38b688804e",
     "prev": "1a2e00ac-3b9c-4568-8071-16b465272424",
     "regions": {
      "221ffcda-454b-4935-9188-1f4ee5d27128": {
       "attrs": {
        "height": 0.8,
        "width": 0.8,
        "x": 0.1,
        "y": 0.1
       },
       "content": {
        "cell": "21bf834e-66e3-47f9-b756-c09fe70de8e9",
        "part": "whole"
       },
       "id": "221ffcda-454b-4935-9188-1f4ee5d27128"
      }
     }
    },
    "681f722e-7ec9-438f-9399-88a37b87a2eb": {
     "id": "681f722e-7ec9-438f-9399-88a37b87a2eb",
     "prev": "c3e19796-898c-48ad-95c1-646f79c373d7",
     "regions": {
      "16ff22fa-1ea8-4d97-bfa0-53c08060ddda": {
       "attrs": {
        "height": 0.8,
        "width": 0.8,
        "x": 0.1,
        "y": 0.1
       },
       "content": {
        "cell": "b4ffcc38-6d19-48fc-90dd-9b7397902d71",
        "part": "whole"
       },
       "id": "16ff22fa-1ea8-4d97-bfa0-53c08060ddda"
      }
     }
    },
    "684a3853-78c9-404f-b08c-59523c0c4146": {
     "id": "684a3853-78c9-404f-b08c-59523c0c4146",
     "prev": "f952a369-3dba-48ee-ac95-7dd1ada1fd92",
     "regions": {
      "a620aa34-64e5-4dcd-a8ef-653e512e5cde": {
       "attrs": {
        "height": 0.8,
        "width": 0.8,
        "x": 0.1,
        "y": 0.1
       },
       "content": {
        "cell": "363a6ac1-26f2-45e4-a301-403f2b77e47d",
        "part": "whole"
       },
       "id": "a620aa34-64e5-4dcd-a8ef-653e512e5cde"
      }
     }
    },
    "71b47bbf-d110-4b14-8dbd-70bad145130d": {
     "id": "71b47bbf-d110-4b14-8dbd-70bad145130d",
     "prev": "08f099ae-8ac5-4df6-9943-9617c47e5e8d",
     "regions": {
      "170a11ee-fc83-4e91-9c5b-02f79f0cec89": {
       "attrs": {
        "height": 0.8,
        "width": 0.8,
        "x": 0.1,
        "y": 0.1
       },
       "content": {
        "cell": "19a433e5-c78b-445a-a586-f5412d1d983f",
        "part": "whole"
       },
       "id": "170a11ee-fc83-4e91-9c5b-02f79f0cec89"
      }
     }
    },
    "723ea711-7dbf-4f73-af87-60beeeea5db1": {
     "id": "723ea711-7dbf-4f73-af87-60beeeea5db1",
     "prev": "01bd486d-1aa7-4dc9-8775-eb5d719a46cf",
     "regions": {
      "053d3fd7-4316-4971-97e1-edf0bff8f04c": {
       "attrs": {
        "height": 0.8,
        "width": 0.8,
        "x": 0.1,
        "y": 0.1
       },
       "content": {
        "cell": "1806d39a-00ad-4ed4-9efe-e87f1d2bbe90",
        "part": "whole"
       },
       "id": "053d3fd7-4316-4971-97e1-edf0bff8f04c"
      }
     }
    },
    "75038977-83b4-446f-a46f-4a60bd9c3e51": {
     "id": "75038977-83b4-446f-a46f-4a60bd9c3e51",
     "prev": "dc5e74cd-4ddd-4493-a068-a3148f946212",
     "regions": {
      "e5606aa8-1497-4bda-b833-f3afdb1ef54a": {
       "attrs": {
        "height": 0.8,
        "width": 0.8,
        "x": 0.1,
        "y": 0.1
       },
       "content": {
        "cell": "b5b5a505-bb5a-4561-aa1b-28948cbbc8b1",
        "part": "whole"
       },
       "id": "e5606aa8-1497-4bda-b833-f3afdb1ef54a"
      }
     }
    },
    "791f0ea1-ea1e-4ef0-8264-877c60e281a9": {
     "id": "791f0ea1-ea1e-4ef0-8264-877c60e281a9",
     "prev": "25153924-d5c8-4558-abc0-35b016f1981e",
     "regions": {
      "de957b96-2476-4c51-a3a4-40a03dee71de": {
       "attrs": {
        "height": 0.8,
        "width": 0.8,
        "x": 0.1,
        "y": 0.1
       },
       "content": {
        "cell": "cfac44e5-f7de-4283-884b-5797ebd3044c",
        "part": "whole"
       },
       "id": "de957b96-2476-4c51-a3a4-40a03dee71de"
      }
     }
    },
    "7ecf59f8-feac-4393-a766-72995279bb80": {
     "id": "7ecf59f8-feac-4393-a766-72995279bb80",
     "prev": "591d44f0-7607-4905-a22a-a77ad25c7560",
     "regions": {
      "422589a3-40c4-4810-a510-b28730d8b345": {
       "attrs": {
        "height": 0.8,
        "width": 0.8,
        "x": 0.1,
        "y": 0.1
       },
       "content": {
        "cell": "66367ae5-d970-4786-ae77-11353ad38250",
        "part": "whole"
       },
       "id": "422589a3-40c4-4810-a510-b28730d8b345"
      }
     }
    },
    "7f8f280f-ec4f-4205-838d-56f5763d22fc": {
     "id": "7f8f280f-ec4f-4205-838d-56f5763d22fc",
     "prev": "0628aa39-2f38-446b-b098-274800eeb137",
     "regions": {
      "af8cd57a-9277-4c64-bdc8-0df1e0b4e321": {
       "attrs": {
        "height": 0.8,
        "width": 0.8,
        "x": 0.1,
        "y": 0.1
       },
       "content": {
        "cell": "cb97bc0d-3db6-4cb2-9b23-3d5e8e477b72",
        "part": "whole"
       },
       "id": "af8cd57a-9277-4c64-bdc8-0df1e0b4e321"
      }
     }
    },
    "813b69a2-8d8d-46a1-b16e-687297418d5f": {
     "id": "813b69a2-8d8d-46a1-b16e-687297418d5f",
     "prev": "d9b7196f-01b8-4fa7-90b2-ad404e8b3141",
     "regions": {
      "56ee6148-04bf-4af2-98db-c87c178b1dc0": {
       "attrs": {
        "height": 0.8,
        "width": 0.8,
        "x": 0.1,
        "y": 0.1
       },
       "content": {
        "cell": "6a3e387b-5566-4d1a-8c18-a4f031c82e36",
        "part": "whole"
       },
       "id": "56ee6148-04bf-4af2-98db-c87c178b1dc0"
      }
     }
    },
    "880f52b5-6bab-4166-9e8c-4fd2947da928": {
     "id": "880f52b5-6bab-4166-9e8c-4fd2947da928",
     "prev": "a931b4ae-6f1a-4c8e-919e-6e057a1892b0",
     "regions": {
      "4456c388-b212-4475-a8de-2748c082a478": {
       "attrs": {
        "height": 0.8,
        "width": 0.8,
        "x": 0.1,
        "y": 0.1
       },
       "content": {
        "cell": "5c619fae-3b14-4267-8339-cc6f27551451",
        "part": "whole"
       },
       "id": "4456c388-b212-4475-a8de-2748c082a478"
      }
     }
    },
    "88e42642-6073-4db9-ba1a-f8d75a41c59e": {
     "id": "88e42642-6073-4db9-ba1a-f8d75a41c59e",
     "prev": "b03d5016-766c-4f81-b421-9a8a74b89625",
     "regions": {
      "0ae6d3d6-45c3-4913-b4eb-f382877ac0c1": {
       "attrs": {
        "height": 0.8,
        "width": 0.8,
        "x": 0.1,
        "y": 0.1
       },
       "content": {
        "cell": "d7ed6a2b-6736-4a9c-9241-8db9e1f1c399",
        "part": "whole"
       },
       "id": "0ae6d3d6-45c3-4913-b4eb-f382877ac0c1"
      }
     }
    },
    "893398dd-00bc-46a2-90e3-5bba9411e227": {
     "id": "893398dd-00bc-46a2-90e3-5bba9411e227",
     "prev": "eb8372ae-a257-4cc5-a1f1-a3cbf98c5c6b",
     "regions": {
      "0c6c14bc-e223-4d22-83bd-a877e66e5c5b": {
       "attrs": {
        "height": 0.8,
        "width": 0.8,
        "x": 0.1,
        "y": 0.1
       },
       "content": {
        "cell": "320f63e7-dcfb-4cd3-9743-687acc99ef7b",
        "part": "whole"
       },
       "id": "0c6c14bc-e223-4d22-83bd-a877e66e5c5b"
      }
     }
    },
    "8a86cb52-5962-427b-b443-476b2d41538e": {
     "id": "8a86cb52-5962-427b-b443-476b2d41538e",
     "prev": "ca40cf64-3006-4476-a65b-fd17429e0769",
     "regions": {
      "28210a26-20df-40ec-87d7-156531503210": {
       "attrs": {
        "height": 0.8,
        "width": 0.8,
        "x": 0.1,
        "y": 0.1
       },
       "content": {
        "cell": "b82b4728-1b2b-4482-88b4-552e81d5ddd4",
        "part": "whole"
       },
       "id": "28210a26-20df-40ec-87d7-156531503210"
      }
     }
    },
    "8bdc198f-7f0a-4626-a33a-0b50127fff85": {
     "id": "8bdc198f-7f0a-4626-a33a-0b50127fff85",
     "prev": "58126302-e9c3-41fa-8aed-79a5d0935848",
     "regions": {
      "2829ed00-0961-4819-ad95-a4e84368aacc": {
       "attrs": {
        "height": 0.8,
        "width": 0.8,
        "x": 0.1,
        "y": 0.1
       },
       "content": {
        "cell": "4be288ae-13be-4e9e-b923-c398cfe76c56",
        "part": "whole"
       },
       "id": "2829ed00-0961-4819-ad95-a4e84368aacc"
      }
     }
    },
    "9906ff6f-1156-4ebf-b530-a20523f429f7": {
     "id": "9906ff6f-1156-4ebf-b530-a20523f429f7",
     "prev": "be04c27f-ce4a-48ad-960b-4868276e983e",
     "regions": {
      "14e3b7b5-c53c-441e-914a-f347b70bb1ae": {
       "attrs": {
        "height": 0.8,
        "width": 0.8,
        "x": 0.1,
        "y": 0.1
       },
       "content": {
        "cell": "8a432101-98d3-4234-9983-01d183f94622",
        "part": "whole"
       },
       "id": "14e3b7b5-c53c-441e-914a-f347b70bb1ae"
      }
     }
    },
    "9d0bc234-6d01-467f-abf4-5a302888a105": {
     "id": "9d0bc234-6d01-467f-abf4-5a302888a105",
     "prev": "e48fe5d6-7d68-49ed-baa1-7ee8c0fe443b",
     "regions": {
      "7c39208b-e07d-4ed6-8438-9b9b9138b36f": {
       "attrs": {
        "height": 0.8,
        "width": 0.8,
        "x": 0.1,
        "y": 0.1
       },
       "content": {
        "cell": "766e819a-8729-4ec4-861d-6fbc75677bd8",
        "part": "whole"
       },
       "id": "7c39208b-e07d-4ed6-8438-9b9b9138b36f"
      }
     }
    },
    "9e8f69cc-66a0-4efa-a844-b8e6199e57fd": {
     "id": "9e8f69cc-66a0-4efa-a844-b8e6199e57fd",
     "prev": "8a86cb52-5962-427b-b443-476b2d41538e",
     "regions": {
      "b88b0fdf-0f32-451a-85d3-98830f8627fa": {
       "attrs": {
        "height": 0.8,
        "width": 0.8,
        "x": 0.1,
        "y": 0.1
       },
       "content": {
        "cell": "9167057c-f6a9-42be-a749-114a21149fb0",
        "part": "whole"
       },
       "id": "b88b0fdf-0f32-451a-85d3-98830f8627fa"
      }
     }
    },
    "9ebfa3f2-f213-4e85-bd12-35767f3326ea": {
     "id": "9ebfa3f2-f213-4e85-bd12-35767f3326ea",
     "prev": "9906ff6f-1156-4ebf-b530-a20523f429f7",
     "regions": {
      "e74dcb28-878f-40d6-8687-ff7841bfbb49": {
       "attrs": {
        "height": 0.8,
        "width": 0.8,
        "x": 0.1,
        "y": 0.1
       },
       "content": {
        "cell": "bd28d06b-8713-42fb-a081-357322d41970",
        "part": "whole"
       },
       "id": "e74dcb28-878f-40d6-8687-ff7841bfbb49"
      }
     }
    },
    "a484b706-f4a0-48f7-8629-20355cd74d49": {
     "id": "a484b706-f4a0-48f7-8629-20355cd74d49",
     "prev": "ccff47f6-bd66-4940-beb9-c624ed2d6596",
     "regions": {
      "f8345b54-e158-4380-ac1d-594e3f747f0c": {
       "attrs": {
        "height": 0.8,
        "width": 0.8,
        "x": 0.1,
        "y": 0.1
       },
       "content": {
        "cell": "5239cd53-bbf2-411f-95a8-66469a3a211e",
        "part": "whole"
       },
       "id": "f8345b54-e158-4380-ac1d-594e3f747f0c"
      }
     }
    },
    "a53b3c30-d478-4f61-b461-cb0ff4e51b3a": {
     "id": "a53b3c30-d478-4f61-b461-cb0ff4e51b3a",
     "prev": "e0af5c2d-dff7-4485-9ef0-742710a07854",
     "regions": {
      "c48d5a21-2e63-4aaf-b126-0abc9811c8fb": {
       "attrs": {
        "height": 0.8,
        "width": 0.8,
        "x": 0.1,
        "y": 0.1
       },
       "content": {
        "cell": "25973523-449f-487e-806a-43a0d1267709",
        "part": "whole"
       },
       "id": "c48d5a21-2e63-4aaf-b126-0abc9811c8fb"
      }
     }
    },
    "a7fb055d-6ac7-4f61-b2f4-2bea806994d0": {
     "id": "a7fb055d-6ac7-4f61-b2f4-2bea806994d0",
     "prev": "b64618d9-83ae-4cc1-90e4-d60a502fc4ea",
     "regions": {
      "a70411a2-b55d-4e99-8c8a-2b145cef4c54": {
       "attrs": {
        "height": 0.8,
        "width": 0.8,
        "x": 0.1,
        "y": 0.1
       },
       "content": {
        "cell": "ea17ccb8-e6b9-4974-8b81-b3b1dc858840",
        "part": "whole"
       },
       "id": "a70411a2-b55d-4e99-8c8a-2b145cef4c54"
      }
     }
    },
    "a85a2687-e4c7-4673-ad58-b9e319115b43": {
     "id": "a85a2687-e4c7-4673-ad58-b9e319115b43",
     "prev": "d2a62dc1-a4c1-4364-842b-fa5c57ecbe39",
     "regions": {
      "830b770e-d404-48cb-aa5e-d3a91d56166f": {
       "attrs": {
        "height": 0.8,
        "width": 0.8,
        "x": 0.1,
        "y": 0.1
       },
       "content": {
        "cell": "a3cd09fb-8183-4075-8a27-f25c433b94b6",
        "part": "whole"
       },
       "id": "830b770e-d404-48cb-aa5e-d3a91d56166f"
      }
     }
    },
    "a8ceab1f-2efc-4fe0-9eb6-63719be52a0f": {
     "id": "a8ceab1f-2efc-4fe0-9eb6-63719be52a0f",
     "prev": "7ecf59f8-feac-4393-a766-72995279bb80",
     "regions": {
      "95c3911b-c0b6-4cab-b6f9-4e0feb79aa0f": {
       "attrs": {
        "height": 0.8,
        "width": 0.8,
        "x": 0.1,
        "y": 0.1
       },
       "content": {
        "cell": "3ced528a-bb23-45f5-b74a-f2358baa6330",
        "part": "whole"
       },
       "id": "95c3911b-c0b6-4cab-b6f9-4e0feb79aa0f"
      }
     }
    },
    "a931b4ae-6f1a-4c8e-919e-6e057a1892b0": {
     "id": "a931b4ae-6f1a-4c8e-919e-6e057a1892b0",
     "prev": "56ed05bf-342a-4b85-bdb6-ca06a854e0c3",
     "regions": {
      "3598744b-4079-4917-a6ce-1faf207b93b0": {
       "attrs": {
        "height": 0.8,
        "width": 0.8,
        "x": 0.1,
        "y": 0.1
       },
       "content": {
        "cell": "2f192ed2-3168-4c5a-8fb6-f050101faf5c",
        "part": "whole"
       },
       "id": "3598744b-4079-4917-a6ce-1faf207b93b0"
      }
     }
    },
    "b03d5016-766c-4f81-b421-9a8a74b89625": {
     "id": "b03d5016-766c-4f81-b421-9a8a74b89625",
     "prev": "bf2088ee-c0f5-4071-afc5-32c4978b14e1",
     "regions": {
      "0416cd2e-a707-45bb-b86d-83989b599f08": {
       "attrs": {
        "height": 0.8,
        "width": 0.8,
        "x": 0.1,
        "y": 0.1
       },
       "content": {
        "cell": "a680cea6-7852-4bbd-8250-2e493925f64f",
        "part": "whole"
       },
       "id": "0416cd2e-a707-45bb-b86d-83989b599f08"
      }
     }
    },
    "b2094171-8aa7-4caf-96c7-471a67da3767": {
     "id": "b2094171-8aa7-4caf-96c7-471a67da3767",
     "prev": "20c29523-2a37-4957-9f79-1117a87d9d30",
     "regions": {
      "4615c3e5-e690-423f-b357-44b35be3ec37": {
       "attrs": {
        "height": 0.8,
        "width": 0.8,
        "x": 0.1,
        "y": 0.1
       },
       "content": {
        "cell": "c27d312e-bd50-47d3-875c-791e9c9bb967",
        "part": "whole"
       },
       "id": "4615c3e5-e690-423f-b357-44b35be3ec37"
      }
     }
    },
    "b64618d9-83ae-4cc1-90e4-d60a502fc4ea": {
     "id": "b64618d9-83ae-4cc1-90e4-d60a502fc4ea",
     "prev": "e147dd4f-37f0-4bb7-bef8-046cee2468ae",
     "regions": {
      "14b3a17b-9628-4f2f-b467-57863a940609": {
       "attrs": {
        "height": 0.8,
        "width": 0.8,
        "x": 0.1,
        "y": 0.1
       },
       "content": {
        "cell": "1bc91444-ffae-4269-b5f9-711f96de0d57",
        "part": "whole"
       },
       "id": "14b3a17b-9628-4f2f-b467-57863a940609"
      }
     }
    },
    "be04c27f-ce4a-48ad-960b-4868276e983e": {
     "id": "be04c27f-ce4a-48ad-960b-4868276e983e",
     "prev": null,
     "regions": {
      "b69931a1-a510-47cb-abf4-0bc90293175d": {
       "attrs": {
        "height": 0.8,
        "width": 0.8,
        "x": 0.1,
        "y": 0.1
       },
       "content": {
        "cell": "4295723e-59b8-44d8-a870-00aa9b45a350",
        "part": "whole"
       },
       "id": "b69931a1-a510-47cb-abf4-0bc90293175d"
      }
     }
    },
    "bf2088ee-c0f5-4071-afc5-32c4978b14e1": {
     "id": "bf2088ee-c0f5-4071-afc5-32c4978b14e1",
     "prev": "fe026d53-1213-4165-99c5-4962c37f256e",
     "regions": {
      "51eb91dc-4238-4094-8f9f-a6efcc3d564e": {
       "attrs": {
        "height": 0.8,
        "width": 0.8,
        "x": 0.1,
        "y": 0.1
       },
       "content": {
        "cell": "84657a1e-3a10-4fdf-a8be-150d6f6f111f",
        "part": "whole"
       },
       "id": "51eb91dc-4238-4094-8f9f-a6efcc3d564e"
      }
     }
    },
    "c097cb57-4f89-4936-bc3e-e9fba767c58f": {
     "id": "c097cb57-4f89-4936-bc3e-e9fba767c58f",
     "prev": "c9384ea4-7d14-4fe2-a39d-7488bd132bbe",
     "regions": {
      "a5a76900-7c80-4771-bcf5-4523ed08ff11": {
       "attrs": {
        "height": 0.8,
        "width": 0.8,
        "x": 0.1,
        "y": 0.1
       },
       "content": {
        "cell": "99f64c24-3e76-4749-b8b0-9750f0fcf242",
        "part": "whole"
       },
       "id": "a5a76900-7c80-4771-bcf5-4523ed08ff11"
      }
     }
    },
    "c3e19796-898c-48ad-95c1-646f79c373d7": {
     "id": "c3e19796-898c-48ad-95c1-646f79c373d7",
     "prev": "f629d8cb-2ab1-4e10-bb7e-761de131df4b",
     "regions": {
      "85b6ecf4-0c1e-40f4-aac4-fb9853718636": {
       "attrs": {
        "height": 0.8,
        "width": 0.8,
        "x": 0.1,
        "y": 0.1
       },
       "content": {
        "cell": "3827b1fc-eab1-4819-9873-7bdc776e2a65",
        "part": "whole"
       },
       "id": "85b6ecf4-0c1e-40f4-aac4-fb9853718636"
      }
     }
    },
    "c61a0a48-32ba-4ece-b948-960152248af7": {
     "id": "c61a0a48-32ba-4ece-b948-960152248af7",
     "prev": "eb4e3cef-563b-425f-8c5f-bc14463a9643",
     "regions": {
      "7f412b36-0ff7-4b4c-97dd-168f26f7ce7d": {
       "attrs": {
        "height": 0.8,
        "width": 0.8,
        "x": 0.1,
        "y": 0.1
       },
       "content": {
        "cell": "bc6f15f4-f9ee-4b4b-89ec-be612f35d946",
        "part": "whole"
       },
       "id": "7f412b36-0ff7-4b4c-97dd-168f26f7ce7d"
      }
     }
    },
    "c9384ea4-7d14-4fe2-a39d-7488bd132bbe": {
     "id": "c9384ea4-7d14-4fe2-a39d-7488bd132bbe",
     "prev": "447e6640-c221-4283-a45c-65f1d6372b30",
     "regions": {
      "02d7a179-61d7-4aa9-8319-1eb4cac4be22": {
       "attrs": {
        "height": 0.8,
        "width": 0.8,
        "x": 0.1,
        "y": 0.1
       },
       "content": {
        "cell": "49b49492-9fc1-4053-bede-49e1a820f941",
        "part": "whole"
       },
       "id": "02d7a179-61d7-4aa9-8319-1eb4cac4be22"
      }
     }
    },
    "ca40cf64-3006-4476-a65b-fd17429e0769": {
     "id": "ca40cf64-3006-4476-a65b-fd17429e0769",
     "prev": "9d0bc234-6d01-467f-abf4-5a302888a105",
     "regions": {
      "e07b1044-4e22-48fb-b400-8c399f2fd2c7": {
       "attrs": {
        "height": 0.8,
        "width": 0.8,
        "x": 0.1,
        "y": 0.1
       },
       "content": {
        "cell": "4a88a060-1e71-4138-b880-c1224d353471",
        "part": "whole"
       },
       "id": "e07b1044-4e22-48fb-b400-8c399f2fd2c7"
      }
     }
    },
    "ca850734-5595-4e24-a62d-d26652ff7700": {
     "id": "ca850734-5595-4e24-a62d-d26652ff7700",
     "prev": "9e8f69cc-66a0-4efa-a844-b8e6199e57fd",
     "regions": {
      "8431bb55-eecd-4176-8e97-1624b2b88d3f": {
       "attrs": {
        "height": 0.8,
        "width": 0.8,
        "x": 0.1,
        "y": 0.1
       },
       "content": {
        "cell": "dda51c7b-3699-4942-bd43-a097a6d82818",
        "part": "whole"
       },
       "id": "8431bb55-eecd-4176-8e97-1624b2b88d3f"
      }
     }
    },
    "ccff47f6-bd66-4940-beb9-c624ed2d6596": {
     "id": "ccff47f6-bd66-4940-beb9-c624ed2d6596",
     "prev": "101dfa7f-ad62-49ba-beb5-21a60cf93385",
     "regions": {
      "158ae557-f717-4e77-be47-cc6121f31436": {
       "attrs": {
        "height": 0.8,
        "width": 0.8,
        "x": 0.1,
        "y": 0.1
       },
       "content": {
        "cell": "9ee1a885-cbe7-43e9-a59e-e700b071d8a9",
        "part": "whole"
       },
       "id": "158ae557-f717-4e77-be47-cc6121f31436"
      }
     }
    },
    "cde5d2da-580d-4bef-a933-ca631959292a": {
     "id": "cde5d2da-580d-4bef-a933-ca631959292a",
     "prev": "b2094171-8aa7-4caf-96c7-471a67da3767",
     "regions": {
      "eb9c4edf-a347-4025-acce-d8c5a6be3207": {
       "attrs": {
        "height": 0.8,
        "width": 0.8,
        "x": 0.1,
        "y": 0.1
       },
       "content": {
        "cell": "f9ef7428-fd39-4364-bf24-2888a677d80f",
        "part": "whole"
       },
       "id": "eb9c4edf-a347-4025-acce-d8c5a6be3207"
      }
     }
    },
    "d2a62dc1-a4c1-4364-842b-fa5c57ecbe39": {
     "id": "d2a62dc1-a4c1-4364-842b-fa5c57ecbe39",
     "prev": "4b62f011-476a-4eeb-8140-4d11305f1b72",
     "regions": {
      "7d0c4369-f1c2-4f93-a92f-e79bfccf5b0c": {
       "attrs": {
        "height": 0.8,
        "width": 0.8,
        "x": 0.1,
        "y": 0.1
       },
       "content": {
        "cell": "ab777bda-d361-4726-8f67-e3c77935f261",
        "part": "whole"
       },
       "id": "7d0c4369-f1c2-4f93-a92f-e79bfccf5b0c"
      }
     }
    },
    "d386fa4f-9682-4034-8098-9c57a8f779ce": {
     "id": "d386fa4f-9682-4034-8098-9c57a8f779ce",
     "prev": "791f0ea1-ea1e-4ef0-8264-877c60e281a9",
     "regions": {
      "522938a0-13d2-4be3-a3c7-6e7ee1371799": {
       "attrs": {
        "height": 0.8,
        "width": 0.8,
        "x": 0.1,
        "y": 0.1
       },
       "content": {
        "cell": "ed943693-94f2-4341-b193-f45bec1dfaf0",
        "part": "whole"
       },
       "id": "522938a0-13d2-4be3-a3c7-6e7ee1371799"
      }
     }
    },
    "d487d505-639c-45c6-9724-648e27b3d83f": {
     "id": "d487d505-639c-45c6-9724-648e27b3d83f",
     "prev": "a7fb055d-6ac7-4f61-b2f4-2bea806994d0",
     "regions": {
      "2f08e8c3-4264-481d-a519-91d34a1d4121": {
       "attrs": {
        "height": 0.8,
        "width": 0.8,
        "x": 0.1,
        "y": 0.1
       },
       "content": {
        "cell": "b51d43ef-4733-4226-ba4d-d521c10c634a",
        "part": "whole"
       },
       "id": "2f08e8c3-4264-481d-a519-91d34a1d4121"
      }
     }
    },
    "d6e423ae-459a-4731-aa13-75a26276bf57": {
     "id": "d6e423ae-459a-4731-aa13-75a26276bf57",
     "prev": "657d92fa-9d4d-4d63-9377-3b38b688804e",
     "regions": {
      "fc3c6a7f-658a-4a76-8c28-f0382e658655": {
       "attrs": {
        "height": 0.8,
        "width": 0.8,
        "x": 0.1,
        "y": 0.1
       },
       "content": {
        "cell": "ea442291-9768-4a4b-900c-9abfec461585",
        "part": "whole"
       },
       "id": "fc3c6a7f-658a-4a76-8c28-f0382e658655"
      }
     }
    },
    "d83e62b5-d8b1-4b4a-bded-c5158d8d80d7": {
     "id": "d83e62b5-d8b1-4b4a-bded-c5158d8d80d7",
     "prev": "a53b3c30-d478-4f61-b461-cb0ff4e51b3a",
     "regions": {
      "4ed360e8-b9e9-4612-aba6-eeb2e3cd6d2a": {
       "attrs": {
        "height": 0.8,
        "width": 0.8,
        "x": 0.1,
        "y": 0.1
       },
       "content": {
        "cell": "eb334425-f41b-4ea5-9d7c-af69fe298b01",
        "part": "whole"
       },
       "id": "4ed360e8-b9e9-4612-aba6-eeb2e3cd6d2a"
      }
     }
    },
    "d9b7196f-01b8-4fa7-90b2-ad404e8b3141": {
     "id": "d9b7196f-01b8-4fa7-90b2-ad404e8b3141",
     "prev": "c61a0a48-32ba-4ece-b948-960152248af7",
     "regions": {
      "88d64df9-187e-4681-9d5d-f0d7b5be754f": {
       "attrs": {
        "height": 0.8,
        "width": 0.8,
        "x": 0.1,
        "y": 0.1
       },
       "content": {
        "cell": "02fbc30e-ff47-4444-b584-3116fb9c91f3",
        "part": "whole"
       },
       "id": "88d64df9-187e-4681-9d5d-f0d7b5be754f"
      }
     }
    },
    "db2ba24d-7651-4d5f-b1c2-c09fa54e5a2b": {
     "id": "db2ba24d-7651-4d5f-b1c2-c09fa54e5a2b",
     "prev": "28243abb-528f-4c63-be06-7f4fa1c83788",
     "regions": {
      "05edf2d4-58fa-4249-b07f-e2fb67f438cf": {
       "attrs": {
        "height": 0.8,
        "width": 0.8,
        "x": 0.1,
        "y": 0.1
       },
       "content": {
        "cell": "9d14ccdd-904f-471c-9640-208951d9a82c",
        "part": "whole"
       },
       "id": "05edf2d4-58fa-4249-b07f-e2fb67f438cf"
      }
     }
    },
    "dc5e74cd-4ddd-4493-a068-a3148f946212": {
     "id": "dc5e74cd-4ddd-4493-a068-a3148f946212",
     "prev": "7f8f280f-ec4f-4205-838d-56f5763d22fc",
     "regions": {
      "d3cfbfc7-7d3d-4724-852d-e23d904707a0": {
       "attrs": {
        "height": 0.8,
        "width": 0.8,
        "x": 0.1,
        "y": 0.1
       },
       "content": {
        "cell": "dbb90639-cd69-485d-8e92-adb91574cfa1",
        "part": "whole"
       },
       "id": "d3cfbfc7-7d3d-4724-852d-e23d904707a0"
      }
     }
    },
    "de305e68-35cc-44de-aeca-3798942e511e": {
     "id": "de305e68-35cc-44de-aeca-3798942e511e",
     "prev": "db2ba24d-7651-4d5f-b1c2-c09fa54e5a2b",
     "regions": {
      "6fadc552-dde2-4d1f-8963-fc4484bec9eb": {
       "attrs": {
        "height": 0.8,
        "width": 0.8,
        "x": 0.1,
        "y": 0.1
       },
       "content": {
        "cell": "97ce37a3-ccf0-40c3-8ecd-ada072851e2a",
        "part": "whole"
       },
       "id": "6fadc552-dde2-4d1f-8963-fc4484bec9eb"
      }
     }
    },
    "e0af5c2d-dff7-4485-9ef0-742710a07854": {
     "id": "e0af5c2d-dff7-4485-9ef0-742710a07854",
     "prev": "a484b706-f4a0-48f7-8629-20355cd74d49",
     "regions": {
      "4a17f57e-8c0e-4194-b605-d6fcd949e8f4": {
       "attrs": {
        "height": 0.8,
        "width": 0.8,
        "x": 0.1,
        "y": 0.1
       },
       "content": {
        "cell": "36d331c4-2f42-417a-9888-844c0953baa7",
        "part": "whole"
       },
       "id": "4a17f57e-8c0e-4194-b605-d6fcd949e8f4"
      }
     }
    },
    "e147dd4f-37f0-4bb7-bef8-046cee2468ae": {
     "id": "e147dd4f-37f0-4bb7-bef8-046cee2468ae",
     "prev": "a8ceab1f-2efc-4fe0-9eb6-63719be52a0f",
     "regions": {
      "5fd0da65-2097-40f2-96e6-ed9434e2cd94": {
       "attrs": {
        "height": 0.8,
        "width": 0.8,
        "x": 0.1,
        "y": 0.1
       },
       "content": {
        "cell": "19971c2f-90bf-4704-9070-e347b332dc56",
        "part": "whole"
       },
       "id": "5fd0da65-2097-40f2-96e6-ed9434e2cd94"
      }
     }
    },
    "e1abd0b9-6816-4ea1-aa29-8f0e4f5c61a9": {
     "id": "e1abd0b9-6816-4ea1-aa29-8f0e4f5c61a9",
     "prev": "723ea711-7dbf-4f73-af87-60beeeea5db1",
     "regions": {
      "06d9044a-e8f2-495c-8eb7-ffbda806c7af": {
       "attrs": {
        "height": 0.8,
        "width": 0.8,
        "x": 0.1,
        "y": 0.1
       },
       "content": {
        "cell": "6e5ce96c-9c60-410e-9e93-493751c209b4",
        "part": "whole"
       },
       "id": "06d9044a-e8f2-495c-8eb7-ffbda806c7af"
      }
     }
    },
    "e48fe5d6-7d68-49ed-baa1-7ee8c0fe443b": {
     "id": "e48fe5d6-7d68-49ed-baa1-7ee8c0fe443b",
     "prev": "893398dd-00bc-46a2-90e3-5bba9411e227",
     "regions": {
      "f4b017fb-72ae-4dad-885b-10cf9f5a4d3a": {
       "attrs": {
        "height": 0.8,
        "width": 0.8,
        "x": 0.1,
        "y": 0.1
       },
       "content": {
        "cell": "eb3eb105-8dad-413c-b49a-bf69049cafc3",
        "part": "whole"
       },
       "id": "f4b017fb-72ae-4dad-885b-10cf9f5a4d3a"
      }
     }
    },
    "eb4e3cef-563b-425f-8c5f-bc14463a9643": {
     "id": "eb4e3cef-563b-425f-8c5f-bc14463a9643",
     "prev": "08986239-a123-48fb-99b2-54f7eab04055",
     "regions": {
      "bdad09dd-68be-4f4c-8980-df7e9de59203": {
       "attrs": {
        "height": 0.8,
        "width": 0.8,
        "x": 0.1,
        "y": 0.1
       },
       "content": {
        "cell": "319ee13b-323e-4586-808d-c3f2b7d11ada",
        "part": "whole"
       },
       "id": "bdad09dd-68be-4f4c-8980-df7e9de59203"
      }
     }
    },
    "eb8372ae-a257-4cc5-a1f1-a3cbf98c5c6b": {
     "id": "eb8372ae-a257-4cc5-a1f1-a3cbf98c5c6b",
     "prev": "a85a2687-e4c7-4673-ad58-b9e319115b43",
     "regions": {
      "f81efb2d-66a2-4dc8-b911-d2ad3d776154": {
       "attrs": {
        "height": 0.8,
        "width": 0.8,
        "x": 0.1,
        "y": 0.1
       },
       "content": {
        "cell": "cd303964-10bd-409a-8a1c-ea394b2fc30b",
        "part": "whole"
       },
       "id": "f81efb2d-66a2-4dc8-b911-d2ad3d776154"
      }
     }
    },
    "ebe98d12-f28b-412c-8726-25f781a981fd": {
     "id": "ebe98d12-f28b-412c-8726-25f781a981fd",
     "prev": "813b69a2-8d8d-46a1-b16e-687297418d5f",
     "regions": {
      "1b57946c-c751-425c-9ff8-a4da07596d9d": {
       "attrs": {
        "height": 0.8,
        "width": 0.8,
        "x": 0.1,
        "y": 0.1
       },
       "content": {
        "cell": "9bd3ef9b-c8b4-4094-a758-191b4886c73a",
        "part": "whole"
       },
       "id": "1b57946c-c751-425c-9ff8-a4da07596d9d"
      }
     }
    },
    "f629d8cb-2ab1-4e10-bb7e-761de131df4b": {
     "id": "f629d8cb-2ab1-4e10-bb7e-761de131df4b",
     "prev": "520721c2-86ca-4325-a628-2fd2bc65e13d",
     "regions": {
      "ba68a3ea-642e-447a-b6e6-adf2f1ea191f": {
       "attrs": {
        "height": 0.8,
        "width": 0.8,
        "x": 0.1,
        "y": 0.1
       },
       "content": {
        "cell": "53ec18a9-930f-4518-85cc-0b0b0b50db20",
        "part": "whole"
       },
       "id": "ba68a3ea-642e-447a-b6e6-adf2f1ea191f"
      }
     }
    },
    "f8999ff0-7a57-4a43-8f73-0fd7df6af09d": {
     "id": "f8999ff0-7a57-4a43-8f73-0fd7df6af09d",
     "prev": "88e42642-6073-4db9-ba1a-f8d75a41c59e",
     "regions": {
      "eb612bc0-c2ca-4043-bb8b-c6025be55c49": {
       "attrs": {
        "height": 0.8,
        "width": 0.8,
        "x": 0.1,
        "y": 0.1
       },
       "content": {
        "cell": "aa5868a6-4cec-48d4-b8ea-919d203b901f",
        "part": "whole"
       },
       "id": "eb612bc0-c2ca-4043-bb8b-c6025be55c49"
      }
     }
    },
    "f952a369-3dba-48ee-ac95-7dd1ada1fd92": {
     "id": "f952a369-3dba-48ee-ac95-7dd1ada1fd92",
     "prev": "d386fa4f-9682-4034-8098-9c57a8f779ce",
     "regions": {
      "82e48c6f-c034-43a9-9bab-2191fe4a6a76": {
       "attrs": {
        "height": 0.8,
        "width": 0.8,
        "x": 0.1,
        "y": 0.1
       },
       "content": {
        "cell": "b9b4c37e-361f-4000-b1a6-5496b24a7748",
        "part": "whole"
       },
       "id": "82e48c6f-c034-43a9-9bab-2191fe4a6a76"
      }
     }
    },
    "fe026d53-1213-4165-99c5-4962c37f256e": {
     "id": "fe026d53-1213-4165-99c5-4962c37f256e",
     "prev": "ca850734-5595-4e24-a62d-d26652ff7700",
     "regions": {
      "cf3888da-9c86-4a7b-980e-ef96af9bcff1": {
       "attrs": {
        "height": 0.8,
        "width": 0.8,
        "x": 0.1,
        "y": 0.1
       },
       "content": {
        "cell": "65e7f578-b577-4f87-bd44-9471a0a8b50b",
        "part": "whole"
       },
       "id": "cf3888da-9c86-4a7b-980e-ef96af9bcff1"
      }
     }
    }
   },
   "themes": {}
  },
  "toc": {
   "nav_menu": {},
   "number_sections": true,
   "sideBar": true,
   "skip_h1_title": false,
   "title_cell": "Table of Contents",
   "title_sidebar": "Contents",
   "toc_cell": true,
   "toc_position": {},
   "toc_section_display": true,
   "toc_window_display": false
  }
 },
 "nbformat": 4,
 "nbformat_minor": 2
}
