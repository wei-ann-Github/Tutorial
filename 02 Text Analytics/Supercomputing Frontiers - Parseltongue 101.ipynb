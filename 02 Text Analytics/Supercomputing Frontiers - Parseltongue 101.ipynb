{
 "cells": [
  {
   "cell_type": "markdown",
   "metadata": {
    "deletable": true,
    "editable": true,
    "nbpresent": {
     "id": "4295723e-59b8-44d8-a870-00aa9b45a350"
    },
    "slideshow": {
     "slide_type": "slide"
    }
   },
   "source": [
    "\n",
    "\n",
    "\n",
    "# ParselTongue 101\n",
    "<img src='img/parseltongue.jpg' align='left'/><br>\n",
    "\n",
    "\"YEAH, HE'S A PARSER-TONGUE.\""
   ]
  },
  {
   "cell_type": "markdown",
   "metadata": {
    "deletable": true,
    "editable": true,
    "slideshow": {
     "slide_type": "slide"
    }
   },
   "source": [
    "## Terminology\n",
    "\n",
    "* **Document** - It is a piece of text to be analyzed. It can be as short as a sentence e.g. tweets, or it can be as long as an encyclopedia. These is no constrain on the length of text.\n",
    "* **Corpus** - It is a collection of Documents. To make analysis meaningful, a corpus usually consists of document that are similar in length, and comparable to one another.\n",
    "* **Lexicon** - A collection of words. Think of this has a dictionary minus the definition of words.\n",
    "* **Taxonomy** - A branch of science that encompasses the description, identification, nomenclature, and classification of organisms. In the context of text, it is the classification of words e.g. words that convery positive sentiment, words that convey negative sentiments.\n",
    "* **Ontologies** - A set of concepts and categories in a subject area or domain that shows their properties and the relations between them."
   ]
  },
  {
   "cell_type": "markdown",
   "metadata": {
    "deletable": true,
    "editable": true,
    "slideshow": {
     "slide_type": "slide"
    }
   },
   "source": [
    "## Python Libraries for Text Analytics\n",
    "\n",
    "In python, some of the libraries commonly used for text analytics are:\n",
    "\n",
    "* **nltk** (natural language toolkit) - A general purpose text analytics library.\n",
    "* **pattern** - A general purpose text analytics library.\n",
    "* **gensim** - mainly used for topic modelling. Topic modelling is the unsupervised categorization of text into \"topics\"\n",
    "* **pyLDAvis** - A LDA visualization library. LDA is a method for performing topic modelling\n",
    "* **wordcloud** - A word visualization library."
   ]
  },
  {
   "cell_type": "code",
   "execution_count": 1,
   "metadata": {
    "collapsed": false,
    "deletable": true,
    "editable": true,
    "nbpresent": {
     "id": "bd28d06b-8713-42fb-a081-357322d41970"
    },
    "slideshow": {
     "slide_type": "subslide"
    }
   },
   "outputs": [],
   "source": [
    "# load some python libraries for this demonstration\n",
    "import warnings\n",
    "warnings.filterwarnings(action='ignore', category=UserWarning, module='gensim')\n",
    "from IPython.display import display, HTML\n",
    "\n",
    "# for text analysis\n",
    "import gensim\n",
    "from gensim import corpora, models, similarities\n",
    "import nltk\n",
    "from nltk import ngrams\n",
    "from nltk.corpus import stopwords\n",
    "from nltk.sentiment import vader\n",
    "from nltk.stem.porter import PorterStemmer\n",
    "from nltk.tokenize import TweetTokenizer\n",
    "from pattern.en import lemma, mood\n",
    "\n",
    "# for visualizing text analysis result\n",
    "import pyLDAvis\n",
    "import pyLDAvis.gensim\n",
    "from wordcloud import WordCloud\n",
    "\n",
    "from matplotlib.cbook import flatten\n",
    "import matplotlib.pyplot as plt\n",
    "import os\n",
    "import pickle\n",
    "import re\n",
    "import string\n",
    "import time\n",
    "import glob\n",
    "\n",
    "import numpy as np\n",
    "import pandas as pd\n",
    "from scipy.sparse import csc_matrix, csr_matrix\n",
    "# import warnings\n",
    "warnings.filterwarnings('ignore')\n",
    "\n",
    "# set options\n",
    "% matplotlib inline\n",
    "pyLDAvis.enable_notebook()\n",
    "pd.set_option('display.max_colwidth', -1)"
   ]
  },
  {
   "cell_type": "markdown",
   "metadata": {
    "deletable": true,
    "editable": true,
    "slideshow": {
     "slide_type": "slide"
    }
   },
   "source": [
    "## Text Analysis Process\n",
    "\n",
    "Text is an unstructured data. It is not organized in a pre-defined manner, like what we are familiar with in a spreadsheet. The first 3 steps of the text analysis process will involve structuring the texts.\n",
    "\n",
    "The text analysis process can be broken down into the following:\n",
    "\n",
    "1. Tokenization - This is the decomposition of documents into individual words. Documents can also be decomposed into sentences, followed by decomposing each sentence into words.\n",
    "* Preprocessing - This is a series of optional steps to 'clean' the tokens.\n",
    "    * Lowercase characters\n",
    "    * Remove stop words\n",
    "    * Remove punctuations\n",
    "    * Stemming/lemmatizing\n",
    "    \n",
    "    (cont...)"
   ]
  },
  {
   "cell_type": "markdown",
   "metadata": {
    "deletable": true,
    "editable": true,
    "slideshow": {
     "slide_type": "subslide"
    }
   },
   "source": [
    "<p>3. Structuring text</p> \n",
    "\n",
    "* Sparse matrix representation\n",
    "* Term weighting\n",
    "\n",
    "<p>4. Enhancing texts</p>\n",
    "\n",
    "* Ngram\n",
    "* Part of speech (POS) tagging\n",
    "* Entity recognition\n",
    "\n",
    "<p>5. Performing analysis</p>\n",
    "\n",
    "* Sentiment analysis\n",
    "* Document similarity\n",
    "* Topic modelling\n",
    "* Topic classification (For exploration)\n",
    "* Document summarization (For exploration)"
   ]
  },
  {
   "cell_type": "code",
   "execution_count": 2,
   "metadata": {
    "collapsed": false,
    "deletable": true,
    "editable": true,
    "slideshow": {
     "slide_type": "skip"
    }
   },
   "outputs": [],
   "source": [
    "doc1 = 'Text is unstructured, thus needs to be structured for analysis.'\n",
    "doc2 = 'When structured, text can be treated as structured data for analysis.'\n",
    "corpus1_1 = [doc1, doc2] \n",
    "token_list = []\n",
    "import collections\n",
    "for doc in corpus1_1:\n",
    "    temp_dict = collections.defaultdict(int)\n",
    "    tokens = nltk.word_tokenize(doc)\n",
    "    for t in tokens:\n",
    "        temp_dict[t] += 1\n",
    "    token_list.append(temp_dict)\n",
    "    \n",
    "corpus1_1_df = pd.DataFrame(token_list, index=[doc1, doc2])\n",
    "corpus1_1_df = corpus1_1_df.fillna(0)"
   ]
  },
  {
   "cell_type": "markdown",
   "metadata": {
    "deletable": true,
    "editable": true,
    "slideshow": {
     "slide_type": "slide"
    },
    "variables": {
     "corpus1_1_df": "<div>\n<table border=\"1\" class=\"dataframe\">\n  <thead>\n    <tr style=\"text-align: right;\">\n      <th></th>\n      <th>,</th>\n      <th>.</th>\n      <th>Text</th>\n      <th>When</th>\n      <th>analysis</th>\n      <th>as</th>\n      <th>be</th>\n      <th>can</th>\n      <th>data</th>\n      <th>for</th>\n      <th>is</th>\n      <th>needs</th>\n      <th>structured</th>\n      <th>text</th>\n      <th>thus</th>\n      <th>to</th>\n      <th>treated</th>\n      <th>unstructured</th>\n    </tr>\n  </thead>\n  <tbody>\n    <tr>\n      <th>Text is unstructured, thus needs to be structured for analysis.</th>\n      <td>1</td>\n      <td>1</td>\n      <td>1.0</td>\n      <td>0.0</td>\n      <td>1</td>\n      <td>0.0</td>\n      <td>1</td>\n      <td>0.0</td>\n      <td>0.0</td>\n      <td>1</td>\n      <td>1.0</td>\n      <td>1.0</td>\n      <td>1</td>\n      <td>0.0</td>\n      <td>1.0</td>\n      <td>1.0</td>\n      <td>0.0</td>\n      <td>1.0</td>\n    </tr>\n    <tr>\n      <th>When structured, text can be treated as structured data for analysis.</th>\n      <td>1</td>\n      <td>1</td>\n      <td>0.0</td>\n      <td>1.0</td>\n      <td>1</td>\n      <td>1.0</td>\n      <td>1</td>\n      <td>1.0</td>\n      <td>1.0</td>\n      <td>1</td>\n      <td>0.0</td>\n      <td>0.0</td>\n      <td>2</td>\n      <td>1.0</td>\n      <td>0.0</td>\n      <td>0.0</td>\n      <td>1.0</td>\n      <td>0.0</td>\n    </tr>\n  </tbody>\n</table>\n</div>"
    }
   },
   "source": [
    "## Tokenization\n",
    "\n",
    "Texts are unstructured data. In order to perform analysis on them, it has to be converted into a structured data similar like the one shown here: \n",
    "\n",
    "{{corpus1_1_df}}"
   ]
  },
  {
   "cell_type": "markdown",
   "metadata": {
    "deletable": true,
    "editable": true,
    "slideshow": {
     "slide_type": "subslide"
    }
   },
   "source": [
    "**Tokenization** is rule based: split the sentence/document by a certain delimiter/separator e.g. by the punctations between sentences or the space between words. Some other rules can be used in conjunction. \n",
    "\n",
    "Introducing 3 tokenizers:\n",
    "\n",
    "1. nltk.sent_tokenize()\n",
    "1. nltk.word_tokenize()\n",
    "* TweetTokenizer()"
   ]
  },
  {
   "cell_type": "markdown",
   "metadata": {
    "deletable": true,
    "editable": true,
    "nbpresent": {
     "id": "6e5ce96c-9c60-410e-9e93-493751c209b4"
    },
    "slideshow": {
     "slide_type": "subslide"
    }
   },
   "source": [
    "### *nltk.sent_tokenize*"
   ]
  },
  {
   "cell_type": "code",
   "execution_count": 3,
   "metadata": {
    "collapsed": false,
    "deletable": true,
    "editable": true
   },
   "outputs": [
    {
     "data": {
      "text/plain": [
       "['This is the result of using nltk.sent_tokenize.',\n",
       " \"It's exciting to hear about text analytics today!!!\",\n",
       " ':D:)']"
      ]
     },
     "metadata": {},
     "output_type": "display_data"
    }
   ],
   "source": [
    "doc3 = \"This is the result of using nltk.sent_tokenize. It's exciting to hear about text analytics today!!! :D:)\"\n",
    "display(nltk.sent_tokenize(doc3))"
   ]
  },
  {
   "cell_type": "markdown",
   "metadata": {
    "deletable": true,
    "editable": true,
    "nbpresent": {
     "id": "6e5ce96c-9c60-410e-9e93-493751c209b4"
    },
    "slideshow": {
     "slide_type": "subslide"
    }
   },
   "source": [
    "### *nltk.word_tokenize*"
   ]
  },
  {
   "cell_type": "code",
   "execution_count": 4,
   "metadata": {
    "collapsed": false,
    "deletable": true,
    "editable": true,
    "nbpresent": {
     "id": "280e41bb-4797-4b01-a344-87fdfa69933c"
    },
    "slideshow": {
     "slide_type": "-"
    }
   },
   "outputs": [
    {
     "data": {
      "text/plain": [
       "['This', 'is', 'the', 'result', 'of', 'using', 'nltk.word_tokenize', '.']"
      ]
     },
     "metadata": {},
     "output_type": "display_data"
    }
   ],
   "source": [
    "doc3 = 'This is the result of using nltk.word_tokenize.'\n",
    "display(nltk.word_tokenize(doc3))"
   ]
  },
  {
   "cell_type": "markdown",
   "metadata": {
    "deletable": true,
    "editable": true,
    "slideshow": {
     "slide_type": "-"
    }
   },
   "source": [
    "Notice that the period at the end of the sentence is tokenized, but the period in the middle of *nltk.word_tokenize* is not.\n",
    "\n",
    "Can *nltk.word_tokenize* handle emoticons?"
   ]
  },
  {
   "cell_type": "code",
   "execution_count": 5,
   "metadata": {
    "collapsed": false,
    "deletable": true,
    "editable": true,
    "slideshow": {
     "slide_type": "subslide"
    }
   },
   "outputs": [
    {
     "name": "stdout",
     "output_type": "stream",
     "text": [
      "['It', \"'s\", 'exciting', 'to', 'hear', 'about', 'text', 'analytics', 'today', '!', '!', '!', ':', 'D', ':', ')']\n"
     ]
    }
   ],
   "source": [
    "doc4 = \"It's exciting to hear about text analytics today!!! :D:)\"\n",
    "doc4_tokens = nltk.word_tokenize(doc4)\n",
    "print doc4_tokens"
   ]
  },
  {
   "cell_type": "markdown",
   "metadata": {
    "deletable": true,
    "editable": true,
    "nbpresent": {
     "id": "49b49492-9fc1-4053-bede-49e1a820f941"
    },
    "slideshow": {
     "slide_type": "subslide"
    }
   },
   "source": [
    "### _TweetTokenizer()_\n",
    "\n",
    "In reviews and informal texts, people may include emoticons to express their sentiments. We saw that *nltk.word_tokeniz()* was unable to handle it. Tokenizing on reviews/informal texts may need to consider emoticons if we are going to perform sentiment analysis."
   ]
  },
  {
   "cell_type": "code",
   "execution_count": 6,
   "metadata": {
    "collapsed": false,
    "deletable": true,
    "editable": true,
    "nbpresent": {
     "id": "99f64c24-3e76-4749-b8b0-9750f0fcf242"
    },
    "slideshow": {
     "slide_type": "-"
    }
   },
   "outputs": [
    {
     "name": "stdout",
     "output_type": "stream",
     "text": [
      "It's exciting to hear about text analytics today!!! :D:)\n",
      "[u\"It's\", u'exciting', u'to', u'hear', u'about', u'text', u'analytics', u'today', u'!', u'!', u'!', u':D', u':)']\n"
     ]
    }
   ],
   "source": [
    "tknz = TweetTokenizer() # From the nltk library. Able to preserve emoticon.\n",
    "\n",
    "print doc4\n",
    "print tknz.tokenize(doc4)"
   ]
  },
  {
   "cell_type": "markdown",
   "metadata": {
    "deletable": true,
    "editable": true,
    "nbpresent": {
     "id": "c27d312e-bd50-47d3-875c-791e9c9bb967"
    },
    "slideshow": {
     "slide_type": "notes"
    }
   },
   "source": [
    "See the difference in how _TweetTokenizer_ and *word_tokenize* tokenizes the emoticon and \"It's\".\n",
    "Take note of this and the implications. I'll highlight later."
   ]
  },
  {
   "cell_type": "markdown",
   "metadata": {
    "deletable": true,
    "editable": true,
    "slideshow": {
     "slide_type": "slide"
    }
   },
   "source": [
    "## Preprocessing\n",
    "\n",
    "Here are some of the common _(but optional)_ steps performed in pre-processing.\n",
    "\n",
    "* Lowercasing\n",
    "* Remove stop words\n",
    "* Remove punctuations\n",
    "* Remove tokens matching a certain pattern\n",
    "* Stemming/Lemmatizing\n",
    "\n",
    "The purpose of preprocessing is to reduce the number of tokens. I will highlight how each of the pre-processing steps achieve that goal."
   ]
  },
  {
   "cell_type": "markdown",
   "metadata": {
    "deletable": true,
    "editable": true,
    "slideshow": {
     "slide_type": "subslide"
    }
   },
   "source": [
    "### Lowercasing\n",
    "\n",
    "The first letter of a word at the beginning of a sentence is capitalized, but this word is essentially the same word if it happens in the middle of the sentence. By lowercasing, those words will be considered the same.\n",
    "\n",
    "When do we not want to lowercase?\n",
    "\n",
    "* _AIDS_ and _aids_"
   ]
  },
  {
   "cell_type": "markdown",
   "metadata": {
    "deletable": true,
    "editable": true,
    "slideshow": {
     "slide_type": "subslide"
    }
   },
   "source": [
    "### Remove stop words\n",
    "\n",
    "**Stop words** are common words like 'in', 'the', 'that', 'a' etc. that appear in abundance and does not help in differentiating 1 document from another. "
   ]
  },
  {
   "cell_type": "code",
   "execution_count": 7,
   "metadata": {
    "collapsed": false,
    "deletable": true,
    "editable": true,
    "slideshow": {
     "slide_type": "subslide"
    }
   },
   "outputs": [
    {
     "name": "stdout",
     "output_type": "stream",
     "text": [
      "i, me, my, myself, we, our, ours, ourselves, you, your, yours, yourself, yourselves, he, him, his, himself, she, her, hers, herself, it, its, itself, they, them, their, theirs, themselves, what, which, who, whom, this, that, these, those, am, is, are, was, were, be, been, being, have, has, had, having, do, does, did, doing, a, an, the, and, but, if, or, because, as, until, while, of, at, by, for, with, about, against, between, into, through, during, before, after, above, below, to, from, up, down, in, out, on, off, over, under, again, further, then, once, here, there, when, where, why, how, all, any, both, each, few, more, most, other, some, such, no, nor, not, only, own, same, so, than, too, very, s, t, can, will, just, don, should, now, d, ll, m, o, re, ve, y, ain, aren, couldn, didn, doesn, hadn, hasn, haven, isn, ma, mightn, mustn, needn, shan, shouldn, wasn, weren, won, wouldn \n",
      "\n",
      "['It', \"'s\", 'exciting', 'to', 'hear', 'about', 'text', 'analytics', 'today', '!', '!', '!', ':', 'D', ':', ')']\n",
      "['It', \"'s\", 'exciting', 'hear', 'text', 'analytics', 'today', '!', '!', '!', ':', 'D', ':', ')']\n"
     ]
    }
   ],
   "source": [
    "stop_words = stopwords.words('english') # From the nltk library\n",
    "# show the stop words\n",
    "print ', '.join(stop_words), '\\n'\n",
    "\n",
    "doc4_stopwords_rm = [w for w in doc4_tokens if w not in stop_words]\n",
    "print doc4_tokens\n",
    "print doc4_stopwords_rm"
   ]
  },
  {
   "cell_type": "markdown",
   "metadata": {
    "deletable": true,
    "editable": true,
    "slideshow": {
     "slide_type": "subslide"
    }
   },
   "source": [
    "Notice that the stopwords are in lowercase, hence the stopwords in the document must be in lowercase before it can be removed.\n",
    "\n",
    "In addition, one can always customize the stopwords to suit analysis needs.\n",
    "\n",
    "Recall previously, *nltk.word_tokenize()* tokeenizes \"it's\" into \"it\" and \"'s\", but \"'s\" is not in the stopword list. We can add \"'s\", as well as some other common \" ' \" words, into the stopword list before filtering those words:"
   ]
  },
  {
   "cell_type": "code",
   "execution_count": 8,
   "metadata": {
    "collapsed": false,
    "deletable": true,
    "editable": true,
    "slideshow": {
     "slide_type": "subslide"
    }
   },
   "outputs": [
    {
     "name": "stdout",
     "output_type": "stream",
     "text": [
      "[u'i', u'me', u'my', u'myself', u'we', u'our', u'ours', u'ourselves', u'you', u'your', u'yours', u'yourself', u'yourselves', u'he', u'him', u'his', u'himself', u'she', u'her', u'hers', u'herself', u'it', u'its', u'itself', u'they', u'them', u'their', u'theirs', u'themselves', u'what', u'which', u'who', u'whom', u'this', u'that', u'these', u'those', u'am', u'is', u'are', u'was', u'were', u'be', u'been', u'being', u'have', u'has', u'had', u'having', u'do', u'does', u'did', u'doing', u'a', u'an', u'the', u'and', u'but', u'if', u'or', u'because', u'as', u'until', u'while', u'of', u'at', u'by', u'for', u'with', u'about', u'against', u'between', u'into', u'through', u'during', u'before', u'after', u'above', u'below', u'to', u'from', u'up', u'down', u'in', u'out', u'on', u'off', u'over', u'under', u'again', u'further', u'then', u'once', u'here', u'there', u'when', u'where', u'why', u'how', u'all', u'any', u'both', u'each', u'few', u'more', u'most', u'other', u'some', u'such', u'no', u'nor', u'not', u'only', u'own', u'same', u'so', u'than', u'too', u'very', u's', u't', u'can', u'will', u'just', u'don', u'should', u'now', u'd', u'll', u'm', u'o', u're', u've', u'y', u'ain', u'aren', u'couldn', u'didn', u'doesn', u'hadn', u'hasn', u'haven', u'isn', u'ma', u'mightn', u'mustn', u'needn', u'shan', u'shouldn', u'wasn', u'weren', u'won', u'wouldn', \"n't\", \"'s\", \"'re\", \"'m\"]\n"
     ]
    }
   ],
   "source": [
    "additional_sw = [\"n't\", \"'s\", \"'re\", \"'m\"]\n",
    "stop_words += additional_sw\n",
    "print stop_words"
   ]
  },
  {
   "cell_type": "markdown",
   "metadata": {
    "deletable": true,
    "editable": true,
    "slideshow": {
     "slide_type": "subslide"
    }
   },
   "source": [
    "### Remove punctuations"
   ]
  },
  {
   "cell_type": "code",
   "execution_count": 9,
   "metadata": {
    "collapsed": false,
    "deletable": true,
    "editable": true,
    "slideshow": {
     "slide_type": "-"
    }
   },
   "outputs": [
    {
     "name": "stdout",
     "output_type": "stream",
     "text": [
      "Punctuations !\"#$%&'()*+,-./:;<=>?@[\\]^_`{|}~ \n",
      "\n",
      "['It', \"'s\", 'exciting', 'hear', 'text', 'analytics', 'today', '!', '!', '!', ':', 'D', ':', ')']\n",
      "['It', \"'s\", 'exciting', 'hear', 'text', 'analytics', 'today', 'D']\n"
     ]
    }
   ],
   "source": [
    "print 'Punctuations', string.punctuation, '\\n' # List of punctuations in the string library\n",
    "\n",
    "doc4_punc_rm = [w for w in doc4_stopwords_rm if w not in string.punctuation]\n",
    "print doc4_stopwords_rm\n",
    "print doc4_punc_rm"
   ]
  },
  {
   "cell_type": "code",
   "execution_count": 10,
   "metadata": {
    "collapsed": false,
    "deletable": true,
    "editable": true,
    "slideshow": {
     "slide_type": "subslide"
    }
   },
   "outputs": [
    {
     "name": "stdout",
     "output_type": "stream",
     "text": [
      "It's exciting to hear about text analytics today!!! :D:)\n",
      "[u'exciting', u'hear', u'text', u'analytics', u'today', u':d', u':)']\n"
     ]
    }
   ],
   "source": [
    "# A better tokenization that considers emoticons, apostrophes and lowercase.\n",
    "# Uses regex to search for patterns in words as well.\n",
    "doc4_better_tokens4 = list(flatten([nltk.word_tokenize(w) if re.search( \"|\".join(additional_sw)+'$', w) else w \n",
    "                 for w in tknz.tokenize(doc4)]))\n",
    "doc4_better_clean = [w.lower() for w in doc4_better_tokens4 if w.lower() not in list(string.punctuation) + stop_words]\n",
    "print doc4\n",
    "print doc4_better_clean"
   ]
  },
  {
   "cell_type": "markdown",
   "metadata": {
    "slideshow": {
     "slide_type": "subslide"
    }
   },
   "source": [
    "### Remove tokens matching a certain pattern\n",
    "\n",
    "Regular expression (Regex for shor) is utilized here. Uses the re library in python.\n",
    "\n",
    "Some symbols:\n",
    "\n",
    "* ^ - represents the start of the string.\n",
    "* $ - represents the end of the string.\n",
    "* | - or operator.  E.g. contains \"string1|string2\"\n",
    "* [] - one of the characters contained within these square brackets\n",
    "* \\. - represents string of characters with any length\n",
    "* \\+ - represents any number of the same characters\n",
    "* and more"
   ]
  },
  {
   "cell_type": "code",
   "execution_count": 11,
   "metadata": {
    "collapsed": false,
    "slideshow": {
     "slide_type": "subslide"
    }
   },
   "outputs": [
    {
     "name": "stdout",
     "output_type": "stream",
     "text": [
      "^[a-z]+$ [<_sre.SRE_Match object at 0x000000001169AB90>, None]\n",
      "^[a-z0-9]+$ [<_sre.SRE_Match object at 0x000000001169AB90>, None]\n",
      "anywhere [<_sre.SRE_Match object at 0x000000001169AB90>, <_sre.SRE_Match object at 0x000000001169ABF8>]\n",
      "theend$ [None, None, <_sre.SRE_Match object at 0x000000001169AB90>]\n"
     ]
    }
   ],
   "source": [
    "# E.g. you want characters containing only letters from start to finish.\n",
    "print '^[a-z]+$', [re.search('^[a-z]+$', w) for w in ['string', 'str1ng']] # the '+' sign is important to indicate repetition.\n",
    "print '^[a-z0-9]+$', [re.search('^[a-z0-9]+$', w) for w in ['number5lettersonly', \"number'5lettersonly\"]]\n",
    "print 'anywhere', [re.search('anywhere', w) for w in ['HanywhereH', 'anywheresdfsfsd']]\n",
    "print 'theend$', [re.search('theend$', w) for w in ['SCFtheendSCF', 'theendSCF', 'SCFtheend']]"
   ]
  },
  {
   "cell_type": "markdown",
   "metadata": {
    "deletable": true,
    "editable": true,
    "slideshow": {
     "slide_type": "subslide"
    }
   },
   "source": [
    "### Stemming/Lemmatizing\n",
    "\n",
    "It's the conversion of tokens into its root word.\n",
    "\n",
    "* Stemming - rule based removal of characters in the word.\n",
    "* Lemmatizing - lexicon based conversion of words into its root."
   ]
  },
  {
   "cell_type": "code",
   "execution_count": 12,
   "metadata": {
    "collapsed": false,
    "deletable": true,
    "editable": true,
    "slideshow": {
     "slide_type": "subslide"
    }
   },
   "outputs": [
    {
     "name": "stdout",
     "output_type": "stream",
     "text": [
      "Stemming\n",
      "computes --> comput \tcomputed --> comput \tcomputing --> comput \tcomputer --> comput \t\n",
      "\n",
      "Lemmatizing\n",
      "computes --> compute \tcomputed --> compute \tcomputing --> compute \tcomputer --> computer \t\n",
      "\n"
     ]
    }
   ],
   "source": [
    "# Stemming using the Porterstemmer in nltk\n",
    "Porter = PorterStemmer()\n",
    "words = ['computes', 'computed', 'computing', 'computer']\n",
    "\n",
    "print 'Stemming'\n",
    "for w in words:\n",
    "    print w, \"-->\", Porter.stem(w), \"\\t\",\n",
    "print \"\\n\"\n",
    "\n",
    "# Lemmatizing using pattern.en\n",
    "print 'Lemmatizing'\n",
    "for w in words:\n",
    "    print w, '-->', lemma(w), '\\t',\n",
    "print '\\n'"
   ]
  },
  {
   "cell_type": "markdown",
   "metadata": {
    "deletable": true,
    "editable": true,
    "slideshow": {
     "slide_type": "slide"
    }
   },
   "source": [
    "## Structuring text\n",
    "* Sparse matrix representation\n",
    "* Term weighting"
   ]
  },
  {
   "cell_type": "code",
   "execution_count": 32,
   "metadata": {
    "collapsed": false
   },
   "outputs": [
    {
     "data": {
      "text/html": [
       "<div>\n",
       "<table border=\"1\" class=\"dataframe\">\n",
       "  <thead>\n",
       "    <tr style=\"text-align: right;\">\n",
       "      <th></th>\n",
       "      <th>add</th>\n",
       "      <th>analysi</th>\n",
       "      <th>data</th>\n",
       "      <th>document</th>\n",
       "      <th>need</th>\n",
       "      <th>new</th>\n",
       "      <th>structure</th>\n",
       "      <th>text</th>\n",
       "      <th>thu</th>\n",
       "      <th>treat</th>\n",
       "      <th>unstructure</th>\n",
       "    </tr>\n",
       "  </thead>\n",
       "  <tbody>\n",
       "    <tr>\n",
       "      <th>Text is unstructured, thus needs to be structured for analysis.</th>\n",
       "      <td>0</td>\n",
       "      <td>1</td>\n",
       "      <td>0</td>\n",
       "      <td>0</td>\n",
       "      <td>1</td>\n",
       "      <td>0</td>\n",
       "      <td>1</td>\n",
       "      <td>1</td>\n",
       "      <td>1</td>\n",
       "      <td>0</td>\n",
       "      <td>1</td>\n",
       "    </tr>\n",
       "    <tr>\n",
       "      <th>When structured, text can be treated as structured data for analysis.</th>\n",
       "      <td>0</td>\n",
       "      <td>1</td>\n",
       "      <td>1</td>\n",
       "      <td>0</td>\n",
       "      <td>0</td>\n",
       "      <td>0</td>\n",
       "      <td>2</td>\n",
       "      <td>1</td>\n",
       "      <td>0</td>\n",
       "      <td>1</td>\n",
       "      <td>0</td>\n",
       "    </tr>\n",
       "    <tr>\n",
       "      <th>This is a new document added.</th>\n",
       "      <td>1</td>\n",
       "      <td>0</td>\n",
       "      <td>0</td>\n",
       "      <td>1</td>\n",
       "      <td>0</td>\n",
       "      <td>1</td>\n",
       "      <td>0</td>\n",
       "      <td>0</td>\n",
       "      <td>0</td>\n",
       "      <td>0</td>\n",
       "      <td>0</td>\n",
       "    </tr>\n",
       "  </tbody>\n",
       "</table>\n",
       "</div>"
      ],
      "text/plain": [
       "                                                                       add  \\\n",
       "Text is unstructured, thus needs to be structured for analysis.        0     \n",
       "When structured, text can be treated as structured data for analysis.  0     \n",
       "This is a new document added.                                          1     \n",
       "\n",
       "                                                                       analysi  \\\n",
       "Text is unstructured, thus needs to be structured for analysis.        1         \n",
       "When structured, text can be treated as structured data for analysis.  1         \n",
       "This is a new document added.                                          0         \n",
       "\n",
       "                                                                       data  \\\n",
       "Text is unstructured, thus needs to be structured for analysis.        0      \n",
       "When structured, text can be treated as structured data for analysis.  1      \n",
       "This is a new document added.                                          0      \n",
       "\n",
       "                                                                       document  \\\n",
       "Text is unstructured, thus needs to be structured for analysis.        0          \n",
       "When structured, text can be treated as structured data for analysis.  0          \n",
       "This is a new document added.                                          1          \n",
       "\n",
       "                                                                       need  \\\n",
       "Text is unstructured, thus needs to be structured for analysis.        1      \n",
       "When structured, text can be treated as structured data for analysis.  0      \n",
       "This is a new document added.                                          0      \n",
       "\n",
       "                                                                       new  \\\n",
       "Text is unstructured, thus needs to be structured for analysis.        0     \n",
       "When structured, text can be treated as structured data for analysis.  0     \n",
       "This is a new document added.                                          1     \n",
       "\n",
       "                                                                       structure  \\\n",
       "Text is unstructured, thus needs to be structured for analysis.        1           \n",
       "When structured, text can be treated as structured data for analysis.  2           \n",
       "This is a new document added.                                          0           \n",
       "\n",
       "                                                                       text  \\\n",
       "Text is unstructured, thus needs to be structured for analysis.        1      \n",
       "When structured, text can be treated as structured data for analysis.  1      \n",
       "This is a new document added.                                          0      \n",
       "\n",
       "                                                                       thu  \\\n",
       "Text is unstructured, thus needs to be structured for analysis.        1     \n",
       "When structured, text can be treated as structured data for analysis.  0     \n",
       "This is a new document added.                                          0     \n",
       "\n",
       "                                                                       treat  \\\n",
       "Text is unstructured, thus needs to be structured for analysis.        0       \n",
       "When structured, text can be treated as structured data for analysis.  1       \n",
       "This is a new document added.                                          0       \n",
       "\n",
       "                                                                       unstructure  \n",
       "Text is unstructured, thus needs to be structured for analysis.        1            \n",
       "When structured, text can be treated as structured data for analysis.  0            \n",
       "This is a new document added.                                          0            "
      ]
     },
     "execution_count": 32,
     "metadata": {},
     "output_type": "execute_result"
    }
   ],
   "source": [
    "corpus1_2_df.astype(int)"
   ]
  },
  {
   "cell_type": "code",
   "execution_count": 33,
   "metadata": {
    "collapsed": false,
    "deletable": true,
    "editable": true,
    "slideshow": {
     "slide_type": "skip"
    }
   },
   "outputs": [
    {
     "data": {
      "text/html": [
       "<div>\n",
       "<table border=\"1\" class=\"dataframe\">\n",
       "  <thead>\n",
       "    <tr style=\"text-align: right;\">\n",
       "      <th></th>\n",
       "      <th>add</th>\n",
       "      <th>analysi</th>\n",
       "      <th>data</th>\n",
       "      <th>document</th>\n",
       "      <th>need</th>\n",
       "      <th>new</th>\n",
       "      <th>structure</th>\n",
       "      <th>text</th>\n",
       "      <th>thu</th>\n",
       "      <th>treat</th>\n",
       "      <th>unstructure</th>\n",
       "    </tr>\n",
       "  </thead>\n",
       "  <tbody>\n",
       "    <tr>\n",
       "      <th>Text is unstructured, thus needs to be structured for analysis.</th>\n",
       "      <td>0</td>\n",
       "      <td>1</td>\n",
       "      <td>0</td>\n",
       "      <td>0</td>\n",
       "      <td>1</td>\n",
       "      <td>0</td>\n",
       "      <td>1</td>\n",
       "      <td>1</td>\n",
       "      <td>1</td>\n",
       "      <td>0</td>\n",
       "      <td>1</td>\n",
       "    </tr>\n",
       "    <tr>\n",
       "      <th>When structured, text can be treated as structured data for analysis.</th>\n",
       "      <td>0</td>\n",
       "      <td>1</td>\n",
       "      <td>1</td>\n",
       "      <td>0</td>\n",
       "      <td>0</td>\n",
       "      <td>0</td>\n",
       "      <td>2</td>\n",
       "      <td>1</td>\n",
       "      <td>0</td>\n",
       "      <td>1</td>\n",
       "      <td>0</td>\n",
       "    </tr>\n",
       "    <tr>\n",
       "      <th>This is a new document added.</th>\n",
       "      <td>1</td>\n",
       "      <td>0</td>\n",
       "      <td>0</td>\n",
       "      <td>1</td>\n",
       "      <td>0</td>\n",
       "      <td>1</td>\n",
       "      <td>0</td>\n",
       "      <td>0</td>\n",
       "      <td>0</td>\n",
       "      <td>0</td>\n",
       "      <td>0</td>\n",
       "    </tr>\n",
       "  </tbody>\n",
       "</table>\n",
       "</div>"
      ],
      "text/plain": [
       "                                                                       add  \\\n",
       "Text is unstructured, thus needs to be structured for analysis.        0     \n",
       "When structured, text can be treated as structured data for analysis.  0     \n",
       "This is a new document added.                                          1     \n",
       "\n",
       "                                                                       analysi  \\\n",
       "Text is unstructured, thus needs to be structured for analysis.        1         \n",
       "When structured, text can be treated as structured data for analysis.  1         \n",
       "This is a new document added.                                          0         \n",
       "\n",
       "                                                                       data  \\\n",
       "Text is unstructured, thus needs to be structured for analysis.        0      \n",
       "When structured, text can be treated as structured data for analysis.  1      \n",
       "This is a new document added.                                          0      \n",
       "\n",
       "                                                                       document  \\\n",
       "Text is unstructured, thus needs to be structured for analysis.        0          \n",
       "When structured, text can be treated as structured data for analysis.  0          \n",
       "This is a new document added.                                          1          \n",
       "\n",
       "                                                                       need  \\\n",
       "Text is unstructured, thus needs to be structured for analysis.        1      \n",
       "When structured, text can be treated as structured data for analysis.  0      \n",
       "This is a new document added.                                          0      \n",
       "\n",
       "                                                                       new  \\\n",
       "Text is unstructured, thus needs to be structured for analysis.        0     \n",
       "When structured, text can be treated as structured data for analysis.  0     \n",
       "This is a new document added.                                          1     \n",
       "\n",
       "                                                                       structure  \\\n",
       "Text is unstructured, thus needs to be structured for analysis.        1           \n",
       "When structured, text can be treated as structured data for analysis.  2           \n",
       "This is a new document added.                                          0           \n",
       "\n",
       "                                                                       text  \\\n",
       "Text is unstructured, thus needs to be structured for analysis.        1      \n",
       "When structured, text can be treated as structured data for analysis.  1      \n",
       "This is a new document added.                                          0      \n",
       "\n",
       "                                                                       thu  \\\n",
       "Text is unstructured, thus needs to be structured for analysis.        1     \n",
       "When structured, text can be treated as structured data for analysis.  0     \n",
       "This is a new document added.                                          0     \n",
       "\n",
       "                                                                       treat  \\\n",
       "Text is unstructured, thus needs to be structured for analysis.        0       \n",
       "When structured, text can be treated as structured data for analysis.  1       \n",
       "This is a new document added.                                          0       \n",
       "\n",
       "                                                                       unstructure  \n",
       "Text is unstructured, thus needs to be structured for analysis.        1            \n",
       "When structured, text can be treated as structured data for analysis.  0            \n",
       "This is a new document added.                                          0            "
      ]
     },
     "metadata": {},
     "output_type": "display_data"
    }
   ],
   "source": [
    "doc5 = 'This is a new document added.'\n",
    "corpus1_2 = [doc1, doc2, doc5]\n",
    "token_dict_list = []\n",
    "token_list = []\n",
    "temp_dict = collections.defaultdict(int)\n",
    "for doc in corpus1_2:\n",
    "    temp_dict = collections.defaultdict(int)\n",
    "    tokens = nltk.word_tokenize(doc)\n",
    "    tokens_clean = [lemma(w) for w in tokens if w.lower() not in list(string.punctuation) + stop_words]\n",
    "    token_list.append(tokens_clean)\n",
    "    for t in tokens_clean:\n",
    "        temp_dict[t] += 1\n",
    "    token_dict_list.append(temp_dict)\n",
    "    \n",
    "corpus1_2_df = pd.DataFrame(token_dict_list, index=[doc1, doc2, doc5])\n",
    "corpus1_2_df = corpus1_2_df.fillna(0).astype(int)\n",
    "display(corpus1_2_df)"
   ]
  },
  {
   "cell_type": "markdown",
   "metadata": {
    "slideshow": {
     "slide_type": "notes"
    }
   },
   "source": [
    "Someone asked, why store the values as floats when the values are just simple counts? Isn't it wasteful to memory?\n",
    "Well\n",
    "1. Values in the DTM get stored in floats, especially after term weighting.\n",
    "* In my code, I did store the frequency count as integers (I used *collections.defaultdict(int)*), pandas converted it to floats.\n",
    "\n",
    "I have since co"
   ]
  },
  {
   "cell_type": "markdown",
   "metadata": {
    "collapsed": true,
    "deletable": true,
    "editable": true,
    "slideshow": {
     "slide_type": "subslide"
    },
    "variables": {
     "corpus1_1_df": {}
    }
   },
   "source": [
    "### Sparse matrix representation\n",
    "\n",
    "Previously we saw a structured representation of text:\n",
    "{{corpus1_1_df}}\n",
    "\n",
    "This structure is a dense matrix structure. Pertaining to text, it is also called a Document-Term Matrix (DTM)."
   ]
  },
  {
   "cell_type": "markdown",
   "metadata": {
    "collapsed": true,
    "deletable": true,
    "editable": true,
    "slideshow": {
     "slide_type": "subslide"
    },
    "variables": {
     "corpus1_2_df": {}
    }
   },
   "source": [
    "I added another document to the corpus, and after preprocessing is performed, the structured representation becomes:\n",
    "{{corpus1_2_df}}\n",
    "\n",
    "Notice that there are many zeros in the DTM."
   ]
  },
  {
   "cell_type": "code",
   "execution_count": 86,
   "metadata": {
    "collapsed": false,
    "deletable": true,
    "editable": true,
    "slideshow": {
     "slide_type": "skip"
    }
   },
   "outputs": [],
   "source": [
    "dictionary = corpora.Dictionary(token_list)\n",
    "token_2_id = dictionary.token2id\n",
    "\n",
    "sparse_dict = {'Sparse Representation':[]}\n",
    "for d in token_list:\n",
    "    sparse_dict['Sparse Representation'].append(dictionary.doc2bow(d))\n",
    "\n",
    "sparse_df = pd.DataFrame(sparse_dict, columns=['Sparse Representation'])\n",
    "sparse_df.index = corpus1_2\n",
    "\n",
    "indices = pd.DataFrame(dictionary.items(), columns=['index', 'token'], index=None).sort_values('index').reset_index(drop=True)"
   ]
  },
  {
   "cell_type": "markdown",
   "metadata": {
    "deletable": true,
    "editable": true,
    "slideshow": {
     "slide_type": "subslide"
    },
    "variables": {
     "display(sparse_df)": {},
     "indices": {}
    }
   },
   "source": [
    "The zeros in a DTM is a waste of memory because we are storing information about no information. A sparse matrix representation is preferred as it is more compact when there are many zeros. The code to do this is on the next few slides.\n",
    "\n",
    "{{display(sparse_df)}}\n",
    "\n",
    "{{indices}}"
   ]
  },
  {
   "cell_type": "code",
   "execution_count": 87,
   "metadata": {
    "collapsed": false,
    "deletable": true,
    "editable": true,
    "slideshow": {
     "slide_type": "subslide"
    }
   },
   "outputs": [
    {
     "data": {
      "text/plain": [
       "['Text is unstructured, thus needs to be structured for analysis.',\n",
       " 'When structured, text can be treated as structured data for analysis.',\n",
       " 'This is a new document added.']"
      ]
     },
     "metadata": {},
     "output_type": "display_data"
    }
   ],
   "source": [
    "display(corpus1_2)"
   ]
  },
  {
   "cell_type": "code",
   "execution_count": 88,
   "metadata": {
    "collapsed": false,
    "deletable": true,
    "editable": true
   },
   "outputs": [
    {
     "data": {
      "text/plain": [
       "[['text', 'unstructure', 'thu', u'need', u'structure', 'analysi'],\n",
       " [u'structure', 'text', u'treat', u'structure', 'data', 'analysi'],\n",
       " ['new', u'document', u'add']]"
      ]
     },
     "metadata": {},
     "output_type": "display_data"
    }
   ],
   "source": [
    "display(token_list) # This is the list of tokens for each document in corpus1_2"
   ]
  },
  {
   "cell_type": "code",
   "execution_count": 89,
   "metadata": {
    "collapsed": false,
    "deletable": true,
    "editable": true,
    "slideshow": {
     "slide_type": "-"
    }
   },
   "outputs": [
    {
     "name": "stdout",
     "output_type": "stream",
     "text": [
      "Dictionary(11 unique tokens: [u'analysi', u'unstructure', u'text', u'thu', u'add']...)\n"
     ]
    }
   ],
   "source": [
    "dictionary = corpora.Dictionary(token_list) # Register each token in the corpus into the dictionary.\n",
    "print dictionary"
   ]
  },
  {
   "cell_type": "markdown",
   "metadata": {
    "deletable": true,
    "editable": true
   },
   "source": [
    "**Note**: The above _dictionary_ does not refer to the dict data structure in python. "
   ]
  },
  {
   "cell_type": "code",
   "execution_count": 90,
   "metadata": {
    "collapsed": false,
    "deletable": true,
    "editable": true,
    "slideshow": {
     "slide_type": "-"
    }
   },
   "outputs": [
    {
     "name": "stdout",
     "output_type": "stream",
     "text": [
      "{u'analysi': 0, u'unstructure': 1, u'text': 2, u'thu': 3, u'add': 9, u'treat': 7, u'need': 4, u'new': 8, u'document': 10, u'data': 6, u'structure': 5}\n"
     ]
    }
   ],
   "source": [
    "token_2_id = dictionary.token2id # Reprsent the index representation of each token in a python dict format.\n",
    "print token_2_id"
   ]
  },
  {
   "cell_type": "markdown",
   "metadata": {
    "deletable": true,
    "editable": true,
    "slideshow": {
     "slide_type": "subslide"
    }
   },
   "source": [
    "In order to retrieve the sparse representation of each document in the corpus, we have to input the tokens of each document into _dictionary.doc2bow()_:"
   ]
  },
  {
   "cell_type": "code",
   "execution_count": 91,
   "metadata": {
    "collapsed": false,
    "deletable": true,
    "editable": true
   },
   "outputs": [
    {
     "name": "stdout",
     "output_type": "stream",
     "text": [
      "['text', 'unstructure', 'thu', u'need', u'structure', 'analysi']\n",
      "[(0, 1), (1, 1), (2, 1), (3, 1), (4, 1), (5, 1)] \n",
      "\n",
      "[u'structure', 'text', u'treat', u'structure', 'data', 'analysi']\n",
      "[(0, 1), (2, 1), (5, 2), (6, 1), (7, 1)] \n",
      "\n",
      "['new', u'document', u'add']\n",
      "[(8, 1), (9, 1), (10, 1)] \n",
      "\n"
     ]
    }
   ],
   "source": [
    "for d in token_list:\n",
    "    print d\n",
    "    print dictionary.doc2bow(d), '\\n'"
   ]
  },
  {
   "cell_type": "markdown",
   "metadata": {
    "deletable": true,
    "editable": true,
    "slideshow": {
     "slide_type": "subslide"
    }
   },
   "source": [
    "### Term Weighting\n",
    "\n",
    "In the view of the corpus, each term may have different importance in differentiating a document from another. For example, in a corpus with documents talking mainly about cats, a rare word like \"fish\" appearing in some documents becomes valuable in differentiating those documents from the rest of the documents. On the other hand, the word \"cat\" may be very common in the corpus. In text analytics, rare differentiating words in a corpus is assigned a higher weight to increase its differentiating power. On the other hand, common words (but they are not stopwords) are assigned a lower weight to suppress its importance. This weight is called the term weighting.\n",
    "\n",
    "Term weighting is important in analysis such as finding document similarity and topic modelling. More will be elaborated when covering that topic."
   ]
  },
  {
   "cell_type": "markdown",
   "metadata": {
    "deletable": true,
    "editable": true,
    "slideshow": {
     "slide_type": "subslide"
    }
   },
   "source": [
    "One such popular term weighting is called the **tf-idf**, short for term frequency - inverse document frequency. **Tf-idf** itself consists of the multiplication of 2 weights: the **tf** part and the **idf** part. The value of each term for a document in the sparse matrix, instead of being simply the word frequency count, is now the value of **tf-idf**."
   ]
  },
  {
   "cell_type": "markdown",
   "metadata": {
    "deletable": true,
    "editable": true,
    "slideshow": {
     "slide_type": "subslide"
    }
   },
   "source": [
    "### tf\n",
    "\n",
    "The tf part of tf-idf is simply a transformation of the term frequency in a document. Types of common transformations are:\n",
    "\n",
    "* No transformation - simply the term frequency in a document.\n",
    "* Binary transformation - takes a 1 or 0 value, 1 indicating a term is present in a document, 0 indicating a term is absent.\n",
    "* log transformation - the value is the logarithm of the term frequency in the document.\n",
    "\n",
    "\n",
    "### idf\n",
    "It is given by the formula:\n",
    "### $$\\log_2\\frac{D}{df_w}$$\n",
    "where $D$ is the number of documents in the entire corpus.\n",
    "\n",
    "$df_w$ is the number of documents in the entire corpus that contains the word $w$."
   ]
  },
  {
   "cell_type": "markdown",
   "metadata": {
    "deletable": true,
    "editable": true,
    "slideshow": {
     "slide_type": "subslide"
    }
   },
   "source": [
    "### Effect of a log transformation tf\n",
    "\n",
    "The effect is the dampening of words with large frequency."
   ]
  },
  {
   "cell_type": "code",
   "execution_count": 92,
   "metadata": {
    "collapsed": false,
    "deletable": true,
    "editable": true
   },
   "outputs": [
    {
     "data": {
      "text/plain": [
       "[]"
      ]
     },
     "execution_count": 92,
     "metadata": {},
     "output_type": "execute_result"
    },
    {
     "data": {
      "image/png": "[encoded data removed]",
      "text/plain": [
       "<matplotlib.figure.Figure at 0x19dd2f60>"
      ]
     },
     "metadata": {},
     "output_type": "display_data"
    }
   ],
   "source": [
    "plt.plot(range(11), np.log(range(11)), label='log tranformation')\n",
    "plt.plot(range(11), range(11), linestyle='--', label='term frequency')\n",
    "plt.ylabel(\"log(term frequency)\")\n",
    "plt.ylim(ymax=11, ymin=0)\n",
    "plt.xlabel(\"term frequency\")\n",
    "plt.xlim(xmax=11, xmin=0)\n",
    "plt.title('Effect of a log transformation tf')\n",
    "plt.legend(loc='top left')\n",
    "plt.plot()"
   ]
  },
  {
   "cell_type": "markdown",
   "metadata": {
    "deletable": true,
    "editable": true,
    "slideshow": {
     "slide_type": "subslide"
    }
   },
   "source": [
    "### Effect of idf\n",
    "\n",
    "The effect of idf is a low value for a common word that appears in many documents of the corpus, but a high value for a rare word that appears in only a few document. "
   ]
  },
  {
   "cell_type": "code",
   "execution_count": 93,
   "metadata": {
    "collapsed": true,
    "deletable": true,
    "editable": true
   },
   "outputs": [],
   "source": [
    "# Sentences the Cat article extracted from wikipedia https://en.wikipedia.org/wiki/Cat\n",
    "cat1 = 'The domestic cat is a small, typically furry, carnivorous mammal.'\n",
    "cat2 = 'Since cats were venerated in ancient Egypt, they were commonly believed to have been domesticated there.'\n",
    "cat3 = 'As of a 2007 study, cats are the second most popular pet in the US by number of pets owned, behind freshwater fish'\n",
    "cat4 = 'In a 2010 study they were ranked the third most popular pet in the UK, after fish and dogs, with around 8 million being owned'"
   ]
  },
  {
   "cell_type": "markdown",
   "metadata": {
    "deletable": true,
    "editable": true
   },
   "source": [
    "_cat_ appears in all 4 documents, $df_w$ is 4, giving $idf = \\log_2 \\frac{4}{4}=0$. \n",
    "\n",
    "On the other hand _fish_ appears in only 2 documents, $df_w$ is 2, giving $idf = \\log_2 \\frac{4}{2}=1$. \n",
    "\n",
    "When multiplied with a tf with no transformation, the value for _cat_ in each document becomes 0, while the value for _fish_ remains as its frequency count in each document. Idf effectively create a corpus specific stopword."
   ]
  },
  {
   "cell_type": "markdown",
   "metadata": {
    "deletable": true,
    "editable": true,
    "slideshow": {
     "slide_type": "slide"
    }
   },
   "source": [
    "\n",
    "## Enhancing texts\n",
    "\n",
    "It's the addition of more information into text:\n",
    "\n",
    "* Ngram\n",
    "* Part of speech (POS) tagging\n",
    "* Entity Recognition"
   ]
  },
  {
   "cell_type": "markdown",
   "metadata": {
    "deletable": true,
    "editable": true,
    "slideshow": {
     "slide_type": "subslide"
    }
   },
   "source": [
    "### Ngram\n",
    "\n",
    "During tokenization, words are treated as stand alone. However, the same sequence of words that appear in different documents in the corpus might be an indication of common topics. Ngram is an attempt to group words in sequence, for example \"global trends\", \"National Supercomputing Centre\", \"high performance computing\".\n",
    "\n",
    "* Bigram - grouping 2 words together.\n",
    "* Trigram - grouping 3 words together.\n",
    "* Quadgram - grouping 4 words together.\n",
    "\n",
    "Each of the ngrams discovered can be used like a single word token in a DTM."
   ]
  },
  {
   "cell_type": "code",
   "execution_count": 94,
   "metadata": {
    "collapsed": false,
    "deletable": true,
    "editable": true,
    "slideshow": {
     "slide_type": "subslide"
    }
   },
   "outputs": [
    {
     "name": "stdout",
     "output_type": "stream",
     "text": [
      "bi-gram\n",
      "[('supercomputing', 'frontiers'), ('frontiers', '2017'), ('explore', 'global'), ('global', 'trends'), ('high', 'performance'), ('performance', 'computing')] \n",
      "\n",
      "tri-gram\n",
      "[('supercomputing', 'frontiers', '2017'), ('explore', 'global', 'trends'), ('high', 'performance', 'computing')] \n",
      "\n",
      "quad-gram\n",
      "[] \n",
      "\n"
     ]
    }
   ],
   "source": [
    "# performing ngrams.\n",
    "SCF = 'Supercomputing Frontiers 2017 will explore global trends and innovations in high performance computing.'\n",
    "SCF_tokens = [w.lower() for w in nltk.word_tokenize(SCF)]\n",
    "grams = ['bi', 'tri', 'quad']\n",
    "n_gram_list = []\n",
    "for i, gram in enumerate(grams, 2):\n",
    "    print gram + '-gram'\n",
    "    n_grams = ngrams(SCF_tokens, i) # creating the ngrams. \"i\" indicates the n value.\n",
    "    n_grams_clean = [words for words in n_grams \n",
    "                     if len((set(words) & set(string.punctuation)) # none of the words are punctuations\n",
    "                            | (set([w for w in words]) & set(stop_words)))==0] # none of the words are stopwords\n",
    "    print n_grams_clean, '\\n'\n",
    "    n_gram_list.append(n_grams_clean)\n",
    "    "
   ]
  },
  {
   "cell_type": "markdown",
   "metadata": {
    "deletable": true,
    "editable": true,
    "slideshow": {
     "slide_type": "subslide"
    }
   },
   "source": [
    "### Part of speech (POS) tagging\n",
    "\n",
    "POS is the addition of part of speech information of each word."
   ]
  },
  {
   "cell_type": "code",
   "execution_count": 95,
   "metadata": {
    "collapsed": false,
    "deletable": true,
    "editable": true
   },
   "outputs": [
    {
     "name": "stdout",
     "output_type": "stream",
     "text": [
      "Supercomputing Frontiers 2017 will explore global trends and innovations in high performance computing. \n",
      "\n",
      "[('Supercomputing', 'VBG'), ('Frontiers', 'NNS'), ('2017', 'CD'), ('will', 'MD'), ('explore', 'VB'), ('global', 'JJ'), ('trends', 'NNS'), ('and', 'CC'), ('innovations', 'NNS'), ('in', 'IN'), ('high', 'JJ'), ('performance', 'NN'), ('computing', 'NN'), ('.', '.')]\n"
     ]
    }
   ],
   "source": [
    "print SCF, '\\n'\n",
    "print nltk.pos_tag(nltk.word_tokenize(SCF))"
   ]
  },
  {
   "cell_type": "markdown",
   "metadata": {
    "deletable": true,
    "editable": true
   },
   "source": [
    "<img src='img\\POS Tagset.PNG' height='630' width='630' align='left'/>"
   ]
  },
  {
   "cell_type": "markdown",
   "metadata": {
    "deletable": true,
    "editable": true,
    "slideshow": {
     "slide_type": "subslide"
    }
   },
   "source": [
    "POS tagging work by looking up into a word lexicon like the famous [wordnet](http://wordnet.princeton.edu/). The part of speech tagging in the lexicon is often tagged by a linguist. In other POS algorithms, the POS returned may also be result of running a machine learning model, previously trained on the POS of known sentences."
   ]
  },
  {
   "cell_type": "markdown",
   "metadata": {
    "deletable": true,
    "editable": true,
    "slideshow": {
     "slide_type": "subslide"
    }
   },
   "source": [
    "As the rules of English or any other languages can be very complicated, it is not a surprise that the POS tagging is not 100% accurate. In fact, humans are not 100% accruate as well. Take for an example the words \"bank\" and \"depend\" in the 2 documents below."
   ]
  },
  {
   "cell_type": "code",
   "execution_count": 96,
   "metadata": {
    "collapsed": false,
    "deletable": true,
    "editable": true,
    "slideshow": {
     "slide_type": "-"
    }
   },
   "outputs": [
    {
     "name": "stdout",
     "output_type": "stream",
     "text": [
      "Can I bank on you to go to the bank by the river bank?\n",
      "[('Can', 'MD'), ('I', 'PRP'), ('bank', 'NN'), ('on', 'IN'), ('you', 'PRP'), ('to', 'TO'), ('go', 'VB'), ('to', 'TO'), ('the', 'DT'), ('bank', 'NN'), ('by', 'IN'), ('the', 'DT'), ('river', 'NN'), ('bank', 'NN'), ('?', '.')] \n",
      "\n",
      "Can I depend on you to go to the bank by the river bank?\n",
      "[('Can', 'MD'), ('I', 'PRP'), ('depend', 'VB'), ('on', 'IN'), ('you', 'PRP'), ('to', 'TO'), ('go', 'VB'), ('to', 'TO'), ('the', 'DT'), ('bank', 'NN'), ('by', 'IN'), ('the', 'DT'), ('river', 'NN'), ('bank', 'NN'), ('?', '.')]\n"
     ]
    }
   ],
   "source": [
    "print \"Can I bank on you to go to the bank by the river bank?\"\n",
    "print nltk.pos_tag(nltk.word_tokenize(\"Can I bank on you to go to the bank by the river bank?\")),'\\n'\n",
    "\n",
    "print \"Can I depend on you to go to the bank by the river bank?\"\n",
    "print nltk.pos_tag(nltk.word_tokenize(\"Can I depend on you to go to the bank by the river bank?\"))"
   ]
  },
  {
   "cell_type": "markdown",
   "metadata": {
    "deletable": true,
    "editable": true
   },
   "source": [
    "\"depend\" and the first \"bank\" should obviously be the same POS, but \"bank\" was intepreted as a noun in the 2nd document instead of a verb."
   ]
  },
  {
   "cell_type": "markdown",
   "metadata": {
    "deletable": true,
    "editable": true,
    "nbpresent": {
     "id": "d7ed6a2b-6736-4a9c-9241-8db9e1f1c399"
    },
    "slideshow": {
     "slide_type": "-"
    }
   },
   "source": [
    "<img src='img\\POS Tagset.PNG' height='630' width='630' align='left'/>"
   ]
  },
  {
   "cell_type": "markdown",
   "metadata": {
    "deletable": true,
    "editable": true,
    "slideshow": {
     "slide_type": "subslide"
    }
   },
   "source": [
    "### Entity Recognition\n",
    "\n",
    "In the nltk library, the entities the can be recognized are:\n",
    "\n",
    "* People\n",
    "* Organizations\n",
    "* Geopolitical entity (GPE)\n",
    "\n",
    "Prior to recognizing entities, POS tagging has to be performed on the text first."
   ]
  },
  {
   "cell_type": "code",
   "execution_count": 97,
   "metadata": {
    "collapsed": false,
    "deletable": true,
    "editable": true
   },
   "outputs": [
    {
     "name": "stdout",
     "output_type": "stream",
     "text": [
      "Supercomputing Frontiers 2017 is Singapore's annual international conference that provides a platform for thought leaders from both academia and industry to interact and discuss visionary ideas, important global trends and substantial innovations in supercomputing.\n",
      "(S\n",
      "  Supercomputing/VBG\n",
      "  Frontiers/NNS\n",
      "  2017/CD\n",
      "  is/VBZ\n",
      "  (GPE Singapore/NNP)\n",
      "  's/POS\n",
      "  annual/JJ\n",
      "  international/JJ\n",
      "  conference/NN\n",
      "  that/WDT\n",
      "  provides/VBZ\n",
      "  a/DT\n",
      "  platform/NN\n",
      "  for/IN\n",
      "  thought/JJ\n",
      "  leaders/NNS\n",
      "  from/IN\n",
      "  both/DT\n",
      "  academia/NN\n",
      "  and/CC\n",
      "  industry/NN\n",
      "  to/TO\n",
      "  interact/VB\n",
      "  and/CC\n",
      "  discuss/VB\n",
      "  visionary/JJ\n",
      "  ideas/NNS\n",
      "  ,/,\n",
      "  important/JJ\n",
      "  global/JJ\n",
      "  trends/NNS\n",
      "  and/CC\n",
      "  substantial/JJ\n",
      "  innovations/NNS\n",
      "  in/IN\n",
      "  supercomputing/NN\n",
      "  ./.)\n"
     ]
    }
   ],
   "source": [
    "SCF2 = \"Supercomputing Frontiers 2017 is Singapore's annual international conference that provides a platform for thought leaders from both academia and industry to interact and discuss visionary ideas, important global trends and substantial innovations in supercomputing.\"\n",
    "print SCF2\n",
    "\n",
    "SCF2_tokens = nltk.word_tokenize(SCF2)\n",
    "SCF2_pos = nltk.pos_tag(SCF2_tokens)\n",
    "SCF2_entity = nltk.ne_chunk(SCF2_pos)\n",
    "\n",
    "print SCF2_entity"
   ]
  },
  {
   "cell_type": "markdown",
   "metadata": {
    "deletable": true,
    "editable": true,
    "slideshow": {
     "slide_type": "subslide"
    }
   },
   "source": [
    "But entity recognition only works on capitalized words."
   ]
  },
  {
   "cell_type": "code",
   "execution_count": 98,
   "metadata": {
    "collapsed": false,
    "deletable": true,
    "editable": true
   },
   "outputs": [
    {
     "name": "stdout",
     "output_type": "stream",
     "text": [
      "(S\n",
      "  supercomputing/VBG\n",
      "  frontiers/NNS\n",
      "  2017/CD\n",
      "  is/VBZ\n",
      "  singapore/RBR\n",
      "  's/POS\n",
      "  annual/JJ\n",
      "  international/JJ\n",
      "  conference/NN\n",
      "  that/WDT\n",
      "  provides/VBZ\n",
      "  a/DT\n",
      "  platform/NN\n",
      "  for/IN\n",
      "  thought/JJ\n",
      "  leaders/NNS\n",
      "  from/IN\n",
      "  both/DT\n",
      "  academia/NN\n",
      "  and/CC\n",
      "  industry/NN\n",
      "  to/TO\n",
      "  interact/VB\n",
      "  and/CC\n",
      "  discuss/VB\n",
      "  visionary/JJ\n",
      "  ideas/NNS\n",
      "  ,/,\n",
      "  important/JJ\n",
      "  global/JJ\n",
      "  trends/NNS\n",
      "  and/CC\n",
      "  substantial/JJ\n",
      "  innovations/NNS\n",
      "  in/IN\n",
      "  supercomputing/NN\n",
      "  ./.)\n"
     ]
    }
   ],
   "source": [
    "SCF2_2_tokens = [w.lower() for w in nltk.word_tokenize(SCF2)] # lowercase all the tokens.\n",
    "SCF2_2_pos = nltk.pos_tag(SCF2_2_tokens) #POS taggin remains the same\n",
    "SCF2_2_entity = nltk.ne_chunk(SCF2_2_pos)\n",
    "print SCF2_2_entity"
   ]
  },
  {
   "cell_type": "code",
   "execution_count": 99,
   "metadata": {
    "collapsed": false,
    "deletable": true,
    "editable": true,
    "slideshow": {
     "slide_type": "skip"
    }
   },
   "outputs": [
    {
     "name": "stdout",
     "output_type": "stream",
     "text": [
      "(S\n",
      "  (GPE Supercomputing_Frontiers_2017/NNP)\n",
      "  will/MD\n",
      "  explore/VB\n",
      "  global_trends/NNS\n",
      "  and/CC\n",
      "  innovations/NNS\n",
      "  in/IN\n",
      "  high_performance_computing/NN\n",
      "  ./.)\n"
     ]
    }
   ],
   "source": [
    "SCF3 = 'Supercomputing_Frontiers_2017 will explore global_trends and innovations in high_performance_computing.'\n",
    "\n",
    "SCF3_tokens = nltk.word_tokenize(SCF3)\n",
    "SCF3_pos = nltk.pos_tag(SCF3_tokens)\n",
    "SCF3_entity = nltk.ne_chunk(SCF3_pos)\n",
    "\n",
    "print SCF3_entity"
   ]
  },
  {
   "cell_type": "markdown",
   "metadata": {
    "deletable": true,
    "editable": true,
    "slideshow": {
     "slide_type": "slide"
    }
   },
   "source": [
    "## Performing analysis\n",
    "\n",
    "Here is a non-exhaustive list of analysis that can be performed on text:\n",
    "\n",
    "* Sentiment analysis\n",
    "* Document similarity\n",
    "* Topic modelling\n",
    "* Topic classification (not covered)\n",
    "* Document summarization (not covered)"
   ]
  },
  {
   "cell_type": "code",
   "execution_count": 100,
   "metadata": {
    "collapsed": false,
    "deletable": true,
    "editable": true,
    "nbpresent": {
     "id": "319ee13b-323e-4586-808d-c3f2b7d11ada"
    },
    "scrolled": true,
    "slideshow": {
     "slide_type": "skip"
    }
   },
   "outputs": [
    {
     "data": {
      "text/html": [
       "<div>\n",
       "<table border=\"1\" class=\"dataframe\">\n",
       "  <thead>\n",
       "    <tr style=\"text-align: right;\">\n",
       "      <th></th>\n",
       "      <th>categories</th>\n",
       "      <th>text</th>\n",
       "      <th>stars</th>\n",
       "    </tr>\n",
       "  </thead>\n",
       "  <tbody>\n",
       "    <tr>\n",
       "      <th>0</th>\n",
       "      <td>Public Services &amp; Government</td>\n",
       "      <td>Festivals. Fun. Beer. Lots of beer. Charlotte Center City Partners (or Find Your Center) puts on a lot of these types of festivals Uptown and in South End. When you check out their website or their weekly newsletter you'll be able to see lots of events coming up like Beer, Blues and BBQ, Taste of Charlotte, Speedstreet and the like. \\r\\n\\r\\nMany of these events and festivals usually have beer available, hence why I'm a fan. And, yeah, I also really like supporting the local organization that's responsible for Uptown's development. If only there was a PBR festival...!</td>\n",
       "      <td>4</td>\n",
       "    </tr>\n",
       "    <tr>\n",
       "      <th>1</th>\n",
       "      <td>Public Services &amp; Government</td>\n",
       "      <td>For fun in Center City, Charlotte Center City Partners has it covered!\\r\\n\\r\\nYes, these are the folks largely responsible for the big ole event Uptown. Whether it's Beer, Blues &amp; BBQ, Taste of Charlotte, Speedstreet or pumpkin carving for Halloween - I give these guys credit. Considering only 10-12K people live in Uptown, they have a large feat of bringing the masses into Center City. \\r\\n\\r\\nAs a whole, these events are well organized, nicely promoted and generally a really good time. Stephen puts it well - every event won't be for everybody, but I appreciate that they try to bring Charlotte together (as we're a large group of transplants). In addition to the events, they also send out a really great calendar of what's going on in Uptown &amp; South End every week. If you don't get it already, definitely check it out.</td>\n",
       "      <td>4</td>\n",
       "    </tr>\n",
       "    <tr>\n",
       "      <th>2</th>\n",
       "      <td>Public Services &amp; Government</td>\n",
       "      <td>Way to ruin driving to downtown, do you know how hard it is to navigate those barricades after a long night at Seamus Mccaffrey's or  \\r\\nGeorge &amp; Dragon!? Go home, YOU SUCK.</td>\n",
       "      <td>1</td>\n",
       "    </tr>\n",
       "    <tr>\n",
       "      <th>3</th>\n",
       "      <td>Public Services &amp; Government</td>\n",
       "      <td>I have taken a ride on the light rail a few times now and I have some stories!! The first time I rode the light rail I took it from Mill Ave to Phoenix to see the D-Backs and Cubs play. My friends had caught a tram in Mesa so I sat there and watched a few trams come and go before I got onto the one with my friends on it. That was easy enough...there was enough room for me and the ride was smooth and fun (though I can't say it was relaxing)...Any ways. After the game was quite an experience! The tram ride home was a little more crowed now that the game had let out. There were two die hard fans in our car from the two teams who started talking trash to each other...well one of them had a little too much to drink and one thing lead to another and they were soon yelling threats at each other. Right before the drunker one took a swing (in a very crowded car) an older man stood up and shut them both up before someone got hurt...the tension in the air was thick the whole way back to Tempe where the Cub fan got off and punched the window. The friends of the other guy had to hold him back...I mean come on!! \\r\\n\\r\\nOkay, then I had the pleasure of using the light rail to go to the Circus. Again I was headed to Phoenix but this time I got on at the Washington stop. It was again a fun ride, but I couldn't say that it was a relaxing ride...there was this bum who was asking people for money and I think it would be better with some music playing in the background...any ways the ride home wasn't as eventful as the baseball game crowd, but again, there was another bum asking for money...can people just ride in peace?\\r\\n\\r\\nI like the light rail - I really do...it's always an interesting experience, but I just don't feel safe on it. I used to take the metro bus from Gilbert to Mesa every day for a while and I felt safer on that then I do on the light rail and the bums who ride the bus don't ask me for money either.</td>\n",
       "      <td>2</td>\n",
       "    </tr>\n",
       "    <tr>\n",
       "      <th>4</th>\n",
       "      <td>Public Services &amp; Government</td>\n",
       "      <td>I want to like the Light Rail, I really do, I even voted for it. Having moved to Phoenix from a city with a great public transportation system(Chicago) and having visited other large cities with great Public transportation systems, I wanted this for Phoenix too. I wanted to live is a city where owning a car was optional.  The Phoenix light rail is a huge disappointment. It is so darn slow...insanely slow, maddeningly slow, not only does it stop at every station but being at grade(street level), it also stops at the majority of stop lights too. Let's be honest, if you own a car you will not be riding the Light rail regularly, it just takes too much time and time is money, it takes like 3 times as long as just driving, heck I could probably ride a bicycle faster...seriously. Phoenix having been developed after Americans became dependent on automobiles has an well maintained &amp; fast  freeway/ surface road system compared to other major metropolitan areas(kudos to ADOT). \\r\\n     The majority of people who ride the light rail appear to be poor people who don't own cars, which brings me to my next points, there are tons of panhandlers constantly harassing anyone that appears to have money and without exception every time I have ridden the Light Rail I have seen a knock down drag out MMA style fight on the train with people recording it and yelling \"World Star\". There is little to no security or police presence, if you are elderly, a woman or have children, forget it I would not recommend it, I'm a large male and I kept my back against the wall &amp; head on a swivel expecting a kerfuffle.   \\r\\nOne star...I don't know what the public transportation solution is for Phoenix but this isn't it.</td>\n",
       "      <td>1</td>\n",
       "    </tr>\n",
       "    <tr>\n",
       "      <th>5</th>\n",
       "      <td>Public Services &amp; Government</td>\n",
       "      <td>#NWExtension is finally open!  After 3 long years of our neighborhood being on the trail of the #NWExtension and have adapted to the turmoil, closures and dust.  Now it's all paid off because we have a beautiful new rail a couple blocks away.  Beautifully landscaped and station art by local schoolchildren and artists.  They did a very good job and it's fun to have the rail so close and easy.  Now trips downtown or to the East Valley are easier, greener (even though we have a hybrid) and no parking hell to deal with.  That is a beautiful thing now that parking downtown is so expensive.  This is awesome and today marked the grand opening.  The trains are running on 19th Ave and it's really kind of nice to hear it a couple of blocks away when outside.  Calming.</td>\n",
       "      <td>5</td>\n",
       "    </tr>\n",
       "    <tr>\n",
       "      <th>6</th>\n",
       "      <td>Public Services &amp; Government</td>\n",
       "      <td>Had the most positive experience in a government building when I visited to get my social security card. I literally walked in, checked in with the security guard, she gave me my ticket, checked my bag for weapons, and I sat down for literally 4minutes and was called up to a window. \\r\\n\\r\\nIt was about noon when I visited on a Friday to get my Social Security Card, and the representative was super pleasant and helpful. I strongly suggest if you don't want to deal with parking issues with the downtown location, come here!</td>\n",
       "      <td>5</td>\n",
       "    </tr>\n",
       "    <tr>\n",
       "      <th>7</th>\n",
       "      <td>Public Services &amp; Government</td>\n",
       "      <td>If you're coming for a new or replacement social security card you need to go to Suite B NOT the main office. When you pull into the parking lot turn left and follow the road around. Suite B is located in the back left side of the building. The security guard will search your belonings so leave your guns and drugs at home. The staff was very friendly and I was in and out in about 45 minutes. If your changing your name like I was you will have to wait 48 hours before you to go to the MVD to get an updated licence to allow their system to process the change. I was told I'll receive my new card in the mail in 2 weeks.</td>\n",
       "      <td>4</td>\n",
       "    </tr>\n",
       "    <tr>\n",
       "      <th>8</th>\n",
       "      <td>Public Services &amp; Government</td>\n",
       "      <td>2.. the number of hours I spent here getting my new social security card with my new last name. 7. the number of minutes it took, once my name was called to get a new SS card ordered for me in said last name. I pray that I never have to come back to this place again after that crazy experience. Plus it was FREEZING! What the crap?</td>\n",
       "      <td>1</td>\n",
       "    </tr>\n",
       "    <tr>\n",
       "      <th>9</th>\n",
       "      <td>Public Services &amp; Government</td>\n",
       "      <td>As other reviews have said if you are looking to change your name Suite B is around the corner from the main entrance so park / walk in on that side. Both entrances have a security guard that will ask why you are there and will ensure that you get checked in. If you have a bag or purse, they will ask to check it for any weapons and then request that you put your cell phone on silent or vibrate.\\r\\n\\r\\nI didn't have an appointment, but since we recently got married, I needed to request a new SS card in order to get my name updated. I received a ticket from the security guard that checked me in and I was about 4 numbers off from the most recently called one. I waited about five minutes in a chair before my number was called (side note: if you go at lunch time, they will have less windows open - so if you can, try going during the earlier morning, or a bit after lunch to ensure you get seen).  \\r\\n\\r\\nBe sure to check their website before going so you can print and fill out the application form and have it ready to go.  It's also a great resource for being able to know what to bring with you so you don't have to make a return trip.  \\r\\n\\r\\nI had my passport, birth certificate, driver's license and marriage license. It took about five minutes for the clerk behind the counter to type in all my information and I was ready to go!  She was fast, efficient and friendly.  The security guard was helpful and funny. \\r\\n\\r\\nOverall: A\\r\\nCheck the website, come prepared, and all in all it should be a quick visit!!</td>\n",
       "      <td>4</td>\n",
       "    </tr>\n",
       "    <tr>\n",
       "      <th>10</th>\n",
       "      <td>Public Services &amp; Government</td>\n",
       "      <td>Almost 5 years into marriage and I decided it was time to finally legally change my name...\\r\\n\\r\\nPart of the reason that it took me so long was the dreaded process of going to the Social Security Administration office amongst a handful of others.  But I bit the bullet and took step number one which landed me here.\\r\\n\\r\\nI walked into the wrong entrance and was quickly told I needed to enter on the other side of the building.  No big deal... As I walked, I crossed my fingers that the line wouldn't be as long as the first side.  And when I entered over there, it didn't look too bad.  I think I waited approximately one hour and then met with my \"agent\" for about five minutes to take care of my own paperwork.\\r\\n\\r\\nStep one of the name change taken care of... hooray!\\r\\nOnly about 6 other steps to go (before hitting up credit card, bank, airlines, etc...) Wish me luck!\\r\\n\\r\\nA few things to note if you are heading to this office:\\r\\nThere are no drinks allowed, no computers allowed, and your phone must be kept on silent.  You may also want to call ahead to check their hours as they close early on certain days of the week.  Good luck!</td>\n",
       "      <td>3</td>\n",
       "    </tr>\n",
       "    <tr>\n",
       "      <th>11</th>\n",
       "      <td>Public Services &amp; Government</td>\n",
       "      <td>Wow, wow, wow! I came here for the sole purpose of changing my last name due to marriage. I came at 1:20 on Friday and left at 1:45. Quick right?! Everything was wonderful and extremely easy. I came in the suite B doors as mentioned in the other reviews. Only took 15 minutes of waiting about 5 for the actually go through the paperwork. \\r\\n\\r\\nWell right when I was stepping inside my car, I realized that the guy messed up my address so here I am waiting at the end of the line again. Real dumb. Good job. Once again, the government did it!  So for that sole purpose, 3 stars only. Incompetent fools.\\r\\n\\r\\nI recommend coming later around closing time cause no one is really there especially on Friday. Also I brought in my passport and other IDs. They don't really need much. They will just ask you a few questions.</td>\n",
       "      <td>3</td>\n",
       "    </tr>\n",
       "    <tr>\n",
       "      <th>12</th>\n",
       "      <td>Public Services &amp; Government</td>\n",
       "      <td>Pretty clean facility. Fast and prompt service. Very friendly staff. I just got married and needed to change my last name on my social security card. I was in and out of the office in less than 5 minutes, granted it was a Wednesday at 11:30am. I was dreading coming here and was so relived as to how fast it went. Definitely come to this office.</td>\n",
       "      <td>5</td>\n",
       "    </tr>\n",
       "    <tr>\n",
       "      <th>13</th>\n",
       "      <td>Public Services &amp; Government</td>\n",
       "      <td>People who works there need to be more happier and have smile on their face.  Overall services were quick, however there aren't enough parking spots, you may need to park somewhere else and walk over.</td>\n",
       "      <td>3</td>\n",
       "    </tr>\n",
       "    <tr>\n",
       "      <th>14</th>\n",
       "      <td>Public Services &amp; Government</td>\n",
       "      <td>It's an office of the Federal Government.  That means you can expect to wait longer that you should and have less than friendly service.  Thankfully, this visit wasn't to bad, other than the fact I had to ditch my coffee as they don't allow you to bring any liquids into the building.  It would be better if they at least had a coffee machine inside, but they don't so I suffered, I'm just glad I didn't have to wait to long.</td>\n",
       "      <td>3</td>\n",
       "    </tr>\n",
       "    <tr>\n",
       "      <th>15</th>\n",
       "      <td>Public Services &amp; Government</td>\n",
       "      <td>If you're looking for name changes/corrections make sure to read the signs that say Suite B! It literally is right around the corner.\\r\\n\\r\\nI was extremely impressed! It took me only about 5 minutes to get done what I needed &amp; there was almost no wait time.\\r\\n\\r\\nI was skeptical since I always hear people complain about what a long process it is getting your name changed, but it was quick &amp; easy in my opinion.\\r\\n\\r\\nMake sure to visit ssa.gov prior to your visit to make sure you have the appropriate documentation to do whatever it is you need to do.\\r\\n\\r\\nTheres also plenty of parking, but like I said, just know what side of the building you need to beat the heat!</td>\n",
       "      <td>4</td>\n",
       "    </tr>\n",
       "    <tr>\n",
       "      <th>16</th>\n",
       "      <td>Public Services &amp; Government</td>\n",
       "      <td>I thought it would be a long wait. I went two years ago and waited a few minutes outside then a couple hours inside before being helped. Today I had to go again to update my status from resident to citizen. I got there at 8:30am (Friday) and waited outside in a long line. At 8:55 they started letting people in. I finally got inside just after 9am. I just sat down when a lady directed me to an open window. I was in and out in less than 10 minutes. For the wait outside, bring a folding chair and something cold to drink, the rest is easy and quick!! From the security guard outside, to the guard inside checking bags, the lady directing people and the lady helping me - they were all very friendly and helpful.</td>\n",
       "      <td>5</td>\n",
       "    </tr>\n",
       "    <tr>\n",
       "      <th>17</th>\n",
       "      <td>Public Services &amp; Government</td>\n",
       "      <td>In and out in 10 minutes flat (On a Monday at 10AM). Took me longer to drive there. Needed a new card. The security guard was friendly (and adorable!) and the agent who assisted me (Gloria) was just the sweetest!</td>\n",
       "      <td>5</td>\n",
       "    </tr>\n",
       "    <tr>\n",
       "      <th>18</th>\n",
       "      <td>Public Services &amp; Government</td>\n",
       "      <td>I didn't even make it into the door into sweet b. The Security guard was highly disrespectful. I decided to go to the south Phoenix location instead. I would rather wait longer than deal with that so early in the morning.</td>\n",
       "      <td>1</td>\n",
       "    </tr>\n",
       "    <tr>\n",
       "      <th>19</th>\n",
       "      <td>Public Services &amp; Government</td>\n",
       "      <td>What a terrible experience.  This is the government at its finest.  I needed replacement social security cards for my kids and I researched everything I needed online, including their hours of operation.  The first time I went they were closed (different hours).  The second time I was told I needed different paperwork, so I went home and collected everything I was told.  The third time I was again told I needed different paperwork and to bring the kids with me.  The fourth time everything was finally processed - it only took an hour.  This was an hour once I got to a window, this does not include the wait time when you first arrive.</td>\n",
       "      <td>1</td>\n",
       "    </tr>\n",
       "    <tr>\n",
       "      <th>20</th>\n",
       "      <td>Public Services &amp; Government</td>\n",
       "      <td>If you're going to have to do anything social security related, come here. Quick. Easy and Friendly. Best of all, you're not shoulder to shoulder with a bunch of people. I got in at about 9:20am and was out by 9:40am. Only if every government service was this easy.</td>\n",
       "      <td>4</td>\n",
       "    </tr>\n",
       "    <tr>\n",
       "      <th>21</th>\n",
       "      <td>Public Services &amp; Government</td>\n",
       "      <td>Wonderful easy experience! Showed up a little before they opened, waited in a short line and got seen within 30 minutes. The security guard was super nice and so was the lady that checked me in. Granted I was here for a name change, but either way I didn't mind the experience!</td>\n",
       "      <td>5</td>\n",
       "    </tr>\n",
       "    <tr>\n",
       "      <th>22</th>\n",
       "      <td>Public Services &amp; Government</td>\n",
       "      <td>3.5 stars\\r\\n\\r\\nFinally got to visit this city of Phoenix, when all the other times we both would only be in the city because of the airport. Our friend took us to Phoenix to grab brunch before our trip back and pretty much drove us around Downtown Phoenix. It pretty much reminds me of Downtown Los Angeles. A few ghetto places and a few nice places. I thought there wouldn't be homeless people, but I guess I was wrong. There's always going to be at least 1% of them here and there. \\r\\n\\r\\nThere's a few one way streets, so be careful when you're driving. ALSO be careful with drivers, some may look like tourist and will not look at traffic while busy looking at something else. \\r\\n\\r\\nDrove passed Downtown Civic Space Park - http://www.yelp.com/biz/downtown-civic-space-park-phoenix\\r\\n\\r\\nLooked pretty cool. Try coming here at night time, the lit up loop will most likely amaze you like it would with me even when it wasn't even lit in colors :D I just can't wait to check it out the next time I visit!</td>\n",
       "      <td>3</td>\n",
       "    </tr>\n",
       "    <tr>\n",
       "      <th>23</th>\n",
       "      <td>Public Services &amp; Government</td>\n",
       "      <td>Phoenix is a one of a kind city, that is beautiful, fashionable, BIG, and luxurious. :-)</td>\n",
       "      <td>5</td>\n",
       "    </tr>\n",
       "    <tr>\n",
       "      <th>24</th>\n",
       "      <td>Public Services &amp; Government</td>\n",
       "      <td>I adore this city and would move here in a heartbeat. It is a foodie's dream, hiking is fabulous, Spring Training is fun even for the non-baseball inspired and the views are breathtaking.</td>\n",
       "      <td>5</td>\n",
       "    </tr>\n",
       "    <tr>\n",
       "      <th>25</th>\n",
       "      <td>Public Services &amp; Government</td>\n",
       "      <td>Metro Fire keeps us compliant and more. Our exit lights always work, our extinguishers are up to date and Kent Rassmussen represents well!</td>\n",
       "      <td>5</td>\n",
       "    </tr>\n",
       "    <tr>\n",
       "      <th>26</th>\n",
       "      <td>Public Services &amp; Government</td>\n",
       "      <td>Super honest knowledgable guys &amp; great pricing! I would use Metro for any and all of my security &amp; fire service needs. No other company can compare!!</td>\n",
       "      <td>5</td>\n",
       "    </tr>\n",
       "    <tr>\n",
       "      <th>27</th>\n",
       "      <td>Public Services &amp; Government</td>\n",
       "      <td>Metro fire is run by great guys.  Kent Rasmussen is superb and he is very friendly, very knowledgable about what he does.  You can't go wrong with these guys.</td>\n",
       "      <td>5</td>\n",
       "    </tr>\n",
       "    <tr>\n",
       "      <th>28</th>\n",
       "      <td>Public Services &amp; Government</td>\n",
       "      <td>This is a review for the Clark County Government Center on Grand Central Parkway.  I was there today to see a small art exhibit that's a playful poke at the art at City Center.\\r\\n\\r\\nI've been to the Government Center before when I had to go to an office for some business.  Parking is great and the building is interesting, inside and out.</td>\n",
       "      <td>4</td>\n",
       "    </tr>\n",
       "    <tr>\n",
       "      <th>29</th>\n",
       "      <td>Public Services &amp; Government</td>\n",
       "      <td>This place is huge and can be extremely hard to find anything. Simply ask any security for directions and they will happily take you to your destination. Parking is located right in front of the main entrance off of grand central, make sure you park in visitors parking which is the smaller lot. The huge lots surrounding are all for govt employees and I believe you will get ticketed or towed. If you are here as a new hire and need badging done, take the freight elevator down to the basement and follow the yellow footsteps to your destination!</td>\n",
       "      <td>5</td>\n",
       "    </tr>\n",
       "    <tr>\n",
       "      <th>...</th>\n",
       "      <td>...</td>\n",
       "      <td>...</td>\n",
       "      <td>...</td>\n",
       "    </tr>\n",
       "    <tr>\n",
       "      <th>636</th>\n",
       "      <td>Public Services &amp; Government</td>\n",
       "      <td>Biggest waste of money ever!  The TSA Pre-check line is officially the first time traveler, stroller. Wheelchair, family, and employee lane!  So frustrating to pay for a service and it is overtaken by I experienced travelers. Thanks for nothing TSA !!</td>\n",
       "      <td>1</td>\n",
       "    </tr>\n",
       "    <tr>\n",
       "      <th>637</th>\n",
       "      <td>Public Services &amp; Government</td>\n",
       "      <td>So, I have PreCheck, and I have an artificial hip.  I actually, stupidly, thought that PreCheck would actually get through TSA faster. Nope.  So in Phoenix, the PreCheck line has the metal detector, which means I have to wait to be wanded. So I normally tell them about my hip in the PreCheck line, so they send me over to another line with the body scanners, and my carry-on stays in the first line, but of course in those other lines you have to take off your shoes, coat, etc.  So I have to constantly tell them I'm PreCheck even if everyone else in line isn't, and of course they look at me like I'm an idiot. Why are you in this line if your PreCheck?\\r\\n\\r\\nI guess nobody at TSA ever realized that MAYBE someone with PreCheck may actually have an artificial joint. I guess nobody ever figured that out.\\r\\n\\r\\nMaybe TSA needs to all get together at a meeting, and figure out an organized way to handle EVERY type of passenger they might have. Then make sure EVERY TSA person knows this procedure.</td>\n",
       "      <td>2</td>\n",
       "    </tr>\n",
       "    <tr>\n",
       "      <th>638</th>\n",
       "      <td>Public Services &amp; Government</td>\n",
       "      <td>I really appreciate TSA for stealing my personal items out of my checked bags and then leaving a note inside telling me that my bag was searched. Probably the dumbest criminals ever. I hope you enjoy my Bose speaker. At least you stole the charger too, so that proves you're not totally retarded. \\r\\n\\r\\n\"Protecting you and your fellow passengers\" -TSA</td>\n",
       "      <td>1</td>\n",
       "    </tr>\n",
       "    <tr>\n",
       "      <th>639</th>\n",
       "      <td>Public Services &amp; Government</td>\n",
       "      <td>I'm so frustrated with TSA Checkpoint at Sky Harbor. Terminal 4-A checkpoint is a huge checkpoint which, on Sunday, is pretty much at max capacity all day. Business travelers like me travel out on Sunday and back on Thursday or Friday and depend on TSA Precheck to get me through security quickly.\\r\\n\\r\\nYou offer PreCheck services and take payments at your airport. Then you have PreCheck locations at your security screening areas, but you decide to CLOSE them around 5pm for who knows what reason! Why would you deny that service, THAT WE PAY FOR, on a busy commuter travel day!? The past 2 weeks when I've approached T4-A I've seen no less than 200 people queued up in the regular line and at least HALF of those people when asked have TSA Pre on their boarding pass. Are you trying to save some money by not staffing that location? Well I'd didn't get a discount when I paid into this service.\\r\\n\\r\\nDo everyone a favor. Staff this checkpoint just like you do T4-B and help out the people to weekly keep this airport's lights on and everyone employed. We don't have a choice of another airport to fly American out of. You've got us by the b*lls. Please do the right thing and allow us to use the services we paid for.</td>\n",
       "      <td>1</td>\n",
       "    </tr>\n",
       "    <tr>\n",
       "      <th>640</th>\n",
       "      <td>Public Services &amp; Government</td>\n",
       "      <td>They are mean, rude, and DO NOT COMMUNICATE WELL.They all need to be retrained or get another job. Everyone is not wired to work with the public. It's clear Phoenix hired a bunch of TSA employees with no customer skills. That was my experience before noon on Monday,10/26/15. I can only imagine how bad it gets throughout the day.</td>\n",
       "      <td>1</td>\n",
       "    </tr>\n",
       "    <tr>\n",
       "      <th>641</th>\n",
       "      <td>Public Services &amp; Government</td>\n",
       "      <td>They are severely understaffed. Got to the airport 2 hrs early and waited an hour to get through. People were nice but it was ridiculous to wait that long. This system needs to be corrected.</td>\n",
       "      <td>1</td>\n",
       "    </tr>\n",
       "    <tr>\n",
       "      <th>642</th>\n",
       "      <td>Public Services &amp; Government</td>\n",
       "      <td>User be ware, they change the rules and do what they want. They couldn't follow their own rule book let along be capable of reading it. And for us PreCheck paying fools, they close the D gates early as well then won't recognize your PreCheck status unless you have a printed boarding pass so they say.As far as I'm concerned they are just another waste of tax payer/ the flying publics money. The funny thing is when I fly out of McCarron their PreCheck line is always open and I can get from car to gate in less than 15 minutes, Phoenix employees need to go and learn from a real busy airport how it works and how to treat PreChecked Americans!</td>\n",
       "      <td>1</td>\n",
       "    </tr>\n",
       "    <tr>\n",
       "      <th>643</th>\n",
       "      <td>Public Services &amp; Government</td>\n",
       "      <td>They are the rudest  undertrained idiots I have ever had a experience with ever. If this state is based on tourism they have a sad future. I will never come back.</td>\n",
       "      <td>1</td>\n",
       "    </tr>\n",
       "    <tr>\n",
       "      <th>644</th>\n",
       "      <td>Public Services &amp; Government</td>\n",
       "      <td>Dear Phoenix Sky Harbor TSA,\\r\\n\\r\\nWhat a day. \\r\\n\\r\\nUnlike a lot of folks I encountered today, I'm a reasonable, calm lady. \\r\\n\\r\\nI'm not prone to lashing out or threatening harm upon a poor Southwest Customer Service Agent because God forbid the weather couldn't get me to my destination on time. \\r\\n\\r\\nNot being able to leave for Denver (I was scheduled to leave on SWA#1295, but cancelled at my client's request after several delays and him being unable to get on the road) because of the blizzard wasn't your fault. \\r\\n\\r\\nBut I wanted to personally thank you for chipping a large part of the front of my night guard used for TMJ today (11/17). \\r\\n\\r\\nI rely on it to keep severe TMJ headaches and jaw pain at bay. \\r\\n\\r\\nOne time my TMJ got so bad, it damn near completely locked my jaw and had to be prescribed heavy duty muscle relaxants just so 1) It could open and 2) So my dentist could see the damage.\\r\\n\\r\\nThis was a $300 dental appliance I've had for two years and had to pay 100% out of pocket because my insurance doesn't cover it.\\r\\n\\r\\nIn the future: When inspecting dental appliances in a passenger's bag, please handle with care. Night guards, retainers, etc. are NOT cheap to replace and aren't always covered by insurance. \\r\\n\\r\\nSeriously, break our make-up compacts all day. Just not the night guards!\\r\\n\\r\\nLet's hope my dentist can help me with this. \\r\\n\\r\\nSigned, \\r\\n\\r\\nNighttime Jaw Clencher Lady who's about to be in a LOT of pain. :'(</td>\n",
       "      <td>1</td>\n",
       "    </tr>\n",
       "    <tr>\n",
       "      <th>645</th>\n",
       "      <td>Public Services &amp; Government</td>\n",
       "      <td>The TSA employees in this section are lazy and unfriendly. On the day before thanksgiving, one of the busiest traveling days of the year, the employees did not perform their duties properly or effectively. The line for TSA pre-check was closed even though it took over 30 mins to effectively move through the regular lines. The employees behaved lazily while also being unfriendly and choosing to hold conversations rather than conduct their paid duties. They held up many passengers because of their own arrogance rather than any creditable intelligence. I missed my my flight because of the mismanagement of this organization. No matter what time frame, I suggest not to rely on anything the TSA propaganda states</td>\n",
       "      <td>1</td>\n",
       "    </tr>\n",
       "    <tr>\n",
       "      <th>646</th>\n",
       "      <td>Public Services &amp; Government</td>\n",
       "      <td>I was at Phoenix Sky harbor airport. Took 45 min to check in, another 45 min to wait in line for X-ray. After X-ray, this a hole took my kids 1 foot long plastic hockey sticks that I bought for them. He said they were dangerous. We were at a game in Phoenix New Years Eve, so much fun, until TSA...</td>\n",
       "      <td>1</td>\n",
       "    </tr>\n",
       "    <tr>\n",
       "      <th>647</th>\n",
       "      <td>Public Services &amp; Government</td>\n",
       "      <td>One of the worst run TSA checkpoints I've ever seen, and I've flown out of a ton of airports, and ones much smaller than PHX.\\r\\n\\r\\nI was flying out of B, but the B gates security were closed. Nevermind that I had just walked down there from a restaurant in the middle.\\r\\n\\r\\nI arrived to the A gates to a total nightmare scenario. TSA Precheck was closed, as they like to do here. I was lucky enough to be in first class for my flight, so I used that lane. There were a bunch of people in that line, so I asked if I was in the right place. The girl in front of me said a TSA agent just came through and ambiguously said this lane or the next one was for Precheck. What followed was a free-for-all with people using the disabled/employee lane and the first class lane. \\r\\n\\r\\nI called for a TSA agent to come over and explain which line was which, but they just looked me in the eye and listened to my explanation of how everyone was confused and nobody knew which line was with. Nobody from TSA was willing to come over and take control of the situation. They were just letting everyone in in whatever order they fought their way to the front.\\r\\n\\r\\nI ended up getting yelled at and threatened by another passenger who mistook me as the enemy. I was just trying to get TSA to, you know, do their job. I'm the good guy here, sticking up for the 90% of the line that was getting cut by more aggressive passengers. \\r\\n\\r\\nAnyway, 15 minutes later I made it through security. Chatted with a supervisor who more or less admitted it was a terribly run checkpoint. Apparently this is normal in PHX, as an airport employee ensured me I was right, and the lounge agents shared their experiences with this TSA checkpoint.\\r\\n\\r\\nIt's really too bad this review will make absolutely no difference, just as me talking to a supervisor or filing a formal TSA complaint will. TSA will continue to do their absolute minimum to complete their job tasks without any pride for their work.</td>\n",
       "      <td>1</td>\n",
       "    </tr>\n",
       "    <tr>\n",
       "      <th>648</th>\n",
       "      <td>Public Services &amp; Government</td>\n",
       "      <td>Wow! So the folks who run TSA think the best think to do is shut down TSAPre because they do not have enough staff. Tell me what the hell about that makes sense. Hey let's shut down the line that moves people through the fastest. I would honestly rather take my chances with the old system. TSA is incompetent and has no idea what they are doing.</td>\n",
       "      <td>1</td>\n",
       "    </tr>\n",
       "    <tr>\n",
       "      <th>649</th>\n",
       "      <td>Public Services &amp; Government</td>\n",
       "      <td>Rude TSA agent at the checkpoint where they check ID and boarding passes. No one was at the checkpoint and the TSA agent was sitting alone at his stand. He made my wife go back to the sign that said \"Wait for next available agent\" and told here to wait until he told her to walk up to him. He then went on to lecture her about following directions. It was completely unnecessary, rude and condescending. I've been a supporter of the TSA until this point. Now I understand why people complain about their demeanor and Congress is critical of their performance.</td>\n",
       "      <td>1</td>\n",
       "    </tr>\n",
       "    <tr>\n",
       "      <th>650</th>\n",
       "      <td>Public Services &amp; Government</td>\n",
       "      <td>I've been to a lot of airports and never write reviews but I felt I needed to this time. The security line was long and because they didn't have their TSA pre check line open there wasn't even an expedited line for TSA. The lady at the scanner was the rudest I've ever experienced and made snide remarks to me when I didn't even say anything to her. Not sure how these people are evaluated on a regular basis but apparently they aren't measured on customer service. Understand it's not meant to be a \"friendly\" job but they can at least be civil.</td>\n",
       "      <td>1</td>\n",
       "    </tr>\n",
       "    <tr>\n",
       "      <th>651</th>\n",
       "      <td>Public Services &amp; Government</td>\n",
       "      <td>Terribly badly organized - closing security stations at will with no rhyme or reason making people endlessly wander around Phoenix airport. Your chances to miss your plane because of immensely long lines at TSA: immensely high! Best option: try not to go through Phoenix airport.</td>\n",
       "      <td>1</td>\n",
       "    </tr>\n",
       "    <tr>\n",
       "      <th>652</th>\n",
       "      <td>Public Services &amp; Government</td>\n",
       "      <td>Friendly TSA agents! Always helpful when in a hurry. I travel a lot for work, and I feel like this are the most helpful. They normal don't have long lines</td>\n",
       "      <td>4</td>\n",
       "    </tr>\n",
       "    <tr>\n",
       "      <th>653</th>\n",
       "      <td>Public Services &amp; Government</td>\n",
       "      <td>What a joke. The line is out the door. 5 guys standing around, and we are forced to pay for this... if I ran my business like this, my doors would be closed in a week.</td>\n",
       "      <td>1</td>\n",
       "    </tr>\n",
       "    <tr>\n",
       "      <th>654</th>\n",
       "      <td>Public Services &amp; Government</td>\n",
       "      <td>Worst security checkpoint yet. Almost missed my plane because of a full un warranted body search.</td>\n",
       "      <td>1</td>\n",
       "    </tr>\n",
       "    <tr>\n",
       "      <th>655</th>\n",
       "      <td>Public Services &amp; Government</td>\n",
       "      <td>they could not pass my coke bottle its so small 10 oz that the smallest.... sighs... they should increase oz on pop drinks like 10 oz or something...</td>\n",
       "      <td>3</td>\n",
       "    </tr>\n",
       "    <tr>\n",
       "      <th>656</th>\n",
       "      <td>Public Services &amp; Government</td>\n",
       "      <td>TSA PRE-Check lane closed  frequently. Disappointing for a major airport. Be prepared to keep shoes on take laptop out.</td>\n",
       "      <td>3</td>\n",
       "    </tr>\n",
       "    <tr>\n",
       "      <th>657</th>\n",
       "      <td>Public Services &amp; Government</td>\n",
       "      <td>Once again flying out of terminal 3 and precheck is closed. Glad I paid money for a service I can't use. Why do you have precheck if you can't use precheck? You go through the line everyone else except you get to keep your shoes on. I feel safer already.</td>\n",
       "      <td>1</td>\n",
       "    </tr>\n",
       "    <tr>\n",
       "      <th>658</th>\n",
       "      <td>Public Services &amp; Government</td>\n",
       "      <td>I will mirror what the other reviewer stated.  Needing to do my notary oath (the final hoop before I could start stamping!), I visited their office on a June Tuesday around 11:00 am and was in and out in no time.  Everyone that I encountered in the building, from the security guard in the foyer, to the office workers at the Register of Deeds was friendly, helpful and polite.  Miss Valerie (what her coworker called her) was the one that took care of me and I was $10 lighter, sworn, certificated and out the door in no time.  \\r\\n\\r\\nI parked in the parking deck off of Davidson between 3rd and 4th, which proved to be not terribly expensive ($1 for 30-45 minutes, I think) and not too far of a hike, only crossing one substantial intersection.</td>\n",
       "      <td>5</td>\n",
       "    </tr>\n",
       "    <tr>\n",
       "      <th>659</th>\n",
       "      <td>Public Services &amp; Government</td>\n",
       "      <td>All of the prior reviews were accurate.  Very pleasant employees.   Clean, neat and professional atmosphere.    When I went (Friday at 9:15) it was not busy.   The employee took a total of about 15 minutes.  Parking is not easy but everything else was.</td>\n",
       "      <td>5</td>\n",
       "    </tr>\n",
       "    <tr>\n",
       "      <th>660</th>\n",
       "      <td>Public Services &amp; Government</td>\n",
       "      <td>I came here after the unsatisfactory service received from the security guard at the Tatum office. The guard here was respectable as expected and for it being the busiest office in all of Phoenix, it was surprisingly a quick in and out. About 45 minutes. I got there around 10am. Of course I was just requesting a replacement card. \\r\\n\\r\\nThe only downfall is there is not nearly enough parking for how busy this office is. So be prepared for that.</td>\n",
       "      <td>4</td>\n",
       "    </tr>\n",
       "    <tr>\n",
       "      <th>661</th>\n",
       "      <td>Public Services &amp; Government</td>\n",
       "      <td>Comfortable brand new building, safe and clean.  Smells brand new and fast service.   Staff speak multiple languages and the elevators were super fast!</td>\n",
       "      <td>5</td>\n",
       "    </tr>\n",
       "    <tr>\n",
       "      <th>662</th>\n",
       "      <td>Public Services &amp; Government</td>\n",
       "      <td>It was an ok experience. Arrived just before it opened and had to wait in line around the building but after arriving inside and getting my numberI had atleast an hour wait. I was getting my replacement card..</td>\n",
       "      <td>3</td>\n",
       "    </tr>\n",
       "    <tr>\n",
       "      <th>663</th>\n",
       "      <td>Public Services &amp; Government</td>\n",
       "      <td>Truly wasn't an awful experience. I've been dreading the idea of getting a new social card since I moved and lost my old one. Woke up early and went to the Mesa location just to find out they don't issue applications for social security card renewals so I drove down to Phoenix where they told me to go. The parking lot was filled and kinda hard to find a parking spot. The security guard was actually pretty pleasant, very nice and friendly man. The waiting room was just about full which obviously ruins your mood a little but I was maybe there an hour before my number got called. The lady who did the application was really nice and patient and I was out of the in no time. Pretty pleased with my experience here. I see a lot of bad reviews on Google and other locations of the social security offices so I thought I'd share mine not great, but not so bad experience.</td>\n",
       "      <td>4</td>\n",
       "    </tr>\n",
       "    <tr>\n",
       "      <th>664</th>\n",
       "      <td>Public Services &amp; Government</td>\n",
       "      <td>eh,   it is what it is..BUSY! long waits</td>\n",
       "      <td>3</td>\n",
       "    </tr>\n",
       "    <tr>\n",
       "      <th>665</th>\n",
       "      <td>Public Services &amp; Government</td>\n",
       "      <td>This place is gross. I was there so long was forced to use restroom, yuck. Security grills you up front. I did give 2 stars because at least after 2 hours the lady that helped me was pleasant enough. Glad I don't need to come often lol</td>\n",
       "      <td>2</td>\n",
       "    </tr>\n",
       "  </tbody>\n",
       "</table>\n",
       "<p>666 rows × 3 columns</p>\n",
       "</div>"
      ],
      "text/plain": [
       "                       categories  \\\n",
       "0    Public Services & Government   \n",
       "1    Public Services & Government   \n",
       "2    Public Services & Government   \n",
       "3    Public Services & Government   \n",
       "4    Public Services & Government   \n",
       "5    Public Services & Government   \n",
       "6    Public Services & Government   \n",
       "7    Public Services & Government   \n",
       "8    Public Services & Government   \n",
       "9    Public Services & Government   \n",
       "10   Public Services & Government   \n",
       "11   Public Services & Government   \n",
       "12   Public Services & Government   \n",
       "13   Public Services & Government   \n",
       "14   Public Services & Government   \n",
       "15   Public Services & Government   \n",
       "16   Public Services & Government   \n",
       "17   Public Services & Government   \n",
       "18   Public Services & Government   \n",
       "19   Public Services & Government   \n",
       "20   Public Services & Government   \n",
       "21   Public Services & Government   \n",
       "22   Public Services & Government   \n",
       "23   Public Services & Government   \n",
       "24   Public Services & Government   \n",
       "25   Public Services & Government   \n",
       "26   Public Services & Government   \n",
       "27   Public Services & Government   \n",
       "28   Public Services & Government   \n",
       "29   Public Services & Government   \n",
       "..                            ...   \n",
       "636  Public Services & Government   \n",
       "637  Public Services & Government   \n",
       "638  Public Services & Government   \n",
       "639  Public Services & Government   \n",
       "640  Public Services & Government   \n",
       "641  Public Services & Government   \n",
       "642  Public Services & Government   \n",
       "643  Public Services & Government   \n",
       "644  Public Services & Government   \n",
       "645  Public Services & Government   \n",
       "646  Public Services & Government   \n",
       "647  Public Services & Government   \n",
       "648  Public Services & Government   \n",
       "649  Public Services & Government   \n",
       "650  Public Services & Government   \n",
       "651  Public Services & Government   \n",
       "652  Public Services & Government   \n",
       "653  Public Services & Government   \n",
       "654  Public Services & Government   \n",
       "655  Public Services & Government   \n",
       "656  Public Services & Government   \n",
       "657  Public Services & Government   \n",
       "658  Public Services & Government   \n",
       "659  Public Services & Government   \n",
       "660  Public Services & Government   \n",
       "661  Public Services & Government   \n",
       "662  Public Services & Government   \n",
       "663  Public Services & Government   \n",
       "664  Public Services & Government   \n",
       "665  Public Services & Government   \n",
       "\n",
       "                                                                                                                                                                                                                                                                                                                                                                                                                                                                                                                                                                                                                                                                                                                                                                                                                                                                                                                                                                                                                                                                                                                                                                                                                                                                                                                                                                                                                                                                                                                                                                                                                                                                                                                                                                                                                                                                                                                                                                                                                                                        text  \\\n",
       "0    Festivals. Fun. Beer. Lots of beer. Charlotte Center City Partners (or Find Your Center) puts on a lot of these types of festivals Uptown and in South End. When you check out their website or their weekly newsletter you'll be able to see lots of events coming up like Beer, Blues and BBQ, Taste of Charlotte, Speedstreet and the like. \\r\\n\\r\\nMany of these events and festivals usually have beer available, hence why I'm a fan. And, yeah, I also really like supporting the local organization that's responsible for Uptown's development. If only there was a PBR festival...!                                                                                                                                                                                                                                                                                                                                                                                                                                                                                                                                                                                                                                                                                                                                                                                                                                                                                                                                                                                                                                                                                                                                                                                                                                                                                                                                                                                                                                                             \n",
       "1    For fun in Center City, Charlotte Center City Partners has it covered!\\r\\n\\r\\nYes, these are the folks largely responsible for the big ole event Uptown. Whether it's Beer, Blues & BBQ, Taste of Charlotte, Speedstreet or pumpkin carving for Halloween - I give these guys credit. Considering only 10-12K people live in Uptown, they have a large feat of bringing the masses into Center City. \\r\\n\\r\\nAs a whole, these events are well organized, nicely promoted and generally a really good time. Stephen puts it well - every event won't be for everybody, but I appreciate that they try to bring Charlotte together (as we're a large group of transplants). In addition to the events, they also send out a really great calendar of what's going on in Uptown & South End every week. If you don't get it already, definitely check it out.                                                                                                                                                                                                                                                                                                                                                                                                                                                                                                                                                                                                                                                                                                                                                                                                                                                                                                                                                                                                                                                                                                                                                                                               \n",
       "2    Way to ruin driving to downtown, do you know how hard it is to navigate those barricades after a long night at Seamus Mccaffrey's or  \\r\\nGeorge & Dragon!? Go home, YOU SUCK.                                                                                                                                                                                                                                                                                                                                                                                                                                                                                                                                                                                                                                                                                                                                                                                                                                                                                                                                                                                                                                                                                                                                                                                                                                                                                                                                                                                                                                                                                                                                                                                                                                                                                                                                                                                                                                                                            \n",
       "3    I have taken a ride on the light rail a few times now and I have some stories!! The first time I rode the light rail I took it from Mill Ave to Phoenix to see the D-Backs and Cubs play. My friends had caught a tram in Mesa so I sat there and watched a few trams come and go before I got onto the one with my friends on it. That was easy enough...there was enough room for me and the ride was smooth and fun (though I can't say it was relaxing)...Any ways. After the game was quite an experience! The tram ride home was a little more crowed now that the game had let out. There were two die hard fans in our car from the two teams who started talking trash to each other...well one of them had a little too much to drink and one thing lead to another and they were soon yelling threats at each other. Right before the drunker one took a swing (in a very crowded car) an older man stood up and shut them both up before someone got hurt...the tension in the air was thick the whole way back to Tempe where the Cub fan got off and punched the window. The friends of the other guy had to hold him back...I mean come on!! \\r\\n\\r\\nOkay, then I had the pleasure of using the light rail to go to the Circus. Again I was headed to Phoenix but this time I got on at the Washington stop. It was again a fun ride, but I couldn't say that it was a relaxing ride...there was this bum who was asking people for money and I think it would be better with some music playing in the background...any ways the ride home wasn't as eventful as the baseball game crowd, but again, there was another bum asking for money...can people just ride in peace?\\r\\n\\r\\nI like the light rail - I really do...it's always an interesting experience, but I just don't feel safe on it. I used to take the metro bus from Gilbert to Mesa every day for a while and I felt safer on that then I do on the light rail and the bums who ride the bus don't ask me for money either.                                              \n",
       "4    I want to like the Light Rail, I really do, I even voted for it. Having moved to Phoenix from a city with a great public transportation system(Chicago) and having visited other large cities with great Public transportation systems, I wanted this for Phoenix too. I wanted to live is a city where owning a car was optional.  The Phoenix light rail is a huge disappointment. It is so darn slow...insanely slow, maddeningly slow, not only does it stop at every station but being at grade(street level), it also stops at the majority of stop lights too. Let's be honest, if you own a car you will not be riding the Light rail regularly, it just takes too much time and time is money, it takes like 3 times as long as just driving, heck I could probably ride a bicycle faster...seriously. Phoenix having been developed after Americans became dependent on automobiles has an well maintained & fast  freeway/ surface road system compared to other major metropolitan areas(kudos to ADOT). \\r\\n     The majority of people who ride the light rail appear to be poor people who don't own cars, which brings me to my next points, there are tons of panhandlers constantly harassing anyone that appears to have money and without exception every time I have ridden the Light Rail I have seen a knock down drag out MMA style fight on the train with people recording it and yelling \"World Star\". There is little to no security or police presence, if you are elderly, a woman or have children, forget it I would not recommend it, I'm a large male and I kept my back against the wall & head on a swivel expecting a kerfuffle.   \\r\\nOne star...I don't know what the public transportation solution is for Phoenix but this isn't it.                                                                                                                                                                                                                                                                             \n",
       "5    #NWExtension is finally open!  After 3 long years of our neighborhood being on the trail of the #NWExtension and have adapted to the turmoil, closures and dust.  Now it's all paid off because we have a beautiful new rail a couple blocks away.  Beautifully landscaped and station art by local schoolchildren and artists.  They did a very good job and it's fun to have the rail so close and easy.  Now trips downtown or to the East Valley are easier, greener (even though we have a hybrid) and no parking hell to deal with.  That is a beautiful thing now that parking downtown is so expensive.  This is awesome and today marked the grand opening.  The trains are running on 19th Ave and it's really kind of nice to hear it a couple of blocks away when outside.  Calming.                                                                                                                                                                                                                                                                                                                                                                                                                                                                                                                                                                                                                                                                                                                                                                                                                                                                                                                                                                                                                                                                                                                                                                                                                                                          \n",
       "6    Had the most positive experience in a government building when I visited to get my social security card. I literally walked in, checked in with the security guard, she gave me my ticket, checked my bag for weapons, and I sat down for literally 4minutes and was called up to a window. \\r\\n\\r\\nIt was about noon when I visited on a Friday to get my Social Security Card, and the representative was super pleasant and helpful. I strongly suggest if you don't want to deal with parking issues with the downtown location, come here!                                                                                                                                                                                                                                                                                                                                                                                                                                                                                                                                                                                                                                                                                                                                                                                                                                                                                                                                                                                                                                                                                                                                                                                                                                                                                                                                                                                                                                                                                                           \n",
       "7    If you're coming for a new or replacement social security card you need to go to Suite B NOT the main office. When you pull into the parking lot turn left and follow the road around. Suite B is located in the back left side of the building. The security guard will search your belonings so leave your guns and drugs at home. The staff was very friendly and I was in and out in about 45 minutes. If your changing your name like I was you will have to wait 48 hours before you to go to the MVD to get an updated licence to allow their system to process the change. I was told I'll receive my new card in the mail in 2 weeks.                                                                                                                                                                                                                                                                                                                                                                                                                                                                                                                                                                                                                                                                                                                                                                                                                                                                                                                                                                                                                                                                                                                                                                                                                                                                                                                                                                                                            \n",
       "8    2.. the number of hours I spent here getting my new social security card with my new last name. 7. the number of minutes it took, once my name was called to get a new SS card ordered for me in said last name. I pray that I never have to come back to this place again after that crazy experience. Plus it was FREEZING! What the crap?                                                                                                                                                                                                                                                                                                                                                                                                                                                                                                                                                                                                                                                                                                                                                                                                                                                                                                                                                                                                                                                                                                                                                                                                                                                                                                                                                                                                                                                                                                                                                                                                                                                                                                              \n",
       "9    As other reviews have said if you are looking to change your name Suite B is around the corner from the main entrance so park / walk in on that side. Both entrances have a security guard that will ask why you are there and will ensure that you get checked in. If you have a bag or purse, they will ask to check it for any weapons and then request that you put your cell phone on silent or vibrate.\\r\\n\\r\\nI didn't have an appointment, but since we recently got married, I needed to request a new SS card in order to get my name updated. I received a ticket from the security guard that checked me in and I was about 4 numbers off from the most recently called one. I waited about five minutes in a chair before my number was called (side note: if you go at lunch time, they will have less windows open - so if you can, try going during the earlier morning, or a bit after lunch to ensure you get seen).  \\r\\n\\r\\nBe sure to check their website before going so you can print and fill out the application form and have it ready to go.  It's also a great resource for being able to know what to bring with you so you don't have to make a return trip.  \\r\\n\\r\\nI had my passport, birth certificate, driver's license and marriage license. It took about five minutes for the clerk behind the counter to type in all my information and I was ready to go!  She was fast, efficient and friendly.  The security guard was helpful and funny. \\r\\n\\r\\nOverall: A\\r\\nCheck the website, come prepared, and all in all it should be a quick visit!!                                                                                                                                                                                                                                                                                                                                                                                                                                                                   \n",
       "10   Almost 5 years into marriage and I decided it was time to finally legally change my name...\\r\\n\\r\\nPart of the reason that it took me so long was the dreaded process of going to the Social Security Administration office amongst a handful of others.  But I bit the bullet and took step number one which landed me here.\\r\\n\\r\\nI walked into the wrong entrance and was quickly told I needed to enter on the other side of the building.  No big deal... As I walked, I crossed my fingers that the line wouldn't be as long as the first side.  And when I entered over there, it didn't look too bad.  I think I waited approximately one hour and then met with my \"agent\" for about five minutes to take care of my own paperwork.\\r\\n\\r\\nStep one of the name change taken care of... hooray!\\r\\nOnly about 6 other steps to go (before hitting up credit card, bank, airlines, etc...) Wish me luck!\\r\\n\\r\\nA few things to note if you are heading to this office:\\r\\nThere are no drinks allowed, no computers allowed, and your phone must be kept on silent.  You may also want to call ahead to check their hours as they close early on certain days of the week.  Good luck!                                                                                                                                                                                                                                                                                                                                                                                                                                                                                                                                                                                                                                                                                                                                                                                                                                                          \n",
       "11   Wow, wow, wow! I came here for the sole purpose of changing my last name due to marriage. I came at 1:20 on Friday and left at 1:45. Quick right?! Everything was wonderful and extremely easy. I came in the suite B doors as mentioned in the other reviews. Only took 15 minutes of waiting about 5 for the actually go through the paperwork. \\r\\n\\r\\nWell right when I was stepping inside my car, I realized that the guy messed up my address so here I am waiting at the end of the line again. Real dumb. Good job. Once again, the government did it!  So for that sole purpose, 3 stars only. Incompetent fools.\\r\\n\\r\\nI recommend coming later around closing time cause no one is really there especially on Friday. Also I brought in my passport and other IDs. They don't really need much. They will just ask you a few questions.                                                                                                                                                                                                                                                                                                                                                                                                                                                                                                                                                                                                                                                                                                                                                                                                                                                                                                                                                                                                                                                                                                                                                                                                      \n",
       "12   Pretty clean facility. Fast and prompt service. Very friendly staff. I just got married and needed to change my last name on my social security card. I was in and out of the office in less than 5 minutes, granted it was a Wednesday at 11:30am. I was dreading coming here and was so relived as to how fast it went. Definitely come to this office.                                                                                                                                                                                                                                                                                                                                                                                                                                                                                                                                                                                                                                                                                                                                                                                                                                                                                                                                                                                                                                                                                                                                                                                                                                                                                                                                                                                                                                                                                                                                                                                                                                                                                                 \n",
       "13   People who works there need to be more happier and have smile on their face.  Overall services were quick, however there aren't enough parking spots, you may need to park somewhere else and walk over.                                                                                                                                                                                                                                                                                                                                                                                                                                                                                                                                                                                                                                                                                                                                                                                                                                                                                                                                                                                                                                                                                                                                                                                                                                                                                                                                                                                                                                                                                                                                                                                                                                                                                                                                                                                                                                                  \n",
       "14   It's an office of the Federal Government.  That means you can expect to wait longer that you should and have less than friendly service.  Thankfully, this visit wasn't to bad, other than the fact I had to ditch my coffee as they don't allow you to bring any liquids into the building.  It would be better if they at least had a coffee machine inside, but they don't so I suffered, I'm just glad I didn't have to wait to long.                                                                                                                                                                                                                                                                                                                                                                                                                                                                                                                                                                                                                                                                                                                                                                                                                                                                                                                                                                                                                                                                                                                                                                                                                                                                                                                                                                                                                                                                                                                                                                                                                 \n",
       "15   If you're looking for name changes/corrections make sure to read the signs that say Suite B! It literally is right around the corner.\\r\\n\\r\\nI was extremely impressed! It took me only about 5 minutes to get done what I needed & there was almost no wait time.\\r\\n\\r\\nI was skeptical since I always hear people complain about what a long process it is getting your name changed, but it was quick & easy in my opinion.\\r\\n\\r\\nMake sure to visit ssa.gov prior to your visit to make sure you have the appropriate documentation to do whatever it is you need to do.\\r\\n\\r\\nTheres also plenty of parking, but like I said, just know what side of the building you need to beat the heat!                                                                                                                                                                                                                                                                                                                                                                                                                                                                                                                                                                                                                                                                                                                                                                                                                                                                                                                                                                                                                                                                                                                                                                                                                                                                                                                                                      \n",
       "16   I thought it would be a long wait. I went two years ago and waited a few minutes outside then a couple hours inside before being helped. Today I had to go again to update my status from resident to citizen. I got there at 8:30am (Friday) and waited outside in a long line. At 8:55 they started letting people in. I finally got inside just after 9am. I just sat down when a lady directed me to an open window. I was in and out in less than 10 minutes. For the wait outside, bring a folding chair and something cold to drink, the rest is easy and quick!! From the security guard outside, to the guard inside checking bags, the lady directing people and the lady helping me - they were all very friendly and helpful.                                                                                                                                                                                                                                                                                                                                                                                                                                                                                                                                                                                                                                                                                                                                                                                                                                                                                                                                                                                                                                                                                                                                                                                                                                                                                                                 \n",
       "17   In and out in 10 minutes flat (On a Monday at 10AM). Took me longer to drive there. Needed a new card. The security guard was friendly (and adorable!) and the agent who assisted me (Gloria) was just the sweetest!                                                                                                                                                                                                                                                                                                                                                                                                                                                                                                                                                                                                                                                                                                                                                                                                                                                                                                                                                                                                                                                                                                                                                                                                                                                                                                                                                                                                                                                                                                                                                                                                                                                                                                                                                                                                                                      \n",
       "18   I didn't even make it into the door into sweet b. The Security guard was highly disrespectful. I decided to go to the south Phoenix location instead. I would rather wait longer than deal with that so early in the morning.                                                                                                                                                                                                                                                                                                                                                                                                                                                                                                                                                                                                                                                                                                                                                                                                                                                                                                                                                                                                                                                                                                                                                                                                                                                                                                                                                                                                                                                                                                                                                                                                                                                                                                                                                                                                                             \n",
       "19   What a terrible experience.  This is the government at its finest.  I needed replacement social security cards for my kids and I researched everything I needed online, including their hours of operation.  The first time I went they were closed (different hours).  The second time I was told I needed different paperwork, so I went home and collected everything I was told.  The third time I was again told I needed different paperwork and to bring the kids with me.  The fourth time everything was finally processed - it only took an hour.  This was an hour once I got to a window, this does not include the wait time when you first arrive.                                                                                                                                                                                                                                                                                                                                                                                                                                                                                                                                                                                                                                                                                                                                                                                                                                                                                                                                                                                                                                                                                                                                                                                                                                                                                                                                                                                          \n",
       "20   If you're going to have to do anything social security related, come here. Quick. Easy and Friendly. Best of all, you're not shoulder to shoulder with a bunch of people. I got in at about 9:20am and was out by 9:40am. Only if every government service was this easy.                                                                                                                                                                                                                                                                                                                                                                                                                                                                                                                                                                                                                                                                                                                                                                                                                                                                                                                                                                                                                                                                                                                                                                                                                                                                                                                                                                                                                                                                                                                                                                                                                                                                                                                                                                                 \n",
       "21   Wonderful easy experience! Showed up a little before they opened, waited in a short line and got seen within 30 minutes. The security guard was super nice and so was the lady that checked me in. Granted I was here for a name change, but either way I didn't mind the experience!                                                                                                                                                                                                                                                                                                                                                                                                                                                                                                                                                                                                                                                                                                                                                                                                                                                                                                                                                                                                                                                                                                                                                                                                                                                                                                                                                                                                                                                                                                                                                                                                                                                                                                                                                                     \n",
       "22   3.5 stars\\r\\n\\r\\nFinally got to visit this city of Phoenix, when all the other times we both would only be in the city because of the airport. Our friend took us to Phoenix to grab brunch before our trip back and pretty much drove us around Downtown Phoenix. It pretty much reminds me of Downtown Los Angeles. A few ghetto places and a few nice places. I thought there wouldn't be homeless people, but I guess I was wrong. There's always going to be at least 1% of them here and there. \\r\\n\\r\\nThere's a few one way streets, so be careful when you're driving. ALSO be careful with drivers, some may look like tourist and will not look at traffic while busy looking at something else. \\r\\n\\r\\nDrove passed Downtown Civic Space Park - http://www.yelp.com/biz/downtown-civic-space-park-phoenix\\r\\n\\r\\nLooked pretty cool. Try coming here at night time, the lit up loop will most likely amaze you like it would with me even when it wasn't even lit in colors :D I just can't wait to check it out the next time I visit!                                                                                                                                                                                                                                                                                                                                                                                                                                                                                                                                                                                                                                                                                                                                                                                                                                                                                                                                                                                                      \n",
       "23   Phoenix is a one of a kind city, that is beautiful, fashionable, BIG, and luxurious. :-)                                                                                                                                                                                                                                                                                                                                                                                                                                                                                                                                                                                                                                                                                                                                                                                                                                                                                                                                                                                                                                                                                                                                                                                                                                                                                                                                                                                                                                                                                                                                                                                                                                                                                                                                                                                                                                                                                                                                                                  \n",
       "24   I adore this city and would move here in a heartbeat. It is a foodie's dream, hiking is fabulous, Spring Training is fun even for the non-baseball inspired and the views are breathtaking.                                                                                                                                                                                                                                                                                                                                                                                                                                                                                                                                                                                                                                                                                                                                                                                                                                                                                                                                                                                                                                                                                                                                                                                                                                                                                                                                                                                                                                                                                                                                                                                                                                                                                                                                                                                                                                                               \n",
       "25   Metro Fire keeps us compliant and more. Our exit lights always work, our extinguishers are up to date and Kent Rassmussen represents well!                                                                                                                                                                                                                                                                                                                                                                                                                                                                                                                                                                                                                                                                                                                                                                                                                                                                                                                                                                                                                                                                                                                                                                                                                                                                                                                                                                                                                                                                                                                                                                                                                                                                                                                                                                                                                                                                                                                \n",
       "26   Super honest knowledgable guys & great pricing! I would use Metro for any and all of my security & fire service needs. No other company can compare!!                                                                                                                                                                                                                                                                                                                                                                                                                                                                                                                                                                                                                                                                                                                                                                                                                                                                                                                                                                                                                                                                                                                                                                                                                                                                                                                                                                                                                                                                                                                                                                                                                                                                                                                                                                                                                                                                                                     \n",
       "27   Metro fire is run by great guys.  Kent Rasmussen is superb and he is very friendly, very knowledgable about what he does.  You can't go wrong with these guys.                                                                                                                                                                                                                                                                                                                                                                                                                                                                                                                                                                                                                                                                                                                                                                                                                                                                                                                                                                                                                                                                                                                                                                                                                                                                                                                                                                                                                                                                                                                                                                                                                                                                                                                                                                                                                                                                                            \n",
       "28   This is a review for the Clark County Government Center on Grand Central Parkway.  I was there today to see a small art exhibit that's a playful poke at the art at City Center.\\r\\n\\r\\nI've been to the Government Center before when I had to go to an office for some business.  Parking is great and the building is interesting, inside and out.                                                                                                                                                                                                                                                                                                                                                                                                                                                                                                                                                                                                                                                                                                                                                                                                                                                                                                                                                                                                                                                                                                                                                                                                                                                                                                                                                                                                                                                                                                                                                                                                                                                                                                     \n",
       "29   This place is huge and can be extremely hard to find anything. Simply ask any security for directions and they will happily take you to your destination. Parking is located right in front of the main entrance off of grand central, make sure you park in visitors parking which is the smaller lot. The huge lots surrounding are all for govt employees and I believe you will get ticketed or towed. If you are here as a new hire and need badging done, take the freight elevator down to the basement and follow the yellow footsteps to your destination!                                                                                                                                                                                                                                                                                                                                                                                                                                                                                                                                                                                                                                                                                                                                                                                                                                                                                                                                                                                                                                                                                                                                                                                                                                                                                                                                                                                                                                                                                       \n",
       "..                                                                                                                                                                                                                                                                                                                                                                                                                                                                                                                                                                   ...                                                                                                                                                                                                                                                                                                                                                                                                                                                                                                                                                                                                                                                                                                                                                                                                                                                                                                                                                                                                                                                                                                                                                                                                                                                                                                                                                                                                                                                                                       \n",
       "636  Biggest waste of money ever!  The TSA Pre-check line is officially the first time traveler, stroller. Wheelchair, family, and employee lane!  So frustrating to pay for a service and it is overtaken by I experienced travelers. Thanks for nothing TSA !!                                                                                                                                                                                                                                                                                                                                                                                                                                                                                                                                                                                                                                                                                                                                                                                                                                                                                                                                                                                                                                                                                                                                                                                                                                                                                                                                                                                                                                                                                                                                                                                                                                                                                                                                                                                               \n",
       "637  So, I have PreCheck, and I have an artificial hip.  I actually, stupidly, thought that PreCheck would actually get through TSA faster. Nope.  So in Phoenix, the PreCheck line has the metal detector, which means I have to wait to be wanded. So I normally tell them about my hip in the PreCheck line, so they send me over to another line with the body scanners, and my carry-on stays in the first line, but of course in those other lines you have to take off your shoes, coat, etc.  So I have to constantly tell them I'm PreCheck even if everyone else in line isn't, and of course they look at me like I'm an idiot. Why are you in this line if your PreCheck?\\r\\n\\r\\nI guess nobody at TSA ever realized that MAYBE someone with PreCheck may actually have an artificial joint. I guess nobody ever figured that out.\\r\\n\\r\\nMaybe TSA needs to all get together at a meeting, and figure out an organized way to handle EVERY type of passenger they might have. Then make sure EVERY TSA person knows this procedure.                                                                                                                                                                                                                                                                                                                                                                                                                                                                                                                                                                                                                                                                                                                                                                                                                                                                                                                                                                                                               \n",
       "638  I really appreciate TSA for stealing my personal items out of my checked bags and then leaving a note inside telling me that my bag was searched. Probably the dumbest criminals ever. I hope you enjoy my Bose speaker. At least you stole the charger too, so that proves you're not totally retarded. \\r\\n\\r\\n\"Protecting you and your fellow passengers\" -TSA                                                                                                                                                                                                                                                                                                                                                                                                                                                                                                                                                                                                                                                                                                                                                                                                                                                                                                                                                                                                                                                                                                                                                                                                                                                                                                                                                                                                                                                                                                                                                                                                                                                                                         \n",
       "639  I'm so frustrated with TSA Checkpoint at Sky Harbor. Terminal 4-A checkpoint is a huge checkpoint which, on Sunday, is pretty much at max capacity all day. Business travelers like me travel out on Sunday and back on Thursday or Friday and depend on TSA Precheck to get me through security quickly.\\r\\n\\r\\nYou offer PreCheck services and take payments at your airport. Then you have PreCheck locations at your security screening areas, but you decide to CLOSE them around 5pm for who knows what reason! Why would you deny that service, THAT WE PAY FOR, on a busy commuter travel day!? The past 2 weeks when I've approached T4-A I've seen no less than 200 people queued up in the regular line and at least HALF of those people when asked have TSA Pre on their boarding pass. Are you trying to save some money by not staffing that location? Well I'd didn't get a discount when I paid into this service.\\r\\n\\r\\nDo everyone a favor. Staff this checkpoint just like you do T4-B and help out the people to weekly keep this airport's lights on and everyone employed. We don't have a choice of another airport to fly American out of. You've got us by the b*lls. Please do the right thing and allow us to use the services we paid for.                                                                                                                                                                                                                                                                                                                                                                                                                                                                                                                                                                                                                                                                                                                                                                                  \n",
       "640  They are mean, rude, and DO NOT COMMUNICATE WELL.They all need to be retrained or get another job. Everyone is not wired to work with the public. It's clear Phoenix hired a bunch of TSA employees with no customer skills. That was my experience before noon on Monday,10/26/15. I can only imagine how bad it gets throughout the day.                                                                                                                                                                                                                                                                                                                                                                                                                                                                                                                                                                                                                                                                                                                                                                                                                                                                                                                                                                                                                                                                                                                                                                                                                                                                                                                                                                                                                                                                                                                                                                                                                                                                                                                \n",
       "641  They are severely understaffed. Got to the airport 2 hrs early and waited an hour to get through. People were nice but it was ridiculous to wait that long. This system needs to be corrected.                                                                                                                                                                                                                                                                                                                                                                                                                                                                                                                                                                                                                                                                                                                                                                                                                                                                                                                                                                                                                                                                                                                                                                                                                                                                                                                                                                                                                                                                                                                                                                                                                                                                                                                                                                                                                                                            \n",
       "642  User be ware, they change the rules and do what they want. They couldn't follow their own rule book let along be capable of reading it. And for us PreCheck paying fools, they close the D gates early as well then won't recognize your PreCheck status unless you have a printed boarding pass so they say.As far as I'm concerned they are just another waste of tax payer/ the flying publics money. The funny thing is when I fly out of McCarron their PreCheck line is always open and I can get from car to gate in less than 15 minutes, Phoenix employees need to go and learn from a real busy airport how it works and how to treat PreChecked Americans!                                                                                                                                                                                                                                                                                                                                                                                                                                                                                                                                                                                                                                                                                                                                                                                                                                                                                                                                                                                                                                                                                                                                                                                                                                                                                                                                                                                     \n",
       "643  They are the rudest  undertrained idiots I have ever had a experience with ever. If this state is based on tourism they have a sad future. I will never come back.                                                                                                                                                                                                                                                                                                                                                                                                                                                                                                                                                                                                                                                                                                                                                                                                                                                                                                                                                                                                                                                                                                                                                                                                                                                                                                                                                                                                                                                                                                                                                                                                                                                                                                                                                                                                                                                                                        \n",
       "644  Dear Phoenix Sky Harbor TSA,\\r\\n\\r\\nWhat a day. \\r\\n\\r\\nUnlike a lot of folks I encountered today, I'm a reasonable, calm lady. \\r\\n\\r\\nI'm not prone to lashing out or threatening harm upon a poor Southwest Customer Service Agent because God forbid the weather couldn't get me to my destination on time. \\r\\n\\r\\nNot being able to leave for Denver (I was scheduled to leave on SWA#1295, but cancelled at my client's request after several delays and him being unable to get on the road) because of the blizzard wasn't your fault. \\r\\n\\r\\nBut I wanted to personally thank you for chipping a large part of the front of my night guard used for TMJ today (11/17). \\r\\n\\r\\nI rely on it to keep severe TMJ headaches and jaw pain at bay. \\r\\n\\r\\nOne time my TMJ got so bad, it damn near completely locked my jaw and had to be prescribed heavy duty muscle relaxants just so 1) It could open and 2) So my dentist could see the damage.\\r\\n\\r\\nThis was a $300 dental appliance I've had for two years and had to pay 100% out of pocket because my insurance doesn't cover it.\\r\\n\\r\\nIn the future: When inspecting dental appliances in a passenger's bag, please handle with care. Night guards, retainers, etc. are NOT cheap to replace and aren't always covered by insurance. \\r\\n\\r\\nSeriously, break our make-up compacts all day. Just not the night guards!\\r\\n\\r\\nLet's hope my dentist can help me with this. \\r\\n\\r\\nSigned, \\r\\n\\r\\nNighttime Jaw Clencher Lady who's about to be in a LOT of pain. :'(                                                                                                                                                                                                                                                                                                                                                                                                                                                                                                               \n",
       "645  The TSA employees in this section are lazy and unfriendly. On the day before thanksgiving, one of the busiest traveling days of the year, the employees did not perform their duties properly or effectively. The line for TSA pre-check was closed even though it took over 30 mins to effectively move through the regular lines. The employees behaved lazily while also being unfriendly and choosing to hold conversations rather than conduct their paid duties. They held up many passengers because of their own arrogance rather than any creditable intelligence. I missed my my flight because of the mismanagement of this organization. No matter what time frame, I suggest not to rely on anything the TSA propaganda states                                                                                                                                                                                                                                                                                                                                                                                                                                                                                                                                                                                                                                                                                                                                                                                                                                                                                                                                                                                                                                                                                                                                                                                                                                                                                                               \n",
       "646  I was at Phoenix Sky harbor airport. Took 45 min to check in, another 45 min to wait in line for X-ray. After X-ray, this a hole took my kids 1 foot long plastic hockey sticks that I bought for them. He said they were dangerous. We were at a game in Phoenix New Years Eve, so much fun, until TSA...                                                                                                                                                                                                                                                                                                                                                                                                                                                                                                                                                                                                                                                                                                                                                                                                                                                                                                                                                                                                                                                                                                                                                                                                                                                                                                                                                                                                                                                                                                                                                                                                                                                                                                                                                \n",
       "647  One of the worst run TSA checkpoints I've ever seen, and I've flown out of a ton of airports, and ones much smaller than PHX.\\r\\n\\r\\nI was flying out of B, but the B gates security were closed. Nevermind that I had just walked down there from a restaurant in the middle.\\r\\n\\r\\nI arrived to the A gates to a total nightmare scenario. TSA Precheck was closed, as they like to do here. I was lucky enough to be in first class for my flight, so I used that lane. There were a bunch of people in that line, so I asked if I was in the right place. The girl in front of me said a TSA agent just came through and ambiguously said this lane or the next one was for Precheck. What followed was a free-for-all with people using the disabled/employee lane and the first class lane. \\r\\n\\r\\nI called for a TSA agent to come over and explain which line was which, but they just looked me in the eye and listened to my explanation of how everyone was confused and nobody knew which line was with. Nobody from TSA was willing to come over and take control of the situation. They were just letting everyone in in whatever order they fought their way to the front.\\r\\n\\r\\nI ended up getting yelled at and threatened by another passenger who mistook me as the enemy. I was just trying to get TSA to, you know, do their job. I'm the good guy here, sticking up for the 90% of the line that was getting cut by more aggressive passengers. \\r\\n\\r\\nAnyway, 15 minutes later I made it through security. Chatted with a supervisor who more or less admitted it was a terribly run checkpoint. Apparently this is normal in PHX, as an airport employee ensured me I was right, and the lounge agents shared their experiences with this TSA checkpoint.\\r\\n\\r\\nIt's really too bad this review will make absolutely no difference, just as me talking to a supervisor or filing a formal TSA complaint will. TSA will continue to do their absolute minimum to complete their job tasks without any pride for their work.   \n",
       "648  Wow! So the folks who run TSA think the best think to do is shut down TSAPre because they do not have enough staff. Tell me what the hell about that makes sense. Hey let's shut down the line that moves people through the fastest. I would honestly rather take my chances with the old system. TSA is incompetent and has no idea what they are doing.                                                                                                                                                                                                                                                                                                                                                                                                                                                                                                                                                                                                                                                                                                                                                                                                                                                                                                                                                                                                                                                                                                                                                                                                                                                                                                                                                                                                                                                                                                                                                                                                                                                                                                \n",
       "649  Rude TSA agent at the checkpoint where they check ID and boarding passes. No one was at the checkpoint and the TSA agent was sitting alone at his stand. He made my wife go back to the sign that said \"Wait for next available agent\" and told here to wait until he told her to walk up to him. He then went on to lecture her about following directions. It was completely unnecessary, rude and condescending. I've been a supporter of the TSA until this point. Now I understand why people complain about their demeanor and Congress is critical of their performance.                                                                                                                                                                                                                                                                                                                                                                                                                                                                                                                                                                                                                                                                                                                                                                                                                                                                                                                                                                                                                                                                                                                                                                                                                                                                                                                                                                                                                                                                           \n",
       "650  I've been to a lot of airports and never write reviews but I felt I needed to this time. The security line was long and because they didn't have their TSA pre check line open there wasn't even an expedited line for TSA. The lady at the scanner was the rudest I've ever experienced and made snide remarks to me when I didn't even say anything to her. Not sure how these people are evaluated on a regular basis but apparently they aren't measured on customer service. Understand it's not meant to be a \"friendly\" job but they can at least be civil.                                                                                                                                                                                                                                                                                                                                                                                                                                                                                                                                                                                                                                                                                                                                                                                                                                                                                                                                                                                                                                                                                                                                                                                                                                                                                                                                                                                                                                                                                        \n",
       "651  Terribly badly organized - closing security stations at will with no rhyme or reason making people endlessly wander around Phoenix airport. Your chances to miss your plane because of immensely long lines at TSA: immensely high! Best option: try not to go through Phoenix airport.                                                                                                                                                                                                                                                                                                                                                                                                                                                                                                                                                                                                                                                                                                                                                                                                                                                                                                                                                                                                                                                                                                                                                                                                                                                                                                                                                                                                                                                                                                                                                                                                                                                                                                                                                                   \n",
       "652  Friendly TSA agents! Always helpful when in a hurry. I travel a lot for work, and I feel like this are the most helpful. They normal don't have long lines                                                                                                                                                                                                                                                                                                                                                                                                                                                                                                                                                                                                                                                                                                                                                                                                                                                                                                                                                                                                                                                                                                                                                                                                                                                                                                                                                                                                                                                                                                                                                                                                                                                                                                                                                                                                                                                                                                \n",
       "653  What a joke. The line is out the door. 5 guys standing around, and we are forced to pay for this... if I ran my business like this, my doors would be closed in a week.                                                                                                                                                                                                                                                                                                                                                                                                                                                                                                                                                                                                                                                                                                                                                                                                                                                                                                                                                                                                                                                                                                                                                                                                                                                                                                                                                                                                                                                                                                                                                                                                                                                                                                                                                                                                                                                                                   \n",
       "654  Worst security checkpoint yet. Almost missed my plane because of a full un warranted body search.                                                                                                                                                                                                                                                                                                                                                                                                                                                                                                                                                                                                                                                                                                                                                                                                                                                                                                                                                                                                                                                                                                                                                                                                                                                                                                                                                                                                                                                                                                                                                                                                                                                                                                                                                                                                                                                                                                                                                         \n",
       "655  they could not pass my coke bottle its so small 10 oz that the smallest.... sighs... they should increase oz on pop drinks like 10 oz or something...                                                                                                                                                                                                                                                                                                                                                                                                                                                                                                                                                                                                                                                                                                                                                                                                                                                                                                                                                                                                                                                                                                                                                                                                                                                                                                                                                                                                                                                                                                                                                                                                                                                                                                                                                                                                                                                                                                     \n",
       "656  TSA PRE-Check lane closed  frequently. Disappointing for a major airport. Be prepared to keep shoes on take laptop out.                                                                                                                                                                                                                                                                                                                                                                                                                                                                                                                                                                                                                                                                                                                                                                                                                                                                                                                                                                                                                                                                                                                                                                                                                                                                                                                                                                                                                                                                                                                                                                                                                                                                                                                                                                                                                                                                                                                                   \n",
       "657  Once again flying out of terminal 3 and precheck is closed. Glad I paid money for a service I can't use. Why do you have precheck if you can't use precheck? You go through the line everyone else except you get to keep your shoes on. I feel safer already.                                                                                                                                                                                                                                                                                                                                                                                                                                                                                                                                                                                                                                                                                                                                                                                                                                                                                                                                                                                                                                                                                                                                                                                                                                                                                                                                                                                                                                                                                                                                                                                                                                                                                                                                                                                            \n",
       "658  I will mirror what the other reviewer stated.  Needing to do my notary oath (the final hoop before I could start stamping!), I visited their office on a June Tuesday around 11:00 am and was in and out in no time.  Everyone that I encountered in the building, from the security guard in the foyer, to the office workers at the Register of Deeds was friendly, helpful and polite.  Miss Valerie (what her coworker called her) was the one that took care of me and I was $10 lighter, sworn, certificated and out the door in no time.  \\r\\n\\r\\nI parked in the parking deck off of Davidson between 3rd and 4th, which proved to be not terribly expensive ($1 for 30-45 minutes, I think) and not too far of a hike, only crossing one substantial intersection.                                                                                                                                                                                                                                                                                                                                                                                                                                                                                                                                                                                                                                                                                                                                                                                                                                                                                                                                                                                                                                                                                                                                                                                                                                                                               \n",
       "659  All of the prior reviews were accurate.  Very pleasant employees.   Clean, neat and professional atmosphere.    When I went (Friday at 9:15) it was not busy.   The employee took a total of about 15 minutes.  Parking is not easy but everything else was.                                                                                                                                                                                                                                                                                                                                                                                                                                                                                                                                                                                                                                                                                                                                                                                                                                                                                                                                                                                                                                                                                                                                                                                                                                                                                                                                                                                                                                                                                                                                                                                                                                                                                                                                                                                              \n",
       "660  I came here after the unsatisfactory service received from the security guard at the Tatum office. The guard here was respectable as expected and for it being the busiest office in all of Phoenix, it was surprisingly a quick in and out. About 45 minutes. I got there around 10am. Of course I was just requesting a replacement card. \\r\\n\\r\\nThe only downfall is there is not nearly enough parking for how busy this office is. So be prepared for that.                                                                                                                                                                                                                                                                                                                                                                                                                                                                                                                                                                                                                                                                                                                                                                                                                                                                                                                                                                                                                                                                                                                                                                                                                                                                                                                                                                                                                                                                                                                                                                                         \n",
       "661  Comfortable brand new building, safe and clean.  Smells brand new and fast service.   Staff speak multiple languages and the elevators were super fast!                                                                                                                                                                                                                                                                                                                                                                                                                                                                                                                                                                                                                                                                                                                                                                                                                                                                                                                                                                                                                                                                                                                                                                                                                                                                                                                                                                                                                                                                                                                                                                                                                                                                                                                                                                                                                                                                                                   \n",
       "662  It was an ok experience. Arrived just before it opened and had to wait in line around the building but after arriving inside and getting my numberI had atleast an hour wait. I was getting my replacement card..                                                                                                                                                                                                                                                                                                                                                                                                                                                                                                                                                                                                                                                                                                                                                                                                                                                                                                                                                                                                                                                                                                                                                                                                                                                                                                                                                                                                                                                                                                                                                                                                                                                                                                                                                                                                                                         \n",
       "663  Truly wasn't an awful experience. I've been dreading the idea of getting a new social card since I moved and lost my old one. Woke up early and went to the Mesa location just to find out they don't issue applications for social security card renewals so I drove down to Phoenix where they told me to go. The parking lot was filled and kinda hard to find a parking spot. The security guard was actually pretty pleasant, very nice and friendly man. The waiting room was just about full which obviously ruins your mood a little but I was maybe there an hour before my number got called. The lady who did the application was really nice and patient and I was out of the in no time. Pretty pleased with my experience here. I see a lot of bad reviews on Google and other locations of the social security offices so I thought I'd share mine not great, but not so bad experience.                                                                                                                                                                                                                                                                                                                                                                                                                                                                                                                                                                                                                                                                                                                                                                                                                                                                                                                                                                                                                                                                                                                                                   \n",
       "664  eh,   it is what it is..BUSY! long waits                                                                                                                                                                                                                                                                                                                                                                                                                                                                                                                                                                                                                                                                                                                                                                                                                                                                                                                                                                                                                                                                                                                                                                                                                                                                                                                                                                                                                                                                                                                                                                                                                                                                                                                                                                                                                                                                                                                                                                                                                  \n",
       "665  This place is gross. I was there so long was forced to use restroom, yuck. Security grills you up front. I did give 2 stars because at least after 2 hours the lady that helped me was pleasant enough. Glad I don't need to come often lol                                                                                                                                                                                                                                                                                                                                                                                                                                                                                                                                                                                                                                                                                                                                                                                                                                                                                                                                                                                                                                                                                                                                                                                                                                                                                                                                                                                                                                                                                                                                                                                                                                                                                                                                                                                                               \n",
       "\n",
       "     stars  \n",
       "0    4      \n",
       "1    4      \n",
       "2    1      \n",
       "3    2      \n",
       "4    1      \n",
       "5    5      \n",
       "6    5      \n",
       "7    4      \n",
       "8    1      \n",
       "9    4      \n",
       "10   3      \n",
       "11   3      \n",
       "12   5      \n",
       "13   3      \n",
       "14   3      \n",
       "15   4      \n",
       "16   5      \n",
       "17   5      \n",
       "18   1      \n",
       "19   1      \n",
       "20   4      \n",
       "21   5      \n",
       "22   3      \n",
       "23   5      \n",
       "24   5      \n",
       "25   5      \n",
       "26   5      \n",
       "27   5      \n",
       "28   4      \n",
       "29   5      \n",
       "..  ..      \n",
       "636  1      \n",
       "637  2      \n",
       "638  1      \n",
       "639  1      \n",
       "640  1      \n",
       "641  1      \n",
       "642  1      \n",
       "643  1      \n",
       "644  1      \n",
       "645  1      \n",
       "646  1      \n",
       "647  1      \n",
       "648  1      \n",
       "649  1      \n",
       "650  1      \n",
       "651  1      \n",
       "652  4      \n",
       "653  1      \n",
       "654  1      \n",
       "655  3      \n",
       "656  3      \n",
       "657  1      \n",
       "658  5      \n",
       "659  5      \n",
       "660  4      \n",
       "661  5      \n",
       "662  3      \n",
       "663  4      \n",
       "664  3      \n",
       "665  2      \n",
       "\n",
       "[666 rows x 3 columns]"
      ]
     },
     "metadata": {},
     "output_type": "display_data"
    }
   ],
   "source": [
    "# Setting up the yelp dataset for the demonstration\n",
    "myDir = 'data/yelp'\n",
    "f = os.path.join(myDir,'reviews_with_single_category.csv')\n",
    "data = pd.read_csv(f, encoding=\"utf-8\")\n",
    "\n",
    "# show the business categories I have filtered to, and the number of reviews per business.\n",
    "cat_grp = data.groupby('categories')\n",
    "cat = \"Public Services & Government\"\n",
    "data = cat_grp.get_group(cat).reset_index(drop=True)\n",
    "num_reviews = data.shape[0]\n",
    "display(data)"
   ]
  },
  {
   "cell_type": "markdown",
   "metadata": {
    "deletable": true,
    "editable": true,
    "nbpresent": {
     "id": "8a432101-98d3-4234-9983-01d183f94622"
    },
    "slideshow": {
     "slide_type": "subslide"
    },
    "variables": {
     "num_reviews": {}
    }
   },
   "source": [
    "### Dataset for Demonstration\n",
    "\n",
    "<img src='img\\Yelp_Logo.svg.png' height='128' width='128' align='right'/>To demonstrate the analysis, I have used the text reviews from the Round 8 of the Yelp Challenge. src: https://www.yelp.com/dataset_challenge. \n",
    "\n",
    "We will be analyzing the reviews in the **Public Services & government** category, consisting of {{num_reviews}} reviews. Each review has a star rating numbered from 1 to 5."
   ]
  },
  {
   "cell_type": "markdown",
   "metadata": {
    "deletable": true,
    "editable": true,
    "slideshow": {
     "slide_type": "subslide"
    },
    "variables": {
     "display(data.head())": {}
    }
   },
   "source": [
    "A preview of the data:\n",
    "\n",
    "{{display(data.head())}}"
   ]
  },
  {
   "cell_type": "markdown",
   "metadata": {
    "deletable": true,
    "editable": true,
    "slideshow": {
     "slide_type": "subslide"
    }
   },
   "source": [
    "### Sentiment analysis\n",
    "\n",
    "nltk provides a sentiment analysis package called _vader.SentimentIntensityAnalyzer()_. _Vader_, an abbreviation for **Valence Aware Dictionary and sEntiment Reasoner**, is a lexicon (relies on Wordnet) and rule-based sentiment analysis tool that is specifically attuned to sentiments expressed in social media. For each document provided as input to Vader, the algorithm calculates the overall sentiment score to between -1 and 1 and calls this score the compound score. A score of -1 is negative, and a score of 1 is positive."
   ]
  },
  {
   "cell_type": "markdown",
   "metadata": {
    "slideshow": {
     "slide_type": "subslide"
    }
   },
   "source": [
    "**Vader Rule Overview** \n",
    "\n",
    "1. Punctuation, namely the exclamation point (!), increases the magnitude of the intensity without modifying the semantic orientation. For example, “The food here is good!!!” is more intense than “The food here is good.” \n",
    "2. Capitalization, specifically using ALL-CAPS to emphasize a sentiment-relevant word in the presence of other non-capitalized words, increases the magnitude of the sentiment intensity without affecting the semantic orientation. For example, “The food here is GREAT!” conveys more intensity than “The food here is great!” \n",
    "3. Degree modifiers (also called intensifiers, booster words, or degree adverbs) impact sentiment intensity by either increasing or decreasing the intensity. For example, “The service here is extremely good” is more intense than “The service here is good”, whereas “The service here is marginally good” reduces the intensity. "
   ]
  },
  {
   "cell_type": "markdown",
   "metadata": {
    "slideshow": {
     "slide_type": "subslide"
    }
   },
   "source": [
    "<p>4. The contrastive conjunction “but” signals a shift in sentiment polarity, with the sentiment of the text following the conjunction being dominant. “The food here is great, but the service is horrible” has mixed sentiment, with the latter half dictating the overall rating. </p>\n",
    "<p>5. By examining the tri-gram preceding a sentiment-laden lexical feature, we catch nearly 90% of cases where negation flips the polarity of the text. A negated sentence would be “The food here isn’t really all that great”.</p>\n",
    "\n",
    "Hutto, C.J., Gilbert, E. June 2014. _VADER: A Parsimonious Rule-based Model for Sentiment Analysis of Social Media Text._ Eighth International Conference on Weblogs and Social Media (ICWSM-14)."
   ]
  },
  {
   "cell_type": "code",
   "execution_count": 101,
   "metadata": {
    "collapsed": false,
    "deletable": true,
    "editable": true,
    "slideshow": {
     "slide_type": "subslide"
    }
   },
   "outputs": [
    {
     "name": "stdout",
     "output_type": "stream",
     "text": [
      "{'neg': 0.0, 'neu': 0.742, 'pos': 0.258, 'compound': 0.9766} \n",
      "\n",
      "The star rating given by the reviewer is 4\n"
     ]
    }
   ],
   "source": [
    "# Assigning a variable to the sentiment analyzer.\n",
    "midi_chlorian = vader.SentimentIntensityAnalyzer()\n",
    "\n",
    "# Take the first review as an example.\n",
    "review1 = data['text'][0]\n",
    "\n",
    "# Analyze the polarity of this review.\n",
    "polarity1 = midi_chlorian.polarity_scores(review1)\n",
    "\n",
    "# the result.\n",
    "print polarity1, '\\n'\n",
    "print \"The star rating given by the reviewer is\", data['stars'][0]"
   ]
  },
  {
   "cell_type": "code",
   "execution_count": 102,
   "metadata": {
    "collapsed": true,
    "deletable": true,
    "editable": true,
    "slideshow": {
     "slide_type": "skip"
    }
   },
   "outputs": [],
   "source": [
    "if polarity1['compound'] > 0.25:\n",
    "    polarity_returned = 'positive'\n",
    "elif polarity1['compound'] < 0.25:\n",
    "    polarity_returned = 'negative'\n",
    "else:\n",
    "    polarity_returned = 'neutral'\n",
    "\n",
    "if (polarity_returned == 'positive' and data['stars'][0] > 3) or (polarity_returned == 'negative' and data['stars'][0] < 3) or (polarity_returned == 'neutral' and data['stars'][0] == 3):\n",
    "    align = 'aligned'\n",
    "else:\n",
    "    align = 'not aligned'"
   ]
  },
  {
   "cell_type": "markdown",
   "metadata": {
    "deletable": true,
    "editable": true,
    "variables": {
     "align": {},
     "data['stars'][0]": {},
     "polarity1['compound']": {},
     "polarity_returned": {}
    }
   },
   "source": [
    "The compound score returned is {{polarity1['compound']}}, indicating it is {{polarity_returned}}. The result is {{align}} with the rating of {{data['stars'][0]}} stars given."
   ]
  },
  {
   "cell_type": "markdown",
   "metadata": {
    "slideshow": {
     "slide_type": "subslide"
    }
   },
   "source": [
    "How does Vader's compound score relate to the star rating?"
   ]
  },
  {
   "cell_type": "code",
   "execution_count": 269,
   "metadata": {
    "collapsed": false,
    "deletable": true,
    "editable": true,
    "slideshow": {
     "slide_type": "-"
    }
   },
   "outputs": [
    {
     "data": {
      "image/png": "[encoded data removed]",
      "text/plain": [
       "<matplotlib.figure.Figure at 0x1b7e76d8>"
      ]
     },
     "metadata": {},
     "output_type": "display_data"
    }
   ],
   "source": [
    "# apply Vader to the whole dataset\n",
    "data['valence'] = data['text'].apply(midi_chlorian.polarity_scores).apply(lambda x: x['compound'])\n",
    "# the first apply, applies Vader to each of the text. \n",
    "# The second apply extracts the overall polarity score given by the 'compound' key in the dict returned by Vader\n",
    "\n",
    "# plot the compound score against the star rating.\n",
    "plt.scatter(data['stars'], data['valence'], alpha=0.1)\n",
    "# fitting a best fit line thru the points\n",
    "plt.plot(np.arange(1,6), np.poly1d(np.polyfit(data['stars'], data['valence'], 1))(np.arange(1,6)), linestyle='--')\n",
    "plt.xlabel('star rating given')\n",
    "plt.ylabel('Compound score')\n",
    "plt.title('Plot of Valence score against star rating given')\n",
    "plt.show()"
   ]
  },
  {
   "cell_type": "markdown",
   "metadata": {
    "editable": true,
    "slideshow": {
     "slide_type": "subslide"
    }
   },
   "source": [
    "From the best fit line in the previous plot, we see that the valence score returned by Vader is generally in line with the ratings given by the reviews. The sentiment analyzer is not perfect, as we saw that there are negative valence score givens to reviews awarded 5 stars, and positive valence score given to the reviews awarded 1 star. A closer examination will be required to understand what are the reviews that Vader got wrong.\n",
    "\n",
    "How good is Vader in identifying 1 star ratings?"
   ]
  },
  {
   "cell_type": "code",
   "execution_count": 104,
   "metadata": {
    "collapsed": false,
    "slideshow": {
     "slide_type": "subslide"
    }
   },
   "outputs": [
    {
     "name": "stdout",
     "output_type": "stream",
     "text": [
      "Accuracy of Vader is: 69.37 %\n",
      "Accuracy on 1 star reviews is: 67.73 %\n"
     ]
    }
   ],
   "source": [
    "# Take a look at the accuracy of sentiment analysis.\n",
    "def correctness(polarity, stars):\n",
    "    if (polarity > 0 and stars > 3) or (polarity <= 0 and stars <= 3):\n",
    "        return True\n",
    "    else:\n",
    "        return False\n",
    "\n",
    "# Here, I am assuming that a 3 star review should have a negative valence.\n",
    "data['correct_flag'] = ((data['stars']-3.1)*data['valence']) > 0 \n",
    "\n",
    "accuracy = sum(data.correct_flag)*1./data.shape[0]\n",
    "print \"Accuracy of Vader is: %.2f %%\" %(accuracy*100.)\n",
    "\n",
    "acc_1_star = sum(data[data.stars==1].correct_flag)*1./data[data.stars==1].shape[0]\n",
    "print \"Accuracy on 1 star reviews is: %.2f %%\" %(acc_1_star*100.)"
   ]
  },
  {
   "cell_type": "markdown",
   "metadata": {
    "slideshow": {
     "slide_type": "subslide"
    }
   },
   "source": [
    "With sentiment analysis, a business can retrieve texts from other data sources which does not contain any star rating information, and grade the sentiment of that text. They can filter the results to texts with negative sentiments. These texts will likely be talking about the negative aspect of the business. This will help the business focus their efforts on these negative aspects."
   ]
  },
  {
   "cell_type": "markdown",
   "metadata": {
    "deletable": true,
    "editable": true,
    "slideshow": {
     "slide_type": "subslide"
    }
   },
   "source": [
    "### Document similarity\n",
    "\n",
    "Previously, we saw that a business can sieve out text with negative sentiments. While reading through newly collected reviews with negative sentiments, the business realized some topics in the reviews were constantly being mentioned. Management wants to know whether they have received similar feedback in the past. You can find similar reviews by measuring the document similarity for the new reviews with the reviews stored in the database."
   ]
  },
  {
   "cell_type": "markdown",
   "metadata": {
    "slideshow": {
     "slide_type": "subslide"
    }
   },
   "source": [
    "Documents can be measured for similarity by comparing the words that appear in the documents. 2 documents with many common words will have high similarity. A similarity score commonly used in text analytics is the **cosine** similarity.\n",
    "\n",
    "## $\\cos similarity = \\frac{v.w}{\\|v\\|\\|w\\|}$\n",
    "\n",
    "### $v.w = v_1 * w_1 + v_2 * w_2 + ... + v_N * w_N$\n",
    "\n",
    "### $\\|v\\| = \\sqrt{v_1^2 + v_2^2 + ... + v_N^2}$\n",
    "\n",
    "### $\\|w\\| = \\sqrt{w_1^2 + w_2^2 + ... + w_N^2}$"
   ]
  },
  {
   "cell_type": "markdown",
   "metadata": {
    "deletable": true,
    "editable": true,
    "nbpresent": {
     "id": "d34d02fd-3ccc-436c-9303-06436cac1db2"
    },
    "slideshow": {
     "slide_type": "subslide"
    }
   },
   "source": [
    "Document v = (1, 1, 1, $\\cdots$, 0) --> $\\begin{pmatrix}v_1\\\\v_2\\\\v_3\\\\\\vdots\\\\v_n\\end{pmatrix}$ --> $\\begin{pmatrix}1\\\\1\\\\1\\\\\\vdots\\\\0\\end{pmatrix}$\n",
    "\n",
    "\n",
    "Document w = (0, 0, 1, $\\cdots$, 0) --> $\\begin{pmatrix}w_1\\\\w_2\\\\w_3\\\\\\vdots\\\\w_n\\end{pmatrix}$ --> $\\begin{pmatrix}0\\\\0\\\\1\\\\\\vdots\\\\0\\end{pmatrix}$\n",
    "\n",
    "Invert each document in the matrix, and you'll get the vector of a document.\n",
    "\n",
    "Unlike sentiment analysis, we have to transform the text data into a strutured format before calculating the cosine similarity between document. "
   ]
  },
  {
   "cell_type": "code",
   "execution_count": 217,
   "metadata": {
    "collapsed": false,
    "deletable": true,
    "editable": true,
    "nbpresent": {
     "id": "916aecbb-1729-4141-aff4-86e35617db61"
    },
    "slideshow": {
     "slide_type": "subslide"
    }
   },
   "outputs": [],
   "source": [
    "# Performing the preprocessing steps and the structuring steps:\n",
    "yelp_corpus_tokenize = data.text.apply(nltk.word_tokenize) # tokenize the reviews. Assume there are no emoticons.\n",
    "yelp_corpus_stopwords = [[w for w in doc if w.lower() not in list(string.punctuation)+stop_words]\n",
    "                        for doc in yelp_corpus_tokenize]# remove stop words and punctuations\n",
    "yelp_corpus_regex = [[w for w in doc if re.search('^[a-zA-Z0-9]+$', w)] for doc in yelp_corpus_stopwords]\n",
    "yelp_corpus_lemma = [[lemma(w) for w in doc] for doc in yelp_corpus_regex] # lowercase and lemmatize"
   ]
  },
  {
   "cell_type": "code",
   "execution_count": 218,
   "metadata": {
    "collapsed": false,
    "slideshow": {
     "slide_type": "subslide"
    }
   },
   "outputs": [
    {
     "data": {
      "image/png": "[encoded data removed]",
      "text/plain": [
       "<matplotlib.figure.Figure at 0x19c11048>"
      ]
     },
     "metadata": {},
     "output_type": "display_data"
    }
   ],
   "source": [
    "# After preprocessing, inspect the tokens using a wordcloud\n",
    "wc = WordCloud(background_color='black', stopwords=None, width = 1200, height = 1200)\n",
    "\n",
    "wc.generate(\" \".join([w for doc in yelp_corpus_lemma for w in doc]))\n",
    "fig = plt.figure()\n",
    "fig.set_figwidth(12); fig.set_figheight(12); plt.axis('off')\n",
    "plt.imshow(wc); plt.show()"
   ]
  },
  {
   "cell_type": "code",
   "execution_count": 219,
   "metadata": {
    "collapsed": false,
    "slideshow": {
     "slide_type": "subslide"
    }
   },
   "outputs": [],
   "source": [
    "# Creating a dictionary\n",
    "yelp_dictionary = corpora.Dictionary(yelp_corpus_lemma)\n",
    "token_2_id = yelp_dictionary.token2id\n",
    "\n",
    "# Expressing in a sparse matrix\n",
    "sparse_mat = [yelp_dictionary.doc2bow(doc) for doc in yelp_corpus_lemma]\n",
    "\n",
    "# Tf-idf weighting\n",
    "tfidf = models.TfidfModel(sparse_mat) # learn the tfidf weighting\n",
    "tfidf_sparse = [tfidf[doc] for doc in sparse_mat] # apply the tfidf weighting\n",
    "\n",
    "# Create a similarity matrix for all the reviews except the last review.\n",
    "tfidf_index = similarities.SparseMatrixSimilarity(tfidf_sparse[:-1], len(yelp_dictionary.keys()))"
   ]
  },
  {
   "cell_type": "markdown",
   "metadata": {
    "slideshow": {
     "slide_type": "subslide"
    }
   },
   "source": [
    "In the above code, we let all the reviews, excluding the last review, be those already present in the company's database, and let the last review be the new review the company received. The *tfidf_index* is created, such that when a new review is received, that new review can be transformed into a sparse vector and passed into tfidf_index to find similar reviews in the database.\n",
    "\n",
    "In the above text structing process, we applied the tf-idf transformation. This to reduce the influence of common words on the similarity."
   ]
  },
  {
   "cell_type": "code",
   "execution_count": 268,
   "metadata": {
    "collapsed": false
   },
   "outputs": [
    {
     "data": {
      "text/html": [
       "<div>\n",
       "<table border=\"1\" class=\"dataframe\">\n",
       "  <thead>\n",
       "    <tr style=\"text-align: right;\">\n",
       "      <th></th>\n",
       "      <th>Document index</th>\n",
       "      <th>Cosine Similarity</th>\n",
       "    </tr>\n",
       "  </thead>\n",
       "  <tbody>\n",
       "    <tr>\n",
       "      <th>0</th>\n",
       "      <td>149</td>\n",
       "      <td>0.144934</td>\n",
       "    </tr>\n",
       "    <tr>\n",
       "      <th>1</th>\n",
       "      <td>555</td>\n",
       "      <td>0.113416</td>\n",
       "    </tr>\n",
       "    <tr>\n",
       "      <th>2</th>\n",
       "      <td>397</td>\n",
       "      <td>0.105878</td>\n",
       "    </tr>\n",
       "    <tr>\n",
       "      <th>3</th>\n",
       "      <td>170</td>\n",
       "      <td>0.096139</td>\n",
       "    </tr>\n",
       "    <tr>\n",
       "      <th>4</th>\n",
       "      <td>472</td>\n",
       "      <td>0.093123</td>\n",
       "    </tr>\n",
       "    <tr>\n",
       "      <th>5</th>\n",
       "      <td>98</td>\n",
       "      <td>0.093010</td>\n",
       "    </tr>\n",
       "    <tr>\n",
       "      <th>6</th>\n",
       "      <td>479</td>\n",
       "      <td>0.091975</td>\n",
       "    </tr>\n",
       "    <tr>\n",
       "      <th>7</th>\n",
       "      <td>657</td>\n",
       "      <td>0.091330</td>\n",
       "    </tr>\n",
       "    <tr>\n",
       "      <th>8</th>\n",
       "      <td>16</td>\n",
       "      <td>0.090466</td>\n",
       "    </tr>\n",
       "    <tr>\n",
       "      <th>9</th>\n",
       "      <td>282</td>\n",
       "      <td>0.090093</td>\n",
       "    </tr>\n",
       "  </tbody>\n",
       "</table>\n",
       "</div>"
      ],
      "text/plain": [
       "   Document index  Cosine Similarity\n",
       "0  149             0.144934         \n",
       "1  555             0.113416         \n",
       "2  397             0.105878         \n",
       "3  170             0.096139         \n",
       "4  472             0.093123         \n",
       "5  98              0.093010         \n",
       "6  479             0.091975         \n",
       "7  657             0.091330         \n",
       "8  16              0.090466         \n",
       "9  282             0.090093         "
      ]
     },
     "execution_count": 268,
     "metadata": {},
     "output_type": "execute_result"
    }
   ],
   "source": [
    "sim_to_last_review = tfidf_index[tfidf_sparse[-1]] # find reviews similar to the last review\n",
    "# sort the similarity score from largest to smallest\n",
    "sim_to_last_review = sorted(enumerate(sim_to_last_review), key=lambda item: -item[-1])\n",
    "\n",
    "# The result looks like this (showing the 10 highest similarity):\n",
    "pd.DataFrame.from_records(sim_to_last_review[:10], columns=['Document index', 'Cosine Similarity'])"
   ]
  },
  {
   "cell_type": "code",
   "execution_count": 221,
   "metadata": {
    "collapsed": false,
    "slideshow": {
     "slide_type": "subslide"
    }
   },
   "outputs": [
    {
     "data": {
      "image/png": "[encoded data removed]",
      "text/plain": [
       "<matplotlib.figure.Figure at 0x1aa79630>"
      ]
     },
     "metadata": {},
     "output_type": "display_data"
    }
   ],
   "source": [
    "plt.hist(x=map(lambda sim: sim[1], sim_to_last_review), bins=20)\n",
    "plt.xlabel('Similarity Score')\n",
    "plt.ylabel('Frequency')\n",
    "plt.title('Cosine Similarity Distribution of new reviews with DB')\n",
    "plt.show()"
   ]
  },
  {
   "cell_type": "markdown",
   "metadata": {
    "slideshow": {
     "slide_type": "subslide"
    }
   },
   "source": [
    "Examining the \"new\" review with the most similar review  in the DB."
   ]
  },
  {
   "cell_type": "code",
   "execution_count": 270,
   "metadata": {
    "collapsed": false
   },
   "outputs": [
    {
     "name": "stdout",
     "output_type": "stream",
     "text": [
      "The \"new\" review:\n",
      "This place is gross. I was there so long was forced to use restroom, yuck. Security grills you up front. I did give 2 stars because at least after 2 hours the lady that helped me was pleasant enough. Glad I don't need to come often lol \n",
      "\n",
      "The most similar review:\n",
      "Never ride this horrible thing there r psycho homeless people everywhere and the bus drivers are seriously extremely retarded I dont know how they still have a job and they steal your money if you make 1 little mistake I payed $5 to get 2 24 hour passes they are $2 each with a student id and the dumbass gives me 2 2 hour passes that isn't even worth $5 so I asked if I could have my dollar back and the retard couldn't understand me so I just got off this bus deserves 0 out of 5 it is just a waste of money to sit next to gross homeless freaks\n"
     ]
    }
   ],
   "source": [
    "index_most_similar = sim_to_last_review[0][0]\n",
    "print 'The \"new\" review:\\n', data.text.iloc[-1], \"\\n\"\n",
    "print \"The most similar review:\\n\", data.text.iloc[index_most_similar]"
   ]
  },
  {
   "cell_type": "markdown",
   "metadata": {
    "deletable": true,
    "editable": true,
    "slideshow": {
     "slide_type": "subslide"
    }
   },
   "source": [
    "### Topic modelling\n",
    "\n",
    "Topic modelling is the text analytics equivalent of clustering. Each cluster, is a cluster of words, and can be thought of as a topic. A difference is, a document may belong to different clusters instead of just 1. That is to say, a document can be categorized into more than 1 topic.\n",
    "\n",
    "Topic Modelling Algorithms:\n",
    "\n",
    "1. **Latent Dirichlet allocation (LDA)**\n",
    "* Latent Semantic Analysis (LSA)"
   ]
  },
  {
   "cell_type": "markdown",
   "metadata": {
    "editable": true,
    "nbpresent": {
     "id": "91ecf0cf-6173-44b6-ad40-51ceee105207"
    },
    "slideshow": {
     "slide_type": "subslide"
    }
   },
   "source": [
    "**Latent Dirichlet allocation (LDA)**\n",
    "\n",
    "Wikipedia Definition: a generative statistical model that allows sets of observations to be explained by unobserved groups that explain why some parts of the data are similar.\n",
    "\n",
    "We initialize the topic model by assuming there are X number of topics in the corpus, where each topic is characterized by the words it contains. The processing steps are the same as in the document simlarity demonstration. With the same reasoning as "
   ]
  },
  {
   "cell_type": "code",
   "execution_count": 223,
   "metadata": {
    "collapsed": false,
    "editable": true,
    "nbpresent": {
     "id": "a2bf7a16-842a-4677-b63b-ea95f0357912"
    },
    "slideshow": {
     "slide_type": "subslide"
    }
   },
   "outputs": [
    {
     "data": {
      "text/html": [
       "<div>\n",
       "<table border=\"1\" class=\"dataframe\">\n",
       "  <thead>\n",
       "    <tr style=\"text-align: right;\">\n",
       "      <th></th>\n",
       "      <th>topic index</th>\n",
       "      <th>words</th>\n",
       "    </tr>\n",
       "  </thead>\n",
       "  <tbody>\n",
       "    <tr>\n",
       "      <th>0</th>\n",
       "      <td>0</td>\n",
       "      <td>0.002*\"wait\" + 0.002*\"staff\" + 0.002*\"like\" + 0.001*\"office\" + 0.001*\"friendly\" + 0.001*\"nice\" + 0.001*\"helpful\" + 0.001*\"work\" + 0.001*\"eh\" + 0.001*\"good\"</td>\n",
       "    </tr>\n",
       "    <tr>\n",
       "      <th>1</th>\n",
       "      <td>1</td>\n",
       "      <td>0.002*\"service\" + 0.002*\"bus\" + 0.002*\"company\" + 0.002*\"bill\" + 0.002*\"ap\" + 0.002*\"terminal\" + 0.002*\"customer\" + 0.002*\"pay\" + 0.002*\"take\" + 0.002*\"need\"</td>\n",
       "    </tr>\n",
       "    <tr>\n",
       "      <th>2</th>\n",
       "      <td>2</td>\n",
       "      <td>0.003*\"tsa\" + 0.002*\"airport\" + 0.002*\"pre\" + 0.002*\"line\" + 0.002*\"check\" + 0.002*\"time\" + 0.002*\"fly\" + 0.002*\"much\" + 0.002*\"never\" + 0.002*\"go\"</td>\n",
       "    </tr>\n",
       "    <tr>\n",
       "      <th>3</th>\n",
       "      <td>3</td>\n",
       "      <td>0.002*\"go\" + 0.002*\"take\" + 0.002*\"people\" + 0.002*\"get\" + 0.002*\"ride\" + 0.002*\"love\" + 0.002*\"need\" + 0.001*\"license\" + 0.001*\"state\" + 0.001*\"appreciate\"</td>\n",
       "    </tr>\n",
       "    <tr>\n",
       "      <th>4</th>\n",
       "      <td>4</td>\n",
       "      <td>0.002*\"tsa\" + 0.002*\"go\" + 0.002*\"wait\" + 0.002*\"location\" + 0.002*\"office\" + 0.001*\"line\" + 0.001*\"security\" + 0.001*\"get\" + 0.001*\"card\" + 0.001*\"u\"</td>\n",
       "    </tr>\n",
       "    <tr>\n",
       "      <th>5</th>\n",
       "      <td>5</td>\n",
       "      <td>0.002*\"water\" + 0.002*\"time\" + 0.002*\"call\" + 0.002*\"card\" + 0.001*\"de\" + 0.001*\"door\" + 0.001*\"get\" + 0.001*\"say\" + 0.001*\"people\" + 0.001*\"go\"</td>\n",
       "    </tr>\n",
       "    <tr>\n",
       "      <th>6</th>\n",
       "      <td>6</td>\n",
       "      <td>0.003*\"park\" + 0.002*\"come\" + 0.002*\"day\" + 0.002*\"get\" + 0.002*\"water\" + 0.002*\"bus\" + 0.002*\"take\" + 0.002*\"number\" + 0.002*\"time\" + 0.001*\"go\"</td>\n",
       "    </tr>\n",
       "    <tr>\n",
       "      <th>7</th>\n",
       "      <td>7</td>\n",
       "      <td>0.002*\"hour\" + 0.002*\"line\" + 0.002*\"take\" + 0.002*\"helpful\" + 0.002*\"people\" + 0.002*\"wait\" + 0.002*\"like\" + 0.002*\"get\" + 0.002*\"office\" + 0.002*\"friendly\"</td>\n",
       "    </tr>\n",
       "    <tr>\n",
       "      <th>8</th>\n",
       "      <td>8</td>\n",
       "      <td>0.002*\"tsa\" + 0.002*\"airport\" + 0.002*\"park\" + 0.002*\"wait\" + 0.002*\"line\" + 0.002*\"go\" + 0.002*\"get\" + 0.002*\"even\" + 0.001*\"agent\" + 0.001*\"around\"</td>\n",
       "    </tr>\n",
       "    <tr>\n",
       "      <th>9</th>\n",
       "      <td>9</td>\n",
       "      <td>0.002*\"bus\" + 0.001*\"security\" + 0.001*\"rtc\" + 0.001*\"get\" + 0.001*\"ap\" + 0.001*\"one\" + 0.001*\"time\" + 0.001*\"say\" + 0.001*\"people\" + 0.001*\"go\"</td>\n",
       "    </tr>\n",
       "  </tbody>\n",
       "</table>\n",
       "</div>"
      ],
      "text/plain": [
       "   topic index  \\\n",
       "0  0             \n",
       "1  1             \n",
       "2  2             \n",
       "3  3             \n",
       "4  4             \n",
       "5  5             \n",
       "6  6             \n",
       "7  7             \n",
       "8  8             \n",
       "9  9             \n",
       "\n",
       "                                                                                                                                                           words  \n",
       "0  0.002*\"wait\" + 0.002*\"staff\" + 0.002*\"like\" + 0.001*\"office\" + 0.001*\"friendly\" + 0.001*\"nice\" + 0.001*\"helpful\" + 0.001*\"work\" + 0.001*\"eh\" + 0.001*\"good\"    \n",
       "1  0.002*\"service\" + 0.002*\"bus\" + 0.002*\"company\" + 0.002*\"bill\" + 0.002*\"ap\" + 0.002*\"terminal\" + 0.002*\"customer\" + 0.002*\"pay\" + 0.002*\"take\" + 0.002*\"need\"  \n",
       "2  0.003*\"tsa\" + 0.002*\"airport\" + 0.002*\"pre\" + 0.002*\"line\" + 0.002*\"check\" + 0.002*\"time\" + 0.002*\"fly\" + 0.002*\"much\" + 0.002*\"never\" + 0.002*\"go\"            \n",
       "3  0.002*\"go\" + 0.002*\"take\" + 0.002*\"people\" + 0.002*\"get\" + 0.002*\"ride\" + 0.002*\"love\" + 0.002*\"need\" + 0.001*\"license\" + 0.001*\"state\" + 0.001*\"appreciate\"   \n",
       "4  0.002*\"tsa\" + 0.002*\"go\" + 0.002*\"wait\" + 0.002*\"location\" + 0.002*\"office\" + 0.001*\"line\" + 0.001*\"security\" + 0.001*\"get\" + 0.001*\"card\" + 0.001*\"u\"         \n",
       "5  0.002*\"water\" + 0.002*\"time\" + 0.002*\"call\" + 0.002*\"card\" + 0.001*\"de\" + 0.001*\"door\" + 0.001*\"get\" + 0.001*\"say\" + 0.001*\"people\" + 0.001*\"go\"               \n",
       "6  0.003*\"park\" + 0.002*\"come\" + 0.002*\"day\" + 0.002*\"get\" + 0.002*\"water\" + 0.002*\"bus\" + 0.002*\"take\" + 0.002*\"number\" + 0.002*\"time\" + 0.001*\"go\"              \n",
       "7  0.002*\"hour\" + 0.002*\"line\" + 0.002*\"take\" + 0.002*\"helpful\" + 0.002*\"people\" + 0.002*\"wait\" + 0.002*\"like\" + 0.002*\"get\" + 0.002*\"office\" + 0.002*\"friendly\"  \n",
       "8  0.002*\"tsa\" + 0.002*\"airport\" + 0.002*\"park\" + 0.002*\"wait\" + 0.002*\"line\" + 0.002*\"go\" + 0.002*\"get\" + 0.002*\"even\" + 0.001*\"agent\" + 0.001*\"around\"          \n",
       "9  0.002*\"bus\" + 0.001*\"security\" + 0.001*\"rtc\" + 0.001*\"get\" + 0.001*\"ap\" + 0.001*\"one\" + 0.001*\"time\" + 0.001*\"say\" + 0.001*\"people\" + 0.001*\"go\"               "
      ]
     },
     "execution_count": 223,
     "metadata": {},
     "output_type": "execute_result"
    }
   ],
   "source": [
    "# Let the number of topics be 20\n",
    "num_topics = 10\n",
    "PSG_lda = gensim.models.ldamodel.LdaModel(corpus = tfidf_sparse, id2word = yelp_dictionary, num_topics=num_topics)\n",
    "# Inspect all 10 topics, and show 10 words per topic\n",
    "pd.DataFrame.from_records(PSG_lda.show_topics(num_topics, 10), columns=['topic index', 'words'])"
   ]
  },
  {
   "cell_type": "markdown",
   "metadata": {},
   "source": [
    "Using a visualization, it is perhaps easier to see what the topic is about."
   ]
  },
  {
   "cell_type": "code",
   "execution_count": 224,
   "metadata": {
    "collapsed": false,
    "editable": true,
    "nbpresent": {
     "id": "e5aaed26-69fe-4ef1-9f17-27b00954ed07"
    },
    "slideshow": {
     "slide_type": "subslide"
    }
   },
   "outputs": [
    {
     "data": {
      "text/html": [
       "\n",
       "<link rel=\"stylesheet\" type=\"text/css\" href=\"https://cdn.rawgit.com/bmabey/pyLDAvis/files/ldavis.v1.0.0.css\">\n",
       "\n",
       "\n",
       "<div id=\"ldavis_el87444577313128742596043\"></div>\n",
       "<script type=\"text/javascript\">\n",
       "\n",
       "var ldavis_el87444577313128742596043_data = {\"plot.opts\": {\"xlab\": \"PC1\", \"ylab\": \"PC2\"}, \"topic.order\": [7, 2, 3, 4, 8, 9, 6, 5, 10, 1], \"token.table\": {\"Topic\": [2, 1, 1, 2, 4, 3, 6, 3, 6, 1, 5, 5, 2, 4, 6, 1, 1, 2, 5, 4, 1, 2, 1, 1, 2, 3, 4, 3, 1, 2, 5, 7, 2, 5, 2, 1, 2, 3, 4, 7, 3, 1, 1, 2, 3, 1, 2, 1, 4, 1, 3, 4, 1, 2, 1, 2, 1, 4, 5, 7, 1, 1, 5, 1, 1, 1, 6, 4, 1, 2, 2, 1, 3, 4, 2, 5, 1, 6, 1, 2, 3, 4, 5, 6, 2, 1, 1, 2, 3, 4, 5, 6, 8, 1, 2, 3, 4, 1, 1, 5, 5, 3, 1, 3, 5, 1, 1, 1, 4, 4, 3, 1, 3, 5, 1, 3, 4, 5, 6, 1, 5, 1, 3, 4, 1, 2, 3, 1, 4, 6, 1, 3, 5, 2, 3, 1, 2, 3, 4, 5, 6, 1, 2, 3, 4, 1, 5, 1, 1, 3, 5, 1, 2, 4, 1, 3, 5, 1, 1, 2, 3, 6, 1, 2, 1, 2, 3, 4, 5, 1, 2, 3, 4, 5, 6, 2, 3, 2, 5, 1, 5, 3, 2, 1, 1, 4, 1, 2, 3, 3, 2, 3, 1, 2, 3, 5, 1, 1, 2, 4, 5, 2, 1, 1, 4, 3, 5, 1, 2, 3, 4, 5, 1, 2, 3, 5, 1, 2, 3, 4, 7, 1, 1, 2, 3, 4, 3, 3, 4, 5, 6, 8, 1, 1, 2, 4, 2, 5, 1, 2, 3, 4, 5, 6, 1, 2, 1, 1, 2, 5, 7, 3, 4, 1, 3, 2, 2, 1, 5], \"Freq\": [0.3200384092330379, 0.44448294136804994, 0.3700863165496753, 0.6785557056806385, 0.4308851978299119, 0.3823439268976513, 0.3823439268976513, 0.2716941295317643, 0.2716941295317643, 0.3414916638200536, 0.3414916638200536, 0.37427592607168214, 0.3469270411793469, 0.6631988430046893, 0.3249284441195107, 0.5379087665967167, 0.2851409211655688, 0.2851409211655688, 0.4227634388074878, 0.4322495347541668, 0.26588897881582096, 0.26588897881582096, 0.3796821917564729, 0.2063190475928311, 0.2063190475928311, 0.2063190475928311, 0.2063190475928311, 0.37143245426462645, 0.24016423292006236, 0.24016423292006236, 0.24016423292006236, 0.24016423292006236, 0.29619776540734977, 0.29619776540734977, 0.3852141030833386, 0.24400155656217393, 0.24400155656217393, 0.24400155656217393, 0.24400155656217393, 0.24400155656217393, 0.537000728005828, 0.6483135770693839, 0.2507368280258581, 0.2507368280258581, 0.2507368280258581, 0.3000631626866613, 0.3000631626866613, 0.4333334128126131, 0.31703367906963226, 0.21163092125033828, 0.21163092125033828, 0.21163092125033828, 0.2890159187889065, 0.2890159187889065, 0.28393081879807275, 0.28393081879807275, 0.2267580361583879, 0.2267580361583879, 0.2267580361583879, 0.8337667146702508, 0.4058050482844313, 0.4488007305185953, 0.5265992502351583, 0.38537832012331574, 0.5581336568680403, 0.6941709486683486, 0.2818131415531926, 0.6599286084757214, 0.4689459728259318, 0.5263782709651059, 0.2907024001556547, 0.5374753973417151, 0.535628504167829, 0.5621489049704934, 0.27812052131826187, 0.27812052131826187, 0.5005750483358581, 0.6039962763260597, 0.16808155593542137, 0.16808155593542137, 0.16808155593542137, 0.16808155593542137, 0.16808155593542137, 0.16808155593542137, 0.3138602887500462, 0.7747508485665645, 0.16930314666517235, 0.16930314666517235, 0.16930314666517235, 0.16930314666517235, 0.16930314666517235, 0.16930314666517235, 0.16930314666517235, 0.3049177805163466, 0.27321383872920674, 0.27321383872920674, 0.27321383872920674, 0.3657780708070924, 0.2926635297183139, 0.2926635297183139, 0.3303883656737617, 0.3912154160656962, 0.24771786076963406, 0.24771786076963406, 0.24771786076963406, 0.8408270529209818, 0.5956619707172662, 0.2717035820574223, 0.2717035820574223, 0.44145685682003105, 0.36658313822089617, 0.22771922849311801, 0.22771922849311801, 0.22771922849311801, 0.18164458238907238, 0.18164458238907238, 0.18164458238907238, 0.18164458238907238, 0.18164458238907238, 0.28210798713435703, 0.28210798713435703, 0.3165948786805999, 0.3487629040175553, 0.3487629040175553, 0.2514207632645502, 0.2514207632645502, 0.6118539597582255, 0.33942870600669944, 0.33942870600669944, 0.33942870600669944, 0.2265378240020955, 0.2265378240020955, 0.2265378240020955, 0.38253305667103854, 0.31787833964877266, 0.21158506179884687, 0.21158506179884687, 0.21158506179884687, 0.21158506179884687, 0.21158506179884687, 0.21158506179884687, 0.24774423398302411, 0.24774423398302411, 0.24774423398302411, 0.4909748298700878, 0.2873965017854552, 0.2873965017854552, 0.2810701114954356, 0.22125936561821344, 0.22125936561821344, 0.22125936561821344, 0.22970115222363577, 0.22970115222363577, 0.22970115222363577, 0.4092502215748474, 0.3021319863443363, 0.3021319863443363, 0.41735878379110575, 0.3794538481991859, 0.18972692409959294, 0.18972692409959294, 0.18972692409959294, 0.2947138886514036, 0.2947138886514036, 0.18909140628504514, 0.18909140628504514, 0.18909140628504514, 0.18909140628504514, 0.18909140628504514, 0.23963011821742336, 0.23963011821742336, 0.23963011821742336, 0.23963011821742336, 0.23963011821742336, 0.23963011821742336, 0.521918002424637, 0.6256464425295499, 0.4133338705119588, 0.7563034333658325, 0.3434411613221288, 0.3434411613221288, 0.3657146807748659, 0.9308404645935092, 0.8854127991693227, 0.326995790094699, 0.326995790094699, 0.3470601465074737, 0.33969161608042325, 0.33969161608042325, 0.5727217408197124, 0.23723232771996655, 0.23723232771996655, 0.21047023808735382, 0.21047023808735382, 0.21047023808735382, 0.21047023808735382, 0.27510952154002555, 0.20136043272797333, 0.20136043272797333, 0.20136043272797333, 0.20136043272797333, 0.49000345371103016, 0.3451455376576042, 0.3644899378042324, 0.4829911505795832, 0.5247416940677586, 0.3591662804035114, 0.18699629070024248, 0.18699629070024248, 0.18699629070024248, 0.18699629070024248, 0.18699629070024248, 0.2764897603933394, 0.35485183712937274, 0.35485183712937274, 0.3073138739689392, 0.19060085733523327, 0.19060085733523327, 0.19060085733523327, 0.19060085733523327, 0.19060085733523327, 0.5739704613380312, 0.26565186914283734, 0.26565186914283734, 0.26565186914283734, 0.26565186914283734, 0.4361201418993254, 0.35423805647634715, 0.17711902823817358, 0.17711902823817358, 0.17711902823817358, 0.17711902823817358, 0.5798661458708014, 0.26947771004595844, 0.26947771004595844, 0.26947771004595844, 0.37696624607833806, 0.37696624607833806, 0.18782131235931107, 0.18782131235931107, 0.18782131235931107, 0.18782131235931107, 0.18782131235931107, 0.18782131235931107, 0.3215824316343801, 0.3215824316343801, 0.37231510438658316, 0.23989701457532242, 0.23989701457532242, 0.23989701457532242, 0.23989701457532242, 0.312238358018429, 0.312238358018429, 0.3370186092143052, 0.5657994882869692, 0.27164607318338585, 0.3898072406826163, 0.2402685651845495, 0.2402685651845495], \"Term\": [\"2\", \"4\", \"5\", \"account\", \"actually\", \"agent\", \"agent\", \"airport\", \"airport\", \"also\", \"also\", \"alway\", \"ap\", \"appreciate\", \"around\", \"awesome\", \"back\", \"back\", \"bag\", \"base\", \"bill\", \"bill\", \"build\", \"bus\", \"bus\", \"bus\", \"bus\", \"ca\", \"call\", \"call\", \"call\", \"call\", \"can\", \"can\", \"car\", \"card\", \"card\", \"card\", \"card\", \"card\", \"center\", \"certificate\", \"check\", \"check\", \"check\", \"city\", \"city\", \"clean\", \"close\", \"come\", \"come\", \"come\", \"company\", \"company\", \"customer\", \"customer\", \"day\", \"day\", \"day\", \"de\", \"deal\", \"different\", \"dmv\", \"drive\", \"due\", \"east\", \"even\", \"event\", \"everythe\", \"expect\", \"experience\", \"fee\", \"fly\", \"friend\", \"friendly\", \"friendly\", \"front\", \"fun\", \"get\", \"get\", \"get\", \"get\", \"get\", \"get\", \"give\", \"glad\", \"go\", \"go\", \"go\", \"go\", \"go\", \"go\", \"go\", \"good\", \"great\", \"great\", \"great\", \"guy\", \"help\", \"help\", \"helpful\", \"home\", \"hour\", \"hour\", \"hour\", \"ir\", \"joke\", \"know\", \"know\", \"license\", \"light\", \"like\", \"like\", \"like\", \"line\", \"line\", \"line\", \"line\", \"line\", \"long\", \"long\", \"lot\", \"love\", \"love\", \"make\", \"make\", \"meter\", \"mill\", \"mill\", \"mill\", \"minute\", \"minute\", \"minute\", \"money\", \"much\", \"need\", \"need\", \"need\", \"need\", \"need\", \"need\", \"never\", \"never\", \"never\", \"next\", \"nice\", \"nice\", \"number\", \"office\", \"office\", \"office\", \"one\", \"one\", \"one\", \"online\", \"open\", \"open\", \"paperwork\", \"park\", \"park\", \"park\", \"park\", \"pay\", \"pay\", \"people\", \"people\", \"people\", \"people\", \"people\", \"place\", \"place\", \"place\", \"place\", \"place\", \"place\", \"power\", \"pre\", \"precheck\", \"prior\", \"process\", \"process\", \"rail\", \"raise\", \"rep\", \"ride\", \"ride\", \"right\", \"rude\", \"rude\", \"s\", \"say\", \"say\", \"security\", \"security\", \"security\", \"security\", \"see\", \"service\", \"service\", \"service\", \"service\", \"sky\", \"staff\", \"star\", \"state\", \"station\", \"stop\", \"take\", \"take\", \"take\", \"take\", \"take\", \"tell\", \"terminal\", \"terminal\", \"think\", \"time\", \"time\", \"time\", \"time\", \"time\", \"traffic\", \"train\", \"train\", \"train\", \"train\", \"treat\", \"tsa\", \"tsa\", \"tsa\", \"tsa\", \"tsa\", \"turn\", \"u\", \"u\", \"u\", \"visit\", \"visit\", \"wait\", \"wait\", \"wait\", \"wait\", \"wait\", \"wait\", \"walk\", \"walk\", \"want\", \"water\", \"water\", \"water\", \"water\", \"way\", \"way\", \"well\", \"within\", \"work\", \"worst\", \"would\", \"would\"]}, \"mdsDat\": {\"y\": [-0.02113136112889425, -0.010553338936902015, 0.023334932430300537, 0.00476065223721769, -0.013599037958780166, 0.024444935335995767, -0.010114017485787958, -0.0038152354939185885, 0.0023936100813847097, 0.004278860919384292], \"cluster\": [1, 1, 1, 1, 1, 1, 1, 1, 1, 1], \"Freq\": [15.260652842890753, 12.16304744470153, 11.97152475351568, 11.19208866113343, 11.060278810649416, 9.242364253407725, 8.714455462047773, 7.946618185569636, 6.469862069480826, 5.979107516603229], \"topics\": [1, 2, 3, 4, 5, 6, 7, 8, 9, 10], \"x\": [-0.02566288670138514, -0.009969515809610368, -0.024737252239849204, -0.00580132347191528, 0.012749201241005377, 0.005622009720011128, 0.00874426557962203, 0.00795870960842466, 0.011113028975194788, 0.019983763098502152]}, \"R\": 30, \"lambda.step\": 0.01, \"tinfo\": {\"Category\": [\"Default\", \"Default\", \"Default\", \"Default\", \"Default\", \"Default\", \"Default\", \"Default\", \"Default\", \"Default\", \"Default\", \"Default\", \"Default\", \"Default\", \"Default\", \"Default\", \"Default\", \"Default\", \"Default\", \"Default\", \"Default\", \"Default\", \"Default\", \"Default\", \"Default\", \"Default\", \"Default\", \"Default\", \"Default\", \"Default\", \"Topic1\", \"Topic1\", \"Topic1\", \"Topic1\", \"Topic1\", \"Topic1\", \"Topic1\", \"Topic1\", \"Topic1\", \"Topic1\", \"Topic1\", \"Topic1\", \"Topic1\", \"Topic1\", \"Topic1\", \"Topic1\", \"Topic1\", \"Topic1\", \"Topic1\", \"Topic1\", \"Topic1\", \"Topic1\", \"Topic1\", \"Topic1\", \"Topic1\", \"Topic1\", \"Topic1\", \"Topic1\", \"Topic1\", \"Topic1\", \"Topic1\", \"Topic1\", \"Topic1\", \"Topic1\", \"Topic1\", \"Topic1\", \"Topic1\", \"Topic1\", \"Topic1\", \"Topic1\", \"Topic1\", \"Topic1\", \"Topic1\", \"Topic1\", \"Topic1\", \"Topic1\", \"Topic1\", \"Topic1\", \"Topic1\", \"Topic1\", \"Topic1\", \"Topic1\", \"Topic1\", \"Topic1\", \"Topic1\", \"Topic1\", \"Topic1\", \"Topic1\", \"Topic1\", \"Topic1\", \"Topic1\", \"Topic1\", \"Topic1\", \"Topic1\", \"Topic1\", \"Topic1\", \"Topic1\", \"Topic1\", \"Topic1\", \"Topic1\", \"Topic1\", \"Topic2\", \"Topic2\", \"Topic2\", \"Topic2\", \"Topic2\", \"Topic2\", \"Topic2\", \"Topic2\", \"Topic2\", \"Topic2\", \"Topic2\", \"Topic2\", \"Topic2\", \"Topic2\", \"Topic2\", \"Topic2\", \"Topic2\", \"Topic2\", \"Topic2\", \"Topic2\", \"Topic2\", \"Topic2\", \"Topic2\", \"Topic2\", \"Topic2\", \"Topic2\", \"Topic2\", \"Topic2\", \"Topic2\", \"Topic2\", \"Topic2\", \"Topic2\", \"Topic2\", \"Topic2\", \"Topic2\", \"Topic2\", \"Topic2\", \"Topic2\", \"Topic2\", \"Topic2\", \"Topic2\", \"Topic2\", \"Topic2\", \"Topic2\", \"Topic2\", \"Topic2\", \"Topic2\", \"Topic2\", \"Topic2\", \"Topic2\", \"Topic2\", \"Topic2\", \"Topic2\", \"Topic2\", \"Topic2\", \"Topic2\", \"Topic2\", \"Topic2\", \"Topic2\", \"Topic2\", \"Topic2\", \"Topic2\", \"Topic2\", \"Topic2\", \"Topic2\", \"Topic2\", \"Topic2\", \"Topic2\", \"Topic2\", \"Topic2\", \"Topic2\", \"Topic2\", \"Topic2\", \"Topic2\", \"Topic2\", \"Topic2\", \"Topic3\", \"Topic3\", \"Topic3\", \"Topic3\", \"Topic3\", \"Topic3\", \"Topic3\", \"Topic3\", \"Topic3\", \"Topic3\", \"Topic3\", \"Topic3\", \"Topic3\", \"Topic3\", \"Topic3\", \"Topic3\", \"Topic3\", \"Topic3\", \"Topic3\", \"Topic3\", \"Topic3\", \"Topic3\", \"Topic3\", \"Topic3\", \"Topic3\", \"Topic3\", \"Topic3\", \"Topic3\", \"Topic3\", \"Topic3\", \"Topic3\", \"Topic3\", \"Topic3\", \"Topic3\", \"Topic3\", \"Topic3\", \"Topic3\", \"Topic3\", \"Topic3\", \"Topic3\", \"Topic3\", \"Topic3\", \"Topic3\", \"Topic3\", \"Topic3\", \"Topic3\", \"Topic3\", \"Topic3\", \"Topic3\", \"Topic3\", \"Topic3\", \"Topic3\", \"Topic3\", \"Topic3\", \"Topic3\", \"Topic3\", \"Topic3\", \"Topic3\", \"Topic3\", \"Topic3\", \"Topic3\", \"Topic3\", \"Topic3\", \"Topic3\", \"Topic3\", \"Topic3\", \"Topic3\", \"Topic3\", \"Topic3\", \"Topic3\", \"Topic3\", \"Topic3\", \"Topic3\", \"Topic4\", \"Topic4\", \"Topic4\", \"Topic4\", \"Topic4\", \"Topic4\", \"Topic4\", \"Topic4\", \"Topic4\", \"Topic4\", \"Topic4\", \"Topic4\", \"Topic4\", \"Topic4\", \"Topic4\", \"Topic4\", \"Topic4\", \"Topic4\", \"Topic4\", \"Topic4\", \"Topic4\", \"Topic4\", \"Topic4\", \"Topic4\", \"Topic4\", \"Topic4\", \"Topic4\", \"Topic4\", \"Topic4\", \"Topic4\", \"Topic4\", \"Topic4\", \"Topic4\", \"Topic4\", \"Topic4\", \"Topic4\", \"Topic4\", \"Topic4\", \"Topic4\", \"Topic4\", \"Topic4\", \"Topic4\", \"Topic4\", \"Topic4\", \"Topic4\", \"Topic4\", \"Topic4\", \"Topic4\", \"Topic4\", \"Topic4\", \"Topic4\", \"Topic4\", \"Topic4\", \"Topic4\", \"Topic4\", \"Topic4\", \"Topic4\", \"Topic4\", \"Topic4\", \"Topic4\", \"Topic4\", \"Topic4\", \"Topic4\", \"Topic4\", \"Topic4\", \"Topic5\", \"Topic5\", \"Topic5\", \"Topic5\", \"Topic5\", \"Topic5\", \"Topic5\", \"Topic5\", \"Topic5\", \"Topic5\", \"Topic5\", \"Topic5\", \"Topic5\", \"Topic5\", \"Topic5\", \"Topic5\", \"Topic5\", \"Topic5\", \"Topic5\", \"Topic5\", \"Topic5\", \"Topic5\", \"Topic5\", \"Topic5\", \"Topic5\", \"Topic5\", \"Topic5\", \"Topic5\", \"Topic5\", \"Topic5\", \"Topic5\", \"Topic5\", \"Topic5\", \"Topic5\", \"Topic5\", \"Topic5\", \"Topic5\", \"Topic5\", \"Topic5\", \"Topic5\", \"Topic5\", \"Topic5\", \"Topic5\", \"Topic5\", \"Topic5\", \"Topic5\", \"Topic5\", \"Topic5\", \"Topic5\", \"Topic5\", \"Topic5\", \"Topic5\", \"Topic5\", \"Topic5\", \"Topic5\", \"Topic5\", \"Topic5\", \"Topic5\", \"Topic5\", \"Topic5\", \"Topic5\", \"Topic5\", \"Topic5\", \"Topic5\", \"Topic5\", \"Topic5\", \"Topic5\", \"Topic5\", \"Topic5\", \"Topic5\", \"Topic6\", \"Topic6\", \"Topic6\", \"Topic6\", \"Topic6\", \"Topic6\", \"Topic6\", \"Topic6\", \"Topic6\", \"Topic6\", \"Topic6\", \"Topic6\", \"Topic6\", \"Topic6\", \"Topic6\", \"Topic6\", \"Topic6\", \"Topic6\", \"Topic6\", \"Topic6\", \"Topic6\", \"Topic6\", \"Topic6\", \"Topic6\", \"Topic6\", \"Topic6\", \"Topic6\", \"Topic6\", \"Topic6\", \"Topic6\", \"Topic6\", \"Topic6\", \"Topic6\", \"Topic6\", \"Topic6\", \"Topic6\", \"Topic6\", \"Topic6\", \"Topic6\", \"Topic6\", \"Topic6\", \"Topic6\", \"Topic6\", \"Topic6\", \"Topic6\", \"Topic6\", \"Topic6\", \"Topic6\", \"Topic6\", \"Topic6\", \"Topic6\", \"Topic6\", \"Topic6\", \"Topic6\", \"Topic6\", \"Topic6\", \"Topic6\", \"Topic6\", \"Topic6\", \"Topic6\", \"Topic6\", \"Topic6\", \"Topic6\", \"Topic6\", \"Topic6\", \"Topic6\", \"Topic6\", \"Topic6\", \"Topic6\", \"Topic6\", \"Topic7\", \"Topic7\", \"Topic7\", \"Topic7\", \"Topic7\", \"Topic7\", \"Topic7\", \"Topic7\", \"Topic7\", \"Topic7\", \"Topic7\", \"Topic7\", \"Topic7\", \"Topic7\", \"Topic7\", \"Topic7\", \"Topic7\", \"Topic7\", \"Topic7\", \"Topic7\", \"Topic7\", \"Topic7\", \"Topic7\", \"Topic7\", \"Topic7\", \"Topic7\", \"Topic7\", \"Topic7\", \"Topic7\", \"Topic7\", \"Topic7\", \"Topic7\", \"Topic7\", \"Topic7\", \"Topic7\", \"Topic7\", \"Topic7\", \"Topic7\", \"Topic7\", \"Topic7\", \"Topic7\", \"Topic7\", \"Topic7\", \"Topic7\", \"Topic7\", \"Topic7\", \"Topic7\", \"Topic7\", \"Topic7\", \"Topic7\", \"Topic7\", \"Topic7\", \"Topic7\", \"Topic7\", \"Topic7\", \"Topic7\", \"Topic7\", \"Topic7\", \"Topic7\", \"Topic7\", \"Topic7\", \"Topic7\", \"Topic7\", \"Topic7\", \"Topic7\", \"Topic7\", \"Topic7\", \"Topic7\", \"Topic7\", \"Topic7\", \"Topic7\", \"Topic8\", \"Topic8\", \"Topic8\", \"Topic8\", \"Topic8\", \"Topic8\", \"Topic8\", \"Topic8\", \"Topic8\", \"Topic8\", \"Topic8\", \"Topic8\", \"Topic8\", \"Topic8\", \"Topic8\", \"Topic8\", \"Topic8\", \"Topic8\", \"Topic8\", \"Topic8\", \"Topic8\", \"Topic8\", \"Topic8\", \"Topic8\", \"Topic8\", \"Topic8\", \"Topic8\", \"Topic8\", \"Topic8\", \"Topic8\", \"Topic8\", \"Topic8\", \"Topic8\", \"Topic8\", \"Topic8\", \"Topic8\", \"Topic8\", \"Topic8\", \"Topic8\", \"Topic8\", \"Topic8\", \"Topic8\", \"Topic8\", \"Topic8\", \"Topic8\", \"Topic8\", \"Topic8\", \"Topic8\", \"Topic8\", \"Topic8\", \"Topic8\", \"Topic8\", \"Topic8\", \"Topic8\", \"Topic8\", \"Topic8\", \"Topic8\", \"Topic8\", \"Topic8\", \"Topic8\", \"Topic8\", \"Topic8\", \"Topic8\", \"Topic8\", \"Topic8\", \"Topic8\", \"Topic8\", \"Topic8\", \"Topic8\", \"Topic8\", \"Topic8\", \"Topic8\", \"Topic9\", \"Topic9\", \"Topic9\", \"Topic9\", \"Topic9\", \"Topic9\", \"Topic9\", \"Topic9\", \"Topic9\", \"Topic9\", \"Topic9\", \"Topic9\", \"Topic9\", \"Topic9\", \"Topic9\", \"Topic9\", \"Topic9\", \"Topic9\", \"Topic9\", \"Topic9\", \"Topic9\", \"Topic9\", \"Topic9\", \"Topic9\", \"Topic9\", \"Topic9\", \"Topic9\", \"Topic9\", \"Topic9\", \"Topic9\", \"Topic9\", \"Topic9\", \"Topic9\", \"Topic9\", \"Topic9\", \"Topic9\", \"Topic9\", \"Topic9\", \"Topic9\", \"Topic9\", \"Topic9\", \"Topic9\", \"Topic9\", \"Topic9\", \"Topic9\", \"Topic9\", \"Topic9\", \"Topic9\", \"Topic9\", \"Topic9\", \"Topic9\", \"Topic9\", \"Topic9\", \"Topic9\", \"Topic9\", \"Topic9\", \"Topic9\", \"Topic9\", \"Topic9\", \"Topic9\", \"Topic9\", \"Topic9\", \"Topic9\", \"Topic9\", \"Topic9\", \"Topic9\", \"Topic9\", \"Topic9\", \"Topic9\", \"Topic9\", \"Topic9\", \"Topic9\", \"Topic9\", \"Topic10\", \"Topic10\", \"Topic10\", \"Topic10\", \"Topic10\", \"Topic10\", \"Topic10\", \"Topic10\", \"Topic10\", \"Topic10\", \"Topic10\", \"Topic10\", \"Topic10\", \"Topic10\", \"Topic10\", \"Topic10\", \"Topic10\", \"Topic10\", \"Topic10\", \"Topic10\", \"Topic10\", \"Topic10\", \"Topic10\", \"Topic10\", \"Topic10\", \"Topic10\", \"Topic10\", \"Topic10\", \"Topic10\", \"Topic10\", \"Topic10\", \"Topic10\", \"Topic10\", \"Topic10\", \"Topic10\", \"Topic10\", \"Topic10\", \"Topic10\", \"Topic10\", \"Topic10\", \"Topic10\", \"Topic10\", \"Topic10\", \"Topic10\", \"Topic10\", \"Topic10\", \"Topic10\", \"Topic10\", \"Topic10\", \"Topic10\", \"Topic10\", \"Topic10\", \"Topic10\", \"Topic10\", \"Topic10\", \"Topic10\", \"Topic10\", \"Topic10\", \"Topic10\", \"Topic10\", \"Topic10\", \"Topic10\", \"Topic10\", \"Topic10\", \"Topic10\", \"Topic10\", \"Topic10\", \"Topic10\"], \"Term\": [\"tsa\", \"pre\", \"de\", \"library\", \"helpful\", \"fly\", \"airport\", \"ir\", \"vote\", \"passport\", \"eh\", \"ap\", \"fun\", \"checkpoint\", \"appreciate\", \"sprinter\", \"terminal\", \"entrance\", \"ye\", \"liquid\", \"rtc\", \"counter\", \"title\", \"jury\", \"sometime\", \"daughter\", \"s\", \"location\", \"agent\", \"water\", \"holy\", \"gum\", \"10a\", \"gross\", \"east\", \"centre\", \"departure\", \"vista\", \"yuck\", \"rep\", \"pregnant\", \"warrior\", \"smoothly\", \"taste\", \"dispute\", \"arrogant\", \"quarter\", \"peak\", \"metropoli\", \"refund\", \"parole\", \"ir\", \"result\", \"cuz\", \"school\", \"soul\", \"vital\", \"8people\", \"validation\", \"allege\", \"inn\", \"awesome\", \"turn\", \"due\", \"everythe\", \"different\", \"joke\", \"park\", \"paperwork\", \"day\", \"glad\", \"come\", \"front\", \"fee\", \"traffic\", \"certificate\", \"number\", \"water\", \"online\", \"4\", \"get\", \"process\", \"bus\", \"want\", \"tell\", \"star\", \"take\", \"place\", \"time\", \"call\", \"minute\", \"bill\", \"go\", \"line\", \"service\", \"check\", \"wait\", \"would\", \"city\", \"know\", \"need\", \"landfill\", \"residence\", \"holocaust\", \"raise\", \"report\", \"tow\", \"account\", \"unbelievable\", \"waitres\", \"therefore\", \"moron\", \"hoa\", \"uninterest\", \"comparison\", \"nit\", \"voucher\", \"ft\", \"sq\", \"1st\", \"videotape\", \"clinic\", \"ledger\", \"inaccurate\", \"walkway\", \"sprinkler\", \"indiscriminately\", \"800\", \"150\", \"discriminate\", \"85\", \"rip\", \"policy\", \"usage\", \"dump\", \"hospital\", \"kiosk\", \"terminal\", \"ap\", \"concern\", \"company\", \"pool\", \"penny\", \"service\", \"power\", \"bill\", \"expect\", \"customer\", \"bus\", \"pay\", \"worst\", \"offer\", \"happy\", \"money\", \"precheck\", \"work\", \"horrible\", \"rude\", \"sky\", \"never\", \"need\", \"one\", \"take\", \"friendly\", \"city\", \"can\", \"train\", \"back\", \"walk\", \"give\", \"time\", \"go\", \"people\", \"park\", \"get\", \"u\", \"make\", \"pre\", \"flamingo\", \"efficiant\", \"quicknes\", \"gayborhood\", \"relation\", \"rainbow\", \"fly\", \"38min\", \"outstand\", \"advertisement\", \"apt\", \"fuk\", \"snow\", \"tonight\", \"welcome\", \"chaplin\", \"smoother\", \"carrier\", \"boulevard\", \"chase\", \"minor\", \"lena\", \"bearable\", \"prime\", \"linen\", \"merge\", \"forty\", \"plaza\", \"atlanta\", \"female\", \"grocery\", \"tsa\", \"jail\", \"example\", \"lynx\", \"family\", \"s\", \"meter\", \"airport\", \"within\", \"much\", \"agent\", \"check\", \"light\", \"terminal\", \"often\", \"center\", \"never\", \"station\", \"line\", \"time\", \"rail\", \"treat\", \"say\", \"train\", \"rude\", \"go\", \"minute\", \"home\", \"park\", \"people\", \"office\", \"take\", \"ca\", \"way\", \"great\", \"like\", \"come\", \"get\", \"wait\", \"open\", \"security\", \"homestead\", \"melrose\", \"horribly\", \"ball\", \"appreciate\", \"happier\", \"undertrain\", \"allison\", \"frisk\", \"donate\", \"easily\", \"arrogance\", \"jose\", \"screw\", \"cruise\", \"punctual\", \"sermon\", \"dang\", \"pcm\", \"army\", \"floor\", \"warn\", \"queue\", \"technician\", \"smudge\", \"commission\", \"tourism\", \"attend\", \"effectively\", \"event\", \"somewhere\", \"wednesday\", \"state\", \"friend\", \"license\", \"base\", \"actually\", \"id\", \"love\", \"ride\", \"next\", \"jury\", \"fingerprint\", \"mill\", \"close\", \"fun\", \"great\", \"know\", \"card\", \"need\", \"go\", \"take\", \"day\", \"people\", \"way\", \"train\", \"get\", \"place\", \"bus\", \"tsa\", \"one\", \"come\", \"line\", \"service\", \"time\", \"chad\", \"ihop\", \"shoulder\", \"brother\", \"edinburgh\", \"aloud\", \"fresh\", \"certainly\", \"1250\", \"prior\", \"larger\", \"obtain\", \"rasmussen\", \"superb\", \"undercook\", \"watery\", \"flier\", \"flood\", \"episode\", \"appt\", \"attach\", \"beer\", \"instructional\", \"immigration\", \"va\", \"illegal\", \"8am\", \"bias\", \"coordinator\", \"wire\", \"clerk\", \"24\", \"stupid\", \"dmv\", \"volunteer\", \"helpful\", \"visit\", \"automate\", \"hour\", \"friendly\", \"update\", \"funny\", \"wrong\", \"10\", \"like\", \"stop\", \"open\", \"office\", \"alway\", \"take\", \"line\", \"people\", \"wait\", \"long\", \"also\", \"think\", \"help\", \"get\", \"bag\", \"call\", \"security\", \"nice\", \"go\", \"tsa\", \"would\", \"need\", \"service\", \"minute\", \"can\", \"place\", \"woot\", \"incredibly\", \"immensely\", \"bumpy\", \"accommodation\", \"voicemail\", \"ahhhhh\", \"library\", \"younger\", \"equalizer\", \"atleast\", \"numberi\", \"brand\", \"transaction\", \"printout\", \"1hr\", \"seamles\", \"transition\", \"uneducate\", \"testimony\", \"understaf\", \"wafer\", \"cheddar\", \"cracker\", \"yummy\", \"captain\", \"loooot\", \"champagne\", \"foe\", \"gloria\", \"flip\", \"fun\", \"original\", \"large\", \"passport\", \"age\", \"bar\", \"airport\", \"jury\", \"jet\", \"tsa\", \"agent\", \"sky\", \"restaurant\", \"mill\", \"even\", \"around\", \"park\", \"traveler\", \"wait\", \"lot\", \"line\", \"place\", \"clean\", \"go\", \"get\", \"need\", \"great\", \"2\", \"extremely\", \"new\", \"better\", \"easy\", \"service\", \"little\", \"security\", \"hour\", \"make\", \"take\", \"minute\", \"sprinter\", \"ruff\", \"de\", \"backpack\", \"throught\", \"en\", \"cough\", \"kerrie\", \"favorite\", \"evr\", \"sllllooowwweesstt\", \"wardrobe\", \"le\", \"justify\", \"sont\", \"8th\", \"9th\", \"shortest\", \"enlarge\", \"peni\", \"ruiz\", \"mon\", \"et\", \"cheapest\", \"soo\", \"fed\", \"tent\", \"que\", \"everytime\", \"helples\", \"poll\", \"60\", \"half\", \"dollar\", \"million\", \"court\", \"vote\", \"touch\", \"door\", \"water\", \"deposit\", \"daughter\", \"relate\", \"transportation\", \"call\", \"card\", \"time\", \"alway\", \"checkpoint\", \"precheck\", \"hand\", \"window\", \"easy\", \"care\", \"say\", \"right\", \"close\", \"get\", \"people\", \"experience\", \"go\", \"line\", \"bill\", \"try\", \"one\", \"security\", \"like\", \"customer\", \"service\", \"would\", \"come\", \"memo\", \"liquid\", \"whoa\", \"lousy\", \"welfare\", \"isnt\", \"tammy\", \"consistently\", \"approx\", \"rassmussen\", \"extinguisher\", \"jesu\", \"seamu\", \"dragon\", \"george\", \"mccaffrey\", \"clueles\", \"represent\", \"civilian\", \"spaciou\", \"foodie\", \"heartbeat\", \"adore\", \"breathtake\", \"inspire\", \"poorly\", \"ditch\", \"jason\", \"warrant\", \"ir\", \"tatum\", \"bin\", \"respect\", \"automatic\", \"location\", \"metro\", \"cancel\", \"5pm\", \"magazine\", \"search\", \"super\", \"tsa\", \"deal\", \"go\", \"mom\", \"allow\", \"office\", \"bring\", \"u\", \"please\", \"wait\", \"card\", \"good\", \"security\", \"min\", \"line\", \"somethe\", \"way\", \"get\", \"like\", \"time\", \"people\", \"car\", \"well\", \"new\", \"build\", \"day\", \"would\", \"long\", \"need\", \"come\", \"love\", \"maiden\", \"fashionable\", \"luxuriou\", \"ivan\", \"verifiable\", \"265\", \"disable\", \"death\", \"bx\", \"response\", \"immunization\", \"pic\", \"decorate\", \"duke\", \"hallway\", \"experiment\", \"stanford\", \"sixty\", \"asshole\", \"coupon\", \"hi\", \"109\", \"dedicate\", \"underpas\", \"session\", \"dilemma\", \"additionally\", \"convention\", \"hbrid\", \"9\", \"trust\", \"casino\", \"black\", \"nelli\", \"sunday\", \"entrance\", \"rtc\", \"ok\", \"smart\", \"medical\", \"supervisor\", \"counter\", \"route\", \"ap\", \"bus\", \"driver\", \"passport\", \"stuff\", \"security\", \"worker\", \"one\", \"close\", \"give\", \"say\", \"time\", \"help\", \"get\", \"name\", \"number\", \"people\", \"see\", \"base\", \"bill\", \"guy\", \"go\", \"line\", \"drive\", \"office\", \"take\", \"guard\", \"les\", \"nice\", \"5\", \"eh\", \"lawyer\", \"poop\", \"evict\", \"mofo\", \"february\", \"bulk\", \"handy\", \"orderly\", \"commissioner\", \"meeting\", \"recognition\", \"julio\", \"theft\", \"identity\", \"oz\", \"10th\", \"orthodontic\", \"prescription\", \"picky\", \"weird\", \"unreasonable\", \"minimum\", \"27\", \"unprofessional\", \"bunk\", \"silverflume\", \"aircraft\", \"thrive\", \"draft\", \"sometime\", \"compassionate\", \"ye\", \"entrance\", \"title\", \"log\", \"agency\", \"staff\", \"leak\", \"library\", \"appointment\", \"dad\", \"helpful\", \"like\", \"friendly\", \"wait\", \"nice\", \"hate\", \"office\", \"rail\", \"file\", \"work\", \"good\", \"30\", \"care\", \"long\", \"door\", \"location\", \"guard\", \"security\", \"job\", \"time\", \"water\", \"go\", \"get\", \"people\", \"ride\", \"even\"], \"loglift\": [30.0, 29.0, 28.0, 27.0, 26.0, 25.0, 24.0, 23.0, 22.0, 21.0, 20.0, 19.0, 18.0, 17.0, 16.0, 15.0, 14.0, 13.0, 12.0, 11.0, 10.0, 9.0, 8.0, 7.0, 6.0, 5.0, 4.0, 3.0, 2.0, 1.0, 1.3106, 1.2791, 1.2353, 1.232, 1.2158, 1.2022, 1.1952, 1.1878, 1.1865, 1.1779, 1.1738, 1.1529, 1.1253, 1.1174, 1.1086, 1.1033, 1.0894, 1.089, 1.0838, 1.0833, 1.0768, 1.0718, 1.0652, 1.0639, 1.0635, 1.063, 1.0615, 1.0609, 1.0609, 1.0542, 1.0535, 1.007, 0.9742, 0.9598, 0.9254, 0.9134, 0.9433, 0.7656, 0.866, 0.6881, 0.9516, 0.6309, 0.8396, 0.8548, 0.8511, 0.8857, 0.5977, 0.5269, 0.7027, 0.7328, 0.3184, 0.5981, 0.3636, 0.6229, 0.4609, 0.5839, 0.2066, 0.3257, 0.1878, 0.321, 0.2654, 0.3581, -0.0081, 0.0363, 0.1027, 0.2586, -0.0075, 0.2066, 0.3958, 0.304, 0.0481, 1.4392, 1.3881, 1.3875, 1.385, 1.3097, 1.2643, 1.2538, 1.2482, 1.2475, 1.2408, 1.231, 1.2143, 1.2113, 1.2016, 1.2016, 1.2009, 1.1871, 1.1871, 1.1851, 1.1851, 1.1783, 1.1701, 1.1701, 1.1687, 1.1678, 1.1678, 1.1567, 1.1563, 1.1562, 1.1392, 1.1367, 1.1322, 1.0997, 1.1103, 1.1163, 1.093, 0.9329, 0.914, 1.0562, 0.8159, 1.1248, 1.0964, 0.5981, 0.8699, 0.6706, 0.8615, 0.6459, 0.4863, 0.5813, 0.6676, 0.8914, 0.8025, 0.6283, 0.6586, 0.4326, 0.8514, 0.5152, 0.7045, 0.3175, 0.2186, 0.2509, 0.0989, 0.3411, 0.3735, 0.3628, 0.2904, 0.3281, 0.412, 0.3888, 0.0011, -0.1046, -0.0344, -0.0791, -0.2114, 0.2396, 0.1705, 1.5683, 1.4442, 1.4238, 1.403, 1.4028, 1.3973, 1.3915, 1.3156, 1.3043, 1.2901, 1.2805, 1.267, 1.267, 1.256, 1.2359, 1.2237, 1.2186, 1.2134, 1.2072, 1.1983, 1.1939, 1.1781, 1.1557, 1.1557, 1.1522, 1.1522, 1.1522, 1.1454, 1.1336, 1.1308, 1.1232, 1.1192, 0.8583, 1.0515, 1.0684, 1.0455, 0.995, 0.9506, 0.9524, 0.7405, 0.9289, 0.7503, 0.7931, 0.591, 0.7115, 0.6934, 0.8892, 0.8188, 0.4937, 0.7865, 0.28, 0.2948, 0.6006, 0.6657, 0.33, 0.3711, 0.5175, 0.0821, 0.2553, 0.5943, 0.1326, 0.1251, 0.2037, 0.0823, 0.551, 0.425, 0.3272, 0.1833, 0.0949, -0.1438, -0.0524, 0.3433, -0.014, 1.4135, 1.4116, 1.3995, 1.3962, 1.3149, 1.2949, 1.2781, 1.2744, 1.2549, 1.2544, 1.2492, 1.2489, 1.2433, 1.2341, 1.2289, 1.2289, 1.2259, 1.2248, 1.2248, 1.2206, 1.213, 1.2042, 1.1997, 1.1943, 1.1943, 1.1781, 1.1739, 1.17, 1.1628, 1.1346, 1.1226, 1.0915, 1.0052, 1.0024, 0.9435, 0.8545, 0.8095, 0.8869, 0.7316, 0.669, 0.8095, 0.9763, 0.9907, 0.5974, 0.5639, 0.8344, 0.4049, 0.3911, 0.301, 0.2171, 0.0742, 0.1308, 0.2412, 0.125, 0.4223, 0.317, 0.0039, 0.2255, 0.1094, -0.0418, 0.1195, 0.0182, -0.1269, -0.0654, -0.1182, 1.4628, 1.4526, 1.4065, 1.3852, 1.3684, 1.3317, 1.327, 1.3214, 1.3181, 1.2782, 1.2696, 1.2661, 1.2542, 1.2542, 1.2209, 1.2208, 1.2201, 1.2193, 1.2165, 1.2163, 1.2111, 1.2077, 1.2071, 1.2027, 1.2027, 1.1997, 1.1949, 1.1853, 1.1852, 1.1714, 1.1711, 1.1707, 1.1375, 0.9982, 1.1068, 0.8709, 0.8544, 1.0845, 0.6336, 0.6212, 1.0336, 0.9102, 0.8388, 0.7677, 0.4734, 0.6425, 0.5561, 0.3999, 0.6363, 0.3145, 0.294, 0.3046, 0.288, 0.4798, 0.5631, 0.5095, 0.457, 0.1324, 0.6531, 0.2943, 0.2068, 0.4073, 0.0573, 0.0705, 0.2765, 0.1574, 0.1094, 0.1554, 0.3624, 0.1335, 1.5538, 1.5088, 1.4863, 1.4837, 1.4725, 1.4689, 1.4656, 1.4488, 1.4015, 1.3978, 1.3959, 1.3959, 1.3826, 1.3754, 1.3707, 1.3703, 1.3561, 1.356, 1.3533, 1.3265, 1.3105, 1.302, 1.302, 1.302, 1.302, 1.302, 1.2969, 1.2969, 1.2969, 1.2905, 1.2829, 1.1962, 1.2557, 1.1964, 1.1745, 1.2401, 1.0806, 0.8504, 1.1032, 1.1626, 0.5289, 0.7684, 0.8496, 0.9657, 0.6348, 0.5423, 0.5987, 0.2818, 1.0386, 0.2075, 0.498, 0.1484, 0.2878, 0.6382, 0.0638, 0.0432, 0.1646, 0.3265, 0.4267, 0.7818, 0.4534, 0.5126, 0.3678, -0.0058, 0.5317, -0.033, 0.1032, 0.0987, -0.1949, -0.0113, 1.8089, 1.6383, 1.5703, 1.5139, 1.4887, 1.4684, 1.4579, 1.4243, 1.3834, 1.3617, 1.3617, 1.3378, 1.3185, 1.3183, 1.3076, 1.3032, 1.3032, 1.3025, 1.3025, 1.2948, 1.2948, 1.2736, 1.2708, 1.2692, 1.2685, 1.268, 1.2677, 1.2567, 1.2546, 1.2416, 1.233, 1.1969, 1.1235, 1.0147, 1.1419, 1.0421, 0.8, 1.129, 0.6507, 0.5028, 0.9726, 1.0067, 1.1217, 0.7964, 0.3897, 0.3887, 0.2546, 0.5699, 0.7574, 0.5923, 0.8249, 0.5897, 0.4395, 0.6046, 0.2396, 0.4387, 0.352, -0.0911, -0.0173, 0.2561, -0.1403, -0.1081, 0.1656, 0.365, 0.0403, -0.0304, 0.0099, 0.1979, -0.1337, 0.0242, -0.1131, 1.6828, 1.5484, 1.5417, 1.4878, 1.4837, 1.4626, 1.4515, 1.4249, 1.4059, 1.3867, 1.3867, 1.3704, 1.3575, 1.3575, 1.3575, 1.3575, 1.3327, 1.3313, 1.3185, 1.3185, 1.3132, 1.3132, 1.3132, 1.3132, 1.3132, 1.304, 1.301, 1.2912, 1.2887, 1.2845, 1.2835, 1.1914, 1.2485, 1.262, 0.8886, 1.0852, 1.266, 1.1136, 1.2325, 1.0122, 0.8242, 0.3734, 0.6873, 0.2798, 1.0812, 0.857, 0.3055, 0.6488, 0.3682, 0.8615, 0.1644, 0.3031, 0.4145, 0.1875, 0.7129, 0.0435, 0.6086, 0.3579, -0.0423, 0.1405, 0.0162, 0.0106, 0.4677, 0.3733, 0.3868, 0.4417, 0.0563, 0.0855, 0.1931, -0.0634, -0.0905, 0.3217, 1.6791, 1.6714, 1.6714, 1.6559, 1.5663, 1.5663, 1.5522, 1.5379, 1.5205, 1.517, 1.5117, 1.4761, 1.4761, 1.3968, 1.3941, 1.3785, 1.3785, 1.3742, 1.3702, 1.3673, 1.3623, 1.3623, 1.3442, 1.3327, 1.3327, 1.3327, 1.3145, 1.3145, 1.3145, 1.3113, 1.309, 1.2932, 1.276, 1.2605, 1.2365, 1.1962, 1.0716, 1.1793, 1.228, 1.2198, 1.0215, 0.8871, 0.9737, 0.5116, 0.235, 0.6509, 0.886, 0.9584, 0.1068, 0.8028, 0.0955, 0.3081, 0.2948, 0.0739, -0.1015, 0.2072, -0.2006, 0.3292, 0.168, -0.1668, 0.115, 0.4672, 0.079, 0.3331, -0.3133, -0.2595, 0.3504, -0.1417, -0.2993, 0.3705, 0.4186, 0.0612, 0.2783, 1.8824, 1.7659, 1.7573, 1.7012, 1.7001, 1.6302, 1.6275, 1.5556, 1.5269, 1.5269, 1.5268, 1.5256, 1.5176, 1.5176, 1.5176, 1.4871, 1.4858, 1.4785, 1.4785, 1.4785, 1.4472, 1.4269, 1.4219, 1.3962, 1.3954, 1.3867, 1.3757, 1.3748, 1.3704, 1.3704, 1.3414, 1.3514, 1.2697, 1.2566, 1.2536, 1.3425, 1.1868, 0.8112, 1.1676, 1.1027, 1.0353, 1.2477, 0.5567, 0.3519, 0.4543, 0.2113, 0.4381, 0.8323, 0.2573, 0.5502, 0.9481, 0.3528, 0.3867, 0.6741, 0.5881, 0.2809, 0.4154, 0.4581, 0.452, -0.0727, 0.4209, -0.1769, 0.0136, -0.2892, -0.3012, -0.2108, 0.2669, 0.1202], \"Freq\": [5.0, 1.0, 1.0, 1.0, 3.0, 1.0, 3.0, 1.0, 2.0, 1.0, 0.0, 2.0, 1.0, 1.0, 1.0, 0.0, 2.0, 0.0, 1.0, 0.0, 1.0, 1.0, 0.0, 1.0, 1.0, 1.0, 1.0, 2.0, 2.0, 4.0, 0.47798378104410444, 0.42887059050965337, 0.390215866705442, 0.45886996031345734, 0.7415126602943785, 0.41179359427194295, 0.35923292104853727, 0.3539656384959707, 0.35300779729608567, 0.5597317310631855, 0.34420867544129785, 0.3304413752035797, 0.47130598461206935, 0.4861308738083532, 0.3317868591935241, 0.30081570513398764, 0.2932373852983584, 0.3705970187143481, 0.2902311364406128, 0.3689244902158766, 0.3637825749507672, 0.5300934964707009, 0.3348564455662593, 0.2799829768262817, 0.4726650416027588, 0.2795305305814818, 0.2788132824132325, 0.27851651140110717, 0.2785129359345671, 0.27519399377894993, 0.3011198287058048, 0.7766069035328925, 0.697139916289526, 0.7139534321395268, 0.8209758650577853, 0.8476116385758046, 0.6580423995629295, 1.7296045443572274, 0.8692649852052878, 1.3392045744430325, 0.5101389518949085, 1.3551005379812182, 0.7059024829800483, 0.6674860870232974, 0.6227735819048118, 0.57077122740414, 0.9870902012162052, 1.0773877114314518, 0.752977143624273, 0.71444884020343, 1.2483650206842838, 0.8081017166352555, 1.0640386049498254, 0.7641457816789603, 0.8750797169103787, 0.750690947967893, 1.0034189694754045, 0.8820410924735694, 0.9661115825364194, 0.8759713319352249, 0.8784198647526056, 0.8211018674587893, 0.8941531983702945, 0.871168165082537, 0.8398657058372413, 0.7882577330299925, 0.8064729615120516, 0.7809161129458112, 0.7555501914732918, 0.7612169671599373, 0.7568266291200177, 0.3810847985204986, 0.3628763198117441, 0.3436612112156169, 0.521999451913559, 0.49154974633072995, 0.27368437755296665, 0.6280331800814576, 0.2983464113974847, 0.2657877418550906, 0.26271420574651894, 0.3349448866678475, 0.25105476286355655, 0.24977885647572823, 0.24575048077974745, 0.24574876154847036, 0.24547332694175136, 0.23986660619970854, 0.23986228794891049, 0.23908602357917286, 0.23908339479795515, 0.32881551841602014, 0.2332186492244349, 0.23321676929778865, 0.3061262536055276, 0.232350119097913, 0.23234972149910846, 0.24825318957702794, 0.31118280894076544, 0.22797659312379223, 0.22176249944267165, 0.25856584853194237, 0.3079539610097408, 0.4287758813804776, 0.38429427442086755, 0.36028475064655924, 0.36209812509231754, 0.8712361465653344, 0.8744787434535379, 0.4048621759878213, 0.9515891277637948, 0.29093440616184035, 0.31166995532493114, 1.0985308260432356, 0.5562023227714629, 0.8944720680783256, 0.5468660908705314, 0.8171845175970054, 0.9587824977789334, 0.7380355474606992, 0.6083147591395164, 0.43288589360798535, 0.48687110763829916, 0.5960033025417446, 0.5685586344307273, 0.6901094637631539, 0.4376024345741566, 0.5993625691072249, 0.5021114451193022, 0.6743974857700327, 0.7152846994480655, 0.6805150050584201, 0.7180304709163285, 0.6150811369883484, 0.5889148573750502, 0.5902462544616796, 0.6121390072363688, 0.5921864829071611, 0.5710362058039015, 0.5716905978027497, 0.6388522046906516, 0.6470457090722223, 0.6214661316773926, 0.5923265787441037, 0.5857439232417428, 0.5735495214387164, 0.5736801800252419, 0.918158360055198, 0.3724767710481652, 0.3575133626401445, 0.3431692219933288, 0.3430385119437899, 0.33935809751366186, 0.4444954744083834, 0.8330320714072511, 0.28545114837522706, 0.31067909601094507, 0.2736372587362124, 0.2672688134924888, 0.2672648300314536, 0.28875385259758846, 0.2533248542675847, 0.3784387648939642, 0.24604352715868588, 0.24388149807579057, 0.24139555708320784, 0.2378602598180714, 0.2917917264052625, 0.2539378149016391, 0.2218433532222815, 0.22183776379368825, 0.22058020512905127, 0.2205776081645357, 0.22057612294528328, 0.2633729418734847, 0.21410814189268396, 0.25561015486666694, 0.35400195920775335, 0.3247707594938823, 1.594617166612759, 0.4085730125170769, 0.3614404347225437, 0.3919521355658905, 0.46344275421388176, 0.5408171281477356, 0.5071466606660308, 0.923949385672607, 0.5356921728453956, 0.7975242382138621, 0.6920601017116603, 0.8622073588318235, 0.6652212688692923, 0.6749194299465098, 0.4661631761885671, 0.505551557852855, 0.7917186666739451, 0.5009429469195286, 0.8719857760826896, 0.8434799498062091, 0.5968079206130977, 0.5341477228857495, 0.7019348531314205, 0.6531124338023337, 0.5913179017745872, 0.7675835032324823, 0.6821682178359635, 0.5544323781090774, 0.7204296861022247, 0.7175034907572212, 0.663273115812315, 0.6951480738611258, 0.5591723415799346, 0.5864415764128919, 0.6078110373036402, 0.6314503816174212, 0.6220222795645233, 0.6168684359501715, 0.6048604142279727, 0.5585314322780058, 0.5608878972416044, 0.31018494954538073, 0.30910299302321254, 0.3023278472505091, 0.3421653264234363, 0.6285064602586657, 0.2515273553021846, 0.24452880872017574, 0.24301176896571175, 0.2352983942357421, 0.2351267929166558, 0.2683273860525708, 0.232999357079075, 0.2308679496542998, 0.3791436258977018, 0.22553700347517128, 0.29987618273152394, 0.2244277506394799, 0.22404973283900895, 0.22404948772805833, 0.31958483800011256, 0.40903614353008727, 0.3094196904344036, 0.2828252848376412, 0.21337760978359088, 0.2133774932786515, 0.22184944850319852, 0.2232090818202238, 0.2675889555459634, 0.2030562703335569, 0.527416414839661, 0.3494237971483459, 0.4392041755407188, 0.6331527051718367, 0.5425151124860595, 0.651289475688501, 0.6085003950362491, 0.5836074120538295, 0.487466918489421, 0.6669897488925745, 0.6682167684882807, 0.5121725557490876, 0.377569015992311, 0.3611020872546656, 0.5992428908877221, 0.6204753779493822, 0.4268104758035597, 0.6141505278812209, 0.6090415612519704, 0.6197581960920587, 0.6572419554143838, 0.7119741533048918, 0.6821408488720112, 0.6281994830617684, 0.6706960476990219, 0.5467840421639474, 0.5784518609687659, 0.6684776429606201, 0.5852214616072534, 0.6051769062227621, 0.6060572977888845, 0.5490977150459053, 0.5385868127466531, 0.5426969064338977, 0.5206461823458, 0.5217519422690886, 0.37467524718375256, 0.32710328589216586, 0.364074556942553, 0.4219538062793629, 0.31206843527045425, 0.27995725509801883, 0.2608976236338229, 0.3603846273463134, 0.256951730703202, 0.5250537812121773, 0.25869961050480716, 0.403463301150055, 0.23097141263542292, 0.2309699723435128, 0.2188442546780653, 0.21884361270667183, 0.21857146360943347, 0.2182816757137591, 0.2277242622237979, 0.21725030271334317, 0.21546559227177178, 0.27849934149558214, 0.21411304309301155, 0.21261567762934253, 0.2126153074152523, 0.22834411796874066, 0.2868195589042114, 0.20685498908358077, 0.20685048503175435, 0.20242656679756962, 0.4756734122787327, 0.3513556516565666, 0.4266308065651604, 0.5698809814571341, 0.31480416184011306, 0.7997956673774911, 0.6894737158078663, 0.32250450723990465, 0.8413283545845689, 0.7401263227025845, 0.3187916718804978, 0.4000573575300102, 0.4397544839034528, 0.4862758142457392, 0.7797319639549948, 0.5854915786678093, 0.6384019781047869, 0.7456696214648677, 0.5583536737010814, 0.8100539427533648, 0.8170288153297174, 0.7931929369207582, 0.7854075406300642, 0.6334871378973388, 0.5687929889716759, 0.5990416399427085, 0.5968589050056422, 0.7512215338217807, 0.5026914660480899, 0.6181054853618608, 0.6462266320508314, 0.5783094599042329, 0.6918342875077027, 0.670084043564972, 0.6069766415109676, 0.6118250456143394, 0.6127686807598781, 0.5703010052947552, 0.5365251313030186, 0.5274499744733986, 0.2872262731790539, 0.26549908913070236, 0.25551715809028475, 0.25441101090707763, 0.24966714046833605, 0.24815380852776736, 0.24681566004239602, 0.44630977474686895, 0.2432789880464008, 0.2403453710220677, 0.22027051304658835, 0.2202702429095068, 0.26751439730588555, 0.23197963802176508, 0.21164805603474607, 0.24816627789874782, 0.20686331865228394, 0.20685878487521775, 0.28834640158277325, 0.19760261971531234, 0.21869063209825668, 0.19038553501572295, 0.1903845139738653, 0.19038221268307404, 0.1903804739676959, 0.19037784943049307, 0.18892099443401852, 0.18891944314147088, 0.1889192688338337, 0.18708367758294694, 0.22463803173011793, 0.5060998783933311, 0.27675523574496647, 0.39390272956644506, 0.41779189617533213, 0.26235357410355753, 0.402742212233791, 0.7962318335863884, 0.35397420829839643, 0.2776578550893035, 0.885580893638601, 0.5212569093474702, 0.44114535574298835, 0.3475234755394417, 0.5137409467841737, 0.5640521658913403, 0.5176319463430098, 0.6456875398416232, 0.31247865841954764, 0.6055492915821976, 0.4803542503478497, 0.5902175989806973, 0.5143226416320461, 0.4037623877632244, 0.5818881312153914, 0.5741215511084014, 0.5149682232946862, 0.4689070544743279, 0.4424923937224651, 0.3624444462661288, 0.41373516425311696, 0.4001177765302657, 0.40917123524869436, 0.4563337745004812, 0.38300585033221546, 0.424889697010995, 0.41366474511650014, 0.4057220473577855, 0.40674565876890006, 0.4033858056605049, 0.422224958974638, 0.3021706082350418, 0.5025475023583097, 0.2812634495119782, 0.23373713822624814, 0.2261844058817697, 0.22242050798538499, 0.2108970807090216, 0.3319590139844275, 0.1915144758366741, 0.19151347483388156, 0.18473438085772478, 0.2757405029522738, 0.2058568401790969, 0.17663110470658094, 0.17547921681309925, 0.17547837885743395, 0.1753068855093743, 0.17530604027116434, 0.17331763646366033, 0.17331735350478547, 0.1680398228735072, 0.16735368025662575, 0.18807097860854535, 0.1667966189102146, 0.16669183877838628, 0.20111199057388748, 0.16398534635966228, 0.20465905916190216, 0.16046462831514063, 0.21723861739502143, 0.27043308447208153, 0.39669360520877994, 0.4270581499327972, 0.25059092001114935, 0.29837271666650356, 0.3999915200498065, 0.22860254692952903, 0.4858584302206052, 0.6005620934520131, 0.2846310545630168, 0.26883929277365076, 0.22612896373042154, 0.3439930473775855, 0.5357889059227366, 0.5268155783266445, 0.5897798135276358, 0.41165383263836663, 0.3367475193957029, 0.3812049291909514, 0.30859096241659467, 0.3734554103397047, 0.4144592032026748, 0.3625985119027898, 0.4668006295528783, 0.38937432335724936, 0.39085235647332517, 0.47331523673287124, 0.4529526103939479, 0.3872559037710008, 0.4473399913205262, 0.43060331402307694, 0.38677112544075537, 0.36364582529875433, 0.394975846678853, 0.40165682363146, 0.38649742736341497, 0.3741073225830711, 0.3786361566739049, 0.3715633706056363, 0.36772938396160637, 0.27873628036970166, 0.37289315615059676, 0.22041139731104725, 0.20254079890858917, 0.23984508485596923, 0.19486678825165382, 0.2125170746831348, 0.23305350891824242, 0.17898619300012228, 0.17399720459219714, 0.1739970939649615, 0.16988435833221502, 0.1667405598381056, 0.16674004072459322, 0.16673806216753378, 0.1667361744366833, 0.16090588137319303, 0.19885389364975173, 0.15766549809556551, 0.15766421820539642, 0.1564897057659879, 0.15648799453244658, 0.15648637964456605, 0.15648553667222784, 0.15648512077293064, 0.22856014921409967, 0.1538091312589128, 0.1517042823973197, 0.18037332735511608, 0.3414491596276137, 0.19990503329226514, 0.2870854057898962, 0.19039130899135095, 0.18245703232291477, 0.4894064316802066, 0.24629979098733104, 0.17219695665725657, 0.22619669351519942, 0.18299143105954685, 0.26224548272735954, 0.341141719826031, 0.6517416525861705, 0.3893561105168657, 0.620907427351166, 0.22589687689756155, 0.28102760274019833, 0.4874755234847572, 0.34254773208516487, 0.426156717917614, 0.2711478619185336, 0.4986932928741128, 0.440974506655426, 0.3944823405459264, 0.4554284501353064, 0.29598651803243486, 0.45693288565178386, 0.31302135659964914, 0.3640273188516331, 0.4532096557935399, 0.4016203032306263, 0.42374403173431346, 0.4247392945409205, 0.3293144505340929, 0.34249829299504014, 0.33279407056797977, 0.32552615827936715, 0.3707296494785414, 0.3602539848416664, 0.34168272117401777, 0.35248774738565203, 0.34300519612582736, 0.31432449766523674, 0.20071671452588583, 0.19837081697091064, 0.19836283778597727, 0.1937393786864853, 0.16969660866360392, 0.16969654351100807, 0.17529182580061778, 0.18173550031734562, 0.256438164956749, 0.1581049147239503, 0.15691392583381628, 0.14927331329230478, 0.1492714687290027, 0.1338563964395284, 0.14508612384904906, 0.13060013139588, 0.13059995058895213, 0.15004111233919656, 0.15004755517342733, 0.128645077358325, 0.12778366487243473, 0.1277815548470638, 0.12474379350544086, 0.12285387023960594, 0.12285339898104604, 0.12285198807928246, 0.11993329659455684, 0.11993251147280587, 0.119931077173342, 0.1735419572851979, 0.1686576531594774, 0.1757445398051354, 0.22800409450938225, 0.18025144748088154, 0.19790558170431388, 0.21198668398310122, 0.3266113314689493, 0.21579692546287277, 0.16048613007199958, 0.1620703739175774, 0.22008203566654802, 0.25686208461279936, 0.2050832047561539, 0.3110614974073174, 0.3966590727466039, 0.2714445175115879, 0.2191713009609352, 0.20376054069250393, 0.3420343632196077, 0.21664238407837982, 0.309903042263926, 0.2777237985062798, 0.2768148222959952, 0.2936491329818989, 0.30667877820650796, 0.2719538558580997, 0.3149635651441354, 0.2588271080986401, 0.27229886464494213, 0.2895846653791108, 0.263827931920339, 0.2388217542548939, 0.26332112653469186, 0.2468086039603632, 0.27937240875421654, 0.27476577656191514, 0.23833552841535907, 0.2537710967633655, 0.2565014973988116, 0.23478714707142012, 0.23240992750165906, 0.2393372169464002, 0.23091228181320736, 0.29773883295253817, 0.23536070526256125, 0.20131428770269855, 0.18495916958317524, 0.18466922834418908, 0.16671146036679718, 0.1660706117054041, 0.15000300145478357, 0.14413241110808964, 0.14413164002343098, 0.14413054208864653, 0.143878421918524, 0.14230838967301718, 0.1423077100588153, 0.14230712858983807, 0.23049415825059993, 0.1362430235760801, 0.13490818125234527, 0.13490733021566784, 0.1349070482134137, 0.15618545731868896, 0.12586975708263112, 0.13763263172869636, 0.12085073203843834, 0.12072298602132024, 0.11934652937582532, 0.1176430408779478, 0.13290723076395647, 0.11683348969968897, 0.11683340661280975, 0.26711731754206247, 0.17190958896074196, 0.26743064969046865, 0.2081089877665378, 0.20199556412609412, 0.1394637080596688, 0.206561985293547, 0.38986723132602075, 0.1916494719549096, 0.20425701772518853, 0.20509587557720974, 0.1675233775539992, 0.31578324440179967, 0.3733004197182393, 0.3386133520229135, 0.3932502258560992, 0.32240295908996575, 0.2339137845141976, 0.3495343252953219, 0.28342086064467864, 0.21370968219332345, 0.3132240752791453, 0.28865219344113313, 0.23957477433708987, 0.24471924013528376, 0.28067730189316126, 0.2634729104439945, 0.23941682738871362, 0.2354156431078561, 0.2641510662018752, 0.23596427414675433, 0.2628427269931719, 0.2526438153747736, 0.26446595075934476, 0.2632061938049381, 0.2561028772799768, 0.23877651045361403, 0.23926811567554176], \"Total\": [5.0, 1.0, 1.0, 1.0, 3.0, 1.0, 3.0, 1.0, 2.0, 1.0, 0.0, 2.0, 1.0, 1.0, 1.0, 0.0, 2.0, 0.0, 1.0, 0.0, 1.0, 1.0, 0.0, 1.0, 1.0, 1.0, 1.0, 2.0, 2.0, 4.0, 0.8446293486029168, 0.7820756942764638, 0.7434238578018088, 0.8771444497425149, 1.440567344280733, 0.8109436322057649, 0.7124327093125674, 0.7071635929252883, 0.706206620166538, 1.1294166979946312, 0.6974056566199404, 0.6836431038988391, 1.0023517864021299, 1.0420781475600438, 0.7175056996673385, 0.6540166287768192, 0.6464309213880645, 0.8172887431249278, 0.6434282264985455, 0.8182880015274909, 0.8121326993647515, 1.1893052162463864, 0.7562629107950523, 0.6331798739309581, 1.0693030814816107, 0.6327279262963353, 0.6320117378360073, 0.6317129274152756, 0.6317117557837486, 0.6283928652580001, 0.6880791095892785, 1.85905131520142, 1.724535924576648, 1.7916855357039154, 2.132441811950884, 2.228160366059312, 1.678804505172372, 5.270733211671487, 2.3960200164386976, 4.40998703702616, 1.2907375343314422, 4.725207422865677, 1.9977024490622544, 1.8605502781073753, 1.7422499368152418, 1.5424634549848057, 3.5578311570714245, 4.168455375612946, 2.443492873753059, 2.249805126203841, 5.949492759242484, 2.9117069024293665, 4.846862234326961, 2.6858969411073836, 3.616770467656313, 2.7435599622426343, 5.347699658936087, 4.173098137408049, 5.246566117177409, 4.163817350491343, 4.414273882981899, 3.7609682223522753, 5.906564760888238, 5.505256401526233, 4.966218965922387, 3.9882453960726965, 5.324209417123828, 4.162009288364057, 3.332631673432845, 3.680481473330956, 4.7262315756047855, 0.7429243060816859, 0.7444792902497425, 0.7054835371495518, 1.0742979468954352, 1.0907253014062652, 0.6355043453532907, 1.4737183574293735, 0.7040051487443619, 0.627608125723484, 0.6245340436217368, 0.804089673217768, 0.6128726117394228, 0.6116009189170988, 0.6075704751022324, 0.6075703636189899, 0.6072902839320365, 0.6016831478226397, 0.6016822834730705, 0.6009096726843219, 0.6009091490785732, 0.8321418747891467, 0.5950352240893232, 0.5950349822821682, 0.7821790124469991, 0.5941697562643232, 0.5941698045233172, 0.6419574668186803, 0.8050007201714041, 0.5897929005188234, 0.5835792620763638, 0.6821047681900897, 0.8160769631205591, 1.1738300583728696, 1.040950805974796, 0.9700579923602223, 0.997937681282957, 2.8180775618625797, 2.8824504328074023, 1.1576069664253599, 3.4600170267105153, 0.7767277935797463, 0.8560373303974981, 4.966218965922387, 1.916009785741001, 3.7609682223522753, 1.8997744685898916, 3.5219847011788628, 4.846862234326961, 3.3931213916519214, 2.5653705104318645, 1.459548766489985, 1.7940430662795088, 2.614153162872812, 2.4193516944580216, 3.6812606502318515, 1.5355930801535262, 2.943846573367434, 2.040801942162902, 4.036420884243554, 4.7262315756047855, 4.353482733192411, 5.347699658936087, 3.595563517787561, 3.332631673432845, 3.376122701752112, 3.7643251042299797, 3.5070378390877965, 3.109622608790209, 3.186131013842231, 5.246566117177409, 5.906564760888238, 5.288447633059293, 5.270733211671487, 5.949492759242484, 3.710882060818513, 3.977396246099925, 1.5983468170248072, 0.7340486147075977, 0.7191036268997052, 0.7047418727583372, 0.7046217185104111, 0.7009475426867234, 0.9233829101765301, 1.8669656155690117, 0.6470241760026764, 0.7142988667874757, 0.6352113756688018, 0.6288412773360071, 0.6288404811404331, 0.6868829997151421, 0.6148902596910525, 0.9298534791585211, 0.6076063607295932, 0.6054477553859926, 0.6029615010350615, 0.5994281766568413, 0.7385873096903641, 0.6530220433029799, 0.5834092789771734, 0.5834082502824337, 0.5821482889117789, 0.5821480086515924, 0.5821477955727684, 0.6998301215006011, 0.5756739188486257, 0.6891658171529601, 0.9617747164984498, 0.88585125325119, 5.6459207683507096, 1.1925100493532372, 1.0372433191705526, 1.1508339420452314, 1.43134455942321, 1.7460486109166071, 1.6343769359524134, 3.6806095211677663, 1.767410576894703, 3.145857629383969, 2.6154462766390103, 3.9882453960726965, 2.727894154797209, 2.8180775618625797, 1.6003764194804861, 1.8621948683636553, 4.036420884243554, 1.9056995304643594, 5.505256401526233, 5.246566117177409, 2.734372046211621, 2.292946149299478, 4.215277106669959, 3.7643251042299797, 2.943846573367434, 5.906564760888238, 4.414273882981899, 2.5561364888342526, 5.270733211671487, 5.288447633059293, 4.519582695204487, 5.347699658936087, 2.6922795477843504, 3.2026814589544372, 3.66013670702508, 4.39137268564135, 4.725207422865677, 5.949492759242484, 5.324209417123828, 3.309811755119207, 4.7512655902682015, 0.6742850871815044, 0.6732037608767621, 0.6664353101345394, 0.7567943137842013, 1.5078434025448522, 0.6156329214317507, 0.608638520552878, 0.6071168407527151, 0.5993982712749575, 0.5992301234017398, 0.6874333652373829, 0.5970991556493429, 0.5949701083807805, 0.9861591840970054, 0.5896374275471543, 0.7840173346143169, 0.5885288103074369, 0.5881571920862535, 0.5881572327704924, 0.842523156210976, 1.0865370769733564, 0.8291875474724659, 0.7613311610461517, 0.5774829868122501, 0.5774829778670518, 0.6102167697833004, 0.6165803912561698, 0.7420803754692157, 0.5671552684587817, 1.5153154252696557, 1.01603750475671, 1.3174153492141787, 2.0704313087310457, 1.778888104482724, 2.2652270194721895, 2.31347848776455, 2.320803789585599, 1.794168613206863, 2.8672774210804945, 3.0581433470761104, 2.0367642884353168, 1.2708374356426715, 1.1980370081278697, 2.9461267780346856, 3.154239016291904, 1.6556393461276289, 3.66013670702508, 3.680481473330956, 4.098334511014443, 4.7262315756047855, 5.906564760888238, 5.347699658936087, 4.40998703702616, 5.288447633059293, 3.2026814589544372, 3.7643251042299797, 5.949492759242484, 4.173098137408049, 4.846862234326961, 5.6459207683507096, 4.353482733192411, 4.725207422865677, 5.505256401526233, 4.966218965922387, 5.246566117177409, 0.784532592786631, 0.6919249656613216, 0.8064612519485395, 0.9547871502233931, 0.718108325722818, 0.6683330516505006, 0.6257113363212345, 0.8692086386118623, 0.6217752008010586, 1.3222206271755594, 0.6571142408579367, 1.0284234669091354, 0.5957869843892964, 0.5957869691775648, 0.5836609154588143, 0.5836608102811928, 0.5833867113200717, 0.5830901049418677, 0.6100200383761788, 0.5820670257794429, 0.580277246553491, 0.7525747427215294, 0.5789280638550685, 0.5774312112891703, 0.5774307324553365, 0.62198874795698, 0.7850534552108884, 0.5716676248739292, 0.5716673115847216, 0.5672352631039229, 1.333287050899157, 0.9853017228044169, 1.2367907442363322, 1.898977257475091, 0.9410103078346738, 3.026740962747577, 2.652757403091703, 0.9857328847997622, 4.036850620674271, 3.595563517787561, 1.025333757772324, 1.4556512570063058, 1.7186156281393947, 2.040451165092959, 4.39137268564135, 2.784225732094152, 3.309811755119207, 4.519582695204487, 2.6718255980174312, 5.347699658936087, 5.505256401526233, 5.288447633059293, 5.324209417123828, 3.5447418917768503, 2.9283291686058326, 3.254002128459296, 3.416893116004209, 5.949492759242484, 2.3653890289585005, 4.163817350491343, 4.7512655902682015, 3.479513472806678, 5.906564760888238, 5.6459207683507096, 4.162009288364057, 4.7262315756047855, 4.966218965922387, 4.414273882981899, 3.376122701752112, 4.173098137408049, 0.657095708305876, 0.6353676144488616, 0.6253778762272805, 0.6242763701785361, 0.6195312054481747, 0.6180133600985757, 0.6166909127600638, 1.1340570621623045, 0.6481197271617426, 0.6427130776355023, 0.5901381410787168, 0.5901382700075709, 0.7262642993518836, 0.6343588585974594, 0.5815112906495655, 0.6820757109244678, 0.5767256389769898, 0.5767261429999438, 0.8061585562752437, 0.5674637701707481, 0.63812919195521, 0.5602458654638004, 0.5602459239530471, 0.5602459474576775, 0.5602458583677593, 0.5602459598367459, 0.5587788144096807, 0.5587786470106423, 0.5587788254569728, 0.5569436089392501, 0.6738157822269795, 1.6556393461276289, 0.8530660384744209, 1.2883502077560955, 1.3967178139175067, 0.8213636574890196, 1.478895484515314, 3.6806095211677663, 1.2708374356426715, 0.9393589982041075, 5.6459207683507096, 2.6154462766390103, 2.040801942162902, 1.4315447322925512, 2.9461267780346856, 3.548450560142699, 3.0776006782348477, 5.270733211671487, 1.1967082304196934, 5.324209417123828, 3.158610790444468, 5.505256401526233, 4.173098137408049, 2.3076918844299485, 5.906564760888238, 5.949492759242484, 4.7262315756047855, 3.66013670702508, 3.1246249548498537, 1.7944716227990216, 2.8445549471312117, 2.5927813866868514, 3.064691724153085, 4.966218965922387, 2.4349758347874664, 4.7512655902682015, 4.036850620674271, 3.977396246099925, 5.347699658936087, 4.414273882981899, 0.7937971750757692, 0.6737577890097208, 1.1993762552580352, 0.7102059904963166, 0.6052997470263051, 0.5977368864024404, 0.5939757413428555, 0.5824546512571962, 0.9550745376242595, 0.5630689818501927, 0.5630692606235018, 0.5562893453975871, 0.8465253943613035, 0.6321424261951059, 0.5481841135219006, 0.5470283624725668, 0.5470283160233452, 0.546861406617763, 0.5468615955940368, 0.5448692486675971, 0.5448693306572532, 0.5395915709429828, 0.5389053636843597, 0.6065453805208871, 0.5383481226578151, 0.5382416598398735, 0.6496166440197514, 0.5355351884328832, 0.6697617541294271, 0.5320164377804707, 0.726473501959447, 0.9375989304976654, 1.4801366488161447, 1.7764436616765331, 0.9178925898899765, 1.2076041866360678, 2.0623805247105125, 0.8482674179226692, 2.908543771220927, 4.168455375612946, 1.2349010479039815, 1.1273171810269411, 0.8451999016228388, 1.7801016800934497, 4.163817350491343, 4.098334511014443, 5.246566117177409, 2.6718255980174312, 1.8118659352302868, 2.4193516944580216, 1.5519287421831172, 2.37621052368195, 3.064691724153085, 2.2730205176078706, 4.215277106669959, 2.881344948600907, 3.154239016291904, 5.949492759242484, 5.288447633059293, 3.4399440784271356, 5.906564760888238, 5.505256401526233, 3.7609682223522753, 2.8969559836234504, 4.353482733192411, 4.7512655902682015, 4.39137268564135, 3.5219847011788628, 4.966218965922387, 4.162009288364057, 4.725207422865677, 0.6519023385358245, 0.9975423477592332, 0.5935791963258623, 0.5757015464720608, 0.6845113924555053, 0.5680223565473987, 0.6263514223716397, 0.7053926715039832, 0.5521449772156457, 0.5471596865926796, 0.5471596849308632, 0.5430427567804311, 0.5398975746074247, 0.539897829349877, 0.5398979191706376, 0.5398983679670993, 0.5340657595627676, 0.6609601491098654, 0.5308216180697085, 0.5308220698479595, 0.5296447535919002, 0.5296451919636072, 0.5296453838728992, 0.5296453845784148, 0.52964541118044, 0.7807029119677285, 0.5269649869672829, 0.5248591849870022, 0.625651885393595, 1.1893052162463864, 0.6970116666250572, 1.0974949994296432, 0.6874861749795652, 0.649961660259306, 2.532535812337679, 1.047139523224021, 0.6109753746468725, 0.9347180577902691, 0.6713778060884549, 1.1993635251236208, 1.8828192706753424, 5.6459207683507096, 2.464237456452473, 5.906564760888238, 0.9641767467065437, 1.5010153487063869, 4.519582695204487, 2.253125754788179, 3.710882060818513, 1.4416706245696032, 5.324209417123828, 4.098334511014443, 3.2795726057909897, 4.7512655902682015, 1.8259648210725918, 5.505256401526233, 2.1432919630744327, 3.2026814589544372, 5.949492759242484, 4.39137268564135, 5.246566117177409, 5.288447633059293, 2.5959589537241228, 2.967195201271852, 2.8445549471312117, 2.633781677707437, 4.40998703702616, 4.162009288364057, 3.5447418917768503, 4.7262315756047855, 4.725207422865677, 2.8672774210804945, 0.5786963183233997, 0.5763574247810517, 0.5763603364606681, 0.5717259073952925, 0.5476749522162715, 0.5476748286418919, 0.5738184990449167, 0.6034635814281186, 0.8664704192764392, 0.5360804098162787, 0.5348879093026239, 0.5272497047141237, 0.5272505003293667, 0.5118343493625168, 0.5562912384189264, 0.5085766125298516, 0.5085767147333592, 0.5868028951138895, 0.5892148975331944, 0.5066160250071507, 0.5057592934039691, 0.5057600140804954, 0.5027178152066256, 0.5008278139454975, 0.5008279827782179, 0.5008283672322743, 0.49790578372663136, 0.4979060091257255, 0.4979067318396725, 0.722775040095981, 0.7040751178911142, 0.7453359423887236, 0.9837692236363208, 0.7898419271648558, 0.8882578883200476, 0.9906121842175828, 1.7287861367673314, 1.0255987726755182, 0.7264961943151391, 0.7396958342328013, 1.2247946908835035, 1.6350800485029098, 1.1971500098001773, 2.8824504328074023, 4.846862234326961, 2.1882335558800072, 1.3967178139175067, 1.2078456712733083, 4.7512655902682015, 1.5003205395629542, 4.353482733192411, 3.154239016291904, 3.186131013842231, 4.215277106669959, 5.246566117177409, 3.416893116004209, 5.949492759242484, 2.8784207263136197, 3.5578311570714245, 5.288447633059293, 3.634915994190737, 2.31347848776455, 3.7609682223522753, 2.733898174358817, 5.906564760888238, 5.505256401526233, 2.5948527661857415, 4.519582695204487, 5.347699658936087, 2.5054283096016987, 2.3635881182990177, 3.479513472806678, 2.7020723417256467, 0.7580051057562802, 0.6732699746676716, 0.5808119684144623, 0.5644495440414706, 0.5641607107130231, 0.5461946649455723, 0.5455604140417185, 0.5294946550048159, 0.5236217646710475, 0.5236219313688876, 0.5236225543791339, 0.5233654010027894, 0.5217973685744237, 0.521797738121401, 0.5217979037451027, 0.8713274519752813, 0.5157299216160076, 0.5143942545973791, 0.5143946967884413, 0.5143949026562089, 0.6144797085575681, 0.5053525782340706, 0.5553340675568131, 0.5003308633033279, 0.5002092655852207, 0.49882730968267763, 0.4971243940544901, 0.5621259328536183, 0.4963178157840514, 0.49631773263858814, 1.1681058688869537, 0.7442931474078412, 1.2565053433057918, 0.9906121842175828, 0.9644104200668344, 0.6092455885307849, 1.05434203946558, 2.8973284915884765, 0.9971734208344993, 1.1340570621623045, 1.2181839330639783, 0.8045783801918645, 3.026740962747577, 4.39137268564135, 3.595563517787561, 5.324209417123828, 3.479513472806678, 1.7020619043444214, 4.519582695204487, 2.734372046211621, 1.3849138838933222, 3.6812606502318515, 3.2795726057909897, 2.041939443581343, 2.2730205176078706, 3.5447418917768503, 2.908543771220927, 2.532535812337679, 2.5054283096016987, 4.7512655902682015, 2.590623336029647, 5.246566117177409, 4.168455375612946, 5.906564760888238, 5.949492759242484, 5.288447633059293, 3.0581433470761104, 3.548450560142699], \"logprob\": [30.0, 29.0, 28.0, 27.0, 26.0, 25.0, 24.0, 23.0, 22.0, 21.0, 20.0, 19.0, 18.0, 17.0, 16.0, 15.0, 14.0, 13.0, 12.0, 11.0, 10.0, 9.0, 8.0, 7.0, 6.0, 5.0, 4.0, 3.0, 2.0, 1.0, -7.1292, -7.2376, -7.3321, -7.17, -6.6901, -7.2783, -7.4148, -7.4296, -7.4323, -6.9713, -7.4575, -7.4984, -7.1433, -7.1123, -7.4943, -7.5923, -7.6178, -7.3837, -7.6281, -7.3882, -7.4022, -7.0257, -7.4851, -7.6641, -7.1404, -7.6657, -7.6682, -7.6693, -7.6693, -7.6813, -7.5913, -6.6439, -6.7518, -6.728, -6.5883, -6.5564, -6.8095, -5.8431, -6.5311, -6.099, -7.0641, -6.0872, -6.7393, -6.7953, -6.8646, -6.9518, -6.404, -6.3165, -6.6748, -6.7273, -6.1692, -6.6041, -6.329, -6.66, -6.5245, -6.6778, -6.3876, -6.5166, -6.4255, -6.5235, -6.5207, -6.5881, -6.5029, -6.529, -6.5655, -6.629, -6.6061, -6.6383, -6.6713, -6.6639, -6.6697, -7.1289, -7.1779, -7.2323, -6.8142, -6.8744, -7.4599, -6.6293, -7.3737, -7.4892, -7.5008, -7.2579, -7.5462, -7.5513, -7.5676, -7.5676, -7.5687, -7.5918, -7.5918, -7.5951, -7.5951, -7.2764, -7.6199, -7.6199, -7.3479, -7.6237, -7.6237, -7.5575, -7.3315, -7.6427, -7.6703, -7.5168, -7.342, -7.011, -7.1205, -7.185, -7.18, -6.302, -6.2983, -7.0684, -6.2138, -7.3988, -7.33, -6.0702, -6.7508, -6.2757, -6.7677, -6.366, -6.2062, -6.4679, -6.6612, -7.0014, -6.8839, -6.6817, -6.7288, -6.5351, -6.9906, -6.676, -6.8531, -6.5581, -6.4992, -6.5491, -6.4954, -6.6502, -6.6936, -6.6914, -6.655, -6.6881, -6.7245, -6.7233, -6.6122, -6.5995, -6.6398, -6.6879, -6.699, -6.7201, -6.7198, -6.2337, -7.1359, -7.1769, -7.2178, -7.2182, -7.229, -6.9591, -6.331, -7.402, -7.3173, -7.4442, -7.4678, -7.4678, -7.3905, -7.5214, -7.12, -7.5505, -7.5594, -7.5696, -7.5844, -7.38, -7.519, -7.6541, -7.6541, -7.6598, -7.6598, -7.6598, -7.4825, -7.6896, -7.5124, -7.1867, -7.2729, -5.6817, -7.0434, -7.1659, -7.0849, -6.9174, -6.763, -6.8272, -6.2274, -6.7725, -6.3745, -6.5164, -6.2965, -6.5559, -6.5414, -6.9115, -6.8304, -6.3818, -6.8396, -6.2853, -6.3185, -6.6644, -6.7754, -6.5022, -6.5743, -6.6737, -6.4128, -6.5308, -6.7381, -6.4762, -6.4803, -6.5589, -6.5119, -6.7296, -6.682, -6.6462, -6.608, -6.6231, -6.6314, -6.651, -6.7307, -6.7265, -7.2515, -7.255, -7.2772, -7.1534, -6.5454, -7.4612, -7.4894, -7.4956, -7.5279, -7.5286, -7.3965, -7.5377, -7.5469, -7.0508, -7.5702, -7.2853, -7.5752, -7.5769, -7.5769, -7.2217, -6.9749, -7.254, -7.3439, -7.6257, -7.6257, -7.5867, -7.5806, -7.3993, -7.6752, -6.7207, -7.1324, -6.9038, -6.538, -6.6925, -6.5098, -6.5777, -6.6195, -6.7995, -6.4859, -6.4841, -6.7501, -7.055, -7.0996, -6.5931, -6.5582, -6.9324, -6.5685, -6.5768, -6.5594, -6.5007, -6.4207, -6.4635, -6.5459, -6.4804, -6.6847, -6.6284, -6.4837, -6.6167, -6.5832, -6.5817, -6.6804, -6.6998, -6.6922, -6.7336, -6.7315, -7.0508, -7.1866, -7.0795, -6.932, -7.2336, -7.3422, -7.4127, -7.0897, -7.428, -6.7134, -7.4212, -6.9768, -7.5346, -7.5346, -7.5885, -7.5885, -7.5898, -7.5911, -7.5487, -7.5958, -7.6041, -7.3475, -7.6104, -7.6174, -7.6174, -7.546, -7.318, -7.6449, -7.6449, -7.6665, -6.8121, -7.1151, -6.921, -6.6314, -7.2249, -6.2925, -6.4409, -7.2008, -6.2419, -6.3701, -7.2123, -6.9853, -6.8907, -6.7901, -6.3179, -6.6044, -6.5179, -6.3626, -6.6519, -6.2798, -6.2712, -6.3008, -6.3107, -6.5256, -6.6334, -6.5815, -6.5852, -6.3552, -6.7569, -6.5502, -6.5057, -6.6168, -6.4375, -6.4695, -6.5684, -6.5604, -6.5589, -6.6307, -6.6918, -6.7088, -7.137, -7.2157, -7.254, -7.2584, -7.2772, -7.2833, -7.2887, -6.6963, -7.3031, -7.3152, -7.4025, -7.4025, -7.2081, -7.3507, -7.4424, -7.2832, -7.4653, -7.4653, -7.1331, -7.5111, -7.4097, -7.5483, -7.5483, -7.5483, -7.5483, -7.5483, -7.556, -7.556, -7.556, -7.5658, -7.3828, -6.5706, -7.1742, -6.8212, -6.7623, -7.2276, -6.799, -6.1174, -6.9281, -7.1709, -6.0111, -6.5411, -6.7079, -6.9465, -6.5556, -6.4622, -6.548, -6.327, -7.0528, -6.3912, -6.6228, -6.4168, -6.5545, -6.7965, -6.431, -6.4445, -6.5532, -6.6469, -6.7049, -6.9044, -6.7721, -6.8056, -6.7832, -6.6741, -6.8493, -6.7455, -6.7723, -6.7916, -6.7891, -6.7974, -6.693, -7.0275, -6.5188, -7.0992, -7.2843, -7.3171, -7.3339, -7.3871, -6.9335, -7.4835, -7.4835, -7.5196, -7.119, -7.4113, -7.5644, -7.571, -7.571, -7.572, -7.572, -7.5834, -7.5834, -7.6143, -7.6184, -7.5017, -7.6217, -7.6223, -7.4346, -7.6387, -7.4171, -7.6604, -7.3575, -7.1385, -6.7553, -6.6816, -7.2147, -7.0402, -6.7471, -7.3065, -6.5526, -6.3406, -7.0873, -7.1444, -7.3174, -6.8979, -6.4548, -6.4716, -6.3587, -6.7183, -6.9192, -6.7952, -7.0065, -6.8157, -6.7115, -6.8452, -6.5926, -6.774, -6.7702, -6.5787, -6.6227, -6.7794, -6.6352, -6.6733, -6.7807, -6.8423, -6.7597, -6.7429, -6.7814, -6.814, -6.8019, -6.8208, -6.8311, -7.016, -6.725, -7.2508, -7.3353, -7.1663, -7.3739, -7.2872, -7.195, -7.4589, -7.4872, -7.4872, -7.5111, -7.5298, -7.5298, -7.5298, -7.5298, -7.5654, -7.3537, -7.5858, -7.5858, -7.5933, -7.5933, -7.5933, -7.5933, -7.5933, -7.2145, -7.6105, -7.6243, -7.4512, -6.8131, -7.3484, -6.9865, -7.3972, -7.4397, -6.4531, -7.1397, -7.4976, -7.2249, -7.4368, -7.077, -6.814, -6.1666, -6.6818, -6.2151, -7.2262, -7.0078, -6.457, -6.8098, -6.5915, -7.0436, -6.4343, -6.5573, -6.6687, -6.525, -6.9559, -6.5217, -6.9, -6.749, -6.5299, -6.6508, -6.5971, -6.5948, -6.8492, -6.81, -6.8387, -6.8608, -6.7308, -6.7594, -6.8124, -6.7812, -6.8085, -6.8958, -7.1388, -7.1505, -7.1506, -7.1742, -7.3067, -7.3067, -7.2742, -7.2381, -6.8938, -7.3774, -7.385, -7.4349, -7.4349, -7.5439, -7.4633, -7.5685, -7.5685, -7.4298, -7.4297, -7.5836, -7.5903, -7.5903, -7.6144, -7.6297, -7.6297, -7.6297, -7.6537, -7.6537, -7.6537, -7.2842, -7.3128, -7.2716, -7.0113, -7.2463, -7.1529, -7.0841, -6.6519, -7.0663, -7.3625, -7.3526, -7.0467, -6.8921, -7.1173, -6.7007, -6.4576, -6.8369, -7.0508, -7.1237, -6.6058, -7.0624, -6.7044, -6.814, -6.8173, -6.7583, -6.7149, -6.835, -6.6882, -6.8845, -6.8338, -6.7722, -6.8654, -6.9649, -6.8673, -6.9321, -6.8081, -6.8247, -6.967, -6.9042, -6.8935, -6.982, -6.9922, -6.9628, -6.9986, -6.6656, -6.9007, -7.0569, -7.1416, -7.1432, -7.2455, -7.2494, -7.3511, -7.3911, -7.3911, -7.3911, -7.3928, -7.4038, -7.4038, -7.4038, -6.9216, -7.4473, -7.4572, -7.4572, -7.4572, -7.3107, -7.5265, -7.4372, -7.5672, -7.5683, -7.5798, -7.5941, -7.4721, -7.601, -7.601, -6.7741, -7.2148, -6.7729, -7.0237, -7.0535, -7.424, -7.0312, -6.396, -7.1061, -7.0424, -7.0383, -7.2407, -6.6067, -6.4394, -6.5369, -6.3873, -6.586, -6.9068, -6.5052, -6.7148, -6.9972, -6.6149, -6.6966, -6.8829, -6.8617, -6.7246, -6.7878, -6.8836, -6.9004, -6.7853, -6.8981, -6.7902, -6.8298, -6.7841, -6.7888, -6.8162, -6.8863, -6.8842]}};\n",
       "\n",
       "function LDAvis_load_lib(url, callback){\n",
       "  var s = document.createElement('script');\n",
       "  s.src = url;\n",
       "  s.async = true;\n",
       "  s.onreadystatechange = s.onload = callback;\n",
       "  s.onerror = function(){console.warn(\"failed to load library \" + url);};\n",
       "  document.getElementsByTagName(\"head\")[0].appendChild(s);\n",
       "}\n",
       "\n",
       "if(typeof(LDAvis) !== \"undefined\"){\n",
       "   // already loaded: just create the visualization\n",
       "   !function(LDAvis){\n",
       "       new LDAvis(\"#\" + \"ldavis_el87444577313128742596043\", ldavis_el87444577313128742596043_data);\n",
       "   }(LDAvis);\n",
       "}else if(typeof define === \"function\" && define.amd){\n",
       "   // require.js is available: use it to load d3/LDAvis\n",
       "   require.config({paths: {d3: \"https://cdnjs.cloudflare.com/ajax/libs/d3/3.5.5/d3.min\"}});\n",
       "   require([\"d3\"], function(d3){\n",
       "      window.d3 = d3;\n",
       "      LDAvis_load_lib(\"https://cdn.rawgit.com/bmabey/pyLDAvis/files/ldavis.v1.0.0.js\", function(){\n",
       "        new LDAvis(\"#\" + \"ldavis_el87444577313128742596043\", ldavis_el87444577313128742596043_data);\n",
       "      });\n",
       "    });\n",
       "}else{\n",
       "    // require.js not available: dynamically load d3 & LDAvis\n",
       "    LDAvis_load_lib(\"https://cdnjs.cloudflare.com/ajax/libs/d3/3.5.5/d3.min.js\", function(){\n",
       "         LDAvis_load_lib(\"https://cdn.rawgit.com/bmabey/pyLDAvis/files/ldavis.v1.0.0.js\", function(){\n",
       "                 new LDAvis(\"#\" + \"ldavis_el87444577313128742596043\", ldavis_el87444577313128742596043_data);\n",
       "            })\n",
       "         });\n",
       "}\n",
       "</script>"
      ],
      "text/plain": [
       "PreparedData(topic_coordinates=            Freq  cluster  topics         x         y\n",
       "topic                                                \n",
       "6      15.260653  1        1      -0.025663 -0.021131\n",
       "1      12.163047  1        2      -0.009970 -0.010553\n",
       "2      11.971525  1        3      -0.024737  0.023335\n",
       "3      11.192089  1        4      -0.005801  0.004761\n",
       "7      11.060279  1        5       0.012749 -0.013599\n",
       "8      9.242364   1        6       0.005622  0.024445\n",
       "5      8.714455   1        7       0.008744 -0.010114\n",
       "4      7.946618   1        8       0.007959 -0.003815\n",
       "9      6.469862   1        9       0.011113  0.002394\n",
       "0      5.979108   1        10      0.019984  0.004279, topic_info=     Category      Freq         Term     Total  loglift  logprob\n",
       "term                                                            \n",
       "1502  Default  5.000000  tsa          5.000000  30.0000  30.0000\n",
       "4627  Default  1.000000  pre          1.000000  29.0000  29.0000\n",
       "1501  Default  1.000000  de           1.000000  28.0000  28.0000\n",
       "2589  Default  1.000000  library      1.000000  27.0000  27.0000\n",
       "3755  Default  3.000000  helpful      3.000000  26.0000  26.0000\n",
       "3084  Default  1.000000  fly          1.000000  25.0000  25.0000\n",
       "3434  Default  3.000000  airport      3.000000  24.0000  24.0000\n",
       "2897  Default  1.000000  ir           1.000000  23.0000  23.0000\n",
       "456   Default  2.000000  vote         2.000000  22.0000  22.0000\n",
       "41    Default  1.000000  passport     1.000000  21.0000  21.0000\n",
       "1783  Default  0.000000  eh           0.000000  20.0000  20.0000\n",
       "636   Default  2.000000  ap           2.000000  19.0000  19.0000\n",
       "3653  Default  1.000000  fun          1.000000  18.0000  18.0000\n",
       "788   Default  1.000000  checkpoint   1.000000  17.0000  17.0000\n",
       "1417  Default  1.000000  appreciate   1.000000  16.0000  16.0000\n",
       "2258  Default  0.000000  sprinter     0.000000  15.0000  15.0000\n",
       "1709  Default  2.000000  terminal     2.000000  14.0000  14.0000\n",
       "1715  Default  0.000000  entrance     0.000000  13.0000  13.0000\n",
       "2092  Default  1.000000  ye           1.000000  12.0000  12.0000\n",
       "4551  Default  0.000000  liquid       0.000000  11.0000  11.0000\n",
       "5026  Default  1.000000  rtc          1.000000  10.0000  10.0000\n",
       "1078  Default  1.000000  counter      1.000000  9.0000   9.0000 \n",
       "1863  Default  0.000000  title        0.000000  8.0000   8.0000 \n",
       "357   Default  1.000000  jury         1.000000  7.0000   7.0000 \n",
       "4451  Default  1.000000  sometime     1.000000  6.0000   6.0000 \n",
       "1370  Default  1.000000  daughter     1.000000  5.0000   5.0000 \n",
       "534   Default  1.000000  s            1.000000  4.0000   4.0000 \n",
       "920   Default  2.000000  location     2.000000  3.0000   3.0000 \n",
       "3095  Default  2.000000  agent        2.000000  2.0000   2.0000 \n",
       "4502  Default  4.000000  water        4.000000  1.0000   1.0000 \n",
       "...       ...       ...    ...             ...     ...      ... \n",
       "5456  Topic10  0.191649  leak         0.997173  1.1676  -7.1061 \n",
       "2589  Topic10  0.204257  library      1.134057  1.1027  -7.0424 \n",
       "666   Topic10  0.205096  appointment  1.218184  1.0353  -7.0383 \n",
       "3861  Topic10  0.167523  dad          0.804578  1.2477  -7.2407 \n",
       "3755  Topic10  0.315783  helpful      3.026741  0.5567  -6.6067 \n",
       "4029  Topic10  0.373300  like         4.391373  0.3519  -6.4394 \n",
       "2341  Topic10  0.338613  friendly     3.595564  0.4543  -6.5369 \n",
       "3056  Topic10  0.393250  wait         5.324209  0.2113  -6.3873 \n",
       "5172  Topic10  0.322403  nice         3.479513  0.4381  -6.5860 \n",
       "4113  Topic10  0.233914  hate         1.702062  0.8323  -6.9068 \n",
       "1425  Topic10  0.349534  office       4.519583  0.2573  -6.5052 \n",
       "4236  Topic10  0.283421  rail         2.734372  0.5502  -6.7148 \n",
       "3376  Topic10  0.213710  file         1.384914  0.9481  -6.9972 \n",
       "1391  Topic10  0.313224  work         3.681261  0.3528  -6.6149 \n",
       "3493  Topic10  0.288652  good         3.279573  0.3867  -6.6966 \n",
       "3796  Topic10  0.239575  30           2.041939  0.6741  -6.8829 \n",
       "1800  Topic10  0.244719  care         2.273021  0.5881  -6.8617 \n",
       "3170  Topic10  0.280677  long         3.544742  0.2809  -6.7246 \n",
       "713   Topic10  0.263473  door         2.908544  0.4154  -6.7878 \n",
       "920   Topic10  0.239417  location     2.532536  0.4581  -6.8836 \n",
       "4059  Topic10  0.235416  guard        2.505428  0.4520  -6.9004 \n",
       "1593  Topic10  0.264151  security     4.751266 -0.0727  -6.7853 \n",
       "5369  Topic10  0.235964  job          2.590623  0.4209  -6.8981 \n",
       "322   Topic10  0.262843  time         5.246566 -0.1769  -6.7902 \n",
       "4502  Topic10  0.252644  water        4.168455  0.0136  -6.8298 \n",
       "2334  Topic10  0.264466  go           5.906565 -0.2892  -6.7841 \n",
       "3234  Topic10  0.263206  get          5.949493 -0.3012  -6.7888 \n",
       "271   Topic10  0.256103  people       5.288448 -0.2108  -6.8162 \n",
       "2382  Topic10  0.238777  ride         3.058143  0.2669  -6.8863 \n",
       "2678  Topic10  0.239268  even         3.548451  0.1202  -6.8842 \n",
       "\n",
       "[739 rows x 6 columns], token_table=      Topic      Freq        Term\n",
       "term                             \n",
       "464   2      0.320038  2         \n",
       "3324  1      0.444483  4         \n",
       "4824  1      0.370086  5         \n",
       "3821  2      0.678556  account   \n",
       "2085  4      0.430885  actually  \n",
       "3095  3      0.382344  agent     \n",
       "3095  6      0.382344  agent     \n",
       "3434  3      0.271694  airport   \n",
       "3434  6      0.271694  airport   \n",
       "807   1      0.341492  also      \n",
       "807   5      0.341492  also      \n",
       "4540  5      0.374276  alway     \n",
       "636   2      0.346927  ap        \n",
       "1417  4      0.663199  appreciate\n",
       "575   6      0.324928  around    \n",
       "384   1      0.537909  awesome   \n",
       "3707  1      0.285141  back      \n",
       "3707  2      0.285141  back      \n",
       "2843  5      0.422763  bag       \n",
       "2044  4      0.432250  base      \n",
       "3648  1      0.265889  bill      \n",
       "3648  2      0.265889  bill      \n",
       "3568  1      0.379682  build     \n",
       "4071  1      0.206319  bus       \n",
       "4071  2      0.206319  bus       \n",
       "4071  3      0.206319  bus       \n",
       "4071  4      0.206319  bus       \n",
       "1225  3      0.371432  ca        \n",
       "2711  1      0.240164  call      \n",
       "2711  2      0.240164  call      \n",
       "...  ..           ...   ...      \n",
       "1502  5      0.177119  tsa       \n",
       "1502  6      0.177119  tsa       \n",
       "1502  8      0.177119  tsa       \n",
       "4585  1      0.579866  turn      \n",
       "3396  1      0.269478  u         \n",
       "3396  2      0.269478  u         \n",
       "3396  4      0.269478  u         \n",
       "3074  2      0.376966  visit     \n",
       "3074  5      0.376966  visit     \n",
       "3056  1      0.187821  wait      \n",
       "3056  2      0.187821  wait      \n",
       "3056  3      0.187821  wait      \n",
       "3056  4      0.187821  wait      \n",
       "3056  5      0.187821  wait      \n",
       "3056  6      0.187821  wait      \n",
       "5381  1      0.321582  walk      \n",
       "5381  2      0.321582  walk      \n",
       "63    1      0.372315  want      \n",
       "4502  1      0.239897  water     \n",
       "4502  2      0.239897  water     \n",
       "4502  5      0.239897  water     \n",
       "4502  7      0.239897  water     \n",
       "1621  3      0.312238  way       \n",
       "1621  4      0.312238  way       \n",
       "2565  1      0.337019  well      \n",
       "2290  3      0.565799  within    \n",
       "1391  2      0.271646  work      \n",
       "4855  2      0.389807  worst     \n",
       "4155  1      0.240269  would     \n",
       "4155  5      0.240269  would     \n",
       "\n",
       "[259 rows x 3 columns], R=30, lambda_step=0.01, plot_opts={'xlab': 'PC1', 'ylab': 'PC2'}, topic_order=[7, 2, 3, 4, 8, 9, 6, 5, 10, 1])"
      ]
     },
     "execution_count": 224,
     "metadata": {},
     "output_type": "execute_result"
    }
   ],
   "source": [
    "# Credit http://nbviewer.jupyter.org/github/bmabey/pyLDAvis/blob/master/notebooks/pyLDAvis_overview.ipynb\n",
    "pyLDAvis.gensim.prepare(PSG_lda, tfidf_sparse, yelp_dictionary)"
   ]
  },
  {
   "cell_type": "code",
   "execution_count": 231,
   "metadata": {
    "collapsed": false,
    "slideshow": {
     "slide_type": "subslide"
    }
   },
   "outputs": [
    {
     "data": {
      "text/html": [
       "\n",
       "<link rel=\"stylesheet\" type=\"text/css\" href=\"https://cdn.rawgit.com/bmabey/pyLDAvis/files/ldavis.v1.0.0.css\">\n",
       "\n",
       "\n",
       "<div id=\"ldavis_el8744465320240882661546\"></div>\n",
       "<script type=\"text/javascript\">\n",
       "\n",
       "var ldavis_el8744465320240882661546_data = {\"plot.opts\": {\"xlab\": \"PC1\", \"ylab\": \"PC2\"}, \"topic.order\": [7, 2, 3, 4, 8, 9, 6, 5, 10, 1], \"token.table\": {\"Topic\": [2, 1, 1, 2, 4, 3, 6, 3, 6, 1, 5, 5, 2, 4, 6, 1, 1, 2, 4, 1, 2, 1, 1, 2, 3, 4, 3, 1, 2, 5, 7, 2, 5, 2, 1, 2, 3, 4, 7, 3, 1, 1, 2, 3, 1, 2, 1, 4, 1, 3, 4, 1, 2, 1, 2, 1, 4, 5, 7, 1, 1, 5, 1, 1, 1, 6, 4, 1, 2, 2, 1, 3, 4, 2, 5, 1, 6, 1, 2, 3, 4, 5, 6, 2, 1, 1, 2, 3, 4, 5, 6, 8, 1, 2, 3, 4, 1, 1, 5, 5, 3, 1, 3, 5, 1, 1, 1, 4, 4, 3, 1, 3, 5, 1, 3, 4, 5, 6, 1, 5, 1, 3, 4, 1, 2, 3, 1, 4, 6, 1, 3, 5, 2, 3, 1, 2, 3, 4, 5, 6, 1, 2, 3, 4, 1, 5, 1, 1, 3, 5, 1, 2, 4, 1, 3, 5, 1, 1, 2, 3, 6, 1, 2, 1, 2, 3, 4, 5, 1, 2, 3, 4, 5, 6, 2, 3, 2, 5, 1, 5, 3, 2, 1, 1, 4, 1, 2, 3, 3, 2, 3, 1, 2, 3, 5, 1, 1, 2, 4, 5, 2, 1, 1, 4, 3, 5, 1, 2, 3, 4, 5, 1, 2, 3, 5, 1, 2, 3, 4, 7, 1, 1, 2, 3, 4, 3, 3, 4, 5, 6, 8, 1, 1, 2, 4, 2, 5, 1, 2, 3, 4, 5, 6, 1, 2, 1, 1, 2, 5, 7, 3, 4, 1, 3, 2, 2, 1, 5], \"Freq\": [0.32019058401678163, 0.44396945783613234, 0.36996822226081527, 0.6782527364925721, 0.43145625843446284, 0.38277854336330946, 0.38277854336330946, 0.2718774787979438, 0.2718774787979438, 0.3417156415598172, 0.3417156415598172, 0.3741099370358082, 0.3463895763901748, 0.6643483195474101, 0.3251241002199403, 0.5376377420392323, 0.28508798239231664, 0.28508798239231664, 0.4324944176588143, 0.2656255940384214, 0.2656255940384214, 0.3796567596512706, 0.2061744823495085, 0.2061744823495085, 0.2061744823495085, 0.2061744823495085, 0.3710508315933963, 0.24008674706865918, 0.24008674706865918, 0.24008674706865918, 0.24008674706865918, 0.29639006668717455, 0.29639006668717455, 0.3851811154311567, 0.24406360131878213, 0.24406360131878213, 0.24406360131878213, 0.24406360131878213, 0.24406360131878213, 0.5373821949076549, 0.6476772370814443, 0.25066988709934146, 0.25066988709934146, 0.25066988709934146, 0.29991867043261233, 0.29991867043261233, 0.4332698498180208, 0.31697097330034085, 0.21150789380674606, 0.21150789380674606, 0.21150789380674606, 0.28894702717372794, 0.28894702717372794, 0.2835831735281343, 0.2835831735281343, 0.22684207994093547, 0.22684207994093547, 0.22684207994093547, 0.8321681836055667, 0.40617317995049906, 0.44846039177714686, 0.5279516734579285, 0.38531052841514707, 0.5576287468705308, 0.6932634637824152, 0.28211900659823264, 0.6615300776373864, 0.46804156205653547, 0.5262244483476474, 0.29083006102197617, 0.5367730102532161, 0.5348767866743207, 0.563183923552764, 0.2783874663239127, 0.2783874663239127, 0.5006586752872406, 0.6057434252521949, 0.16811548376422653, 0.16811548376422653, 0.16811548376422653, 0.16811548376422653, 0.16811548376422653, 0.16811548376422653, 0.3138451142490581, 0.774493128146849, 0.16939246436191938, 0.16939246436191938, 0.16939246436191938, 0.16939246436191938, 0.16939246436191938, 0.16939246436191938, 0.16939246436191938, 0.304852067023972, 0.2733099287269242, 0.2733099287269242, 0.2733099287269242, 0.36549945832454345, 0.2926494050830167, 0.2926494050830167, 0.3306221358956535, 0.39143504468766277, 0.24779865312333893, 0.24779865312333893, 0.24779865312333893, 0.8407206139192659, 0.594726013341898, 0.27176822432368913, 0.27176822432368913, 0.4423393602060188, 0.3667353501765922, 0.2277987449877158, 0.2277987449877158, 0.2277987449877158, 0.1817294258308951, 0.1817294258308951, 0.1817294258308951, 0.1817294258308951, 0.1817294258308951, 0.2822663879636812, 0.2822663879636812, 0.31664214166201265, 0.3493000950046607, 0.3493000950046607, 0.2514554775976418, 0.2514554775976418, 0.6113113895231569, 0.3400820531164343, 0.3400820531164343, 0.3400820531164343, 0.22652516992077237, 0.22652516992077237, 0.22652516992077237, 0.38227579644843473, 0.3178724299427411, 0.21175752280235244, 0.21175752280235244, 0.21175752280235244, 0.21175752280235244, 0.21175752280235244, 0.21175752280235244, 0.2477736981937086, 0.2477736981937086, 0.2477736981937086, 0.49146196717954443, 0.2875293507338215, 0.2875293507338215, 0.28088965903737345, 0.2212783605163326, 0.2212783605163326, 0.2212783605163326, 0.22964668810548666, 0.22964668810548666, 0.22964668810548666, 0.40886102487810394, 0.30241651111661394, 0.30241651111661394, 0.41706620695552715, 0.3793267829123872, 0.1896633914561936, 0.1896633914561936, 0.1896633914561936, 0.2945373430023574, 0.2945373430023574, 0.18917678965805418, 0.18917678965805418, 0.18917678965805418, 0.18917678965805418, 0.18917678965805418, 0.2397956197667373, 0.2397956197667373, 0.2397956197667373, 0.2397956197667373, 0.2397956197667373, 0.2397956197667373, 0.521380379098696, 0.6253558708091898, 0.41332032350504305, 0.7582265865709895, 0.3436180341554611, 0.3436180341554611, 0.36590655291159346, 0.9298081910368966, 0.883665115377855, 0.32735683024269013, 0.32735683024269013, 0.34685524912732946, 0.33954843363384973, 0.33954843363384973, 0.5713626252927761, 0.23717978658813027, 0.23717978658813027, 0.2105013784086952, 0.2105013784086952, 0.2105013784086952, 0.2105013784086952, 0.2750705842735699, 0.2013800086172686, 0.2013800086172686, 0.2013800086172686, 0.2013800086172686, 0.490076886999047, 0.34505411614195064, 0.3644652986541825, 0.4836607854766988, 0.524579087486184, 0.3591524963646282, 0.1870446211732421, 0.1870446211732421, 0.1870446211732421, 0.1870446211732421, 0.1870446211732421, 0.2764319783303712, 0.35428792534868875, 0.35428792534868875, 0.307576191712422, 0.19046348899214968, 0.19046348899214968, 0.19046348899214968, 0.19046348899214968, 0.19046348899214968, 0.5735104429684432, 0.26575411525951825, 0.26575411525951825, 0.26575411525951825, 0.26575411525951825, 0.43617305993277394, 0.3546733574871956, 0.1773366787435978, 0.1773366787435978, 0.1773366787435978, 0.1773366787435978, 0.5793019516890986, 0.2695960974579764, 0.2695960974579764, 0.2695960974579764, 0.3772666935299877, 0.3772666935299877, 0.18793297522982358, 0.18793297522982358, 0.18793297522982358, 0.18793297522982358, 0.18793297522982358, 0.18793297522982358, 0.3214901232039336, 0.3214901232039336, 0.3722377384865691, 0.23972889272516743, 0.23972889272516743, 0.23972889272516743, 0.23972889272516743, 0.3124429431065898, 0.3124429431065898, 0.3369367286790377, 0.565551805921839, 0.27163698639162576, 0.3897234324763161, 0.24034904367582333, 0.24034904367582333], \"Term\": [\"2\", \"4\", \"5\", \"account\", \"actually\", \"agent\", \"agent\", \"airport\", \"airport\", \"also\", \"also\", \"alway\", \"ap\", \"appreciate\", \"around\", \"awesome\", \"back\", \"back\", \"base\", \"bill\", \"bill\", \"build\", \"bus\", \"bus\", \"bus\", \"bus\", \"ca\", \"call\", \"call\", \"call\", \"call\", \"can\", \"can\", \"car\", \"card\", \"card\", \"card\", \"card\", \"card\", \"center\", \"certificate\", \"check\", \"check\", \"check\", \"city\", \"city\", \"clean\", \"close\", \"come\", \"come\", \"come\", \"company\", \"company\", \"customer\", \"customer\", \"day\", \"day\", \"day\", \"de\", \"deal\", \"different\", \"dmv\", \"drive\", \"due\", \"east\", \"even\", \"event\", \"everythe\", \"expect\", \"experience\", \"fee\", \"fly\", \"friend\", \"friendly\", \"friendly\", \"front\", \"fun\", \"get\", \"get\", \"get\", \"get\", \"get\", \"get\", \"give\", \"glad\", \"go\", \"go\", \"go\", \"go\", \"go\", \"go\", \"go\", \"good\", \"great\", \"great\", \"great\", \"guy\", \"help\", \"help\", \"helpful\", \"home\", \"hour\", \"hour\", \"hour\", \"ir\", \"joke\", \"know\", \"know\", \"license\", \"light\", \"like\", \"like\", \"like\", \"line\", \"line\", \"line\", \"line\", \"line\", \"long\", \"long\", \"lot\", \"love\", \"love\", \"make\", \"make\", \"meter\", \"mill\", \"mill\", \"mill\", \"minute\", \"minute\", \"minute\", \"money\", \"much\", \"need\", \"need\", \"need\", \"need\", \"need\", \"need\", \"never\", \"never\", \"never\", \"next\", \"nice\", \"nice\", \"number\", \"office\", \"office\", \"office\", \"one\", \"one\", \"one\", \"online\", \"open\", \"open\", \"paperwork\", \"park\", \"park\", \"park\", \"park\", \"pay\", \"pay\", \"people\", \"people\", \"people\", \"people\", \"people\", \"place\", \"place\", \"place\", \"place\", \"place\", \"place\", \"power\", \"pre\", \"precheck\", \"prior\", \"process\", \"process\", \"rail\", \"raise\", \"rep\", \"ride\", \"ride\", \"right\", \"rude\", \"rude\", \"s\", \"say\", \"say\", \"security\", \"security\", \"security\", \"security\", \"see\", \"service\", \"service\", \"service\", \"service\", \"sky\", \"staff\", \"star\", \"state\", \"station\", \"stop\", \"take\", \"take\", \"take\", \"take\", \"take\", \"tell\", \"terminal\", \"terminal\", \"think\", \"time\", \"time\", \"time\", \"time\", \"time\", \"traffic\", \"train\", \"train\", \"train\", \"train\", \"treat\", \"tsa\", \"tsa\", \"tsa\", \"tsa\", \"tsa\", \"turn\", \"u\", \"u\", \"u\", \"visit\", \"visit\", \"wait\", \"wait\", \"wait\", \"wait\", \"wait\", \"wait\", \"walk\", \"walk\", \"want\", \"water\", \"water\", \"water\", \"water\", \"way\", \"way\", \"well\", \"within\", \"work\", \"worst\", \"would\", \"would\"]}, \"mdsDat\": {\"y\": [-0.02113136112889425, -0.010553338936902015, 0.023334932430300537, 0.00476065223721769, -0.013599037958780166, 0.024444935335995767, -0.010114017485787958, -0.0038152354939185885, 0.0023936100813847097, 0.004278860919384292], \"cluster\": [1, 1, 1, 1, 1, 1, 1, 1, 1, 1], \"Freq\": [15.310289302439289, 12.195058508783946, 11.995918290110119, 11.105933573395541, 10.994247830436306, 9.1995273546759, 8.768484342065081, 7.9098180357718, 6.520858874803361, 5.999863887518645], \"topics\": [1, 2, 3, 4, 5, 6, 7, 8, 9, 10], \"x\": [-0.02566288670138514, -0.009969515809610368, -0.024737252239849204, -0.00580132347191528, 0.012749201241005377, 0.005622009720011128, 0.00874426557962203, 0.00795870960842466, 0.011113028975194788, 0.019983763098502152]}, \"R\": 30, \"lambda.step\": 0.01, \"tinfo\": {\"Category\": [\"Default\", \"Default\", \"Default\", \"Default\", \"Default\", \"Default\", \"Default\", \"Default\", \"Default\", \"Default\", \"Default\", \"Default\", \"Default\", \"Default\", \"Default\", \"Default\", \"Default\", \"Default\", \"Default\", \"Default\", \"Default\", \"Default\", \"Default\", \"Default\", \"Default\", \"Default\", \"Default\", \"Default\", \"Default\", \"Default\", \"Topic1\", \"Topic1\", \"Topic1\", \"Topic1\", \"Topic1\", \"Topic1\", \"Topic1\", \"Topic1\", \"Topic1\", \"Topic1\", \"Topic1\", \"Topic1\", \"Topic1\", \"Topic1\", \"Topic1\", \"Topic1\", \"Topic1\", \"Topic1\", \"Topic1\", \"Topic1\", \"Topic1\", \"Topic1\", \"Topic1\", \"Topic1\", \"Topic1\", \"Topic1\", \"Topic1\", \"Topic1\", \"Topic1\", \"Topic1\", \"Topic1\", \"Topic1\", \"Topic1\", \"Topic1\", \"Topic1\", \"Topic1\", \"Topic1\", \"Topic1\", \"Topic1\", \"Topic1\", \"Topic1\", \"Topic1\", \"Topic1\", \"Topic1\", \"Topic1\", \"Topic1\", \"Topic1\", \"Topic1\", \"Topic1\", \"Topic1\", \"Topic1\", \"Topic1\", \"Topic1\", \"Topic1\", \"Topic1\", \"Topic1\", \"Topic1\", \"Topic1\", \"Topic1\", \"Topic1\", \"Topic1\", \"Topic1\", \"Topic1\", \"Topic1\", \"Topic1\", \"Topic1\", \"Topic1\", \"Topic1\", \"Topic1\", \"Topic1\", \"Topic1\", \"Topic2\", \"Topic2\", \"Topic2\", \"Topic2\", \"Topic2\", \"Topic2\", \"Topic2\", \"Topic2\", \"Topic2\", \"Topic2\", \"Topic2\", \"Topic2\", \"Topic2\", \"Topic2\", \"Topic2\", \"Topic2\", \"Topic2\", \"Topic2\", \"Topic2\", \"Topic2\", \"Topic2\", \"Topic2\", \"Topic2\", \"Topic2\", \"Topic2\", \"Topic2\", \"Topic2\", \"Topic2\", \"Topic2\", \"Topic2\", \"Topic2\", \"Topic2\", \"Topic2\", \"Topic2\", \"Topic2\", \"Topic2\", \"Topic2\", \"Topic2\", \"Topic2\", \"Topic2\", \"Topic2\", \"Topic2\", \"Topic2\", \"Topic2\", \"Topic2\", \"Topic2\", \"Topic2\", \"Topic2\", \"Topic2\", \"Topic2\", \"Topic2\", \"Topic2\", \"Topic2\", \"Topic2\", \"Topic2\", \"Topic2\", \"Topic2\", \"Topic2\", \"Topic2\", \"Topic2\", \"Topic2\", \"Topic2\", \"Topic2\", \"Topic2\", \"Topic2\", \"Topic2\", \"Topic2\", \"Topic2\", \"Topic2\", \"Topic2\", \"Topic2\", \"Topic2\", \"Topic2\", \"Topic2\", \"Topic2\", \"Topic2\", \"Topic3\", \"Topic3\", \"Topic3\", \"Topic3\", \"Topic3\", \"Topic3\", \"Topic3\", \"Topic3\", \"Topic3\", \"Topic3\", \"Topic3\", \"Topic3\", \"Topic3\", \"Topic3\", \"Topic3\", \"Topic3\", \"Topic3\", \"Topic3\", \"Topic3\", \"Topic3\", \"Topic3\", \"Topic3\", \"Topic3\", \"Topic3\", \"Topic3\", \"Topic3\", \"Topic3\", \"Topic3\", \"Topic3\", \"Topic3\", \"Topic3\", \"Topic3\", \"Topic3\", \"Topic3\", \"Topic3\", \"Topic3\", \"Topic3\", \"Topic3\", \"Topic3\", \"Topic3\", \"Topic3\", \"Topic3\", \"Topic3\", \"Topic3\", \"Topic3\", \"Topic3\", \"Topic3\", \"Topic3\", \"Topic3\", \"Topic3\", \"Topic3\", \"Topic3\", \"Topic3\", \"Topic3\", \"Topic3\", \"Topic3\", \"Topic3\", \"Topic3\", \"Topic3\", \"Topic3\", \"Topic3\", \"Topic3\", \"Topic3\", \"Topic3\", \"Topic3\", \"Topic3\", \"Topic3\", \"Topic3\", \"Topic3\", \"Topic3\", \"Topic3\", \"Topic3\", \"Topic3\", \"Topic4\", \"Topic4\", \"Topic4\", \"Topic4\", \"Topic4\", \"Topic4\", \"Topic4\", \"Topic4\", \"Topic4\", \"Topic4\", \"Topic4\", \"Topic4\", \"Topic4\", \"Topic4\", \"Topic4\", \"Topic4\", \"Topic4\", \"Topic4\", \"Topic4\", \"Topic4\", \"Topic4\", \"Topic4\", \"Topic4\", \"Topic4\", \"Topic4\", \"Topic4\", \"Topic4\", \"Topic4\", \"Topic4\", \"Topic4\", \"Topic4\", \"Topic4\", \"Topic4\", \"Topic4\", \"Topic4\", \"Topic4\", \"Topic4\", \"Topic4\", \"Topic4\", \"Topic4\", \"Topic4\", \"Topic4\", \"Topic4\", \"Topic4\", \"Topic4\", \"Topic4\", \"Topic4\", \"Topic4\", \"Topic4\", \"Topic4\", \"Topic4\", \"Topic4\", \"Topic4\", \"Topic4\", \"Topic4\", \"Topic4\", \"Topic4\", \"Topic4\", \"Topic4\", \"Topic4\", \"Topic4\", \"Topic4\", \"Topic4\", \"Topic4\", \"Topic4\", \"Topic5\", \"Topic5\", \"Topic5\", \"Topic5\", \"Topic5\", \"Topic5\", \"Topic5\", \"Topic5\", \"Topic5\", \"Topic5\", \"Topic5\", \"Topic5\", \"Topic5\", \"Topic5\", \"Topic5\", \"Topic5\", \"Topic5\", \"Topic5\", \"Topic5\", \"Topic5\", \"Topic5\", \"Topic5\", \"Topic5\", \"Topic5\", \"Topic5\", \"Topic5\", \"Topic5\", \"Topic5\", \"Topic5\", \"Topic5\", \"Topic5\", \"Topic5\", \"Topic5\", \"Topic5\", \"Topic5\", \"Topic5\", \"Topic5\", \"Topic5\", \"Topic5\", \"Topic5\", \"Topic5\", \"Topic5\", \"Topic5\", \"Topic5\", \"Topic5\", \"Topic5\", \"Topic5\", \"Topic5\", \"Topic5\", \"Topic5\", \"Topic5\", \"Topic5\", \"Topic5\", \"Topic5\", \"Topic5\", \"Topic5\", \"Topic5\", \"Topic5\", \"Topic5\", \"Topic5\", \"Topic5\", \"Topic5\", \"Topic5\", \"Topic5\", \"Topic5\", \"Topic5\", \"Topic5\", \"Topic5\", \"Topic5\", \"Topic6\", \"Topic6\", \"Topic6\", \"Topic6\", \"Topic6\", \"Topic6\", \"Topic6\", \"Topic6\", \"Topic6\", \"Topic6\", \"Topic6\", \"Topic6\", \"Topic6\", \"Topic6\", \"Topic6\", \"Topic6\", \"Topic6\", \"Topic6\", \"Topic6\", \"Topic6\", \"Topic6\", \"Topic6\", \"Topic6\", \"Topic6\", \"Topic6\", \"Topic6\", \"Topic6\", \"Topic6\", \"Topic6\", \"Topic6\", \"Topic6\", \"Topic6\", \"Topic6\", \"Topic6\", \"Topic6\", \"Topic6\", \"Topic6\", \"Topic6\", \"Topic6\", \"Topic6\", \"Topic6\", \"Topic6\", \"Topic6\", \"Topic6\", \"Topic6\", \"Topic6\", \"Topic6\", \"Topic6\", \"Topic6\", \"Topic6\", \"Topic6\", \"Topic6\", \"Topic6\", \"Topic6\", \"Topic6\", \"Topic6\", \"Topic6\", \"Topic6\", \"Topic6\", \"Topic6\", \"Topic6\", \"Topic6\", \"Topic6\", \"Topic6\", \"Topic6\", \"Topic6\", \"Topic6\", \"Topic6\", \"Topic6\", \"Topic6\", \"Topic7\", \"Topic7\", \"Topic7\", \"Topic7\", \"Topic7\", \"Topic7\", \"Topic7\", \"Topic7\", \"Topic7\", \"Topic7\", \"Topic7\", \"Topic7\", \"Topic7\", \"Topic7\", \"Topic7\", \"Topic7\", \"Topic7\", \"Topic7\", \"Topic7\", \"Topic7\", \"Topic7\", \"Topic7\", \"Topic7\", \"Topic7\", \"Topic7\", \"Topic7\", \"Topic7\", \"Topic7\", \"Topic7\", \"Topic7\", \"Topic7\", \"Topic7\", \"Topic7\", \"Topic7\", \"Topic7\", \"Topic7\", \"Topic7\", \"Topic7\", \"Topic7\", \"Topic7\", \"Topic7\", \"Topic7\", \"Topic7\", \"Topic7\", \"Topic7\", \"Topic7\", \"Topic7\", \"Topic7\", \"Topic7\", \"Topic7\", \"Topic7\", \"Topic7\", \"Topic7\", \"Topic7\", \"Topic7\", \"Topic7\", \"Topic7\", \"Topic7\", \"Topic7\", \"Topic7\", \"Topic7\", \"Topic7\", \"Topic7\", \"Topic7\", \"Topic7\", \"Topic7\", \"Topic7\", \"Topic7\", \"Topic7\", \"Topic7\", \"Topic7\", \"Topic8\", \"Topic8\", \"Topic8\", \"Topic8\", \"Topic8\", \"Topic8\", \"Topic8\", \"Topic8\", \"Topic8\", \"Topic8\", \"Topic8\", \"Topic8\", \"Topic8\", \"Topic8\", \"Topic8\", \"Topic8\", \"Topic8\", \"Topic8\", \"Topic8\", \"Topic8\", \"Topic8\", \"Topic8\", \"Topic8\", \"Topic8\", \"Topic8\", \"Topic8\", \"Topic8\", \"Topic8\", \"Topic8\", \"Topic8\", \"Topic8\", \"Topic8\", \"Topic8\", \"Topic8\", \"Topic8\", \"Topic8\", \"Topic8\", \"Topic8\", \"Topic8\", \"Topic8\", \"Topic8\", \"Topic8\", \"Topic8\", \"Topic8\", \"Topic8\", \"Topic8\", \"Topic8\", \"Topic8\", \"Topic8\", \"Topic8\", \"Topic8\", \"Topic8\", \"Topic8\", \"Topic8\", \"Topic8\", \"Topic8\", \"Topic8\", \"Topic8\", \"Topic8\", \"Topic8\", \"Topic8\", \"Topic8\", \"Topic8\", \"Topic8\", \"Topic8\", \"Topic8\", \"Topic8\", \"Topic8\", \"Topic8\", \"Topic8\", \"Topic8\", \"Topic8\", \"Topic8\", \"Topic9\", \"Topic9\", \"Topic9\", \"Topic9\", \"Topic9\", \"Topic9\", \"Topic9\", \"Topic9\", \"Topic9\", \"Topic9\", \"Topic9\", \"Topic9\", \"Topic9\", \"Topic9\", \"Topic9\", \"Topic9\", \"Topic9\", \"Topic9\", \"Topic9\", \"Topic9\", \"Topic9\", \"Topic9\", \"Topic9\", \"Topic9\", \"Topic9\", \"Topic9\", \"Topic9\", \"Topic9\", \"Topic9\", \"Topic9\", \"Topic9\", \"Topic9\", \"Topic9\", \"Topic9\", \"Topic9\", \"Topic9\", \"Topic9\", \"Topic9\", \"Topic9\", \"Topic9\", \"Topic9\", \"Topic9\", \"Topic9\", \"Topic9\", \"Topic9\", \"Topic9\", \"Topic9\", \"Topic9\", \"Topic9\", \"Topic9\", \"Topic9\", \"Topic9\", \"Topic9\", \"Topic9\", \"Topic9\", \"Topic9\", \"Topic9\", \"Topic9\", \"Topic9\", \"Topic9\", \"Topic9\", \"Topic9\", \"Topic9\", \"Topic9\", \"Topic9\", \"Topic9\", \"Topic9\", \"Topic9\", \"Topic9\", \"Topic9\", \"Topic9\", \"Topic9\", \"Topic9\", \"Topic10\", \"Topic10\", \"Topic10\", \"Topic10\", \"Topic10\", \"Topic10\", \"Topic10\", \"Topic10\", \"Topic10\", \"Topic10\", \"Topic10\", \"Topic10\", \"Topic10\", \"Topic10\", \"Topic10\", \"Topic10\", \"Topic10\", \"Topic10\", \"Topic10\", \"Topic10\", \"Topic10\", \"Topic10\", \"Topic10\", \"Topic10\", \"Topic10\", \"Topic10\", \"Topic10\", \"Topic10\", \"Topic10\", \"Topic10\", \"Topic10\", \"Topic10\", \"Topic10\", \"Topic10\", \"Topic10\", \"Topic10\", \"Topic10\", \"Topic10\", \"Topic10\", \"Topic10\", \"Topic10\", \"Topic10\", \"Topic10\", \"Topic10\", \"Topic10\", \"Topic10\", \"Topic10\", \"Topic10\", \"Topic10\", \"Topic10\", \"Topic10\", \"Topic10\", \"Topic10\", \"Topic10\", \"Topic10\", \"Topic10\", \"Topic10\", \"Topic10\", \"Topic10\", \"Topic10\", \"Topic10\", \"Topic10\", \"Topic10\", \"Topic10\", \"Topic10\", \"Topic10\", \"Topic10\", \"Topic10\"], \"Term\": [\"tsa\", \"pre\", \"library\", \"de\", \"helpful\", \"airport\", \"fly\", \"ir\", \"vote\", \"passport\", \"eh\", \"fun\", \"ap\", \"appreciate\", \"checkpoint\", \"sprinter\", \"terminal\", \"entrance\", \"ye\", \"liquid\", \"counter\", \"title\", \"rtc\", \"jury\", \"sometime\", \"daughter\", \"location\", \"s\", \"agent\", \"dmv\", \"holy\", \"gum\", \"10a\", \"gross\", \"east\", \"centre\", \"departure\", \"vista\", \"yuck\", \"rep\", \"pregnant\", \"warrior\", \"smoothly\", \"taste\", \"dispute\", \"arrogant\", \"quarter\", \"peak\", \"metropoli\", \"refund\", \"parole\", \"ir\", \"result\", \"school\", \"cuz\", \"soul\", \"vital\", \"8people\", \"validation\", \"allege\", \"inn\", \"awesome\", \"turn\", \"due\", \"everythe\", \"different\", \"joke\", \"park\", \"paperwork\", \"day\", \"glad\", \"come\", \"front\", \"fee\", \"traffic\", \"certificate\", \"number\", \"water\", \"online\", \"4\", \"get\", \"process\", \"bus\", \"want\", \"tell\", \"star\", \"take\", \"place\", \"time\", \"call\", \"minute\", \"bill\", \"go\", \"line\", \"service\", \"check\", \"wait\", \"would\", \"city\", \"know\", \"need\", \"landfill\", \"residence\", \"holocaust\", \"raise\", \"report\", \"tow\", \"account\", \"unbelievable\", \"waitres\", \"therefore\", \"moron\", \"hoa\", \"uninterest\", \"comparison\", \"nit\", \"voucher\", \"ft\", \"sq\", \"1st\", \"videotape\", \"clinic\", \"ledger\", \"inaccurate\", \"walkway\", \"sprinkler\", \"indiscriminately\", \"800\", \"discriminate\", \"150\", \"85\", \"rip\", \"policy\", \"hospital\", \"usage\", \"dump\", \"kiosk\", \"terminal\", \"ap\", \"concern\", \"company\", \"pool\", \"penny\", \"service\", \"power\", \"bill\", \"expect\", \"customer\", \"bus\", \"pay\", \"worst\", \"offer\", \"happy\", \"money\", \"precheck\", \"work\", \"horrible\", \"rude\", \"sky\", \"never\", \"need\", \"one\", \"friendly\", \"take\", \"city\", \"can\", \"train\", \"back\", \"walk\", \"give\", \"time\", \"go\", \"people\", \"park\", \"get\", \"u\", \"make\", \"pre\", \"flamingo\", \"efficiant\", \"quicknes\", \"gayborhood\", \"relation\", \"rainbow\", \"fly\", \"38min\", \"outstand\", \"advertisement\", \"apt\", \"fuk\", \"snow\", \"tonight\", \"welcome\", \"chaplin\", \"smoother\", \"carrier\", \"boulevard\", \"chase\", \"minor\", \"lena\", \"bearable\", \"prime\", \"linen\", \"merge\", \"forty\", \"plaza\", \"atlanta\", \"female\", \"grocery\", \"tsa\", \"jail\", \"example\", \"lynx\", \"family\", \"s\", \"meter\", \"within\", \"airport\", \"much\", \"agent\", \"check\", \"light\", \"terminal\", \"often\", \"center\", \"never\", \"station\", \"line\", \"time\", \"rail\", \"treat\", \"say\", \"train\", \"rude\", \"go\", \"minute\", \"home\", \"park\", \"people\", \"office\", \"take\", \"ca\", \"way\", \"great\", \"like\", \"come\", \"get\", \"wait\", \"open\", \"security\", \"homestead\", \"melrose\", \"horribly\", \"ball\", \"appreciate\", \"happier\", \"undertrain\", \"allison\", \"frisk\", \"donate\", \"easily\", \"arrogance\", \"jose\", \"screw\", \"cruise\", \"punctual\", \"sermon\", \"dang\", \"pcm\", \"army\", \"floor\", \"warn\", \"queue\", \"technician\", \"smudge\", \"commission\", \"tourism\", \"attend\", \"effectively\", \"event\", \"somewhere\", \"wednesday\", \"state\", \"friend\", \"license\", \"base\", \"actually\", \"id\", \"love\", \"ride\", \"next\", \"jury\", \"fingerprint\", \"mill\", \"close\", \"fun\", \"great\", \"know\", \"card\", \"need\", \"go\", \"take\", \"day\", \"people\", \"way\", \"train\", \"get\", \"place\", \"bus\", \"tsa\", \"one\", \"come\", \"line\", \"service\", \"time\", \"chad\", \"ihop\", \"shoulder\", \"brother\", \"edinburgh\", \"aloud\", \"fresh\", \"certainly\", \"1250\", \"prior\", \"larger\", \"obtain\", \"rasmussen\", \"superb\", \"undercook\", \"watery\", \"flier\", \"flood\", \"episode\", \"appt\", \"attach\", \"beer\", \"instructional\", \"immigration\", \"va\", \"illegal\", \"8am\", \"bias\", \"coordinator\", \"clerk\", \"24\", \"stupid\", \"dmv\", \"volunteer\", \"helpful\", \"visit\", \"automate\", \"hour\", \"friendly\", \"update\", \"funny\", \"wrong\", \"10\", \"like\", \"stop\", \"open\", \"office\", \"alway\", \"take\", \"line\", \"people\", \"wait\", \"long\", \"also\", \"think\", \"help\", \"get\", \"bag\", \"call\", \"security\", \"nice\", \"go\", \"tsa\", \"would\", \"need\", \"service\", \"minute\", \"can\", \"place\", \"woot\", \"incredibly\", \"immensely\", \"bumpy\", \"accommodation\", \"voicemail\", \"ahhhhh\", \"library\", \"younger\", \"equalizer\", \"atleast\", \"numberi\", \"brand\", \"transaction\", \"printout\", \"1hr\", \"seamles\", \"transition\", \"uneducate\", \"testimony\", \"understaf\", \"wafer\", \"cheddar\", \"cracker\", \"yummy\", \"captain\", \"loooot\", \"champagne\", \"foe\", \"gloria\", \"flip\", \"fun\", \"original\", \"large\", \"passport\", \"age\", \"bar\", \"airport\", \"jury\", \"jet\", \"tsa\", \"agent\", \"sky\", \"restaurant\", \"mill\", \"even\", \"around\", \"park\", \"traveler\", \"wait\", \"lot\", \"line\", \"place\", \"clean\", \"go\", \"get\", \"need\", \"great\", \"2\", \"extremely\", \"new\", \"better\", \"easy\", \"service\", \"little\", \"security\", \"hour\", \"make\", \"take\", \"minute\", \"sprinter\", \"ruff\", \"de\", \"backpack\", \"throught\", \"en\", \"cough\", \"kerrie\", \"favorite\", \"evr\", \"sllllooowwweesstt\", \"wardrobe\", \"le\", \"justify\", \"sont\", \"8th\", \"9th\", \"shortest\", \"enlarge\", \"peni\", \"ruiz\", \"mon\", \"et\", \"cheapest\", \"soo\", \"fed\", \"tent\", \"que\", \"everytime\", \"helples\", \"poll\", \"60\", \"half\", \"dollar\", \"million\", \"court\", \"vote\", \"touch\", \"door\", \"water\", \"deposit\", \"daughter\", \"relate\", \"transportation\", \"call\", \"card\", \"time\", \"alway\", \"checkpoint\", \"precheck\", \"hand\", \"window\", \"easy\", \"care\", \"say\", \"right\", \"close\", \"get\", \"people\", \"experience\", \"go\", \"line\", \"bill\", \"try\", \"one\", \"security\", \"like\", \"customer\", \"service\", \"would\", \"come\", \"memo\", \"liquid\", \"whoa\", \"lousy\", \"welfare\", \"isnt\", \"tammy\", \"consistently\", \"approx\", \"rassmussen\", \"extinguisher\", \"jesu\", \"seamu\", \"dragon\", \"george\", \"mccaffrey\", \"clueles\", \"represent\", \"civilian\", \"spaciou\", \"foodie\", \"heartbeat\", \"adore\", \"breathtake\", \"inspire\", \"poorly\", \"ditch\", \"jason\", \"warrant\", \"cigar\", \"ir\", \"tatum\", \"bin\", \"respect\", \"automatic\", \"location\", \"metro\", \"cancel\", \"5pm\", \"magazine\", \"search\", \"super\", \"tsa\", \"deal\", \"go\", \"mom\", \"allow\", \"office\", \"bring\", \"u\", \"please\", \"wait\", \"card\", \"good\", \"security\", \"min\", \"line\", \"somethe\", \"way\", \"get\", \"like\", \"people\", \"time\", \"car\", \"well\", \"new\", \"build\", \"day\", \"would\", \"long\", \"need\", \"come\", \"love\", \"maiden\", \"fashionable\", \"luxuriou\", \"ivan\", \"verifiable\", \"265\", \"disable\", \"death\", \"bx\", \"response\", \"immunization\", \"pic\", \"decorate\", \"duke\", \"hallway\", \"experiment\", \"stanford\", \"sixty\", \"asshole\", \"coupon\", \"hi\", \"109\", \"dedicate\", \"underpas\", \"session\", \"dilemma\", \"additionally\", \"convention\", \"hbrid\", \"9\", \"trust\", \"casino\", \"black\", \"nelli\", \"sunday\", \"entrance\", \"rtc\", \"ok\", \"smart\", \"medical\", \"supervisor\", \"counter\", \"route\", \"ap\", \"bus\", \"driver\", \"passport\", \"stuff\", \"security\", \"worker\", \"one\", \"close\", \"give\", \"say\", \"help\", \"time\", \"get\", \"name\", \"number\", \"people\", \"see\", \"base\", \"bill\", \"guy\", \"go\", \"line\", \"drive\", \"office\", \"take\", \"guard\", \"les\", \"nice\", \"5\", \"eh\", \"lawyer\", \"poop\", \"evict\", \"mofo\", \"february\", \"bulk\", \"handy\", \"orderly\", \"commissioner\", \"meeting\", \"recognition\", \"julio\", \"theft\", \"identity\", \"oz\", \"10th\", \"orthodontic\", \"prescription\", \"picky\", \"weird\", \"unreasonable\", \"minimum\", \"27\", \"unprofessional\", \"bunk\", \"silverflume\", \"aircraft\", \"thrive\", \"draft\", \"sometime\", \"compassionate\", \"ye\", \"entrance\", \"title\", \"log\", \"agency\", \"staff\", \"leak\", \"library\", \"appointment\", \"dad\", \"helpful\", \"like\", \"friendly\", \"wait\", \"nice\", \"hate\", \"office\", \"rail\", \"file\", \"work\", \"good\", \"30\", \"care\", \"long\", \"door\", \"location\", \"guard\", \"security\", \"job\", \"time\", \"water\", \"go\", \"get\", \"people\", \"ride\", \"even\"], \"loglift\": [30.0, 29.0, 28.0, 27.0, 26.0, 25.0, 24.0, 23.0, 22.0, 21.0, 20.0, 19.0, 18.0, 17.0, 16.0, 15.0, 14.0, 13.0, 12.0, 11.0, 10.0, 9.0, 8.0, 7.0, 6.0, 5.0, 4.0, 3.0, 2.0, 1.0, 1.3088, 1.2775, 1.2338, 1.2308, 1.2145, 1.2011, 1.1938, 1.1864, 1.1851, 1.1759, 1.1724, 1.1515, 1.1241, 1.1164, 1.1072, 1.102, 1.0882, 1.088, 1.0825, 1.0818, 1.0762, 1.0717, 1.064, 1.0633, 1.0627, 1.0618, 1.0603, 1.0597, 1.0597, 1.053, 1.0519, 1.0065, 0.9732, 0.9589, 0.9234, 0.9126, 0.9418, 0.7653, 0.8653, 0.6885, 0.9513, 0.6303, 0.8398, 0.8535, 0.8503, 0.8848, 0.5971, 0.5262, 0.7018, 0.7316, 0.3186, 0.5986, 0.3629, 0.6227, 0.4607, 0.5838, 0.2069, 0.3264, 0.1871, 0.3207, 0.2654, 0.3571, -0.0075, 0.0367, 0.1028, 0.2583, -0.0069, 0.2069, 0.3953, 0.3042, 0.049, 1.438, 1.3868, 1.3864, 1.3839, 1.3079, 1.2633, 1.2534, 1.2476, 1.2466, 1.2399, 1.2307, 1.2134, 1.2104, 1.2007, 1.2007, 1.2, 1.1862, 1.1862, 1.1843, 1.1843, 1.1781, 1.1693, 1.1693, 1.1676, 1.167, 1.167, 1.1561, 1.1554, 1.1546, 1.1384, 1.1361, 1.131, 1.1152, 1.0974, 1.1085, 1.0913, 0.9313, 0.9124, 1.0562, 0.8156, 1.1241, 1.0959, 0.5982, 0.8689, 0.6696, 0.8612, 0.6446, 0.4856, 0.5807, 0.6674, 0.8914, 0.8029, 0.6276, 0.6586, 0.4326, 0.8513, 0.5147, 0.7046, 0.3176, 0.2194, 0.2506, 0.342, 0.0991, 0.3731, 0.3635, 0.2908, 0.3279, 0.4117, 0.3888, 0.0004, -0.1041, -0.034, -0.0794, -0.2112, 0.24, 0.1706, 1.5678, 1.4433, 1.4229, 1.4021, 1.4019, 1.3964, 1.3896, 1.3142, 1.3035, 1.2892, 1.2797, 1.2663, 1.2663, 1.2556, 1.2351, 1.2234, 1.2179, 1.2127, 1.2065, 1.1977, 1.1941, 1.1772, 1.1551, 1.155, 1.1515, 1.1515, 1.1515, 1.144, 1.1329, 1.131, 1.1223, 1.1181, 0.8596, 1.0514, 1.0668, 1.0442, 0.9945, 0.9482, 0.9515, 0.9285, 0.7411, 0.7503, 0.7943, 0.5908, 0.7119, 0.6918, 0.8889, 0.8195, 0.4939, 0.7862, 0.2804, 0.2941, 0.6011, 0.6658, 0.3298, 0.3714, 0.5171, 0.0826, 0.2553, 0.5949, 0.1322, 0.1256, 0.2037, 0.0826, 0.5499, 0.4256, 0.3276, 0.1836, 0.0944, -0.1436, -0.0518, 0.3442, -0.0139, 1.4165, 1.4146, 1.4025, 1.3995, 1.3166, 1.2974, 1.2806, 1.2768, 1.2573, 1.2569, 1.2521, 1.2513, 1.2457, 1.2362, 1.2313, 1.2311, 1.2282, 1.2271, 1.2271, 1.2218, 1.2148, 1.2064, 1.2021, 1.1966, 1.1966, 1.18, 1.1763, 1.1723, 1.1649, 1.137, 1.1244, 1.0937, 1.0065, 1.0043, 0.9455, 0.855, 0.8108, 0.8888, 0.7332, 0.6701, 0.8105, 0.9803, 0.9928, 0.5993, 0.5637, 0.8372, 0.4053, 0.3913, 0.3012, 0.2179, 0.0747, 0.131, 0.2416, 0.1255, 0.4229, 0.3174, 0.0041, 0.2262, 0.1087, -0.0405, 0.1193, 0.0177, -0.1265, -0.0653, -0.1189, 1.4657, 1.455, 1.4083, 1.387, 1.3709, 1.3339, 1.3291, 1.3237, 1.3201, 1.2808, 1.2718, 1.2678, 1.2561, 1.2561, 1.2226, 1.2226, 1.2218, 1.221, 1.2183, 1.218, 1.2128, 1.2105, 1.2089, 1.2044, 1.2044, 1.2013, 1.1965, 1.1869, 1.1869, 1.1735, 1.1722, 1.1387, 1.0007, 1.1081, 0.8716, 0.8552, 1.0871, 0.6339, 0.6221, 1.0354, 0.9115, 0.8396, 0.7687, 0.4737, 0.6425, 0.5571, 0.4, 0.6358, 0.3147, 0.2945, 0.305, 0.2886, 0.4804, 0.5638, 0.5104, 0.457, 0.1327, 0.654, 0.294, 0.2069, 0.4077, 0.0579, 0.0718, 0.2769, 0.1582, 0.1095, 0.1553, 0.3631, 0.1341, 1.5555, 1.5104, 1.4879, 1.4853, 1.4741, 1.4704, 1.4672, 1.4503, 1.4025, 1.399, 1.3973, 1.3973, 1.3841, 1.3766, 1.372, 1.3715, 1.3574, 1.3574, 1.3549, 1.3277, 1.3115, 1.3033, 1.3033, 1.3032, 1.3032, 1.3032, 1.2982, 1.2981, 1.2981, 1.2917, 1.2838, 1.1991, 1.2564, 1.1984, 1.1744, 1.2413, 1.082, 0.8511, 1.1072, 1.1627, 0.5302, 0.7696, 0.8498, 0.9665, 0.6368, 0.5433, 0.5993, 0.2814, 1.0377, 0.2081, 0.4982, 0.1489, 0.2885, 0.638, 0.0644, 0.0434, 0.1654, 0.3269, 0.4272, 0.782, 0.4541, 0.5127, 0.368, -0.0057, 0.5325, -0.0328, 0.1035, 0.0988, -0.1946, -0.0114, 1.8059, 1.6358, 1.5684, 1.5121, 1.4866, 1.4664, 1.4559, 1.4224, 1.3816, 1.36, 1.36, 1.3361, 1.3181, 1.3172, 1.306, 1.3016, 1.3016, 1.3009, 1.3009, 1.2932, 1.2932, 1.272, 1.2692, 1.2675, 1.2669, 1.2665, 1.2656, 1.2552, 1.2537, 1.2401, 1.2316, 1.1968, 1.1209, 1.0137, 1.1396, 1.0406, 0.8004, 1.128, 0.6503, 0.5021, 0.9702, 1.0055, 1.1221, 0.7953, 0.3894, 0.389, 0.2539, 0.5694, 0.7568, 0.5922, 0.8247, 0.5889, 0.4396, 0.6041, 0.2394, 0.4381, 0.3518, -0.0909, -0.0169, 0.2565, -0.1398, -0.1076, 0.1646, 0.3649, 0.04, -0.0302, 0.0103, 0.1967, -0.1336, 0.0245, -0.1137, 1.6845, 1.5502, 1.5432, 1.4891, 1.4847, 1.4638, 1.4523, 1.4259, 1.4071, 1.3879, 1.3879, 1.3715, 1.3586, 1.3586, 1.3586, 1.3585, 1.3338, 1.3326, 1.3195, 1.3195, 1.3142, 1.3142, 1.3142, 1.3142, 1.3142, 1.3044, 1.302, 1.2922, 1.2894, 1.2852, 1.2844, 1.2841, 1.1912, 1.2501, 1.2637, 0.8887, 1.0872, 1.2665, 1.1154, 1.2337, 1.0131, 0.8243, 0.3746, 0.6882, 0.2803, 1.0807, 0.858, 0.3056, 0.6492, 0.3686, 0.8628, 0.165, 0.3033, 0.4143, 0.1876, 0.7149, 0.044, 0.6089, 0.3586, -0.0421, 0.1409, 0.0111, 0.0155, 0.4676, 0.3731, 0.3874, 0.4416, 0.0566, 0.0858, 0.1936, -0.0626, -0.0911, 0.3233, 1.6768, 1.6691, 1.669, 1.6536, 1.5643, 1.5643, 1.5503, 1.5362, 1.5182, 1.5151, 1.5098, 1.4743, 1.4743, 1.3951, 1.392, 1.3769, 1.3769, 1.3723, 1.3693, 1.3657, 1.3607, 1.3607, 1.3427, 1.3313, 1.3312, 1.3312, 1.3131, 1.3131, 1.3131, 1.3096, 1.3073, 1.2913, 1.2743, 1.2582, 1.2355, 1.1944, 1.071, 1.1791, 1.2268, 1.2183, 1.0201, 0.8883, 0.9735, 0.5101, 0.2343, 0.6504, 0.8859, 0.9581, 0.1069, 0.8012, 0.0953, 0.3079, 0.2948, 0.0737, 0.2071, -0.1022, -0.2004, 0.3302, 0.1674, -0.1664, 0.1148, 0.4678, 0.078, 0.3324, -0.3127, -0.2591, 0.3502, -0.1416, -0.299, 0.3703, 0.4188, 0.0617, 0.278, 1.8809, 1.7645, 1.7563, 1.7002, 1.6991, 1.6293, 1.6266, 1.5548, 1.5261, 1.526, 1.526, 1.5248, 1.5168, 1.5168, 1.5168, 1.4872, 1.485, 1.4777, 1.4777, 1.4777, 1.4455, 1.4262, 1.4215, 1.3955, 1.3947, 1.386, 1.375, 1.3734, 1.3698, 1.3698, 1.3401, 1.3502, 1.2708, 1.2548, 1.2544, 1.3421, 1.1857, 0.8109, 1.1657, 1.1042, 1.034, 1.2461, 0.5574, 0.3522, 0.4553, 0.2119, 0.4385, 0.8324, 0.2574, 0.5507, 0.9489, 0.3528, 0.3864, 0.6739, 0.5876, 0.2814, 0.415, 0.4582, 0.4518, -0.0726, 0.4209, -0.1776, 0.0129, -0.2887, -0.301, -0.2104, 0.268, 0.1213], \"Freq\": [5.0, 1.0, 1.0, 1.0, 3.0, 3.0, 1.0, 1.0, 2.0, 1.0, 0.0, 1.0, 2.0, 1.0, 1.0, 0.0, 2.0, 0.0, 1.0, 0.0, 1.0, 0.0, 1.0, 1.0, 1.0, 1.0, 2.0, 1.0, 2.0, 1.0, 0.4795384604445798, 0.430265525440455, 0.39148507414252365, 0.460362470526331, 0.7439244878581363, 0.41313298494512407, 0.36040135404663354, 0.3551169392481504, 0.35415598259531195, 0.5615523020251866, 0.345328240912755, 0.3315161614609116, 0.47283894396059906, 0.4877120522612999, 0.3328660217421148, 0.30179413159668, 0.2941911626867392, 0.37180241432340877, 0.2911751357709147, 0.3701244457959941, 0.3649658060518151, 0.5318176667709751, 0.3359455921831196, 0.4742024213897873, 0.280893643220871, 0.28043972535949224, 0.2797201442858256, 0.27942240800291596, 0.2794188209068931, 0.27608908363394064, 0.30209924435405333, 0.779132877850582, 0.6994074180544121, 0.7162756211715926, 0.8236461528715365, 0.8503685613132633, 0.6601827336156982, 1.7352302175761114, 0.872092337135726, 1.3435604414148385, 0.511798218487927, 1.3595081078099904, 0.7081984856741905, 0.669657137403568, 0.6247992013867798, 0.5726277051860658, 0.9903007888200142, 1.080891998705863, 0.7554262603111704, 0.7167726405887308, 1.2524254249467304, 0.8107301302805832, 1.0674994732178082, 0.7666312252292443, 0.877925981707654, 0.7531326286257172, 1.0066826676671758, 0.8849099996859564, 0.9692539355523504, 0.8788204967796718, 0.88127699364036, 0.8237725651051437, 0.8970615011485581, 0.874001707253456, 0.8425974343263934, 0.7908216025762147, 0.8090960775047414, 0.7834561033020616, 0.7580076771983155, 0.7636928845133478, 0.7592882665577021, 0.38208774864148876, 0.3638313483257982, 0.34456566884474943, 0.5233732653416622, 0.4928434213329055, 0.27440466810416553, 0.6296860561772608, 0.299131608210818, 0.2664872498094518, 0.26340562467863654, 0.33582640441904815, 0.25171549613280975, 0.2504362317772246, 0.2463972540842412, 0.24639553032824094, 0.2461193708246664, 0.24049789415095582, 0.240493564535259, 0.23971525717024428, 0.23971262147052327, 0.32968090471654726, 0.2338324408880355, 0.23383055601374333, 0.30693192563517535, 0.23296162493851869, 0.23296122629330196, 0.24890654958374853, 0.22857658859079621, 0.3120017889606688, 0.22234614047613876, 0.2592463496961867, 0.3087644432532027, 0.36123295859307075, 0.4299043462884922, 0.38530567133442223, 0.3630511055307438, 0.8735290913429826, 0.8767802221925353, 0.40592770410641266, 0.9540935478680049, 0.29170009584296397, 0.3124902174309393, 1.1014219716076057, 0.5576661523156599, 0.8968261658339547, 0.5483053490464895, 0.81933520771631, 0.9613058496047839, 0.7399779310049772, 0.6099157397182425, 0.4340251753664145, 0.4881524692622952, 0.5975718814688377, 0.5700549836774202, 0.6919257140383284, 0.43875412946307807, 0.6009399890503369, 0.5034329167093211, 0.6761723848018871, 0.7171672066449912, 0.6823060043564996, 0.6166999255182405, 0.7199202045149292, 0.5904647807247885, 0.591799681821219, 0.6137500525831107, 0.5937450166166828, 0.5725390755954132, 0.5731951898422675, 0.6405335546119209, 0.6487486228980154, 0.6231017244230938, 0.5938854811619474, 0.5872855012342665, 0.5750590058478402, 0.5751900083054561, 0.920029226967862, 0.37323574084793704, 0.35824184255177816, 0.3438684738553206, 0.34373749746707866, 0.3400495837145224, 0.4454011916703267, 0.8347294824502548, 0.2860327921655696, 0.31131214502130133, 0.2741948301919806, 0.26781340841391393, 0.2678094168360595, 0.28934222607675236, 0.25384103656099233, 0.3792098830305643, 0.24654487280238144, 0.24437843830441683, 0.24188743188417783, 0.23834493099168524, 0.29238628994688065, 0.2544552461819523, 0.222295387868367, 0.22228978705058702, 0.22102966594683415, 0.22102706369066605, 0.22102557544508653, 0.26390959845047485, 0.21454441504100547, 0.2561309937568691, 0.3547232841788185, 0.3254325220988662, 1.5978664062049384, 0.40940553309716476, 0.36217691655360895, 0.3927507889504048, 0.46438707901937665, 0.5419191132898115, 0.5081800378573587, 0.5367837152253935, 0.9258320525521279, 0.7991492974348359, 0.6934702640564103, 0.8639642183123568, 0.6665767436061919, 0.6762946659462398, 0.46711304420717464, 0.5065816848150229, 0.7933318962888556, 0.5019636832383351, 0.8737625603584311, 0.8451986497584626, 0.598023994267128, 0.5352361182483553, 0.7033651365647601, 0.6544432352150408, 0.5925227888021687, 0.7691475543171101, 0.6835582241825197, 0.5555621060913523, 0.7218976551599247, 0.7189654973118399, 0.6646246209343271, 0.6965645283502083, 0.5603117278534264, 0.5876365272941924, 0.609049531237056, 0.6327370437852482, 0.6232897307498582, 0.6181253855097405, 0.6060928958836332, 0.5596695126155512, 0.5620307791825802, 0.30779719044587855, 0.3067235626693019, 0.30000057099367156, 0.3395313869853716, 0.6236683079828121, 0.24959113392111265, 0.24264646114345492, 0.24114109934268704, 0.23348710106127285, 0.23331682070444387, 0.2662618404526579, 0.23120576156175826, 0.2290907614045849, 0.37622503283223446, 0.22380085208190872, 0.29756777903530784, 0.22270013811490183, 0.2223250302410542, 0.22232478701693245, 0.3171247199121263, 0.405887442166044, 0.30703782218940096, 0.28064813649943154, 0.21173505965297518, 0.21173494404487406, 0.22014168337739395, 0.22149085043282443, 0.2655290942778148, 0.20149317238857106, 0.5233564391844722, 0.34673398304728653, 0.43582324500806807, 0.6282787867713333, 0.5383389092294071, 0.6462759430388207, 0.6038162465711866, 0.5791148861891452, 0.48371446830756876, 0.6618553577993667, 0.663072931974819, 0.5082299251272681, 0.37466254404727617, 0.3583223753571178, 0.5946300053572466, 0.615699047789305, 0.4235249501877732, 0.6094228855066901, 0.6043532469672644, 0.6149873866947017, 0.65218260143246, 0.7064934787407142, 0.6768898267917217, 0.6233636938521961, 0.665533126051016, 0.5425749773010227, 0.5739990217943428, 0.6633317982730156, 0.5807165110214022, 0.6005183414962664, 0.6013919559348195, 0.5448708398621211, 0.5344408489760301, 0.5385193037535987, 0.516638322965971, 0.5177355709085121, 0.3724383981624319, 0.3251504462786116, 0.3619009951113245, 0.41943469949098294, 0.3102053552317629, 0.27828588204419524, 0.2593400385024945, 0.3582330947669987, 0.25541770295071414, 0.5219191571731646, 0.2571551477335851, 0.40105458454253995, 0.22959249000258292, 0.2295910583093608, 0.21753773240156646, 0.21753709426280696, 0.21726656992313237, 0.2169785120904277, 0.22636472540647393, 0.21595329649086475, 0.2141792409506635, 0.27683667233303316, 0.21283476662693984, 0.21134634058613674, 0.21134597258226198, 0.22698088055009097, 0.285107217204425, 0.20562004393210676, 0.20561556676992407, 0.47283359402353287, 0.3492580229729242, 0.42408377761327853, 0.5664787345106832, 0.3129247492378325, 0.7950208065632872, 0.6853574881733389, 0.32057912279880946, 0.8363055394380993, 0.7357076938952776, 0.3168884534410332, 0.3976689747494838, 0.43712910527400095, 0.48337269858127135, 0.7750768854741636, 0.5819961348812805, 0.634590653896245, 0.7412178986047658, 0.5550202459447595, 0.8052178390003562, 0.8121510708838325, 0.7884574950734361, 0.7807185783839551, 0.6297051557806234, 0.5653972374501152, 0.5954653009234965, 0.5932955971341893, 0.7467366654848548, 0.4996903472864215, 0.6144153332624174, 0.6423685938689141, 0.574856894091224, 0.6877039670220029, 0.6660835742296817, 0.6033529297319441, 0.6081723883737326, 0.6091103899222624, 0.5668962507636236, 0.533322022146783, 0.5243010449188988, 0.2858950247625294, 0.26426854278101797, 0.2543328764145953, 0.25323185604889614, 0.24850997270047145, 0.24700365481445727, 0.24567170843599107, 0.4442411994235357, 0.24215142835617512, 0.23923140818346394, 0.21924959400441735, 0.2192493251193785, 0.26627451032107285, 0.23090444903447532, 0.21066710071913988, 0.24701606639187243, 0.20590453983882498, 0.2059000270750995, 0.28700996154799163, 0.19668676277894806, 0.21767703555478152, 0.18950312812719694, 0.18950211181770707, 0.18949982119303518, 0.18949809053632824, 0.18949547816344087, 0.18804537545980393, 0.18804383135725228, 0.18804365785750346, 0.18621657428218233, 0.2235968699285808, 0.5037541853818344, 0.2754725189333304, 0.3920770526212406, 0.41585549671554645, 0.2611376067192745, 0.40087556568238175, 0.7925414247811066, 0.35233359374363393, 0.27637095477955087, 0.8814763660502568, 0.5188409658911461, 0.4391007166861571, 0.34591275911229724, 0.5113598386273865, 0.5614378731792946, 0.5152328040177461, 0.6426948800634285, 0.31103036918536814, 0.6027426662459291, 0.47812788425651465, 0.5874820336184085, 0.511938837411502, 0.40189101285934553, 0.5791911716207795, 0.571460588386063, 0.512581426905088, 0.4667337443280901, 0.4404415113573274, 0.360764573496032, 0.4118175671051391, 0.39826329382388337, 0.40727479119090226, 0.4542187395213109, 0.3812306787013928, 0.42292040036524264, 0.41174747435009973, 0.40384158974116136, 0.40486045687503724, 0.40151617615520113, 0.4248427176800558, 0.30404404021345827, 0.5056632539765447, 0.2830072588909023, 0.23518628853194562, 0.22758672989161657, 0.2237994961495526, 0.21220462460769104, 0.3340171315358152, 0.19270184923959294, 0.1927008420306685, 0.1858797182505086, 0.27745007053395476, 0.207133135016705, 0.17772620247890614, 0.17656717297880753, 0.17656632982788864, 0.17639377323570932, 0.1763929227570946, 0.17439219101571002, 0.17439190630251428, 0.16908165543180087, 0.16839125878926242, 0.1892370026225794, 0.16783074371005313, 0.16772531395035126, 0.20235886774895356, 0.16500204150965161, 0.20592792785944372, 0.16145949531377493, 0.21858547827984395, 0.2721097465122152, 0.3991530717001515, 0.4297058740096047, 0.25214456232531024, 0.300222602041375, 0.4024714333316894, 0.23001986320746465, 0.48887071101613017, 0.6042855271687119, 0.2863957428058057, 0.27050607344129685, 0.2275309440036625, 0.34612577490881125, 0.5391107514056555, 0.5300817899444118, 0.5934363980291558, 0.4142060512628284, 0.33883532527190385, 0.38356836721309284, 0.310504200042909, 0.3757708020064509, 0.41702881488517485, 0.3648465917259489, 0.4696947536109967, 0.3917884109258998, 0.39327560772113346, 0.47624975079943255, 0.4557608779153184, 0.3896568573190402, 0.4501134610827227, 0.4332730178146365, 0.38916907340452694, 0.365900398375572, 0.3974246632139632, 0.4041470616534024, 0.3888936784224693, 0.3764267560500803, 0.3809836685257056, 0.3738670317875318, 0.37000927475356976, 0.2774454750696151, 0.371166317930302, 0.21939068985426688, 0.20160284875596388, 0.2387343815549093, 0.1939643758252827, 0.21153292519963005, 0.23197425685921214, 0.17815732233333847, 0.17319143752954583, 0.173191327414616, 0.16909763752986315, 0.16596839771377447, 0.16596788100423504, 0.16596591160971425, 0.1659640326207935, 0.16016073917564294, 0.1979330172589012, 0.15693536185240187, 0.15693408788930124, 0.15576501452255234, 0.15576331121359596, 0.15576170380413135, 0.15576086473553022, 0.15576045076222922, 0.22750170554253016, 0.1530968535404637, 0.1510017520646893, 0.17953803298067933, 0.149520474674099, 0.33986793602667864, 0.19897928915825652, 0.28575593636137553, 0.189509622149543, 0.18161208847833127, 0.48714002985023536, 0.24515919646122564, 0.17139952639802677, 0.22514919481691653, 0.18214401245738715, 0.2610310449850633, 0.33956191995409457, 0.6487234894022118, 0.38755303367875316, 0.6180320549847667, 0.22485076662592549, 0.2797261865104685, 0.485218063535367, 0.3409614210835195, 0.42418322042591344, 0.2698921979740791, 0.49638388433674646, 0.4389323891756386, 0.39265552454877, 0.45331939760556345, 0.29461582826889315, 0.45481686620214185, 0.3115717798685426, 0.3623415376109322, 0.45111087832197144, 0.3997604319022694, 0.4227723610228967, 0.421781707198314, 0.3277894217951692, 0.34091221094184554, 0.3312529279884894, 0.3240186728172432, 0.36901283028366866, 0.3585856776073367, 0.34010041596834295, 0.35085540497246676, 0.3414167666449962, 0.3128688861926463, 0.20229880562855998, 0.19993441721865882, 0.1999263751401218, 0.19526647296949767, 0.1710341928072804, 0.1710341271411382, 0.17667351261541914, 0.18316797752170433, 0.25845946417999743, 0.15935113071281135, 0.15815075419927527, 0.15044991675248143, 0.15044805764994582, 0.1349114805382455, 0.14622972300672388, 0.13162954893281784, 0.131629366700732, 0.1512237677519652, 0.1512302613699622, 0.129659084750645, 0.12879088243146716, 0.12878875577443516, 0.12572705016288943, 0.1238222301267946, 0.12382175515367622, 0.12382033313089, 0.12087863590974454, 0.12087784459949981, 0.12087639899458773, 0.17490985127055983, 0.16998704803868214, 0.17712979500635787, 0.2298012704453706, 0.18167222707054975, 0.19946551487043576, 0.21365760734096542, 0.3291857502599809, 0.2174978819405916, 0.16175111529801456, 0.16334784648476114, 0.2218167682786721, 0.258886725259395, 0.206699713447615, 0.3135133491556637, 0.3997856224775006, 0.27358409994267324, 0.22089885497172534, 0.20536662386931934, 0.34473034957100224, 0.21835000463764478, 0.3123457628266631, 0.27991287554281624, 0.2789967345920254, 0.2959637368338801, 0.2740974530005068, 0.3090960844459289, 0.3174461738060902, 0.26086723747112905, 0.27444518121872935, 0.2918672322477912, 0.26590747883158666, 0.24070419724637168, 0.2653966786999449, 0.2487540009708287, 0.2815744804813606, 0.276931537851127, 0.24021413887312665, 0.25577137359757707, 0.2585232958216077, 0.2366377884456642, 0.23424183113430894, 0.2412237229225672, 0.23273238068946583, 0.2987724282902243, 0.23617775598188306, 0.2020131468576019, 0.18560125222133064, 0.18531030445622276, 0.16729019639012754, 0.16664712303341336, 0.1505237343447634, 0.1446327643426794, 0.14463199058121337, 0.14463088883496683, 0.14437789343392535, 0.14280241084795442, 0.14280172887448328, 0.14280114538694633, 0.23129431483403656, 0.1367159889348949, 0.1353765127285433, 0.1353756587375064, 0.1353753757562862, 0.1567276524999427, 0.12630671182174316, 0.13811042108877936, 0.12127026331674762, 0.12114207383148534, 0.11976083883995742, 0.11805143671048622, 0.13336861597427704, 0.11723907518896391, 0.11723899181364998, 0.268044610805386, 0.17250637019982773, 0.26835903068106154, 0.20883143460813058, 0.2026967883206126, 0.13994785397035647, 0.2072790617421426, 0.39122064884505636, 0.19231477986492682, 0.20496609251774034, 0.20580786245064878, 0.1681049321341532, 0.31687948060954063, 0.3745963258301524, 0.3397888425642664, 0.39461538738359697, 0.32352217552561535, 0.23472581227254158, 0.3507477278112246, 0.2844047513829487, 0.21445157175117172, 0.31431142737443346, 0.28965424466298767, 0.24040645412614012, 0.2455687788505989, 0.2816516684134913, 0.26438755220953447, 0.2402479588675961, 0.23623288454298141, 0.26506806217369255, 0.23678342014527937, 0.2637551810874894, 0.25352086411939684, 0.26538403984759334, 0.26411990966816334, 0.2569919340996722, 0.23960541908305427, 0.24009873090421976], \"Total\": [5.0, 1.0, 1.0, 1.0, 3.0, 3.0, 1.0, 1.0, 2.0, 1.0, 0.0, 1.0, 2.0, 1.0, 1.0, 0.0, 2.0, 0.0, 1.0, 0.0, 1.0, 0.0, 1.0, 1.0, 1.0, 1.0, 2.0, 1.0, 2.0, 1.0, 0.8461333945612316, 0.7833140477995685, 0.7445364825830983, 0.8781788092059478, 1.4424530531928563, 0.8118521221595774, 0.7134445617096105, 0.7081583178439464, 0.7071982265636884, 1.131650421180653, 0.6983686439668501, 0.6845613134730959, 1.003586264004812, 1.0431472120532128, 0.7185138448974333, 0.6548384773474065, 0.6472281240120221, 0.8181587804123761, 0.6442156443458661, 0.8195273168823631, 0.8125912994617285, 1.1894557876227234, 0.7571663033543643, 1.0695762355451572, 0.633933965019824, 0.6334805434616357, 0.632762023423294, 0.6324622478637032, 0.6324610634011059, 0.629131381427702, 0.6891680339773228, 1.8599884677125744, 1.7262154858692464, 1.7933078335937696, 2.136562393318413, 2.229851327643957, 1.681446544402484, 5.272498779665496, 2.397700852581021, 4.4083531603147765, 1.2911670402973459, 4.72795592638115, 1.9973687651098317, 1.862984876099233, 1.7436474126331192, 1.5439789184288588, 3.5601168210572895, 4.171378712979878, 2.4458188458979078, 2.252407192318839, 5.948292076430327, 2.910208139854429, 4.850260752951923, 2.6864551779885733, 3.6175264744691495, 2.7437454366508436, 5.346317866439969, 4.170217958829925, 5.250350108000053, 4.165161185319502, 4.414520471829916, 3.764697463059057, 5.903450332143624, 5.5026861798954405, 4.965736206221657, 3.989310449578238, 5.3210459674631245, 4.160615680871086, 3.3342372402410554, 3.679606041098283, 4.72238240590568, 0.7438277711791844, 0.7454574392921601, 0.7062885059841341, 1.075490633057155, 1.0927522140421446, 0.6361251431194103, 1.4743766537106355, 0.7044878694228119, 0.6282081529093919, 0.6251259691953152, 0.804374763102392, 0.613433854825536, 0.6121588023635587, 0.6081177583823857, 0.6081176409173729, 0.6078368400054879, 0.6022149428191207, 0.6022140698763659, 0.601439417654263, 0.601438880300615, 0.832252074365376, 0.595549524572145, 0.5955492783739967, 0.7829946379723606, 0.5946817761990337, 0.5946818194924645, 0.6423636918429357, 0.5902934086944065, 0.8063933391098228, 0.5840634150320189, 0.6825624272238169, 0.817042628807851, 0.9711688901804773, 1.1764627086458035, 1.0428216136559003, 0.9996339846214861, 2.822563029817638, 2.886922898839183, 1.1576457100148763, 3.460841974327547, 0.7772801690184312, 0.8564785498469558, 4.965736206221657, 1.9179854863903552, 3.764697463059057, 1.900329798700944, 3.5263023103900415, 4.850260752951923, 3.3951552282183664, 2.5659221813940354, 1.4594402884968782, 1.793397156079103, 2.615912410072999, 2.4194309912461844, 3.681383795645101, 1.5357434737032112, 2.945087949009197, 2.040496147703339, 4.035940889973736, 4.72238240590568, 4.354515226192405, 3.5921157414338043, 5.346317866439969, 3.3342372402410554, 3.373932234562543, 3.762876819512145, 3.5076890706107533, 3.110515464780426, 3.1862850641875213, 5.250350108000053, 5.903450332143624, 5.286060736137591, 5.272498779665496, 5.948292076430327, 3.709252505614908, 3.976847152242661, 1.5990894891672371, 0.7347353955906654, 0.7197599051438438, 0.7053689297300219, 0.7052485070490422, 0.7015668346812799, 0.9251410746963776, 1.8695894548306256, 0.6475336186189241, 0.7149703892577595, 0.6356967489268021, 0.6293136748463954, 0.6293128730977838, 0.6872068131195592, 0.615334252163745, 0.9301351865548935, 0.6080355150933688, 0.605872505556665, 0.6033811806401922, 0.5998406542015845, 0.7384536339755013, 0.6535975108748583, 0.5837891205419914, 0.5837880758467862, 0.582525556335465, 0.5825252658027025, 0.5825250493077984, 0.700758836500626, 0.5760379955169256, 0.6890603312521061, 0.9625571398413536, 0.886868026021335, 5.638991364250426, 1.1926649107837912, 1.0389560589077713, 1.152320964041868, 1.4319821214172672, 1.7502019833509106, 1.6358275293709692, 1.7681846110808868, 3.678127384516422, 3.1459161154055786, 2.612476632607023, 3.989310449578238, 2.726761953868028, 2.822563029817638, 1.6007676811218314, 1.8608729680220284, 4.035940889973736, 1.9062902503263388, 5.5026861798954405, 5.250350108000053, 2.732938210706518, 2.2926679610935325, 4.216210893791424, 3.762876819512145, 2.945087949009197, 5.903450332143624, 4.414520471829916, 2.554702277099202, 5.272498779665496, 5.286060736137591, 4.519194726798375, 5.346317866439969, 2.695048534740428, 3.200584369283867, 3.6588498802732605, 4.389839812567561, 4.72795592638115, 5.948292076430327, 5.3210459674631245, 3.3066977603428307, 4.750562716309001, 0.672263642605233, 0.6711906461549296, 0.664474348565377, 0.7542925200674545, 1.5052344840448364, 0.6140630118209891, 0.6071224982079091, 0.6056124926835561, 0.5979532925875827, 0.5977864724474602, 0.6854794143004916, 0.5956718730672784, 0.5935592409474795, 0.9840264044574039, 0.5882675936769861, 0.782319824830901, 0.587167511423244, 0.5867988072740946, 0.5867988584653083, 0.8415224569141913, 1.0846193822895278, 0.8273894507661278, 0.7595421831028932, 0.5762067568605992, 0.576206750705046, 0.6090665764165912, 0.6151188851866973, 0.7403605093716572, 0.5659584866485381, 1.511647064592192, 1.014143610284642, 1.3144624189742677, 2.0675647685896106, 1.7756188665536565, 2.260707705356023, 2.312168571823923, 2.3177320538320516, 1.7906695883464003, 2.862867815671957, 3.054770536660675, 2.034745446812312, 1.265682111723798, 1.1955131862392738, 2.9404668398000666, 3.1548630134421356, 1.6508639769117766, 3.6588498802732605, 3.679606041098283, 4.097292650753999, 4.72238240590568, 5.903450332143624, 5.346317866439969, 4.4083531603147765, 5.286060736137591, 3.200584369283867, 3.762876819512145, 5.948292076430327, 4.170217958829925, 4.850260752951923, 5.638991364250426, 4.354515226192405, 4.72795592638115, 5.5026861798954405, 4.965736206221657, 5.250350108000053, 0.7822342807164897, 0.6902573100887145, 0.8050537505234577, 0.9531106278186925, 0.7163393466986033, 0.6668377570342755, 0.6244389309171589, 0.8672275786657295, 0.6205263657648208, 1.318866968939204, 0.6556992417530177, 1.0266438013049675, 0.5946932435527041, 0.5946932341033188, 0.5826395655354724, 0.5826394728222072, 0.582367004556932, 0.5820721154968025, 0.6088647153056472, 0.5810552040307038, 0.5792760668040727, 0.7505119085466688, 0.5779349669249486, 0.5764470533597917, 0.5764465782017293, 0.6210044661902361, 0.7838375645570459, 0.5707178583691294, 0.5707175788634367, 1.330140858930055, 0.9838251011665832, 1.235295809833556, 1.8941127574239771, 0.9398277496992206, 3.024600870389412, 2.6506448015414676, 0.9832002695020965, 4.035534444580946, 3.5921157414338043, 1.0234674733225375, 1.4537133643367277, 1.7172182778066774, 2.0384077064611885, 4.389839812567561, 2.7843325888642965, 3.3066977603428307, 4.519194726798375, 2.673011061730457, 5.346317866439969, 5.5026861798954405, 5.286060736137591, 5.3210459674631245, 3.5427526713831354, 2.92640979334553, 3.251226938055665, 3.417058031320198, 5.948292076430327, 2.3632704388122314, 4.165161185319502, 4.750562716309001, 3.477905811868729, 5.903450332143624, 5.638991364250426, 4.160615680871086, 4.72238240590568, 4.965736206221657, 4.414520471829916, 3.373932234562543, 4.170217958829925, 0.6559677689002761, 0.6343403717561262, 0.6243968932836553, 0.6233005244014077, 0.6185773445952853, 0.617066507101714, 0.6157502754369408, 1.1323626344853213, 0.647471187751467, 0.6418870495938886, 0.5893205348517688, 0.5893206420042006, 0.7252104398389401, 0.6335725462971734, 0.5807336425864261, 0.6812592848341835, 0.5759701553877096, 0.5759706948663941, 0.8048595635457279, 0.5667512169751705, 0.6374909991666269, 0.5595667563307238, 0.5595668264242051, 0.5595668543560994, 0.559566780717157, 0.5595668963672672, 0.5581064926379672, 0.5581063383833685, 0.5581065215169021, 0.5562798083466437, 0.6732358889775973, 1.6508639769117766, 0.8524034315061418, 1.2857632262585301, 1.3968018123635946, 0.8203712179222729, 1.4769201026817325, 3.678127384516422, 1.265682111723798, 0.939197798899791, 5.638991364250426, 2.612476632607023, 2.040496147703339, 1.4304334893673332, 2.9404668398000666, 3.5446034354718465, 3.075748612063882, 5.272498779665496, 1.197730205982102, 5.3210459674631245, 3.158139326468462, 5.5026861798954405, 4.170217958829925, 2.308030435120315, 5.903450332143624, 5.948292076430327, 4.72238240590568, 3.6588498802732605, 3.123139935768969, 1.7940294394720615, 2.8427203985613994, 2.5926159063777705, 3.0642202773251297, 4.965736206221657, 2.433122676006029, 4.750562716309001, 4.035534444580946, 3.976847152242661, 5.346317866439969, 4.414520471829916, 0.7962088201981838, 0.6754251211093832, 1.2016801647802275, 0.7114777759056284, 0.6065427904478382, 0.598933111286858, 0.595148625131428, 0.5835560884409392, 0.956848881312395, 0.5640502516987885, 0.5640505189333725, 0.5572285772671457, 0.8468395591253579, 0.6327913377297522, 0.5490731106372624, 0.5479102196795245, 0.5479101690960035, 0.5477421875578752, 0.5477423765737839, 0.5457377012423739, 0.5457377854865767, 0.5404273009397356, 0.5397368419443305, 0.6076008925558349, 0.5391761475195671, 0.5390690339280179, 0.650986926219891, 0.5363457839483612, 0.6703910026385859, 0.5328052003960208, 0.7275101912885643, 0.9376737841318756, 1.4839486088015084, 1.7782075016795154, 0.9200672205355701, 1.2094571902513573, 2.0615283477289483, 0.8491127503219137, 2.9097941077678033, 4.171378712979878, 1.2379496957131828, 1.1286563006245767, 0.8449158732096451, 1.7820770904501355, 4.165161185319502, 4.097292650753999, 5.250350108000053, 2.673011061730457, 1.812988279663422, 2.4194309912461844, 1.5522475937024025, 2.378179747151161, 3.0642202773251297, 2.2742439638522196, 4.216210893791424, 2.8830470420036893, 3.1548630134421356, 5.948292076430327, 5.286060736137591, 3.4384341030153562, 5.903450332143624, 5.5026861798954405, 3.764697463059057, 2.8971355914114327, 4.354515226192405, 4.750562716309001, 4.389839812567561, 3.5263023103900415, 4.965736206221657, 4.160615680871086, 4.72795592638115, 0.6507994093551548, 0.9957370555186948, 0.5927463597140733, 0.5749514687788431, 0.6838211232898652, 0.5673078141527542, 0.6258757693914699, 0.7047212588080829, 0.5515039744620363, 0.5465417862134262, 0.5465417949433984, 0.5424438628909837, 0.5393132822653086, 0.5393135328435351, 0.5393136377840693, 0.5393140978422721, 0.5335084894495643, 0.6601220681174518, 0.5302793501768277, 0.5302798115525571, 0.5291079321293019, 0.5291083731966959, 0.5291085767603658, 0.529108585655468, 0.5291086138404689, 0.7803793345085153, 0.5264405815004632, 0.524344520122818, 0.6252090572521273, 0.5228612343214051, 1.1894557876227234, 0.6965999769787296, 1.0977255816279217, 0.68636588087438, 0.6488673494505, 2.5323580166296744, 1.0450114847248742, 0.6106506309913121, 0.9330422499917277, 0.6706125247908162, 1.1982927202030658, 1.8825412433051214, 5.638991364250426, 2.462004015434676, 5.903450332143624, 0.9647094528667355, 1.4995052644380384, 4.519194726798375, 2.2521761135895786, 3.709252505614908, 1.439841088388905, 5.3210459674631245, 4.097292650753999, 3.2802795459522507, 4.750562716309001, 1.8223063539195765, 5.5026861798954405, 2.1426758368600445, 3.200584369283867, 5.948292076430327, 4.389839812567561, 5.286060736137591, 5.250350108000053, 2.5961812766460244, 2.9679162729468693, 2.8427203985613994, 2.6339581071032123, 4.4083531603147765, 4.160615680871086, 3.5427526713831354, 4.72238240590568, 4.72795592638115, 2.862867815671957, 0.580060589382953, 0.5777031976666992, 0.5777060433315342, 0.5730351795629633, 0.548794716717185, 0.5487945909578509, 0.5748596715541384, 0.6044756367302438, 0.8684070366865452, 0.5371088099265943, 0.5359069202300392, 0.5282084903102385, 0.5282092679423983, 0.5126716129086426, 0.5574217790382853, 0.5093882122280864, 0.5093883141360658, 0.5879224131580009, 0.5897087689307117, 0.5074122178688865, 0.5065486970276551, 0.5065493982924582, 0.5034832574730477, 0.5015783555061245, 0.5015785235776671, 0.5015788917753475, 0.4986333059198441, 0.4986335258304196, 0.49863423666804196, 0.7240078227179403, 0.7052828138061905, 0.7467295469151148, 0.985428652198392, 0.7917070000862698, 0.8892096587001773, 0.9924458677815279, 1.7298126285602264, 1.0257860297777703, 0.7273393697599216, 0.7408192225058005, 1.226448963586028, 1.633162212687608, 1.19746106065158, 2.886922898839183, 4.850260752951923, 2.18928994602559, 1.3968018123635946, 1.2081324868063126, 4.750562716309001, 1.5027614307278157, 4.354515226192405, 3.1548630134421356, 3.1862850641875213, 4.216210893791424, 3.417058031320198, 5.250350108000053, 5.948292076430327, 2.8755502234237507, 3.5601168210572895, 5.286060736137591, 3.635430530097888, 2.312168571823923, 3.764697463059057, 2.735982166934034, 5.903450332143624, 5.5026861798954405, 2.595309305751866, 4.519194726798375, 5.346317866439969, 2.5059840218855824, 2.3631435052973027, 3.477905811868729, 2.702934846374544, 0.7591256993788593, 0.6741633267287452, 0.5814333766619575, 0.5650141855220318, 0.5647243399263101, 0.5466959545723928, 0.5460594841081459, 0.5299379436725783, 0.5240446728335222, 0.5240448314715858, 0.5240454539932966, 0.5237874321807638, 0.5222139419509418, 0.5222143053947125, 0.5222144763675789, 0.8712062172925044, 0.5161254408792136, 0.5147851351473154, 0.5147855788273845, 0.5147857828478511, 0.6154857748423083, 0.5057120876028822, 0.5555572777304245, 0.5006729508010486, 0.5005509082904145, 0.4991641737759856, 0.49745534526041735, 0.5629018598799025, 0.49664595392097033, 0.4966458715416005, 1.1696436973326572, 0.745205485716379, 1.2550670399712391, 0.9924458677815279, 0.9636479617852296, 0.6094774989690666, 1.0555330298605172, 2.8980961339658773, 0.9991435813604853, 1.1323626344853213, 1.2197104516245723, 0.8058294263555221, 3.024600870389412, 4.389839812567561, 3.5921157414338043, 5.3210459674631245, 3.477905811868729, 1.7017672469766383, 4.519194726798375, 2.732938210706518, 1.3838204724956513, 3.681383795645101, 3.2802795459522507, 2.042340533928971, 2.2742439638522196, 3.5427526713831354, 2.9097941077678033, 2.5323580166296744, 2.5059840218855824, 4.750562716309001, 2.5907408913463232, 5.250350108000053, 4.171378712979878, 5.903450332143624, 5.948292076430327, 5.286060736137591, 3.054770536660675, 3.5446034354718465], \"logprob\": [30.0, 29.0, 28.0, 27.0, 26.0, 25.0, 24.0, 23.0, 22.0, 21.0, 20.0, 19.0, 18.0, 17.0, 16.0, 15.0, 14.0, 13.0, 12.0, 11.0, 10.0, 9.0, 8.0, 7.0, 6.0, 5.0, 4.0, 3.0, 2.0, 1.0, -7.1292, -7.2376, -7.3321, -7.17, -6.6901, -7.2783, -7.4148, -7.4296, -7.4323, -6.9713, -7.4575, -7.4984, -7.1433, -7.1123, -7.4943, -7.5923, -7.6178, -7.3837, -7.6281, -7.3882, -7.4022, -7.0257, -7.4851, -7.1404, -7.6641, -7.6657, -7.6682, -7.6693, -7.6693, -7.6813, -7.5913, -6.6439, -6.7518, -6.728, -6.5883, -6.5564, -6.8095, -5.8431, -6.5311, -6.099, -7.0641, -6.0872, -6.7393, -6.7953, -6.8646, -6.9518, -6.404, -6.3165, -6.6748, -6.7273, -6.1692, -6.6041, -6.329, -6.66, -6.5245, -6.6778, -6.3876, -6.5166, -6.4255, -6.5235, -6.5207, -6.5881, -6.5029, -6.529, -6.5655, -6.629, -6.6061, -6.6383, -6.6713, -6.6639, -6.6697, -7.1289, -7.1779, -7.2323, -6.8142, -6.8744, -7.4599, -6.6293, -7.3737, -7.4892, -7.5008, -7.2579, -7.5462, -7.5513, -7.5676, -7.5676, -7.5687, -7.5918, -7.5918, -7.5951, -7.5951, -7.2764, -7.6199, -7.6199, -7.3479, -7.6237, -7.6237, -7.5575, -7.6427, -7.3315, -7.6703, -7.5168, -7.342, -7.185, -7.011, -7.1205, -7.18, -6.302, -6.2983, -7.0684, -6.2138, -7.3988, -7.33, -6.0702, -6.7508, -6.2757, -6.7677, -6.366, -6.2062, -6.4679, -6.6612, -7.0014, -6.8839, -6.6817, -6.7288, -6.5351, -6.9906, -6.676, -6.8531, -6.5581, -6.4992, -6.5491, -6.6502, -6.4954, -6.6936, -6.6914, -6.655, -6.6881, -6.7245, -6.7233, -6.6122, -6.5995, -6.6398, -6.6879, -6.699, -6.7201, -6.7198, -6.2337, -7.1359, -7.1769, -7.2178, -7.2182, -7.229, -6.9591, -6.331, -7.402, -7.3173, -7.4442, -7.4678, -7.4678, -7.3905, -7.5214, -7.12, -7.5505, -7.5594, -7.5696, -7.5844, -7.38, -7.519, -7.6541, -7.6541, -7.6598, -7.6598, -7.6598, -7.4825, -7.6896, -7.5124, -7.1867, -7.2729, -5.6817, -7.0434, -7.1659, -7.0849, -6.9174, -6.763, -6.8272, -6.7725, -6.2274, -6.3745, -6.5164, -6.2965, -6.5559, -6.5414, -6.9115, -6.8304, -6.3818, -6.8396, -6.2853, -6.3185, -6.6644, -6.7754, -6.5022, -6.5743, -6.6737, -6.4128, -6.5308, -6.7381, -6.4762, -6.4803, -6.5589, -6.5119, -6.7296, -6.682, -6.6462, -6.608, -6.6231, -6.6314, -6.651, -6.7307, -6.7265, -7.2515, -7.255, -7.2772, -7.1534, -6.5454, -7.4612, -7.4894, -7.4956, -7.5279, -7.5286, -7.3965, -7.5377, -7.5469, -7.0508, -7.5702, -7.2853, -7.5752, -7.5769, -7.5769, -7.2217, -6.9749, -7.254, -7.3439, -7.6257, -7.6257, -7.5867, -7.5806, -7.3993, -7.6752, -6.7207, -7.1324, -6.9038, -6.538, -6.6925, -6.5098, -6.5777, -6.6195, -6.7995, -6.4859, -6.4841, -6.7501, -7.055, -7.0996, -6.5931, -6.5582, -6.9324, -6.5685, -6.5768, -6.5594, -6.5007, -6.4207, -6.4635, -6.5459, -6.4804, -6.6847, -6.6284, -6.4837, -6.6167, -6.5832, -6.5817, -6.6804, -6.6998, -6.6922, -6.7336, -6.7315, -7.0508, -7.1866, -7.0795, -6.932, -7.2336, -7.3422, -7.4127, -7.0897, -7.428, -6.7134, -7.4212, -6.9768, -7.5346, -7.5346, -7.5885, -7.5885, -7.5898, -7.5911, -7.5487, -7.5958, -7.6041, -7.3475, -7.6104, -7.6174, -7.6174, -7.546, -7.318, -7.6449, -7.6449, -6.8121, -7.1151, -6.921, -6.6314, -7.2249, -6.2925, -6.4409, -7.2008, -6.2419, -6.3701, -7.2123, -6.9853, -6.8907, -6.7901, -6.3179, -6.6044, -6.5179, -6.3626, -6.6519, -6.2798, -6.2712, -6.3008, -6.3107, -6.5256, -6.6334, -6.5815, -6.5852, -6.3552, -6.7569, -6.5502, -6.5057, -6.6168, -6.4375, -6.4695, -6.5684, -6.5604, -6.5589, -6.6307, -6.6918, -6.7088, -7.137, -7.2157, -7.254, -7.2584, -7.2772, -7.2833, -7.2887, -6.6963, -7.3031, -7.3152, -7.4025, -7.4025, -7.2081, -7.3507, -7.4424, -7.2832, -7.4653, -7.4653, -7.1331, -7.5111, -7.4097, -7.5483, -7.5483, -7.5483, -7.5483, -7.5483, -7.556, -7.556, -7.556, -7.5658, -7.3828, -6.5706, -7.1742, -6.8212, -6.7623, -7.2276, -6.799, -6.1174, -6.9281, -7.1709, -6.0111, -6.5411, -6.7079, -6.9465, -6.5556, -6.4622, -6.548, -6.327, -7.0528, -6.3912, -6.6228, -6.4168, -6.5545, -6.7965, -6.431, -6.4445, -6.5532, -6.6469, -6.7049, -6.9044, -6.7721, -6.8056, -6.7832, -6.6741, -6.8493, -6.7455, -6.7723, -6.7916, -6.7891, -6.7974, -6.693, -7.0275, -6.5188, -7.0992, -7.2843, -7.3171, -7.3339, -7.3871, -6.9335, -7.4835, -7.4835, -7.5196, -7.119, -7.4113, -7.5644, -7.571, -7.571, -7.572, -7.572, -7.5834, -7.5834, -7.6143, -7.6184, -7.5017, -7.6217, -7.6223, -7.4346, -7.6387, -7.4171, -7.6604, -7.3575, -7.1385, -6.7553, -6.6816, -7.2147, -7.0402, -6.7471, -7.3065, -6.5526, -6.3406, -7.0873, -7.1444, -7.3174, -6.8979, -6.4548, -6.4716, -6.3587, -6.7183, -6.9192, -6.7952, -7.0065, -6.8157, -6.7115, -6.8452, -6.5926, -6.774, -6.7702, -6.5787, -6.6227, -6.7794, -6.6352, -6.6733, -6.7807, -6.8423, -6.7597, -6.7429, -6.7814, -6.814, -6.8019, -6.8208, -6.8311, -7.016, -6.725, -7.2508, -7.3353, -7.1663, -7.3739, -7.2872, -7.195, -7.4589, -7.4872, -7.4872, -7.5111, -7.5298, -7.5298, -7.5298, -7.5298, -7.5654, -7.3537, -7.5858, -7.5858, -7.5933, -7.5933, -7.5933, -7.5933, -7.5933, -7.2145, -7.6105, -7.6243, -7.4512, -7.6342, -6.8131, -7.3484, -6.9865, -7.3972, -7.4397, -6.4531, -7.1397, -7.4976, -7.2249, -7.4368, -7.077, -6.814, -6.1666, -6.6818, -6.2151, -7.2262, -7.0078, -6.457, -6.8098, -6.5915, -7.0436, -6.4343, -6.5573, -6.6687, -6.525, -6.9559, -6.5217, -6.9, -6.749, -6.5299, -6.6508, -6.5948, -6.5971, -6.8492, -6.81, -6.8387, -6.8608, -6.7308, -6.7594, -6.8124, -6.7812, -6.8085, -6.8958, -7.1388, -7.1505, -7.1506, -7.1742, -7.3067, -7.3067, -7.2742, -7.2381, -6.8938, -7.3774, -7.385, -7.4349, -7.4349, -7.5439, -7.4633, -7.5685, -7.5685, -7.4298, -7.4297, -7.5836, -7.5903, -7.5903, -7.6144, -7.6297, -7.6297, -7.6297, -7.6537, -7.6537, -7.6537, -7.2842, -7.3128, -7.2716, -7.0113, -7.2463, -7.1529, -7.0841, -6.6519, -7.0663, -7.3625, -7.3526, -7.0467, -6.8921, -7.1173, -6.7007, -6.4576, -6.8369, -7.0508, -7.1237, -6.6058, -7.0624, -6.7044, -6.814, -6.8173, -6.7583, -6.835, -6.7149, -6.6882, -6.8845, -6.8338, -6.7722, -6.8654, -6.9649, -6.8673, -6.9321, -6.8081, -6.8247, -6.967, -6.9042, -6.8935, -6.982, -6.9922, -6.9628, -6.9986, -6.6656, -6.9007, -7.0569, -7.1416, -7.1432, -7.2455, -7.2494, -7.3511, -7.3911, -7.3911, -7.3911, -7.3928, -7.4038, -7.4038, -7.4038, -6.9216, -7.4473, -7.4572, -7.4572, -7.4572, -7.3107, -7.5265, -7.4372, -7.5672, -7.5683, -7.5798, -7.5941, -7.4721, -7.601, -7.601, -6.7741, -7.2148, -6.7729, -7.0237, -7.0535, -7.424, -7.0312, -6.396, -7.1061, -7.0424, -7.0383, -7.2407, -6.6067, -6.4394, -6.5369, -6.3873, -6.586, -6.9068, -6.5052, -6.7148, -6.9972, -6.6149, -6.6966, -6.8829, -6.8617, -6.7246, -6.7878, -6.8836, -6.9004, -6.7853, -6.8981, -6.7902, -6.8298, -6.7841, -6.7888, -6.8162, -6.8863, -6.8842]}};\n",
       "\n",
       "function LDAvis_load_lib(url, callback){\n",
       "  var s = document.createElement('script');\n",
       "  s.src = url;\n",
       "  s.async = true;\n",
       "  s.onreadystatechange = s.onload = callback;\n",
       "  s.onerror = function(){console.warn(\"failed to load library \" + url);};\n",
       "  document.getElementsByTagName(\"head\")[0].appendChild(s);\n",
       "}\n",
       "\n",
       "if(typeof(LDAvis) !== \"undefined\"){\n",
       "   // already loaded: just create the visualization\n",
       "   !function(LDAvis){\n",
       "       new LDAvis(\"#\" + \"ldavis_el8744465320240882661546\", ldavis_el8744465320240882661546_data);\n",
       "   }(LDAvis);\n",
       "}else if(typeof define === \"function\" && define.amd){\n",
       "   // require.js is available: use it to load d3/LDAvis\n",
       "   require.config({paths: {d3: \"https://cdnjs.cloudflare.com/ajax/libs/d3/3.5.5/d3.min\"}});\n",
       "   require([\"d3\"], function(d3){\n",
       "      window.d3 = d3;\n",
       "      LDAvis_load_lib(\"https://cdn.rawgit.com/bmabey/pyLDAvis/files/ldavis.v1.0.0.js\", function(){\n",
       "        new LDAvis(\"#\" + \"ldavis_el8744465320240882661546\", ldavis_el8744465320240882661546_data);\n",
       "      });\n",
       "    });\n",
       "}else{\n",
       "    // require.js not available: dynamically load d3 & LDAvis\n",
       "    LDAvis_load_lib(\"https://cdnjs.cloudflare.com/ajax/libs/d3/3.5.5/d3.min.js\", function(){\n",
       "         LDAvis_load_lib(\"https://cdn.rawgit.com/bmabey/pyLDAvis/files/ldavis.v1.0.0.js\", function(){\n",
       "                 new LDAvis(\"#\" + \"ldavis_el8744465320240882661546\", ldavis_el8744465320240882661546_data);\n",
       "            })\n",
       "         });\n",
       "}\n",
       "</script>"
      ],
      "text/plain": [
       "PreparedData(topic_coordinates=            Freq  cluster  topics         x         y\n",
       "topic                                                \n",
       "6      15.310289  1        1      -0.025663 -0.021131\n",
       "1      12.195059  1        2      -0.009970 -0.010553\n",
       "2      11.995918  1        3      -0.024737  0.023335\n",
       "3      11.105934  1        4      -0.005801  0.004761\n",
       "7      10.994248  1        5       0.012749 -0.013599\n",
       "8      9.199527   1        6       0.005622  0.024445\n",
       "5      8.768484   1        7       0.008744 -0.010114\n",
       "4      7.909818   1        8       0.007959 -0.003815\n",
       "9      6.520859   1        9       0.011113  0.002394\n",
       "0      5.999864   1        10      0.019984  0.004279, topic_info=     Category      Freq         Term     Total  loglift  logprob\n",
       "term                                                            \n",
       "1502  Default  5.000000  tsa          5.000000  30.0000  30.0000\n",
       "4627  Default  1.000000  pre          1.000000  29.0000  29.0000\n",
       "2589  Default  1.000000  library      1.000000  28.0000  28.0000\n",
       "1501  Default  1.000000  de           1.000000  27.0000  27.0000\n",
       "3755  Default  3.000000  helpful      3.000000  26.0000  26.0000\n",
       "3434  Default  3.000000  airport      3.000000  25.0000  25.0000\n",
       "3084  Default  1.000000  fly          1.000000  24.0000  24.0000\n",
       "2897  Default  1.000000  ir           1.000000  23.0000  23.0000\n",
       "456   Default  2.000000  vote         2.000000  22.0000  22.0000\n",
       "41    Default  1.000000  passport     1.000000  21.0000  21.0000\n",
       "1783  Default  0.000000  eh           0.000000  20.0000  20.0000\n",
       "3653  Default  1.000000  fun          1.000000  19.0000  19.0000\n",
       "636   Default  2.000000  ap           2.000000  18.0000  18.0000\n",
       "1417  Default  1.000000  appreciate   1.000000  17.0000  17.0000\n",
       "788   Default  1.000000  checkpoint   1.000000  16.0000  16.0000\n",
       "2258  Default  0.000000  sprinter     0.000000  15.0000  15.0000\n",
       "1709  Default  2.000000  terminal     2.000000  14.0000  14.0000\n",
       "1715  Default  0.000000  entrance     0.000000  13.0000  13.0000\n",
       "2092  Default  1.000000  ye           1.000000  12.0000  12.0000\n",
       "4551  Default  0.000000  liquid       0.000000  11.0000  11.0000\n",
       "1078  Default  1.000000  counter      1.000000  10.0000  10.0000\n",
       "1863  Default  0.000000  title        0.000000  9.0000   9.0000 \n",
       "5026  Default  1.000000  rtc          1.000000  8.0000   8.0000 \n",
       "357   Default  1.000000  jury         1.000000  7.0000   7.0000 \n",
       "4451  Default  1.000000  sometime     1.000000  6.0000   6.0000 \n",
       "1370  Default  1.000000  daughter     1.000000  5.0000   5.0000 \n",
       "920   Default  2.000000  location     2.000000  4.0000   4.0000 \n",
       "534   Default  1.000000  s            1.000000  3.0000   3.0000 \n",
       "3095  Default  2.000000  agent        2.000000  2.0000   2.0000 \n",
       "2632  Default  1.000000  dmv          1.000000  1.0000   1.0000 \n",
       "...       ...       ...    ...             ...     ...      ... \n",
       "5456  Topic10  0.192315  leak         0.999144  1.1657  -7.1061 \n",
       "2589  Topic10  0.204966  library      1.132363  1.1042  -7.0424 \n",
       "666   Topic10  0.205808  appointment  1.219710  1.0340  -7.0383 \n",
       "3861  Topic10  0.168105  dad          0.805829  1.2461  -7.2407 \n",
       "3755  Topic10  0.316879  helpful      3.024601  0.5574  -6.6067 \n",
       "4029  Topic10  0.374596  like         4.389840  0.3522  -6.4394 \n",
       "2341  Topic10  0.339789  friendly     3.592116  0.4553  -6.5369 \n",
       "3056  Topic10  0.394615  wait         5.321046  0.2119  -6.3873 \n",
       "5172  Topic10  0.323522  nice         3.477906  0.4385  -6.5860 \n",
       "4113  Topic10  0.234726  hate         1.701767  0.8324  -6.9068 \n",
       "1425  Topic10  0.350748  office       4.519195  0.2574  -6.5052 \n",
       "4236  Topic10  0.284405  rail         2.732938  0.5507  -6.7148 \n",
       "3376  Topic10  0.214452  file         1.383820  0.9489  -6.9972 \n",
       "1391  Topic10  0.314311  work         3.681384  0.3528  -6.6149 \n",
       "3493  Topic10  0.289654  good         3.280280  0.3864  -6.6966 \n",
       "3796  Topic10  0.240406  30           2.042341  0.6739  -6.8829 \n",
       "1800  Topic10  0.245569  care         2.274244  0.5876  -6.8617 \n",
       "3170  Topic10  0.281652  long         3.542753  0.2814  -6.7246 \n",
       "713   Topic10  0.264388  door         2.909794  0.4150  -6.7878 \n",
       "920   Topic10  0.240248  location     2.532358  0.4582  -6.8836 \n",
       "4059  Topic10  0.236233  guard        2.505984  0.4518  -6.9004 \n",
       "1593  Topic10  0.265068  security     4.750563 -0.0726  -6.7853 \n",
       "5369  Topic10  0.236783  job          2.590741  0.4209  -6.8981 \n",
       "322   Topic10  0.263755  time         5.250350 -0.1776  -6.7902 \n",
       "4502  Topic10  0.253521  water        4.171379  0.0129  -6.8298 \n",
       "2334  Topic10  0.265384  go           5.903450 -0.2887  -6.7841 \n",
       "3234  Topic10  0.264120  get          5.948292 -0.3010  -6.7888 \n",
       "271   Topic10  0.256992  people       5.286061 -0.2104  -6.8162 \n",
       "2382  Topic10  0.239605  ride         3.054771  0.2680  -6.8863 \n",
       "2678  Topic10  0.240099  even         3.544603  0.1213  -6.8842 \n",
       "\n",
       "[739 rows x 6 columns], token_table=      Topic      Freq        Term\n",
       "term                             \n",
       "464   2      0.320191  2         \n",
       "3324  1      0.443969  4         \n",
       "4824  1      0.369968  5         \n",
       "3821  2      0.678253  account   \n",
       "2085  4      0.431456  actually  \n",
       "3095  3      0.382779  agent     \n",
       "3095  6      0.382779  agent     \n",
       "3434  3      0.271877  airport   \n",
       "3434  6      0.271877  airport   \n",
       "807   1      0.341716  also      \n",
       "807   5      0.341716  also      \n",
       "4540  5      0.374110  alway     \n",
       "636   2      0.346390  ap        \n",
       "1417  4      0.664348  appreciate\n",
       "575   6      0.325124  around    \n",
       "384   1      0.537638  awesome   \n",
       "3707  1      0.285088  back      \n",
       "3707  2      0.285088  back      \n",
       "2044  4      0.432494  base      \n",
       "3648  1      0.265626  bill      \n",
       "3648  2      0.265626  bill      \n",
       "3568  1      0.379657  build     \n",
       "4071  1      0.206174  bus       \n",
       "4071  2      0.206174  bus       \n",
       "4071  3      0.206174  bus       \n",
       "4071  4      0.206174  bus       \n",
       "1225  3      0.371051  ca        \n",
       "2711  1      0.240087  call      \n",
       "2711  2      0.240087  call      \n",
       "2711  5      0.240087  call      \n",
       "...  ..           ...   ...      \n",
       "1502  5      0.177337  tsa       \n",
       "1502  6      0.177337  tsa       \n",
       "1502  8      0.177337  tsa       \n",
       "4585  1      0.579302  turn      \n",
       "3396  1      0.269596  u         \n",
       "3396  2      0.269596  u         \n",
       "3396  4      0.269596  u         \n",
       "3074  2      0.377267  visit     \n",
       "3074  5      0.377267  visit     \n",
       "3056  1      0.187933  wait      \n",
       "3056  2      0.187933  wait      \n",
       "3056  3      0.187933  wait      \n",
       "3056  4      0.187933  wait      \n",
       "3056  5      0.187933  wait      \n",
       "3056  6      0.187933  wait      \n",
       "5381  1      0.321490  walk      \n",
       "5381  2      0.321490  walk      \n",
       "63    1      0.372238  want      \n",
       "4502  1      0.239729  water     \n",
       "4502  2      0.239729  water     \n",
       "4502  5      0.239729  water     \n",
       "4502  7      0.239729  water     \n",
       "1621  3      0.312443  way       \n",
       "1621  4      0.312443  way       \n",
       "2565  1      0.336937  well      \n",
       "2290  3      0.565552  within    \n",
       "1391  2      0.271637  work      \n",
       "4855  2      0.389723  worst     \n",
       "4155  1      0.240349  would     \n",
       "4155  5      0.240349  would     \n",
       "\n",
       "[258 rows x 3 columns], R=30, lambda_step=0.01, plot_opts={'xlab': 'PC1', 'ylab': 'PC2'}, topic_order=[7, 2, 3, 4, 8, 9, 6, 5, 10, 1])"
      ]
     },
     "execution_count": 231,
     "metadata": {},
     "output_type": "execute_result"
    }
   ],
   "source": [
    "# This is a pre-built LDA\n",
    "with open('Demo_PSG_lda.pk','rb') as f:\n",
    "    saved_lda = pickle.load(f)\n",
    "\n",
    "pyLDAvis.gensim.prepare(saved_lda, tfidf_sparse, yelp_dictionary)"
   ]
  },
  {
   "cell_type": "markdown",
   "metadata": {
    "slideshow": {
     "slide_type": "subslide"
    }
   },
   "source": [
    "From *PSG_lda*, we can get the information regarding the probability of a document falling into one of the topics."
   ]
  },
  {
   "cell_type": "code",
   "execution_count": 242,
   "metadata": {
    "collapsed": false
   },
   "outputs": [
    {
     "name": "stdout",
     "output_type": "stream",
     "text": [
      "[(0, 0.018175072158611097), (1, 0.018178502119273014), (2, 0.018179116345868159), (3, 0.018176343000898675), (4, 0.018175970446775436), (5, 0.018175939471774965), (6, 0.83640667763570897), (7, 0.018177606848550985), (8, 0.018179100555805051), (9, 0.018175671416733517)]\n"
     ]
    }
   ],
   "source": [
    "# See the probability of the last document in each topic.\n",
    "topic_probs =  PSG_lda.get_document_topics(tfidf_sparse[-1])\n",
    "print topic_probs"
   ]
  },
  {
   "cell_type": "code",
   "execution_count": 246,
   "metadata": {
    "collapsed": false,
    "slideshow": {
     "slide_type": "skip"
    }
   },
   "outputs": [],
   "source": [
    "most_relevant = sorted(topic_probs, key=lambda x: x[1], reverse=True)"
   ]
  },
  {
   "cell_type": "markdown",
   "metadata": {
    "variables": {
     "' + '.join(map(lambda x: x[0], PSG_lda.show_topic(6)))": {},
     "most_relevant[0][0]": {},
     "most_relevant[0][1]": {}
    }
   },
   "source": [
    "The most relevant topic is topic {{most_relevant[0][0]}} with a proability of {{most_relevant[0][1]}}.\n",
    "\n",
    "The topic is **{{' + '.join(map(lambda x: x[0], PSG_lda.show_topic(6)))}}**"
   ]
  },
  {
   "cell_type": "markdown",
   "metadata": {
    "slideshow": {
     "slide_type": "subslide"
    }
   },
   "source": [
    "Inspect the most relevant document in a topic,"
   ]
  },
  {
   "cell_type": "code",
   "execution_count": 266,
   "metadata": {
    "collapsed": false,
    "editable": true,
    "nbpresent": {
     "id": "dbb90639-cd69-485d-8e92-adb91574cfa1"
    },
    "slideshow": {
     "slide_type": "-"
    }
   },
   "outputs": [
    {
     "name": "stdout",
     "output_type": "stream",
     "text": [
      "Relevance score: 0.923999643399\n",
      "Review is for the Luke Air Force Base Air Show on April 2-3, 2016\r\n",
      "\r\n",
      "Parking/Getting to the base - located at the corner of Litchfield & Olive in the large open spaced area.  There is another designated parking lot which also serves as handicapped as well but I'm not sure where that one was located.  Be prepared for lots of dust!  \r\n",
      "A suggestion would be to leave very early as we left closer to the time the air show started, and it was standstill traffic practically the entire way down to the base via Litchfield, despite police directing traffic which wasn't much help.\r\n",
      "Also, do keep note of your parking aisle because that'll be important when returning for your vehicle as the aisles aren't marked.\r\n",
      "After parking, be prepared for a security check point - wand, and all pockets emptied, all bags checks - this is only understandable and obvious.\r\n",
      "After the security check point, there are school buses available to bring you to the base.\r\n",
      "\r\n",
      "Admission - free.  Food - not free.  Bring cash as I don't believe they were equipped to take credit cards although I can't speak for all vendors.  Lots of other vendors selling snacks, alcoholic drinks, souvenirs, toys for the kids, and I believe I saw umbrellas for the shade and seats to catch the show being sold.\r\n",
      "\r\n",
      "What you'll see - Lots of planes to see - A-26, B-1, B-17, C-17, C-45, C-47, EF-18, F-15, F-35, F-16, KC-135, T-33, T-38, T-6, and the TMB Avenger.  Lots of aerial shows and performances - United States Air Force Thunderbirds, U.S. Army Golden Knights, F-35 Heritage Flight Team, Tora Tora Tora, Acemaker (T-33), Red Bull Demonstration Team, Jack Link's Screaming' Sasquatch, Alabama Boys.\r\n",
      "Lots of Luke Air Base personnel to chat with including veterans from various wars.  Lines to see the cockpit of some of these planes were long but they well worth it for me.\r\n",
      "You might want to bring sunglasses, sunscreen, a hat, nose/mouth protection if you're sensitive to the dust, lots of water, a seat and umbrella, and ear protection for the kids.\r\n",
      "\r\n",
      "Returning/leaving - be prepared for long lines, to wait for the buses, on your way back to the parking lots.  You may not want to leave exactly at or toward the end of the show if you're in a hurry to get somewhere because of these long lines.\r\n",
      "\r\n",
      "Is it worth it - you bet your sweet bippy it is!  Despite the traffic to get to the show, and the long lines to leave, as an aviation enthusiast and student pilot, this air show was definitely worth it and I will be back when it's next held.\n"
     ]
    }
   ],
   "source": [
    "topic_num_to_inspect = 6 # define the topic number to inspect\n",
    "\n",
    "prob_list = []\n",
    "for doc in tfidf_sparse:\n",
    "    prob_dict = {}\n",
    "    probs = PSG_lda.get_document_topics(doc)\n",
    "    for p in probs:\n",
    "        prob_dict[p[0]] = p[1]\n",
    "    prob_list.append(prob_dict)\n",
    "# Represent the dictionary as a dataframe, with each topic number as the column header, probability value as values in the cell.\n",
    "# Each row represent a document.\n",
    "docTerm_prob_df = pd.DataFrame(prob_list) \n",
    "\n",
    "most_relevant_index = np.argmax(docTerm_prob_df[topic_num_to_inspect])\n",
    "print \"Relevance score:\", np.max(docTerm_prob_df[topic_num_to_inspect])\n",
    "print data.text.iloc[most_relevant_index] # inspect the most relevant review"
   ]
  },
  {
   "cell_type": "code",
   "execution_count": 271,
   "metadata": {
    "collapsed": false,
    "slideshow": {
     "slide_type": "subslide"
    }
   },
   "outputs": [
    {
     "name": "stdout",
     "output_type": "stream",
     "text": [
      "Relevance score: 0.923999643399\n",
      "Review is for the Luke Air Force Base Air Show on April 2-3, 2016\r\n",
      "\r\n",
      "Parking/Getting to the base - located at the corner of Litchfield & Olive in the large open spaced area.  There is another designated parking lot which also serves as handicapped as well but I'm not sure where that one was located.  Be prepared for lots of dust!  \r\n",
      "A suggestion would be to leave very early as we left closer to the time the air show started, and it was standstill traffic practically the entire way down to the base via Litchfield, despite police directing traffic which wasn't much help.\r\n",
      "Also, do keep note of your parking aisle because that'll be important when returning for your vehicle as the aisles aren't marked.\r\n",
      "After parking, be prepared for a security check point - wand, and all pockets emptied, all bags checks - this is only understandable and obvious.\r\n",
      "After the security check point, there are school buses available to bring you to the base.\r\n",
      "\r\n",
      "Admission - free.  Food - not free.  Bring cash as I don't believe they were equipped to take credit cards although I can't speak for all vendors.  Lots of other vendors selling snacks, alcoholic drinks, souvenirs, toys for the kids, and I believe I saw umbrellas for the shade and seats to catch the show being sold.\r\n",
      "\r\n",
      "What you'll see - Lots of planes to see - A-26, B-1, B-17, C-17, C-45, C-47, EF-18, F-15, F-35, F-16, KC-135, T-33, T-38, T-6, and the TMB Avenger.  Lots of aerial shows and performances - United States Air Force Thunderbirds, U.S. Army Golden Knights, F-35 Heritage Flight Team, Tora Tora Tora, Acemaker (T-33), Red Bull Demonstration Team, Jack Link's Screaming' Sasquatch, Alabama Boys.\r\n",
      "Lots of Luke Air Base personnel to chat with including veterans from various wars.  Lines to see the cockpit of some of these planes were long but they well worth it for me.\r\n",
      "You might want to bring sunglasses, sunscreen, a hat, nose/mouth protection if you're sensitive to the dust, lots of water, a seat and umbrella, and ear protection for the kids.\r\n",
      "\r\n",
      "Returning/leaving - be prepared for long lines, to wait for the buses, on your way back to the parking lots.  You may not want to leave exactly at or toward the end of the show if you're in a hurry to get somewhere because of these long lines.\r\n",
      "\r\n",
      "Is it worth it - you bet your sweet bippy it is!  Despite the traffic to get to the show, and the long lines to leave, as an aviation enthusiast and student pilot, this air show was definitely worth it and I will be back when it's next held.\n"
     ]
    }
   ],
   "source": [
    "print \"Relevance score:\", np.max(docTerm_prob_df[topic_num_to_inspect])\n",
    "print data.text.iloc[most_relevant_index] # inspect the most relevant review"
   ]
  },
  {
   "cell_type": "markdown",
   "metadata": {
    "deletable": true,
    "editable": true,
    "slideshow": {
     "slide_type": "subslide"
    }
   },
   "source": [
    "### Topic Classification\n",
    "\n",
    "Topic classification is a supervise learning method. It requires that you have pre-labelled data to train a classification model on. Like training a model on structured data, each token in a dictionary is a variable. The model building steps will be exacly the same as that for structured data, just that the number of variables is going to be very large, and some more accurate algorithms will take a long while to be trained.\n",
    "\n",
    "In a new test data, it may contain tokens that have not be seen before. The way to deal with new tokens is either to omit that data or to provision of a wildcard token in the dictionary."
   ]
  },
  {
   "cell_type": "markdown",
   "metadata": {
    "slideshow": {
     "slide_type": "slide"
    }
   },
   "source": [
    "# Q&A"
   ]
  },
  {
   "cell_type": "markdown",
   "metadata": {
    "slideshow": {
     "slide_type": "slide"
    }
   },
   "source": [
    "# Additional"
   ]
  },
  {
   "cell_type": "markdown",
   "metadata": {
    "deletable": true,
    "editable": true,
    "nbpresent": {
     "id": "21bf834e-66e3-47f9-b756-c09fe70de8e9"
    },
    "slideshow": {
     "slide_type": "subslide"
    }
   },
   "source": [
    "## Why is it important to become tfidf: A contrived example\n",
    "\n",
    "Say we want to find the similarity between 3 documents.\n",
    "\n",
    "1. Restaurant Restaurant Restaurant Restaurant Restaurant Restaurant Restaurant avocado chicken delicious.\n",
    "* Food delicious.\n",
    "* Restaurant Restaurant Restaurant Restaurant Restaurant Restaurant Restaurant ambient tempature too cold."
   ]
  },
  {
   "cell_type": "code",
   "execution_count": 146,
   "metadata": {
    "collapsed": false,
    "deletable": true,
    "editable": true,
    "nbpresent": {
     "id": "ea442291-9768-4a4b-900c-9abfec461585"
    }
   },
   "outputs": [
    {
     "name": "stdout",
     "output_type": "stream",
     "text": [
      "doc1 similarity with doc2: 0.640513\n",
      "doc1 similarity with doc3: 0.933376\n"
     ]
    }
   ],
   "source": [
    "doc1 = \"Restaurant Restaurant Restaurant Restaurant Restaurant Restaurant Restaurant chicken pie delicious\"\n",
    "doc2 = \"Restaurant Food delicious\"\n",
    "doc3 = \"Restaurant Restaurant Restaurant Restaurant Restaurant Restaurant Restaurant ambient tempature too cold\"\n",
    "\n",
    "tokens = [d.split() for d in [doc1, doc2, doc3]]\n",
    "contrive_dict = corpora.Dictionary(tokens)\n",
    "sparse_vector = [contrive_dict.doc2bow(doc) for doc in tokens]\n",
    "index = similarities.SparseMatrixSimilarity(sparse_vector, len(contrive_dict.items()))\n",
    "\n",
    "for i, similarity in enumerate(index[sparse_vector[0]][1:], 1):\n",
    "    print 'doc1 similarity with doc%i: %f' %(i+1, similarity)"
   ]
  },
  {
   "cell_type": "markdown",
   "metadata": {
    "deletable": true,
    "editable": true,
    "nbpresent": {
     "id": "aacd3b2b-dac9-41c9-8be3-685c49f0c9c8"
    },
    "slideshow": {
     "slide_type": "subslide"
    }
   },
   "source": [
    "It would seem like doc1 is more similar to doc2 than to doc3. However the cosine similarity of doc3 is higher than doc2, so doc1 is most simlar to doc3. We can see that this is because of the excessive frequency of the term \"Restaurant\" causing this discrepency. \n",
    "\n",
    "If tf-idf is applied:"
   ]
  },
  {
   "cell_type": "code",
   "execution_count": 147,
   "metadata": {
    "collapsed": false,
    "deletable": true,
    "editable": true,
    "nbpresent": {
     "id": "19971c2f-90bf-4704-9070-e347b332dc56"
    }
   },
   "outputs": [
    {
     "name": "stdout",
     "output_type": "stream",
     "text": [
      "doc1 similarity with doc2: 0.087431\n",
      "doc1 similarity with doc3: 0.000000\n"
     ]
    }
   ],
   "source": [
    "tfidf_contrieved = models.TfidfModel(sparse_vector)\n",
    "tfidf_sparse = [tfidf_contrieved[doc] for doc in sparse_vector]\n",
    "tfidf_index = similarities.SparseMatrixSimilarity(tfidf_sparse, len(contrive_dict.items()))\n",
    "\n",
    "for i, similarity in enumerate(tfidf_index[tfidf_sparse[0]][1:], 1):\n",
    "    print 'doc1 similarity with doc%i: %f' %(i+1, similarity)"
   ]
  },
  {
   "cell_type": "markdown",
   "metadata": {
    "editable": true,
    "nbpresent": {
     "id": "91ecf0cf-6173-44b6-ad40-51ceee105207"
    },
    "slideshow": {
     "slide_type": "subslide"
    }
   },
   "source": [
    "## Other Applications of Similarity Between Documents\n",
    "\n",
    "Calculating similarity between documents can help us to group documents. Why do we want to do that?\n",
    "\n",
    "Applications:\n",
    "1. Plagarism checker:\n",
    "    * An essay submitted can be compared for similarity with the other essays in the database.\n",
    "* An online retailer searching for its products that belong in the same category and groups them together. \n",
    "    * Helps visitor to its website find similar items."
   ]
  },
  {
   "cell_type": "code",
   "execution_count": null,
   "metadata": {
    "collapsed": true
   },
   "outputs": [],
   "source": []
  }
 ],
 "metadata": {
  "anaconda-cloud": {},
  "celltoolbar": "Slideshow",
  "kernelspec": {
   "display_name": "Python [Root]",
   "language": "python",
   "name": "Python [Root]"
  },
  "language_info": {
   "codemirror_mode": {
    "name": "ipython",
    "version": 2
   },
   "file_extension": ".py",
   "mimetype": "text/x-python",
   "name": "python",
   "nbconvert_exporter": "python",
   "pygments_lexer": "ipython2",
   "version": "2.7.13"
  },
  "nbpresent": {
   "slides": {
    "009901b2-59e6-4d27-a353-7650abb41597": {
     "id": "009901b2-59e6-4d27-a353-7650abb41597",
     "prev": "d487d505-639c-45c6-9724-648e27b3d83f",
     "regions": {
      "ac1d75cc-9eb9-4010-b6d5-355c150c3371": {
       "attrs": {
        "height": 0.8,
        "width": 0.8,
        "x": 0.1,
        "y": 0.1
       },
       "content": {
        "cell": "a2bf7a16-842a-4677-b63b-ea95f0357912",
        "part": "whole"
       },
       "id": "ac1d75cc-9eb9-4010-b6d5-355c150c3371"
      }
     }
    },
    "01bd486d-1aa7-4dc9-8775-eb5d719a46cf": {
     "id": "01bd486d-1aa7-4dc9-8775-eb5d719a46cf",
     "prev": "ebe98d12-f28b-412c-8726-25f781a981fd",
     "regions": {
      "1013716f-3abc-4a2a-b6b1-75d0a8a98787": {
       "attrs": {
        "height": 0.8,
        "width": 0.8,
        "x": 0.1,
        "y": 0.1
       },
       "content": {
        "cell": "1ed0cc8a-b9d9-4081-8ea5-9ea9867bd84a",
        "part": "whole"
       },
       "id": "1013716f-3abc-4a2a-b6b1-75d0a8a98787"
      }
     }
    },
    "0305c48d-1c28-4abb-b940-3d08ae8a4cb9": {
     "id": "0305c48d-1c28-4abb-b940-3d08ae8a4cb9",
     "prev": "312d5b9d-e81d-4d2c-a670-d2cef1c568b0",
     "regions": {
      "7755feaa-36fb-4159-bcbc-085f2255b426": {
       "attrs": {
        "height": 0.8,
        "width": 0.8,
        "x": 0.1,
        "y": 0.1
       },
       "content": {
        "cell": "677b5f8c-1bcf-4a7d-a21c-80855075c0ce",
        "part": "whole"
       },
       "id": "7755feaa-36fb-4159-bcbc-085f2255b426"
      }
     }
    },
    "0628aa39-2f38-446b-b098-274800eeb137": {
     "id": "0628aa39-2f38-446b-b098-274800eeb137",
     "prev": "32d9af36-4a09-474b-9547-54ddd6f6f972",
     "regions": {
      "946b3b58-eeb3-45e1-a771-1f7f723bce21": {
       "attrs": {
        "height": 0.8,
        "width": 0.8,
        "x": 0.1,
        "y": 0.1
       },
       "content": {
        "cell": "a6f3bc3e-2d7a-4d5e-a6d8-5565ce04ec8c",
        "part": "whole"
       },
       "id": "946b3b58-eeb3-45e1-a771-1f7f723bce21"
      }
     }
    },
    "08986239-a123-48fb-99b2-54f7eab04055": {
     "id": "08986239-a123-48fb-99b2-54f7eab04055",
     "prev": "9ebfa3f2-f213-4e85-bd12-35767f3326ea",
     "regions": {
      "8be86881-9da3-4d16-987b-b880ae52da33": {
       "attrs": {
        "height": 0.8,
        "width": 0.8,
        "x": 0.1,
        "y": 0.1
       },
       "content": {
        "cell": "319ee13b-323e-4586-808d-c3f2b7d11ada",
        "part": "whole"
       },
       "id": "8be86881-9da3-4d16-987b-b880ae52da33"
      }
     }
    },
    "08f099ae-8ac5-4df6-9943-9617c47e5e8d": {
     "id": "08f099ae-8ac5-4df6-9943-9617c47e5e8d",
     "prev": "8bdc198f-7f0a-4626-a33a-0b50127fff85",
     "regions": {
      "7d8e84cb-4f4f-4297-bffc-52aca547a37a": {
       "attrs": {
        "height": 0.8,
        "width": 0.8,
        "x": 0.1,
        "y": 0.1
       },
       "content": {
        "cell": "7feaebda-d59c-4527-aaf7-d2ed60773ab4",
        "part": "whole"
       },
       "id": "7d8e84cb-4f4f-4297-bffc-52aca547a37a"
      }
     }
    },
    "101dfa7f-ad62-49ba-beb5-21a60cf93385": {
     "id": "101dfa7f-ad62-49ba-beb5-21a60cf93385",
     "prev": "f8999ff0-7a57-4a43-8f73-0fd7df6af09d",
     "regions": {
      "b4733fd5-fd0f-43c2-a821-55f93891e3ab": {
       "attrs": {
        "height": 0.8,
        "width": 0.8,
        "x": 0.1,
        "y": 0.1
       },
       "content": {
        "cell": "bc9b5857-9153-4a50-9e4b-0d3d5bf33747",
        "part": "whole"
       },
       "id": "b4733fd5-fd0f-43c2-a821-55f93891e3ab"
      }
     }
    },
    "12eae22e-a660-4851-9690-dee20e49e037": {
     "id": "12eae22e-a660-4851-9690-dee20e49e037",
     "prev": "46386ba7-4fe8-4977-ac09-8262ce0078c3",
     "regions": {
      "e6528efc-bf2e-41ce-9b82-acdf0db00fdb": {
       "attrs": {
        "height": 0.8,
        "width": 0.8,
        "x": 0.1,
        "y": 0.1
       },
       "content": {
        "cell": "91ecf0cf-6173-44b6-ad40-51ceee105207",
        "part": "whole"
       },
       "id": "e6528efc-bf2e-41ce-9b82-acdf0db00fdb"
      }
     }
    },
    "1a2e00ac-3b9c-4568-8071-16b465272424": {
     "id": "1a2e00ac-3b9c-4568-8071-16b465272424",
     "prev": "245dcbc7-561c-4708-b730-c6a7a12d422e",
     "regions": {
      "d1e382a5-4ab6-493d-a5ff-20c78139df78": {
       "attrs": {
        "height": 0.8,
        "width": 0.8,
        "x": 0.1,
        "y": 0.1
       },
       "content": {
        "cell": "d34d02fd-3ccc-436c-9303-06436cac1db2",
        "part": "whole"
       },
       "id": "d1e382a5-4ab6-493d-a5ff-20c78139df78"
      }
     }
    },
    "1e039428-4dd2-4cb1-b2f9-cf81aa3c5c94": {
     "id": "1e039428-4dd2-4cb1-b2f9-cf81aa3c5c94",
     "prev": "d83e62b5-d8b1-4b4a-bded-c5158d8d80d7",
     "regions": {
      "e748e7f2-a57a-45ee-a92a-d8a0c76b9835": {
       "attrs": {
        "height": 0.8,
        "width": 0.8,
        "x": 0.1,
        "y": 0.1
       },
       "content": {
        "cell": "08856479-c898-4f10-bbc4-6d799ccf8e6c",
        "part": "whole"
       },
       "id": "e748e7f2-a57a-45ee-a92a-d8a0c76b9835"
      }
     }
    },
    "20c29523-2a37-4957-9f79-1117a87d9d30": {
     "id": "20c29523-2a37-4957-9f79-1117a87d9d30",
     "prev": "c097cb57-4f89-4936-bc3e-e9fba767c58f",
     "regions": {
      "682cdd75-0789-4949-ba59-1452b3571654": {
       "attrs": {
        "height": 0.8,
        "width": 0.8,
        "x": 0.1,
        "y": 0.1
       },
       "content": {
        "cell": "11526e0c-b284-40b7-b238-4e8d9d7c24a1",
        "part": "whole"
       },
       "id": "682cdd75-0789-4949-ba59-1452b3571654"
      }
     }
    },
    "245dcbc7-561c-4708-b730-c6a7a12d422e": {
     "id": "245dcbc7-561c-4708-b730-c6a7a12d422e",
     "prev": "12eae22e-a660-4851-9690-dee20e49e037",
     "regions": {
      "4324f193-fa6b-4366-9998-3f998d5f8c79": {
       "attrs": {
        "height": 0.8,
        "width": 0.8,
        "x": 0.1,
        "y": 0.1
       },
       "content": {
        "cell": "973c702e-013c-4538-9914-c0e1e1805106",
        "part": "whole"
       },
       "id": "4324f193-fa6b-4366-9998-3f998d5f8c79"
      }
     }
    },
    "2507f9a5-a44b-48bb-999b-03943c7678ef": {
     "id": "2507f9a5-a44b-48bb-999b-03943c7678ef",
     "prev": "009901b2-59e6-4d27-a353-7650abb41597",
     "regions": {
      "6b13006a-e89b-414a-b669-8a08148f0447": {
       "attrs": {
        "height": 0.8,
        "width": 0.8,
        "x": 0.1,
        "y": 0.1
       },
       "content": {
        "cell": "e5aaed26-69fe-4ef1-9f17-27b00954ed07",
        "part": "whole"
       },
       "id": "6b13006a-e89b-414a-b669-8a08148f0447"
      }
     }
    },
    "25153924-d5c8-4558-abc0-35b016f1981e": {
     "id": "25153924-d5c8-4558-abc0-35b016f1981e",
     "prev": "71b47bbf-d110-4b14-8dbd-70bad145130d",
     "regions": {
      "84384056-95f1-48c2-8cce-cc6e8792380b": {
       "attrs": {
        "height": 0.8,
        "width": 0.8,
        "x": 0.1,
        "y": 0.1
       },
       "content": {
        "cell": "25c14718-653f-4236-9257-298fff818e63",
        "part": "whole"
       },
       "id": "84384056-95f1-48c2-8cce-cc6e8792380b"
      }
     }
    },
    "28243abb-528f-4c63-be06-7f4fa1c83788": {
     "id": "28243abb-528f-4c63-be06-7f4fa1c83788",
     "prev": "cde5d2da-580d-4bef-a933-ca631959292a",
     "regions": {
      "77a34266-5753-408d-9b15-d2bc2fd62114": {
       "attrs": {
        "height": 0.8,
        "width": 0.8,
        "x": 0.1,
        "y": 0.1
       },
       "content": {
        "cell": "916aecbb-1729-4141-aff4-86e35617db61",
        "part": "whole"
       },
       "id": "77a34266-5753-408d-9b15-d2bc2fd62114"
      }
     }
    },
    "312d5b9d-e81d-4d2c-a670-d2cef1c568b0": {
     "id": "312d5b9d-e81d-4d2c-a670-d2cef1c568b0",
     "prev": "684a3853-78c9-404f-b08c-59523c0c4146",
     "regions": {
      "954eb30e-7cbe-4189-abcf-808a2885273a": {
       "attrs": {
        "height": 0.8,
        "width": 0.8,
        "x": 0.1,
        "y": 0.1
       },
       "content": {
        "cell": "4e71b055-e9f8-4f37-891d-922b353c9dfa",
        "part": "whole"
       },
       "id": "954eb30e-7cbe-4189-abcf-808a2885273a"
      }
     }
    },
    "32d9af36-4a09-474b-9547-54ddd6f6f972": {
     "id": "32d9af36-4a09-474b-9547-54ddd6f6f972",
     "prev": "2507f9a5-a44b-48bb-999b-03943c7678ef",
     "regions": {
      "eeb12aa5-ae3e-400b-8414-458f265095ee": {
       "attrs": {
        "height": 0.8,
        "width": 0.8,
        "x": 0.1,
        "y": 0.1
       },
       "content": {
        "cell": "56f7e6e3-bdd3-44d1-8d81-4ccd02917d40",
        "part": "whole"
       },
       "id": "eeb12aa5-ae3e-400b-8414-458f265095ee"
      }
     }
    },
    "447e6640-c221-4283-a45c-65f1d6372b30": {
     "id": "447e6640-c221-4283-a45c-65f1d6372b30",
     "prev": "e1abd0b9-6816-4ea1-aa29-8f0e4f5c61a9",
     "regions": {
      "8699c3e6-6a0d-473e-88dc-da2d1f4e000b": {
       "attrs": {
        "height": 0.8,
        "width": 0.8,
        "x": 0.1,
        "y": 0.1
       },
       "content": {
        "cell": "280e41bb-4797-4b01-a344-87fdfa69933c",
        "part": "whole"
       },
       "id": "8699c3e6-6a0d-473e-88dc-da2d1f4e000b"
      }
     }
    },
    "46386ba7-4fe8-4977-ac09-8262ce0078c3": {
     "id": "46386ba7-4fe8-4977-ac09-8262ce0078c3",
     "prev": "1e039428-4dd2-4cb1-b2f9-cf81aa3c5c94",
     "regions": {
      "2ba107c7-ad9d-4d86-842a-379b96efead7": {
       "attrs": {
        "height": 0.8,
        "width": 0.8,
        "x": 0.1,
        "y": 0.1
       },
       "content": {
        "cell": "9006c807-2138-48a5-a730-0388711434dd",
        "part": "whole"
       },
       "id": "2ba107c7-ad9d-4d86-842a-379b96efead7"
      }
     }
    },
    "4b62f011-476a-4eeb-8140-4d11305f1b72": {
     "id": "4b62f011-476a-4eeb-8140-4d11305f1b72",
     "prev": "880f52b5-6bab-4166-9e8c-4fd2947da928",
     "regions": {
      "71bee47e-d343-428d-96ed-f96fe9098472": {
       "attrs": {
        "height": 0.8,
        "width": 0.8,
        "x": 0.1,
        "y": 0.1
       },
       "content": {
        "cell": "e3ae1783-baeb-4e34-b276-d6bb0ac7190d",
        "part": "whole"
       },
       "id": "71bee47e-d343-428d-96ed-f96fe9098472"
      }
     }
    },
    "520721c2-86ca-4325-a628-2fd2bc65e13d": {
     "id": "520721c2-86ca-4325-a628-2fd2bc65e13d",
     "prev": "d6e423ae-459a-4731-aa13-75a26276bf57",
     "regions": {
      "19f17bc0-7909-4dba-b46a-5e8ee67312fe": {
       "attrs": {
        "height": 0.8,
        "width": 0.8,
        "x": 0.1,
        "y": 0.1
       },
       "content": {
        "cell": "aacd3b2b-dac9-41c9-8be3-685c49f0c9c8",
        "part": "whole"
       },
       "id": "19f17bc0-7909-4dba-b46a-5e8ee67312fe"
      }
     }
    },
    "56ed05bf-342a-4b85-bdb6-ca06a854e0c3": {
     "id": "56ed05bf-342a-4b85-bdb6-ca06a854e0c3",
     "prev": "61c75e6a-0a14-48a4-aac9-0c13f99df117",
     "regions": {
      "85708ae1-2e95-4a78-84ee-d38e0c0e5931": {
       "attrs": {
        "height": 0.8,
        "width": 0.8,
        "x": 0.1,
        "y": 0.1
       },
       "content": {
        "cell": "331dca0f-b912-45a9-b835-88d28830a50f",
        "part": "whole"
       },
       "id": "85708ae1-2e95-4a78-84ee-d38e0c0e5931"
      }
     }
    },
    "58126302-e9c3-41fa-8aed-79a5d0935848": {
     "id": "58126302-e9c3-41fa-8aed-79a5d0935848",
     "prev": "de305e68-35cc-44de-aeca-3798942e511e",
     "regions": {
      "7ed729d5-269e-4fd7-9071-93c7e564944f": {
       "attrs": {
        "height": 0.8,
        "width": 0.8,
        "x": 0.1,
        "y": 0.1
       },
       "content": {
        "cell": "df58b2cb-bb3a-4c89-ad8b-40eea0523b5b",
        "part": "whole"
       },
       "id": "7ed729d5-269e-4fd7-9071-93c7e564944f"
      }
     }
    },
    "591d44f0-7607-4905-a22a-a77ad25c7560": {
     "id": "591d44f0-7607-4905-a22a-a77ad25c7560",
     "prev": "681f722e-7ec9-438f-9399-88a37b87a2eb",
     "regions": {
      "7f4c2b5c-01e6-44c9-9a18-bd5958122c08": {
       "attrs": {
        "height": 0.8,
        "width": 0.8,
        "x": 0.1,
        "y": 0.1
       },
       "content": {
        "cell": "591c24dc-3cd8-4996-b8cc-8c0d237c5d8e",
        "part": "whole"
       },
       "id": "7f4c2b5c-01e6-44c9-9a18-bd5958122c08"
      }
     }
    },
    "5c2516a8-df73-4e24-9389-c0103d1551db": {
     "id": "5c2516a8-df73-4e24-9389-c0103d1551db",
     "prev": "0305c48d-1c28-4abb-b940-3d08ae8a4cb9",
     "regions": {
      "34854d31-72ea-498a-a48e-e97946a010b5": {
       "attrs": {
        "height": 0.8,
        "width": 0.8,
        "x": 0.1,
        "y": 0.1
       },
       "content": {
        "cell": "7124e344-702d-4320-a723-ba7c8a9c55ba",
        "part": "whole"
       },
       "id": "34854d31-72ea-498a-a48e-e97946a010b5"
      }
     }
    },
    "61c75e6a-0a14-48a4-aac9-0c13f99df117": {
     "id": "61c75e6a-0a14-48a4-aac9-0c13f99df117",
     "prev": "5c2516a8-df73-4e24-9389-c0103d1551db",
     "regions": {
      "51e5c3a5-0258-4947-8068-0017362cbdf6": {
       "attrs": {
        "height": 0.8,
        "width": 0.8,
        "x": 0.1,
        "y": 0.1
       },
       "content": {
        "cell": "2b60aab9-cafb-4601-87a3-7d3993337385",
        "part": "whole"
       },
       "id": "51e5c3a5-0258-4947-8068-0017362cbdf6"
      }
     }
    },
    "657d92fa-9d4d-4d63-9377-3b38b688804e": {
     "id": "657d92fa-9d4d-4d63-9377-3b38b688804e",
     "prev": "1a2e00ac-3b9c-4568-8071-16b465272424",
     "regions": {
      "221ffcda-454b-4935-9188-1f4ee5d27128": {
       "attrs": {
        "height": 0.8,
        "width": 0.8,
        "x": 0.1,
        "y": 0.1
       },
       "content": {
        "cell": "21bf834e-66e3-47f9-b756-c09fe70de8e9",
        "part": "whole"
       },
       "id": "221ffcda-454b-4935-9188-1f4ee5d27128"
      }
     }
    },
    "681f722e-7ec9-438f-9399-88a37b87a2eb": {
     "id": "681f722e-7ec9-438f-9399-88a37b87a2eb",
     "prev": "c3e19796-898c-48ad-95c1-646f79c373d7",
     "regions": {
      "16ff22fa-1ea8-4d97-bfa0-53c08060ddda": {
       "attrs": {
        "height": 0.8,
        "width": 0.8,
        "x": 0.1,
        "y": 0.1
       },
       "content": {
        "cell": "b4ffcc38-6d19-48fc-90dd-9b7397902d71",
        "part": "whole"
       },
       "id": "16ff22fa-1ea8-4d97-bfa0-53c08060ddda"
      }
     }
    },
    "684a3853-78c9-404f-b08c-59523c0c4146": {
     "id": "684a3853-78c9-404f-b08c-59523c0c4146",
     "prev": "f952a369-3dba-48ee-ac95-7dd1ada1fd92",
     "regions": {
      "a620aa34-64e5-4dcd-a8ef-653e512e5cde": {
       "attrs": {
        "height": 0.8,
        "width": 0.8,
        "x": 0.1,
        "y": 0.1
       },
       "content": {
        "cell": "363a6ac1-26f2-45e4-a301-403f2b77e47d",
        "part": "whole"
       },
       "id": "a620aa34-64e5-4dcd-a8ef-653e512e5cde"
      }
     }
    },
    "71b47bbf-d110-4b14-8dbd-70bad145130d": {
     "id": "71b47bbf-d110-4b14-8dbd-70bad145130d",
     "prev": "08f099ae-8ac5-4df6-9943-9617c47e5e8d",
     "regions": {
      "170a11ee-fc83-4e91-9c5b-02f79f0cec89": {
       "attrs": {
        "height": 0.8,
        "width": 0.8,
        "x": 0.1,
        "y": 0.1
       },
       "content": {
        "cell": "19a433e5-c78b-445a-a586-f5412d1d983f",
        "part": "whole"
       },
       "id": "170a11ee-fc83-4e91-9c5b-02f79f0cec89"
      }
     }
    },
    "723ea711-7dbf-4f73-af87-60beeeea5db1": {
     "id": "723ea711-7dbf-4f73-af87-60beeeea5db1",
     "prev": "01bd486d-1aa7-4dc9-8775-eb5d719a46cf",
     "regions": {
      "053d3fd7-4316-4971-97e1-edf0bff8f04c": {
       "attrs": {
        "height": 0.8,
        "width": 0.8,
        "x": 0.1,
        "y": 0.1
       },
       "content": {
        "cell": "1806d39a-00ad-4ed4-9efe-e87f1d2bbe90",
        "part": "whole"
       },
       "id": "053d3fd7-4316-4971-97e1-edf0bff8f04c"
      }
     }
    },
    "75038977-83b4-446f-a46f-4a60bd9c3e51": {
     "id": "75038977-83b4-446f-a46f-4a60bd9c3e51",
     "prev": "dc5e74cd-4ddd-4493-a068-a3148f946212",
     "regions": {
      "e5606aa8-1497-4bda-b833-f3afdb1ef54a": {
       "attrs": {
        "height": 0.8,
        "width": 0.8,
        "x": 0.1,
        "y": 0.1
       },
       "content": {
        "cell": "b5b5a505-bb5a-4561-aa1b-28948cbbc8b1",
        "part": "whole"
       },
       "id": "e5606aa8-1497-4bda-b833-f3afdb1ef54a"
      }
     }
    },
    "791f0ea1-ea1e-4ef0-8264-877c60e281a9": {
     "id": "791f0ea1-ea1e-4ef0-8264-877c60e281a9",
     "prev": "25153924-d5c8-4558-abc0-35b016f1981e",
     "regions": {
      "de957b96-2476-4c51-a3a4-40a03dee71de": {
       "attrs": {
        "height": 0.8,
        "width": 0.8,
        "x": 0.1,
        "y": 0.1
       },
       "content": {
        "cell": "cfac44e5-f7de-4283-884b-5797ebd3044c",
        "part": "whole"
       },
       "id": "de957b96-2476-4c51-a3a4-40a03dee71de"
      }
     }
    },
    "7ecf59f8-feac-4393-a766-72995279bb80": {
     "id": "7ecf59f8-feac-4393-a766-72995279bb80",
     "prev": "591d44f0-7607-4905-a22a-a77ad25c7560",
     "regions": {
      "422589a3-40c4-4810-a510-b28730d8b345": {
       "attrs": {
        "height": 0.8,
        "width": 0.8,
        "x": 0.1,
        "y": 0.1
       },
       "content": {
        "cell": "66367ae5-d970-4786-ae77-11353ad38250",
        "part": "whole"
       },
       "id": "422589a3-40c4-4810-a510-b28730d8b345"
      }
     }
    },
    "7f8f280f-ec4f-4205-838d-56f5763d22fc": {
     "id": "7f8f280f-ec4f-4205-838d-56f5763d22fc",
     "prev": "0628aa39-2f38-446b-b098-274800eeb137",
     "regions": {
      "af8cd57a-9277-4c64-bdc8-0df1e0b4e321": {
       "attrs": {
        "height": 0.8,
        "width": 0.8,
        "x": 0.1,
        "y": 0.1
       },
       "content": {
        "cell": "cb97bc0d-3db6-4cb2-9b23-3d5e8e477b72",
        "part": "whole"
       },
       "id": "af8cd57a-9277-4c64-bdc8-0df1e0b4e321"
      }
     }
    },
    "813b69a2-8d8d-46a1-b16e-687297418d5f": {
     "id": "813b69a2-8d8d-46a1-b16e-687297418d5f",
     "prev": "d9b7196f-01b8-4fa7-90b2-ad404e8b3141",
     "regions": {
      "56ee6148-04bf-4af2-98db-c87c178b1dc0": {
       "attrs": {
        "height": 0.8,
        "width": 0.8,
        "x": 0.1,
        "y": 0.1
       },
       "content": {
        "cell": "6a3e387b-5566-4d1a-8c18-a4f031c82e36",
        "part": "whole"
       },
       "id": "56ee6148-04bf-4af2-98db-c87c178b1dc0"
      }
     }
    },
    "880f52b5-6bab-4166-9e8c-4fd2947da928": {
     "id": "880f52b5-6bab-4166-9e8c-4fd2947da928",
     "prev": "a931b4ae-6f1a-4c8e-919e-6e057a1892b0",
     "regions": {
      "4456c388-b212-4475-a8de-2748c082a478": {
       "attrs": {
        "height": 0.8,
        "width": 0.8,
        "x": 0.1,
        "y": 0.1
       },
       "content": {
        "cell": "5c619fae-3b14-4267-8339-cc6f27551451",
        "part": "whole"
       },
       "id": "4456c388-b212-4475-a8de-2748c082a478"
      }
     }
    },
    "88e42642-6073-4db9-ba1a-f8d75a41c59e": {
     "id": "88e42642-6073-4db9-ba1a-f8d75a41c59e",
     "prev": "b03d5016-766c-4f81-b421-9a8a74b89625",
     "regions": {
      "0ae6d3d6-45c3-4913-b4eb-f382877ac0c1": {
       "attrs": {
        "height": 0.8,
        "width": 0.8,
        "x": 0.1,
        "y": 0.1
       },
       "content": {
        "cell": "d7ed6a2b-6736-4a9c-9241-8db9e1f1c399",
        "part": "whole"
       },
       "id": "0ae6d3d6-45c3-4913-b4eb-f382877ac0c1"
      }
     }
    },
    "893398dd-00bc-46a2-90e3-5bba9411e227": {
     "id": "893398dd-00bc-46a2-90e3-5bba9411e227",
     "prev": "eb8372ae-a257-4cc5-a1f1-a3cbf98c5c6b",
     "regions": {
      "0c6c14bc-e223-4d22-83bd-a877e66e5c5b": {
       "attrs": {
        "height": 0.8,
        "width": 0.8,
        "x": 0.1,
        "y": 0.1
       },
       "content": {
        "cell": "320f63e7-dcfb-4cd3-9743-687acc99ef7b",
        "part": "whole"
       },
       "id": "0c6c14bc-e223-4d22-83bd-a877e66e5c5b"
      }
     }
    },
    "8a86cb52-5962-427b-b443-476b2d41538e": {
     "id": "8a86cb52-5962-427b-b443-476b2d41538e",
     "prev": "ca40cf64-3006-4476-a65b-fd17429e0769",
     "regions": {
      "28210a26-20df-40ec-87d7-156531503210": {
       "attrs": {
        "height": 0.8,
        "width": 0.8,
        "x": 0.1,
        "y": 0.1
       },
       "content": {
        "cell": "b82b4728-1b2b-4482-88b4-552e81d5ddd4",
        "part": "whole"
       },
       "id": "28210a26-20df-40ec-87d7-156531503210"
      }
     }
    },
    "8bdc198f-7f0a-4626-a33a-0b50127fff85": {
     "id": "8bdc198f-7f0a-4626-a33a-0b50127fff85",
     "prev": "58126302-e9c3-41fa-8aed-79a5d0935848",
     "regions": {
      "2829ed00-0961-4819-ad95-a4e84368aacc": {
       "attrs": {
        "height": 0.8,
        "width": 0.8,
        "x": 0.1,
        "y": 0.1
       },
       "content": {
        "cell": "4be288ae-13be-4e9e-b923-c398cfe76c56",
        "part": "whole"
       },
       "id": "2829ed00-0961-4819-ad95-a4e84368aacc"
      }
     }
    },
    "9906ff6f-1156-4ebf-b530-a20523f429f7": {
     "id": "9906ff6f-1156-4ebf-b530-a20523f429f7",
     "prev": "be04c27f-ce4a-48ad-960b-4868276e983e",
     "regions": {
      "14e3b7b5-c53c-441e-914a-f347b70bb1ae": {
       "attrs": {
        "height": 0.8,
        "width": 0.8,
        "x": 0.1,
        "y": 0.1
       },
       "content": {
        "cell": "8a432101-98d3-4234-9983-01d183f94622",
        "part": "whole"
       },
       "id": "14e3b7b5-c53c-441e-914a-f347b70bb1ae"
      }
     }
    },
    "9d0bc234-6d01-467f-abf4-5a302888a105": {
     "id": "9d0bc234-6d01-467f-abf4-5a302888a105",
     "prev": "e48fe5d6-7d68-49ed-baa1-7ee8c0fe443b",
     "regions": {
      "7c39208b-e07d-4ed6-8438-9b9b9138b36f": {
       "attrs": {
        "height": 0.8,
        "width": 0.8,
        "x": 0.1,
        "y": 0.1
       },
       "content": {
        "cell": "766e819a-8729-4ec4-861d-6fbc75677bd8",
        "part": "whole"
       },
       "id": "7c39208b-e07d-4ed6-8438-9b9b9138b36f"
      }
     }
    },
    "9e8f69cc-66a0-4efa-a844-b8e6199e57fd": {
     "id": "9e8f69cc-66a0-4efa-a844-b8e6199e57fd",
     "prev": "8a86cb52-5962-427b-b443-476b2d41538e",
     "regions": {
      "b88b0fdf-0f32-451a-85d3-98830f8627fa": {
       "attrs": {
        "height": 0.8,
        "width": 0.8,
        "x": 0.1,
        "y": 0.1
       },
       "content": {
        "cell": "9167057c-f6a9-42be-a749-114a21149fb0",
        "part": "whole"
       },
       "id": "b88b0fdf-0f32-451a-85d3-98830f8627fa"
      }
     }
    },
    "9ebfa3f2-f213-4e85-bd12-35767f3326ea": {
     "id": "9ebfa3f2-f213-4e85-bd12-35767f3326ea",
     "prev": "9906ff6f-1156-4ebf-b530-a20523f429f7",
     "regions": {
      "e74dcb28-878f-40d6-8687-ff7841bfbb49": {
       "attrs": {
        "height": 0.8,
        "width": 0.8,
        "x": 0.1,
        "y": 0.1
       },
       "content": {
        "cell": "bd28d06b-8713-42fb-a081-357322d41970",
        "part": "whole"
       },
       "id": "e74dcb28-878f-40d6-8687-ff7841bfbb49"
      }
     }
    },
    "a484b706-f4a0-48f7-8629-20355cd74d49": {
     "id": "a484b706-f4a0-48f7-8629-20355cd74d49",
     "prev": "ccff47f6-bd66-4940-beb9-c624ed2d6596",
     "regions": {
      "f8345b54-e158-4380-ac1d-594e3f747f0c": {
       "attrs": {
        "height": 0.8,
        "width": 0.8,
        "x": 0.1,
        "y": 0.1
       },
       "content": {
        "cell": "5239cd53-bbf2-411f-95a8-66469a3a211e",
        "part": "whole"
       },
       "id": "f8345b54-e158-4380-ac1d-594e3f747f0c"
      }
     }
    },
    "a53b3c30-d478-4f61-b461-cb0ff4e51b3a": {
     "id": "a53b3c30-d478-4f61-b461-cb0ff4e51b3a",
     "prev": "e0af5c2d-dff7-4485-9ef0-742710a07854",
     "regions": {
      "c48d5a21-2e63-4aaf-b126-0abc9811c8fb": {
       "attrs": {
        "height": 0.8,
        "width": 0.8,
        "x": 0.1,
        "y": 0.1
       },
       "content": {
        "cell": "25973523-449f-487e-806a-43a0d1267709",
        "part": "whole"
       },
       "id": "c48d5a21-2e63-4aaf-b126-0abc9811c8fb"
      }
     }
    },
    "a7fb055d-6ac7-4f61-b2f4-2bea806994d0": {
     "id": "a7fb055d-6ac7-4f61-b2f4-2bea806994d0",
     "prev": "b64618d9-83ae-4cc1-90e4-d60a502fc4ea",
     "regions": {
      "a70411a2-b55d-4e99-8c8a-2b145cef4c54": {
       "attrs": {
        "height": 0.8,
        "width": 0.8,
        "x": 0.1,
        "y": 0.1
       },
       "content": {
        "cell": "ea17ccb8-e6b9-4974-8b81-b3b1dc858840",
        "part": "whole"
       },
       "id": "a70411a2-b55d-4e99-8c8a-2b145cef4c54"
      }
     }
    },
    "a85a2687-e4c7-4673-ad58-b9e319115b43": {
     "id": "a85a2687-e4c7-4673-ad58-b9e319115b43",
     "prev": "d2a62dc1-a4c1-4364-842b-fa5c57ecbe39",
     "regions": {
      "830b770e-d404-48cb-aa5e-d3a91d56166f": {
       "attrs": {
        "height": 0.8,
        "width": 0.8,
        "x": 0.1,
        "y": 0.1
       },
       "content": {
        "cell": "a3cd09fb-8183-4075-8a27-f25c433b94b6",
        "part": "whole"
       },
       "id": "830b770e-d404-48cb-aa5e-d3a91d56166f"
      }
     }
    },
    "a8ceab1f-2efc-4fe0-9eb6-63719be52a0f": {
     "id": "a8ceab1f-2efc-4fe0-9eb6-63719be52a0f",
     "prev": "7ecf59f8-feac-4393-a766-72995279bb80",
     "regions": {
      "95c3911b-c0b6-4cab-b6f9-4e0feb79aa0f": {
       "attrs": {
        "height": 0.8,
        "width": 0.8,
        "x": 0.1,
        "y": 0.1
       },
       "content": {
        "cell": "3ced528a-bb23-45f5-b74a-f2358baa6330",
        "part": "whole"
       },
       "id": "95c3911b-c0b6-4cab-b6f9-4e0feb79aa0f"
      }
     }
    },
    "a931b4ae-6f1a-4c8e-919e-6e057a1892b0": {
     "id": "a931b4ae-6f1a-4c8e-919e-6e057a1892b0",
     "prev": "56ed05bf-342a-4b85-bdb6-ca06a854e0c3",
     "regions": {
      "3598744b-4079-4917-a6ce-1faf207b93b0": {
       "attrs": {
        "height": 0.8,
        "width": 0.8,
        "x": 0.1,
        "y": 0.1
       },
       "content": {
        "cell": "2f192ed2-3168-4c5a-8fb6-f050101faf5c",
        "part": "whole"
       },
       "id": "3598744b-4079-4917-a6ce-1faf207b93b0"
      }
     }
    },
    "b03d5016-766c-4f81-b421-9a8a74b89625": {
     "id": "b03d5016-766c-4f81-b421-9a8a74b89625",
     "prev": "bf2088ee-c0f5-4071-afc5-32c4978b14e1",
     "regions": {
      "0416cd2e-a707-45bb-b86d-83989b599f08": {
       "attrs": {
        "height": 0.8,
        "width": 0.8,
        "x": 0.1,
        "y": 0.1
       },
       "content": {
        "cell": "a680cea6-7852-4bbd-8250-2e493925f64f",
        "part": "whole"
       },
       "id": "0416cd2e-a707-45bb-b86d-83989b599f08"
      }
     }
    },
    "b2094171-8aa7-4caf-96c7-471a67da3767": {
     "id": "b2094171-8aa7-4caf-96c7-471a67da3767",
     "prev": "20c29523-2a37-4957-9f79-1117a87d9d30",
     "regions": {
      "4615c3e5-e690-423f-b357-44b35be3ec37": {
       "attrs": {
        "height": 0.8,
        "width": 0.8,
        "x": 0.1,
        "y": 0.1
       },
       "content": {
        "cell": "c27d312e-bd50-47d3-875c-791e9c9bb967",
        "part": "whole"
       },
       "id": "4615c3e5-e690-423f-b357-44b35be3ec37"
      }
     }
    },
    "b64618d9-83ae-4cc1-90e4-d60a502fc4ea": {
     "id": "b64618d9-83ae-4cc1-90e4-d60a502fc4ea",
     "prev": "e147dd4f-37f0-4bb7-bef8-046cee2468ae",
     "regions": {
      "14b3a17b-9628-4f2f-b467-57863a940609": {
       "attrs": {
        "height": 0.8,
        "width": 0.8,
        "x": 0.1,
        "y": 0.1
       },
       "content": {
        "cell": "1bc91444-ffae-4269-b5f9-711f96de0d57",
        "part": "whole"
       },
       "id": "14b3a17b-9628-4f2f-b467-57863a940609"
      }
     }
    },
    "be04c27f-ce4a-48ad-960b-4868276e983e": {
     "id": "be04c27f-ce4a-48ad-960b-4868276e983e",
     "prev": null,
     "regions": {
      "b69931a1-a510-47cb-abf4-0bc90293175d": {
       "attrs": {
        "height": 0.8,
        "width": 0.8,
        "x": 0.1,
        "y": 0.1
       },
       "content": {
        "cell": "4295723e-59b8-44d8-a870-00aa9b45a350",
        "part": "whole"
       },
       "id": "b69931a1-a510-47cb-abf4-0bc90293175d"
      }
     }
    },
    "bf2088ee-c0f5-4071-afc5-32c4978b14e1": {
     "id": "bf2088ee-c0f5-4071-afc5-32c4978b14e1",
     "prev": "fe026d53-1213-4165-99c5-4962c37f256e",
     "regions": {
      "51eb91dc-4238-4094-8f9f-a6efcc3d564e": {
       "attrs": {
        "height": 0.8,
        "width": 0.8,
        "x": 0.1,
        "y": 0.1
       },
       "content": {
        "cell": "84657a1e-3a10-4fdf-a8be-150d6f6f111f",
        "part": "whole"
       },
       "id": "51eb91dc-4238-4094-8f9f-a6efcc3d564e"
      }
     }
    },
    "c097cb57-4f89-4936-bc3e-e9fba767c58f": {
     "id": "c097cb57-4f89-4936-bc3e-e9fba767c58f",
     "prev": "c9384ea4-7d14-4fe2-a39d-7488bd132bbe",
     "regions": {
      "a5a76900-7c80-4771-bcf5-4523ed08ff11": {
       "attrs": {
        "height": 0.8,
        "width": 0.8,
        "x": 0.1,
        "y": 0.1
       },
       "content": {
        "cell": "99f64c24-3e76-4749-b8b0-9750f0fcf242",
        "part": "whole"
       },
       "id": "a5a76900-7c80-4771-bcf5-4523ed08ff11"
      }
     }
    },
    "c3e19796-898c-48ad-95c1-646f79c373d7": {
     "id": "c3e19796-898c-48ad-95c1-646f79c373d7",
     "prev": "f629d8cb-2ab1-4e10-bb7e-761de131df4b",
     "regions": {
      "85b6ecf4-0c1e-40f4-aac4-fb9853718636": {
       "attrs": {
        "height": 0.8,
        "width": 0.8,
        "x": 0.1,
        "y": 0.1
       },
       "content": {
        "cell": "3827b1fc-eab1-4819-9873-7bdc776e2a65",
        "part": "whole"
       },
       "id": "85b6ecf4-0c1e-40f4-aac4-fb9853718636"
      }
     }
    },
    "c61a0a48-32ba-4ece-b948-960152248af7": {
     "id": "c61a0a48-32ba-4ece-b948-960152248af7",
     "prev": "eb4e3cef-563b-425f-8c5f-bc14463a9643",
     "regions": {
      "7f412b36-0ff7-4b4c-97dd-168f26f7ce7d": {
       "attrs": {
        "height": 0.8,
        "width": 0.8,
        "x": 0.1,
        "y": 0.1
       },
       "content": {
        "cell": "bc6f15f4-f9ee-4b4b-89ec-be612f35d946",
        "part": "whole"
       },
       "id": "7f412b36-0ff7-4b4c-97dd-168f26f7ce7d"
      }
     }
    },
    "c9384ea4-7d14-4fe2-a39d-7488bd132bbe": {
     "id": "c9384ea4-7d14-4fe2-a39d-7488bd132bbe",
     "prev": "447e6640-c221-4283-a45c-65f1d6372b30",
     "regions": {
      "02d7a179-61d7-4aa9-8319-1eb4cac4be22": {
       "attrs": {
        "height": 0.8,
        "width": 0.8,
        "x": 0.1,
        "y": 0.1
       },
       "content": {
        "cell": "49b49492-9fc1-4053-bede-49e1a820f941",
        "part": "whole"
       },
       "id": "02d7a179-61d7-4aa9-8319-1eb4cac4be22"
      }
     }
    },
    "ca40cf64-3006-4476-a65b-fd17429e0769": {
     "id": "ca40cf64-3006-4476-a65b-fd17429e0769",
     "prev": "9d0bc234-6d01-467f-abf4-5a302888a105",
     "regions": {
      "e07b1044-4e22-48fb-b400-8c399f2fd2c7": {
       "attrs": {
        "height": 0.8,
        "width": 0.8,
        "x": 0.1,
        "y": 0.1
       },
       "content": {
        "cell": "4a88a060-1e71-4138-b880-c1224d353471",
        "part": "whole"
       },
       "id": "e07b1044-4e22-48fb-b400-8c399f2fd2c7"
      }
     }
    },
    "ca850734-5595-4e24-a62d-d26652ff7700": {
     "id": "ca850734-5595-4e24-a62d-d26652ff7700",
     "prev": "9e8f69cc-66a0-4efa-a844-b8e6199e57fd",
     "regions": {
      "8431bb55-eecd-4176-8e97-1624b2b88d3f": {
       "attrs": {
        "height": 0.8,
        "width": 0.8,
        "x": 0.1,
        "y": 0.1
       },
       "content": {
        "cell": "dda51c7b-3699-4942-bd43-a097a6d82818",
        "part": "whole"
       },
       "id": "8431bb55-eecd-4176-8e97-1624b2b88d3f"
      }
     }
    },
    "ccff47f6-bd66-4940-beb9-c624ed2d6596": {
     "id": "ccff47f6-bd66-4940-beb9-c624ed2d6596",
     "prev": "101dfa7f-ad62-49ba-beb5-21a60cf93385",
     "regions": {
      "158ae557-f717-4e77-be47-cc6121f31436": {
       "attrs": {
        "height": 0.8,
        "width": 0.8,
        "x": 0.1,
        "y": 0.1
       },
       "content": {
        "cell": "9ee1a885-cbe7-43e9-a59e-e700b071d8a9",
        "part": "whole"
       },
       "id": "158ae557-f717-4e77-be47-cc6121f31436"
      }
     }
    },
    "cde5d2da-580d-4bef-a933-ca631959292a": {
     "id": "cde5d2da-580d-4bef-a933-ca631959292a",
     "prev": "b2094171-8aa7-4caf-96c7-471a67da3767",
     "regions": {
      "eb9c4edf-a347-4025-acce-d8c5a6be3207": {
       "attrs": {
        "height": 0.8,
        "width": 0.8,
        "x": 0.1,
        "y": 0.1
       },
       "content": {
        "cell": "f9ef7428-fd39-4364-bf24-2888a677d80f",
        "part": "whole"
       },
       "id": "eb9c4edf-a347-4025-acce-d8c5a6be3207"
      }
     }
    },
    "d2a62dc1-a4c1-4364-842b-fa5c57ecbe39": {
     "id": "d2a62dc1-a4c1-4364-842b-fa5c57ecbe39",
     "prev": "4b62f011-476a-4eeb-8140-4d11305f1b72",
     "regions": {
      "7d0c4369-f1c2-4f93-a92f-e79bfccf5b0c": {
       "attrs": {
        "height": 0.8,
        "width": 0.8,
        "x": 0.1,
        "y": 0.1
       },
       "content": {
        "cell": "ab777bda-d361-4726-8f67-e3c77935f261",
        "part": "whole"
       },
       "id": "7d0c4369-f1c2-4f93-a92f-e79bfccf5b0c"
      }
     }
    },
    "d386fa4f-9682-4034-8098-9c57a8f779ce": {
     "id": "d386fa4f-9682-4034-8098-9c57a8f779ce",
     "prev": "791f0ea1-ea1e-4ef0-8264-877c60e281a9",
     "regions": {
      "522938a0-13d2-4be3-a3c7-6e7ee1371799": {
       "attrs": {
        "height": 0.8,
        "width": 0.8,
        "x": 0.1,
        "y": 0.1
       },
       "content": {
        "cell": "ed943693-94f2-4341-b193-f45bec1dfaf0",
        "part": "whole"
       },
       "id": "522938a0-13d2-4be3-a3c7-6e7ee1371799"
      }
     }
    },
    "d487d505-639c-45c6-9724-648e27b3d83f": {
     "id": "d487d505-639c-45c6-9724-648e27b3d83f",
     "prev": "a7fb055d-6ac7-4f61-b2f4-2bea806994d0",
     "regions": {
      "2f08e8c3-4264-481d-a519-91d34a1d4121": {
       "attrs": {
        "height": 0.8,
        "width": 0.8,
        "x": 0.1,
        "y": 0.1
       },
       "content": {
        "cell": "b51d43ef-4733-4226-ba4d-d521c10c634a",
        "part": "whole"
       },
       "id": "2f08e8c3-4264-481d-a519-91d34a1d4121"
      }
     }
    },
    "d6e423ae-459a-4731-aa13-75a26276bf57": {
     "id": "d6e423ae-459a-4731-aa13-75a26276bf57",
     "prev": "657d92fa-9d4d-4d63-9377-3b38b688804e",
     "regions": {
      "fc3c6a7f-658a-4a76-8c28-f0382e658655": {
       "attrs": {
        "height": 0.8,
        "width": 0.8,
        "x": 0.1,
        "y": 0.1
       },
       "content": {
        "cell": "ea442291-9768-4a4b-900c-9abfec461585",
        "part": "whole"
       },
       "id": "fc3c6a7f-658a-4a76-8c28-f0382e658655"
      }
     }
    },
    "d83e62b5-d8b1-4b4a-bded-c5158d8d80d7": {
     "id": "d83e62b5-d8b1-4b4a-bded-c5158d8d80d7",
     "prev": "a53b3c30-d478-4f61-b461-cb0ff4e51b3a",
     "regions": {
      "4ed360e8-b9e9-4612-aba6-eeb2e3cd6d2a": {
       "attrs": {
        "height": 0.8,
        "width": 0.8,
        "x": 0.1,
        "y": 0.1
       },
       "content": {
        "cell": "eb334425-f41b-4ea5-9d7c-af69fe298b01",
        "part": "whole"
       },
       "id": "4ed360e8-b9e9-4612-aba6-eeb2e3cd6d2a"
      }
     }
    },
    "d9b7196f-01b8-4fa7-90b2-ad404e8b3141": {
     "id": "d9b7196f-01b8-4fa7-90b2-ad404e8b3141",
     "prev": "c61a0a48-32ba-4ece-b948-960152248af7",
     "regions": {
      "88d64df9-187e-4681-9d5d-f0d7b5be754f": {
       "attrs": {
        "height": 0.8,
        "width": 0.8,
        "x": 0.1,
        "y": 0.1
       },
       "content": {
        "cell": "02fbc30e-ff47-4444-b584-3116fb9c91f3",
        "part": "whole"
       },
       "id": "88d64df9-187e-4681-9d5d-f0d7b5be754f"
      }
     }
    },
    "db2ba24d-7651-4d5f-b1c2-c09fa54e5a2b": {
     "id": "db2ba24d-7651-4d5f-b1c2-c09fa54e5a2b",
     "prev": "28243abb-528f-4c63-be06-7f4fa1c83788",
     "regions": {
      "05edf2d4-58fa-4249-b07f-e2fb67f438cf": {
       "attrs": {
        "height": 0.8,
        "width": 0.8,
        "x": 0.1,
        "y": 0.1
       },
       "content": {
        "cell": "9d14ccdd-904f-471c-9640-208951d9a82c",
        "part": "whole"
       },
       "id": "05edf2d4-58fa-4249-b07f-e2fb67f438cf"
      }
     }
    },
    "dc5e74cd-4ddd-4493-a068-a3148f946212": {
     "id": "dc5e74cd-4ddd-4493-a068-a3148f946212",
     "prev": "7f8f280f-ec4f-4205-838d-56f5763d22fc",
     "regions": {
      "d3cfbfc7-7d3d-4724-852d-e23d904707a0": {
       "attrs": {
        "height": 0.8,
        "width": 0.8,
        "x": 0.1,
        "y": 0.1
       },
       "content": {
        "cell": "dbb90639-cd69-485d-8e92-adb91574cfa1",
        "part": "whole"
       },
       "id": "d3cfbfc7-7d3d-4724-852d-e23d904707a0"
      }
     }
    },
    "de305e68-35cc-44de-aeca-3798942e511e": {
     "id": "de305e68-35cc-44de-aeca-3798942e511e",
     "prev": "db2ba24d-7651-4d5f-b1c2-c09fa54e5a2b",
     "regions": {
      "6fadc552-dde2-4d1f-8963-fc4484bec9eb": {
       "attrs": {
        "height": 0.8,
        "width": 0.8,
        "x": 0.1,
        "y": 0.1
       },
       "content": {
        "cell": "97ce37a3-ccf0-40c3-8ecd-ada072851e2a",
        "part": "whole"
       },
       "id": "6fadc552-dde2-4d1f-8963-fc4484bec9eb"
      }
     }
    },
    "e0af5c2d-dff7-4485-9ef0-742710a07854": {
     "id": "e0af5c2d-dff7-4485-9ef0-742710a07854",
     "prev": "a484b706-f4a0-48f7-8629-20355cd74d49",
     "regions": {
      "4a17f57e-8c0e-4194-b605-d6fcd949e8f4": {
       "attrs": {
        "height": 0.8,
        "width": 0.8,
        "x": 0.1,
        "y": 0.1
       },
       "content": {
        "cell": "36d331c4-2f42-417a-9888-844c0953baa7",
        "part": "whole"
       },
       "id": "4a17f57e-8c0e-4194-b605-d6fcd949e8f4"
      }
     }
    },
    "e147dd4f-37f0-4bb7-bef8-046cee2468ae": {
     "id": "e147dd4f-37f0-4bb7-bef8-046cee2468ae",
     "prev": "a8ceab1f-2efc-4fe0-9eb6-63719be52a0f",
     "regions": {
      "5fd0da65-2097-40f2-96e6-ed9434e2cd94": {
       "attrs": {
        "height": 0.8,
        "width": 0.8,
        "x": 0.1,
        "y": 0.1
       },
       "content": {
        "cell": "19971c2f-90bf-4704-9070-e347b332dc56",
        "part": "whole"
       },
       "id": "5fd0da65-2097-40f2-96e6-ed9434e2cd94"
      }
     }
    },
    "e1abd0b9-6816-4ea1-aa29-8f0e4f5c61a9": {
     "id": "e1abd0b9-6816-4ea1-aa29-8f0e4f5c61a9",
     "prev": "723ea711-7dbf-4f73-af87-60beeeea5db1",
     "regions": {
      "06d9044a-e8f2-495c-8eb7-ffbda806c7af": {
       "attrs": {
        "height": 0.8,
        "width": 0.8,
        "x": 0.1,
        "y": 0.1
       },
       "content": {
        "cell": "6e5ce96c-9c60-410e-9e93-493751c209b4",
        "part": "whole"
       },
       "id": "06d9044a-e8f2-495c-8eb7-ffbda806c7af"
      }
     }
    },
    "e48fe5d6-7d68-49ed-baa1-7ee8c0fe443b": {
     "id": "e48fe5d6-7d68-49ed-baa1-7ee8c0fe443b",
     "prev": "893398dd-00bc-46a2-90e3-5bba9411e227",
     "regions": {
      "f4b017fb-72ae-4dad-885b-10cf9f5a4d3a": {
       "attrs": {
        "height": 0.8,
        "width": 0.8,
        "x": 0.1,
        "y": 0.1
       },
       "content": {
        "cell": "eb3eb105-8dad-413c-b49a-bf69049cafc3",
        "part": "whole"
       },
       "id": "f4b017fb-72ae-4dad-885b-10cf9f5a4d3a"
      }
     }
    },
    "eb4e3cef-563b-425f-8c5f-bc14463a9643": {
     "id": "eb4e3cef-563b-425f-8c5f-bc14463a9643",
     "prev": "08986239-a123-48fb-99b2-54f7eab04055",
     "regions": {
      "bdad09dd-68be-4f4c-8980-df7e9de59203": {
       "attrs": {
        "height": 0.8,
        "width": 0.8,
        "x": 0.1,
        "y": 0.1
       },
       "content": {
        "cell": "319ee13b-323e-4586-808d-c3f2b7d11ada",
        "part": "whole"
       },
       "id": "bdad09dd-68be-4f4c-8980-df7e9de59203"
      }
     }
    },
    "eb8372ae-a257-4cc5-a1f1-a3cbf98c5c6b": {
     "id": "eb8372ae-a257-4cc5-a1f1-a3cbf98c5c6b",
     "prev": "a85a2687-e4c7-4673-ad58-b9e319115b43",
     "regions": {
      "f81efb2d-66a2-4dc8-b911-d2ad3d776154": {
       "attrs": {
        "height": 0.8,
        "width": 0.8,
        "x": 0.1,
        "y": 0.1
       },
       "content": {
        "cell": "cd303964-10bd-409a-8a1c-ea394b2fc30b",
        "part": "whole"
       },
       "id": "f81efb2d-66a2-4dc8-b911-d2ad3d776154"
      }
     }
    },
    "ebe98d12-f28b-412c-8726-25f781a981fd": {
     "id": "ebe98d12-f28b-412c-8726-25f781a981fd",
     "prev": "813b69a2-8d8d-46a1-b16e-687297418d5f",
     "regions": {
      "1b57946c-c751-425c-9ff8-a4da07596d9d": {
       "attrs": {
        "height": 0.8,
        "width": 0.8,
        "x": 0.1,
        "y": 0.1
       },
       "content": {
        "cell": "9bd3ef9b-c8b4-4094-a758-191b4886c73a",
        "part": "whole"
       },
       "id": "1b57946c-c751-425c-9ff8-a4da07596d9d"
      }
     }
    },
    "f629d8cb-2ab1-4e10-bb7e-761de131df4b": {
     "id": "f629d8cb-2ab1-4e10-bb7e-761de131df4b",
     "prev": "520721c2-86ca-4325-a628-2fd2bc65e13d",
     "regions": {
      "ba68a3ea-642e-447a-b6e6-adf2f1ea191f": {
       "attrs": {
        "height": 0.8,
        "width": 0.8,
        "x": 0.1,
        "y": 0.1
       },
       "content": {
        "cell": "53ec18a9-930f-4518-85cc-0b0b0b50db20",
        "part": "whole"
       },
       "id": "ba68a3ea-642e-447a-b6e6-adf2f1ea191f"
      }
     }
    },
    "f8999ff0-7a57-4a43-8f73-0fd7df6af09d": {
     "id": "f8999ff0-7a57-4a43-8f73-0fd7df6af09d",
     "prev": "88e42642-6073-4db9-ba1a-f8d75a41c59e",
     "regions": {
      "eb612bc0-c2ca-4043-bb8b-c6025be55c49": {
       "attrs": {
        "height": 0.8,
        "width": 0.8,
        "x": 0.1,
        "y": 0.1
       },
       "content": {
        "cell": "aa5868a6-4cec-48d4-b8ea-919d203b901f",
        "part": "whole"
       },
       "id": "eb612bc0-c2ca-4043-bb8b-c6025be55c49"
      }
     }
    },
    "f952a369-3dba-48ee-ac95-7dd1ada1fd92": {
     "id": "f952a369-3dba-48ee-ac95-7dd1ada1fd92",
     "prev": "d386fa4f-9682-4034-8098-9c57a8f779ce",
     "regions": {
      "82e48c6f-c034-43a9-9bab-2191fe4a6a76": {
       "attrs": {
        "height": 0.8,
        "width": 0.8,
        "x": 0.1,
        "y": 0.1
       },
       "content": {
        "cell": "b9b4c37e-361f-4000-b1a6-5496b24a7748",
        "part": "whole"
       },
       "id": "82e48c6f-c034-43a9-9bab-2191fe4a6a76"
      }
     }
    },
    "fe026d53-1213-4165-99c5-4962c37f256e": {
     "id": "fe026d53-1213-4165-99c5-4962c37f256e",
     "prev": "ca850734-5595-4e24-a62d-d26652ff7700",
     "regions": {
      "cf3888da-9c86-4a7b-980e-ef96af9bcff1": {
       "attrs": {
        "height": 0.8,
        "width": 0.8,
        "x": 0.1,
        "y": 0.1
       },
       "content": {
        "cell": "65e7f578-b577-4f87-bd44-9471a0a8b50b",
        "part": "whole"
       },
       "id": "cf3888da-9c86-4a7b-980e-ef96af9bcff1"
      }
     }
    }
   },
   "themes": {}
  }
 },
 "nbformat": 4,
 "nbformat_minor": 2
}
